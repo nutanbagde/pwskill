{
 "cells": [
  {
   "cell_type": "markdown",
   "id": "b7f08cbb-813c-4239-9a90-118cd0747b11",
   "metadata": {},
   "source": [
    "Consider the below code to answer further questions:\n",
    "import numpy as np\n",
    "list_ = [ ‘1’ , ’2’ , ‘3’ , ‘4’ , ‘5’ ]\n",
    "array_list = np.array(object = list_)\n"
   ]
  },
  {
   "cell_type": "markdown",
   "id": "71e4dbf9-7a2f-4754-a38e-7dc80f1770f5",
   "metadata": {},
   "source": [
    "# Q1. Is there any difference in the data type of variables list_ and array_list? If there is then write a code to print the data types of both the variables.\n"
   ]
  },
  {
   "cell_type": "markdown",
   "id": "6a2f20c7-36f1-4644-9c79-2c4babdb0873",
   "metadata": {},
   "source": []
  },
  {
   "cell_type": "markdown",
   "id": "d60077f9-30e3-4ce2-8aa6-779771aaf90c",
   "metadata": {},
   "source": [
    "## Ans:-"
   ]
  },
  {
   "cell_type": "code",
   "execution_count": 1,
   "id": "8d18f4a7-0b65-4942-9875-bceff46f6b7f",
   "metadata": {},
   "outputs": [],
   "source": [
    "import numpy as np"
   ]
  },
  {
   "cell_type": "code",
   "execution_count": 2,
   "id": "c4160823-3c7f-440e-8bbc-8369f435cf45",
   "metadata": {},
   "outputs": [],
   "source": [
    "list_=['1','2','3','4','5']"
   ]
  },
  {
   "cell_type": "code",
   "execution_count": 3,
   "id": "0bf9938c-5542-4e60-acb0-39a7ca390be2",
   "metadata": {},
   "outputs": [],
   "source": [
    "array_list=np.array(object=list_)"
   ]
  },
  {
   "cell_type": "code",
   "execution_count": 4,
   "id": "fa1b94c7-ff87-4457-8468-954df98bf2e1",
   "metadata": {},
   "outputs": [
    {
     "data": {
      "text/plain": [
       "array(['1', '2', '3', '4', '5'], dtype='<U1')"
      ]
     },
     "execution_count": 4,
     "metadata": {},
     "output_type": "execute_result"
    }
   ],
   "source": [
    "array_list"
   ]
  },
  {
   "cell_type": "code",
   "execution_count": 9,
   "id": "786e7e65-0739-4f81-b143-4c0bd8a53a03",
   "metadata": {},
   "outputs": [
    {
     "data": {
      "text/plain": [
       "list"
      ]
     },
     "execution_count": 9,
     "metadata": {},
     "output_type": "execute_result"
    }
   ],
   "source": [
    "type(list_)"
   ]
  },
  {
   "cell_type": "code",
   "execution_count": 10,
   "id": "bdda192e-33f6-4632-b2e5-983d16c5672d",
   "metadata": {},
   "outputs": [
    {
     "data": {
      "text/plain": [
       "dtype('<U1')"
      ]
     },
     "execution_count": 10,
     "metadata": {},
     "output_type": "execute_result"
    }
   ],
   "source": [
    "array_list.dtype"
   ]
  },
  {
   "cell_type": "markdown",
   "id": "bb1b7192-071d-404b-a72b-7273780e1e73",
   "metadata": {},
   "source": [
    "---\n",
    "---"
   ]
  },
  {
   "cell_type": "markdown",
   "id": "6d69eb67-3139-4abd-a480-c83766182dd2",
   "metadata": {},
   "source": [
    "# Q2. Write a code to print the data type of each and every element of both the variables list_ and arra_list.\n"
   ]
  },
  {
   "cell_type": "markdown",
   "id": "817c6993-c435-4dcf-8fb9-9e6057b51fbd",
   "metadata": {},
   "source": [
    "## Ans:-"
   ]
  },
  {
   "cell_type": "code",
   "execution_count": 12,
   "id": "a004c477-4454-46d2-a59f-ae3371382a69",
   "metadata": {},
   "outputs": [
    {
     "name": "stdout",
     "output_type": "stream",
     "text": [
      "<class 'str'>\n",
      "<class 'str'>\n",
      "<class 'str'>\n",
      "<class 'str'>\n",
      "<class 'str'>\n"
     ]
    }
   ],
   "source": [
    "for i in list_:\n",
    "    print(type(i))\n"
   ]
  },
  {
   "cell_type": "code",
   "execution_count": 13,
   "id": "69c6db90-23b4-47bc-82cf-322f25e4f4e7",
   "metadata": {},
   "outputs": [
    {
     "name": "stdout",
     "output_type": "stream",
     "text": [
      "<U1\n",
      "<U1\n",
      "<U1\n",
      "<U1\n",
      "<U1\n"
     ]
    }
   ],
   "source": [
    "for i in array_list:\n",
    "    print(array_list.dtype)"
   ]
  },
  {
   "cell_type": "markdown",
   "id": "8a5f0a53-afc6-4b39-b3b9-a4dc43d441c4",
   "metadata": {},
   "source": [
    "---\n",
    "---"
   ]
  },
  {
   "cell_type": "markdown",
   "id": "27d99c3c-4815-4828-976c-0014c0034ba3",
   "metadata": {},
   "source": [
    "# Q3. Considering the following changes in the variable, array_list:\n",
    "\n",
    "array_list = np.array(object = list_, dtype = int)\n",
    "\n",
    "Will there be any difference in the data type of the elements present in both the variables, list_ and\n",
    "arra_list? If so then print the data types of each and every element present in both the variables, list_\n",
    "and arra_list.\n",
    "Consider the below code to answer further questions:\n",
    "\n",
    "import numpy as np\n",
    "\n",
    "num_list = [ [ 1 , 2 , 3 ] , [ 4 , 5 , 6 ] ]\n",
    "\n",
    "num_array = np.array(object = num_list)\n",
    "\n"
   ]
  },
  {
   "cell_type": "markdown",
   "id": "6ad9755a-e6c2-4e01-8ad6-a1defc981914",
   "metadata": {},
   "source": [
    "## Ans:-"
   ]
  },
  {
   "cell_type": "code",
   "execution_count": 14,
   "id": "4de20361-fa2a-4e80-b820-b7a0ec68a06d",
   "metadata": {},
   "outputs": [],
   "source": [
    "array_list = np.array(object = list_, dtype = int)"
   ]
  },
  {
   "cell_type": "code",
   "execution_count": 15,
   "id": "77dd09ea-f63f-4340-a93e-8a986cf8d9e9",
   "metadata": {},
   "outputs": [
    {
     "data": {
      "text/plain": [
       "array([1, 2, 3, 4, 5])"
      ]
     },
     "execution_count": 15,
     "metadata": {},
     "output_type": "execute_result"
    }
   ],
   "source": [
    "array_list"
   ]
  },
  {
   "cell_type": "code",
   "execution_count": 16,
   "id": "5e45cd0e-26e2-447b-a383-52b1805f1e5b",
   "metadata": {},
   "outputs": [
    {
     "data": {
      "text/plain": [
       "dtype('int32')"
      ]
     },
     "execution_count": 16,
     "metadata": {},
     "output_type": "execute_result"
    }
   ],
   "source": [
    "array_list.dtype"
   ]
  },
  {
   "cell_type": "code",
   "execution_count": 19,
   "id": "0201a8b3-e9a2-4791-b1f3-2ee17d4e92fd",
   "metadata": {},
   "outputs": [
    {
     "data": {
      "text/plain": [
       "list"
      ]
     },
     "execution_count": 19,
     "metadata": {},
     "output_type": "execute_result"
    }
   ],
   "source": [
    "type(list_)"
   ]
  },
  {
   "cell_type": "code",
   "execution_count": 20,
   "id": "7bb736bb-61f5-4007-b92f-d1de3d1af3f5",
   "metadata": {},
   "outputs": [
    {
     "name": "stdout",
     "output_type": "stream",
     "text": [
      "<class 'str'>\n",
      "<class 'str'>\n",
      "<class 'str'>\n",
      "<class 'str'>\n",
      "<class 'str'>\n"
     ]
    }
   ],
   "source": [
    "for i in list_:\n",
    "    print(type(i))"
   ]
  },
  {
   "cell_type": "code",
   "execution_count": 21,
   "id": "76a0354f-bc3b-452d-8e6c-50f974ce96fe",
   "metadata": {},
   "outputs": [
    {
     "name": "stdout",
     "output_type": "stream",
     "text": [
      "int32\n",
      "int32\n",
      "int32\n",
      "int32\n",
      "int32\n"
     ]
    }
   ],
   "source": [
    "for i in array_list:\n",
    "    print(array_list.dtype)"
   ]
  },
  {
   "cell_type": "markdown",
   "id": "3d41d2fe-d08f-482e-b8cd-cba53074ab13",
   "metadata": {},
   "source": [
    "---\n",
    "---"
   ]
  },
  {
   "cell_type": "markdown",
   "id": "47b39be2-25e1-4b20-8b5c-87518ce38312",
   "metadata": {},
   "source": [
    "# Q4. Write a code to find the following characteristics of variable, num_array:\n",
    "* (i) shape\n",
    "* (ii) size\n"
   ]
  },
  {
   "cell_type": "markdown",
   "id": "4b0779dc-d19d-4109-b977-f0ce56f3feb2",
   "metadata": {},
   "source": [
    "## Ans:-"
   ]
  },
  {
   "cell_type": "code",
   "execution_count": 22,
   "id": "ab989cf7-c7e3-4990-933b-9692440bfdea",
   "metadata": {},
   "outputs": [],
   "source": [
    "import numpy as np\r\n",
    "\r\n",
    "num_list = [ [ 1 , 2 , 3 ] , [ 4 , 5 , 6 ] ]\r\n",
    "\r\n",
    "num_array = np.array(object = num_list)"
   ]
  },
  {
   "cell_type": "code",
   "execution_count": 23,
   "id": "6af40fcb-efac-4f7d-ac4c-c61239a49764",
   "metadata": {},
   "outputs": [
    {
     "data": {
      "text/plain": [
       "array([[1, 2, 3],\n",
       "       [4, 5, 6]])"
      ]
     },
     "execution_count": 23,
     "metadata": {},
     "output_type": "execute_result"
    }
   ],
   "source": [
    "num_array"
   ]
  },
  {
   "cell_type": "code",
   "execution_count": 24,
   "id": "be007150-6485-4ac3-bf07-7510fff9f785",
   "metadata": {},
   "outputs": [
    {
     "data": {
      "text/plain": [
       "(2, 3)"
      ]
     },
     "execution_count": 24,
     "metadata": {},
     "output_type": "execute_result"
    }
   ],
   "source": [
    "num_array.shape"
   ]
  },
  {
   "cell_type": "code",
   "execution_count": 25,
   "id": "675fc6dc-211b-469e-a3eb-b0210e378e5a",
   "metadata": {},
   "outputs": [
    {
     "data": {
      "text/plain": [
       "6"
      ]
     },
     "execution_count": 25,
     "metadata": {},
     "output_type": "execute_result"
    }
   ],
   "source": [
    "num_array.size"
   ]
  },
  {
   "cell_type": "markdown",
   "id": "a221c432-5e97-40f5-a6db-4ca4e61f41a2",
   "metadata": {},
   "source": [
    "---\n",
    "---"
   ]
  },
  {
   "cell_type": "markdown",
   "id": "1082f390-55ed-4275-bd09-5b32188145ad",
   "metadata": {},
   "source": [
    "# Q5. Write a code to create numpy array of 3*3 matrix containing zeros only, using a numpy array creation function.\n",
    "[Hint: The size of the array will be 9 and the shape will be (3,3).]\n"
   ]
  },
  {
   "cell_type": "markdown",
   "id": "34ac93d6-9e96-4f65-a6aa-e42d12aede36",
   "metadata": {},
   "source": [
    "## Ans:-"
   ]
  },
  {
   "cell_type": "code",
   "execution_count": 28,
   "id": "6965dbbc-1bd5-4a9e-9ac2-3bfe0443cd83",
   "metadata": {},
   "outputs": [],
   "source": [
    "array1=np.zeros((3,3))"
   ]
  },
  {
   "cell_type": "code",
   "execution_count": 29,
   "id": "78e90ac1-e56a-4713-9885-207e55e9009c",
   "metadata": {},
   "outputs": [
    {
     "data": {
      "text/plain": [
       "array([[0., 0., 0.],\n",
       "       [0., 0., 0.],\n",
       "       [0., 0., 0.]])"
      ]
     },
     "execution_count": 29,
     "metadata": {},
     "output_type": "execute_result"
    }
   ],
   "source": [
    "array1"
   ]
  },
  {
   "cell_type": "markdown",
   "id": "785be074-7683-4903-b1e5-89bc3ae20c5e",
   "metadata": {},
   "source": [
    "---\n",
    "---"
   ]
  },
  {
   "cell_type": "markdown",
   "id": "4729734e-054d-4098-b680-5bf4b1eadbad",
   "metadata": {},
   "source": [
    "# Q6. Create an identity matrix of shape (5,5) using numpy functions?\n",
    "[Hint: An identity matrix is a matrix containing 1 diagonally and other elements will be 0.]"
   ]
  },
  {
   "cell_type": "markdown",
   "id": "557c58dd-18d9-437f-9682-ea340c43d535",
   "metadata": {},
   "source": [
    "## Ans:-"
   ]
  },
  {
   "cell_type": "code",
   "execution_count": 34,
   "id": "113b6966-8aca-4bb1-bb5c-188109d2488e",
   "metadata": {},
   "outputs": [
    {
     "data": {
      "text/plain": [
       "array([[1., 0., 0., 0., 0.],\n",
       "       [0., 1., 0., 0., 0.],\n",
       "       [0., 0., 1., 0., 0.],\n",
       "       [0., 0., 0., 1., 0.],\n",
       "       [0., 0., 0., 0., 1.]])"
      ]
     },
     "execution_count": 34,
     "metadata": {},
     "output_type": "execute_result"
    }
   ],
   "source": [
    "array2=np.identity(5)\n",
    "array2"
   ]
  },
  {
   "cell_type": "markdown",
   "id": "e41a412e-d9f6-487b-b2f8-4693e8d569c3",
   "metadata": {},
   "source": [
    "---\n",
    "---"
   ]
  },
  {
   "cell_type": "code",
   "execution_count": null,
   "id": "a9c2a065-a7a7-48ea-bc73-f40184d96c88",
   "metadata": {},
   "outputs": [],
   "source": []
  }
 ],
 "metadata": {
  "kernelspec": {
   "display_name": "Python 3 (ipykernel)",
   "language": "python",
   "name": "python3"
  },
  "language_info": {
   "codemirror_mode": {
    "name": "ipython",
    "version": 3
   },
   "file_extension": ".py",
   "mimetype": "text/x-python",
   "name": "python",
   "nbconvert_exporter": "python",
   "pygments_lexer": "ipython3",
   "version": "3.11.1"
  }
 },
 "nbformat": 4,
 "nbformat_minor": 5
}
