{
 "cells": [
  {
   "cell_type": "code",
   "execution_count": 2,
   "id": "695d03e3-5c35-4942-b690-dc2707ccd4ee",
   "metadata": {},
   "outputs": [],
   "source": [
    "import numpy as np"
   ]
  },
  {
   "cell_type": "markdown",
   "id": "86431beb-cb70-4c4f-b0c4-75631deb77d5",
   "metadata": {},
   "source": [
    "# Numpy- Array manupulation"
   ]
  },
  {
   "cell_type": "code",
   "execution_count": 13,
   "id": "18e0b5eb-a7b9-4885-a9e4-d22f5f53c364",
   "metadata": {},
   "outputs": [],
   "source": [
    "arr=np.random.randint(1,10,(4,4))"
   ]
  },
  {
   "cell_type": "code",
   "execution_count": 14,
   "id": "535956a7-5fb6-41a2-b6c6-c986e395b796",
   "metadata": {},
   "outputs": [
    {
     "data": {
      "text/plain": [
       "array([[1, 8, 6, 3],\n",
       "       [7, 8, 6, 3],\n",
       "       [3, 6, 5, 7],\n",
       "       [9, 8, 8, 7]])"
      ]
     },
     "execution_count": 14,
     "metadata": {},
     "output_type": "execute_result"
    }
   ],
   "source": [
    "arr"
   ]
  },
  {
   "cell_type": "code",
   "execution_count": 15,
   "id": "5295e081-36f2-47ae-9e5e-cc3f33a2a898",
   "metadata": {},
   "outputs": [
    {
     "data": {
      "text/plain": [
       "array([[1, 8],\n",
       "       [6, 3],\n",
       "       [7, 8],\n",
       "       [6, 3],\n",
       "       [3, 6],\n",
       "       [5, 7],\n",
       "       [9, 8],\n",
       "       [8, 7]])"
      ]
     },
     "execution_count": 15,
     "metadata": {},
     "output_type": "execute_result"
    }
   ],
   "source": [
    "arr.reshape(8,2)"
   ]
  },
  {
   "cell_type": "code",
   "execution_count": 17,
   "id": "a6b916c7-e75f-4735-8359-8faafecd4980",
   "metadata": {},
   "outputs": [
    {
     "data": {
      "text/plain": [
       "array([[1, 7, 3, 9],\n",
       "       [8, 8, 6, 8],\n",
       "       [6, 6, 5, 8],\n",
       "       [3, 3, 7, 7]])"
      ]
     },
     "execution_count": 17,
     "metadata": {},
     "output_type": "execute_result"
    }
   ],
   "source": [
    "arr.T"
   ]
  },
  {
   "cell_type": "markdown",
   "id": "573d97a5-611c-40b4-b6f0-bb9da364bbfd",
   "metadata": {},
   "source": [
    "# 1. convert into 1d "
   ]
  },
  {
   "cell_type": "code",
   "execution_count": 18,
   "id": "0976d341-010f-43a8-8ab9-f3f1a872de2e",
   "metadata": {},
   "outputs": [
    {
     "data": {
      "text/plain": [
       "array([1, 8, 6, 3, 7, 8, 6, 3, 3, 6, 5, 7, 9, 8, 8, 7])"
      ]
     },
     "execution_count": 18,
     "metadata": {},
     "output_type": "execute_result"
    }
   ],
   "source": [
    "arr.flatten()"
   ]
  },
  {
   "cell_type": "code",
   "execution_count": 20,
   "id": "0ab9acd1-89c1-449f-87ba-c92351cb8a41",
   "metadata": {
    "scrolled": true
   },
   "outputs": [
    {
     "data": {
      "text/plain": [
       "array([[1, 8, 6, 3],\n",
       "       [7, 8, 6, 3],\n",
       "       [3, 6, 5, 7],\n",
       "       [9, 8, 8, 7]])"
      ]
     },
     "execution_count": 20,
     "metadata": {},
     "output_type": "execute_result"
    }
   ],
   "source": [
    "arr"
   ]
  },
  {
   "cell_type": "markdown",
   "id": "87850b63-29d2-45f5-a06e-f488da3b413b",
   "metadata": {},
   "source": [
    "# 2. np.expand_dims(Name_Of_array, axis):\n",
    "* Expand the shape of an array.\n",
    "* converted from 1 dimension(lesser) to another dimension(higher)"
   ]
  },
  {
   "cell_type": "code",
   "execution_count": 24,
   "id": "65f8c0e5-b5a8-4163-ac82-82c0efd59751",
   "metadata": {
    "scrolled": true
   },
   "outputs": [
    {
     "data": {
      "text/plain": [
       "array([[[1, 8, 6, 3]],\n",
       "\n",
       "       [[7, 8, 6, 3]],\n",
       "\n",
       "       [[3, 6, 5, 7]],\n",
       "\n",
       "       [[9, 8, 8, 7]]])"
      ]
     },
     "execution_count": 24,
     "metadata": {},
     "output_type": "execute_result"
    }
   ],
   "source": [
    "np.expand_dims(arr, axis=1) # across the column"
   ]
  },
  {
   "cell_type": "code",
   "execution_count": 29,
   "id": "4974fcdf-410b-4e05-b955-fe085a7d6491",
   "metadata": {},
   "outputs": [
    {
     "data": {
      "text/plain": [
       "array([[[1, 8, 6, 3],\n",
       "        [7, 8, 6, 3],\n",
       "        [3, 6, 5, 7],\n",
       "        [9, 8, 8, 7]]])"
      ]
     },
     "execution_count": 29,
     "metadata": {},
     "output_type": "execute_result"
    }
   ],
   "source": [
    "np.expand_dims(arr, axis=0) # across the row & convverted to 2 Diamention to 3 diamention"
   ]
  },
  {
   "cell_type": "markdown",
   "id": "f421197b-d121-47b8-ac62-afa811195ecd",
   "metadata": {},
   "source": [
    "# 3. np.squeeze(Name_Of_array, axis):\n",
    "* converted from 1 dimension(higher) to another dimension (lesser)"
   ]
  },
  {
   "cell_type": "code",
   "execution_count": 33,
   "id": "c3af1263-2a93-4611-9d98-674f2a08c75e",
   "metadata": {},
   "outputs": [],
   "source": [
    "data= np.array([[1],[2],[3]])"
   ]
  },
  {
   "cell_type": "code",
   "execution_count": 34,
   "id": "fda18cea-c8e6-468a-a409-e8a2ce282fba",
   "metadata": {},
   "outputs": [
    {
     "data": {
      "text/plain": [
       "array([1, 2, 3])"
      ]
     },
     "execution_count": 34,
     "metadata": {},
     "output_type": "execute_result"
    }
   ],
   "source": [
    "np.squeeze(data, axis=1)"
   ]
  },
  {
   "cell_type": "markdown",
   "id": "339bb4a2-2db1-4645-b527-302e88f88084",
   "metadata": {},
   "source": [
    "# 4. np.repeat(Name_of_array, repeats, axis)\n",
    "* repeat elements of an array."
   ]
  },
  {
   "cell_type": "code",
   "execution_count": 41,
   "id": "45c8bbde-8d5f-4cc6-b21d-bd931618d777",
   "metadata": {},
   "outputs": [
    {
     "data": {
      "text/plain": [
       "array([1, 1, 1, 1, 2, 2, 2, 2, 3, 3, 3, 3])"
      ]
     },
     "execution_count": 41,
     "metadata": {},
     "output_type": "execute_result"
    }
   ],
   "source": [
    "np.repeat(data,4)"
   ]
  },
  {
   "cell_type": "code",
   "execution_count": 40,
   "id": "8a50f081-c6af-44bb-b27a-4bc0ceb4c474",
   "metadata": {},
   "outputs": [
    {
     "data": {
      "text/plain": [
       "array([[1, 1, 1, 1],\n",
       "       [2, 2, 2, 2],\n",
       "       [3, 3, 3, 3]])"
      ]
     },
     "execution_count": 40,
     "metadata": {},
     "output_type": "execute_result"
    }
   ],
   "source": [
    "np.repeat(data,4, axis=1)"
   ]
  },
  {
   "cell_type": "code",
   "execution_count": 42,
   "id": "9e89419a-c6d8-4ee2-8a97-bfb04645f6fc",
   "metadata": {},
   "outputs": [
    {
     "data": {
      "text/plain": [
       "array([[1],\n",
       "       [1],\n",
       "       [1],\n",
       "       [1],\n",
       "       [2],\n",
       "       [2],\n",
       "       [2],\n",
       "       [2],\n",
       "       [3],\n",
       "       [3],\n",
       "       [3],\n",
       "       [3]])"
      ]
     },
     "execution_count": 42,
     "metadata": {},
     "output_type": "execute_result"
    }
   ],
   "source": [
    "np.repeat(data,4, axis=0)"
   ]
  },
  {
   "cell_type": "markdown",
   "id": "12ec4e17-b5ab-466f-8cd2-7384e6dfbb2c",
   "metadata": {},
   "source": [
    "# 5. np.roll(name_array, shift)\n",
    "* Roll array elements along a given axis.\n",
    "* it roated the data set"
   ]
  },
  {
   "cell_type": "code",
   "execution_count": 46,
   "id": "e253859a-0266-4472-9cc7-5ead8e11fe09",
   "metadata": {},
   "outputs": [
    {
     "data": {
      "text/plain": [
       "array([[1],\n",
       "       [2],\n",
       "       [3]])"
      ]
     },
     "execution_count": 46,
     "metadata": {},
     "output_type": "execute_result"
    }
   ],
   "source": [
    "data"
   ]
  },
  {
   "cell_type": "code",
   "execution_count": 43,
   "id": "3bdf2378-ebc4-4842-a79d-62c97404f228",
   "metadata": {},
   "outputs": [
    {
     "data": {
      "text/plain": [
       "array([[2],\n",
       "       [3],\n",
       "       [1]])"
      ]
     },
     "execution_count": 43,
     "metadata": {},
     "output_type": "execute_result"
    }
   ],
   "source": [
    "np.roll(data,2)"
   ]
  },
  {
   "cell_type": "code",
   "execution_count": 44,
   "id": "d785c1b2-2717-4f38-8324-b3d9a0f778ce",
   "metadata": {},
   "outputs": [
    {
     "data": {
      "text/plain": [
       "array([[1],\n",
       "       [2],\n",
       "       [3]])"
      ]
     },
     "execution_count": 44,
     "metadata": {},
     "output_type": "execute_result"
    }
   ],
   "source": [
    "np.roll(data,3)"
   ]
  },
  {
   "cell_type": "code",
   "execution_count": 45,
   "id": "4c636116-0a57-4848-90f5-7195d9c336b1",
   "metadata": {},
   "outputs": [
    {
     "data": {
      "text/plain": [
       "array([[3],\n",
       "       [1],\n",
       "       [2]])"
      ]
     },
     "execution_count": 45,
     "metadata": {},
     "output_type": "execute_result"
    }
   ],
   "source": [
    "np.roll(data,1)"
   ]
  },
  {
   "cell_type": "markdown",
   "id": "baabad3b-574d-46df-9912-994436a59e64",
   "metadata": {},
   "source": [
    "# 6. np.diag()\n",
    "* Extract a diagonal or construct a diagonal array."
   ]
  },
  {
   "cell_type": "code",
   "execution_count": 48,
   "id": "69151fd3-10df-4a5b-9c51-7b707b84c07a",
   "metadata": {},
   "outputs": [
    {
     "data": {
      "text/plain": [
       "array([[1, 0, 0, 0],\n",
       "       [0, 2, 0, 0],\n",
       "       [0, 0, 3, 0],\n",
       "       [0, 0, 0, 4]])"
      ]
     },
     "execution_count": 48,
     "metadata": {},
     "output_type": "execute_result"
    }
   ],
   "source": [
    "np.diag(np.array([1,2,3,4]))"
   ]
  },
  {
   "cell_type": "code",
   "execution_count": 51,
   "id": "81cf0d2f-29c0-4a43-a24f-ac79ec90c447",
   "metadata": {},
   "outputs": [],
   "source": [
    "data1=[1,2,3,4,5,6,7,8,9,10]"
   ]
  },
  {
   "cell_type": "code",
   "execution_count": 52,
   "id": "9248d3b1-a258-47d2-88e9-2097306dadb3",
   "metadata": {},
   "outputs": [
    {
     "data": {
      "text/plain": [
       "[array([1, 2, 3, 4, 5]), array([ 6,  7,  8,  9, 10])]"
      ]
     },
     "execution_count": 52,
     "metadata": {},
     "output_type": "execute_result"
    }
   ],
   "source": [
    "np.array_split(data1, 2)"
   ]
  },
  {
   "cell_type": "code",
   "execution_count": 53,
   "id": "164482a3-dd60-4ade-9e59-a634eec0b996",
   "metadata": {},
   "outputs": [
    {
     "data": {
      "text/plain": [
       "[array([1, 2]), array([3, 4]), array([5, 6]), array([7, 8]), array([ 9, 10])]"
      ]
     },
     "execution_count": 53,
     "metadata": {},
     "output_type": "execute_result"
    }
   ],
   "source": [
    "np.array_split(data1, 5)"
   ]
  },
  {
   "cell_type": "markdown",
   "id": "858e801f-db70-4a0f-9509-f67e4e39acee",
   "metadata": {},
   "source": [
    "# 7. Bianary operation"
   ]
  },
  {
   "cell_type": "code",
   "execution_count": 57,
   "id": "ddca1fe8-fb20-4852-9a15-cea52755d45e",
   "metadata": {},
   "outputs": [],
   "source": [
    "arr1=np.random.randint(1,10,(3,4))\n",
    "arr2=np.random.randint(1,10,(3,4))"
   ]
  },
  {
   "cell_type": "code",
   "execution_count": 58,
   "id": "0ad5e16e-d968-40e2-a18b-8c63e8a8fb77",
   "metadata": {},
   "outputs": [
    {
     "data": {
      "text/plain": [
       "array([[5, 2, 9, 9],\n",
       "       [9, 6, 5, 7],\n",
       "       [7, 7, 8, 4]])"
      ]
     },
     "execution_count": 58,
     "metadata": {},
     "output_type": "execute_result"
    }
   ],
   "source": [
    "arr1"
   ]
  },
  {
   "cell_type": "code",
   "execution_count": 59,
   "id": "90af7377-2d76-4219-9ef7-79b0048f9054",
   "metadata": {},
   "outputs": [
    {
     "data": {
      "text/plain": [
       "array([[9, 3, 3, 6],\n",
       "       [4, 4, 7, 9],\n",
       "       [7, 5, 6, 6]])"
      ]
     },
     "execution_count": 59,
     "metadata": {},
     "output_type": "execute_result"
    }
   ],
   "source": [
    "arr2"
   ]
  },
  {
   "cell_type": "code",
   "execution_count": 60,
   "id": "09cda892-8269-4070-b380-41e52f938854",
   "metadata": {},
   "outputs": [
    {
     "data": {
      "text/plain": [
       "array([[14,  5, 12, 15],\n",
       "       [13, 10, 12, 16],\n",
       "       [14, 12, 14, 10]])"
      ]
     },
     "execution_count": 60,
     "metadata": {},
     "output_type": "execute_result"
    }
   ],
   "source": [
    "arr1 +arr2"
   ]
  },
  {
   "cell_type": "code",
   "execution_count": 62,
   "id": "43b00b3d-e421-44cb-a284-5a0dbf16c2cd",
   "metadata": {},
   "outputs": [
    {
     "data": {
      "text/plain": [
       "array([[45,  6, 27, 54],\n",
       "       [36, 24, 35, 63],\n",
       "       [49, 35, 48, 24]])"
      ]
     },
     "execution_count": 62,
     "metadata": {},
     "output_type": "execute_result"
    }
   ],
   "source": [
    "arr1*arr2"
   ]
  },
  {
   "cell_type": "code",
   "execution_count": 63,
   "id": "ccf70bc2-3462-4439-bc01-68bcff24b5f6",
   "metadata": {},
   "outputs": [
    {
     "data": {
      "text/plain": [
       "array([[-4, -1,  6,  3],\n",
       "       [ 5,  2, -2, -2],\n",
       "       [ 0,  2,  2, -2]])"
      ]
     },
     "execution_count": 63,
     "metadata": {},
     "output_type": "execute_result"
    }
   ],
   "source": [
    "arr1-arr2"
   ]
  },
  {
   "cell_type": "code",
   "execution_count": 64,
   "id": "a1aa1940-a02c-4f9e-b5cd-5d0a8ab58f81",
   "metadata": {},
   "outputs": [
    {
     "data": {
      "text/plain": [
       "array([[0.55555556, 0.66666667, 3.        , 1.5       ],\n",
       "       [2.25      , 1.5       , 0.71428571, 0.77777778],\n",
       "       [1.        , 1.4       , 1.33333333, 0.66666667]])"
      ]
     },
     "execution_count": 64,
     "metadata": {},
     "output_type": "execute_result"
    }
   ],
   "source": [
    "arr1/arr2"
   ]
  },
  {
   "cell_type": "code",
   "execution_count": 65,
   "id": "57e81bd3-1b4f-40f1-8552-eee3515ef529",
   "metadata": {},
   "outputs": [
    {
     "data": {
      "text/plain": [
       "array([[ 1953125,        8,      729,   531441],\n",
       "       [    6561,     1296,    78125, 40353607],\n",
       "       [  823543,    16807,   262144,     4096]])"
      ]
     },
     "execution_count": 65,
     "metadata": {},
     "output_type": "execute_result"
    }
   ],
   "source": [
    "arr1**arr2"
   ]
  },
  {
   "cell_type": "code",
   "execution_count": 66,
   "id": "82369484-84b8-4b1c-a311-6f93c36fa999",
   "metadata": {},
   "outputs": [
    {
     "data": {
      "text/plain": [
       "array([[ -6,  -3, -10, -10],\n",
       "       [-10,  -7,  -6,  -8],\n",
       "       [ -8,  -8,  -9,  -5]])"
      ]
     },
     "execution_count": 66,
     "metadata": {},
     "output_type": "execute_result"
    }
   ],
   "source": [
    "~ arr1"
   ]
  },
  {
   "cell_type": "code",
   "execution_count": 67,
   "id": "57ecd573-7744-467f-b52e-edd4d3d948d1",
   "metadata": {},
   "outputs": [
    {
     "data": {
      "text/plain": [
       "array([[False, False,  True,  True],\n",
       "       [ True,  True, False, False],\n",
       "       [False,  True,  True, False]])"
      ]
     },
     "execution_count": 67,
     "metadata": {},
     "output_type": "execute_result"
    }
   ],
   "source": [
    "arr1>arr2"
   ]
  },
  {
   "cell_type": "code",
   "execution_count": 68,
   "id": "b6ec27fa-3695-42b1-9920-8dc2f5a6c22e",
   "metadata": {},
   "outputs": [
    {
     "data": {
      "text/plain": [
       "array([[ True,  True, False, False],\n",
       "       [False, False,  True,  True],\n",
       "       [False, False, False,  True]])"
      ]
     },
     "execution_count": 68,
     "metadata": {},
     "output_type": "execute_result"
    }
   ],
   "source": [
    "arr1<arr2"
   ]
  },
  {
   "cell_type": "markdown",
   "id": "68c34370-3837-4fc6-b2e1-7487588a1dfe",
   "metadata": {},
   "source": [
    "# 8. String operation"
   ]
  },
  {
   "cell_type": "code",
   "execution_count": 70,
   "id": "18b41dda-8670-4c68-8db3-f269589d21de",
   "metadata": {},
   "outputs": [],
   "source": [
    "arr3=np.array(['nutan', 'gargie'])"
   ]
  },
  {
   "cell_type": "code",
   "execution_count": 71,
   "id": "85314888-4219-48ff-b5af-8ccb4c2cecbb",
   "metadata": {},
   "outputs": [
    {
     "data": {
      "text/plain": [
       "array(['nutan', 'gargie'], dtype='<U6')"
      ]
     },
     "execution_count": 71,
     "metadata": {},
     "output_type": "execute_result"
    }
   ],
   "source": [
    "arr3"
   ]
  },
  {
   "cell_type": "code",
   "execution_count": 72,
   "id": "78a73b33-b8b2-4cf3-a956-2131158aa2c1",
   "metadata": {},
   "outputs": [
    {
     "data": {
      "text/plain": [
       "array(['NUTAN', 'GARGIE'], dtype='<U6')"
      ]
     },
     "execution_count": 72,
     "metadata": {},
     "output_type": "execute_result"
    }
   ],
   "source": [
    "np.char.upper(arr3)"
   ]
  },
  {
   "cell_type": "code",
   "execution_count": 73,
   "id": "4e2e7182-8cc1-4f29-96c7-6a62cfd736b1",
   "metadata": {},
   "outputs": [
    {
     "data": {
      "text/plain": [
       "array(['nutan', 'gargie'], dtype='<U6')"
      ]
     },
     "execution_count": 73,
     "metadata": {},
     "output_type": "execute_result"
    }
   ],
   "source": [
    "np.char.lower(arr3)"
   ]
  },
  {
   "cell_type": "code",
   "execution_count": 75,
   "id": "38357437-287f-45f5-94cb-3a662a6aac89",
   "metadata": {},
   "outputs": [
    {
     "data": {
      "text/plain": [
       "array(['Nutan', 'Gargie'], dtype='<U6')"
      ]
     },
     "execution_count": 75,
     "metadata": {},
     "output_type": "execute_result"
    }
   ],
   "source": [
    "np.char.title(arr3)"
   ]
  },
  {
   "cell_type": "markdown",
   "id": "98d6a612-a318-45c7-afb7-149d45149a0d",
   "metadata": {},
   "source": [
    "# 9. Mathematical function"
   ]
  },
  {
   "cell_type": "code",
   "execution_count": 77,
   "id": "01ee17c5-3208-449c-99b0-cf3a8668f125",
   "metadata": {},
   "outputs": [
    {
     "data": {
      "text/plain": [
       "array([[5, 2, 9, 9],\n",
       "       [9, 6, 5, 7],\n",
       "       [7, 7, 8, 4]])"
      ]
     },
     "execution_count": 77,
     "metadata": {},
     "output_type": "execute_result"
    }
   ],
   "source": [
    "arr1"
   ]
  },
  {
   "cell_type": "code",
   "execution_count": 76,
   "id": "4c96734f-ae10-4d0c-b408-efa2ec922460",
   "metadata": {},
   "outputs": [
    {
     "data": {
      "text/plain": [
       "array([[-0.95892427,  0.90929743,  0.41211849,  0.41211849],\n",
       "       [ 0.41211849, -0.2794155 , -0.95892427,  0.6569866 ],\n",
       "       [ 0.6569866 ,  0.6569866 ,  0.98935825, -0.7568025 ]])"
      ]
     },
     "execution_count": 76,
     "metadata": {},
     "output_type": "execute_result"
    }
   ],
   "source": [
    "np.sin(arr1)"
   ]
  },
  {
   "cell_type": "code",
   "execution_count": 78,
   "id": "20e11d14-05d4-4b2d-98cf-f179be6442fe",
   "metadata": {},
   "outputs": [
    {
     "data": {
      "text/plain": [
       "array([[ 0.28366219, -0.41614684, -0.91113026, -0.91113026],\n",
       "       [-0.91113026,  0.96017029,  0.28366219,  0.75390225],\n",
       "       [ 0.75390225,  0.75390225, -0.14550003, -0.65364362]])"
      ]
     },
     "execution_count": 78,
     "metadata": {},
     "output_type": "execute_result"
    }
   ],
   "source": [
    "np.cos(arr1)"
   ]
  },
  {
   "cell_type": "code",
   "execution_count": 79,
   "id": "19870de3-bf42-4fdf-9944-21ddc8fd8aea",
   "metadata": {},
   "outputs": [
    {
     "data": {
      "text/plain": [
       "array([[-3.38051501, -2.18503986, -0.45231566, -0.45231566],\n",
       "       [-0.45231566, -0.29100619, -3.38051501,  0.87144798],\n",
       "       [ 0.87144798,  0.87144798, -6.79971146,  1.15782128]])"
      ]
     },
     "execution_count": 79,
     "metadata": {},
     "output_type": "execute_result"
    }
   ],
   "source": [
    "np.tan(arr1)"
   ]
  },
  {
   "cell_type": "code",
   "execution_count": 81,
   "id": "260b8ca1-c7eb-4ec9-a084-2189c63b9eb0",
   "metadata": {},
   "outputs": [
    {
     "data": {
      "text/plain": [
       "array([[0.69897   , 0.30103   , 0.95424251, 0.95424251],\n",
       "       [0.95424251, 0.77815125, 0.69897   , 0.84509804],\n",
       "       [0.84509804, 0.84509804, 0.90308999, 0.60205999]])"
      ]
     },
     "execution_count": 81,
     "metadata": {},
     "output_type": "execute_result"
    }
   ],
   "source": [
    "np.log10(arr1)"
   ]
  },
  {
   "cell_type": "code",
   "execution_count": 82,
   "id": "d3c73baf-823a-4841-b953-2539779b3a58",
   "metadata": {},
   "outputs": [
    {
     "data": {
      "text/plain": [
       "array([[2.32192809, 1.        , 3.169925  , 3.169925  ],\n",
       "       [3.169925  , 2.5849625 , 2.32192809, 2.80735492],\n",
       "       [2.80735492, 2.80735492, 3.        , 2.        ]])"
      ]
     },
     "execution_count": 82,
     "metadata": {},
     "output_type": "execute_result"
    }
   ],
   "source": [
    "np.log2(arr1)"
   ]
  },
  {
   "cell_type": "code",
   "execution_count": 83,
   "id": "d0d7288b-8e68-4d08-9b73-7806102c2273",
   "metadata": {},
   "outputs": [
    {
     "data": {
      "text/plain": [
       "array([[8103.08392758,   20.08553692,   20.08553692,  403.42879349],\n",
       "       [  54.59815003,   54.59815003, 1096.63315843, 8103.08392758],\n",
       "       [1096.63315843,  148.4131591 ,  403.42879349,  403.42879349]])"
      ]
     },
     "execution_count": 83,
     "metadata": {},
     "output_type": "execute_result"
    }
   ],
   "source": [
    "np.exp(arr2)"
   ]
  },
  {
   "cell_type": "code",
   "execution_count": 85,
   "id": "08bdbe4d-a1a7-4a38-9ffc-672142056f3f",
   "metadata": {},
   "outputs": [
    {
     "data": {
      "text/plain": [
       "array([[25,  4, 81, 81],\n",
       "       [81, 36, 25, 49],\n",
       "       [49, 49, 64, 16]], dtype=int32)"
      ]
     },
     "execution_count": 85,
     "metadata": {},
     "output_type": "execute_result"
    }
   ],
   "source": [
    "np.power(arr1,2)"
   ]
  },
  {
   "cell_type": "code",
   "execution_count": 86,
   "id": "69b8bb0c-2422-469a-a9e3-5daa73041bc3",
   "metadata": {},
   "outputs": [
    {
     "data": {
      "text/plain": [
       "2"
      ]
     },
     "execution_count": 86,
     "metadata": {},
     "output_type": "execute_result"
    }
   ],
   "source": [
    "np.min(arr1)"
   ]
  },
  {
   "cell_type": "code",
   "execution_count": 88,
   "id": "1693264c-a699-4245-aa67-dbae274e5430",
   "metadata": {},
   "outputs": [
    {
     "data": {
      "text/plain": [
       "6.5"
      ]
     },
     "execution_count": 88,
     "metadata": {},
     "output_type": "execute_result"
    }
   ],
   "source": [
    "np.mean(arr1)"
   ]
  },
  {
   "cell_type": "code",
   "execution_count": 89,
   "id": "4c1ffbe2-a811-41f1-9d37-67b7dea18ec4",
   "metadata": {},
   "outputs": [
    {
     "data": {
      "text/plain": [
       "4.416666666666667"
      ]
     },
     "execution_count": 89,
     "metadata": {},
     "output_type": "execute_result"
    }
   ],
   "source": [
    "np.var(arr1)"
   ]
  },
  {
   "cell_type": "code",
   "execution_count": 90,
   "id": "6ae424d1-848f-4c9d-804e-62bf065a4771",
   "metadata": {},
   "outputs": [
    {
     "data": {
      "text/plain": [
       "2.101586702153082"
      ]
     },
     "execution_count": 90,
     "metadata": {},
     "output_type": "execute_result"
    }
   ],
   "source": [
    "np.std(arr1)"
   ]
  },
  {
   "cell_type": "code",
   "execution_count": 92,
   "id": "27370e2e-8597-4eb5-bcac-fd8c93319040",
   "metadata": {},
   "outputs": [
    {
     "data": {
      "text/plain": [
       "9"
      ]
     },
     "execution_count": 92,
     "metadata": {},
     "output_type": "execute_result"
    }
   ],
   "source": [
    "np.max(arr1)"
   ]
  },
  {
   "cell_type": "markdown",
   "id": "a7c7f0ea-5515-4d60-a991-d92afe559dd2",
   "metadata": {},
   "source": [
    "# 10. Arithmatic operation"
   ]
  },
  {
   "cell_type": "code",
   "execution_count": 94,
   "id": "1955cef2-737b-479e-a552-3f61b57aae9e",
   "metadata": {},
   "outputs": [
    {
     "data": {
      "text/plain": [
       "array([[5, 2, 9, 9],\n",
       "       [9, 6, 5, 7],\n",
       "       [7, 7, 8, 4]])"
      ]
     },
     "execution_count": 94,
     "metadata": {},
     "output_type": "execute_result"
    }
   ],
   "source": [
    "arr1"
   ]
  },
  {
   "cell_type": "code",
   "execution_count": 95,
   "id": "d4a26639-d6ac-41d3-84e9-2852de79069a",
   "metadata": {},
   "outputs": [
    {
     "data": {
      "text/plain": [
       "array([[9, 3, 3, 6],\n",
       "       [4, 4, 7, 9],\n",
       "       [7, 5, 6, 6]])"
      ]
     },
     "execution_count": 95,
     "metadata": {},
     "output_type": "execute_result"
    }
   ],
   "source": [
    "arr2"
   ]
  },
  {
   "cell_type": "code",
   "execution_count": 96,
   "id": "c7f95b25-87fc-45ec-b599-17c87b75e6f7",
   "metadata": {},
   "outputs": [
    {
     "data": {
      "text/plain": [
       "array([[-4, -1,  6,  3],\n",
       "       [ 5,  2, -2, -2],\n",
       "       [ 0,  2,  2, -2]])"
      ]
     },
     "execution_count": 96,
     "metadata": {},
     "output_type": "execute_result"
    }
   ],
   "source": [
    "arr1-arr2"
   ]
  },
  {
   "cell_type": "code",
   "execution_count": 98,
   "id": "a6f96b4f-828f-4c32-bf03-f2fa0cfb2781",
   "metadata": {},
   "outputs": [
    {
     "data": {
      "text/plain": [
       "array([[-4, -1,  6,  3],\n",
       "       [ 5,  2, -2, -2],\n",
       "       [ 0,  2,  2, -2]])"
      ]
     },
     "execution_count": 98,
     "metadata": {},
     "output_type": "execute_result"
    }
   ],
   "source": [
    "np.subtract(arr1,arr2)"
   ]
  },
  {
   "cell_type": "markdown",
   "id": "8d3181dc-c6ec-4bd4-b692-b4bb60ad1de8",
   "metadata": {},
   "source": [
    "---\n"
   ]
  },
  {
   "cell_type": "code",
   "execution_count": 100,
   "id": "09b49e03-6b63-4233-9f91-41d1d00f0ccc",
   "metadata": {},
   "outputs": [
    {
     "data": {
      "text/plain": [
       "array([[45,  6, 27, 54],\n",
       "       [36, 24, 35, 63],\n",
       "       [49, 35, 48, 24]])"
      ]
     },
     "execution_count": 100,
     "metadata": {},
     "output_type": "execute_result"
    }
   ],
   "source": [
    "np.multiply(arr1,arr2)"
   ]
  },
  {
   "cell_type": "code",
   "execution_count": 101,
   "id": "30d4418b-5465-4173-9763-2f7ca8c27045",
   "metadata": {},
   "outputs": [
    {
     "data": {
      "text/plain": [
       "array([[5, 2, 0, 3],\n",
       "       [1, 2, 5, 7],\n",
       "       [0, 2, 2, 4]])"
      ]
     },
     "execution_count": 101,
     "metadata": {},
     "output_type": "execute_result"
    }
   ],
   "source": [
    "np.mod(arr1,arr2)"
   ]
  },
  {
   "cell_type": "code",
   "execution_count": 102,
   "id": "4ad41f15-8ef1-4fc3-aa9b-0934bbc59554",
   "metadata": {},
   "outputs": [
    {
     "data": {
      "text/plain": [
       "array([[ 1953125,        8,      729,   531441],\n",
       "       [    6561,     1296,    78125, 40353607],\n",
       "       [  823543,    16807,   262144,     4096]])"
      ]
     },
     "execution_count": 102,
     "metadata": {},
     "output_type": "execute_result"
    }
   ],
   "source": [
    "np.power(arr1,arr2)"
   ]
  },
  {
   "cell_type": "markdown",
   "id": "04e54e7d-cfb7-4ff0-b245-36009b7e19dd",
   "metadata": {},
   "source": [
    "# 11. statestical function\n"
   ]
  },
  {
   "cell_type": "code",
   "execution_count": 104,
   "id": "fe08d128-0d5a-44ea-b50c-a8d1a89baae8",
   "metadata": {},
   "outputs": [
    {
     "data": {
      "text/plain": [
       "array([[5, 2, 9, 9],\n",
       "       [9, 6, 5, 7],\n",
       "       [7, 7, 8, 4]])"
      ]
     },
     "execution_count": 104,
     "metadata": {},
     "output_type": "execute_result"
    }
   ],
   "source": [
    "arr1"
   ]
  },
  {
   "cell_type": "code",
   "execution_count": 103,
   "id": "6d66a8e0-4748-43e5-8a11-0020d629eacc",
   "metadata": {},
   "outputs": [
    {
     "data": {
      "text/plain": [
       "6.5"
      ]
     },
     "execution_count": 103,
     "metadata": {},
     "output_type": "execute_result"
    }
   ],
   "source": [
    "np.mean(arr1)"
   ]
  },
  {
   "cell_type": "code",
   "execution_count": 106,
   "id": "2fbf468c-d264-4a0a-a3dc-b03c389c64f9",
   "metadata": {},
   "outputs": [
    {
     "data": {
      "text/plain": [
       "2.101586702153082"
      ]
     },
     "execution_count": 106,
     "metadata": {},
     "output_type": "execute_result"
    }
   ],
   "source": [
    "np.std(arr1)"
   ]
  },
  {
   "cell_type": "code",
   "execution_count": 107,
   "id": "14c39223-968a-4715-9ce9-b4a69a7cb6f2",
   "metadata": {},
   "outputs": [
    {
     "data": {
      "text/plain": [
       "7.0"
      ]
     },
     "execution_count": 107,
     "metadata": {},
     "output_type": "execute_result"
    }
   ],
   "source": [
    "np.median(arr1)"
   ]
  },
  {
   "cell_type": "code",
   "execution_count": 108,
   "id": "d491432b-002e-4284-8924-c40472feac58",
   "metadata": {},
   "outputs": [
    {
     "data": {
      "text/plain": [
       "4.416666666666667"
      ]
     },
     "execution_count": 108,
     "metadata": {},
     "output_type": "execute_result"
    }
   ],
   "source": [
    "np.var(arr1)"
   ]
  },
  {
   "cell_type": "code",
   "execution_count": null,
   "id": "a809ca32-08d0-471d-b3ee-194fb06e0f4d",
   "metadata": {},
   "outputs": [],
   "source": []
  }
 ],
 "metadata": {
  "kernelspec": {
   "display_name": "Python 3 (ipykernel)",
   "language": "python",
   "name": "python3"
  },
  "language_info": {
   "codemirror_mode": {
    "name": "ipython",
    "version": 3
   },
   "file_extension": ".py",
   "mimetype": "text/x-python",
   "name": "python",
   "nbconvert_exporter": "python",
   "pygments_lexer": "ipython3",
   "version": "3.11.1"
  }
 },
 "nbformat": 4,
 "nbformat_minor": 5
}
