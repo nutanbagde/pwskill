{
 "cells": [
  {
   "cell_type": "code",
   "execution_count": 7,
   "id": "d0417753-af04-4b0b-8287-df2e6d587525",
   "metadata": {},
   "outputs": [],
   "source": [
    "import numpy as np"
   ]
  },
  {
   "cell_type": "markdown",
   "id": "0a58600a-91f2-415c-85dc-a13ccf7a7354",
   "metadata": {},
   "source": [
    "# 1. sort search and counting Functions."
   ]
  },
  {
   "cell_type": "code",
   "execution_count": 17,
   "id": "ddcc5791-54fc-4586-87a2-7c850600ace3",
   "metadata": {},
   "outputs": [],
   "source": [
    "arr=np.array([4,8,3,7,9,6,5,1])"
   ]
  },
  {
   "cell_type": "markdown",
   "id": "4406695a-701d-425a-bdd9-aebe7ce7ef7e",
   "metadata": {},
   "source": [
    "arr"
   ]
  },
  {
   "cell_type": "code",
   "execution_count": 18,
   "id": "043ccf33-9c13-4327-8df7-4190b2da21ce",
   "metadata": {},
   "outputs": [
    {
     "data": {
      "text/plain": [
       "array([1, 3, 4, 5, 6, 7, 8, 9])"
      ]
     },
     "execution_count": 18,
     "metadata": {},
     "output_type": "execute_result"
    }
   ],
   "source": [
    "np.sort(arr)"
   ]
  },
  {
   "cell_type": "code",
   "execution_count": 19,
   "id": "e51ebffe-4229-41f4-bff9-617ad217d678",
   "metadata": {},
   "outputs": [
    {
     "data": {
      "text/plain": [
       "3"
      ]
     },
     "execution_count": 19,
     "metadata": {},
     "output_type": "execute_result"
    }
   ],
   "source": [
    "np.searchsorted(arr,5) # give the index of given no"
   ]
  },
  {
   "cell_type": "code",
   "execution_count": 20,
   "id": "5e403501-9ce5-4b54-85da-48c2bc3b64c2",
   "metadata": {},
   "outputs": [],
   "source": [
    "arr1=np.array([42,84,13,67,92,56,25,71])"
   ]
  },
  {
   "cell_type": "code",
   "execution_count": 24,
   "id": "7bc6a54d-d412-4682-a726-77957b90ff1c",
   "metadata": {},
   "outputs": [
    {
     "data": {
      "text/plain": [
       "array([13, 25, 42, 56, 67, 71, 84, 92])"
      ]
     },
     "execution_count": 24,
     "metadata": {},
     "output_type": "execute_result"
    }
   ],
   "source": [
    "np.sort(arr1)"
   ]
  },
  {
   "cell_type": "code",
   "execution_count": 27,
   "id": "74e0a82d-cace-4df5-95c9-778018f2d724",
   "metadata": {},
   "outputs": [
    {
     "data": {
      "text/plain": [
       "array([42, 84, 13, 67, 92, 56, 25, 71])"
      ]
     },
     "execution_count": 27,
     "metadata": {},
     "output_type": "execute_result"
    }
   ],
   "source": [
    "arr1"
   ]
  },
  {
   "cell_type": "code",
   "execution_count": 26,
   "id": "9afbe1b6-6e1a-4254-baa7-29925085ecff",
   "metadata": {},
   "outputs": [
    {
     "data": {
      "text/plain": [
       "3"
      ]
     },
     "execution_count": 26,
     "metadata": {},
     "output_type": "execute_result"
    }
   ],
   "source": [
    "np.searchsorted(arr1,67)"
   ]
  },
  {
   "cell_type": "code",
   "execution_count": 28,
   "id": "e51eece1-fc0e-4252-9091-332203362ca4",
   "metadata": {},
   "outputs": [
    {
     "data": {
      "text/plain": [
       "8"
      ]
     },
     "execution_count": 28,
     "metadata": {},
     "output_type": "execute_result"
    }
   ],
   "source": [
    "np.count_nonzero(arr1)"
   ]
  },
  {
   "cell_type": "code",
   "execution_count": 30,
   "id": "dd715da4-d894-41e3-97f1-f184cc3e0be6",
   "metadata": {},
   "outputs": [],
   "source": [
    "arr2=np.array([42,0,84,13,67,0,92,56,0,25,71])"
   ]
  },
  {
   "cell_type": "code",
   "execution_count": 34,
   "id": "f9b400cc-c790-4031-a2ef-74ff3fdbc1ca",
   "metadata": {},
   "outputs": [
    {
     "data": {
      "text/plain": [
       "array([42,  0, 84, 13, 67,  0, 92, 56,  0, 25, 71])"
      ]
     },
     "execution_count": 34,
     "metadata": {},
     "output_type": "execute_result"
    }
   ],
   "source": [
    "arr2"
   ]
  },
  {
   "cell_type": "code",
   "execution_count": 32,
   "id": "01260956-7097-4e39-8d0b-ecd845564e1a",
   "metadata": {},
   "outputs": [
    {
     "data": {
      "text/plain": [
       "(array([ 0,  2,  3,  4,  6,  7,  9, 10], dtype=int64),)"
      ]
     },
     "execution_count": 32,
     "metadata": {},
     "output_type": "execute_result"
    }
   ],
   "source": [
    "np.where(arr2>0) # on which index we will get the no.>0"
   ]
  },
  {
   "cell_type": "code",
   "execution_count": 33,
   "id": "17a79c9e-d2e8-46bf-827d-5539f5b7092b",
   "metadata": {},
   "outputs": [
    {
     "data": {
      "text/plain": [
       "(array([ 2,  4,  6,  7, 10], dtype=int64),)"
      ]
     },
     "execution_count": 33,
     "metadata": {},
     "output_type": "execute_result"
    }
   ],
   "source": [
    "np.where(arr2>50)"
   ]
  },
  {
   "cell_type": "code",
   "execution_count": 36,
   "id": "0428eed9-b662-4da1-9bfe-59161b0c1752",
   "metadata": {},
   "outputs": [
    {
     "data": {
      "text/plain": [
       "array([84, 67, 92, 56, 71])"
      ]
     },
     "execution_count": 36,
     "metadata": {},
     "output_type": "execute_result"
    }
   ],
   "source": [
    "np.extract(arr2>50, arr2)"
   ]
  },
  {
   "cell_type": "markdown",
   "id": "a688ea19-b363-42c6-ae55-423b520cbf61",
   "metadata": {},
   "source": [
    "# 2. Byte swapping"
   ]
  },
  {
   "cell_type": "code",
   "execution_count": 38,
   "id": "793aeab4-5101-4472-8bb9-4c3718a299a4",
   "metadata": {},
   "outputs": [
    {
     "data": {
      "text/plain": [
       "array([42,  0, 84, 13, 67,  0, 92, 56,  0, 25, 71])"
      ]
     },
     "execution_count": 38,
     "metadata": {},
     "output_type": "execute_result"
    }
   ],
   "source": [
    "arr2"
   ]
  },
  {
   "cell_type": "code",
   "execution_count": 39,
   "id": "41e82cce-883d-406e-b0f3-22ea42b4142f",
   "metadata": {},
   "outputs": [
    {
     "data": {
      "text/plain": [
       "array([ 704643072,          0, 1409286144,  218103808, 1124073472,\n",
       "                0, 1543503872,  939524096,          0,  419430400,\n",
       "       1191182336])"
      ]
     },
     "execution_count": 39,
     "metadata": {},
     "output_type": "execute_result"
    }
   ],
   "source": [
    "arr2.byteswap()"
   ]
  },
  {
   "cell_type": "code",
   "execution_count": 40,
   "id": "da4671c0-eb8a-4e9e-a655-1a3e2bd8ae4a",
   "metadata": {},
   "outputs": [
    {
     "data": {
      "text/plain": [
       "array([42,  0, 84, 13, 67,  0, 92, 56,  0, 25, 71])"
      ]
     },
     "execution_count": 40,
     "metadata": {},
     "output_type": "execute_result"
    }
   ],
   "source": [
    "arr2"
   ]
  },
  {
   "cell_type": "code",
   "execution_count": 49,
   "id": "da592802-a16d-4948-8c3b-13c8f92249fc",
   "metadata": {},
   "outputs": [
    {
     "data": {
      "text/plain": [
       "array([ 704643072,          0, 1409286144,  218103808, 1124073472,\n",
       "                0, 1543503872,  939524096,          0,  419430400,\n",
       "       1191182336])"
      ]
     },
     "execution_count": 49,
     "metadata": {},
     "output_type": "execute_result"
    }
   ],
   "source": [
    "arr2.byteswap(True) # permanat chanige"
   ]
  },
  {
   "cell_type": "code",
   "execution_count": 50,
   "id": "4b6ecfb5-e20d-4d88-ac91-e9b2c97579f7",
   "metadata": {},
   "outputs": [
    {
     "data": {
      "text/plain": [
       "array([ 704643072,          0, 1409286144,  218103808, 1124073472,\n",
       "                0, 1543503872,  939524096,          0,  419430400,\n",
       "       1191182336])"
      ]
     },
     "execution_count": 50,
     "metadata": {},
     "output_type": "execute_result"
    }
   ],
   "source": [
    "arr2"
   ]
  },
  {
   "cell_type": "markdown",
   "id": "e7072ea9-e590-4ae5-8377-14aa1ea8bc97",
   "metadata": {},
   "source": [
    "# 3. copies and viwes"
   ]
  },
  {
   "cell_type": "code",
   "execution_count": 79,
   "id": "046e043d-9e98-4eec-9a52-f7b99603e6a4",
   "metadata": {},
   "outputs": [],
   "source": [
    "arr3=np.array([6, 3, 3, 4, 2, 9, 2, 9, 5, 9])"
   ]
  },
  {
   "cell_type": "code",
   "execution_count": 80,
   "id": "463c1397-5dfd-4d91-a26f-fadd6a41962d",
   "metadata": {},
   "outputs": [
    {
     "data": {
      "text/plain": [
       "array([6, 3, 3, 4, 2, 9, 2, 9, 5, 9])"
      ]
     },
     "execution_count": 80,
     "metadata": {},
     "output_type": "execute_result"
    }
   ],
   "source": [
    "arr3"
   ]
  },
  {
   "cell_type": "code",
   "execution_count": 81,
   "id": "035e4b13-0905-44cd-a61d-151a53bc9246",
   "metadata": {},
   "outputs": [],
   "source": [
    "b=np.copy(arr3)"
   ]
  },
  {
   "attachments": {
    "c85c8183-84ce-4774-a208-682308f7015b.png": {
     "image/png": "[encoded data removed]"
    }
   },
   "cell_type": "markdown",
   "id": "81e93271-6713-4b8b-878d-ca43491aaddd",
   "metadata": {},
   "source": [
    "![image.png](attachment:c85c8183-84ce-4774-a208-682308f7015b.png)"
   ]
  },
  {
   "cell_type": "code",
   "execution_count": 82,
   "id": "5f35ce1b-e99b-440a-a423-05b8008e9234",
   "metadata": {},
   "outputs": [
    {
     "data": {
      "text/plain": [
       "array([6, 3, 3, 4, 2, 9, 2, 9, 5, 9])"
      ]
     },
     "execution_count": 82,
     "metadata": {},
     "output_type": "execute_result"
    }
   ],
   "source": [
    "b"
   ]
  },
  {
   "cell_type": "code",
   "execution_count": 83,
   "id": "50714ed5-3a0b-44d5-bc80-1577b45114b2",
   "metadata": {},
   "outputs": [
    {
     "data": {
      "text/plain": [
       "array([6, 3, 3, 4, 2, 9, 2, 9, 5, 9])"
      ]
     },
     "execution_count": 83,
     "metadata": {},
     "output_type": "execute_result"
    }
   ],
   "source": [
    "arr3"
   ]
  },
  {
   "cell_type": "code",
   "execution_count": 84,
   "id": "f4848c9f-8fe1-47c0-9178-170f648416bd",
   "metadata": {},
   "outputs": [],
   "source": [
    "b[0]=999"
   ]
  },
  {
   "cell_type": "code",
   "execution_count": 85,
   "id": "e283bf45-4875-42f9-8d28-1ccb2ce981d4",
   "metadata": {},
   "outputs": [
    {
     "data": {
      "text/plain": [
       "array([999,   3,   3,   4,   2,   9,   2,   9,   5,   9])"
      ]
     },
     "execution_count": 85,
     "metadata": {},
     "output_type": "execute_result"
    }
   ],
   "source": [
    "b"
   ]
  },
  {
   "cell_type": "code",
   "execution_count": 86,
   "id": "d3db3003-cc12-4fe7-8212-820f1a99807f",
   "metadata": {},
   "outputs": [
    {
     "data": {
      "text/plain": [
       "array([6, 3, 3, 4, 2, 9, 2, 9, 5, 9])"
      ]
     },
     "execution_count": 86,
     "metadata": {},
     "output_type": "execute_result"
    }
   ],
   "source": [
    "arr3"
   ]
  },
  {
   "cell_type": "markdown",
   "id": "7e86b5a1-86b3-4fd7-8743-7ddc1fb98904",
   "metadata": {},
   "source": [
    "-----"
   ]
  },
  {
   "cell_type": "code",
   "execution_count": 87,
   "id": "851da0a2-56af-4859-a0e2-c44a9997a470",
   "metadata": {},
   "outputs": [],
   "source": [
    "a=arr3.view()\n"
   ]
  },
  {
   "attachments": {
    "3306c80e-25bd-4e92-8319-aa5ef10e4f46.png": {
     "image/png": "[encoded data removed]"
    }
   },
   "cell_type": "markdown",
   "id": "475185d2-1f8f-43a4-947a-60af3c35e6a6",
   "metadata": {},
   "source": [
    "![image.png](attachment:3306c80e-25bd-4e92-8319-aa5ef10e4f46.png)"
   ]
  },
  {
   "cell_type": "code",
   "execution_count": 88,
   "id": "30cf6872-a937-49bc-b562-4bd166237032",
   "metadata": {},
   "outputs": [
    {
     "data": {
      "text/plain": [
       "array([6, 3, 3, 4, 2, 9, 2, 9, 5, 9])"
      ]
     },
     "execution_count": 88,
     "metadata": {},
     "output_type": "execute_result"
    }
   ],
   "source": [
    "a"
   ]
  },
  {
   "cell_type": "code",
   "execution_count": 89,
   "id": "5b087554-7a28-4cc1-b0cb-c7521ee98496",
   "metadata": {},
   "outputs": [
    {
     "data": {
      "text/plain": [
       "array([6, 3, 3, 4, 2, 9, 2, 9, 5, 9])"
      ]
     },
     "execution_count": 89,
     "metadata": {},
     "output_type": "execute_result"
    }
   ],
   "source": [
    "arr3"
   ]
  },
  {
   "cell_type": "code",
   "execution_count": 90,
   "id": "7f897826-f852-4c00-ac3d-8a8972017ab2",
   "metadata": {},
   "outputs": [],
   "source": [
    "a[0]=124"
   ]
  },
  {
   "cell_type": "code",
   "execution_count": 91,
   "id": "3812562c-1fa7-4923-9f3a-140e9962679b",
   "metadata": {},
   "outputs": [
    {
     "data": {
      "text/plain": [
       "array([124,   3,   3,   4,   2,   9,   2,   9,   5,   9])"
      ]
     },
     "execution_count": 91,
     "metadata": {},
     "output_type": "execute_result"
    }
   ],
   "source": [
    "a"
   ]
  },
  {
   "cell_type": "code",
   "execution_count": 93,
   "id": "97c3ccd1-6735-48ae-bafe-5fec0847bf7e",
   "metadata": {},
   "outputs": [
    {
     "data": {
      "text/plain": [
       "array([124,   3,   3,   4,   2,   9,   2,   9,   5,   9])"
      ]
     },
     "execution_count": 93,
     "metadata": {},
     "output_type": "execute_result"
    }
   ],
   "source": [
    "arr3"
   ]
  },
  {
   "cell_type": "markdown",
   "id": "7ec8d582-b6ab-4799-9a19-757a432c8bde",
   "metadata": {},
   "source": [
    "# 4.numpy-Matrix Library"
   ]
  },
  {
   "cell_type": "code",
   "execution_count": 94,
   "id": "0dc46848-e86d-4dc9-8291-6dfdb8434086",
   "metadata": {},
   "outputs": [],
   "source": [
    "import numpy.matlib as nm"
   ]
  },
  {
   "cell_type": "code",
   "execution_count": 96,
   "id": "7eae10fe-4a3d-4e34-b034-57e2c8bcfdbe",
   "metadata": {},
   "outputs": [
    {
     "data": {
      "text/plain": [
       "matrix([[0., 0., 0., 0., 0.]])"
      ]
     },
     "execution_count": 96,
     "metadata": {},
     "output_type": "execute_result"
    }
   ],
   "source": [
    "nm.zeros(5)"
   ]
  },
  {
   "cell_type": "code",
   "execution_count": 98,
   "id": "3c3c9195-7853-4b7a-a978-335484ab3252",
   "metadata": {},
   "outputs": [
    {
     "data": {
      "text/plain": [
       "matrix([[1., 1., 1., 1.],\n",
       "        [1., 1., 1., 1.],\n",
       "        [1., 1., 1., 1.]])"
      ]
     },
     "execution_count": 98,
     "metadata": {},
     "output_type": "execute_result"
    }
   ],
   "source": [
    "nm.ones((3,4))"
   ]
  },
  {
   "cell_type": "code",
   "execution_count": 99,
   "id": "29d7fd0e-eeab-4f99-8103-1ef966e79e2d",
   "metadata": {},
   "outputs": [
    {
     "data": {
      "text/plain": [
       "matrix([[1., 0., 0., 0.],\n",
       "        [0., 1., 0., 0.],\n",
       "        [0., 0., 1., 0.],\n",
       "        [0., 0., 0., 1.]])"
      ]
     },
     "execution_count": 99,
     "metadata": {},
     "output_type": "execute_result"
    }
   ],
   "source": [
    "nm.eye(4)"
   ]
  },
  {
   "cell_type": "markdown",
   "id": "95899794-0c85-4fe0-ba06-8f56c4adddcb",
   "metadata": {},
   "source": [
    "# 5. Linear alzebra"
   ]
  },
  {
   "cell_type": "code",
   "execution_count": 104,
   "id": "b44f04b9-9072-4d3a-985f-16618e97c2be",
   "metadata": {},
   "outputs": [],
   "source": [
    "arr4=np.random.randint([[1,2],[4,5]])\n",
    "arr5=np.random.randint([[5,3],[2,5]])"
   ]
  },
  {
   "cell_type": "code",
   "execution_count": 105,
   "id": "612b1a81-5537-48cc-acec-6cb637ffc721",
   "metadata": {},
   "outputs": [
    {
     "data": {
      "text/plain": [
       "array([[0, 1],\n",
       "       [1, 4]])"
      ]
     },
     "execution_count": 105,
     "metadata": {},
     "output_type": "execute_result"
    }
   ],
   "source": [
    "arr4"
   ]
  },
  {
   "cell_type": "code",
   "execution_count": 106,
   "id": "15eb0535-2a39-41b1-8ecc-14c54c0ab8d6",
   "metadata": {},
   "outputs": [
    {
     "data": {
      "text/plain": [
       "array([[1, 2],\n",
       "       [0, 3]])"
      ]
     },
     "execution_count": 106,
     "metadata": {},
     "output_type": "execute_result"
    }
   ],
   "source": [
    "arr5"
   ]
  },
  {
   "cell_type": "code",
   "execution_count": 110,
   "id": "ef6621d5-f98c-4ee7-987d-1ec1067849c5",
   "metadata": {},
   "outputs": [
    {
     "data": {
      "text/plain": [
       "array([[ 0,  3],\n",
       "       [ 1, 14]])"
      ]
     },
     "execution_count": 110,
     "metadata": {},
     "output_type": "execute_result"
    }
   ],
   "source": [
    "np.dot(arr4,arr5) # matrix multiplication"
   ]
  },
  {
   "cell_type": "code",
   "execution_count": 109,
   "id": "da76d7fe-515b-4686-8406-d684691c9d8e",
   "metadata": {},
   "outputs": [
    {
     "data": {
      "text/plain": [
       "array([[ 0,  3],\n",
       "       [ 1, 14]])"
      ]
     },
     "execution_count": 109,
     "metadata": {},
     "output_type": "execute_result"
    }
   ],
   "source": [
    "arr4@arr5 # matrix multiplication"
   ]
  },
  {
   "cell_type": "code",
   "execution_count": 111,
   "id": "ee20e48f-c8c3-4e3e-a209-c1fe378ffa91",
   "metadata": {},
   "outputs": [],
   "source": [
    "for i in np.nditer(arr4):\n",
    "    if i<3:\n",
    "        i=0"
   ]
  },
  {
   "cell_type": "code",
   "execution_count": 112,
   "id": "e42c2f5b-ffaf-4770-ac2f-590051909509",
   "metadata": {},
   "outputs": [
    {
     "data": {
      "text/plain": [
       "array([[0, 1],\n",
       "       [1, 4]])"
      ]
     },
     "execution_count": 112,
     "metadata": {},
     "output_type": "execute_result"
    }
   ],
   "source": [
    "arr4"
   ]
  },
  {
   "cell_type": "code",
   "execution_count": 113,
   "id": "c3766f0a-58ec-4bce-986b-d20a453c931f",
   "metadata": {},
   "outputs": [],
   "source": [
    "arr4[arr4<10]=0"
   ]
  },
  {
   "cell_type": "code",
   "execution_count": 114,
   "id": "3cb9087d-1cc8-4585-bb73-92ef27eafdba",
   "metadata": {},
   "outputs": [
    {
     "data": {
      "text/plain": [
       "array([[0, 0],\n",
       "       [0, 0]])"
      ]
     },
     "execution_count": 114,
     "metadata": {},
     "output_type": "execute_result"
    }
   ],
   "source": [
    "arr4"
   ]
  },
  {
   "cell_type": "code",
   "execution_count": 115,
   "id": "d9beec91-9564-477a-b2c9-9bcb22583099",
   "metadata": {},
   "outputs": [
    {
     "data": {
      "text/plain": [
       "array([0, 1, 2, 3])"
      ]
     },
     "execution_count": 115,
     "metadata": {},
     "output_type": "execute_result"
    }
   ],
   "source": [
    "np.unique(arr5)"
   ]
  },
  {
   "cell_type": "code",
   "execution_count": 125,
   "id": "aebd73e5-dd58-46b5-b4cd-987d800c47d1",
   "metadata": {},
   "outputs": [],
   "source": [
    "arr6=np.array([[1,2],[3,4]])\n",
    "arr7=np.array([[5,6],[7,8]])"
   ]
  },
  {
   "cell_type": "code",
   "execution_count": 126,
   "id": "cfde345b-833a-48c5-a22a-3920146da66e",
   "metadata": {},
   "outputs": [
    {
     "ename": "TypeError",
     "evalue": "only integer scalar arrays can be converted to a scalar index",
     "output_type": "error",
     "traceback": [
      "\u001b[1;31m---------------------------------------------------------------------------\u001b[0m",
      "\u001b[1;31mTypeError\u001b[0m                                 Traceback (most recent call last)",
      "Cell \u001b[1;32mIn[126], line 1\u001b[0m\n\u001b[1;32m----> 1\u001b[0m \u001b[43mnp\u001b[49m\u001b[38;5;241;43m.\u001b[39;49m\u001b[43mconcatenate\u001b[49m\u001b[43m(\u001b[49m\u001b[43marr6\u001b[49m\u001b[43m,\u001b[49m\u001b[43marr7\u001b[49m\u001b[43m)\u001b[49m\n",
      "File \u001b[1;32m<__array_function__ internals>:200\u001b[0m, in \u001b[0;36mconcatenate\u001b[1;34m(*args, **kwargs)\u001b[0m\n",
      "\u001b[1;31mTypeError\u001b[0m: only integer scalar arrays can be converted to a scalar index"
     ]
    }
   ],
   "source": [
    "np.concatenate(arr6,arr7)"
   ]
  },
  {
   "cell_type": "code",
   "execution_count": 127,
   "id": "c38aacf8-8308-47c2-b46d-997bcaadf938",
   "metadata": {},
   "outputs": [
    {
     "data": {
      "text/plain": [
       "array([[1, 2],\n",
       "       [3, 4]])"
      ]
     },
     "execution_count": 127,
     "metadata": {},
     "output_type": "execute_result"
    }
   ],
   "source": [
    "arr6"
   ]
  },
  {
   "cell_type": "code",
   "execution_count": 128,
   "id": "9ac610c6-dd94-4eca-8ea2-6adb1beb4b94",
   "metadata": {},
   "outputs": [
    {
     "data": {
      "text/plain": [
       "array([[4, 3],\n",
       "       [2, 1]])"
      ]
     },
     "execution_count": 128,
     "metadata": {},
     "output_type": "execute_result"
    }
   ],
   "source": [
    "np.flip(arr6)"
   ]
  },
  {
   "cell_type": "code",
   "execution_count": 129,
   "id": "ce5db454-3b0b-4453-a7df-b8689800e22f",
   "metadata": {},
   "outputs": [
    {
     "data": {
      "text/plain": [
       "array([[0, 1],\n",
       "       [0, 1]], dtype=int64)"
      ]
     },
     "execution_count": 129,
     "metadata": {},
     "output_type": "execute_result"
    }
   ],
   "source": [
    "np.argsort(arr6)"
   ]
  },
  {
   "cell_type": "code",
   "execution_count": 130,
   "id": "bd010313-e1e8-4d1f-8651-1a66d15ae8ba",
   "metadata": {},
   "outputs": [
    {
     "data": {
      "text/plain": [
       "4"
      ]
     },
     "execution_count": 130,
     "metadata": {},
     "output_type": "execute_result"
    }
   ],
   "source": [
    "np.count_nonzero(arr6)"
   ]
  },
  {
   "cell_type": "code",
   "execution_count": 131,
   "id": "b0bb5f88-4dd8-4ad6-a7fe-b2575f823fbd",
   "metadata": {},
   "outputs": [
    {
     "data": {
      "text/plain": [
       "3"
      ]
     },
     "execution_count": 131,
     "metadata": {},
     "output_type": "execute_result"
    }
   ],
   "source": [
    "np.argmax(arr6)\n"
   ]
  },
  {
   "cell_type": "code",
   "execution_count": null,
   "id": "306b5386-f7ec-4964-a79b-93f992453d03",
   "metadata": {},
   "outputs": [],
   "source": []
  }
 ],
 "metadata": {
  "kernelspec": {
   "display_name": "Python 3 (ipykernel)",
   "language": "python",
   "name": "python3"
  },
  "language_info": {
   "codemirror_mode": {
    "name": "ipython",
    "version": 3
   },
   "file_extension": ".py",
   "mimetype": "text/x-python",
   "name": "python",
   "nbconvert_exporter": "python",
   "pygments_lexer": "ipython3",
   "version": "3.11.1"
  }
 },
 "nbformat": 4,
 "nbformat_minor": 5
}
