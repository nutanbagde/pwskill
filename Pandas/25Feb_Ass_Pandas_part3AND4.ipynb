{
 "cells": [
  {
   "cell_type": "markdown",
   "id": "ca9e860e-7f75-4ccc-891e-fc3a98f7e291",
   "metadata": {},
   "source": [
    "Consider following code to answer further questions:\n"
   ]
  },
  {
   "cell_type": "code",
   "execution_count": 2,
   "id": "3a09455a-3026-4332-a81f-f852fb542e47",
   "metadata": {
    "tags": []
   },
   "outputs": [],
   "source": [
    "import pandas as pd\n",
    "course_name = ['Data Science', 'Machine Learning', 'Big Data', 'Data Engineer']\n",
    "duration = [2,3,6,4]\n",
    "df = pd.DataFrame(data = {'course_name' : course_name, 'duration' : duration})"
   ]
  },
  {
   "cell_type": "code",
   "execution_count": 3,
   "id": "3dd1e2a3-8a09-4d09-b65c-beb539f359d0",
   "metadata": {
    "tags": []
   },
   "outputs": [
    {
     "data": {
      "text/html": [
       "<div>\n",
       "<style scoped>\n",
       "    .dataframe tbody tr th:only-of-type {\n",
       "        vertical-align: middle;\n",
       "    }\n",
       "\n",
       "    .dataframe tbody tr th {\n",
       "        vertical-align: top;\n",
       "    }\n",
       "\n",
       "    .dataframe thead th {\n",
       "        text-align: right;\n",
       "    }\n",
       "</style>\n",
       "<table border=\"1\" class=\"dataframe\">\n",
       "  <thead>\n",
       "    <tr style=\"text-align: right;\">\n",
       "      <th></th>\n",
       "      <th>course_name</th>\n",
       "      <th>duration</th>\n",
       "    </tr>\n",
       "  </thead>\n",
       "  <tbody>\n",
       "    <tr>\n",
       "      <th>0</th>\n",
       "      <td>Data Science</td>\n",
       "      <td>2</td>\n",
       "    </tr>\n",
       "    <tr>\n",
       "      <th>1</th>\n",
       "      <td>Machine Learning</td>\n",
       "      <td>3</td>\n",
       "    </tr>\n",
       "    <tr>\n",
       "      <th>2</th>\n",
       "      <td>Big Data</td>\n",
       "      <td>6</td>\n",
       "    </tr>\n",
       "    <tr>\n",
       "      <th>3</th>\n",
       "      <td>Data Engineer</td>\n",
       "      <td>4</td>\n",
       "    </tr>\n",
       "  </tbody>\n",
       "</table>\n",
       "</div>"
      ],
      "text/plain": [
       "        course_name  duration\n",
       "0      Data Science         2\n",
       "1  Machine Learning         3\n",
       "2          Big Data         6\n",
       "3     Data Engineer         4"
      ]
     },
     "execution_count": 3,
     "metadata": {},
     "output_type": "execute_result"
    }
   ],
   "source": [
    "df"
   ]
  },
  {
   "cell_type": "markdown",
   "id": "f997969f-2271-4e81-a570-629b7a14317e",
   "metadata": {
    "tags": []
   },
   "source": [
    "# Q1. Write a code to print the data present in the second row of the dataframe, df.\n"
   ]
  },
  {
   "cell_type": "markdown",
   "id": "1743a0d0-e3e9-47f1-afe6-e496b0e9fcd0",
   "metadata": {},
   "source": [
    "Ans:-"
   ]
  },
  {
   "cell_type": "code",
   "execution_count": 4,
   "id": "4482129b-8b2d-4b4b-a2e5-409ce9fc3dfa",
   "metadata": {},
   "outputs": [
    {
     "data": {
      "text/plain": [
       "0    2\n",
       "1    3\n",
       "2    6\n",
       "3    4\n",
       "Name: duration, dtype: int64"
      ]
     },
     "execution_count": 4,
     "metadata": {},
     "output_type": "execute_result"
    }
   ],
   "source": [
    "df['duration']"
   ]
  },
  {
   "cell_type": "markdown",
   "id": "0d82ad95-b569-44f5-8fd7-36f5cd267a84",
   "metadata": {},
   "source": [
    "# Q2. What is the difference between the functions loc and iloc in pandas.DataFrame?\n"
   ]
  },
  {
   "cell_type": "markdown",
   "id": "a0a5eb1a-8635-4cce-a982-b987b17fb686",
   "metadata": {},
   "source": [
    "Ans:-"
   ]
  },
  {
   "cell_type": "markdown",
   "id": "039170d7-35d6-46a5-afa1-e7e4bc57c63b",
   "metadata": {},
   "source": [
    "\n",
    "In pandas, loc and iloc are two different functions used to access data in a DataFrame, but they have distinct purposes:\n",
    "\n",
    "\n",
    "|Sr.No.|loc| iloc|\n",
    "|:-:|:-:|:-:|\n",
    "|1| loc (Label-based indexing)|(Integer-based indexing)| \n",
    "|2|Access a group of rows and columns by label(s) or a boolean array.|Purely integer-location based indexing for selection by position.|\n",
    "|3|.loc is primarily label based, but may also be used with a boolean array. | .iloc is primarily integer position based (from 0 to length-1 of the axis), but may also be used with a boolean array|\n",
    "|4|With loc, you specify row and column labels|with iloc, you provide row and column indices.|\n",
    "|5|loc is inclusive on both ends when slicing, i.e., loc[start_row_label:end_row_label, start_column_label:end_column_label] includes both the start and end rows/column| whereas iloc follows the usual Python indexing convention, where the end value is exclusive when slicing.|\n",
    "\n",
    "\n",
    "It is essential to use the appropriate method depending on your use case. If you want to access data using specific labels or slice using label-based ranges, use loc. If you want to access data based on integer positions or slice using integer ranges, use iloc."
   ]
  },
  {
   "cell_type": "markdown",
   "id": "56847f4c-4bdc-4c9a-b0ac-bad5ab8ba121",
   "metadata": {},
   "source": [
    "# Q3. Reindex the given dataframe using a variable, reindex = [3,0,1,2] and store it in the variable, new_df then find the output for both new_df.loc[2] and new_df.iloc[2].\n",
    "\n",
    "# Did you observe any difference in both the outputs? If so then explain it.\n",
    "# Consider the below code to answer further questions:\n",
    "import pandas as pd\n",
    "\n",
    "import numpy as np\n",
    "\n",
    "columns = ['column_1', 'column_2', 'column_3', 'column_4', 'column_5', 'column_6']\n",
    "\n",
    "indices = [1,2,3,4,5,6]\n",
    "\n",
    "#Creating a dataframe:\n",
    "\n",
    "df1 = pd.DataFrame(np.random.rand(6,6), columns = columns, index = indices)\n"
   ]
  },
  {
   "cell_type": "markdown",
   "id": "c8fc6f5c-8045-4104-a2cb-054ad6c6b108",
   "metadata": {},
   "source": [
    "Ans:-"
   ]
  },
  {
   "cell_type": "code",
   "execution_count": 2,
   "id": "be139321-3b64-4265-909a-3c7b4d185341",
   "metadata": {},
   "outputs": [],
   "source": [
    "import pandas as pd\n",
    "\n",
    "data = {'Name': ['Alice', 'Bob', 'Charlie'],\n",
    "        'Age': [25, 30, 35],\n",
    "        'City': ['New York', 'London', 'Tokyo']}\n",
    "df = pd.DataFrame(data) \n",
    "\n"
   ]
  },
  {
   "cell_type": "code",
   "execution_count": 3,
   "id": "af9bb805-08b1-475c-ba6f-c5c98f417873",
   "metadata": {
    "tags": []
   },
   "outputs": [
    {
     "data": {
      "text/html": [
       "<div>\n",
       "<style scoped>\n",
       "    .dataframe tbody tr th:only-of-type {\n",
       "        vertical-align: middle;\n",
       "    }\n",
       "\n",
       "    .dataframe tbody tr th {\n",
       "        vertical-align: top;\n",
       "    }\n",
       "\n",
       "    .dataframe thead th {\n",
       "        text-align: right;\n",
       "    }\n",
       "</style>\n",
       "<table border=\"1\" class=\"dataframe\">\n",
       "  <thead>\n",
       "    <tr style=\"text-align: right;\">\n",
       "      <th></th>\n",
       "      <th>Name</th>\n",
       "      <th>Age</th>\n",
       "      <th>City</th>\n",
       "    </tr>\n",
       "  </thead>\n",
       "  <tbody>\n",
       "    <tr>\n",
       "      <th>0</th>\n",
       "      <td>Alice</td>\n",
       "      <td>25</td>\n",
       "      <td>New York</td>\n",
       "    </tr>\n",
       "    <tr>\n",
       "      <th>1</th>\n",
       "      <td>Bob</td>\n",
       "      <td>30</td>\n",
       "      <td>London</td>\n",
       "    </tr>\n",
       "    <tr>\n",
       "      <th>2</th>\n",
       "      <td>Charlie</td>\n",
       "      <td>35</td>\n",
       "      <td>Tokyo</td>\n",
       "    </tr>\n",
       "  </tbody>\n",
       "</table>\n",
       "</div>"
      ],
      "text/plain": [
       "      Name  Age      City\n",
       "0    Alice   25  New York\n",
       "1      Bob   30    London\n",
       "2  Charlie   35     Tokyo"
      ]
     },
     "execution_count": 3,
     "metadata": {},
     "output_type": "execute_result"
    }
   ],
   "source": [
    "df"
   ]
  },
  {
   "cell_type": "code",
   "execution_count": 7,
   "id": "5b368294-9f91-45ba-b7aa-df705eaef8f3",
   "metadata": {
    "tags": []
   },
   "outputs": [
    {
     "data": {
      "text/plain": [
       "'Bob'"
      ]
     },
     "execution_count": 7,
     "metadata": {},
     "output_type": "execute_result"
    }
   ],
   "source": [
    "df.loc[1,'Name']"
   ]
  },
  {
   "cell_type": "code",
   "execution_count": 11,
   "id": "9aae34a1-3ad2-4849-825b-26fd503e893d",
   "metadata": {
    "tags": []
   },
   "outputs": [
    {
     "data": {
      "text/plain": [
       "Name       Alice\n",
       "Age           25\n",
       "City    New York\n",
       "Name: 0, dtype: object"
      ]
     },
     "execution_count": 11,
     "metadata": {},
     "output_type": "execute_result"
    }
   ],
   "source": [
    "df.iloc[0]"
   ]
  },
  {
   "cell_type": "code",
   "execution_count": 13,
   "id": "ff75d223-ae01-49c6-bfc1-9f25416b139a",
   "metadata": {
    "tags": []
   },
   "outputs": [
    {
     "data": {
      "text/plain": [
       "'New York'"
      ]
     },
     "execution_count": 13,
     "metadata": {},
     "output_type": "execute_result"
    }
   ],
   "source": [
    "df.iloc[0,2]"
   ]
  },
  {
   "cell_type": "markdown",
   "id": "0dd2b66c-96f6-4af0-89b6-6e37183fea02",
   "metadata": {},
   "source": [
    "---\n",
    "---"
   ]
  },
  {
   "cell_type": "markdown",
   "id": "37b29ac3-14f8-4d53-a6d7-dceb1c2d5707",
   "metadata": {},
   "source": [
    "# Q4. Write a code to find the following statistical measurements for the above dataframe df1:\n",
    "# (i) mean of each and every column present in the dataframe.\n",
    "# (ii) standard deviation of column, ‘column_2’\n"
   ]
  },
  {
   "cell_type": "markdown",
   "id": "7e2c5b2e-13ac-4d7c-956a-02dd223aaab0",
   "metadata": {},
   "source": [
    "Ans:-"
   ]
  },
  {
   "cell_type": "code",
   "execution_count": 14,
   "id": "ba7ae748-85d1-46b5-b27e-1d0448c4e977",
   "metadata": {
    "tags": []
   },
   "outputs": [],
   "source": [
    "import seaborn as sns"
   ]
  },
  {
   "cell_type": "code",
   "execution_count": 17,
   "id": "6f388fa1-288e-47b4-9f91-7621925f46d0",
   "metadata": {},
   "outputs": [
    {
     "data": {
      "text/html": [
       "<div>\n",
       "<style scoped>\n",
       "    .dataframe tbody tr th:only-of-type {\n",
       "        vertical-align: middle;\n",
       "    }\n",
       "\n",
       "    .dataframe tbody tr th {\n",
       "        vertical-align: top;\n",
       "    }\n",
       "\n",
       "    .dataframe thead th {\n",
       "        text-align: right;\n",
       "    }\n",
       "</style>\n",
       "<table border=\"1\" class=\"dataframe\">\n",
       "  <thead>\n",
       "    <tr style=\"text-align: right;\">\n",
       "      <th></th>\n",
       "      <th>total</th>\n",
       "      <th>speeding</th>\n",
       "      <th>alcohol</th>\n",
       "      <th>not_distracted</th>\n",
       "      <th>no_previous</th>\n",
       "      <th>ins_premium</th>\n",
       "      <th>ins_losses</th>\n",
       "      <th>abbrev</th>\n",
       "    </tr>\n",
       "  </thead>\n",
       "  <tbody>\n",
       "    <tr>\n",
       "      <th>0</th>\n",
       "      <td>18.8</td>\n",
       "      <td>7.332</td>\n",
       "      <td>5.640</td>\n",
       "      <td>18.048</td>\n",
       "      <td>15.040</td>\n",
       "      <td>784.55</td>\n",
       "      <td>145.08</td>\n",
       "      <td>AL</td>\n",
       "    </tr>\n",
       "    <tr>\n",
       "      <th>1</th>\n",
       "      <td>18.1</td>\n",
       "      <td>7.421</td>\n",
       "      <td>4.525</td>\n",
       "      <td>16.290</td>\n",
       "      <td>17.014</td>\n",
       "      <td>1053.48</td>\n",
       "      <td>133.93</td>\n",
       "      <td>AK</td>\n",
       "    </tr>\n",
       "    <tr>\n",
       "      <th>2</th>\n",
       "      <td>18.6</td>\n",
       "      <td>6.510</td>\n",
       "      <td>5.208</td>\n",
       "      <td>15.624</td>\n",
       "      <td>17.856</td>\n",
       "      <td>899.47</td>\n",
       "      <td>110.35</td>\n",
       "      <td>AZ</td>\n",
       "    </tr>\n",
       "    <tr>\n",
       "      <th>3</th>\n",
       "      <td>22.4</td>\n",
       "      <td>4.032</td>\n",
       "      <td>5.824</td>\n",
       "      <td>21.056</td>\n",
       "      <td>21.280</td>\n",
       "      <td>827.34</td>\n",
       "      <td>142.39</td>\n",
       "      <td>AR</td>\n",
       "    </tr>\n",
       "    <tr>\n",
       "      <th>4</th>\n",
       "      <td>12.0</td>\n",
       "      <td>4.200</td>\n",
       "      <td>3.360</td>\n",
       "      <td>10.920</td>\n",
       "      <td>10.680</td>\n",
       "      <td>878.41</td>\n",
       "      <td>165.63</td>\n",
       "      <td>CA</td>\n",
       "    </tr>\n",
       "  </tbody>\n",
       "</table>\n",
       "</div>"
      ],
      "text/plain": [
       "   total  speeding  alcohol  not_distracted  no_previous  ins_premium   \n",
       "0   18.8     7.332    5.640          18.048       15.040       784.55  \\\n",
       "1   18.1     7.421    4.525          16.290       17.014      1053.48   \n",
       "2   18.6     6.510    5.208          15.624       17.856       899.47   \n",
       "3   22.4     4.032    5.824          21.056       21.280       827.34   \n",
       "4   12.0     4.200    3.360          10.920       10.680       878.41   \n",
       "\n",
       "   ins_losses abbrev  \n",
       "0      145.08     AL  \n",
       "1      133.93     AK  \n",
       "2      110.35     AZ  \n",
       "3      142.39     AR  \n",
       "4      165.63     CA  "
      ]
     },
     "execution_count": 17,
     "metadata": {},
     "output_type": "execute_result"
    }
   ],
   "source": [
    "df=sns.load_dataset('car_crashes')\n",
    "df.head()"
   ]
  },
  {
   "cell_type": "code",
   "execution_count": 27,
   "id": "7e3c5cb1-7b41-408e-8c1f-c02745e188f1",
   "metadata": {},
   "outputs": [
    {
     "data": {
      "text/plain": [
       "total              15.790196\n",
       "speeding            4.998196\n",
       "alcohol             4.886784\n",
       "not_distracted     13.573176\n",
       "no_previous        14.004882\n",
       "ins_premium       886.957647\n",
       "ins_losses        134.493137\n",
       "dtype: float64"
      ]
     },
     "execution_count": 27,
     "metadata": {},
     "output_type": "execute_result"
    }
   ],
   "source": [
    "df.mean(numeric_only=True)"
   ]
  },
  {
   "cell_type": "code",
   "execution_count": 35,
   "id": "9e5e7d71-f014-4e93-9f8c-0d46634966f4",
   "metadata": {
    "tags": []
   },
   "outputs": [
    {
     "data": {
      "text/plain": [
       "2.0177470903917354"
      ]
     },
     "execution_count": 35,
     "metadata": {},
     "output_type": "execute_result"
    }
   ],
   "source": [
    "df['speeding'].std(numeric_only=True)"
   ]
  },
  {
   "cell_type": "markdown",
   "id": "13e50eee-2ed5-4b9a-a455-7a1715ae5a7b",
   "metadata": {},
   "source": [
    "---\n",
    "---"
   ]
  },
  {
   "cell_type": "markdown",
   "id": "516bc1e4-35f7-4101-aeea-f6942d6808d2",
   "metadata": {},
   "source": [
    "# Q5. Replace the data present in the second row of column, ‘column_2’ by a string variable then find the mean of column, column_2.\n",
    "# If you are getting errors in executing it then explain why.\n",
    "[Hint: To replace the data use df1.loc[] and equate this to string data of your choice.]\n"
   ]
  },
  {
   "cell_type": "markdown",
   "id": "cb84173a-969e-4bb9-8210-6a820034af2b",
   "metadata": {},
   "source": [
    "Ans:-"
   ]
  },
  {
   "cell_type": "code",
   "execution_count": 38,
   "id": "377677fa-8866-4003-b94d-606f16f479e6",
   "metadata": {},
   "outputs": [
    {
     "name": "stdout",
     "output_type": "stream",
     "text": [
      "Mean of 'column_2': 266.6666666666667\n"
     ]
    }
   ],
   "source": [
    "import pandas as pd\n",
    "\n",
    "# Sample DataFrame\n",
    "data = {'column_1': [10, 20, 30, 40],\n",
    "        'column_2': [100, 200, 300, 400]}\n",
    "df = pd.DataFrame(data)\n",
    "\n",
    "# Replace data in the second row of 'column_2' with a string variable\n",
    "df.at[1, 'column_2'] = 'replaced_string'\n",
    "\n",
    "# Convert 'column_2' to numeric if needed (since it now contains a string)\n",
    "df['column_2'] = pd.to_numeric(df['column_2'], errors='coerce')\n",
    "\n",
    "# Find the mean of 'column_2'\n",
    "mean_column_2 = df['column_2'].mean()\n",
    "print(\"Mean of 'column_2':\", mean_column_2)"
   ]
  },
  {
   "cell_type": "markdown",
   "id": "a602e742-1a9c-4d02-a05e-e7cddce5bf6c",
   "metadata": {},
   "source": [
    "---\n",
    "----"
   ]
  },
  {
   "cell_type": "markdown",
   "id": "23334708-0ec0-443c-9922-baa164876def",
   "metadata": {},
   "source": [
    "# Q6. What do you understand about the windows function in pandas and list the types of windows functions?\n"
   ]
  },
  {
   "cell_type": "markdown",
   "id": "c5b9fcfa-a891-4232-9461-332fc0e57f86",
   "metadata": {},
   "source": [
    "Ans:-"
   ]
  },
  {
   "cell_type": "markdown",
   "id": "49c6af54-552c-468c-9cfe-cf7167127e0b",
   "metadata": {},
   "source": [
    "In pandas, a window function is a way to perform calculations over a specific \"window\" or \"group\" of rows in a DataFrame. These functions are useful for performing aggregate calculations that depend on a particular set of rows or for applying a transformation that involves multiple rows at a time. Window functions in pandas are typically used in combination with the groupby operation to split the data into groups and then apply the function within each group.\n",
    "\n",
    "Window functions are accessed using the rolling and expanding methods on pandas Series or DataFrames, and they provide a powerful way to analyze and manipulate time-series or sequential data.\n",
    "\n",
    "There are two types of window functions in pandas:\n",
    "\n",
    "A. __Rolling Window Functions:__\n",
    "Rolling window functions work on a defined window of fixed-size that moves across the data. The window's size determines the number of rows (observations) to include in each calculation, and it \"rolls\" or \"slides\" over the data to produce aggregated or transformed results for each window position.\n",
    "\n",
    "Common rolling window functions include:\n",
    "\n",
    "1. __rolling().mean():__ Calculates the rolling mean.\n",
    "2. __olling().sum():__ Calculates the rolling sum.\n",
    "3. __rolling().std():__ Calculates the rolling standard deviation.\n",
    "4. __rolling().min():__ Calculates the rolling minimum.\n",
    "5. __rolling().max():__ Calculates the rolling maximum.\n",
    "6. __rolling().apply(func):__ Applies a custom function to each rolling window.\n",
    "\n",
    "B. __Expanding Window Functions:__\n",
    "Expanding window functions consider all data points up to the current row. The size of the window increases as more rows are processed. This type of window function is useful when you want to analyze how an aggregate value evolves as more data becomes available.\n",
    "\n",
    "__Common expanding window functions include:__\n",
    "\n",
    "1. __expanding().sum():__ Calculates the cumulative sum.\n",
    "2. __xpanding().mean():__ Calculates the cumulative mean.\n",
    "3. __expanding().std():__ Calculates the cumulative standard deviation.\n",
    "4. __expanding().min():__ Calculates the cumulative minimum.\n",
    "5. __expanding().max():__ Calculates the cumulative maximum.\n",
    "6. __expanding().apply(func):__ Applies a custom function to each expanding window.\n",
    "\n",
    "Usage of window functions in pandas can help gain insights into data patterns, trends, and statistics over specific windows of interest, especially in time-series data analysis and sequential data processing."
   ]
  },
  {
   "cell_type": "markdown",
   "id": "dde24c18-5740-46e7-97f9-8173d6f83ae8",
   "metadata": {},
   "source": [
    "## Check my below example to show 20 days moving average for Adani Power Stock with visualization"
   ]
  },
  {
   "cell_type": "code",
   "execution_count": 6,
   "id": "efb72ad2-0fe7-455f-8807-e019e59bc5d0",
   "metadata": {
    "tags": []
   },
   "outputs": [
    {
     "name": "stdout",
     "output_type": "stream",
     "text": [
      "[*********************100%%**********************]  1 of 1 completed\n"
     ]
    },
    {
     "data": {
      "text/html": [
       "<div>\n",
       "<style scoped>\n",
       "    .dataframe tbody tr th:only-of-type {\n",
       "        vertical-align: middle;\n",
       "    }\n",
       "\n",
       "    .dataframe tbody tr th {\n",
       "        vertical-align: top;\n",
       "    }\n",
       "\n",
       "    .dataframe thead th {\n",
       "        text-align: right;\n",
       "    }\n",
       "</style>\n",
       "<table border=\"1\" class=\"dataframe\">\n",
       "  <thead>\n",
       "    <tr style=\"text-align: right;\">\n",
       "      <th></th>\n",
       "      <th>Open</th>\n",
       "      <th>High</th>\n",
       "      <th>Low</th>\n",
       "      <th>Close</th>\n",
       "      <th>Adj Close</th>\n",
       "      <th>Volume</th>\n",
       "    </tr>\n",
       "    <tr>\n",
       "      <th>Date</th>\n",
       "      <th></th>\n",
       "      <th></th>\n",
       "      <th></th>\n",
       "      <th></th>\n",
       "      <th></th>\n",
       "      <th></th>\n",
       "    </tr>\n",
       "  </thead>\n",
       "  <tbody>\n",
       "    <tr>\n",
       "      <th>2022-11-03</th>\n",
       "      <td>341.000000</td>\n",
       "      <td>343.399994</td>\n",
       "      <td>336.049988</td>\n",
       "      <td>336.750000</td>\n",
       "      <td>336.750000</td>\n",
       "      <td>1135056</td>\n",
       "    </tr>\n",
       "    <tr>\n",
       "      <th>2022-11-04</th>\n",
       "      <td>338.000000</td>\n",
       "      <td>350.000000</td>\n",
       "      <td>332.750000</td>\n",
       "      <td>346.850006</td>\n",
       "      <td>346.850006</td>\n",
       "      <td>1800682</td>\n",
       "    </tr>\n",
       "    <tr>\n",
       "      <th>2022-11-07</th>\n",
       "      <td>348.000000</td>\n",
       "      <td>350.000000</td>\n",
       "      <td>342.750000</td>\n",
       "      <td>348.600006</td>\n",
       "      <td>348.600006</td>\n",
       "      <td>1380946</td>\n",
       "    </tr>\n",
       "    <tr>\n",
       "      <th>2022-11-09</th>\n",
       "      <td>348.600006</td>\n",
       "      <td>366.000000</td>\n",
       "      <td>345.000000</td>\n",
       "      <td>365.799988</td>\n",
       "      <td>365.799988</td>\n",
       "      <td>3891628</td>\n",
       "    </tr>\n",
       "    <tr>\n",
       "      <th>2022-11-10</th>\n",
       "      <td>365.799988</td>\n",
       "      <td>377.000000</td>\n",
       "      <td>358.000000</td>\n",
       "      <td>371.399994</td>\n",
       "      <td>371.399994</td>\n",
       "      <td>2938662</td>\n",
       "    </tr>\n",
       "  </tbody>\n",
       "</table>\n",
       "</div>"
      ],
      "text/plain": [
       "                  Open        High         Low       Close   Adj Close   \n",
       "Date                                                                     \n",
       "2022-11-03  341.000000  343.399994  336.049988  336.750000  336.750000  \\\n",
       "2022-11-04  338.000000  350.000000  332.750000  346.850006  346.850006   \n",
       "2022-11-07  348.000000  350.000000  342.750000  348.600006  348.600006   \n",
       "2022-11-09  348.600006  366.000000  345.000000  365.799988  365.799988   \n",
       "2022-11-10  365.799988  377.000000  358.000000  371.399994  371.399994   \n",
       "\n",
       "             Volume  \n",
       "Date                 \n",
       "2022-11-03  1135056  \n",
       "2022-11-04  1800682  \n",
       "2022-11-07  1380946  \n",
       "2022-11-09  3891628  \n",
       "2022-11-10  2938662  "
      ]
     },
     "execution_count": 6,
     "metadata": {},
     "output_type": "execute_result"
    }
   ],
   "source": [
    "import yfinance as yf\n",
    "import pandas as pd\n",
    "from warnings import filterwarnings\n",
    "filterwarnings('ignore')\n",
    "\n",
    "# Ticker for Adani Power\n",
    "ticker = 'ADANIPOWER.NS'\n",
    "\n",
    "# Download the ticker info with yfinance REST API\n",
    "df_stock = yf.download(ticker, period='1y',interval='1d')\n",
    "df_stock.head()"
   ]
  },
  {
   "cell_type": "code",
   "execution_count": 7,
   "id": "9648f3ee-e3fc-4f62-aa03-1caee745e7fc",
   "metadata": {
    "tags": []
   },
   "outputs": [
    {
     "data": {
      "text/html": [
       "<div>\n",
       "<style scoped>\n",
       "    .dataframe tbody tr th:only-of-type {\n",
       "        vertical-align: middle;\n",
       "    }\n",
       "\n",
       "    .dataframe tbody tr th {\n",
       "        vertical-align: top;\n",
       "    }\n",
       "\n",
       "    .dataframe thead th {\n",
       "        text-align: right;\n",
       "    }\n",
       "</style>\n",
       "<table border=\"1\" class=\"dataframe\">\n",
       "  <thead>\n",
       "    <tr style=\"text-align: right;\">\n",
       "      <th></th>\n",
       "      <th>Close</th>\n",
       "    </tr>\n",
       "    <tr>\n",
       "      <th>Date</th>\n",
       "      <th></th>\n",
       "    </tr>\n",
       "  </thead>\n",
       "  <tbody>\n",
       "    <tr>\n",
       "      <th>2022-11-03</th>\n",
       "      <td>336.750000</td>\n",
       "    </tr>\n",
       "    <tr>\n",
       "      <th>2022-11-04</th>\n",
       "      <td>346.850006</td>\n",
       "    </tr>\n",
       "    <tr>\n",
       "      <th>2022-11-07</th>\n",
       "      <td>348.600006</td>\n",
       "    </tr>\n",
       "    <tr>\n",
       "      <th>2022-11-09</th>\n",
       "      <td>365.799988</td>\n",
       "    </tr>\n",
       "    <tr>\n",
       "      <th>2022-11-10</th>\n",
       "      <td>371.399994</td>\n",
       "    </tr>\n",
       "  </tbody>\n",
       "</table>\n",
       "</div>"
      ],
      "text/plain": [
       "                 Close\n",
       "Date                  \n",
       "2022-11-03  336.750000\n",
       "2022-11-04  346.850006\n",
       "2022-11-07  348.600006\n",
       "2022-11-09  365.799988\n",
       "2022-11-10  371.399994"
      ]
     },
     "execution_count": 7,
     "metadata": {},
     "output_type": "execute_result"
    }
   ],
   "source": [
    "# Saving Closing price of stock in new dataframe\n",
    "df_close = df_stock[['Close']]\n",
    "df_close.head()"
   ]
  },
  {
   "cell_type": "code",
   "execution_count": 8,
   "id": "1e48d910-263f-4fd5-afa9-d656421aeeae",
   "metadata": {
    "tags": []
   },
   "outputs": [
    {
     "data": {
      "text/html": [
       "<div>\n",
       "<style scoped>\n",
       "    .dataframe tbody tr th:only-of-type {\n",
       "        vertical-align: middle;\n",
       "    }\n",
       "\n",
       "    .dataframe tbody tr th {\n",
       "        vertical-align: top;\n",
       "    }\n",
       "\n",
       "    .dataframe thead th {\n",
       "        text-align: right;\n",
       "    }\n",
       "</style>\n",
       "<table border=\"1\" class=\"dataframe\">\n",
       "  <thead>\n",
       "    <tr style=\"text-align: right;\">\n",
       "      <th></th>\n",
       "      <th>Close</th>\n",
       "      <th>20_Days_Moving_Average</th>\n",
       "    </tr>\n",
       "    <tr>\n",
       "      <th>Date</th>\n",
       "      <th></th>\n",
       "      <th></th>\n",
       "    </tr>\n",
       "  </thead>\n",
       "  <tbody>\n",
       "    <tr>\n",
       "      <th>2022-11-03</th>\n",
       "      <td>336.750000</td>\n",
       "      <td>336.750000</td>\n",
       "    </tr>\n",
       "    <tr>\n",
       "      <th>2022-11-04</th>\n",
       "      <td>346.850006</td>\n",
       "      <td>341.800003</td>\n",
       "    </tr>\n",
       "    <tr>\n",
       "      <th>2022-11-07</th>\n",
       "      <td>348.600006</td>\n",
       "      <td>344.066671</td>\n",
       "    </tr>\n",
       "    <tr>\n",
       "      <th>2022-11-09</th>\n",
       "      <td>365.799988</td>\n",
       "      <td>349.500000</td>\n",
       "    </tr>\n",
       "    <tr>\n",
       "      <th>2022-11-10</th>\n",
       "      <td>371.399994</td>\n",
       "      <td>353.879999</td>\n",
       "    </tr>\n",
       "    <tr>\n",
       "      <th>...</th>\n",
       "      <td>...</td>\n",
       "      <td>...</td>\n",
       "    </tr>\n",
       "    <tr>\n",
       "      <th>2023-10-30</th>\n",
       "      <td>357.950012</td>\n",
       "      <td>346.370001</td>\n",
       "    </tr>\n",
       "    <tr>\n",
       "      <th>2023-10-31</th>\n",
       "      <td>363.049988</td>\n",
       "      <td>345.650000</td>\n",
       "    </tr>\n",
       "    <tr>\n",
       "      <th>2023-11-01</th>\n",
       "      <td>365.200012</td>\n",
       "      <td>345.575000</td>\n",
       "    </tr>\n",
       "    <tr>\n",
       "      <th>2023-11-02</th>\n",
       "      <td>372.950012</td>\n",
       "      <td>345.620001</td>\n",
       "    </tr>\n",
       "    <tr>\n",
       "      <th>2023-11-03</th>\n",
       "      <td>384.649994</td>\n",
       "      <td>346.560001</td>\n",
       "    </tr>\n",
       "  </tbody>\n",
       "</table>\n",
       "<p>249 rows × 2 columns</p>\n",
       "</div>"
      ],
      "text/plain": [
       "                 Close  20_Days_Moving_Average\n",
       "Date                                          \n",
       "2022-11-03  336.750000              336.750000\n",
       "2022-11-04  346.850006              341.800003\n",
       "2022-11-07  348.600006              344.066671\n",
       "2022-11-09  365.799988              349.500000\n",
       "2022-11-10  371.399994              353.879999\n",
       "...                ...                     ...\n",
       "2023-10-30  357.950012              346.370001\n",
       "2023-10-31  363.049988              345.650000\n",
       "2023-11-01  365.200012              345.575000\n",
       "2023-11-02  372.950012              345.620001\n",
       "2023-11-03  384.649994              346.560001\n",
       "\n",
       "[249 rows x 2 columns]"
      ]
     },
     "execution_count": 8,
     "metadata": {},
     "output_type": "execute_result"
    }
   ],
   "source": [
    "# Calculating 20 days rolling mean for above stock\n",
    "df_close['20_Days_Moving_Average'] = df_close['Close'].rolling(window=20,min_periods=1).mean()\n",
    "df_close"
   ]
  },
  {
   "cell_type": "code",
   "execution_count": 9,
   "id": "6effe76a-902e-449f-9830-90bd4ab53319",
   "metadata": {
    "tags": []
   },
   "outputs": [],
   "source": [
    "### Visualizing the results"
   ]
  },
  {
   "cell_type": "code",
   "execution_count": 10,
   "id": "d5df3d5b-c922-406d-9df7-9c0cca139b65",
   "metadata": {
    "tags": []
   },
   "outputs": [
    {
     "data": {
      "text/plain": [
       "<Axes: title={'center': 'ADANIPOWER.NS Stock visualization'}, xlabel='Date', ylabel='Close'>"
      ]
     },
     "execution_count": 10,
     "metadata": {},
     "output_type": "execute_result"
    },
    {
     "data": {
      "image/png": "[encoded data removed]",
      "text/plain": [
       "<Figure size 1600x800 with 1 Axes>"
      ]
     },
     "metadata": {},
     "output_type": "display_data"
    }
   ],
   "source": [
    "df_close.plot(kind='line',figsize=(16,8),title='ADANIPOWER.NS Stock visualization',ylabel='Close')"
   ]
  },
  {
   "cell_type": "markdown",
   "id": "26fed5d4-1ae0-474e-aa7a-e80ed9c2f5e2",
   "metadata": {},
   "source": [
    "---\n",
    "---"
   ]
  },
  {
   "cell_type": "markdown",
   "id": "2a56eaaf-953d-4144-a9e4-2e5f58b5d8b5",
   "metadata": {},
   "source": [
    "# Q7. Write a code to print only the current month and year at the time of answering this question. [Hint: Use pandas.datetime function]\n"
   ]
  },
  {
   "cell_type": "markdown",
   "id": "d55b022d-5f2a-4f4d-a439-e65930bdbb20",
   "metadata": {
    "tags": []
   },
   "source": [
    "Ans:-"
   ]
  },
  {
   "cell_type": "code",
   "execution_count": 43,
   "id": "96d6b9eb-c749-4634-b12f-8ad15d5bedf2",
   "metadata": {
    "tags": []
   },
   "outputs": [
    {
     "data": {
      "text/plain": [
       "Timestamp('2023-08-02 12:03:12.432056')"
      ]
     },
     "execution_count": 43,
     "metadata": {},
     "output_type": "execute_result"
    }
   ],
   "source": [
    "pd.Timestamp.now()"
   ]
  },
  {
   "cell_type": "code",
   "execution_count": 40,
   "id": "8254291e-36b2-44df-b201-5b05c4ee1a10",
   "metadata": {
    "tags": []
   },
   "outputs": [
    {
     "data": {
      "text/plain": [
       "8"
      ]
     },
     "execution_count": 40,
     "metadata": {},
     "output_type": "execute_result"
    }
   ],
   "source": [
    "pd.Timestamp.now().month"
   ]
  },
  {
   "cell_type": "code",
   "execution_count": 42,
   "id": "b0843d78-c8a9-40f8-87ec-97366902276f",
   "metadata": {
    "tags": []
   },
   "outputs": [
    {
     "data": {
      "text/plain": [
       "2023"
      ]
     },
     "execution_count": 42,
     "metadata": {},
     "output_type": "execute_result"
    }
   ],
   "source": [
    "pd.Timestamp.now().year"
   ]
  },
  {
   "cell_type": "markdown",
   "id": "3d3cbeed-fa2d-4644-81a6-ecb71528de53",
   "metadata": {
    "tags": []
   },
   "source": [
    "---\n",
    "---"
   ]
  },
  {
   "cell_type": "markdown",
   "id": "7669e246-c35c-4833-a0e9-dd5c7520f610",
   "metadata": {},
   "source": [
    "# Q8. Write a Python program that takes in two dates as input (in the format YYYY-MM-DD) and calculates the difference between them in days, hours, and minutes using Pandas time delta. The program should prompt the user to enter the dates and display the result.\n"
   ]
  },
  {
   "cell_type": "markdown",
   "id": "efd1fee8-a0bd-453e-8c1f-75881f658d4d",
   "metadata": {},
   "source": [
    "Ans:-"
   ]
  },
  {
   "cell_type": "code",
   "execution_count": 2,
   "id": "8bac65c3-6e53-4949-9fec-43f00621ce4a",
   "metadata": {},
   "outputs": [
    {
     "name": "stdin",
     "output_type": "stream",
     "text": [
      "Enter the first date (YYYY-MM-DD):  2022-06-01\n",
      "Enter the second date (YYYY-MM-DD):  2023-01-05\n"
     ]
    },
    {
     "name": "stdout",
     "output_type": "stream",
     "text": [
      "The difference between 2022-06-01 and 2023-01-05 is 218 days\n"
     ]
    }
   ],
   "source": [
    "import pandas as pd\n",
    "\n",
    "try:\n",
    "    # Prompt the user to enter the first date\n",
    "    date1 = input(\"Enter the first date (YYYY-MM-DD): \")\n",
    "\n",
    "    # Prompt the user to enter the second date\n",
    "    date2 = input(\"Enter the second date (YYYY-MM-DD): \")\n",
    "\n",
    "    # Convert the dates to datetime objects\n",
    "    date1 = pd.to_datetime(date1)\n",
    "    date2 = pd.to_datetime(date2)\n",
    "\n",
    "    # Calculate the time difference between the dates\n",
    "    time_diff = date2 - date1\n",
    "    days =time_diff.days\n",
    "\n",
    "    # Display the result\n",
    "    print(f\"The difference between {date1.date()} and {date2.date()} is {days} days\")\n",
    "\n",
    "except Exception as e:\n",
    "    print('Input provided for date1 :',date1)\n",
    "    print('Input provided for date2 :',date2)\n",
    "    print('Exception Occured and Handled :',e)"
   ]
  },
  {
   "cell_type": "markdown",
   "id": "6daeff2c-8b93-4d69-b7d0-4604e1e79909",
   "metadata": {},
   "source": [
    "----\n",
    "----"
   ]
  },
  {
   "cell_type": "markdown",
   "id": "e9a58c2d-eba5-4872-9e76-bdb2c267b2fb",
   "metadata": {},
   "source": [
    "# Q9. Write a Python program that reads a CSV file containing categorical data and converts a specified column to a categorical data type. The program should prompt the user to enter the file path, column name, and category order, and then display the sorted data.\n"
   ]
  },
  {
   "cell_type": "markdown",
   "id": "09e85f1b-a7c9-4c58-969b-55158fd6c916",
   "metadata": {},
   "source": [
    "Ans:"
   ]
  },
  {
   "cell_type": "code",
   "execution_count": 48,
   "id": "c6ac9477-186d-4719-b3e4-f3758746cf9d",
   "metadata": {},
   "outputs": [
    {
     "name": "stdout",
     "output_type": "stream",
     "text": [
      "Enter the first date:\n"
     ]
    },
    {
     "name": "stdin",
     "output_type": "stream",
     "text": [
      "Enter a date in the format YYYY-MM-DD:  2000-06-20\n"
     ]
    },
    {
     "name": "stdout",
     "output_type": "stream",
     "text": [
      "\n",
      "Enter the second date:\n"
     ]
    },
    {
     "name": "stdin",
     "output_type": "stream",
     "text": [
      "Enter a date in the format YYYY-MM-DD:  2023-05-04\n"
     ]
    },
    {
     "name": "stdout",
     "output_type": "stream",
     "text": [
      "\n",
      "Time Difference:\n",
      "Days: 8353 days\n",
      "Hours: 0 hours\n",
      "Minutes: 0 minutes\n"
     ]
    }
   ],
   "source": [
    "import pandas as pd\n",
    "\n",
    "def get_date_input():\n",
    "    while True:\n",
    "        date_input = input(\"Enter a date in the format YYYY-MM-DD: \")\n",
    "        try:\n",
    "            # Try to convert the input to a pandas Timestamp to validate the format\n",
    "            pd.Timestamp(date_input)\n",
    "            return date_input\n",
    "        except ValueError:\n",
    "            print(\"Invalid date format. Please enter a date in the format YYYY-MM-DD.\")\n",
    "\n",
    "# Get the two dates from the user\n",
    "print(\"Enter the first date:\")\n",
    "date1 = get_date_input()\n",
    "\n",
    "print(\"\\nEnter the second date:\")\n",
    "date2 = get_date_input()\n",
    "\n",
    "# Calculate the difference between the two dates using pandas Timedelta\n",
    "date1_timestamp = pd.Timestamp(date1)\n",
    "date2_timestamp = pd.Timestamp(date2)\n",
    "time_difference = date2_timestamp - date1_timestamp\n",
    "\n",
    "# Extract the difference in days, hours, and minutes\n",
    "days_difference = time_difference.days\n",
    "hours_difference = time_difference.seconds // 3600\n",
    "minutes_difference = (time_difference.seconds // 60) % 60\n",
    "\n",
    "# Display the result\n",
    "print(\"\\nTime Difference:\")\n",
    "print(f\"Days: {days_difference} days\")\n",
    "print(f\"Hours: {hours_difference} hours\")\n",
    "print(f\"Minutes: {minutes_difference} minutes\")"
   ]
  },
  {
   "cell_type": "markdown",
   "id": "7593d9f4-9681-4046-b58c-96ec813117d4",
   "metadata": {},
   "source": [
    "----\n",
    "----"
   ]
  },
  {
   "cell_type": "markdown",
   "id": "4011c50c-47f6-469f-b20c-2ea68857315b",
   "metadata": {},
   "source": [
    "# Q10. Write a Python program that reads a CSV file containing sales data for different products and visualizes the data using a stacked bar chart to show the sales of each product category over time. The program should prompt the user to enter the file path and display the chart.\n"
   ]
  },
  {
   "cell_type": "markdown",
   "id": "f197a1dc-fb2d-4235-961e-2a73dca64d95",
   "metadata": {},
   "source": [
    "Ans:"
   ]
  },
  {
   "cell_type": "code",
   "execution_count": null,
   "id": "be601902-6cf9-4829-8524-8d3adfacd72f",
   "metadata": {},
   "outputs": [
    {
     "name": "stdout",
     "output_type": "stream",
     "text": [
      "Please provide the CSV file containing sales data.\n"
     ]
    }
   ],
   "source": [
    "import pandas as pd\n",
    "import matplotlib.pyplot as plt\n",
    "\n",
    "def get_file_path():\n",
    "    while True:\n",
    "        file_path = input(\"Enter the CSV file path: \")\n",
    "        try:\n",
    "            # Try reading the file to validate the path\n",
    "            pd.read_csv(file_path)\n",
    "            return file_path\n",
    "        except FileNotFoundError:\n",
    "            print(\"File not found. Please enter a valid file path.\")\n",
    "        except pd.errors.EmptyDataError:\n",
    "            print(\"File is empty. Please enter a valid file path.\")\n",
    "\n",
    "# Get the CSV file path from the user\n",
    "print(\"Please provide the CSV file containing sales data.\")\n",
    "file_path = get_file_path()\n",
    "\n",
    "# Read the CSV file into a DataFrame\n",
    "df = pd.read_csv(file_path)\n",
    "\n",
    "# Assuming the DataFrame has columns: 'Date', 'Product_Category', and 'Sales'\n",
    "# Convert 'Date' column to datetime format for time-based analysis\n",
    "df['Date'] = pd.to_datetime(df['Date'])\n",
    "\n",
    "# Group the data by 'Date' and 'Product_Category' and calculate total sales\n",
    "grouped_df = df.groupby(['Date', 'Product_Category'])['Sales'].sum().unstack()\n",
    "\n",
    "# Create a stacked bar chart for sales of each product category over time\n",
    "grouped_df.plot(kind='bar', stacked=True, figsize=(10, 6))\n",
    "plt.title('Sales of Each Product Category Over Time')\n",
    "plt.xlabel('Date')\n",
    "plt.ylabel('Sales')\n",
    "plt.legend(title='Product Category')\n",
    "plt.tight_layout()\n",
    "\n",
    "# Show the chart\n",
    "plt.show()"
   ]
  },
  {
   "cell_type": "markdown",
   "id": "dbe2e818-e14f-470c-9b6e-ca766f61e5e4",
   "metadata": {},
   "source": [
    "# Q11. You are given a CSV file containing student data that includes the student ID and their test score. Write a Python program that reads the CSV file, calculates the mean, median, and mode of the test scores, and displays the results in a table.\n",
    "### The program should do the following:\n",
    "1. Prompt the user to enter the file path of the CSV file containing the student dataR\n",
    "2. Read the CSV file into a Pandas DataFrameR\n",
    "3. Calculate the mean, median, and mode of the test scores using Pandas toolsR\n",
    "4. Display the mean, median, and mode in a table.\n",
    "### Assume the CSV file contains the following columnsM\n",
    "1. Student ID: The ID of the studentR\n",
    "2. Test Score: The score of the student's test.\n",
    "### Example usage of the program:\n",
    "### Enter the file path of the CSV file containing the student data: student_data.csv\n",
    "\n",
    "| Statistic | Value |\n",
    "|:-:|:-:|\n",
    "| Mean | 79.6 |\n",
    "| Median | 82 |\n",
    "| Mode | 85, 90 |\n",
    "\n",
    "### Assume that the CSV file student_data.csv contains the following data:\n",
    "|Student ID|Test Score|\n",
    "|:-:|:-:|\n",
    "|1|85|\n",
    "|2|90|\n",
    "|3|80|\n",
    "|4|75|\n",
    "|5|85|\n",
    "|6|82|\n",
    "|7|78|\n",
    "|8|85|\n",
    "|9|90|\n",
    "|10|85|\n",
    "### The program should calculate the mean, median, and mode of the test scores and display the results in a table."
   ]
  },
  {
   "cell_type": "markdown",
   "id": "e0b813c9-d8e6-4a05-9363-3bf053a1df3d",
   "metadata": {},
   "source": [
    "### Ans:-"
   ]
  },
  {
   "cell_type": "code",
   "execution_count": 1,
   "id": "2aa40d37-14a7-4452-851d-c58800425c7c",
   "metadata": {},
   "outputs": [
    {
     "name": "stdin",
     "output_type": "stream",
     "text": [
      "Enter the file path:  student_data.csv\n"
     ]
    },
    {
     "name": "stdout",
     "output_type": "stream",
     "text": [
      "File Path Entered : student_data.csv\n",
      "\n",
      "==============================\n",
      "\n",
      "DataFrame Provided\n",
      "\n",
      "   Student ID  Test Score\n",
      "0           1          85\n",
      "1           2          90\n",
      "2           3          80\n",
      "3           4          75\n",
      "4           5          85\n",
      "5           6          82\n",
      "6           7          78\n",
      "7           8          85\n",
      "8           9          90\n",
      "9          10          85\n",
      "\n",
      "==============================\n",
      "\n",
      "Statistics Table\n",
      "\n",
      "  Statistic  Value\n",
      "0      Mean   83.5\n",
      "1    Median   85.0\n",
      "2      Mode   85.0\n"
     ]
    }
   ],
   "source": [
    "import pandas as pd\n",
    "\n",
    "try:\n",
    "    # Prompt the user to enter the file path\n",
    "    file_path = input(\"Enter the file path: \")\n",
    "    \n",
    "    # Read the CSV file into a DataFrame\n",
    "    df = pd.read_csv(file_path)\n",
    "\n",
    "    # Calculate Mean, Median, Mode of Test Score\n",
    "    test_mean = df['Test Score'].mean()\n",
    "    test_median = df['Test Score'].median()\n",
    "    test_mode = df['Test Score'].mode()[0]\n",
    "\n",
    "    # Create A DataFrame to Show above results\n",
    "    df_stats = pd.DataFrame({'Statistic':['Mean','Median','Mode'],\n",
    "                             'Value':[test_mean,test_median,test_mode]})    \n",
    "\n",
    "    # Print File Path Entered:\n",
    "    print('File Path Entered :',file_path)\n",
    "    print('\\n==============================\\n') \n",
    "    print('DataFrame Provided\\n')\n",
    "    print(df)\n",
    "    print('\\n==============================\\n')\n",
    "    print('Statistics Table\\n')\n",
    "    print(df_stats)    \n",
    "\n",
    "except Exception as e:\n",
    "    print('File Path Entered :',file_path)\n",
    "    print('Exception Occured :',e)"
   ]
  },
  {
   "cell_type": "markdown",
   "id": "c33db809-22a2-4a9b-9e7b-2bbe11b4462a",
   "metadata": {},
   "source": [
    "---\n",
    "----"
   ]
  }
 ],
 "metadata": {
  "kernelspec": {
   "display_name": "Python 3 (ipykernel)",
   "language": "python",
   "name": "python3"
  },
  "language_info": {
   "codemirror_mode": {
    "name": "ipython",
    "version": 3
   },
   "file_extension": ".py",
   "mimetype": "text/x-python",
   "name": "python",
   "nbconvert_exporter": "python",
   "pygments_lexer": "ipython3",
   "version": "3.11.1"
  }
 },
 "nbformat": 4,
 "nbformat_minor": 5
}
