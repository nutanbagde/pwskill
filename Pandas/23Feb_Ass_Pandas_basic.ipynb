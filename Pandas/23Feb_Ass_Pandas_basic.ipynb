{
 "cells": [
  {
   "cell_type": "markdown",
   "id": "6b627d1a-d186-42f1-93b2-eda894231cb8",
   "metadata": {},
   "source": [
    "# Q1. \n",
    "## Create a Pandas Series that contains the following data: 4, 8, 15, 16, 23, and 42. Then, print the series."
   ]
  },
  {
   "cell_type": "markdown",
   "id": "ee1733b3-d211-4958-a848-b7a7e85dca24",
   "metadata": {},
   "source": [
    "Ans:"
   ]
  },
  {
   "cell_type": "code",
   "execution_count": 2,
   "id": "d6537364-5a12-41e0-950f-4eb36a50274e",
   "metadata": {
    "tags": []
   },
   "outputs": [
    {
     "name": "stdout",
     "output_type": "stream",
     "text": [
      "0     4\n",
      "1     8\n",
      "2    15\n",
      "3    16\n",
      "4    23\n",
      "5    42\n",
      "dtype: int64\n"
     ]
    }
   ],
   "source": [
    "import pandas as pd\n",
    "\n",
    "data=[4, 8, 15, 16, 23,42]\n",
    "print(pd.Series(data))"
   ]
  },
  {
   "cell_type": "markdown",
   "id": "e3ed953e-0c5b-470f-85db-eb55e35f404d",
   "metadata": {},
   "source": [
    "# Q2. \n",
    "## Create a variable of list type containing 10 elements in it, and apply pandas.Series function on the variable print it.\n"
   ]
  },
  {
   "cell_type": "markdown",
   "id": "8c9dbd42-d178-47ef-9fe1-eee34d09912a",
   "metadata": {},
   "source": [
    "Ans:"
   ]
  },
  {
   "cell_type": "code",
   "execution_count": 5,
   "id": "62f1e1e1-4d15-4b4c-ac1a-9641c4102787",
   "metadata": {
    "tags": []
   },
   "outputs": [
    {
     "name": "stdout",
     "output_type": "stream",
     "text": [
      "0    0\n",
      "1    1\n",
      "2    2\n",
      "3    3\n",
      "4    4\n",
      "5    5\n",
      "6    6\n",
      "7    7\n",
      "8    8\n",
      "9    9\n",
      "dtype: int64\n"
     ]
    }
   ],
   "source": [
    "my_list=[i for i in range(10)]\n",
    "print(pd.Series(my_list))"
   ]
  },
  {
   "cell_type": "markdown",
   "id": "f91623f2-dba4-4a3f-ac53-dba789753fc5",
   "metadata": {
    "tags": []
   },
   "source": [
    "# Q3. \n",
    "## Create a Pandas DataFrame that contains the following data:\n",
    "|Name|Age|Gender|\n",
    "|:-:|:-:|:-:|\n",
    "|Alice|25|Female|\n",
    "|Bob|30|Female|\n",
    "|Claire|27|Female|\n",
    "\n",
    "## Then, print the DataFrame.\n"
   ]
  },
  {
   "cell_type": "markdown",
   "id": "cb486cea-2c44-4561-aa33-3368eb5b5004",
   "metadata": {},
   "source": [
    "Ans:"
   ]
  },
  {
   "cell_type": "code",
   "execution_count": 4,
   "id": "4360d624-4e05-4020-8dc3-1e79459d9b34",
   "metadata": {
    "tags": []
   },
   "outputs": [
    {
     "name": "stdout",
     "output_type": "stream",
     "text": [
      "     Name  Age  Gender\n",
      "0    Alis   25  Female\n",
      "1     Bob   30    Male\n",
      "2  Claire   27  Female\n"
     ]
    }
   ],
   "source": [
    "data={'Name' : ['Alis', 'Bob', 'Claire'],\n",
    "'Age' : [25,30,27],\n",
    "'Gender' : ['Female', 'Male', 'Female']}\n",
    "print(pd.DataFrame(data))"
   ]
  },
  {
   "cell_type": "markdown",
   "id": "740cfc35-0c4c-4458-baee-a970cc21edfa",
   "metadata": {},
   "source": [
    "# Q4. \n",
    "## What is ‘DataFrame’ in pandas and how is it different from pandas.series? Explain with an example.\n"
   ]
  },
  {
   "cell_type": "markdown",
   "id": "07fa8b3e-ee09-4f5a-a69c-a19506231c9f",
   "metadata": {},
   "source": [
    "Ans. :\n",
    "\n",
    "In Pandas, a DataFrame is a 2-dimensional labeled data structure with columns of potentially different data types, similar to a table in a relational database. Each column in a DataFrame is represented as a Series, which is a 1-dimensional labeled array that can contain any data type.\n",
    "\n",
    "The main difference between a DataFrame and a Series is that a Series represents a single column of data, while a DataFrame represents a tabular structure with multiple columns and potentially multiple rows of data.\n",
    "\n",
    "Here's an example to illustrate the difference between a Series and a DataFrame:"
   ]
  },
  {
   "cell_type": "code",
   "execution_count": 19,
   "id": "e4f4df59-bb56-460d-b02b-0eb8c6aebd8c",
   "metadata": {
    "tags": []
   },
   "outputs": [
    {
     "name": "stdout",
     "output_type": "stream",
     "text": [
      "0     apple\n",
      "1    banana\n",
      "2    orange\n",
      "dtype: object \n",
      "\n",
      "   fruits  quantity  price\n",
      "0   apple         3    0.5\n",
      "1  banana         5    0.4\n",
      "2  orange         2    0.3\n"
     ]
    }
   ],
   "source": [
    "import pandas as pd\n",
    "\n",
    "# create a Series object\n",
    "fruits = pd.Series(['apple', 'banana', 'orange'])\n",
    "\n",
    "# create a DataFrame object\n",
    "data = {'fruits': ['apple', 'banana', 'orange'],\n",
    "        'quantity': [3, 5, 2],\n",
    "        'price': [0.5, 0.4, 0.3]}\n",
    "df = pd.DataFrame(data)\n",
    "\n",
    "# print the Series and DataFrame\n",
    "print(fruits, '\\n')\n",
    "print(df)"
   ]
  },
  {
   "cell_type": "markdown",
   "id": "83ad442b-83c8-41a7-bfc2-f29f179d9e0f",
   "metadata": {},
   "source": [
    "So, in summary, while a Series represents a single column of data with labeled indices, a DataFrame is a tabular data structure with potentially multiple columns and rows of data, where each column is represented as a Series and each row is labeled with an index number."
   ]
  },
  {
   "cell_type": "markdown",
   "id": "c46407ae-5e5c-4438-b564-a04d08780fa7",
   "metadata": {},
   "source": [
    "# Q5. \n",
    "## What are some common functions you can use to manipulate data in a Pandas DataFrame? Can you give an example of when you might use one of these functions?\n"
   ]
  },
  {
   "cell_type": "markdown",
   "id": "72e429e2-5cc2-49b7-b293-cc29c2718199",
   "metadata": {},
   "source": [
    "Ans. :\n",
    "\n",
    "Pandas provides a wide range of functions to manipulate data in a DataFrame. Here are some of the most commonly used functions:\n",
    "\n",
    "1. head() and tail(): These functions are used to display the top or bottom few rows of the DataFrame. For example, df.head() will display the first 5 rows of the DataFrame df, while df.tail() will display the last 5 rows.\n",
    "\n",
    "2. describe(): This function is used to generate various summary statistics of the DataFrame, such as count, mean, standard deviation, minimum, maximum, and quartiles. For example, df.describe() will provide a summary of the statistical properties of the DataFrame df.\n",
    "\n",
    "3. info(): This function is used to display information about the DataFrame, such as the number of rows, number of columns, data types, and memory usage. For example, df.info() will display information about the DataFrame df.\n",
    "\n",
    "4. drop(): This function is used to drop a specific column or row from the DataFrame. For example, df.drop('column_name', axis=1) will drop the column with the specified name from the DataFrame df.\n",
    "\n",
    "5. groupby(): This function is used to group data in the DataFrame by one or more columns and perform some aggregation or transformation on the grouped data. For example, df.groupby('column_name').mean() will group the data in the DataFrame df by the specified column and calculate the mean value for each group.\n",
    "\n",
    "6. sort_values(): This function is used to sort the rows of the DataFrame by one or more columns in ascending or descending order. For example, df.sort_values('column_name', ascending=False) will sort the rows of the DataFrame df by the specified column in descending order."
   ]
  },
  {
   "cell_type": "code",
   "execution_count": 11,
   "id": "a214c054-e016-414d-920a-173608e5a2cc",
   "metadata": {
    "tags": []
   },
   "outputs": [],
   "source": [
    "name=['Nutan','Gargie','Roshan','anita','kailash','amitav','shital']\n",
    "age=[30,3,35,23,57,8,61]\n",
    "education=['M.Tech','Nursary','M.tech', 'Bcom','Primary','B.tech','B.A']\n",
    "Birth_month=['march','agust','july','Jan','Feb', 'june', 'may']\n",
    "\n",
    "dataFrame={'Name':name, \"Age\":age, 'Education':education,'Birth-months':Birth_month}\n",
    "df=pd.DataFrame(dataFrame)"
   ]
  },
  {
   "cell_type": "code",
   "execution_count": 13,
   "id": "9d62ebf1-9e2c-45e5-9d11-e42d1a5229b2",
   "metadata": {
    "tags": []
   },
   "outputs": [
    {
     "data": {
      "text/plain": [
       "7"
      ]
     },
     "execution_count": 13,
     "metadata": {},
     "output_type": "execute_result"
    }
   ],
   "source": [
    "len(df)"
   ]
  },
  {
   "cell_type": "code",
   "execution_count": 12,
   "id": "6a7c330d-12cc-4852-b982-343bf01c0b7b",
   "metadata": {
    "tags": []
   },
   "outputs": [
    {
     "data": {
      "text/html": [
       "<div>\n",
       "<style scoped>\n",
       "    .dataframe tbody tr th:only-of-type {\n",
       "        vertical-align: middle;\n",
       "    }\n",
       "\n",
       "    .dataframe tbody tr th {\n",
       "        vertical-align: top;\n",
       "    }\n",
       "\n",
       "    .dataframe thead th {\n",
       "        text-align: right;\n",
       "    }\n",
       "</style>\n",
       "<table border=\"1\" class=\"dataframe\">\n",
       "  <thead>\n",
       "    <tr style=\"text-align: right;\">\n",
       "      <th></th>\n",
       "      <th>Name</th>\n",
       "      <th>Age</th>\n",
       "      <th>Education</th>\n",
       "      <th>Birth-months</th>\n",
       "    </tr>\n",
       "  </thead>\n",
       "  <tbody>\n",
       "    <tr>\n",
       "      <th>0</th>\n",
       "      <td>Nutan</td>\n",
       "      <td>30</td>\n",
       "      <td>M.Tech</td>\n",
       "      <td>march</td>\n",
       "    </tr>\n",
       "    <tr>\n",
       "      <th>1</th>\n",
       "      <td>Gargie</td>\n",
       "      <td>3</td>\n",
       "      <td>Nursary</td>\n",
       "      <td>agust</td>\n",
       "    </tr>\n",
       "    <tr>\n",
       "      <th>2</th>\n",
       "      <td>Roshan</td>\n",
       "      <td>35</td>\n",
       "      <td>M.tech</td>\n",
       "      <td>july</td>\n",
       "    </tr>\n",
       "    <tr>\n",
       "      <th>3</th>\n",
       "      <td>anita</td>\n",
       "      <td>23</td>\n",
       "      <td>Bcom</td>\n",
       "      <td>Jan</td>\n",
       "    </tr>\n",
       "    <tr>\n",
       "      <th>4</th>\n",
       "      <td>kailash</td>\n",
       "      <td>57</td>\n",
       "      <td>Primary</td>\n",
       "      <td>Feb</td>\n",
       "    </tr>\n",
       "  </tbody>\n",
       "</table>\n",
       "</div>"
      ],
      "text/plain": [
       "      Name  Age Education Birth-months\n",
       "0    Nutan   30    M.Tech        march\n",
       "1   Gargie    3   Nursary        agust\n",
       "2   Roshan   35    M.tech         july\n",
       "3    anita   23      Bcom          Jan\n",
       "4  kailash   57   Primary          Feb"
      ]
     },
     "execution_count": 12,
     "metadata": {},
     "output_type": "execute_result"
    }
   ],
   "source": [
    "df.head()"
   ]
  },
  {
   "cell_type": "code",
   "execution_count": 14,
   "id": "d542ea8e-4440-4fbd-b82d-2427dd9d1ed7",
   "metadata": {
    "tags": []
   },
   "outputs": [
    {
     "data": {
      "text/html": [
       "<div>\n",
       "<style scoped>\n",
       "    .dataframe tbody tr th:only-of-type {\n",
       "        vertical-align: middle;\n",
       "    }\n",
       "\n",
       "    .dataframe tbody tr th {\n",
       "        vertical-align: top;\n",
       "    }\n",
       "\n",
       "    .dataframe thead th {\n",
       "        text-align: right;\n",
       "    }\n",
       "</style>\n",
       "<table border=\"1\" class=\"dataframe\">\n",
       "  <thead>\n",
       "    <tr style=\"text-align: right;\">\n",
       "      <th></th>\n",
       "      <th>Name</th>\n",
       "      <th>Age</th>\n",
       "      <th>Education</th>\n",
       "      <th>Birth-months</th>\n",
       "    </tr>\n",
       "  </thead>\n",
       "  <tbody>\n",
       "    <tr>\n",
       "      <th>2</th>\n",
       "      <td>Roshan</td>\n",
       "      <td>35</td>\n",
       "      <td>M.tech</td>\n",
       "      <td>july</td>\n",
       "    </tr>\n",
       "    <tr>\n",
       "      <th>3</th>\n",
       "      <td>anita</td>\n",
       "      <td>23</td>\n",
       "      <td>Bcom</td>\n",
       "      <td>Jan</td>\n",
       "    </tr>\n",
       "    <tr>\n",
       "      <th>4</th>\n",
       "      <td>kailash</td>\n",
       "      <td>57</td>\n",
       "      <td>Primary</td>\n",
       "      <td>Feb</td>\n",
       "    </tr>\n",
       "    <tr>\n",
       "      <th>5</th>\n",
       "      <td>amitav</td>\n",
       "      <td>8</td>\n",
       "      <td>B.tech</td>\n",
       "      <td>june</td>\n",
       "    </tr>\n",
       "    <tr>\n",
       "      <th>6</th>\n",
       "      <td>shital</td>\n",
       "      <td>61</td>\n",
       "      <td>B.A</td>\n",
       "      <td>may</td>\n",
       "    </tr>\n",
       "  </tbody>\n",
       "</table>\n",
       "</div>"
      ],
      "text/plain": [
       "      Name  Age Education Birth-months\n",
       "2   Roshan   35    M.tech         july\n",
       "3    anita   23      Bcom          Jan\n",
       "4  kailash   57   Primary          Feb\n",
       "5   amitav    8    B.tech         june\n",
       "6   shital   61       B.A          may"
      ]
     },
     "execution_count": 14,
     "metadata": {},
     "output_type": "execute_result"
    }
   ],
   "source": [
    "df.tail()"
   ]
  },
  {
   "cell_type": "code",
   "execution_count": 15,
   "id": "2b4ad74f-b7e1-489f-bf05-638c6b0bb3c4",
   "metadata": {
    "tags": []
   },
   "outputs": [
    {
     "data": {
      "text/html": [
       "<div>\n",
       "<style scoped>\n",
       "    .dataframe tbody tr th:only-of-type {\n",
       "        vertical-align: middle;\n",
       "    }\n",
       "\n",
       "    .dataframe tbody tr th {\n",
       "        vertical-align: top;\n",
       "    }\n",
       "\n",
       "    .dataframe thead th {\n",
       "        text-align: right;\n",
       "    }\n",
       "</style>\n",
       "<table border=\"1\" class=\"dataframe\">\n",
       "  <thead>\n",
       "    <tr style=\"text-align: right;\">\n",
       "      <th></th>\n",
       "      <th>Age</th>\n",
       "    </tr>\n",
       "  </thead>\n",
       "  <tbody>\n",
       "    <tr>\n",
       "      <th>count</th>\n",
       "      <td>7.000000</td>\n",
       "    </tr>\n",
       "    <tr>\n",
       "      <th>mean</th>\n",
       "      <td>31.000000</td>\n",
       "    </tr>\n",
       "    <tr>\n",
       "      <th>std</th>\n",
       "      <td>22.248595</td>\n",
       "    </tr>\n",
       "    <tr>\n",
       "      <th>min</th>\n",
       "      <td>3.000000</td>\n",
       "    </tr>\n",
       "    <tr>\n",
       "      <th>25%</th>\n",
       "      <td>15.500000</td>\n",
       "    </tr>\n",
       "    <tr>\n",
       "      <th>50%</th>\n",
       "      <td>30.000000</td>\n",
       "    </tr>\n",
       "    <tr>\n",
       "      <th>75%</th>\n",
       "      <td>46.000000</td>\n",
       "    </tr>\n",
       "    <tr>\n",
       "      <th>max</th>\n",
       "      <td>61.000000</td>\n",
       "    </tr>\n",
       "  </tbody>\n",
       "</table>\n",
       "</div>"
      ],
      "text/plain": [
       "             Age\n",
       "count   7.000000\n",
       "mean   31.000000\n",
       "std    22.248595\n",
       "min     3.000000\n",
       "25%    15.500000\n",
       "50%    30.000000\n",
       "75%    46.000000\n",
       "max    61.000000"
      ]
     },
     "execution_count": 15,
     "metadata": {},
     "output_type": "execute_result"
    }
   ],
   "source": [
    "df.describe()"
   ]
  },
  {
   "cell_type": "code",
   "execution_count": 16,
   "id": "82310e6b-f880-49a1-83ce-a23d91a3a68a",
   "metadata": {
    "tags": []
   },
   "outputs": [
    {
     "data": {
      "text/plain": [
       "<bound method DataFrame.info of       Name  Age Education Birth-months\n",
       "0    Nutan   30    M.Tech        march\n",
       "1   Gargie    3   Nursary        agust\n",
       "2   Roshan   35    M.tech         july\n",
       "3    anita   23      Bcom          Jan\n",
       "4  kailash   57   Primary          Feb\n",
       "5   amitav    8    B.tech         june\n",
       "6   shital   61       B.A          may>"
      ]
     },
     "execution_count": 16,
     "metadata": {},
     "output_type": "execute_result"
    }
   ],
   "source": [
    "df.info"
   ]
  },
  {
   "cell_type": "markdown",
   "id": "036d0d9a-766f-402a-a232-f8a85b38f774",
   "metadata": {
    "tags": []
   },
   "source": [
    "# Q6. \n",
    "## Which of the following is mutable in nature Series, DataFrame, Panel?\n"
   ]
  },
  {
   "cell_type": "markdown",
   "id": "0f5dcf02-0880-48e8-b87c-fb33e7a47c8c",
   "metadata": {},
   "source": [
    "Ans. :\n",
    "\n",
    "Panel and DataFrame are mutable in nature, while Series Objects are value-mutable but size-immutable objects.."
   ]
  },
  {
   "cell_type": "markdown",
   "id": "3b508aed-b9b8-462f-9840-f560d21463b7",
   "metadata": {},
   "source": [
    "# Q7. \n",
    "## Create a DataFrame using multiple Series. Explain with an example."
   ]
  },
  {
   "cell_type": "markdown",
   "id": "7ff51024-5f0c-425c-b0e6-663cb8271ddc",
   "metadata": {},
   "source": [
    "Ans:"
   ]
  },
  {
   "cell_type": "code",
   "execution_count": 7,
   "id": "1f456458-b38b-412b-a634-a373a1de2756",
   "metadata": {
    "tags": []
   },
   "outputs": [
    {
     "name": "stdout",
     "output_type": "stream",
     "text": [
      "     Name  Age Education Birth-months\n",
      "0   Nutan   30    M.Tech        march\n",
      "1  Gargie    3   Nursary        agust\n",
      "2  Roshan   35    M.tech         july\n"
     ]
    }
   ],
   "source": [
    "name=['Nutan','Gargie','Roshan']\n",
    "age=[30,3,35]\n",
    "education=['M.Tech','Nursary','M.tech']\n",
    "Birth_month=['march','agust','july']\n",
    "\n",
    "dataFrame={'Name':name, \"Age\":age, 'Education':education,'Birth-months':Birth_month}\n",
    "print(pd.DataFrame(dataFrame))"
   ]
  }
 ],
 "metadata": {
  "kernelspec": {
   "display_name": "Python 3 (ipykernel)",
   "language": "python",
   "name": "python3"
  },
  "language_info": {
   "codemirror_mode": {
    "name": "ipython",
    "version": 3
   },
   "file_extension": ".py",
   "mimetype": "text/x-python",
   "name": "python",
   "nbconvert_exporter": "python",
   "pygments_lexer": "ipython3",
   "version": "3.11.1"
  }
 },
 "nbformat": 4,
 "nbformat_minor": 5
}
