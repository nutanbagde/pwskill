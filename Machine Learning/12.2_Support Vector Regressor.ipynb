{
 "cells": [
  {
   "cell_type": "code",
   "execution_count": 1,
   "id": "9a2c38a6-9c01-429a-992e-6a105e7fd040",
   "metadata": {
    "tags": []
   },
   "outputs": [],
   "source": [
    "import pandas as pd\n",
    "import numpy as np\n",
    "import seaborn as sns\n",
    "import matplotlib.pyplot as plt\n"
   ]
  },
  {
   "cell_type": "code",
   "execution_count": 2,
   "id": "1013bb3b-ded1-438e-b8cc-92ffd8eafadd",
   "metadata": {
    "tags": []
   },
   "outputs": [],
   "source": [
    "# lets create synthetic data points\n",
    "from sklearn.datasets import make_regression"
   ]
  },
  {
   "cell_type": "code",
   "execution_count": 3,
   "id": "164eb644-8fe2-4728-8d14-809ac08a1431",
   "metadata": {
    "tags": []
   },
   "outputs": [],
   "source": [
    "X,y= make_regression(n_samples=1000, n_features=2, n_targets=1, noise=3.0)"
   ]
  },
  {
   "cell_type": "code",
   "execution_count": 4,
   "id": "2d490e26-ee23-428d-9626-dfd8428528cb",
   "metadata": {
    "tags": []
   },
   "outputs": [
    {
     "data": {
      "text/plain": [
       "array([[ 1.09970625, -0.29359959],\n",
       "       [ 0.07753259, -0.21067483],\n",
       "       [-0.22218403, -1.10668   ],\n",
       "       ...,\n",
       "       [ 0.21005295,  0.32137997],\n",
       "       [-0.40381143, -0.2425347 ],\n",
       "       [ 0.72360226, -1.58991474]])"
      ]
     },
     "execution_count": 4,
     "metadata": {},
     "output_type": "execute_result"
    }
   ],
   "source": [
    "X"
   ]
  },
  {
   "cell_type": "code",
   "execution_count": 5,
   "id": "2e823a4d-d932-4900-bbe7-54f9c7da062f",
   "metadata": {
    "tags": []
   },
   "outputs": [
    {
     "data": {
      "text/plain": [
       "array([ 2.85232109e+01, -4.59321091e+00, -6.63309710e+01, -1.22165075e+02,\n",
       "        5.35395394e+01, -2.65636213e+01,  1.24416643e+01,  1.78226659e+01,\n",
       "       -7.78019315e+01, -3.27887064e+00, -3.76912196e+01,  3.30177105e+01,\n",
       "       -1.19784279e+02,  9.20736556e+01,  2.87298395e+01, -4.05077479e+01,\n",
       "       -7.69431854e+00, -2.67177453e+01, -2.31181787e+01,  7.10655691e+01,\n",
       "        1.39599760e+01,  7.24664219e+01, -2.70108785e+01,  9.45480348e+00,\n",
       "        4.04884124e+01, -8.95464767e+01,  1.44858030e+02,  1.18726219e+01,\n",
       "       -7.71033275e+01,  5.08380769e-01, -6.50933602e+01, -5.18770161e+01,\n",
       "        1.17076276e+02, -4.70906747e+01,  5.70813724e+01, -6.52404519e+01,\n",
       "       -1.11904026e+02, -2.34565775e+01, -2.42182459e+01,  7.07645869e+01,\n",
       "        3.92549911e+01, -9.64884513e+00, -2.23626085e+02, -5.28690173e+01,\n",
       "       -1.84949268e+02,  4.98789365e+01, -3.19269018e+01, -3.34345358e+01,\n",
       "        2.22709175e+01, -1.49337834e+01,  5.56622695e+01,  2.52710720e+01,\n",
       "        9.99798006e+01, -2.01265510e+00,  2.63446056e+01, -6.38313400e+01,\n",
       "       -1.04766199e+02, -4.94037923e+01, -7.56998707e+00, -1.28699649e+01,\n",
       "       -4.22269325e+00,  1.40241586e+00,  4.23222717e+01, -2.16825200e+01,\n",
       "       -5.46602020e+01, -1.63289985e+01,  4.58190441e+01,  2.48479886e+01,\n",
       "        1.00164016e+02, -3.48841537e+01,  7.56346128e+00, -7.33376534e+01,\n",
       "        1.45289418e+01, -3.15920837e+01,  2.93604275e+00, -6.99062620e+01,\n",
       "        4.36645163e+01, -7.55360314e+01, -1.32589721e+02, -1.45011298e+02,\n",
       "        2.43013010e+01,  2.76275147e+01,  3.44562211e+01, -6.44575021e+01,\n",
       "        1.04922389e+00,  8.23053055e+01,  5.98301134e+00,  2.12877221e+01,\n",
       "       -8.02917750e+01,  1.81847072e+01,  4.70310371e+01, -3.23296787e+01,\n",
       "        1.66147749e+02,  7.97946908e+01,  3.47214303e+01, -1.12139347e+02,\n",
       "        1.56305136e+01,  1.12883851e+02,  9.62186476e+01, -1.89002993e+01,\n",
       "       -1.78517000e+01, -1.17820612e+02, -1.35885192e+02, -1.14738988e+02,\n",
       "       -7.40361958e+01, -4.63664110e+00,  1.37708004e+02, -6.32121078e+01,\n",
       "        8.76370500e+01, -1.25716384e+01,  8.76657514e+00, -5.52753066e+01,\n",
       "        1.75088893e+01, -2.63157141e+01,  1.25847318e+01,  8.10321443e+01,\n",
       "       -1.62966733e+01, -2.02139484e+01,  3.64047627e+01,  7.18923111e-01,\n",
       "        9.79871918e+00,  1.10937097e+01, -1.67662101e+01, -9.84190265e+01,\n",
       "       -2.34437273e+00, -1.61190699e+01,  7.01666164e+01, -7.44046760e+01,\n",
       "       -6.45003045e+01, -1.15535944e+02, -3.10842093e+01,  7.30404441e+01,\n",
       "       -4.82221863e+01,  7.07125370e+01, -3.72984352e+01, -9.61021181e+01,\n",
       "        6.32780108e+00, -1.72862386e+01, -2.88486579e+01,  8.68135524e+01,\n",
       "       -2.53457081e+01,  5.49052025e+01, -1.31006685e+02, -2.59849556e+01,\n",
       "        4.56577469e+00,  1.09336824e+01,  1.19564656e+02,  1.23802216e+01,\n",
       "        1.15371051e+01, -1.03430211e+02,  4.29575121e+01, -5.76931391e+01,\n",
       "       -1.46819087e+01, -3.19462761e+01, -3.32900727e+01, -3.00113592e+01,\n",
       "        2.60380138e+01,  6.17724411e+01,  3.50099959e+01,  6.68163049e+01,\n",
       "       -1.28548556e+01, -5.84062589e+01,  1.60185067e+02, -1.91289818e+01,\n",
       "       -1.65997336e+01, -4.03344458e+01, -4.46062260e+00, -3.11957045e+01,\n",
       "       -8.99320196e+01,  1.80404313e+01, -2.56612819e+01, -2.24140860e+01,\n",
       "       -3.57437338e+01,  4.80100160e+01,  6.96872541e+01, -4.25973527e+01,\n",
       "       -6.59757386e+01, -2.56960620e+01, -2.83714254e+01, -4.33833762e+01,\n",
       "       -4.54237800e+01,  1.21924277e+02, -5.69843132e+01,  2.51201044e+01,\n",
       "        3.77230353e-02,  1.44611914e+00,  3.74810669e+01,  1.17789015e+02,\n",
       "       -1.15116808e+02, -4.36829892e+01,  9.65125265e+00,  3.82358984e+01,\n",
       "       -5.89646676e+00,  6.63901693e+01, -1.47052655e+01, -4.80664637e+01,\n",
       "        9.74209809e+01,  2.16646194e+01, -1.71654420e+01,  2.49952246e+01,\n",
       "        1.05807061e+02, -4.82785428e+01,  1.28003644e+02,  6.59287907e+01,\n",
       "        1.44323630e+02, -1.91938862e+01,  6.65762811e+01,  5.54005206e+01,\n",
       "        6.63570554e+01, -3.02554644e+01, -3.54090027e+01,  2.44298455e+00,\n",
       "        9.91546526e+01, -4.91998507e+01, -2.39099350e+00, -1.48386440e+01,\n",
       "       -7.66730916e+01,  4.33998222e+01, -1.71351826e+01,  7.36015320e+01,\n",
       "        5.63474296e+01, -5.38033486e+01, -3.78148367e+01, -8.95253654e+01,\n",
       "       -4.69894102e+01,  1.19519986e+02, -2.06852829e+01, -4.11416742e+01,\n",
       "        8.30326207e+01,  2.06232093e+01, -4.66028871e+00, -6.59631841e+01,\n",
       "       -5.21838851e+01,  1.01842394e+02,  3.54123309e+01, -9.62184705e+00,\n",
       "       -6.54048987e+01, -3.78909365e+00,  2.35191053e+01,  1.40258350e+01,\n",
       "        8.69786818e+01, -5.03588255e+01, -7.10352603e+01, -7.05147866e+01,\n",
       "        4.49329222e+01, -1.12183329e+02,  1.78502432e+02,  5.35174917e+01,\n",
       "        1.34993373e+01, -9.89445002e+01,  6.87513611e+01,  4.45311076e+01,\n",
       "       -1.00456463e+02,  1.13881968e+02,  2.02056605e+01, -1.31553662e+01,\n",
       "       -1.47257621e+02,  9.65939363e+01, -2.51580022e-01,  5.57661025e+01,\n",
       "        6.66160565e+01, -6.42262435e+00, -3.72886023e+01,  4.51322584e+01,\n",
       "       -6.13068738e+01, -1.08685567e+02,  7.76045071e+01, -5.19283171e+01,\n",
       "       -1.05441554e+01,  5.40549619e+01, -9.55331342e+01,  2.32589658e+01,\n",
       "       -8.67167019e+01,  2.50872163e+01, -6.94070372e+01, -2.80214079e+01,\n",
       "        2.71131916e+00, -6.99361454e+01, -5.13191272e+01,  1.40926575e+00,\n",
       "        2.00472862e+00,  5.22529879e+01,  1.70612723e+02, -8.23617372e+00,\n",
       "       -5.46559435e+01, -4.77526100e+01,  1.91889236e+01, -5.78816501e+01,\n",
       "       -1.15267841e+02, -2.87244166e+01, -3.22195274e+01,  2.29296712e+00,\n",
       "       -1.62778277e-01,  2.08417856e+02,  1.00610617e+02,  1.66996103e+00,\n",
       "       -4.56002351e+01,  7.50068527e+01, -3.95015608e+01,  5.85265694e+01,\n",
       "        9.57557585e+01, -5.15394511e+01,  3.07347940e+01,  6.67530051e+01,\n",
       "       -1.40169082e+02,  3.15979741e+01,  1.14294264e+02, -4.49722151e+01,\n",
       "        3.68177712e+01,  8.58968063e+01, -8.84535047e+00,  2.53431516e+01,\n",
       "        1.21548091e+02, -8.85601723e+00,  8.51047970e+00,  6.08081162e+01,\n",
       "       -3.29859605e+01,  5.51503545e+01, -1.93219424e+01, -1.37532022e+02,\n",
       "       -4.68184145e+01, -1.64908910e+01,  3.08082092e+01,  1.07192530e+02,\n",
       "        5.00974647e+01, -3.69356405e+01, -5.20924988e+01,  6.49535206e+01,\n",
       "       -2.87625333e+01, -1.77197805e+01, -1.10855261e+02, -2.12770613e+01,\n",
       "       -3.51584137e+01,  4.19744374e+01, -1.13952847e+01,  4.17260037e+01,\n",
       "       -8.39601739e+01, -1.33451201e+02, -8.75539948e+01,  9.10396491e+01,\n",
       "       -1.05337948e+01, -4.01723425e+01,  4.56094861e+01, -2.20031777e+01,\n",
       "        2.15647533e+01, -3.02693322e+01,  3.15352233e+01,  2.22561901e+01,\n",
       "        6.77680486e+01, -2.38189022e+01, -5.88512887e+01, -6.03277019e+01,\n",
       "       -8.89190811e+01,  1.29853865e+02, -1.23539037e+02, -2.62009535e+01,\n",
       "        8.11265593e+01, -1.18740506e+02, -2.66255116e+01,  2.25243142e+01,\n",
       "       -2.99093780e+01,  6.86421638e+01,  7.56489560e+01,  4.87970709e+01,\n",
       "        1.14745904e+02, -2.00638067e+01, -4.35740453e+01, -2.44700715e+01,\n",
       "        2.31760630e+01,  9.12350068e+00, -1.69928187e+01,  5.25649181e+01,\n",
       "        1.72649507e+01, -2.25569695e+01, -1.21813340e+02,  6.01390404e+01,\n",
       "       -1.35311450e+02,  3.44417832e+01,  1.31481087e+01, -7.04255167e-02,\n",
       "       -6.50509421e+01,  1.15068830e+02,  2.94914999e+01,  9.77658741e+01,\n",
       "        2.43702293e+01,  8.08525374e+01,  1.91901821e+01,  3.41924782e+01,\n",
       "       -5.54447224e+01,  6.81092941e+01, -1.05139478e+02,  4.33994173e+01,\n",
       "       -6.08953763e+01,  8.94988924e+01,  7.88482226e+01,  1.09424253e+02,\n",
       "        3.86486527e+01, -9.00344072e+01, -7.98043499e+01, -1.77065580e+01,\n",
       "        9.69705513e+00, -8.38735496e+01, -4.42097199e+01,  1.38232674e+02,\n",
       "        7.90942981e+01, -1.12118764e+02,  1.38353374e+02, -5.87865987e+01,\n",
       "       -8.73806767e+01, -6.08713396e+01, -6.51805475e+01,  1.72460103e+01,\n",
       "        3.52513558e+01, -7.32882144e+01,  5.57683580e+01,  2.92179663e+01,\n",
       "        1.25243760e+02, -5.48120318e+01, -3.95644671e+01, -4.40659459e+01,\n",
       "        4.24446520e+00, -1.57926590e+02, -1.21397344e+02,  1.07124289e+02,\n",
       "        5.00733030e+00,  3.48551141e+01,  3.49342842e+01,  9.87894570e+00,\n",
       "       -1.02611370e+00,  4.25388853e+01,  2.98836381e+01, -5.46475614e+01,\n",
       "        1.07807920e+01,  5.47958863e+01, -3.39091588e+01,  9.29075109e+01,\n",
       "        9.65702681e+01, -7.92047665e+01, -6.05480387e+01,  6.32130906e+01,\n",
       "        8.86587182e+01, -1.46275823e+02,  7.08042611e+01, -9.37988912e+01,\n",
       "       -7.75058209e+01, -1.02282377e+02,  1.09427900e+02, -4.83755390e+01,\n",
       "        1.08013452e+02,  6.44382345e+01,  2.24644986e+01,  3.65712687e+01,\n",
       "        3.01564167e-01,  2.42745747e+01, -3.62786287e+01, -6.15251567e+01,\n",
       "       -1.43439954e+02,  1.33265533e+01, -9.07564788e+01, -1.21383796e+02,\n",
       "        2.63147735e+01,  1.24802753e+02, -8.54174147e+01, -3.01671807e+01,\n",
       "        1.73305851e+01,  8.74964030e+01, -1.42594220e+00, -3.62083201e+01,\n",
       "       -2.33956650e+00, -3.01354011e+01, -1.12052776e+01, -6.67475787e+01,\n",
       "       -2.31630879e+00, -3.79994870e+00, -7.81918617e+01, -4.53525943e+01,\n",
       "       -8.33629570e+01, -8.04149460e+01, -4.65706113e+01, -5.92832214e+01,\n",
       "        1.15892990e+02, -1.17893089e+02,  6.67781745e+01, -1.21019166e+02,\n",
       "        1.43806153e+01, -1.53644698e+01,  3.99645025e+01, -1.31208815e+01,\n",
       "       -4.42653795e+01,  6.82921565e+01, -1.66260296e+00,  8.89969919e+00,\n",
       "       -3.10101525e+01, -7.49537930e+01,  1.02113719e+02, -1.26049598e+02,\n",
       "        2.74619937e+01, -1.47752413e+01,  9.28008895e+01, -7.70383629e+01,\n",
       "        1.80418285e+01, -1.36634363e+02,  4.72746767e+01, -2.89216000e+01,\n",
       "        1.05622052e+02, -1.02917057e+02, -5.50050690e+01,  1.46816816e-01,\n",
       "       -2.16695860e+01,  9.17598829e+01, -8.84536231e+01,  2.89569556e+01,\n",
       "        2.88858523e+01,  4.18919440e+01, -1.06961399e+02,  7.74326826e+01,\n",
       "        7.75206195e+01, -6.00398311e+01, -1.95707938e+01, -2.13181844e+01,\n",
       "       -1.78077854e+02, -6.01954413e+01, -1.43091774e+01,  7.68779385e-01,\n",
       "        1.58073474e+01, -1.81388794e+01,  3.29497630e+01, -1.33589365e+02,\n",
       "        5.36649621e+01, -2.30138350e+01, -1.30129417e+02,  5.52239122e+01,\n",
       "       -1.07904871e+02,  6.57159285e+01, -4.45608222e+01, -6.88332583e+01,\n",
       "        1.44089376e+01,  3.05006619e+01, -9.56055978e+01,  7.51962719e+00,\n",
       "        7.40893411e+01, -3.83323808e+01,  7.98351171e+01, -2.79210570e+01,\n",
       "       -1.00363627e+02, -1.07351919e+02, -6.44141034e+01,  3.15733203e+01,\n",
       "        2.83847240e+01, -4.76214440e+01,  5.36594243e+00,  2.71736258e+01,\n",
       "       -8.13540637e+00, -1.23091828e+02,  6.84974435e+01,  1.25537457e+02,\n",
       "        1.62310317e+01, -8.89793871e+01, -5.96117044e+01, -1.45819720e+02,\n",
       "        9.50391142e+01,  4.71031658e+01, -4.36670982e+01, -3.23402296e+01,\n",
       "       -4.17533804e+01, -1.48887520e+02,  3.15526363e+01,  9.98226412e+01,\n",
       "        6.10330817e+01, -6.42839892e+01, -6.24387401e+01,  8.98618163e-03,\n",
       "        7.22107248e+01, -1.25986310e+01,  1.10630676e+02, -5.92563411e+01,\n",
       "        1.05785544e+02, -5.26763943e+01, -6.35563688e+01,  2.90919685e+01,\n",
       "        1.18883869e+01, -9.85927364e+00, -6.44612639e+01,  2.19672083e+01,\n",
       "        7.65490259e+01, -3.40271149e+01,  1.06774199e+01, -3.57251528e+01,\n",
       "        1.08315404e+02,  6.32848021e+01,  3.80736212e+01,  3.50980070e+00,\n",
       "        2.29836161e+01,  5.84402041e+01, -2.33817405e+01,  6.22155318e+01,\n",
       "        5.94952025e+00, -1.24022711e+01, -7.59140756e+01,  1.57194128e+02,\n",
       "       -1.65742984e+02,  1.67196245e+02,  1.49087227e+02,  1.39686182e+02,\n",
       "        1.02689804e+02, -5.54078772e+01, -7.68665017e+01, -2.56164072e+01,\n",
       "       -7.99486077e+01,  1.03570904e+02, -3.34945150e+01, -8.96492825e+01,\n",
       "       -1.37764005e+02,  1.95869876e+00, -1.01606519e+01, -5.59769601e+01,\n",
       "       -8.12218016e+01, -2.90541422e+01,  4.21660509e+01, -5.45509680e+01,\n",
       "        6.36752642e+01,  6.55718523e+01,  1.44624657e+01,  8.57296717e+01,\n",
       "        9.28159512e+01, -6.02450914e+00, -2.27060155e+01, -8.97333903e+01,\n",
       "        1.51070934e+01, -9.24788227e+01,  1.35302626e+02, -4.06934004e+01,\n",
       "       -1.57559397e+02,  1.54539634e+01, -3.75396779e+01,  7.75807569e+01,\n",
       "       -2.45311714e+01, -1.54842568e+02, -3.16086230e+01,  6.08475172e+01,\n",
       "        6.76886671e+01,  1.03171087e+01, -3.22417190e+01,  4.08173078e+01,\n",
       "       -7.58894401e+01, -1.99769796e+00,  1.06591637e+02,  2.22368301e+01,\n",
       "       -1.72756086e+00, -6.98337554e+01, -2.23813413e+01,  3.27848613e+01,\n",
       "       -2.64921027e+01,  7.08021784e+01, -1.23719852e+01,  3.31085866e+01,\n",
       "        2.57119326e+01,  1.39370088e+02, -7.25941557e+01, -2.50331612e+01,\n",
       "       -4.10559891e+01,  4.04095630e+01, -4.07008903e+01, -1.65552079e+01,\n",
       "       -3.99667490e+01,  1.06299683e+02,  3.44565180e+01, -2.75783016e-01,\n",
       "        4.99681361e+01,  3.90977802e+01,  2.14167746e+01,  6.64142722e+01,\n",
       "        1.90932674e+01,  1.16620455e+01,  4.66197302e+01,  7.77120810e+01,\n",
       "       -2.23902585e+01, -2.72516298e+01, -1.01185436e+02,  6.13485489e+01,\n",
       "       -7.77461492e+01,  1.63323150e+01,  5.50328139e+01, -5.03334744e+01,\n",
       "       -1.35751383e+01,  7.35675433e+01,  6.92984817e+01,  6.33717135e+01,\n",
       "        5.58045162e+01, -8.73383543e+01,  9.40823837e+01, -1.31120016e+01,\n",
       "       -1.21886075e+01,  4.12970893e+00,  7.95457905e+01, -5.47552117e+01,\n",
       "       -1.26061072e+02, -3.84674791e+01,  7.03460336e+01, -1.20332538e+02,\n",
       "       -1.47356287e+02, -2.89386370e+01,  2.10486077e+01, -8.77699112e+01,\n",
       "       -2.50903098e+01,  2.80536449e+01,  4.67586079e+01,  9.70765527e+01,\n",
       "        6.69429142e+01, -3.05304186e+01,  6.82393445e+01,  6.36095291e+01,\n",
       "       -6.52747823e+01, -2.16717133e+01, -2.75399433e+01, -1.00403235e+02,\n",
       "        6.18625052e+01,  6.69503653e+01,  1.48733636e+01,  5.24945544e+01,\n",
       "        6.18906372e+01,  6.50292868e+01,  8.50598153e+01,  7.38715217e+01,\n",
       "       -7.45290200e+01,  3.42099719e+00, -5.30661167e+01, -9.09969869e+01,\n",
       "        7.57862484e+00,  4.14198185e+00,  3.36749354e+00,  7.47012023e+01,\n",
       "       -6.68350957e+01, -6.09006501e+01,  1.98248312e+02, -8.08040909e+01,\n",
       "       -3.63122902e+01, -6.80893169e+00, -7.48928457e+00, -1.22350891e+02,\n",
       "        6.71119348e+00,  1.10546689e+02,  1.11239229e+02, -1.05173043e+01,\n",
       "       -6.10889175e+01,  7.74276819e+01, -1.20881631e+02,  7.87932095e+01,\n",
       "       -3.95576132e+01,  7.58950054e+00, -4.60232127e+00,  7.25551708e+01,\n",
       "       -9.80911951e+00,  1.11765724e+02, -2.92309381e+01, -3.70696724e+01,\n",
       "       -8.16961208e+01,  1.20917945e+02, -4.19690271e+01, -1.34609764e+02,\n",
       "       -4.71044235e+01,  5.58369623e+01,  3.29164875e+01,  1.94726537e+01,\n",
       "        9.97548624e+01, -2.77934065e+01,  1.36957940e+02,  2.10855072e+00,\n",
       "        5.85597499e+01,  6.78114244e+01, -1.11672476e+02, -3.69216964e+01,\n",
       "        2.75733115e+00,  3.67845465e+01,  6.69931350e+01,  6.18119141e+01,\n",
       "       -4.49149899e+01,  1.78316942e+02, -6.27067281e+01,  4.92728430e+01,\n",
       "       -2.34912726e+01, -1.45722491e+01, -3.40587450e+01, -2.74717091e+00,\n",
       "        3.05944178e+01,  6.46001501e+00,  1.74908681e+01,  1.33405736e+02,\n",
       "       -2.14765870e+01, -3.40210503e-01, -3.85020174e+01,  1.47244625e+02,\n",
       "       -5.50332192e+01,  7.54863577e+01,  3.42737472e-01,  6.89376497e+01,\n",
       "       -2.93202918e+01, -7.26088483e+01, -1.71752698e+01, -4.58072980e+01,\n",
       "        8.49482762e+01, -1.23074652e+02,  6.44067422e+01, -1.16647493e+01,\n",
       "        1.50805633e+00, -2.13786743e+00,  1.89842168e+01,  5.88367965e+01,\n",
       "        1.11857891e+01, -8.30707801e+01,  2.92377257e+01, -2.99837731e+01,\n",
       "       -2.96093361e+01, -8.23656613e+01, -4.81080000e+00,  1.27468928e+01,\n",
       "        1.76595961e+01, -2.93712771e+01,  1.10463459e+01, -5.44058533e+01,\n",
       "       -1.18239149e+01,  5.31532708e+01,  5.99836119e+01,  1.25383910e+02,\n",
       "        7.42898764e+01, -1.37626656e+02, -1.48606583e+01, -8.65290921e+01,\n",
       "        1.26341679e+02, -4.75752218e+01,  1.17360340e+02,  2.41798817e+01,\n",
       "       -3.28672860e+01,  3.80266111e+01, -4.30019348e+01,  1.74859116e+00,\n",
       "       -6.03000440e+01,  9.84375765e+01, -1.46991591e+02, -2.02829354e+01,\n",
       "       -7.89901536e+01, -7.35987209e+01, -7.51413139e+01, -6.11635009e+01,\n",
       "       -5.85579379e+01,  1.39160117e+01, -1.78457008e+01, -1.08131857e+02,\n",
       "        9.10384259e+01, -9.69569298e+01,  1.70049406e+02, -1.83015342e+01,\n",
       "        1.56370757e+01, -1.90654427e+02,  1.34160414e+01,  1.02927695e+02,\n",
       "        3.85756712e+01,  1.37757620e+02,  1.23840436e+01,  4.67291876e+01,\n",
       "        5.83075048e+01, -1.07800549e+02, -9.22602423e+01, -4.45618020e+01,\n",
       "       -2.04124186e+01,  2.85388095e+01, -5.90759313e+01, -8.85072965e+00,\n",
       "       -1.68799626e+01,  2.54636990e+01, -5.58202773e+01,  1.73147290e+02,\n",
       "       -3.49199465e+00, -2.85612148e+01,  8.06662038e+01, -8.69185673e+01,\n",
       "       -5.30805951e+01,  1.19089173e+01, -8.22110497e+00,  9.92890448e+01,\n",
       "       -2.11734334e+01,  2.90302739e+01, -4.30860538e+01, -1.90018902e+01,\n",
       "       -2.72431491e+01,  3.25109053e+01,  3.67733075e+01, -1.58722022e+01,\n",
       "       -8.43393513e-01,  3.30137105e+01, -2.55672864e+01,  3.00278619e+01,\n",
       "       -1.52820499e+02,  2.19737988e+01,  1.14670988e+00,  5.50560938e+01,\n",
       "       -1.65666956e+01, -4.61341269e+01,  5.42036240e+01, -3.53964210e+01,\n",
       "        3.21356767e+01, -2.84595923e+00, -2.84964714e+01, -6.96956266e+01,\n",
       "        4.64691007e+01, -9.66148576e+01, -1.15456001e+02,  2.91740436e+01,\n",
       "        1.29973680e+01, -6.18381284e+01,  1.42944877e+02,  8.46267268e+01,\n",
       "       -1.89426429e+01, -3.06780892e+01, -1.05031167e+01, -9.94463498e+00,\n",
       "        2.59644811e+01,  2.75711490e+01,  2.05780965e+01, -1.33029473e+02,\n",
       "        4.95042071e+01, -3.38355596e+01,  4.33214020e+01, -4.53715050e+01,\n",
       "       -4.84053746e+01,  4.46265958e+01, -6.58080627e+00, -8.43219766e+00,\n",
       "        3.16320193e+01, -9.79565202e+00,  5.48697859e-01, -1.05349904e+01,\n",
       "       -8.99471620e+01,  7.46459693e+01,  2.20205639e+01,  2.27695229e+00,\n",
       "        4.82998098e+01,  4.74464969e+01,  1.87566372e+01, -2.02697069e+01,\n",
       "        7.20003535e+01,  2.85486588e+00,  3.28691872e+01,  8.25048797e+01,\n",
       "       -3.34845246e+01, -1.32872373e+01, -2.46213348e+01,  3.34245526e+01,\n",
       "       -5.68133957e+01,  6.09068495e+01,  1.12033773e+02, -4.06634463e+01,\n",
       "        5.71065324e+01,  7.95188615e+01,  1.89642047e+01,  9.30652517e+01,\n",
       "       -4.13537427e+01,  6.68125707e+00, -2.27341576e+01, -8.50159794e+00,\n",
       "        1.37864950e-01, -7.25462357e+01,  1.80868233e+01,  2.19998749e+01,\n",
       "       -3.94668562e+01,  2.99520219e+01,  5.16901000e+00,  1.16602775e+01,\n",
       "       -9.25656336e+01,  3.83664147e+01,  1.21613345e+02, -1.13526797e+02,\n",
       "       -4.70648984e+01, -9.88123873e+00,  2.14318627e+01, -4.52203096e+01,\n",
       "        3.76629933e+01, -2.33379057e+01,  8.61092817e+01, -8.40473882e+01,\n",
       "       -6.04811307e+00,  5.37807452e+01,  1.81197027e+01, -1.00823109e+01,\n",
       "       -8.97095117e+01,  4.52176096e+01,  4.47675267e+01,  2.10807257e+01,\n",
       "       -1.64289639e+02, -3.11861180e+01, -1.85671712e+01, -3.48090629e+01,\n",
       "        6.73413416e+01,  2.05100725e+01, -6.92435111e+01,  2.73543814e+01,\n",
       "        1.20063607e+02,  2.90775094e+01, -3.06787898e+01, -5.93676568e+01])"
      ]
     },
     "execution_count": 5,
     "metadata": {},
     "output_type": "execute_result"
    }
   ],
   "source": [
    "y"
   ]
  },
  {
   "cell_type": "code",
   "execution_count": 6,
   "id": "a0149881-bd78-4301-a72a-c9794afbc893",
   "metadata": {
    "tags": []
   },
   "outputs": [
    {
     "data": {
      "text/plain": [
       "0      1.099706\n",
       "1      0.077533\n",
       "2     -0.222184\n",
       "3     -2.198390\n",
       "4     -0.280386\n",
       "         ...   \n",
       "995   -0.870235\n",
       "996    1.713900\n",
       "997    0.210053\n",
       "998   -0.403811\n",
       "999    0.723602\n",
       "Name: 0, Length: 1000, dtype: float64"
      ]
     },
     "execution_count": 6,
     "metadata": {},
     "output_type": "execute_result"
    }
   ],
   "source": [
    "pd.DataFrame(X)[0]"
   ]
  },
  {
   "cell_type": "code",
   "execution_count": 7,
   "id": "8865f056-6b00-492b-ae7c-7de87f29b72b",
   "metadata": {
    "tags": []
   },
   "outputs": [
    {
     "data": {
      "text/plain": [
       "<Axes: xlabel='0', ylabel='1'>"
      ]
     },
     "execution_count": 7,
     "metadata": {},
     "output_type": "execute_result"
    },
    {
     "data": {
      "image/png": "[encoded data removed]",
      "text/plain": [
       "<Figure size 640x480 with 1 Axes>"
      ]
     },
     "metadata": {},
     "output_type": "display_data"
    }
   ],
   "source": [
    "sns.scatterplot(x=pd.DataFrame(X)[0], y=pd.DataFrame(X)[1], hue=y)"
   ]
  },
  {
   "cell_type": "code",
   "execution_count": 8,
   "id": "05cf45c1-b127-43c3-b726-1f220486cd24",
   "metadata": {
    "tags": []
   },
   "outputs": [],
   "source": [
    "from sklearn.model_selection import train_test_split\n",
    "X_train, X_test, y_train, y_test=train_test_split(X,y,test_size=0.25,random_state=10)"
   ]
  },
  {
   "cell_type": "code",
   "execution_count": 12,
   "id": "87f1200d-67ae-45be-bb1d-a74144281a63",
   "metadata": {
    "tags": []
   },
   "outputs": [],
   "source": [
    "from sklearn.svm import SVR"
   ]
  },
  {
   "cell_type": "code",
   "execution_count": 13,
   "id": "b8c44a92-2fb5-417f-95bf-22a5603bae95",
   "metadata": {
    "tags": []
   },
   "outputs": [],
   "source": [
    "svr=SVR(kernel='linear')"
   ]
  },
  {
   "cell_type": "code",
   "execution_count": 14,
   "id": "184601f9-a016-4dff-b359-4e9fa78b14a1",
   "metadata": {
    "tags": []
   },
   "outputs": [
    {
     "data": {
      "text/html": [
       "<style>#sk-container-id-1 {color: black;}#sk-container-id-1 pre{padding: 0;}#sk-container-id-1 div.sk-toggleable {background-color: white;}#sk-container-id-1 label.sk-toggleable__label {cursor: pointer;display: block;width: 100%;margin-bottom: 0;padding: 0.3em;box-sizing: border-box;text-align: center;}#sk-container-id-1 label.sk-toggleable__label-arrow:before {content: \"▸\";float: left;margin-right: 0.25em;color: #696969;}#sk-container-id-1 label.sk-toggleable__label-arrow:hover:before {color: black;}#sk-container-id-1 div.sk-estimator:hover label.sk-toggleable__label-arrow:before {color: black;}#sk-container-id-1 div.sk-toggleable__content {max-height: 0;max-width: 0;overflow: hidden;text-align: left;background-color: #f0f8ff;}#sk-container-id-1 div.sk-toggleable__content pre {margin: 0.2em;color: black;border-radius: 0.25em;background-color: #f0f8ff;}#sk-container-id-1 input.sk-toggleable__control:checked~div.sk-toggleable__content {max-height: 200px;max-width: 100%;overflow: auto;}#sk-container-id-1 input.sk-toggleable__control:checked~label.sk-toggleable__label-arrow:before {content: \"▾\";}#sk-container-id-1 div.sk-estimator input.sk-toggleable__control:checked~label.sk-toggleable__label {background-color: #d4ebff;}#sk-container-id-1 div.sk-label input.sk-toggleable__control:checked~label.sk-toggleable__label {background-color: #d4ebff;}#sk-container-id-1 input.sk-hidden--visually {border: 0;clip: rect(1px 1px 1px 1px);clip: rect(1px, 1px, 1px, 1px);height: 1px;margin: -1px;overflow: hidden;padding: 0;position: absolute;width: 1px;}#sk-container-id-1 div.sk-estimator {font-family: monospace;background-color: #f0f8ff;border: 1px dotted black;border-radius: 0.25em;box-sizing: border-box;margin-bottom: 0.5em;}#sk-container-id-1 div.sk-estimator:hover {background-color: #d4ebff;}#sk-container-id-1 div.sk-parallel-item::after {content: \"\";width: 100%;border-bottom: 1px solid gray;flex-grow: 1;}#sk-container-id-1 div.sk-label:hover label.sk-toggleable__label {background-color: #d4ebff;}#sk-container-id-1 div.sk-serial::before {content: \"\";position: absolute;border-left: 1px solid gray;box-sizing: border-box;top: 0;bottom: 0;left: 50%;z-index: 0;}#sk-container-id-1 div.sk-serial {display: flex;flex-direction: column;align-items: center;background-color: white;padding-right: 0.2em;padding-left: 0.2em;position: relative;}#sk-container-id-1 div.sk-item {position: relative;z-index: 1;}#sk-container-id-1 div.sk-parallel {display: flex;align-items: stretch;justify-content: center;background-color: white;position: relative;}#sk-container-id-1 div.sk-item::before, #sk-container-id-1 div.sk-parallel-item::before {content: \"\";position: absolute;border-left: 1px solid gray;box-sizing: border-box;top: 0;bottom: 0;left: 50%;z-index: -1;}#sk-container-id-1 div.sk-parallel-item {display: flex;flex-direction: column;z-index: 1;position: relative;background-color: white;}#sk-container-id-1 div.sk-parallel-item:first-child::after {align-self: flex-end;width: 50%;}#sk-container-id-1 div.sk-parallel-item:last-child::after {align-self: flex-start;width: 50%;}#sk-container-id-1 div.sk-parallel-item:only-child::after {width: 0;}#sk-container-id-1 div.sk-dashed-wrapped {border: 1px dashed gray;margin: 0 0.4em 0.5em 0.4em;box-sizing: border-box;padding-bottom: 0.4em;background-color: white;}#sk-container-id-1 div.sk-label label {font-family: monospace;font-weight: bold;display: inline-block;line-height: 1.2em;}#sk-container-id-1 div.sk-label-container {text-align: center;}#sk-container-id-1 div.sk-container {/* jupyter's `normalize.less` sets `[hidden] { display: none; }` but bootstrap.min.css set `[hidden] { display: none !important; }` so we also need the `!important` here to be able to override the default hidden behavior on the sphinx rendered scikit-learn.org. See: https://github.com/scikit-learn/scikit-learn/issues/21755 */display: inline-block !important;position: relative;}#sk-container-id-1 div.sk-text-repr-fallback {display: none;}</style><div id=\"sk-container-id-1\" class=\"sk-top-container\"><div class=\"sk-text-repr-fallback\"><pre>SVR(kernel=&#x27;linear&#x27;)</pre><b>In a Jupyter environment, please rerun this cell to show the HTML representation or trust the notebook. <br />On GitHub, the HTML representation is unable to render, please try loading this page with nbviewer.org.</b></div><div class=\"sk-container\" hidden><div class=\"sk-item\"><div class=\"sk-estimator sk-toggleable\"><input class=\"sk-toggleable__control sk-hidden--visually\" id=\"sk-estimator-id-1\" type=\"checkbox\" checked><label for=\"sk-estimator-id-1\" class=\"sk-toggleable__label sk-toggleable__label-arrow\">SVR</label><div class=\"sk-toggleable__content\"><pre>SVR(kernel=&#x27;linear&#x27;)</pre></div></div></div></div></div>"
      ],
      "text/plain": [
       "SVR(kernel='linear')"
      ]
     },
     "execution_count": 14,
     "metadata": {},
     "output_type": "execute_result"
    }
   ],
   "source": [
    "svr.fit(X_train,y_train)"
   ]
  },
  {
   "cell_type": "code",
   "execution_count": 15,
   "id": "22ee29a0-4e61-4552-888e-5fbbee5c130e",
   "metadata": {
    "tags": []
   },
   "outputs": [
    {
     "data": {
      "text/plain": [
       "array([[42.42026844, 52.33917511]])"
      ]
     },
     "execution_count": 15,
     "metadata": {},
     "output_type": "execute_result"
    }
   ],
   "source": [
    "svr.coef_"
   ]
  },
  {
   "cell_type": "code",
   "execution_count": 16,
   "id": "80bc370e-c313-4973-bd1d-acd65ee72844",
   "metadata": {
    "tags": []
   },
   "outputs": [],
   "source": [
    "## prediction\n",
    "y_pred=svr.predict(X_test)"
   ]
  },
  {
   "cell_type": "code",
   "execution_count": 17,
   "id": "745e2415-1779-440d-aa8a-0382e695bd20",
   "metadata": {
    "tags": []
   },
   "outputs": [
    {
     "data": {
      "text/plain": [
       "array([-7.16138267e+01, -4.65035022e+01, -1.03905457e+02,  4.96834266e+01,\n",
       "       -1.34684499e+02,  9.17837657e+01,  1.05125921e+01, -1.13712336e+01,\n",
       "        3.42132211e+01,  5.91639011e+00, -2.31724453e+01, -4.70223031e+01,\n",
       "        3.80338574e+01, -3.39536175e+01, -5.96139772e+01, -5.63886948e+01,\n",
       "        8.77018246e+00, -3.16807427e+00,  5.60362717e+00, -1.21327428e+02,\n",
       "        1.96519686e+01, -7.13652844e+01,  8.40454232e+01, -1.42804766e+01,\n",
       "        6.32692844e+01, -7.81385029e+00, -9.12042363e+01,  4.69617294e+01,\n",
       "       -2.21893512e+01,  4.30150045e+01,  1.16276809e+02,  2.80367965e+01,\n",
       "       -1.87952189e+01, -3.46294667e+01, -3.64951740e+01, -2.18671740e+01,\n",
       "       -9.34465993e+00,  8.38163597e+01,  1.33559947e+02,  7.15800330e+01,\n",
       "       -2.22939042e+01, -8.28531100e+01,  2.47996518e+01,  7.94487999e+01,\n",
       "       -1.01885539e+02, -2.61335490e+01,  4.20063031e+01, -1.87542279e+01,\n",
       "        1.36347174e+01,  7.80211024e+01,  8.27557740e+00, -5.33017820e+01,\n",
       "        2.93737358e+01,  7.23470160e+01, -5.78065852e+01,  7.36774844e+01,\n",
       "       -4.56868736e+01, -7.87474304e+01,  1.00080839e+02, -2.09735305e+01,\n",
       "       -6.84986820e+01,  7.73886413e+00, -1.68666673e+02,  2.28284532e+00,\n",
       "       -1.86542244e+01,  4.78470853e+01, -2.02990436e+01, -4.39114429e+00,\n",
       "       -1.17634918e+00,  3.35363458e+01,  3.19895110e+01,  6.29796036e+01,\n",
       "        6.09540426e+01,  6.91252355e+01,  4.40293282e+00,  1.23376685e+01,\n",
       "        2.00511267e+01, -3.95829746e+01,  1.07527621e+02, -4.23613869e+01,\n",
       "        1.98744580e+01,  2.66028314e+01,  5.72451368e+01, -2.79400295e+01,\n",
       "       -3.92947867e+01, -1.21879711e+02,  3.79566282e+01, -3.55864542e+01,\n",
       "       -1.50077336e+02, -6.11687031e+01, -2.29871109e+01, -1.98791698e+01,\n",
       "        5.10293877e+01, -4.59001167e+01, -9.19994504e+00,  1.20473458e+02,\n",
       "       -7.81209234e+00, -1.04147458e+02, -1.39346169e+02, -6.22875155e+01,\n",
       "       -1.28225436e+02, -7.77992603e+01, -3.35523773e+01,  5.02125519e+01,\n",
       "       -5.12841409e+01, -6.85809049e+00,  9.23193078e+01, -3.51776376e+00,\n",
       "        8.88006754e+01, -8.11943094e+01,  1.00217354e+02,  3.80041342e+01,\n",
       "       -6.94741452e+01, -8.89969761e+01,  9.66565372e+01, -5.33755622e+01,\n",
       "       -2.81328632e+01,  1.05030296e+02, -1.05101752e+01, -5.68847760e+01,\n",
       "       -1.42495727e+01,  6.82552850e+01,  6.26837908e+01, -2.98239545e+01,\n",
       "        9.47561862e+01,  3.54288138e+00,  9.85625022e+01, -2.71630301e+01,\n",
       "        4.60791695e+01, -5.05664680e+01, -4.16932079e+01,  1.00925970e+02,\n",
       "       -3.41286738e-01,  7.79995428e+01, -2.89657372e+01,  7.12859698e+01,\n",
       "        1.25898826e+02,  2.27328101e+01,  1.16701977e+02,  1.65272884e+02,\n",
       "        1.62206754e+02,  9.33319917e+00, -9.49825737e+01,  9.77771920e+01,\n",
       "       -1.97246619e+01, -1.54085368e+01, -1.36642626e+02, -7.48021367e+01,\n",
       "       -2.91628593e+01, -8.29417745e-01,  2.95896376e+01,  4.33275975e+01,\n",
       "        7.32713929e+01,  9.26133623e+01,  1.36170036e+00,  3.68241657e+00,\n",
       "        6.80396519e+01, -4.07546820e+01, -9.29115790e+01,  1.01451343e+01,\n",
       "        6.01259693e-02,  1.46693831e+01, -3.64749680e+01, -8.83358636e+01,\n",
       "       -6.04676358e+01, -7.78924447e+01,  4.21518635e+01, -2.63952248e+01,\n",
       "        5.98402648e+01,  1.52437729e+00,  6.90227956e+01,  8.20835848e+01,\n",
       "        6.89158091e+01,  5.15910218e+01,  1.60278585e+00, -3.87920315e+00,\n",
       "       -1.23144105e+02, -6.57554829e+01, -1.18240157e+00,  1.82128829e+01,\n",
       "       -2.23191665e+00,  6.62252429e+00,  1.43971959e+02,  6.01836112e+01,\n",
       "       -4.71150486e+01, -4.00807046e+01, -5.12110587e+01, -3.85794934e+01,\n",
       "        3.19834709e+01,  9.18233136e+01,  5.78704676e-01,  8.57161327e+01,\n",
       "        1.66181812e+01,  1.03747456e+02,  8.79666180e+01, -7.06559390e+01,\n",
       "       -5.71198873e+00, -8.05076538e+01,  2.49947254e+01, -1.76492739e+02,\n",
       "       -1.15016128e+02, -1.46329206e+01,  1.15991394e+02,  1.19409271e+01,\n",
       "       -3.15518850e+00,  4.58418082e+01,  1.10743922e+02, -2.05140798e+01,\n",
       "        6.22329565e+00, -1.20053507e+02, -2.16588133e+01,  1.09853595e+02,\n",
       "       -6.66345514e+01, -9.80447192e+01,  1.61208026e+01, -8.57751973e+01,\n",
       "        1.28648999e+01, -8.66498129e+01, -9.89062109e+00,  5.76082850e+01,\n",
       "        1.41555921e+02,  1.31843714e+01,  6.74275813e+01, -2.91721038e+01,\n",
       "        7.41310761e+01,  4.02574127e+01,  4.88865336e+01,  1.51589926e+01,\n",
       "       -2.38576245e+01, -3.11194810e+01, -1.56385077e+01, -3.21991170e+01,\n",
       "       -1.96273909e+02, -2.60920699e+01, -9.92356167e+01, -5.78666381e+01,\n",
       "        6.34382741e+01, -2.82583674e+01, -1.17355724e+02,  1.25632284e+02,\n",
       "        1.83256142e+01, -1.73795554e+01,  3.11022332e+01,  9.94993763e+01,\n",
       "       -4.37566041e+01,  8.74853942e+01,  3.78617412e+01, -1.50209308e+02,\n",
       "        3.85991582e+01,  2.33968162e+01])"
      ]
     },
     "execution_count": 17,
     "metadata": {},
     "output_type": "execute_result"
    }
   ],
   "source": [
    "y_pred"
   ]
  },
  {
   "cell_type": "code",
   "execution_count": 18,
   "id": "9692d097-d4f0-4e86-be62-c374aab69f5f",
   "metadata": {
    "tags": []
   },
   "outputs": [],
   "source": [
    "from sklearn.metrics import r2_score"
   ]
  },
  {
   "cell_type": "code",
   "execution_count": 19,
   "id": "3cc62564-04e8-4ba2-8dd5-354d143f8a27",
   "metadata": {
    "tags": []
   },
   "outputs": [
    {
     "name": "stdout",
     "output_type": "stream",
     "text": [
      "0.9983655305478871\n"
     ]
    }
   ],
   "source": [
    "print(r2_score(y_test, y_pred)) # to check accuracy"
   ]
  },
  {
   "cell_type": "markdown",
   "id": "cd30611c-f95f-459b-a72a-93d592837df8",
   "metadata": {},
   "source": [
    "## Hyperparameter tuning with SVR"
   ]
  },
  {
   "cell_type": "code",
   "execution_count": 20,
   "id": "e215c973-0442-4a2e-953e-d9eb71813c51",
   "metadata": {
    "tags": []
   },
   "outputs": [],
   "source": [
    "from sklearn.model_selection import GridSearchCV"
   ]
  },
  {
   "cell_type": "code",
   "execution_count": 21,
   "id": "fcc3aa09-e41a-45b3-9dab-2d5ea56ee795",
   "metadata": {
    "tags": []
   },
   "outputs": [],
   "source": [
    "# defining parameter range\n",
    "param_grid={'C':[0.1,1,10,100,1000],\n",
    "           'gamma':[1,0.1,0.01,0.001,0.0001],\n",
    "           'kernel':['linear'],\n",
    "           'epsilon':[0.1, 0.2,0.3]}"
   ]
  },
  {
   "cell_type": "code",
   "execution_count": 24,
   "id": "67de75c0-02e6-4219-af68-e28e20462317",
   "metadata": {
    "tags": []
   },
   "outputs": [],
   "source": [
    "grid=GridSearchCV(SVR(),param_grid=param_grid, scoring='neg_mean_squared_error', refit=True,cv=5,verbose=3)"
   ]
  },
  {
   "cell_type": "code",
   "execution_count": 25,
   "id": "a0bf0591-e65f-488c-adcd-6efa4f0f1e09",
   "metadata": {
    "tags": []
   },
   "outputs": [
    {
     "name": "stdout",
     "output_type": "stream",
     "text": [
      "Fitting 5 folds for each of 75 candidates, totalling 375 fits\n",
      "[CV 1/5] END C=0.1, epsilon=0.1, gamma=1, kernel=linear;, score=-376.949 total time=   0.0s\n",
      "[CV 2/5] END C=0.1, epsilon=0.1, gamma=1, kernel=linear;, score=-399.953 total time=   0.0s\n",
      "[CV 3/5] END C=0.1, epsilon=0.1, gamma=1, kernel=linear;, score=-401.885 total time=   0.0s\n",
      "[CV 4/5] END C=0.1, epsilon=0.1, gamma=1, kernel=linear;, score=-509.330 total time=   0.0s\n",
      "[CV 5/5] END C=0.1, epsilon=0.1, gamma=1, kernel=linear;, score=-469.336 total time=   0.0s\n",
      "[CV 1/5] END C=0.1, epsilon=0.1, gamma=0.1, kernel=linear;, score=-376.949 total time=   0.0s\n",
      "[CV 2/5] END C=0.1, epsilon=0.1, gamma=0.1, kernel=linear;, score=-399.953 total time=   0.0s\n",
      "[CV 3/5] END C=0.1, epsilon=0.1, gamma=0.1, kernel=linear;, score=-401.885 total time=   0.0s\n",
      "[CV 4/5] END C=0.1, epsilon=0.1, gamma=0.1, kernel=linear;, score=-509.330 total time=   0.0s\n",
      "[CV 5/5] END C=0.1, epsilon=0.1, gamma=0.1, kernel=linear;, score=-469.336 total time=   0.0s\n",
      "[CV 1/5] END C=0.1, epsilon=0.1, gamma=0.01, kernel=linear;, score=-376.949 total time=   0.0s\n",
      "[CV 2/5] END C=0.1, epsilon=0.1, gamma=0.01, kernel=linear;, score=-399.953 total time=   0.0s\n",
      "[CV 3/5] END C=0.1, epsilon=0.1, gamma=0.01, kernel=linear;, score=-401.885 total time=   0.0s\n",
      "[CV 4/5] END C=0.1, epsilon=0.1, gamma=0.01, kernel=linear;, score=-509.330 total time=   0.0s\n",
      "[CV 5/5] END C=0.1, epsilon=0.1, gamma=0.01, kernel=linear;, score=-469.336 total time=   0.0s\n",
      "[CV 1/5] END C=0.1, epsilon=0.1, gamma=0.001, kernel=linear;, score=-376.949 total time=   0.0s\n",
      "[CV 2/5] END C=0.1, epsilon=0.1, gamma=0.001, kernel=linear;, score=-399.953 total time=   0.0s\n",
      "[CV 3/5] END C=0.1, epsilon=0.1, gamma=0.001, kernel=linear;, score=-401.885 total time=   0.0s\n",
      "[CV 4/5] END C=0.1, epsilon=0.1, gamma=0.001, kernel=linear;, score=-509.330 total time=   0.0s\n",
      "[CV 5/5] END C=0.1, epsilon=0.1, gamma=0.001, kernel=linear;, score=-469.336 total time=   0.0s\n",
      "[CV 1/5] END C=0.1, epsilon=0.1, gamma=0.0001, kernel=linear;, score=-376.949 total time=   0.0s\n",
      "[CV 2/5] END C=0.1, epsilon=0.1, gamma=0.0001, kernel=linear;, score=-399.953 total time=   0.0s\n",
      "[CV 3/5] END C=0.1, epsilon=0.1, gamma=0.0001, kernel=linear;, score=-401.885 total time=   0.0s\n",
      "[CV 4/5] END C=0.1, epsilon=0.1, gamma=0.0001, kernel=linear;, score=-509.330 total time=   0.0s\n",
      "[CV 5/5] END C=0.1, epsilon=0.1, gamma=0.0001, kernel=linear;, score=-469.336 total time=   0.0s\n",
      "[CV 1/5] END C=0.1, epsilon=0.2, gamma=1, kernel=linear;, score=-377.061 total time=   0.0s\n",
      "[CV 2/5] END C=0.1, epsilon=0.2, gamma=1, kernel=linear;, score=-399.395 total time=   0.0s\n",
      "[CV 3/5] END C=0.1, epsilon=0.2, gamma=1, kernel=linear;, score=-401.666 total time=   0.0s\n",
      "[CV 4/5] END C=0.1, epsilon=0.2, gamma=1, kernel=linear;, score=-509.128 total time=   0.0s\n",
      "[CV 5/5] END C=0.1, epsilon=0.2, gamma=1, kernel=linear;, score=-470.796 total time=   0.0s\n",
      "[CV 1/5] END C=0.1, epsilon=0.2, gamma=0.1, kernel=linear;, score=-377.061 total time=   0.0s\n",
      "[CV 2/5] END C=0.1, epsilon=0.2, gamma=0.1, kernel=linear;, score=-399.395 total time=   0.0s\n",
      "[CV 3/5] END C=0.1, epsilon=0.2, gamma=0.1, kernel=linear;, score=-401.666 total time=   0.0s\n",
      "[CV 4/5] END C=0.1, epsilon=0.2, gamma=0.1, kernel=linear;, score=-509.128 total time=   0.0s\n",
      "[CV 5/5] END C=0.1, epsilon=0.2, gamma=0.1, kernel=linear;, score=-470.796 total time=   0.0s\n",
      "[CV 1/5] END C=0.1, epsilon=0.2, gamma=0.01, kernel=linear;, score=-377.061 total time=   0.0s\n",
      "[CV 2/5] END C=0.1, epsilon=0.2, gamma=0.01, kernel=linear;, score=-399.395 total time=   0.0s\n",
      "[CV 3/5] END C=0.1, epsilon=0.2, gamma=0.01, kernel=linear;, score=-401.666 total time=   0.0s\n",
      "[CV 4/5] END C=0.1, epsilon=0.2, gamma=0.01, kernel=linear;, score=-509.128 total time=   0.0s\n",
      "[CV 5/5] END C=0.1, epsilon=0.2, gamma=0.01, kernel=linear;, score=-470.796 total time=   0.0s\n",
      "[CV 1/5] END C=0.1, epsilon=0.2, gamma=0.001, kernel=linear;, score=-377.061 total time=   0.0s\n",
      "[CV 2/5] END C=0.1, epsilon=0.2, gamma=0.001, kernel=linear;, score=-399.395 total time=   0.0s\n",
      "[CV 3/5] END C=0.1, epsilon=0.2, gamma=0.001, kernel=linear;, score=-401.666 total time=   0.0s\n",
      "[CV 4/5] END C=0.1, epsilon=0.2, gamma=0.001, kernel=linear;, score=-509.128 total time=   0.0s\n",
      "[CV 5/5] END C=0.1, epsilon=0.2, gamma=0.001, kernel=linear;, score=-470.796 total time=   0.0s\n",
      "[CV 1/5] END C=0.1, epsilon=0.2, gamma=0.0001, kernel=linear;, score=-377.061 total time=   0.0s\n",
      "[CV 2/5] END C=0.1, epsilon=0.2, gamma=0.0001, kernel=linear;, score=-399.395 total time=   0.0s\n",
      "[CV 3/5] END C=0.1, epsilon=0.2, gamma=0.0001, kernel=linear;, score=-401.666 total time=   0.0s\n",
      "[CV 4/5] END C=0.1, epsilon=0.2, gamma=0.0001, kernel=linear;, score=-509.128 total time=   0.0s\n",
      "[CV 5/5] END C=0.1, epsilon=0.2, gamma=0.0001, kernel=linear;, score=-470.796 total time=   0.0s\n",
      "[CV 1/5] END C=0.1, epsilon=0.3, gamma=1, kernel=linear;, score=-377.263 total time=   0.0s\n",
      "[CV 2/5] END C=0.1, epsilon=0.3, gamma=1, kernel=linear;, score=-401.461 total time=   0.0s\n",
      "[CV 3/5] END C=0.1, epsilon=0.3, gamma=1, kernel=linear;, score=-400.286 total time=   0.0s\n",
      "[CV 4/5] END C=0.1, epsilon=0.3, gamma=1, kernel=linear;, score=-510.044 total time=   0.0s\n",
      "[CV 5/5] END C=0.1, epsilon=0.3, gamma=1, kernel=linear;, score=-471.301 total time=   0.0s\n",
      "[CV 1/5] END C=0.1, epsilon=0.3, gamma=0.1, kernel=linear;, score=-377.263 total time=   0.0s\n",
      "[CV 2/5] END C=0.1, epsilon=0.3, gamma=0.1, kernel=linear;, score=-401.461 total time=   0.0s\n",
      "[CV 3/5] END C=0.1, epsilon=0.3, gamma=0.1, kernel=linear;, score=-400.286 total time=   0.0s\n",
      "[CV 4/5] END C=0.1, epsilon=0.3, gamma=0.1, kernel=linear;, score=-510.044 total time=   0.0s\n",
      "[CV 5/5] END C=0.1, epsilon=0.3, gamma=0.1, kernel=linear;, score=-471.301 total time=   0.0s\n",
      "[CV 1/5] END C=0.1, epsilon=0.3, gamma=0.01, kernel=linear;, score=-377.263 total time=   0.0s\n",
      "[CV 2/5] END C=0.1, epsilon=0.3, gamma=0.01, kernel=linear;, score=-401.461 total time=   0.0s\n",
      "[CV 3/5] END C=0.1, epsilon=0.3, gamma=0.01, kernel=linear;, score=-400.286 total time=   0.0s\n",
      "[CV 4/5] END C=0.1, epsilon=0.3, gamma=0.01, kernel=linear;, score=-510.044 total time=   0.0s\n",
      "[CV 5/5] END C=0.1, epsilon=0.3, gamma=0.01, kernel=linear;, score=-471.301 total time=   0.0s\n",
      "[CV 1/5] END C=0.1, epsilon=0.3, gamma=0.001, kernel=linear;, score=-377.263 total time=   0.0s\n",
      "[CV 2/5] END C=0.1, epsilon=0.3, gamma=0.001, kernel=linear;, score=-401.461 total time=   0.0s\n",
      "[CV 3/5] END C=0.1, epsilon=0.3, gamma=0.001, kernel=linear;, score=-400.286 total time=   0.0s\n",
      "[CV 4/5] END C=0.1, epsilon=0.3, gamma=0.001, kernel=linear;, score=-510.044 total time=   0.0s\n",
      "[CV 5/5] END C=0.1, epsilon=0.3, gamma=0.001, kernel=linear;, score=-471.301 total time=   0.0s\n",
      "[CV 1/5] END C=0.1, epsilon=0.3, gamma=0.0001, kernel=linear;, score=-377.263 total time=   0.0s\n",
      "[CV 2/5] END C=0.1, epsilon=0.3, gamma=0.0001, kernel=linear;, score=-401.461 total time=   0.0s\n",
      "[CV 3/5] END C=0.1, epsilon=0.3, gamma=0.0001, kernel=linear;, score=-400.286 total time=   0.0s\n",
      "[CV 4/5] END C=0.1, epsilon=0.3, gamma=0.0001, kernel=linear;, score=-510.044 total time=   0.0s\n",
      "[CV 5/5] END C=0.1, epsilon=0.3, gamma=0.0001, kernel=linear;, score=-471.301 total time=   0.0s\n",
      "[CV 1/5] END C=1, epsilon=0.1, gamma=1, kernel=linear;, score=-8.311 total time=   0.0s\n",
      "[CV 2/5] END C=1, epsilon=0.1, gamma=1, kernel=linear;, score=-9.988 total time=   0.0s\n",
      "[CV 3/5] END C=1, epsilon=0.1, gamma=1, kernel=linear;, score=-10.120 total time=   0.0s\n",
      "[CV 4/5] END C=1, epsilon=0.1, gamma=1, kernel=linear;, score=-7.014 total time=   0.0s\n",
      "[CV 5/5] END C=1, epsilon=0.1, gamma=1, kernel=linear;, score=-8.343 total time=   0.0s\n",
      "[CV 1/5] END C=1, epsilon=0.1, gamma=0.1, kernel=linear;, score=-8.311 total time=   0.0s\n",
      "[CV 2/5] END C=1, epsilon=0.1, gamma=0.1, kernel=linear;, score=-9.988 total time=   0.0s\n",
      "[CV 3/5] END C=1, epsilon=0.1, gamma=0.1, kernel=linear;, score=-10.120 total time=   0.0s\n",
      "[CV 4/5] END C=1, epsilon=0.1, gamma=0.1, kernel=linear;, score=-7.014 total time=   0.0s\n",
      "[CV 5/5] END C=1, epsilon=0.1, gamma=0.1, kernel=linear;, score=-8.343 total time=   0.0s\n",
      "[CV 1/5] END C=1, epsilon=0.1, gamma=0.01, kernel=linear;, score=-8.311 total time=   0.0s\n",
      "[CV 2/5] END C=1, epsilon=0.1, gamma=0.01, kernel=linear;, score=-9.988 total time=   0.0s\n",
      "[CV 3/5] END C=1, epsilon=0.1, gamma=0.01, kernel=linear;, score=-10.120 total time=   0.0s\n",
      "[CV 4/5] END C=1, epsilon=0.1, gamma=0.01, kernel=linear;, score=-7.014 total time=   0.0s\n",
      "[CV 5/5] END C=1, epsilon=0.1, gamma=0.01, kernel=linear;, score=-8.343 total time=   0.0s\n",
      "[CV 1/5] END C=1, epsilon=0.1, gamma=0.001, kernel=linear;, score=-8.311 total time=   0.0s\n",
      "[CV 2/5] END C=1, epsilon=0.1, gamma=0.001, kernel=linear;, score=-9.988 total time=   0.0s\n",
      "[CV 3/5] END C=1, epsilon=0.1, gamma=0.001, kernel=linear;, score=-10.120 total time=   0.0s\n",
      "[CV 4/5] END C=1, epsilon=0.1, gamma=0.001, kernel=linear;, score=-7.014 total time=   0.0s\n",
      "[CV 5/5] END C=1, epsilon=0.1, gamma=0.001, kernel=linear;, score=-8.343 total time=   0.0s\n",
      "[CV 1/5] END C=1, epsilon=0.1, gamma=0.0001, kernel=linear;, score=-8.311 total time=   0.0s\n",
      "[CV 2/5] END C=1, epsilon=0.1, gamma=0.0001, kernel=linear;, score=-9.988 total time=   0.0s\n",
      "[CV 3/5] END C=1, epsilon=0.1, gamma=0.0001, kernel=linear;, score=-10.120 total time=   0.0s\n",
      "[CV 4/5] END C=1, epsilon=0.1, gamma=0.0001, kernel=linear;, score=-7.014 total time=   0.0s\n",
      "[CV 5/5] END C=1, epsilon=0.1, gamma=0.0001, kernel=linear;, score=-8.343 total time=   0.0s\n",
      "[CV 1/5] END C=1, epsilon=0.2, gamma=1, kernel=linear;, score=-8.327 total time=   0.0s\n",
      "[CV 2/5] END C=1, epsilon=0.2, gamma=1, kernel=linear;, score=-10.006 total time=   0.0s\n",
      "[CV 3/5] END C=1, epsilon=0.2, gamma=1, kernel=linear;, score=-10.121 total time=   0.0s\n",
      "[CV 4/5] END C=1, epsilon=0.2, gamma=1, kernel=linear;, score=-7.028 total time=   0.0s\n",
      "[CV 5/5] END C=1, epsilon=0.2, gamma=1, kernel=linear;, score=-8.318 total time=   0.0s\n",
      "[CV 1/5] END C=1, epsilon=0.2, gamma=0.1, kernel=linear;, score=-8.327 total time=   0.0s\n",
      "[CV 2/5] END C=1, epsilon=0.2, gamma=0.1, kernel=linear;, score=-10.006 total time=   0.0s\n",
      "[CV 3/5] END C=1, epsilon=0.2, gamma=0.1, kernel=linear;, score=-10.121 total time=   0.0s\n",
      "[CV 4/5] END C=1, epsilon=0.2, gamma=0.1, kernel=linear;, score=-7.028 total time=   0.0s\n",
      "[CV 5/5] END C=1, epsilon=0.2, gamma=0.1, kernel=linear;, score=-8.318 total time=   0.0s\n",
      "[CV 1/5] END C=1, epsilon=0.2, gamma=0.01, kernel=linear;, score=-8.327 total time=   0.0s\n",
      "[CV 2/5] END C=1, epsilon=0.2, gamma=0.01, kernel=linear;, score=-10.006 total time=   0.0s\n",
      "[CV 3/5] END C=1, epsilon=0.2, gamma=0.01, kernel=linear;, score=-10.121 total time=   0.0s\n",
      "[CV 4/5] END C=1, epsilon=0.2, gamma=0.01, kernel=linear;, score=-7.028 total time=   0.0s\n",
      "[CV 5/5] END C=1, epsilon=0.2, gamma=0.01, kernel=linear;, score=-8.318 total time=   0.0s\n",
      "[CV 1/5] END C=1, epsilon=0.2, gamma=0.001, kernel=linear;, score=-8.327 total time=   0.0s\n",
      "[CV 2/5] END C=1, epsilon=0.2, gamma=0.001, kernel=linear;, score=-10.006 total time=   0.0s\n",
      "[CV 3/5] END C=1, epsilon=0.2, gamma=0.001, kernel=linear;, score=-10.121 total time=   0.0s\n",
      "[CV 4/5] END C=1, epsilon=0.2, gamma=0.001, kernel=linear;, score=-7.028 total time=   0.0s\n",
      "[CV 5/5] END C=1, epsilon=0.2, gamma=0.001, kernel=linear;, score=-8.318 total time=   0.0s\n",
      "[CV 1/5] END C=1, epsilon=0.2, gamma=0.0001, kernel=linear;, score=-8.327 total time=   0.0s\n",
      "[CV 2/5] END C=1, epsilon=0.2, gamma=0.0001, kernel=linear;, score=-10.006 total time=   0.0s\n",
      "[CV 3/5] END C=1, epsilon=0.2, gamma=0.0001, kernel=linear;, score=-10.121 total time=   0.0s\n",
      "[CV 4/5] END C=1, epsilon=0.2, gamma=0.0001, kernel=linear;, score=-7.028 total time=   0.0s\n",
      "[CV 5/5] END C=1, epsilon=0.2, gamma=0.0001, kernel=linear;, score=-8.318 total time=   0.0s\n",
      "[CV 1/5] END C=1, epsilon=0.3, gamma=1, kernel=linear;, score=-8.327 total time=   0.0s\n",
      "[CV 2/5] END C=1, epsilon=0.3, gamma=1, kernel=linear;, score=-9.992 total time=   0.0s\n",
      "[CV 3/5] END C=1, epsilon=0.3, gamma=1, kernel=linear;, score=-10.116 total time=   0.0s\n",
      "[CV 4/5] END C=1, epsilon=0.3, gamma=1, kernel=linear;, score=-7.034 total time=   0.0s\n",
      "[CV 5/5] END C=1, epsilon=0.3, gamma=1, kernel=linear;, score=-8.270 total time=   0.0s\n",
      "[CV 1/5] END C=1, epsilon=0.3, gamma=0.1, kernel=linear;, score=-8.327 total time=   0.0s\n",
      "[CV 2/5] END C=1, epsilon=0.3, gamma=0.1, kernel=linear;, score=-9.992 total time=   0.0s\n",
      "[CV 3/5] END C=1, epsilon=0.3, gamma=0.1, kernel=linear;, score=-10.116 total time=   0.0s\n",
      "[CV 4/5] END C=1, epsilon=0.3, gamma=0.1, kernel=linear;, score=-7.034 total time=   0.0s\n",
      "[CV 5/5] END C=1, epsilon=0.3, gamma=0.1, kernel=linear;, score=-8.270 total time=   0.0s\n",
      "[CV 1/5] END C=1, epsilon=0.3, gamma=0.01, kernel=linear;, score=-8.327 total time=   0.0s\n",
      "[CV 2/5] END C=1, epsilon=0.3, gamma=0.01, kernel=linear;, score=-9.992 total time=   0.0s\n",
      "[CV 3/5] END C=1, epsilon=0.3, gamma=0.01, kernel=linear;, score=-10.116 total time=   0.0s\n",
      "[CV 4/5] END C=1, epsilon=0.3, gamma=0.01, kernel=linear;, score=-7.034 total time=   0.0s\n",
      "[CV 5/5] END C=1, epsilon=0.3, gamma=0.01, kernel=linear;, score=-8.270 total time=   0.0s\n",
      "[CV 1/5] END C=1, epsilon=0.3, gamma=0.001, kernel=linear;, score=-8.327 total time=   0.0s\n",
      "[CV 2/5] END C=1, epsilon=0.3, gamma=0.001, kernel=linear;, score=-9.992 total time=   0.0s\n",
      "[CV 3/5] END C=1, epsilon=0.3, gamma=0.001, kernel=linear;, score=-10.116 total time=   0.0s\n",
      "[CV 4/5] END C=1, epsilon=0.3, gamma=0.001, kernel=linear;, score=-7.034 total time=   0.0s\n",
      "[CV 5/5] END C=1, epsilon=0.3, gamma=0.001, kernel=linear;, score=-8.270 total time=   0.0s\n",
      "[CV 1/5] END C=1, epsilon=0.3, gamma=0.0001, kernel=linear;, score=-8.327 total time=   0.0s\n",
      "[CV 2/5] END C=1, epsilon=0.3, gamma=0.0001, kernel=linear;, score=-9.992 total time=   0.0s\n",
      "[CV 3/5] END C=1, epsilon=0.3, gamma=0.0001, kernel=linear;, score=-10.116 total time=   0.0s\n",
      "[CV 4/5] END C=1, epsilon=0.3, gamma=0.0001, kernel=linear;, score=-7.034 total time=   0.0s\n",
      "[CV 5/5] END C=1, epsilon=0.3, gamma=0.0001, kernel=linear;, score=-8.270 total time=   0.0s\n",
      "[CV 1/5] END C=10, epsilon=0.1, gamma=1, kernel=linear;, score=-8.319 total time=   0.0s\n",
      "[CV 2/5] END C=10, epsilon=0.1, gamma=1, kernel=linear;, score=-9.683 total time=   0.0s\n",
      "[CV 3/5] END C=10, epsilon=0.1, gamma=1, kernel=linear;, score=-10.081 total time=   0.0s\n",
      "[CV 4/5] END C=10, epsilon=0.1, gamma=1, kernel=linear;, score=-6.635 total time=   0.0s\n",
      "[CV 5/5] END C=10, epsilon=0.1, gamma=1, kernel=linear;, score=-8.342 total time=   0.0s\n",
      "[CV 1/5] END C=10, epsilon=0.1, gamma=0.1, kernel=linear;, score=-8.319 total time=   0.0s\n",
      "[CV 2/5] END C=10, epsilon=0.1, gamma=0.1, kernel=linear;, score=-9.683 total time=   0.0s\n",
      "[CV 3/5] END C=10, epsilon=0.1, gamma=0.1, kernel=linear;, score=-10.081 total time=   0.0s\n",
      "[CV 4/5] END C=10, epsilon=0.1, gamma=0.1, kernel=linear;, score=-6.635 total time=   0.0s\n",
      "[CV 5/5] END C=10, epsilon=0.1, gamma=0.1, kernel=linear;, score=-8.342 total time=   0.0s\n",
      "[CV 1/5] END C=10, epsilon=0.1, gamma=0.01, kernel=linear;, score=-8.319 total time=   0.0s\n",
      "[CV 2/5] END C=10, epsilon=0.1, gamma=0.01, kernel=linear;, score=-9.683 total time=   0.0s\n",
      "[CV 3/5] END C=10, epsilon=0.1, gamma=0.01, kernel=linear;, score=-10.081 total time=   0.0s\n",
      "[CV 4/5] END C=10, epsilon=0.1, gamma=0.01, kernel=linear;, score=-6.635 total time=   0.0s\n",
      "[CV 5/5] END C=10, epsilon=0.1, gamma=0.01, kernel=linear;, score=-8.342 total time=   0.0s\n",
      "[CV 1/5] END C=10, epsilon=0.1, gamma=0.001, kernel=linear;, score=-8.319 total time=   0.0s\n",
      "[CV 2/5] END C=10, epsilon=0.1, gamma=0.001, kernel=linear;, score=-9.683 total time=   0.0s\n",
      "[CV 3/5] END C=10, epsilon=0.1, gamma=0.001, kernel=linear;, score=-10.081 total time=   0.0s\n",
      "[CV 4/5] END C=10, epsilon=0.1, gamma=0.001, kernel=linear;, score=-6.635 total time=   0.0s\n",
      "[CV 5/5] END C=10, epsilon=0.1, gamma=0.001, kernel=linear;, score=-8.342 total time=   0.0s\n",
      "[CV 1/5] END C=10, epsilon=0.1, gamma=0.0001, kernel=linear;, score=-8.319 total time=   0.0s\n",
      "[CV 2/5] END C=10, epsilon=0.1, gamma=0.0001, kernel=linear;, score=-9.683 total time=   0.0s\n",
      "[CV 3/5] END C=10, epsilon=0.1, gamma=0.0001, kernel=linear;, score=-10.081 total time=   0.0s\n",
      "[CV 4/5] END C=10, epsilon=0.1, gamma=0.0001, kernel=linear;, score=-6.635 total time=   0.0s\n",
      "[CV 5/5] END C=10, epsilon=0.1, gamma=0.0001, kernel=linear;, score=-8.342 total time=   0.0s\n",
      "[CV 1/5] END C=10, epsilon=0.2, gamma=1, kernel=linear;, score=-8.327 total time=   0.0s\n",
      "[CV 2/5] END C=10, epsilon=0.2, gamma=1, kernel=linear;, score=-9.713 total time=   0.0s\n",
      "[CV 3/5] END C=10, epsilon=0.2, gamma=1, kernel=linear;, score=-10.075 total time=   0.0s\n",
      "[CV 4/5] END C=10, epsilon=0.2, gamma=1, kernel=linear;, score=-6.626 total time=   0.0s\n",
      "[CV 5/5] END C=10, epsilon=0.2, gamma=1, kernel=linear;, score=-8.365 total time=   0.0s\n",
      "[CV 1/5] END C=10, epsilon=0.2, gamma=0.1, kernel=linear;, score=-8.327 total time=   0.0s\n",
      "[CV 2/5] END C=10, epsilon=0.2, gamma=0.1, kernel=linear;, score=-9.713 total time=   0.0s\n",
      "[CV 3/5] END C=10, epsilon=0.2, gamma=0.1, kernel=linear;, score=-10.075 total time=   0.0s\n",
      "[CV 4/5] END C=10, epsilon=0.2, gamma=0.1, kernel=linear;, score=-6.626 total time=   0.0s\n",
      "[CV 5/5] END C=10, epsilon=0.2, gamma=0.1, kernel=linear;, score=-8.365 total time=   0.0s\n",
      "[CV 1/5] END C=10, epsilon=0.2, gamma=0.01, kernel=linear;, score=-8.327 total time=   0.0s\n",
      "[CV 2/5] END C=10, epsilon=0.2, gamma=0.01, kernel=linear;, score=-9.713 total time=   0.0s\n",
      "[CV 3/5] END C=10, epsilon=0.2, gamma=0.01, kernel=linear;, score=-10.075 total time=   0.0s\n",
      "[CV 4/5] END C=10, epsilon=0.2, gamma=0.01, kernel=linear;, score=-6.626 total time=   0.0s\n",
      "[CV 5/5] END C=10, epsilon=0.2, gamma=0.01, kernel=linear;, score=-8.365 total time=   0.0s\n",
      "[CV 1/5] END C=10, epsilon=0.2, gamma=0.001, kernel=linear;, score=-8.327 total time=   0.0s\n",
      "[CV 2/5] END C=10, epsilon=0.2, gamma=0.001, kernel=linear;, score=-9.713 total time=   0.0s\n",
      "[CV 3/5] END C=10, epsilon=0.2, gamma=0.001, kernel=linear;, score=-10.075 total time=   0.0s\n",
      "[CV 4/5] END C=10, epsilon=0.2, gamma=0.001, kernel=linear;, score=-6.626 total time=   0.0s\n",
      "[CV 5/5] END C=10, epsilon=0.2, gamma=0.001, kernel=linear;, score=-8.365 total time=   0.0s\n",
      "[CV 1/5] END C=10, epsilon=0.2, gamma=0.0001, kernel=linear;, score=-8.327 total time=   0.0s\n",
      "[CV 2/5] END C=10, epsilon=0.2, gamma=0.0001, kernel=linear;, score=-9.713 total time=   0.0s\n",
      "[CV 3/5] END C=10, epsilon=0.2, gamma=0.0001, kernel=linear;, score=-10.075 total time=   0.0s\n",
      "[CV 4/5] END C=10, epsilon=0.2, gamma=0.0001, kernel=linear;, score=-6.626 total time=   0.0s\n",
      "[CV 5/5] END C=10, epsilon=0.2, gamma=0.0001, kernel=linear;, score=-8.365 total time=   0.0s\n",
      "[CV 1/5] END C=10, epsilon=0.3, gamma=1, kernel=linear;, score=-8.341 total time=   0.0s\n",
      "[CV 2/5] END C=10, epsilon=0.3, gamma=1, kernel=linear;, score=-9.709 total time=   0.0s\n",
      "[CV 3/5] END C=10, epsilon=0.3, gamma=1, kernel=linear;, score=-10.072 total time=   0.0s\n",
      "[CV 4/5] END C=10, epsilon=0.3, gamma=1, kernel=linear;, score=-6.620 total time=   0.0s\n",
      "[CV 5/5] END C=10, epsilon=0.3, gamma=1, kernel=linear;, score=-8.368 total time=   0.0s\n",
      "[CV 1/5] END C=10, epsilon=0.3, gamma=0.1, kernel=linear;, score=-8.341 total time=   0.0s\n",
      "[CV 2/5] END C=10, epsilon=0.3, gamma=0.1, kernel=linear;, score=-9.709 total time=   0.0s\n",
      "[CV 3/5] END C=10, epsilon=0.3, gamma=0.1, kernel=linear;, score=-10.072 total time=   0.0s\n",
      "[CV 4/5] END C=10, epsilon=0.3, gamma=0.1, kernel=linear;, score=-6.620 total time=   0.0s\n",
      "[CV 5/5] END C=10, epsilon=0.3, gamma=0.1, kernel=linear;, score=-8.368 total time=   0.0s\n",
      "[CV 1/5] END C=10, epsilon=0.3, gamma=0.01, kernel=linear;, score=-8.341 total time=   0.0s\n",
      "[CV 2/5] END C=10, epsilon=0.3, gamma=0.01, kernel=linear;, score=-9.709 total time=   0.0s\n",
      "[CV 3/5] END C=10, epsilon=0.3, gamma=0.01, kernel=linear;, score=-10.072 total time=   0.0s\n",
      "[CV 4/5] END C=10, epsilon=0.3, gamma=0.01, kernel=linear;, score=-6.620 total time=   0.0s\n",
      "[CV 5/5] END C=10, epsilon=0.3, gamma=0.01, kernel=linear;, score=-8.368 total time=   0.0s\n",
      "[CV 1/5] END C=10, epsilon=0.3, gamma=0.001, kernel=linear;, score=-8.341 total time=   0.0s\n",
      "[CV 2/5] END C=10, epsilon=0.3, gamma=0.001, kernel=linear;, score=-9.709 total time=   0.0s\n",
      "[CV 3/5] END C=10, epsilon=0.3, gamma=0.001, kernel=linear;, score=-10.072 total time=   0.0s\n",
      "[CV 4/5] END C=10, epsilon=0.3, gamma=0.001, kernel=linear;, score=-6.620 total time=   0.0s\n",
      "[CV 5/5] END C=10, epsilon=0.3, gamma=0.001, kernel=linear;, score=-8.368 total time=   0.0s\n",
      "[CV 1/5] END C=10, epsilon=0.3, gamma=0.0001, kernel=linear;, score=-8.341 total time=   0.0s\n",
      "[CV 2/5] END C=10, epsilon=0.3, gamma=0.0001, kernel=linear;, score=-9.709 total time=   0.0s\n",
      "[CV 3/5] END C=10, epsilon=0.3, gamma=0.0001, kernel=linear;, score=-10.072 total time=   0.0s\n",
      "[CV 4/5] END C=10, epsilon=0.3, gamma=0.0001, kernel=linear;, score=-6.620 total time=   0.0s\n",
      "[CV 5/5] END C=10, epsilon=0.3, gamma=0.0001, kernel=linear;, score=-8.368 total time=   0.0s\n",
      "[CV 1/5] END C=100, epsilon=0.1, gamma=1, kernel=linear;, score=-8.336 total time=   0.1s\n",
      "[CV 2/5] END C=100, epsilon=0.1, gamma=1, kernel=linear;, score=-9.703 total time=   0.0s\n",
      "[CV 3/5] END C=100, epsilon=0.1, gamma=1, kernel=linear;, score=-10.083 total time=   0.0s\n",
      "[CV 4/5] END C=100, epsilon=0.1, gamma=1, kernel=linear;, score=-6.607 total time=   0.0s\n",
      "[CV 5/5] END C=100, epsilon=0.1, gamma=1, kernel=linear;, score=-8.351 total time=   0.0s\n",
      "[CV 1/5] END C=100, epsilon=0.1, gamma=0.1, kernel=linear;, score=-8.336 total time=   0.0s\n",
      "[CV 2/5] END C=100, epsilon=0.1, gamma=0.1, kernel=linear;, score=-9.703 total time=   0.0s\n",
      "[CV 3/5] END C=100, epsilon=0.1, gamma=0.1, kernel=linear;, score=-10.083 total time=   0.0s\n",
      "[CV 4/5] END C=100, epsilon=0.1, gamma=0.1, kernel=linear;, score=-6.607 total time=   0.0s\n",
      "[CV 5/5] END C=100, epsilon=0.1, gamma=0.1, kernel=linear;, score=-8.351 total time=   0.0s\n",
      "[CV 1/5] END C=100, epsilon=0.1, gamma=0.01, kernel=linear;, score=-8.336 total time=   0.0s\n",
      "[CV 2/5] END C=100, epsilon=0.1, gamma=0.01, kernel=linear;, score=-9.703 total time=   0.0s\n",
      "[CV 3/5] END C=100, epsilon=0.1, gamma=0.01, kernel=linear;, score=-10.083 total time=   0.0s\n",
      "[CV 4/5] END C=100, epsilon=0.1, gamma=0.01, kernel=linear;, score=-6.607 total time=   0.0s\n",
      "[CV 5/5] END C=100, epsilon=0.1, gamma=0.01, kernel=linear;, score=-8.351 total time=   0.0s\n",
      "[CV 1/5] END C=100, epsilon=0.1, gamma=0.001, kernel=linear;, score=-8.336 total time=   0.0s\n",
      "[CV 2/5] END C=100, epsilon=0.1, gamma=0.001, kernel=linear;, score=-9.703 total time=   0.0s\n",
      "[CV 3/5] END C=100, epsilon=0.1, gamma=0.001, kernel=linear;, score=-10.083 total time=   0.0s\n",
      "[CV 4/5] END C=100, epsilon=0.1, gamma=0.001, kernel=linear;, score=-6.607 total time=   0.0s\n",
      "[CV 5/5] END C=100, epsilon=0.1, gamma=0.001, kernel=linear;, score=-8.351 total time=   0.0s\n",
      "[CV 1/5] END C=100, epsilon=0.1, gamma=0.0001, kernel=linear;, score=-8.336 total time=   0.0s\n",
      "[CV 2/5] END C=100, epsilon=0.1, gamma=0.0001, kernel=linear;, score=-9.703 total time=   0.0s\n",
      "[CV 3/5] END C=100, epsilon=0.1, gamma=0.0001, kernel=linear;, score=-10.083 total time=   0.0s\n",
      "[CV 4/5] END C=100, epsilon=0.1, gamma=0.0001, kernel=linear;, score=-6.607 total time=   0.0s\n",
      "[CV 5/5] END C=100, epsilon=0.1, gamma=0.0001, kernel=linear;, score=-8.351 total time=   0.0s\n",
      "[CV 1/5] END C=100, epsilon=0.2, gamma=1, kernel=linear;, score=-8.343 total time=   0.0s\n",
      "[CV 2/5] END C=100, epsilon=0.2, gamma=1, kernel=linear;, score=-9.701 total time=   0.0s\n",
      "[CV 3/5] END C=100, epsilon=0.2, gamma=1, kernel=linear;, score=-10.081 total time=   0.0s\n",
      "[CV 4/5] END C=100, epsilon=0.2, gamma=1, kernel=linear;, score=-6.603 total time=   0.0s\n",
      "[CV 5/5] END C=100, epsilon=0.2, gamma=1, kernel=linear;, score=-8.383 total time=   0.0s\n",
      "[CV 1/5] END C=100, epsilon=0.2, gamma=0.1, kernel=linear;, score=-8.343 total time=   0.0s\n",
      "[CV 2/5] END C=100, epsilon=0.2, gamma=0.1, kernel=linear;, score=-9.701 total time=   0.0s\n",
      "[CV 3/5] END C=100, epsilon=0.2, gamma=0.1, kernel=linear;, score=-10.081 total time=   0.0s\n",
      "[CV 4/5] END C=100, epsilon=0.2, gamma=0.1, kernel=linear;, score=-6.603 total time=   0.0s\n",
      "[CV 5/5] END C=100, epsilon=0.2, gamma=0.1, kernel=linear;, score=-8.383 total time=   0.0s\n",
      "[CV 1/5] END C=100, epsilon=0.2, gamma=0.01, kernel=linear;, score=-8.343 total time=   0.0s\n",
      "[CV 2/5] END C=100, epsilon=0.2, gamma=0.01, kernel=linear;, score=-9.701 total time=   0.0s\n",
      "[CV 3/5] END C=100, epsilon=0.2, gamma=0.01, kernel=linear;, score=-10.081 total time=   0.0s\n",
      "[CV 4/5] END C=100, epsilon=0.2, gamma=0.01, kernel=linear;, score=-6.603 total time=   0.0s\n",
      "[CV 5/5] END C=100, epsilon=0.2, gamma=0.01, kernel=linear;, score=-8.383 total time=   0.0s\n",
      "[CV 1/5] END C=100, epsilon=0.2, gamma=0.001, kernel=linear;, score=-8.343 total time=   0.0s\n",
      "[CV 2/5] END C=100, epsilon=0.2, gamma=0.001, kernel=linear;, score=-9.701 total time=   0.0s\n",
      "[CV 3/5] END C=100, epsilon=0.2, gamma=0.001, kernel=linear;, score=-10.081 total time=   0.0s\n",
      "[CV 4/5] END C=100, epsilon=0.2, gamma=0.001, kernel=linear;, score=-6.603 total time=   0.0s\n",
      "[CV 5/5] END C=100, epsilon=0.2, gamma=0.001, kernel=linear;, score=-8.383 total time=   0.0s\n",
      "[CV 1/5] END C=100, epsilon=0.2, gamma=0.0001, kernel=linear;, score=-8.343 total time=   0.0s\n",
      "[CV 2/5] END C=100, epsilon=0.2, gamma=0.0001, kernel=linear;, score=-9.701 total time=   0.0s\n",
      "[CV 3/5] END C=100, epsilon=0.2, gamma=0.0001, kernel=linear;, score=-10.081 total time=   0.0s\n",
      "[CV 4/5] END C=100, epsilon=0.2, gamma=0.0001, kernel=linear;, score=-6.603 total time=   0.0s\n",
      "[CV 5/5] END C=100, epsilon=0.2, gamma=0.0001, kernel=linear;, score=-8.383 total time=   0.0s\n",
      "[CV 1/5] END C=100, epsilon=0.3, gamma=1, kernel=linear;, score=-8.375 total time=   0.0s\n",
      "[CV 2/5] END C=100, epsilon=0.3, gamma=1, kernel=linear;, score=-9.719 total time=   0.0s\n",
      "[CV 3/5] END C=100, epsilon=0.3, gamma=1, kernel=linear;, score=-10.092 total time=   0.0s\n",
      "[CV 4/5] END C=100, epsilon=0.3, gamma=1, kernel=linear;, score=-6.605 total time=   0.0s\n",
      "[CV 5/5] END C=100, epsilon=0.3, gamma=1, kernel=linear;, score=-8.388 total time=   0.0s\n",
      "[CV 1/5] END C=100, epsilon=0.3, gamma=0.1, kernel=linear;, score=-8.375 total time=   0.0s\n",
      "[CV 2/5] END C=100, epsilon=0.3, gamma=0.1, kernel=linear;, score=-9.719 total time=   0.0s\n",
      "[CV 3/5] END C=100, epsilon=0.3, gamma=0.1, kernel=linear;, score=-10.092 total time=   0.0s\n",
      "[CV 4/5] END C=100, epsilon=0.3, gamma=0.1, kernel=linear;, score=-6.605 total time=   0.0s\n",
      "[CV 5/5] END C=100, epsilon=0.3, gamma=0.1, kernel=linear;, score=-8.388 total time=   0.0s\n",
      "[CV 1/5] END C=100, epsilon=0.3, gamma=0.01, kernel=linear;, score=-8.375 total time=   0.0s\n",
      "[CV 2/5] END C=100, epsilon=0.3, gamma=0.01, kernel=linear;, score=-9.719 total time=   0.0s\n",
      "[CV 3/5] END C=100, epsilon=0.3, gamma=0.01, kernel=linear;, score=-10.092 total time=   0.0s\n",
      "[CV 4/5] END C=100, epsilon=0.3, gamma=0.01, kernel=linear;, score=-6.605 total time=   0.0s\n",
      "[CV 5/5] END C=100, epsilon=0.3, gamma=0.01, kernel=linear;, score=-8.388 total time=   0.0s\n",
      "[CV 1/5] END C=100, epsilon=0.3, gamma=0.001, kernel=linear;, score=-8.375 total time=   0.0s\n",
      "[CV 2/5] END C=100, epsilon=0.3, gamma=0.001, kernel=linear;, score=-9.719 total time=   0.0s\n",
      "[CV 3/5] END C=100, epsilon=0.3, gamma=0.001, kernel=linear;, score=-10.092 total time=   0.0s\n",
      "[CV 4/5] END C=100, epsilon=0.3, gamma=0.001, kernel=linear;, score=-6.605 total time=   0.0s\n",
      "[CV 5/5] END C=100, epsilon=0.3, gamma=0.001, kernel=linear;, score=-8.388 total time=   0.0s\n",
      "[CV 1/5] END C=100, epsilon=0.3, gamma=0.0001, kernel=linear;, score=-8.375 total time=   0.0s\n",
      "[CV 2/5] END C=100, epsilon=0.3, gamma=0.0001, kernel=linear;, score=-9.719 total time=   0.0s\n",
      "[CV 3/5] END C=100, epsilon=0.3, gamma=0.0001, kernel=linear;, score=-10.092 total time=   0.0s\n",
      "[CV 4/5] END C=100, epsilon=0.3, gamma=0.0001, kernel=linear;, score=-6.605 total time=   0.0s\n",
      "[CV 5/5] END C=100, epsilon=0.3, gamma=0.0001, kernel=linear;, score=-8.388 total time=   0.0s\n",
      "[CV 1/5] END C=1000, epsilon=0.1, gamma=1, kernel=linear;, score=-8.336 total time=   0.7s\n",
      "[CV 2/5] END C=1000, epsilon=0.1, gamma=1, kernel=linear;, score=-9.706 total time=   0.6s\n",
      "[CV 3/5] END C=1000, epsilon=0.1, gamma=1, kernel=linear;, score=-10.082 total time=   0.6s\n",
      "[CV 4/5] END C=1000, epsilon=0.1, gamma=1, kernel=linear;, score=-6.606 total time=   0.7s\n",
      "[CV 5/5] END C=1000, epsilon=0.1, gamma=1, kernel=linear;, score=-8.350 total time=   0.5s\n",
      "[CV 1/5] END C=1000, epsilon=0.1, gamma=0.1, kernel=linear;, score=-8.336 total time=   0.7s\n",
      "[CV 2/5] END C=1000, epsilon=0.1, gamma=0.1, kernel=linear;, score=-9.706 total time=   0.6s\n",
      "[CV 3/5] END C=1000, epsilon=0.1, gamma=0.1, kernel=linear;, score=-10.082 total time=   0.6s\n",
      "[CV 4/5] END C=1000, epsilon=0.1, gamma=0.1, kernel=linear;, score=-6.606 total time=   0.7s\n",
      "[CV 5/5] END C=1000, epsilon=0.1, gamma=0.1, kernel=linear;, score=-8.350 total time=   0.5s\n",
      "[CV 1/5] END C=1000, epsilon=0.1, gamma=0.01, kernel=linear;, score=-8.336 total time=   0.7s\n",
      "[CV 2/5] END C=1000, epsilon=0.1, gamma=0.01, kernel=linear;, score=-9.706 total time=   0.5s\n",
      "[CV 3/5] END C=1000, epsilon=0.1, gamma=0.01, kernel=linear;, score=-10.082 total time=   0.6s\n",
      "[CV 4/5] END C=1000, epsilon=0.1, gamma=0.01, kernel=linear;, score=-6.606 total time=   0.7s\n",
      "[CV 5/5] END C=1000, epsilon=0.1, gamma=0.01, kernel=linear;, score=-8.350 total time=   0.5s\n",
      "[CV 1/5] END C=1000, epsilon=0.1, gamma=0.001, kernel=linear;, score=-8.336 total time=   0.7s\n",
      "[CV 2/5] END C=1000, epsilon=0.1, gamma=0.001, kernel=linear;, score=-9.706 total time=   0.6s\n",
      "[CV 3/5] END C=1000, epsilon=0.1, gamma=0.001, kernel=linear;, score=-10.082 total time=   0.6s\n",
      "[CV 4/5] END C=1000, epsilon=0.1, gamma=0.001, kernel=linear;, score=-6.606 total time=   0.7s\n",
      "[CV 5/5] END C=1000, epsilon=0.1, gamma=0.001, kernel=linear;, score=-8.350 total time=   0.5s\n",
      "[CV 1/5] END C=1000, epsilon=0.1, gamma=0.0001, kernel=linear;, score=-8.336 total time=   0.7s\n",
      "[CV 2/5] END C=1000, epsilon=0.1, gamma=0.0001, kernel=linear;, score=-9.706 total time=   0.5s\n",
      "[CV 3/5] END C=1000, epsilon=0.1, gamma=0.0001, kernel=linear;, score=-10.082 total time=   0.7s\n",
      "[CV 4/5] END C=1000, epsilon=0.1, gamma=0.0001, kernel=linear;, score=-6.606 total time=   0.7s\n",
      "[CV 5/5] END C=1000, epsilon=0.1, gamma=0.0001, kernel=linear;, score=-8.350 total time=   0.5s\n",
      "[CV 1/5] END C=1000, epsilon=0.2, gamma=1, kernel=linear;, score=-8.343 total time=   0.7s\n",
      "[CV 2/5] END C=1000, epsilon=0.2, gamma=1, kernel=linear;, score=-9.701 total time=   0.5s\n",
      "[CV 3/5] END C=1000, epsilon=0.2, gamma=1, kernel=linear;, score=-10.081 total time=   0.5s\n",
      "[CV 4/5] END C=1000, epsilon=0.2, gamma=1, kernel=linear;, score=-6.600 total time=   0.5s\n",
      "[CV 5/5] END C=1000, epsilon=0.2, gamma=1, kernel=linear;, score=-8.383 total time=   0.5s\n",
      "[CV 1/5] END C=1000, epsilon=0.2, gamma=0.1, kernel=linear;, score=-8.343 total time=   0.7s\n",
      "[CV 2/5] END C=1000, epsilon=0.2, gamma=0.1, kernel=linear;, score=-9.701 total time=   0.5s\n",
      "[CV 3/5] END C=1000, epsilon=0.2, gamma=0.1, kernel=linear;, score=-10.081 total time=   0.5s\n",
      "[CV 4/5] END C=1000, epsilon=0.2, gamma=0.1, kernel=linear;, score=-6.600 total time=   0.5s\n",
      "[CV 5/5] END C=1000, epsilon=0.2, gamma=0.1, kernel=linear;, score=-8.383 total time=   0.6s\n",
      "[CV 1/5] END C=1000, epsilon=0.2, gamma=0.01, kernel=linear;, score=-8.343 total time=   0.7s\n",
      "[CV 2/5] END C=1000, epsilon=0.2, gamma=0.01, kernel=linear;, score=-9.701 total time=   0.6s\n",
      "[CV 3/5] END C=1000, epsilon=0.2, gamma=0.01, kernel=linear;, score=-10.081 total time=   0.5s\n",
      "[CV 4/5] END C=1000, epsilon=0.2, gamma=0.01, kernel=linear;, score=-6.600 total time=   0.5s\n",
      "[CV 5/5] END C=1000, epsilon=0.2, gamma=0.01, kernel=linear;, score=-8.383 total time=   0.6s\n",
      "[CV 1/5] END C=1000, epsilon=0.2, gamma=0.001, kernel=linear;, score=-8.343 total time=   0.8s\n",
      "[CV 2/5] END C=1000, epsilon=0.2, gamma=0.001, kernel=linear;, score=-9.701 total time=   0.6s\n",
      "[CV 3/5] END C=1000, epsilon=0.2, gamma=0.001, kernel=linear;, score=-10.081 total time=   0.5s\n",
      "[CV 4/5] END C=1000, epsilon=0.2, gamma=0.001, kernel=linear;, score=-6.600 total time=   0.5s\n",
      "[CV 5/5] END C=1000, epsilon=0.2, gamma=0.001, kernel=linear;, score=-8.383 total time=   0.5s\n",
      "[CV 1/5] END C=1000, epsilon=0.2, gamma=0.0001, kernel=linear;, score=-8.343 total time=   0.7s\n",
      "[CV 2/5] END C=1000, epsilon=0.2, gamma=0.0001, kernel=linear;, score=-9.701 total time=   0.6s\n",
      "[CV 3/5] END C=1000, epsilon=0.2, gamma=0.0001, kernel=linear;, score=-10.081 total time=   0.5s\n",
      "[CV 4/5] END C=1000, epsilon=0.2, gamma=0.0001, kernel=linear;, score=-6.600 total time=   0.5s\n",
      "[CV 5/5] END C=1000, epsilon=0.2, gamma=0.0001, kernel=linear;, score=-8.383 total time=   0.5s\n",
      "[CV 1/5] END C=1000, epsilon=0.3, gamma=1, kernel=linear;, score=-8.375 total time=   0.5s\n",
      "[CV 2/5] END C=1000, epsilon=0.3, gamma=1, kernel=linear;, score=-9.714 total time=   0.6s\n",
      "[CV 3/5] END C=1000, epsilon=0.3, gamma=1, kernel=linear;, score=-10.096 total time=   0.6s\n",
      "[CV 4/5] END C=1000, epsilon=0.3, gamma=1, kernel=linear;, score=-6.604 total time=   0.6s\n",
      "[CV 5/5] END C=1000, epsilon=0.3, gamma=1, kernel=linear;, score=-8.389 total time=   0.4s\n",
      "[CV 1/5] END C=1000, epsilon=0.3, gamma=0.1, kernel=linear;, score=-8.375 total time=   0.6s\n",
      "[CV 2/5] END C=1000, epsilon=0.3, gamma=0.1, kernel=linear;, score=-9.714 total time=   0.6s\n",
      "[CV 3/5] END C=1000, epsilon=0.3, gamma=0.1, kernel=linear;, score=-10.096 total time=   0.8s\n",
      "[CV 4/5] END C=1000, epsilon=0.3, gamma=0.1, kernel=linear;, score=-6.604 total time=   0.6s\n",
      "[CV 5/5] END C=1000, epsilon=0.3, gamma=0.1, kernel=linear;, score=-8.389 total time=   0.5s\n",
      "[CV 1/5] END C=1000, epsilon=0.3, gamma=0.01, kernel=linear;, score=-8.375 total time=   0.5s\n",
      "[CV 2/5] END C=1000, epsilon=0.3, gamma=0.01, kernel=linear;, score=-9.714 total time=   0.7s\n",
      "[CV 3/5] END C=1000, epsilon=0.3, gamma=0.01, kernel=linear;, score=-10.096 total time=   0.6s\n",
      "[CV 4/5] END C=1000, epsilon=0.3, gamma=0.01, kernel=linear;, score=-6.604 total time=   0.6s\n",
      "[CV 5/5] END C=1000, epsilon=0.3, gamma=0.01, kernel=linear;, score=-8.389 total time=   0.5s\n",
      "[CV 1/5] END C=1000, epsilon=0.3, gamma=0.001, kernel=linear;, score=-8.375 total time=   0.6s\n",
      "[CV 2/5] END C=1000, epsilon=0.3, gamma=0.001, kernel=linear;, score=-9.714 total time=   0.6s\n",
      "[CV 3/5] END C=1000, epsilon=0.3, gamma=0.001, kernel=linear;, score=-10.096 total time=   0.6s\n",
      "[CV 4/5] END C=1000, epsilon=0.3, gamma=0.001, kernel=linear;, score=-6.604 total time=   0.6s\n",
      "[CV 5/5] END C=1000, epsilon=0.3, gamma=0.001, kernel=linear;, score=-8.389 total time=   0.5s\n",
      "[CV 1/5] END C=1000, epsilon=0.3, gamma=0.0001, kernel=linear;, score=-8.375 total time=   0.5s\n",
      "[CV 2/5] END C=1000, epsilon=0.3, gamma=0.0001, kernel=linear;, score=-9.714 total time=   0.7s\n",
      "[CV 3/5] END C=1000, epsilon=0.3, gamma=0.0001, kernel=linear;, score=-10.096 total time=   0.6s\n",
      "[CV 4/5] END C=1000, epsilon=0.3, gamma=0.0001, kernel=linear;, score=-6.604 total time=   0.6s\n",
      "[CV 5/5] END C=1000, epsilon=0.3, gamma=0.0001, kernel=linear;, score=-8.389 total time=   0.4s\n"
     ]
    },
    {
     "data": {
      "text/html": [
       "<style>#sk-container-id-3 {color: black;}#sk-container-id-3 pre{padding: 0;}#sk-container-id-3 div.sk-toggleable {background-color: white;}#sk-container-id-3 label.sk-toggleable__label {cursor: pointer;display: block;width: 100%;margin-bottom: 0;padding: 0.3em;box-sizing: border-box;text-align: center;}#sk-container-id-3 label.sk-toggleable__label-arrow:before {content: \"▸\";float: left;margin-right: 0.25em;color: #696969;}#sk-container-id-3 label.sk-toggleable__label-arrow:hover:before {color: black;}#sk-container-id-3 div.sk-estimator:hover label.sk-toggleable__label-arrow:before {color: black;}#sk-container-id-3 div.sk-toggleable__content {max-height: 0;max-width: 0;overflow: hidden;text-align: left;background-color: #f0f8ff;}#sk-container-id-3 div.sk-toggleable__content pre {margin: 0.2em;color: black;border-radius: 0.25em;background-color: #f0f8ff;}#sk-container-id-3 input.sk-toggleable__control:checked~div.sk-toggleable__content {max-height: 200px;max-width: 100%;overflow: auto;}#sk-container-id-3 input.sk-toggleable__control:checked~label.sk-toggleable__label-arrow:before {content: \"▾\";}#sk-container-id-3 div.sk-estimator input.sk-toggleable__control:checked~label.sk-toggleable__label {background-color: #d4ebff;}#sk-container-id-3 div.sk-label input.sk-toggleable__control:checked~label.sk-toggleable__label {background-color: #d4ebff;}#sk-container-id-3 input.sk-hidden--visually {border: 0;clip: rect(1px 1px 1px 1px);clip: rect(1px, 1px, 1px, 1px);height: 1px;margin: -1px;overflow: hidden;padding: 0;position: absolute;width: 1px;}#sk-container-id-3 div.sk-estimator {font-family: monospace;background-color: #f0f8ff;border: 1px dotted black;border-radius: 0.25em;box-sizing: border-box;margin-bottom: 0.5em;}#sk-container-id-3 div.sk-estimator:hover {background-color: #d4ebff;}#sk-container-id-3 div.sk-parallel-item::after {content: \"\";width: 100%;border-bottom: 1px solid gray;flex-grow: 1;}#sk-container-id-3 div.sk-label:hover label.sk-toggleable__label {background-color: #d4ebff;}#sk-container-id-3 div.sk-serial::before {content: \"\";position: absolute;border-left: 1px solid gray;box-sizing: border-box;top: 0;bottom: 0;left: 50%;z-index: 0;}#sk-container-id-3 div.sk-serial {display: flex;flex-direction: column;align-items: center;background-color: white;padding-right: 0.2em;padding-left: 0.2em;position: relative;}#sk-container-id-3 div.sk-item {position: relative;z-index: 1;}#sk-container-id-3 div.sk-parallel {display: flex;align-items: stretch;justify-content: center;background-color: white;position: relative;}#sk-container-id-3 div.sk-item::before, #sk-container-id-3 div.sk-parallel-item::before {content: \"\";position: absolute;border-left: 1px solid gray;box-sizing: border-box;top: 0;bottom: 0;left: 50%;z-index: -1;}#sk-container-id-3 div.sk-parallel-item {display: flex;flex-direction: column;z-index: 1;position: relative;background-color: white;}#sk-container-id-3 div.sk-parallel-item:first-child::after {align-self: flex-end;width: 50%;}#sk-container-id-3 div.sk-parallel-item:last-child::after {align-self: flex-start;width: 50%;}#sk-container-id-3 div.sk-parallel-item:only-child::after {width: 0;}#sk-container-id-3 div.sk-dashed-wrapped {border: 1px dashed gray;margin: 0 0.4em 0.5em 0.4em;box-sizing: border-box;padding-bottom: 0.4em;background-color: white;}#sk-container-id-3 div.sk-label label {font-family: monospace;font-weight: bold;display: inline-block;line-height: 1.2em;}#sk-container-id-3 div.sk-label-container {text-align: center;}#sk-container-id-3 div.sk-container {/* jupyter's `normalize.less` sets `[hidden] { display: none; }` but bootstrap.min.css set `[hidden] { display: none !important; }` so we also need the `!important` here to be able to override the default hidden behavior on the sphinx rendered scikit-learn.org. See: https://github.com/scikit-learn/scikit-learn/issues/21755 */display: inline-block !important;position: relative;}#sk-container-id-3 div.sk-text-repr-fallback {display: none;}</style><div id=\"sk-container-id-3\" class=\"sk-top-container\"><div class=\"sk-text-repr-fallback\"><pre>GridSearchCV(cv=5, estimator=SVR(),\n",
       "             param_grid={&#x27;C&#x27;: [0.1, 1, 10, 100, 1000],\n",
       "                         &#x27;epsilon&#x27;: [0.1, 0.2, 0.3],\n",
       "                         &#x27;gamma&#x27;: [1, 0.1, 0.01, 0.001, 0.0001],\n",
       "                         &#x27;kernel&#x27;: [&#x27;linear&#x27;]},\n",
       "             scoring=&#x27;neg_mean_squared_error&#x27;, verbose=3)</pre><b>In a Jupyter environment, please rerun this cell to show the HTML representation or trust the notebook. <br />On GitHub, the HTML representation is unable to render, please try loading this page with nbviewer.org.</b></div><div class=\"sk-container\" hidden><div class=\"sk-item sk-dashed-wrapped\"><div class=\"sk-label-container\"><div class=\"sk-label sk-toggleable\"><input class=\"sk-toggleable__control sk-hidden--visually\" id=\"sk-estimator-id-5\" type=\"checkbox\" ><label for=\"sk-estimator-id-5\" class=\"sk-toggleable__label sk-toggleable__label-arrow\">GridSearchCV</label><div class=\"sk-toggleable__content\"><pre>GridSearchCV(cv=5, estimator=SVR(),\n",
       "             param_grid={&#x27;C&#x27;: [0.1, 1, 10, 100, 1000],\n",
       "                         &#x27;epsilon&#x27;: [0.1, 0.2, 0.3],\n",
       "                         &#x27;gamma&#x27;: [1, 0.1, 0.01, 0.001, 0.0001],\n",
       "                         &#x27;kernel&#x27;: [&#x27;linear&#x27;]},\n",
       "             scoring=&#x27;neg_mean_squared_error&#x27;, verbose=3)</pre></div></div></div><div class=\"sk-parallel\"><div class=\"sk-parallel-item\"><div class=\"sk-item\"><div class=\"sk-label-container\"><div class=\"sk-label sk-toggleable\"><input class=\"sk-toggleable__control sk-hidden--visually\" id=\"sk-estimator-id-6\" type=\"checkbox\" ><label for=\"sk-estimator-id-6\" class=\"sk-toggleable__label sk-toggleable__label-arrow\">estimator: SVR</label><div class=\"sk-toggleable__content\"><pre>SVR()</pre></div></div></div><div class=\"sk-serial\"><div class=\"sk-item\"><div class=\"sk-estimator sk-toggleable\"><input class=\"sk-toggleable__control sk-hidden--visually\" id=\"sk-estimator-id-7\" type=\"checkbox\" ><label for=\"sk-estimator-id-7\" class=\"sk-toggleable__label sk-toggleable__label-arrow\">SVR</label><div class=\"sk-toggleable__content\"><pre>SVR()</pre></div></div></div></div></div></div></div></div></div></div>"
      ],
      "text/plain": [
       "GridSearchCV(cv=5, estimator=SVR(),\n",
       "             param_grid={'C': [0.1, 1, 10, 100, 1000],\n",
       "                         'epsilon': [0.1, 0.2, 0.3],\n",
       "                         'gamma': [1, 0.1, 0.01, 0.001, 0.0001],\n",
       "                         'kernel': ['linear']},\n",
       "             scoring='neg_mean_squared_error', verbose=3)"
      ]
     },
     "execution_count": 25,
     "metadata": {},
     "output_type": "execute_result"
    }
   ],
   "source": [
    "grid.fit(X_train, y_train)"
   ]
  },
  {
   "cell_type": "code",
   "execution_count": 26,
   "id": "77df4233-5cf6-4558-aced-424fe3c69fc0",
   "metadata": {
    "tags": []
   },
   "outputs": [
    {
     "data": {
      "text/plain": [
       "{'C': 10, 'epsilon': 0.1, 'gamma': 1, 'kernel': 'linear'}"
      ]
     },
     "execution_count": 26,
     "metadata": {},
     "output_type": "execute_result"
    }
   ],
   "source": [
    "grid.best_params_"
   ]
  },
  {
   "cell_type": "code",
   "execution_count": 27,
   "id": "41add802-83dd-4a48-b984-322588277e4f",
   "metadata": {
    "tags": []
   },
   "outputs": [
    {
     "name": "stdout",
     "output_type": "stream",
     "text": [
      "0.998364307862634\n"
     ]
    }
   ],
   "source": [
    "## prediction\n",
    "y_pred4=grid.predict(X_test)\n",
    "print(r2_score(y_test,y_pred4))"
   ]
  },
  {
   "cell_type": "code",
   "execution_count": null,
   "id": "a2713cbb-0a47-4f92-b594-29e6ad58f0fc",
   "metadata": {},
   "outputs": [],
   "source": []
  }
 ],
 "metadata": {
  "kernelspec": {
   "display_name": "Python 3 (ipykernel)",
   "language": "python",
   "name": "python3"
  },
  "language_info": {
   "codemirror_mode": {
    "name": "ipython",
    "version": 3
   },
   "file_extension": ".py",
   "mimetype": "text/x-python",
   "name": "python",
   "nbconvert_exporter": "python",
   "pygments_lexer": "ipython3",
   "version": "3.11.1"
  }
 },
 "nbformat": 4,
 "nbformat_minor": 5
}
