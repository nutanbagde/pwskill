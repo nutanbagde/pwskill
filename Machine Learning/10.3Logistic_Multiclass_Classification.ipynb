{
 "cells": [
  {
   "cell_type": "code",
   "execution_count": 1,
   "id": "6bba6a53-4a0f-4db6-9a2f-38e873be6a1a",
   "metadata": {
    "tags": []
   },
   "outputs": [],
   "source": [
    "from sklearn.model_selection import train_test_split\n",
    "from sklearn.datasets import make_classification\n",
    "from sklearn.linear_model import LogisticRegression\n",
    "\n",
    "# define data set \n",
    "X, y= make_classification(n_samples=1000, n_features=10, n_informative=5, n_redundant=5, n_classes=3, random_state=2)"
   ]
  },
  {
   "cell_type": "code",
   "execution_count": 2,
   "id": "69c63547-dca2-429c-9627-1761b0d29004",
   "metadata": {
    "tags": []
   },
   "outputs": [
    {
     "data": {
      "text/plain": [
       "array([2, 0, 0, 0, 2, 2, 0, 1, 2, 2, 2, 2, 1, 2, 1, 0, 0, 1, 2, 1, 0, 0,\n",
       "       2, 1, 2, 2, 1, 2, 0, 0, 0, 1, 2, 1, 2, 0, 0, 1, 0, 2, 2, 0, 1, 1,\n",
       "       1, 0, 1, 0, 2, 0, 0, 2, 2, 2, 2, 2, 0, 2, 2, 0, 0, 0, 2, 0, 2, 2,\n",
       "       0, 2, 2, 1, 1, 0, 2, 0, 1, 0, 1, 2, 2, 0, 2, 2, 1, 1, 1, 2, 1, 1,\n",
       "       0, 0, 2, 0, 2, 0, 2, 2, 1, 2, 1, 2, 1, 1, 2, 0, 0, 2, 2, 0, 1, 1,\n",
       "       0, 0, 1, 2, 2, 0, 1, 1, 2, 2, 1, 2, 0, 2, 2, 0, 1, 1, 2, 1, 2, 2,\n",
       "       0, 2, 0, 1, 1, 2, 0, 1, 0, 1, 2, 1, 1, 2, 1, 0, 0, 1, 1, 1, 1, 2,\n",
       "       2, 1, 1, 0, 0, 1, 2, 1, 2, 2, 0, 0, 0, 1, 0, 0, 0, 1, 1, 1, 1, 1,\n",
       "       0, 1, 1, 2, 1, 0, 0, 0, 0, 1, 1, 2, 1, 0, 0, 1, 2, 0, 1, 0, 1, 2,\n",
       "       2, 0, 0, 2, 0, 0, 2, 1, 1, 0, 2, 2, 2, 2, 2, 2, 1, 2, 0, 1, 0, 0,\n",
       "       2, 2, 0, 0, 0, 2, 1, 0, 1, 0, 0, 1, 1, 0, 0, 1, 1, 1, 0, 1, 1, 0,\n",
       "       2, 0, 0, 2, 1, 0, 0, 2, 1, 1, 1, 1, 2, 2, 0, 1, 2, 1, 0, 2, 2, 1,\n",
       "       0, 0, 1, 0, 2, 1, 1, 0, 0, 0, 2, 1, 2, 1, 1, 2, 2, 0, 2, 2, 2, 2,\n",
       "       2, 2, 0, 1, 0, 2, 1, 0, 2, 2, 2, 1, 2, 1, 2, 2, 2, 1, 1, 1, 0, 2,\n",
       "       2, 1, 0, 1, 0, 0, 1, 1, 0, 2, 0, 2, 0, 0, 2, 0, 2, 2, 1, 1, 0, 0,\n",
       "       1, 0, 2, 0, 2, 2, 1, 1, 2, 1, 0, 1, 1, 2, 0, 1, 1, 0, 1, 1, 1, 2,\n",
       "       0, 0, 0, 0, 0, 1, 1, 2, 0, 2, 0, 2, 1, 1, 1, 2, 1, 1, 1, 1, 1, 0,\n",
       "       2, 2, 2, 0, 1, 2, 2, 1, 1, 1, 2, 1, 0, 2, 1, 2, 1, 0, 1, 1, 1, 1,\n",
       "       1, 2, 2, 2, 0, 0, 0, 1, 0, 1, 1, 2, 1, 0, 1, 1, 0, 1, 1, 1, 0, 1,\n",
       "       0, 1, 0, 0, 1, 1, 0, 0, 0, 2, 0, 1, 1, 0, 1, 2, 2, 0, 0, 2, 0, 0,\n",
       "       1, 1, 0, 2, 0, 2, 0, 0, 1, 0, 1, 1, 1, 1, 0, 2, 2, 0, 2, 1, 2, 2,\n",
       "       1, 0, 1, 0, 0, 1, 0, 0, 1, 1, 0, 0, 1, 1, 2, 2, 0, 2, 2, 1, 0, 2,\n",
       "       0, 2, 0, 1, 0, 2, 2, 0, 1, 0, 1, 0, 2, 0, 2, 2, 2, 1, 1, 1, 1, 1,\n",
       "       0, 0, 1, 2, 1, 0, 0, 0, 1, 2, 2, 0, 1, 1, 0, 1, 2, 1, 0, 0, 1, 1,\n",
       "       1, 1, 1, 1, 1, 0, 2, 2, 1, 1, 2, 0, 2, 2, 1, 2, 1, 0, 0, 0, 1, 2,\n",
       "       2, 0, 2, 2, 2, 2, 0, 0, 0, 1, 2, 1, 2, 2, 2, 2, 2, 0, 1, 2, 0, 2,\n",
       "       2, 2, 0, 0, 2, 0, 0, 2, 1, 2, 1, 2, 1, 0, 0, 1, 0, 0, 0, 0, 2, 0,\n",
       "       2, 2, 2, 2, 1, 2, 2, 1, 0, 1, 2, 0, 2, 0, 1, 1, 1, 1, 0, 1, 2, 2,\n",
       "       0, 2, 0, 2, 0, 1, 0, 1, 2, 2, 2, 2, 0, 1, 0, 1, 2, 0, 1, 1, 1, 0,\n",
       "       1, 0, 1, 1, 2, 2, 2, 1, 2, 1, 2, 2, 2, 0, 1, 1, 0, 0, 0, 2, 0, 0,\n",
       "       2, 2, 0, 1, 1, 0, 0, 1, 1, 1, 1, 1, 0, 2, 2, 0, 2, 2, 2, 2, 2, 1,\n",
       "       0, 2, 1, 2, 1, 1, 2, 2, 1, 1, 2, 1, 1, 2, 1, 1, 0, 1, 2, 2, 2, 0,\n",
       "       1, 2, 1, 1, 1, 0, 2, 2, 1, 0, 1, 2, 1, 2, 0, 2, 2, 2, 0, 1, 0, 2,\n",
       "       0, 1, 2, 0, 0, 2, 2, 0, 2, 1, 2, 1, 0, 1, 2, 0, 0, 2, 2, 0, 1, 2,\n",
       "       0, 0, 0, 0, 2, 1, 0, 0, 2, 2, 2, 0, 1, 0, 0, 0, 0, 0, 1, 0, 1, 2,\n",
       "       0, 0, 2, 2, 1, 1, 0, 2, 2, 2, 1, 2, 1, 2, 1, 0, 2, 2, 2, 2, 2, 2,\n",
       "       2, 0, 2, 1, 2, 0, 1, 2, 1, 0, 2, 1, 2, 2, 0, 0, 1, 0, 0, 2, 1, 2,\n",
       "       0, 1, 0, 2, 1, 0, 0, 1, 0, 0, 0, 2, 0, 2, 2, 0, 2, 2, 1, 0, 0, 1,\n",
       "       1, 2, 2, 0, 2, 0, 1, 1, 1, 1, 0, 2, 1, 1, 0, 2, 0, 1, 0, 1, 0, 2,\n",
       "       0, 0, 1, 2, 0, 2, 0, 0, 2, 0, 0, 1, 2, 2, 1, 1, 1, 0, 1, 0, 0, 0,\n",
       "       1, 2, 0, 1, 1, 1, 1, 0, 2, 0, 2, 0, 1, 0, 1, 2, 2, 1, 2, 0, 2, 2,\n",
       "       1, 0, 0, 1, 0, 1, 2, 0, 0, 1, 1, 0, 2, 0, 0, 2, 2, 2, 2, 0, 2, 0,\n",
       "       1, 0, 2, 0, 0, 0, 0, 1, 1, 2, 0, 1, 1, 2, 1, 2, 1, 2, 1, 2, 1, 1,\n",
       "       0, 0, 0, 1, 1, 2, 2, 2, 1, 1, 1, 0, 1, 2, 0, 1, 0, 0, 2, 0, 0, 2,\n",
       "       0, 0, 1, 1, 2, 1, 0, 1, 0, 2, 1, 2, 2, 0, 2, 1, 0, 2, 2, 0, 1, 0,\n",
       "       2, 2, 0, 1, 1, 2, 2, 0, 1, 0])"
      ]
     },
     "execution_count": 2,
     "metadata": {},
     "output_type": "execute_result"
    }
   ],
   "source": [
    "y"
   ]
  },
  {
   "cell_type": "code",
   "execution_count": 10,
   "id": "4cbb649c-85c6-42ba-b889-1a9a845a8ee0",
   "metadata": {
    "tags": []
   },
   "outputs": [],
   "source": [
    "# define the multinomial logistic regression model for multiclass classification\n",
    "#most imp\n",
    "model= LogisticRegression(multi_class='ovr',solver='lbfgs')"
   ]
  },
  {
   "cell_type": "code",
   "execution_count": 4,
   "id": "4ba85c84-4c47-462e-a1d9-31ba5dcec9c6",
   "metadata": {
    "tags": []
   },
   "outputs": [],
   "source": [
    "# trin test split\n",
    "X_train, X_test, y_train, y_test=train_test_split(X,y, test_size=0.20,random_state=42)"
   ]
  },
  {
   "cell_type": "code",
   "execution_count": 5,
   "id": "d138ba44-2a63-4426-80a1-a86a749df7ee",
   "metadata": {
    "tags": []
   },
   "outputs": [
    {
     "data": {
      "text/html": [
       "<style>#sk-container-id-1 {color: black;}#sk-container-id-1 pre{padding: 0;}#sk-container-id-1 div.sk-toggleable {background-color: white;}#sk-container-id-1 label.sk-toggleable__label {cursor: pointer;display: block;width: 100%;margin-bottom: 0;padding: 0.3em;box-sizing: border-box;text-align: center;}#sk-container-id-1 label.sk-toggleable__label-arrow:before {content: \"▸\";float: left;margin-right: 0.25em;color: #696969;}#sk-container-id-1 label.sk-toggleable__label-arrow:hover:before {color: black;}#sk-container-id-1 div.sk-estimator:hover label.sk-toggleable__label-arrow:before {color: black;}#sk-container-id-1 div.sk-toggleable__content {max-height: 0;max-width: 0;overflow: hidden;text-align: left;background-color: #f0f8ff;}#sk-container-id-1 div.sk-toggleable__content pre {margin: 0.2em;color: black;border-radius: 0.25em;background-color: #f0f8ff;}#sk-container-id-1 input.sk-toggleable__control:checked~div.sk-toggleable__content {max-height: 200px;max-width: 100%;overflow: auto;}#sk-container-id-1 input.sk-toggleable__control:checked~label.sk-toggleable__label-arrow:before {content: \"▾\";}#sk-container-id-1 div.sk-estimator input.sk-toggleable__control:checked~label.sk-toggleable__label {background-color: #d4ebff;}#sk-container-id-1 div.sk-label input.sk-toggleable__control:checked~label.sk-toggleable__label {background-color: #d4ebff;}#sk-container-id-1 input.sk-hidden--visually {border: 0;clip: rect(1px 1px 1px 1px);clip: rect(1px, 1px, 1px, 1px);height: 1px;margin: -1px;overflow: hidden;padding: 0;position: absolute;width: 1px;}#sk-container-id-1 div.sk-estimator {font-family: monospace;background-color: #f0f8ff;border: 1px dotted black;border-radius: 0.25em;box-sizing: border-box;margin-bottom: 0.5em;}#sk-container-id-1 div.sk-estimator:hover {background-color: #d4ebff;}#sk-container-id-1 div.sk-parallel-item::after {content: \"\";width: 100%;border-bottom: 1px solid gray;flex-grow: 1;}#sk-container-id-1 div.sk-label:hover label.sk-toggleable__label {background-color: #d4ebff;}#sk-container-id-1 div.sk-serial::before {content: \"\";position: absolute;border-left: 1px solid gray;box-sizing: border-box;top: 0;bottom: 0;left: 50%;z-index: 0;}#sk-container-id-1 div.sk-serial {display: flex;flex-direction: column;align-items: center;background-color: white;padding-right: 0.2em;padding-left: 0.2em;position: relative;}#sk-container-id-1 div.sk-item {position: relative;z-index: 1;}#sk-container-id-1 div.sk-parallel {display: flex;align-items: stretch;justify-content: center;background-color: white;position: relative;}#sk-container-id-1 div.sk-item::before, #sk-container-id-1 div.sk-parallel-item::before {content: \"\";position: absolute;border-left: 1px solid gray;box-sizing: border-box;top: 0;bottom: 0;left: 50%;z-index: -1;}#sk-container-id-1 div.sk-parallel-item {display: flex;flex-direction: column;z-index: 1;position: relative;background-color: white;}#sk-container-id-1 div.sk-parallel-item:first-child::after {align-self: flex-end;width: 50%;}#sk-container-id-1 div.sk-parallel-item:last-child::after {align-self: flex-start;width: 50%;}#sk-container-id-1 div.sk-parallel-item:only-child::after {width: 0;}#sk-container-id-1 div.sk-dashed-wrapped {border: 1px dashed gray;margin: 0 0.4em 0.5em 0.4em;box-sizing: border-box;padding-bottom: 0.4em;background-color: white;}#sk-container-id-1 div.sk-label label {font-family: monospace;font-weight: bold;display: inline-block;line-height: 1.2em;}#sk-container-id-1 div.sk-label-container {text-align: center;}#sk-container-id-1 div.sk-container {/* jupyter's `normalize.less` sets `[hidden] { display: none; }` but bootstrap.min.css set `[hidden] { display: none !important; }` so we also need the `!important` here to be able to override the default hidden behavior on the sphinx rendered scikit-learn.org. See: https://github.com/scikit-learn/scikit-learn/issues/21755 */display: inline-block !important;position: relative;}#sk-container-id-1 div.sk-text-repr-fallback {display: none;}</style><div id=\"sk-container-id-1\" class=\"sk-top-container\"><div class=\"sk-text-repr-fallback\"><pre>LogisticRegression(multi_class=&#x27;ovr&#x27;)</pre><b>In a Jupyter environment, please rerun this cell to show the HTML representation or trust the notebook. <br />On GitHub, the HTML representation is unable to render, please try loading this page with nbviewer.org.</b></div><div class=\"sk-container\" hidden><div class=\"sk-item\"><div class=\"sk-estimator sk-toggleable\"><input class=\"sk-toggleable__control sk-hidden--visually\" id=\"sk-estimator-id-1\" type=\"checkbox\" checked><label for=\"sk-estimator-id-1\" class=\"sk-toggleable__label sk-toggleable__label-arrow\">LogisticRegression</label><div class=\"sk-toggleable__content\"><pre>LogisticRegression(multi_class=&#x27;ovr&#x27;)</pre></div></div></div></div></div>"
      ],
      "text/plain": [
       "LogisticRegression(multi_class='ovr')"
      ]
     },
     "execution_count": 5,
     "metadata": {},
     "output_type": "execute_result"
    }
   ],
   "source": [
    "# Trining model\n",
    "model.fit(X_train,y_train)"
   ]
  },
  {
   "cell_type": "code",
   "execution_count": 6,
   "id": "abab76f8-35f2-41c2-a9ef-c6a5ee66635b",
   "metadata": {
    "tags": []
   },
   "outputs": [],
   "source": [
    "y_pred=model.predict(X_test)"
   ]
  },
  {
   "cell_type": "code",
   "execution_count": 7,
   "id": "d1f5d599-f2b1-4458-93f7-47ab4bdbda66",
   "metadata": {
    "tags": []
   },
   "outputs": [
    {
     "data": {
      "text/plain": [
       "array([[6.53991300e-03, 2.12412495e-01, 7.81047592e-01],\n",
       "       [3.80696361e-01, 4.72226495e-01, 1.47077144e-01],\n",
       "       [1.89874176e-02, 2.67838248e-01, 7.13174335e-01],\n",
       "       [3.66545906e-03, 1.67975684e-01, 8.28358857e-01],\n",
       "       [5.25644117e-01, 2.24153967e-01, 2.50201916e-01],\n",
       "       [5.68032155e-02, 2.49657979e-01, 6.93538805e-01],\n",
       "       [2.55129115e-02, 4.50271114e-01, 5.24215974e-01],\n",
       "       [5.63254344e-01, 3.14686875e-01, 1.22058781e-01],\n",
       "       [6.09460331e-01, 3.31034555e-01, 5.95051136e-02],\n",
       "       [3.68714434e-01, 4.59533831e-01, 1.71751736e-01],\n",
       "       [1.79232723e-02, 2.10320881e-01, 7.71755847e-01],\n",
       "       [4.05155027e-01, 4.30896286e-01, 1.63948687e-01],\n",
       "       [1.60922904e-01, 6.47346935e-01, 1.91730161e-01],\n",
       "       [6.75456170e-01, 2.64425144e-01, 6.01186864e-02],\n",
       "       [6.48303734e-01, 3.32008646e-01, 1.96876196e-02],\n",
       "       [6.22054520e-01, 2.18606577e-01, 1.59338903e-01],\n",
       "       [4.60439961e-03, 2.70857619e-01, 7.24537981e-01],\n",
       "       [1.98593318e-01, 5.31695618e-01, 2.69711065e-01],\n",
       "       [6.52443513e-01, 2.59271048e-01, 8.82854395e-02],\n",
       "       [3.57660198e-02, 3.92836648e-01, 5.71397332e-01],\n",
       "       [3.31399259e-03, 1.66625199e-01, 8.30060809e-01],\n",
       "       [2.06034307e-02, 3.05827482e-01, 6.73569087e-01],\n",
       "       [4.38695167e-01, 3.80908687e-01, 1.80396146e-01],\n",
       "       [4.73268024e-01, 2.79557519e-01, 2.47174457e-01],\n",
       "       [3.28521343e-01, 5.83991896e-01, 8.74867604e-02],\n",
       "       [3.49435702e-01, 5.47565624e-01, 1.02998675e-01],\n",
       "       [6.94047684e-01, 2.63499955e-01, 4.24523602e-02],\n",
       "       [4.09823672e-01, 3.39551353e-01, 2.50624975e-01],\n",
       "       [9.61444832e-02, 4.78639729e-01, 4.25215788e-01],\n",
       "       [6.63894658e-01, 3.16399730e-01, 1.97056119e-02],\n",
       "       [2.29998324e-01, 3.29766335e-01, 4.40235341e-01],\n",
       "       [2.58174697e-01, 5.67017914e-01, 1.74807389e-01],\n",
       "       [1.12775463e-01, 3.97856415e-01, 4.89368121e-01],\n",
       "       [1.17010605e-01, 2.44286480e-01, 6.38702915e-01],\n",
       "       [3.85784073e-02, 2.73111422e-01, 6.88310171e-01],\n",
       "       [3.02212689e-01, 4.92489305e-01, 2.05298006e-01],\n",
       "       [6.80251450e-01, 2.73070291e-01, 4.66782591e-02],\n",
       "       [1.15603552e-01, 2.36663258e-01, 6.47733190e-01],\n",
       "       [4.68937649e-01, 3.79663976e-01, 1.51398374e-01],\n",
       "       [5.38480693e-01, 3.53009297e-01, 1.08510009e-01],\n",
       "       [7.04900962e-01, 2.73877402e-01, 2.12216359e-02],\n",
       "       [3.05902184e-02, 4.91971366e-01, 4.77438415e-01],\n",
       "       [2.78626790e-01, 5.65628087e-01, 1.55745124e-01],\n",
       "       [7.18342931e-01, 2.23528024e-01, 5.81290448e-02],\n",
       "       [2.30878420e-01, 4.40373768e-01, 3.28747812e-01],\n",
       "       [3.36626282e-01, 3.89651275e-01, 2.73722443e-01],\n",
       "       [6.46291442e-01, 2.84433099e-01, 6.92754593e-02],\n",
       "       [1.11234517e-02, 2.93496334e-01, 6.95380215e-01],\n",
       "       [5.68236718e-01, 3.24799292e-01, 1.06963990e-01],\n",
       "       [1.45961034e-02, 3.54353179e-01, 6.31050718e-01],\n",
       "       [6.61526996e-01, 3.33217214e-01, 5.25578980e-03],\n",
       "       [6.70059078e-01, 3.18126593e-01, 1.18143287e-02],\n",
       "       [1.75740055e-02, 2.50581216e-01, 7.31844779e-01],\n",
       "       [6.40654309e-01, 2.87011884e-01, 7.23338069e-02],\n",
       "       [4.11891689e-01, 4.66308900e-01, 1.21799411e-01],\n",
       "       [6.73883194e-01, 3.00851936e-01, 2.52648706e-02],\n",
       "       [3.96482766e-03, 2.80263538e-01, 7.15771634e-01],\n",
       "       [5.95955926e-01, 3.50539253e-01, 5.35048212e-02],\n",
       "       [6.49306302e-01, 1.39259570e-01, 2.11434127e-01],\n",
       "       [6.63814486e-01, 2.55450593e-01, 8.07349213e-02],\n",
       "       [8.77184722e-02, 1.28800468e-01, 7.83481060e-01],\n",
       "       [2.39016572e-02, 2.54769402e-01, 7.21328941e-01],\n",
       "       [5.97514533e-01, 3.37088885e-01, 6.53965818e-02],\n",
       "       [2.20780886e-02, 1.85392933e-01, 7.92528978e-01],\n",
       "       [1.79271279e-02, 3.31279468e-01, 6.50793404e-01],\n",
       "       [1.15274633e-03, 2.06283251e-01, 7.92564002e-01],\n",
       "       [6.48383757e-01, 3.14638858e-01, 3.69773849e-02],\n",
       "       [6.46031734e-03, 1.60217206e-01, 8.33322477e-01],\n",
       "       [1.72417622e-01, 5.38344091e-01, 2.89238287e-01],\n",
       "       [2.53644542e-01, 2.88481425e-01, 4.57874033e-01],\n",
       "       [6.44142557e-01, 3.20699294e-01, 3.51581487e-02],\n",
       "       [6.46288933e-01, 3.32177427e-01, 2.15336397e-02],\n",
       "       [4.95409598e-01, 4.32859826e-01, 7.17305760e-02],\n",
       "       [5.81464528e-01, 3.41946916e-01, 7.65885555e-02],\n",
       "       [5.14901543e-01, 3.26884240e-01, 1.58214217e-01],\n",
       "       [4.69144561e-01, 3.84672012e-01, 1.46183427e-01],\n",
       "       [4.67414161e-01, 4.67128873e-01, 6.54569655e-02],\n",
       "       [8.57666470e-03, 2.32115629e-01, 7.59307707e-01],\n",
       "       [6.48495567e-01, 3.05419953e-01, 4.60844794e-02],\n",
       "       [1.13209620e-01, 4.74551070e-01, 4.12239310e-01],\n",
       "       [4.14084665e-01, 4.89874645e-01, 9.60406902e-02],\n",
       "       [4.68680318e-01, 3.69536026e-01, 1.61783657e-01],\n",
       "       [6.26410682e-01, 2.83871933e-01, 8.97173845e-02],\n",
       "       [3.41351937e-01, 5.49764281e-01, 1.08883782e-01],\n",
       "       [4.95698441e-01, 3.49211211e-01, 1.55090348e-01],\n",
       "       [3.13906622e-01, 3.99675468e-01, 2.86417910e-01],\n",
       "       [3.54971291e-01, 4.88264786e-01, 1.56763923e-01],\n",
       "       [3.18796001e-01, 4.86990268e-01, 1.94213731e-01],\n",
       "       [3.80513261e-01, 2.95833719e-01, 3.23653020e-01],\n",
       "       [7.45668469e-01, 2.29689042e-01, 2.46424893e-02],\n",
       "       [1.39900774e-01, 3.63616938e-01, 4.96482288e-01],\n",
       "       [2.06019541e-01, 4.02476960e-01, 3.91503499e-01],\n",
       "       [2.74231309e-03, 2.99332962e-01, 6.97924725e-01],\n",
       "       [5.65718797e-01, 3.58967450e-01, 7.53137534e-02],\n",
       "       [6.50156683e-02, 2.68613650e-01, 6.66370681e-01],\n",
       "       [5.21113699e-01, 3.65067798e-01, 1.13818503e-01],\n",
       "       [5.94121639e-01, 3.48691997e-01, 5.71863640e-02],\n",
       "       [6.84297362e-01, 3.02712163e-01, 1.29904751e-02],\n",
       "       [5.93392418e-01, 3.31379020e-01, 7.52285628e-02],\n",
       "       [4.39873200e-01, 4.85571865e-01, 7.45549346e-02],\n",
       "       [1.03461772e-01, 3.51175433e-01, 5.45362795e-01],\n",
       "       [2.35286819e-04, 3.32713060e-01, 6.67051653e-01],\n",
       "       [5.46157876e-02, 3.98681312e-01, 5.46702901e-01],\n",
       "       [6.74966137e-01, 3.03546135e-01, 2.14877286e-02],\n",
       "       [1.31285074e-01, 4.84637254e-01, 3.84077672e-01],\n",
       "       [4.70168378e-01, 4.15972365e-01, 1.13859257e-01],\n",
       "       [5.34823372e-03, 2.09227352e-01, 7.85424414e-01],\n",
       "       [1.63766598e-01, 5.64145395e-01, 2.72088008e-01],\n",
       "       [6.14275788e-01, 3.49452962e-01, 3.62712495e-02],\n",
       "       [1.56853717e-01, 3.25213489e-01, 5.17932793e-01],\n",
       "       [3.06809897e-01, 3.18191889e-01, 3.74998214e-01],\n",
       "       [6.86548027e-01, 2.83629727e-01, 2.98222461e-02],\n",
       "       [9.01450339e-02, 3.51460295e-01, 5.58394671e-01],\n",
       "       [6.32398887e-01, 3.17178792e-01, 5.04223208e-02],\n",
       "       [2.45315469e-01, 5.60461550e-01, 1.94222981e-01],\n",
       "       [4.01832564e-01, 3.76520690e-01, 2.21646746e-01],\n",
       "       [7.38259035e-01, 2.15349070e-01, 4.63918952e-02],\n",
       "       [6.29366268e-01, 2.45151037e-01, 1.25482695e-01],\n",
       "       [2.89548811e-02, 4.65115856e-01, 5.05929263e-01],\n",
       "       [9.88060698e-03, 1.73686859e-01, 8.16432534e-01],\n",
       "       [5.01292399e-01, 3.09935403e-01, 1.88772198e-01],\n",
       "       [6.55580251e-01, 3.35020015e-01, 9.39973412e-03],\n",
       "       [3.94364174e-01, 4.58798219e-01, 1.46837608e-01],\n",
       "       [6.98813483e-01, 2.91488863e-01, 9.69765415e-03],\n",
       "       [9.36414841e-02, 3.63137794e-01, 5.43220722e-01],\n",
       "       [1.20613439e-02, 4.52500872e-01, 5.35437784e-01],\n",
       "       [6.15766405e-02, 1.80062595e-01, 7.58360764e-01],\n",
       "       [4.01681732e-01, 1.50540008e-01, 4.47778260e-01],\n",
       "       [5.88173995e-01, 3.85625478e-01, 2.62005272e-02],\n",
       "       [2.95039260e-01, 3.03052182e-01, 4.01908557e-01],\n",
       "       [3.79022997e-03, 2.21415732e-01, 7.74794038e-01],\n",
       "       [5.14300940e-01, 3.26013117e-01, 1.59685944e-01],\n",
       "       [3.21109067e-01, 3.05668380e-01, 3.73222553e-01],\n",
       "       [6.44105566e-01, 4.43767863e-02, 3.11517647e-01],\n",
       "       [5.93150201e-01, 3.88236088e-01, 1.86137108e-02],\n",
       "       [3.50426802e-03, 2.00260627e-01, 7.96235105e-01],\n",
       "       [3.05773396e-01, 4.60150759e-01, 2.34075845e-01],\n",
       "       [1.34535214e-02, 3.80362964e-01, 6.06183515e-01],\n",
       "       [1.42443931e-01, 4.95607016e-01, 3.61949053e-01],\n",
       "       [2.89646174e-02, 2.46765270e-01, 7.24270112e-01],\n",
       "       [6.37749293e-01, 3.03372744e-01, 5.88779632e-02],\n",
       "       [7.59762763e-01, 1.92341134e-01, 4.78961039e-02],\n",
       "       [7.57237268e-04, 3.16015672e-01, 6.83227091e-01],\n",
       "       [5.64152862e-01, 3.60041097e-01, 7.58060409e-02],\n",
       "       [3.83444781e-01, 4.03025666e-01, 2.13529553e-01],\n",
       "       [3.91032504e-03, 2.23177966e-01, 7.72911709e-01],\n",
       "       [4.81540967e-01, 3.46085700e-01, 1.72373333e-01],\n",
       "       [6.40039879e-01, 3.43394833e-01, 1.65652880e-02],\n",
       "       [7.41593316e-01, 2.36452158e-01, 2.19545259e-02],\n",
       "       [6.73912901e-01, 3.21978939e-01, 4.10815948e-03],\n",
       "       [9.31598104e-03, 4.44064973e-01, 5.46619045e-01],\n",
       "       [4.63131122e-01, 4.47909756e-01, 8.89591222e-02],\n",
       "       [4.08180670e-01, 4.21257309e-01, 1.70562021e-01],\n",
       "       [5.21750041e-01, 3.81118342e-01, 9.71316166e-02],\n",
       "       [3.85610298e-01, 8.91075797e-02, 5.25282122e-01],\n",
       "       [2.84056039e-01, 4.50228496e-01, 2.65715465e-01],\n",
       "       [3.07809048e-01, 3.97005769e-01, 2.95185184e-01],\n",
       "       [1.76821972e-01, 3.09953222e-01, 5.13224807e-01],\n",
       "       [5.50373732e-01, 3.88645916e-01, 6.09803514e-02],\n",
       "       [5.18620236e-01, 3.47498054e-01, 1.33881710e-01],\n",
       "       [3.69910817e-01, 2.51795492e-01, 3.78293691e-01],\n",
       "       [6.21792374e-01, 2.26725058e-01, 1.51482568e-01],\n",
       "       [1.38683399e-01, 5.16891202e-01, 3.44425398e-01],\n",
       "       [2.64096316e-01, 2.07625312e-01, 5.28278372e-01],\n",
       "       [5.39578727e-01, 2.81437768e-01, 1.78983504e-01],\n",
       "       [1.40243775e-02, 3.93744001e-01, 5.92231621e-01],\n",
       "       [2.26209765e-02, 4.00499634e-01, 5.76879389e-01],\n",
       "       [1.05441286e-01, 3.86101536e-01, 5.08457178e-01],\n",
       "       [9.71936129e-02, 5.63813497e-01, 3.38992890e-01],\n",
       "       [5.90604385e-01, 2.83503511e-01, 1.25892105e-01],\n",
       "       [4.79260380e-01, 3.44248662e-01, 1.76490958e-01],\n",
       "       [4.90068746e-03, 3.34686304e-01, 6.60413009e-01],\n",
       "       [5.45040826e-01, 3.83133217e-01, 7.18259572e-02],\n",
       "       [4.26887569e-01, 3.77238020e-01, 1.95874411e-01],\n",
       "       [3.76281848e-01, 3.31665581e-01, 2.92052571e-01],\n",
       "       [1.20542962e-01, 3.96172518e-01, 4.83284520e-01],\n",
       "       [3.82815498e-01, 2.61450644e-01, 3.55733859e-01],\n",
       "       [7.51580259e-01, 2.45572432e-01, 2.84730936e-03],\n",
       "       [2.32762331e-02, 4.75383406e-01, 5.01340361e-01],\n",
       "       [4.15989281e-02, 3.22453534e-01, 6.35947538e-01],\n",
       "       [3.51070427e-01, 4.75775243e-01, 1.73154330e-01],\n",
       "       [3.34588669e-01, 2.96114936e-01, 3.69296395e-01],\n",
       "       [3.77007873e-01, 3.77637237e-01, 2.45354890e-01],\n",
       "       [1.16923515e-01, 5.80388042e-01, 3.02688443e-01],\n",
       "       [3.08059929e-01, 3.52116106e-01, 3.39823966e-01],\n",
       "       [4.72966840e-01, 1.44141066e-01, 3.82892094e-01],\n",
       "       [5.53887559e-01, 3.25397088e-01, 1.20715352e-01],\n",
       "       [4.10387729e-01, 3.66406960e-01, 2.23205311e-01],\n",
       "       [6.33185919e-01, 3.00557493e-01, 6.62565882e-02],\n",
       "       [5.40102660e-01, 3.61321569e-01, 9.85757709e-02],\n",
       "       [3.20825487e-01, 3.78706465e-01, 3.00468048e-01],\n",
       "       [6.67164809e-01, 3.11481179e-01, 2.13540117e-02],\n",
       "       [4.61324850e-01, 3.70224049e-01, 1.68451101e-01],\n",
       "       [5.81300423e-01, 3.38823813e-01, 7.98757643e-02],\n",
       "       [2.24155798e-01, 2.17562183e-01, 5.58282019e-01],\n",
       "       [2.63099869e-01, 6.05490481e-01, 1.31409650e-01],\n",
       "       [9.42693452e-03, 2.20382541e-01, 7.70190524e-01],\n",
       "       [7.41297512e-03, 2.04956683e-01, 7.87630342e-01],\n",
       "       [2.43812932e-01, 4.70275717e-01, 2.85911351e-01],\n",
       "       [6.11223350e-01, 3.17932746e-01, 7.08439032e-02]])"
      ]
     },
     "execution_count": 7,
     "metadata": {},
     "output_type": "execute_result"
    }
   ],
   "source": [
    "model.predict_proba(X_test)"
   ]
  },
  {
   "cell_type": "code",
   "execution_count": 8,
   "id": "86b640ef-a41e-44dd-853f-3537398b344d",
   "metadata": {
    "tags": []
   },
   "outputs": [
    {
     "data": {
      "text/plain": [
       "array([2, 1, 2, 2, 0, 2, 2, 0, 0, 1, 2, 1, 1, 0, 0, 0, 2, 1, 0, 2, 2, 2,\n",
       "       0, 0, 1, 1, 0, 0, 1, 0, 2, 1, 2, 2, 2, 1, 0, 2, 0, 0, 0, 1, 1, 0,\n",
       "       1, 1, 0, 2, 0, 2, 0, 0, 2, 0, 1, 0, 2, 0, 0, 0, 2, 2, 0, 2, 2, 2,\n",
       "       0, 2, 1, 2, 0, 0, 0, 0, 0, 0, 0, 2, 0, 1, 1, 0, 0, 1, 0, 1, 1, 1,\n",
       "       0, 0, 2, 1, 2, 0, 2, 0, 0, 0, 0, 1, 2, 2, 2, 0, 1, 0, 2, 1, 0, 2,\n",
       "       2, 0, 2, 0, 1, 0, 0, 0, 2, 2, 0, 0, 1, 0, 2, 2, 2, 2, 0, 2, 2, 0,\n",
       "       2, 0, 0, 2, 1, 2, 1, 2, 0, 0, 2, 0, 1, 2, 0, 0, 0, 0, 2, 0, 1, 0,\n",
       "       2, 1, 1, 2, 0, 0, 2, 0, 1, 2, 0, 2, 2, 2, 1, 0, 0, 2, 0, 0, 0, 2,\n",
       "       0, 0, 2, 2, 1, 2, 1, 1, 1, 0, 0, 0, 0, 0, 1, 0, 0, 0, 2, 1, 2, 2,\n",
       "       1, 0])"
      ]
     },
     "execution_count": 8,
     "metadata": {},
     "output_type": "execute_result"
    }
   ],
   "source": [
    "y_pred"
   ]
  },
  {
   "cell_type": "code",
   "execution_count": 9,
   "id": "524687cb-4ff7-4a79-8fa9-3b9eb788333f",
   "metadata": {
    "tags": []
   },
   "outputs": [
    {
     "name": "stdout",
     "output_type": "stream",
     "text": [
      "[[54 26 10]\n",
      " [ 6 28  9]\n",
      " [ 1 17 49]]\n",
      "0.655\n",
      "              precision    recall  f1-score   support\n",
      "\n",
      "           0       0.89      0.60      0.72        90\n",
      "           1       0.39      0.65      0.49        43\n",
      "           2       0.72      0.73      0.73        67\n",
      "\n",
      "    accuracy                           0.66       200\n",
      "   macro avg       0.67      0.66      0.64       200\n",
      "weighted avg       0.72      0.66      0.67       200\n",
      "\n"
     ]
    }
   ],
   "source": [
    "from sklearn.metrics import accuracy_score,confusion_matrix, classification_report\n",
    "print(confusion_matrix(y_pred,y_test))\n",
    "print(accuracy_score(y_pred,y_test))\n",
    "print(classification_report(y_pred,y_test))"
   ]
  },
  {
   "cell_type": "code",
   "execution_count": null,
   "id": "7ea4da2f-8c7b-4154-9a86-ffebf0b85de1",
   "metadata": {},
   "outputs": [],
   "source": []
  }
 ],
 "metadata": {
  "kernelspec": {
   "display_name": "Python 3 (ipykernel)",
   "language": "python",
   "name": "python3"
  },
  "language_info": {
   "codemirror_mode": {
    "name": "ipython",
    "version": 3
   },
   "file_extension": ".py",
   "mimetype": "text/x-python",
   "name": "python",
   "nbconvert_exporter": "python",
   "pygments_lexer": "ipython3",
   "version": "3.11.1"
  }
 },
 "nbformat": 4,
 "nbformat_minor": 5
}
