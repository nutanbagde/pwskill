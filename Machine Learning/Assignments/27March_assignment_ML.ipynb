{
 "cells": [
  {
   "cell_type": "markdown",
   "id": "78e175cc-dced-40ef-8227-1a812737eea7",
   "metadata": {},
   "source": [
    "## Q1. Explain the concept of R-squared in linear regression models. How is it calculated, and what does it represent?\n"
   ]
  },
  {
   "cell_type": "markdown",
   "id": "532221a2-e0bc-4db9-9e4d-a364c126156d",
   "metadata": {},
   "source": [
    "## Ans:- "
   ]
  },
  {
   "cell_type": "markdown",
   "id": "1d8d085c-5322-4db4-9cd2-c2b12c4e1b28",
   "metadata": {},
   "source": [
    "R-squared is a statistical measure that represents the proportion of variation in the dependent variable (the variable being predicted) that is explained by the independent variables (the variables used to make predictions) in a linear regression model. In other words, it indicates how well the model fits the data.\n",
    "R-squared is calculated as the ratio of the sum of squared differences between the predicted values and the actual values of the dependent variable to the sum of squared differences between the actual values and the mean of the dependent variable. Mathematically, it can be expressed as follows:\n",
    "\n",
    "$$ R^2 = 1 - \\frac{SS_(RES)}{SS_(ROT)}$$ \n",
    "\n",
    "where SSres is the sum of squared residuals (the difference between predicted values and actual values) and SStot is the total sum of squared differences between the actual values and the mean of the dependent variable.\n",
    "\n",
    "R-squared can range from 0 to 1, with higher values indicating a better fit of the model to the data. An R-squared value of 1 indicates that all of the variation in the dependent variable is explained by the independent variables in the model, while an R-squared value of 0 indicates that the model does not explain any of the variation in the dependent variable.\n",
    "\n",
    "It is important to note that while a high R-squared value suggests a good fit of the model to the data, it does not necessarily mean that the model is the best possible model for the data or that the independent variables are causing the dependent variable. Other factors, such as multicollinearity, omitted variables, or outliers, can also affect the accuracy and validity of the model.\n",
    "\n",
    "$$ R^2 = 1 - \\frac{SS_(RES)}{SS_(ROT)} = 1- \\frac{\\sum_i (y_i -\\hat y_i)^2}{\\sum_i (y_i -\\hat y)^2}$$ "
   ]
  },
  {
   "cell_type": "markdown",
   "id": "dbc49233-d635-4e80-8c5e-b9706a26a84a",
   "metadata": {},
   "source": [
    "---\n",
    "---"
   ]
  },
  {
   "cell_type": "markdown",
   "id": "6264c406-abde-4e15-89f8-a53d7b941bc8",
   "metadata": {},
   "source": [
    "## Q2. Define adjusted R-squared and explain how it differs from the regular R-squared.\n"
   ]
  },
  {
   "cell_type": "markdown",
   "id": "a057e5aa-7162-4796-b54d-f98841b111aa",
   "metadata": {},
   "source": [
    "## Ans:- "
   ]
  },
  {
   "cell_type": "markdown",
   "id": "e609bbe8-e343-4092-899d-5d23ef8e6a6e",
   "metadata": {},
   "source": [
    "Adjusted R-squared is a modified version of R-squared that has been adjusted for the number of predictors in the model. The adjusted R-squared increases when the new term improves the model more than would be expected by chance. It decreases when a predictor improves the model by less than expected. Typically, the adjusted R-squared is positive, not negative. It is always lower than the R-squared.\n",
    "\n",
    "Adding more independent variables or predictors to a regression model tends to increase the R-squared value, which tempts makers of the model to add even more variables. This is called overfitting and can return an unwarranted high R-squared value. Adjusted R-squared is used to determine how reliable the correlation is and how much it is determined by the addition of independent variables.\n",
    "\n",
    "The most obvious difference between adjusted R-squared and R-squared is simply that adjusted R-squared considers and tests different independent variables against the stock index and R-squared does not.\n",
    "The most obvious difference between adjusted R-squared and R-squared is simply that adjusted R-squared considers and tests different independent variables against the stock index and R-squared does not.\n",
    "\n",
    "R-squared, on the other hand, does have its limitations. One of the most essential limits to using this model is that R-squared cannot be used to determine whether or not the coefficient estimates and predictions are biased. Furthermore, in multiple lin\n",
    "ear regression, the R-squared can not tell us which regression variable is more important than the other.\n",
    "\n",
    "$$ Adjusted R squared = 1- \\frac{(1-R^2)*(n-1)}{n-k-1} $$"
   ]
  },
  {
   "cell_type": "markdown",
   "id": "4de5ddc3-cd9a-4b96-b738-760df92ad72a",
   "metadata": {},
   "source": [
    "---\n",
    "---"
   ]
  },
  {
   "cell_type": "markdown",
   "id": "3c7ee635-b18c-46cd-a487-0442cbb84269",
   "metadata": {},
   "source": [
    "## Q3. When is it more appropriate to use adjusted R-squared?\n"
   ]
  },
  {
   "cell_type": "markdown",
   "id": "d3120072-be84-4f30-a1f0-e441f2b0b332",
   "metadata": {},
   "source": [
    "## Ans:- "
   ]
  },
  {
   "cell_type": "markdown",
   "id": "ca2c428f-8727-4768-95a9-4127605bfe3d",
   "metadata": {},
   "source": [
    "Adjusted R-squared is a modified version of the R-squared statistic that takes into account the number of predictors in a model. It is more appropriate to use adjusted R-squared when comparing models with different numbers of predictors or when the number of predictors is relatively large.\n",
    "\n",
    "The adjusted R-squared penalizes the addition of unnecessary predictors to the model, whereas the standard R-squared can artificially increase as more predictors are added, even if they do not improve the model's predictive power. Therefore, the adjusted R-squared provides a more accurate assessment of a model's goodness of fit.\n",
    "\n",
    "In general, it is advisable to use adjusted R-squared when evaluating regression models with multiple predictors, especially if the number of predictors is large or if some predictors are correlated with each other. However, it is important to keep in mind that the adjusted R-squared has its limitations and should be used in conjunction with other measures of model fit and interpretability."
   ]
  },
  {
   "cell_type": "markdown",
   "id": "be123943-081a-456f-86ff-a8a027f69a7a",
   "metadata": {},
   "source": [
    "---\n",
    "---"
   ]
  },
  {
   "cell_type": "markdown",
   "id": "d1d8426f-2dfd-4477-ac17-d40e72637252",
   "metadata": {},
   "source": [
    "## Q4. What are RMSE, MSE, and MAE in the context of regression analysis? How are these metrics calculated, and what do they represent?\n"
   ]
  },
  {
   "cell_type": "markdown",
   "id": "5b960a0f-0553-496a-8a7f-1eb01ecf5c55",
   "metadata": {},
   "source": [
    "## Ans:- "
   ]
  },
  {
   "cell_type": "markdown",
   "id": "fd5fe61f-6cfd-4924-93f7-4a46acb721ea",
   "metadata": {
    "tags": []
   },
   "source": [
    "### Mean Absolute Error (MAE) :\n",
    "1. MAE represents the average of the absolute difference between the actual and predicted values in the dataset. It measures the average of the residuals in the dataset.\n",
    "2. Formula for MAE :\n",
    "\n",
    "$$ MAE = \\frac{1}{n} \\sum_{i=1}^n |y_i-\\hat y_i| $$\n",
    " \n",
    "where  $y_i$ is actual value and $\\hat y_i$ is predicted value\n",
    "\n",
    "### Mean Squared Error (MSE) :\n",
    "1. MSE represents the average of the squared difference between the original and predicted values in the data set. It measures the variance of the residuals.\n",
    "2. Formula for MSE : \n",
    "\n",
    "$$ MSE =  \\frac{1}{n} \\sum_{i=1}^n (y_i-\\hat y_i)^2 $$\n",
    " \n",
    "where  $y_i$ is actual value and $\\hat y_i$ is predicted value\n",
    "\n",
    "### Root Mean Squared Error (RMSE) :\n",
    "1. RMSE is the square root of Mean Squared error. It measures the standard deviation of residuals.\n",
    "2. Formula for RMSE : \n",
    " $$ RMSE = \\sqrt {MSE}= \\sqrt{\\frac{1}{n} \\sum_{i=1}^n (y_i-\\hat y_i)^2} $$\n",
    "where  $y_i$ is actual value and $\\hat y_i$ is predicted value"
   ]
  },
  {
   "cell_type": "markdown",
   "id": "0cda38b4-f5a6-4c60-a21b-994ece718e46",
   "metadata": {},
   "source": [
    "---\n",
    "---"
   ]
  },
  {
   "cell_type": "markdown",
   "id": "c231b5f5-fec9-4fd9-adc2-76962e0a63da",
   "metadata": {},
   "source": [
    "## Q5. Discuss the advantages and disadvantages of using RMSE, MSE, and MAE as evaluation metrics in regression analysis.\n"
   ]
  },
  {
   "cell_type": "markdown",
   "id": "379e8081-897d-429a-93d6-f4755b188d37",
   "metadata": {},
   "source": [
    "## Ans:- "
   ]
  },
  {
   "cell_type": "markdown",
   "id": "032a4ad0-0d89-4403-acee-1aa54b490c70",
   "metadata": {},
   "source": [
    "Regression analysis is a statistical technique that aims to estimate the relationship between a dependent variable and one or more independent variables. To evaluate the performance of a regression model, it is common to use metrics such as Root Mean Squared Error (RMSE), Mean Squared Error (MSE), and Mean Absolute Error (MAE). Each of these metrics has its own advantages and disadvantages, which we will discuss below:\n",
    "\n",
    "### Advantages of RMSE:\n",
    "* RMSE is a popular evaluation metric because it has a clear interpretation in the same units as the dependent variable. This means that it is easy to understand the magnitude of the error in the context of the problem being solved.\n",
    "* RMSE gives more weight to large errors than small errors because it involves taking the square root of the mean of the squared errors. This can be useful if we want to penalize larger errors more heavily.\n",
    "* RMSE is differentiable, which means it can be used in optimization algorithms to tune the parameters of a regression model.\n",
    "\n",
    "### Disadvantages of RMSE:\n",
    "* RMSE can be sensitive to outliers because it involves taking the square root of the mean of the squared errors. This means that a single large error can have a significant impact on the metric.\n",
    "* RMSE does not have a lower bound because it can take any non-negative value. This means that it can be difficult to interpret the absolute goodness of fit of a model based on RMSE alone.\n",
    "\n",
    "### Advantages of MSE:\n",
    "* MSE is a well-known metric that is widely used in many areas of statistics.\n",
    "* MSE is sensitive to both the magnitude and direction of errors, which can be useful in many situations.\n",
    "* MSE is relatively easy to calculate.\n",
    "\n",
    "### Disadvantages of MSE:\n",
    "* MSE puts more weight on larger errors, which can make it less interpretable in situations where the magnitude of the error is important.\n",
    "* MSE is sensitive to outliers.\n",
    "\n",
    "### Advantages of MAE:\n",
    "* MAE is less sensitive to outliers than RMSE and MSE.\n",
    "* MAE is easier to interpret than RMSE and MSE because it is based on absolute errors.\n",
    "\n",
    "### Disadvantages of MAE:\n",
    "* MAE does not take into account the direction of errors, which can be a limitation in situations where the sign of the error is important.\n",
    "* MAE puts equal weight on all errors, which can make it less useful in situations where large errors are more important than small errors.\n",
    "\n",
    "Overall, the choice of which metric to use for evaluating regression models depends on the specific context of the problem being studied. For example, if the consequences of large errors are significant, then RMSE may be the best metric to use. If the data contains outliers, then MAE may be more appropriate. It is important to consider the advantages and disadvantages of each metric when selecting an appropriate evaluation metric."
   ]
  },
  {
   "cell_type": "markdown",
   "id": "7d811c21-1600-4f99-8b11-e279bb2b8d14",
   "metadata": {},
   "source": [
    "---\n",
    "---"
   ]
  },
  {
   "cell_type": "markdown",
   "id": "e9194fda-8eff-4331-9085-594a09983e0a",
   "metadata": {},
   "source": [
    "## Q6. Explain the concept of Lasso regularization. How does it differ from Ridge regularization, and when is it more appropriate to use?\n"
   ]
  },
  {
   "cell_type": "markdown",
   "id": "e2496f85-3564-46a5-835d-03c0b4bdbc81",
   "metadata": {},
   "source": [
    "## Ans:- "
   ]
  },
  {
   "cell_type": "markdown",
   "id": "9631fa81-f9b6-44d1-93c5-6a8292d45076",
   "metadata": {},
   "source": [
    "Lasso regularization is a technique used in regression analysis to reduce overfitting by adding a penalty term to the cost function. The penalty term is the L1 norm of the coefficients, which shrinks the less important coefficients towards zero and leads to sparse models.\n",
    "\n",
    "In contrast, Ridge regularization uses the L2 norm of the coefficients to add a penalty term to the cost function, which shrinks all coefficients towards zero. Ridge regularization typically results in models with all non-zero coefficients, whereas Lasso regularization can result in models with some zero coefficients.\n",
    "\n",
    "The main difference between Lasso and Ridge regularization is the type of penalty term used. Lasso regularization can be more appropriate when the data is sparse, i.e., when there are many features but only a few of them are relevant to the response variable. In this case, Lasso regularization can effectively identify and remove the irrelevant features, resulting in a more interpretable and efficient model.\n",
    "\n",
    "On the other hand, Ridge regularization can be more appropriate when all the features are potentially relevant to the response variable. In this case, Ridge regularization can shrink all coefficients towards zero, resulting in a more stable and generalizable model.\n",
    "\n",
    "Overall, the choice between Lasso and Ridge regularization depends on the specific context of the problem being studied, and both techniques can be useful for reducing overfitting and improving the accuracy of regression models.\n",
    "\n",
    "### Equation for Ridge Regression :\n",
    " $$L_{ridge} (w)= \\sum_{i=1}^n {(yi-w^T X_i)}^2 + \\lambda \\sum_{j=1}^p w_j^2 $$\n",
    "### Equation for Lasso Regression :\n",
    "$$L_{ridge} (w)= \\sum_{i=1}^n {(yi-w^T X_i)}^2 + \\lambda \\sum_{j=1}^p |w_j| $$\n",
    "#### where \n",
    "* w is the weight vector, \n",
    "* $x_i$ is the feature vector for the i-th data point, \n",
    "* $y_i$ is the true label for the i-th data point, \n",
    "* $\\lambda $ is the regularization strength, and \n",
    "* p is the number of features."
   ]
  },
  {
   "cell_type": "markdown",
   "id": "6f335827-cc3e-4ae1-ae7b-1ffad881057d",
   "metadata": {},
   "source": [
    "---\n",
    "---"
   ]
  },
  {
   "cell_type": "markdown",
   "id": "2cabd4dc-e468-41c0-8422-f259946252a1",
   "metadata": {},
   "source": [
    "## Q7. How do regularized linear models help to prevent overfitting in machine learning? Provide an example to illustrate."
   ]
  },
  {
   "cell_type": "markdown",
   "id": "5671b9f4-6080-489d-bbb2-5443e03ea781",
   "metadata": {},
   "source": [
    "## Ans:- "
   ]
  },
  {
   "cell_type": "markdown",
   "id": "1657a9be-939d-41e5-9282-0c54415d6b25",
   "metadata": {},
   "source": [
    "Regularized linear models, such as Ridge regression and Lasso regression, help prevent overfitting in machine learning by adding a penalty term to the cost function that limits the magnitude of the model coefficients. This penalty term discourages the model from assigning too much importance to any one feature, thereby reducing the model's sensitivity to noise and improving its generalization performance.\n",
    "\n",
    "For example, let's consider a regression problem where we want to predict the sale price of houses based on a set of features, such as the number of bedrooms, the size of the lot, and the location of the house. We have a training set of 1000 houses, and we want to build a model that can accurately predict the sale price of new houses.\n",
    "\n",
    "Without regularization, we might train a linear regression model that fits the training set very closely, with a high coefficient assigned to each feature. However, this model is likely to overfit to the training set, meaning it will perform poorly on new data that it has not seen before.\n",
    "To prevent overfitting, we can add a penalty term to the cost function that limits the magnitude of the model coefficients. For example, we can use Ridge regression or Lasso regression to add an L2 or L1 penalty term, respectively, to the cost function.\n",
    "\n",
    "With regularization, the model is encouraged to assign lower coefficients to less important features, which helps to prevent overfitting and improve its generalization performance. For example, in Lasso regression, the L1 penalty term can force some coefficients to be exactly zero, effectively removing those features from the model.\n",
    "In summary, regularized linear models help prevent overfitting by adding a penalty term to the cost function that limits the magnitude of the model coefficients. By encouraging the model to assign lower coefficients to less important features, these models can improve the generalization performance of the model and reduce its sensitivity to noise."
   ]
  },
  {
   "cell_type": "markdown",
   "id": "4c08d5f8-256d-4ffd-a1d4-a8e542044091",
   "metadata": {},
   "source": [
    "---\n",
    "---"
   ]
  },
  {
   "cell_type": "markdown",
   "id": "3a91d911-8f1b-414a-8fe8-ab907252094b",
   "metadata": {},
   "source": [
    "## Q8. Discuss the limitations of regularized linear models and explain why they may not always be the best choice for regression analysis.\n"
   ]
  },
  {
   "cell_type": "markdown",
   "id": "8a234f18-2db2-448c-9128-3784316f155d",
   "metadata": {},
   "source": [
    "## Ans:- "
   ]
  },
  {
   "cell_type": "markdown",
   "id": "16b21145-7f9f-413e-9a83-01039a2a104f",
   "metadata": {},
   "source": [
    "#### While regularized linear models can be effective in preventing overfitting and improving generalization performance, they have several limitations and may not always be the best choice for regression analysis.\n",
    "__1. Biased predictions for rare or important features:__ Regularization can result in biased predictions for rare or important features, as the model is encouraged to assign lower coefficients to less important features. This can be problematic in applications where rare or important features are critical to the prediction task.\n",
    "\n",
    "__2. Difficulty in choosing the regularization parameter:__ The regularization parameter, which determines the strength of the penalty term, must be carefully chosen to balance the trade-off between fitting the training data and generalizing to new data. Choosing an inappropriate value for the regularization parameter can result in underfitting or overfitting.\n",
    "\n",
    "__3. Nonlinear relationships:__ Regularized linear models can only capture linear relationships between the features and the target variable. In cases where the relationship is nonlinear, other models, such as decision trees or neural networks, may be more appropriate.\n",
    "\n",
    "__4. Outliers:__ Regularized linear models are sensitive to outliers in the data, as these can have a large effect on the model coefficients. Outliers can also affect the choice of the regularization parameter, as they can cause the model to underfit or overfit.\n",
    "\n",
    "__5. Interpretability:__ Regularized linear models may be less interpretable than non-regularized linear models, as the penalty term can result in some coefficients being exactly zero. This can make it difficult to understand the importance of individual features in the prediction task.\n",
    "\n",
    "#### In summary, regularized linear models have several limitations that must be carefully considered when choosing an appropriate regression model. While they can be effective in preventing overfitting and improving generalization performance, they may not always be the best choice for regression analysis, particularly in cases where rare or important features are critical to the prediction task or where the relationship between the features and the target variable is nonlinear."
   ]
  },
  {
   "cell_type": "markdown",
   "id": "2c8ea25d-8348-4ecc-92b0-02d3b063a610",
   "metadata": {},
   "source": [
    "---\n",
    "---"
   ]
  },
  {
   "cell_type": "markdown",
   "id": "36c359c9-8360-4fc3-8afb-3c3ea8ee1b7d",
   "metadata": {},
   "source": [
    "## Q9. You are comparing the performance of two regression models using different evaluation metrics.\n",
    "## Model A has an RMSE of 10, while Model B has an MAE of 8. Which model would you choose as the better performer, and why? Are there any limitations to your choice of metric?\n"
   ]
  },
  {
   "cell_type": "markdown",
   "id": "50b1747e-181f-4f8d-b312-ae69015266be",
   "metadata": {},
   "source": [
    "## Ans:- "
   ]
  },
  {
   "cell_type": "markdown",
   "id": "8e0366ac-04ff-4b64-a0ff-5c36016530bc",
   "metadata": {},
   "source": []
  },
  {
   "cell_type": "markdown",
   "id": "d752f453-74bf-478b-a3db-b4c7de92ed8d",
   "metadata": {},
   "source": [
    "---\n",
    "---"
   ]
  },
  {
   "cell_type": "markdown",
   "id": "1b0326de-25b0-4c23-898d-5030bffe42a5",
   "metadata": {},
   "source": [
    "## Q10. You are comparing the performance of two regularized linear models using different types of regularization. Model A uses Ridge regularization with a regularization parameter of 0.1, while Model B uses Lasso regularization with a regularization parameter of 0.5. Which model would you choose as the better performer, and why? Are there any trade-offs or limitations to your choice of regularization method?"
   ]
  },
  {
   "cell_type": "markdown",
   "id": "37574792-7f8a-4da6-b4bc-ba6f7317a943",
   "metadata": {},
   "source": [
    "## Ans:- "
   ]
  },
  {
   "cell_type": "markdown",
   "id": "6c7e391f-0196-4c42-9baf-a59207af3292",
   "metadata": {},
   "source": []
  },
  {
   "cell_type": "markdown",
   "id": "1a09def7-98ee-4cbf-bf1d-88093aef516c",
   "metadata": {},
   "source": [
    "---\n",
    "---"
   ]
  },
  {
   "cell_type": "code",
   "execution_count": null,
   "id": "5e5502c3-5a70-4d9d-80f0-34121174d1e5",
   "metadata": {},
   "outputs": [],
   "source": []
  }
 ],
 "metadata": {
  "kernelspec": {
   "display_name": "Python 3 (ipykernel)",
   "language": "python",
   "name": "python3"
  },
  "language_info": {
   "codemirror_mode": {
    "name": "ipython",
    "version": 3
   },
   "file_extension": ".py",
   "mimetype": "text/x-python",
   "name": "python",
   "nbconvert_exporter": "python",
   "pygments_lexer": "ipython3",
   "version": "3.11.1"
  }
 },
 "nbformat": 4,
 "nbformat_minor": 5
}
