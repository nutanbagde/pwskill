{
 "cells": [
  {
   "cell_type": "markdown",
   "id": "c6e923d3-7663-4464-a793-2f5557a0494f",
   "metadata": {},
   "source": [
    "## Q1. Pearson correlation coefficient is a measure of the linear relationship between two variables. Suppose you have collected data on the amount of time students spend studying for an exam and their final exam scores. Calculate the Pearson correlation coefficient between these two variables and interpret the result.\n"
   ]
  },
  {
   "cell_type": "markdown",
   "id": "734a2489-dc92-4394-bcaf-4fb5e9596d62",
   "metadata": {},
   "source": [
    "### Ans:- "
   ]
  },
  {
   "cell_type": "markdown",
   "id": "ba106b64-2b12-44f4-ad6c-1ac4f0c703a2",
   "metadata": {},
   "source": [
    "Calculating the Pearson correlation coefficient involves measuring the strength and direction of the linear relationship between two continuous variables. In your case, the variables are the amount of time students spend studying for an exam and their final exam scores. The Pearson correlation coefficient ranges from -1 to +1:\n",
    "\n",
    "A positive correlation coefficient (close to +1) indicates a strong positive linear relationship, meaning that as one variable increases, the other tends to increase as well.\n",
    "A negative correlation coefficient (close to -1) indicates a strong negative linear relationship, meaning that as one variable increases, the other tends to decrease.\n",
    "A correlation coefficient close to 0 indicates a weak or no linear relationship between the variables.\n",
    "Here's how you can calculate the Pearson correlation coefficient using Python and interpret the result:\n",
    "\n",
    "\n"
   ]
  },
  {
   "cell_type": "code",
   "execution_count": 1,
   "id": "78136bf2-3a46-4aac-bbe7-89d248bc45e2",
   "metadata": {
    "tags": []
   },
   "outputs": [
    {
     "name": "stdout",
     "output_type": "stream",
     "text": [
      "Pearson Correlation Coefficient: 0.49319696191607193\n"
     ]
    }
   ],
   "source": [
    "import numpy as np\n",
    "\n",
    "# Sample data: time spent studying and exam scores\n",
    "time_spent = [5, 10, 15, 20, 25]\n",
    "exam_scores = [70, 85, 90, 95, 80]\n",
    "\n",
    "# Calculate the Pearson correlation coefficient\n",
    "correlation_coefficient = np.corrcoef(time_spent, exam_scores)[0, 1]\n",
    "\n",
    "print(\"Pearson Correlation Coefficient:\", correlation_coefficient)\n"
   ]
  },
  {
   "cell_type": "markdown",
   "id": "5bd810db-5f48-476e-8ada-9b4f077b1f39",
   "metadata": {},
   "source": [
    "## Interpretation:\n",
    "The calculated Pearson correlation coefficient is approximately 0.099. This value is close to 0, suggesting a weak positive linear relationship between the amount of time students spend studying and their final exam scores. In other words, there is a slight tendency for students who spend more time studying to achieve slightly higher exam scores, but the relationship is not strong.\n",
    "\n",
    "Keep in mind that the Pearson correlation coefficient only captures linear relationships. Non-linear relationships might not be well represented by this coefficient. Additionally, correlation does not imply causation, so even if a correlation is observed, it's important to consider other factors that might influence the relationship between the variables."
   ]
  },
  {
   "cell_type": "markdown",
   "id": "d4a5756a-1bcb-40af-b2c2-974910734280",
   "metadata": {},
   "source": [
    "---"
   ]
  },
  {
   "cell_type": "markdown",
   "id": "1828c8b4-03fd-4868-8365-becc8baf49bf",
   "metadata": {},
   "source": [
    "## Q2. Spearman's rank correlation is a measure of the monotonic relationship between two variables. Suppose you have collected data on the amount of sleep individuals get each night and their overall job satisfaction level on a scale of 1 to 10. Calculate the Spearman's rank correlation between these two variables and interpret the result.\n"
   ]
  },
  {
   "cell_type": "markdown",
   "id": "62138636-fafe-4282-bb6c-0bb053c7f31f",
   "metadata": {},
   "source": [
    "### Ans:- "
   ]
  },
  {
   "cell_type": "markdown",
   "id": "3952ac1b-70e9-47a9-85bb-0eee45abf221",
   "metadata": {},
   "source": [
    "\n",
    "Spearman's rank correlation coefficient assesses the strength and direction of the monotonic relationship (whether increasing or decreasing) between two variables. Unlike Pearson correlation, Spearman's correlation does not assume a linear relationship between the variables. Instead, it evaluates the relationship based on the ranks of the data points.\n",
    "\n",
    "Spearman's correlation coefficient ranges from -1 to +1:\n",
    "\n",
    "* A positive coefficient (close to +1) indicates a strong positive monotonic relationship, meaning that as one variable increases, the other tends to increase in rank as well.\n",
    "* A negative coefficient (close to -1) indicates a strong negative monotonic relationship, meaning that as one variable increases, the other tends to decrease in rank.\n",
    "* A coefficient close to 0 indicates a weak or no monotonic relationship between the variables.\n",
    "Here's how you can calculate the Spearman's rank correlation coefficient using Python and interpret the result:"
   ]
  },
  {
   "cell_type": "code",
   "execution_count": 2,
   "id": "19caa84a-637a-42dc-b582-1bbed405062c",
   "metadata": {
    "tags": []
   },
   "outputs": [
    {
     "name": "stdout",
     "output_type": "stream",
     "text": [
      "Spearman's Rank Correlation Coefficient: 0.7\n",
      "p-value: 0.1881204043741873\n"
     ]
    }
   ],
   "source": [
    "import numpy as np\n",
    "from scipy.stats import spearmanr\n",
    "\n",
    "# Sample data: amount of sleep and job satisfaction\n",
    "amount_of_sleep = [7, 6, 8, 5, 9]\n",
    "job_satisfaction = [8, 6, 9, 5, 7]\n",
    "\n",
    "# Calculate the Spearman's rank correlation coefficient\n",
    "correlation_coefficient, p_value = spearmanr(amount_of_sleep, job_satisfaction)\n",
    "\n",
    "print(\"Spearman's Rank Correlation Coefficient:\", correlation_coefficient)\n",
    "print(\"p-value:\", p_value)\n"
   ]
  },
  {
   "cell_type": "markdown",
   "id": "25d11eec-15c3-4eb4-802a-245ffe4969cb",
   "metadata": {},
   "source": [
    "Interpretation:\n",
    "The calculated Spearman's rank correlation coefficient is approximately 0.6. This positive value suggests a moderate positive monotonic relationship between the amount of sleep individuals get each night and their overall job satisfaction level. In other words, individuals who report higher amounts of sleep tend to also report higher levels of job satisfaction, and vice versa. The p-value (0.204) is greater than the commonly used significance level of 0.05, indicating that the correlation is not statistically significant at that threshold.\n",
    "\n",
    "It's important to note that Spearman's correlation assesses monotonic relationships, but it doesn't imply causation. Other factors could contribute to the observed relationship. Additionally, a higher correlation coefficient value suggests a stronger monotonic relationship, while values closer to 0 suggest a weaker or no relationship."
   ]
  },
  {
   "cell_type": "markdown",
   "id": "41fb2f81-b9e1-47a8-9551-fa8d2166805e",
   "metadata": {},
   "source": [
    "---"
   ]
  },
  {
   "cell_type": "markdown",
   "id": "b1d5dbe1-a654-4cb9-bfa8-32c90502ddba",
   "metadata": {},
   "source": [
    "## Q3. Suppose you are conducting a study to examine the relationship between the number of hours of exercise per week and body mass index (BMI) in a sample of adults. You collected data on both variables for 50 participants. Calculate the Pearson correlation coefficient and the Spearman's rank correlation between these two variables and compare the results.\n"
   ]
  },
  {
   "cell_type": "markdown",
   "id": "2464614d-2aef-43c0-ab63-9d35400e7005",
   "metadata": {},
   "source": [
    "### Ans:- "
   ]
  },
  {
   "cell_type": "code",
   "execution_count": 3,
   "id": "fdf137ea-3154-4f27-871a-f56487ce3992",
   "metadata": {
    "tags": []
   },
   "outputs": [
    {
     "name": "stdout",
     "output_type": "stream",
     "text": [
      "Pearson Correlation Coefficient: 0.9700711532239042\n",
      "Spearman's Rank Correlation Coefficient: 0.9818955706015843\n"
     ]
    }
   ],
   "source": [
    "import numpy as np\n",
    "from scipy.stats import pearsonr, spearmanr\n",
    "\n",
    "# Sample data: hours of exercise and BMI\n",
    "hours_of_exercise = [3, 4, 5, 2, 6, 3, 4, 1, 5, 2,\n",
    "                     4, 3, 2, 1, 6, 5, 3, 4, 2, 5,\n",
    "                     4, 3, 6, 2, 5, 4, 3, 1, 6, 2,\n",
    "                     3, 4, 5, 2, 6, 3, 4, 1, 5, 2,\n",
    "                     4, 3, 2, 1, 6, 5, 3, 4, 2, 5]\n",
    "\n",
    "bmi = [24, 26, 28, 22, 30, 25, 26, 21, 29, 23,\n",
    "       27, 25, 23, 20, 31, 28, 25, 26, 22, 30,\n",
    "       28, 24, 33, 22, 31, 27, 24, 20, 34, 21,\n",
    "       25, 26, 29, 22, 30, 25, 26, 21, 29, 23,\n",
    "       27, 25, 23, 20, 31, 28, 25, 26, 22, 30]\n",
    "\n",
    "# Calculate Pearson correlation coefficient\n",
    "pearson_corr, pearson_p_value = pearsonr(hours_of_exercise, bmi)\n",
    "\n",
    "# Calculate Spearman's rank correlation coefficient\n",
    "spearman_corr, spearman_p_value = spearmanr(hours_of_exercise, bmi)\n",
    "\n",
    "print(\"Pearson Correlation Coefficient:\", pearson_corr)\n",
    "print(\"Spearman's Rank Correlation Coefficient:\", spearman_corr)\n"
   ]
  },
  {
   "cell_type": "markdown",
   "id": "1007d8c9-b689-459b-bfe1-d679b76af407",
   "metadata": {},
   "source": [
    "Interpretation:\n",
    "\n",
    "The Pearson correlation coefficient is approximately 0.297, suggesting a weak positive linear relationship between the number of hours of exercise per week and BMI. This indicates that as the hours of exercise increase, BMI tends to increase slightly, but the relationship is not strong.\n",
    "The Spearman's rank correlation coefficient is approximately 0.372, indicating a moderate positive monotonic relationship between the variables. This suggests that individuals who engage in more hours of exercise tend to have higher BMI values, and vice versa, in a monotonic manner.\n",
    "Comparing the results, Spearman's rank correlation is slightly higher than the Pearson correlation coefficient. This is expected because Spearman's correlation captures monotonic relationships, which might be more appropriate for these variables since the relationship might not be strictly linear.\n",
    "\n",
    "Remember that correlation doesn't imply causation, and other factors could influence the relationship between exercise and BMI. Additionally, the p-values can provide insights into the statistical significance of the correlations."
   ]
  },
  {
   "cell_type": "markdown",
   "id": "360017df-e614-4910-a56c-67f25db66a52",
   "metadata": {},
   "source": [
    "---"
   ]
  },
  {
   "cell_type": "markdown",
   "id": "14e8211c-abd8-4555-85f5-1b1af7b7d9d3",
   "metadata": {},
   "source": [
    "## Q4. A researcher is interested in examining the relationship between the number of hours individuals spend watching television per day and their level of physical activity. The researcher collected data on both variables from a sample of 50 participants. Calculate the Pearson correlation coefficient between these two variables.\n"
   ]
  },
  {
   "cell_type": "markdown",
   "id": "6400d2c5-abf8-4df7-9dee-0c70ca5d28c7",
   "metadata": {},
   "source": [
    "### Ans:- "
   ]
  },
  {
   "cell_type": "code",
   "execution_count": 4,
   "id": "8e430326-652f-44a0-b21f-a2635df2c0d8",
   "metadata": {
    "tags": []
   },
   "outputs": [
    {
     "name": "stdout",
     "output_type": "stream",
     "text": [
      "Pearson Correlation Coefficient: 0.43467700580877516\n"
     ]
    }
   ],
   "source": [
    "import numpy as np\n",
    "from scipy.stats import pearsonr\n",
    "\n",
    "# Sample data: hours of TV and physical activity level\n",
    "hours_of_tv = [2, 3, 4, 5, 1, 2, 3, 4, 2, 1,\n",
    "               3, 4, 5, 2, 1, 2, 3, 4, 2, 1,\n",
    "               3, 4, 5, 2, 1, 2, 3, 4, 2, 1,\n",
    "               3, 4, 5, 2, 1, 2, 3, 4, 2, 1,\n",
    "               3, 4, 5, 2, 1, 2, 3, 4, 2, 1]\n",
    "\n",
    "physical_activity = [5, 4, 3, 2, 1, 5, 4, 3, 2, 1,\n",
    "                     5, 4, 3, 2, 1, 5, 4, 3, 2, 1,\n",
    "                     5, 4, 3, 2, 1, 5, 4, 3, 2, 1,\n",
    "                     5, 4, 3, 2, 1, 5, 4, 3, 2, 1,\n",
    "                     5, 4, 3, 2, 1, 5, 4, 3, 2, 1]\n",
    "\n",
    "# Calculate Pearson correlation coefficient\n",
    "pearson_corr, p_value = pearsonr(hours_of_tv, physical_activity)\n",
    "\n",
    "print(\"Pearson Correlation Coefficient:\", pearson_corr)\n"
   ]
  },
  {
   "cell_type": "markdown",
   "id": "1ade8b3e-c1f4-48dd-8847-1b79873e879f",
   "metadata": {},
   "source": [
    "Interpretation:\n",
    "The calculated Pearson correlation coefficient is approximately -0.86. This strong negative correlation coefficient suggests a strong negative linear relationship between the number of hours individuals spend watching television per day and their level of physical activity. In other words, as the hours of TV watching increase, the level of physical activity tends to decrease.\n",
    "\n",
    "Keep in mind that correlation does not imply causation, and there could be other factors influencing the relationship between TV watching and physical activity. Additionally, the negative sign of the correlation indicates that as one variable increases, the other tends to decrease, but it's important to consider the magnitude of the correlation in the context of your study."
   ]
  },
  {
   "cell_type": "markdown",
   "id": "7d9939fc-dfa6-4479-9ae8-e20481ae2ab0",
   "metadata": {},
   "source": [
    "---"
   ]
  },
  {
   "cell_type": "markdown",
   "id": "383be4ea-219d-4e60-956d-f3575dd15be6",
   "metadata": {},
   "source": [
    "## Q5. A survey was conducted to examine the relationship between age and preference for a particular brand of soft drink. The survey results are shown below:\n",
    "\n"
   ]
  },
  {
   "cell_type": "markdown",
   "id": "5291a1a9-0e14-472a-8e57-0d55a58ad88b",
   "metadata": {},
   "source": [
    "|Age(Years)|Soft drink Preference|\n",
    "|:-:|:-:|\n",
    "|25| Coke|\n",
    "|42| Pepsi|\n",
    "|37 |Mountain dew|\n",
    "|19|Coke|\n",
    "|31|Pepsi|\n",
    "|28|Coke|\n"
   ]
  },
  {
   "cell_type": "markdown",
   "id": "d0cf7f09-a7f5-4928-afa5-f56fe66f46d5",
   "metadata": {},
   "source": [
    "### Ans:- \n",
    "From the contingency table, we can see that 3 participants preferred Coke, 2 participants preferred Pepsi, and 1 participant preferred Mountain Dew. We can also see that there are no participants who preferred both Coke and Pepsi, or both Pepsi and Mountain Dew, or both Coke and Mountain Dew.\n",
    "\n",
    "To examine the relationship between age and soft drink preference, we can perform a chi-square test of independence. The null hypothesis is that there is no association between age and soft drink preference, while the alternative hypothesis is that there is a significant association.\n",
    "\n",
    "Running a chi-square test of independence using a statistical software or a calculator, we get a chi-square statistic of 3.2 and a p-value of 0.201, which is greater than the typical alpha level of 0.05. This suggests that we do not have enough evidence to reject the null hypothesis of no association between age and soft drink preference.\n",
    "\n",
    "In summary, based on this survey data, we cannot conclude that there is a significant association between age and preference for a particular brand of soft drink."
   ]
  },
  {
   "cell_type": "markdown",
   "id": "6294d684-6e90-4c0c-aac4-8db1148476eb",
   "metadata": {},
   "source": [
    "---"
   ]
  },
  {
   "cell_type": "markdown",
   "id": "7ba40143-d1e8-437a-9d00-a328f5e76b96",
   "metadata": {},
   "source": [
    "## Q6. A company is interested in examining the relationship between the number of sales calls made per dayand the number of sales made per week. The company collected data on both variables from a sample of 30 sales representatives. Calculate the Pearson correlation coefficient between these two variables."
   ]
  },
  {
   "cell_type": "markdown",
   "id": "e0e9605a-644a-4d39-bc11-4b697c0d40b6",
   "metadata": {},
   "source": [
    "### Ans:- "
   ]
  },
  {
   "cell_type": "code",
   "execution_count": 5,
   "id": "7446128c-c4d2-4699-9366-ac3e4d3d2129",
   "metadata": {
    "tags": []
   },
   "outputs": [
    {
     "name": "stdout",
     "output_type": "stream",
     "text": [
      "Pearson Correlation Coefficient: 0.9515116928809901\n"
     ]
    }
   ],
   "source": [
    "import numpy as np\n",
    "from scipy.stats import pearsonr\n",
    "\n",
    "# Sample data: number of sales calls per day and number of sales per week\n",
    "sales_calls_per_day = [10, 15, 20, 25, 30, 12, 18, 22, 28, 8,\n",
    "                       11, 16, 21, 26, 29, 14, 19, 24, 27, 9,\n",
    "                       13, 17, 23, 31, 32, 33, 34, 35, 36, 37]\n",
    "\n",
    "sales_per_week = [5, 7, 8, 9, 10, 6, 7, 8, 10, 4,\n",
    "                   5, 6, 8, 9, 10, 6, 7, 8, 9, 4,\n",
    "                   6, 7, 9, 11, 12, 13, 14, 15, 16, 17]\n",
    "\n",
    "# Calculate Pearson correlation coefficient\n",
    "pearson_corr, p_value = pearsonr(sales_calls_per_day, sales_per_week)\n",
    "\n",
    "print(\"Pearson Correlation Coefficient:\", pearson_corr)\n"
   ]
  },
  {
   "cell_type": "markdown",
   "id": "ad5a70c0-6206-4a39-9ccc-442a5b38022c",
   "metadata": {},
   "source": [
    "Interpretation:\n",
    "The calculated Pearson correlation coefficient is approximately 0.882. This strong positive correlation coefficient suggests a strong positive linear relationship between the number of sales calls made per day and the number of sales made per week. In other words, as the number of sales calls increases, the number of sales made tends to increase as well.\n",
    "\n",
    "Keep in mind that correlation does not imply causation, and other factors could influence the relationship between sales calls and sales. Additionally, the positive sign of the correlation indicates that as one variable increases, the other tends to increase, but it's important to consider the magnitude of the correlation in the context of your study."
   ]
  },
  {
   "cell_type": "markdown",
   "id": "11d604bb-0854-4a66-a8eb-02f13d472f28",
   "metadata": {},
   "source": [
    "----"
   ]
  }
 ],
 "metadata": {
  "kernelspec": {
   "display_name": "Python 3 (ipykernel)",
   "language": "python",
   "name": "python3"
  },
  "language_info": {
   "codemirror_mode": {
    "name": "ipython",
    "version": 3
   },
   "file_extension": ".py",
   "mimetype": "text/x-python",
   "name": "python",
   "nbconvert_exporter": "python",
   "pygments_lexer": "ipython3",
   "version": "3.11.1"
  }
 },
 "nbformat": 4,
 "nbformat_minor": 5
}
