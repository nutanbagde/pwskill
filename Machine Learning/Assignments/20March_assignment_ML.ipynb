{
 "cells": [
  {
   "cell_type": "markdown",
   "id": "a611a8ad-a40e-4793-a9d2-8e0c5760a0b5",
   "metadata": {},
   "source": [
    "## Q1. What is data encoding? How is it useful in data science?\n"
   ]
  },
  {
   "cell_type": "markdown",
   "id": "ca80a63b-959c-438d-b00e-f84f0a6b43f4",
   "metadata": {},
   "source": [
    "### Ans:- "
   ]
  },
  {
   "cell_type": "markdown",
   "id": "39573adf-d39a-45cb-8c40-f608b547cf1b",
   "metadata": {},
   "source": [
    "\n",
    "Data encoding, in the context of data science, refers to the process of converting categorical or textual data into a numerical format that can be used for analysis, machine learning, and other data-related tasks. Categorical data consists of non-numeric values such as labels, names, or categories, while numerical data consists of numeric values. Data encoding is essential because many machine learning algorithms and statistical techniques require numerical data as input.\n",
    "\n",
    "### Usefulness of Data Encoding in Data Science:\n",
    "\n",
    "1. Algorithm Compatibility: Many machine learning algorithms and statistical methods require numerical input. By encoding categorical data into numerical values, you make your data compatible with a wider range of algorithms.\n",
    "\n",
    "2. Feature Representation: Data encoding allows you to represent different categories or levels of a categorical variable as distinct numerical values. This enables the algorithm to capture relationships and patterns present in the data.\n",
    "\n",
    "3. Model Performance: Accurate encoding can improve the performance of machine learning models. It allows the model to better understand relationships between features, which can lead to more accurate predictions or insights.\n",
    "\n",
    "4. Dimensionality Reduction: Encoding techniques can transform high-dimensional categorical data into a more manageable numerical representation, which can help in reducing the dimensionality of the feature space.\n",
    "\n",
    "5. Statistical Analysis: Data encoding enables you to perform statistical analyses on categorical variables, allowing you to understand distributions, associations, and trends within your data.\n",
    "\n",
    "6. Interpretability: Encoded data can make it easier to interpret and visualize relationships between variables and their impact on outcomes.\n",
    "\n",
    "7. Handling Missing Values: Encoding methods often have ways of dealing with missing values in categorical data during the encoding process, ensuring that no information is lost.\n",
    "\n",
    "8. Time Efficiency: Once data is encoded, machine learning algorithms can process it more efficiently, leading to faster training and inference times.\n",
    "\n",
    "### Common Data Encoding Techniques:\n",
    "\n",
    "1. Label Encoding: Assigning unique numerical labels to categories. Suitable for nominal categorical data.\n",
    "\n",
    "2. One-Hot Encoding: Creating binary columns for each category, indicating the presence or absence of a category. Suitable for nominal categorical data.\n",
    "\n",
    "3. Binary Encoding: Creating binary columns for each category and using binary representations. Suitable for nominal categorical data.\n",
    "\n",
    "4. Ordinal Encoding: Assigning numerical values based on the order or rank of categories. Suitable for ordinal categorical data.\n",
    "\n",
    "5. Target Guided Ordinal Encoding: Assigning ordinal values based on the relationship between categories and the target variable. Suitable for ordinal categorical data.\n",
    "\n",
    "6. Frequency Encoding: Replacing categories with their frequency or count in the dataset.\n",
    "\n",
    "7. Embedding: Advanced technique for transforming categorical data into continuous values using embeddings.\n",
    "\n",
    "In conclusion, data encoding plays a crucial role in data science by transforming categorical and textual data into a numerical format that can be effectively utilized for analysis, modeling, and decision-making."
   ]
  },
  {
   "cell_type": "markdown",
   "id": "05a43e36-37ae-4b9f-8987-13597c3d5345",
   "metadata": {},
   "source": [
    "------"
   ]
  },
  {
   "cell_type": "markdown",
   "id": "a2a7133e-cf20-4bb1-8fd5-44f4903e924d",
   "metadata": {},
   "source": [
    "## Q2. What is nominal encoding? Provide an example of how you would use it in a real-world scenario.\n"
   ]
  },
  {
   "cell_type": "markdown",
   "id": "513ffbff-509f-486f-af64-086fefcd4692",
   "metadata": {},
   "source": [
    "### Ans:- "
   ]
  },
  {
   "cell_type": "markdown",
   "id": "142725c7-3540-4b3a-8caa-e7f4b08aeba6",
   "metadata": {},
   "source": [
    "Nominal encoding is a type of data encoding used to convert categorical variables that have no inherent order or ranking into a numerical format. In nominal encoding, each category is assigned a unique numerical label, allowing machine learning algorithms to work with the data. This technique is particularly useful for categorical variables where the categories are distinct and have no meaningful ordinal relationship.\n",
    "\n",
    "Example of Nominal Encoding:\n",
    "\n",
    "Suppose you're working on a marketing campaign analysis where you're analyzing customer data. One of the categorical variables in your dataset is \"Product Category,\" which represents the category of products that customers have purchased. The categories are \"Electronics,\" \"Clothing,\" \"Home Goods,\" and \"Books.\" Since there's no inherent order among these categories, nominal encoding is a suitable choice.\n",
    "\n",
    "Here's how you might use nominal encoding in this real-world scenario:"
   ]
  },
  {
   "cell_type": "code",
   "execution_count": 2,
   "id": "36dca80b-cac8-4319-865e-954be5e153cb",
   "metadata": {
    "tags": []
   },
   "outputs": [
    {
     "name": "stdout",
     "output_type": "stream",
     "text": [
      "   CustomerID Product Category  Product Category Encoded\n",
      "0           1      Electronics                         2\n",
      "1           2         Clothing                         1\n",
      "2           3       Home Goods                         3\n",
      "3           4            Books                         0\n",
      "4           5      Electronics                         2\n"
     ]
    }
   ],
   "source": [
    "import pandas as pd\n",
    "from sklearn.preprocessing import LabelEncoder\n",
    "\n",
    "# Sample customer data with product categories\n",
    "data = {\n",
    "    'CustomerID': [1, 2, 3, 4, 5],\n",
    "    'Product Category': ['Electronics', 'Clothing', 'Home Goods', 'Books', 'Electronics']\n",
    "}\n",
    "\n",
    "# Create a pandas DataFrame\n",
    "df = pd.DataFrame(data)\n",
    "\n",
    "# Initialize the LabelEncoder\n",
    "label_encoder = LabelEncoder()\n",
    "\n",
    "# Apply nominal encoding to the \"Product Category\" column\n",
    "df['Product Category Encoded'] = label_encoder.fit_transform(df['Product Category'])\n",
    "\n",
    "# Display the encoded DataFrame\n",
    "print(df)\n"
   ]
  },
  {
   "cell_type": "markdown",
   "id": "f937e441-6305-4909-ad0c-151fb9ceeba4",
   "metadata": {},
   "source": [
    "In this example:\n",
    "\n",
    "* The \"Product Category\" column contains the original categorical values.\n",
    "* The \"Product Category Encoded\" column contains the numerical labels assigned by the LabelEncoder.\n",
    "* Each category is assigned a unique numerical label (0, 1, 2, 3).\n",
    "Nominal encoding allows you to convert the \"Product Category\" variable into a numerical format that can be used in machine learning algorithms. Keep in mind that nominal encoding doesn't imply any order or ranking among the categories, making it suitable for situations where there's no inherent hierarchy."
   ]
  },
  {
   "cell_type": "markdown",
   "id": "480b3677-d5a4-423d-ab71-b23f616206cf",
   "metadata": {},
   "source": [
    "------"
   ]
  },
  {
   "cell_type": "markdown",
   "id": "9ab71f54-1b74-428b-a018-d2428e3118ca",
   "metadata": {},
   "source": [
    "## Q3. In what situations is nominal encoding preferred over one-hot encoding? Provide a practical example.\n"
   ]
  },
  {
   "cell_type": "markdown",
   "id": "f8154314-6154-4ddb-9366-c96d4576b4b2",
   "metadata": {},
   "source": [
    "### Ans:- "
   ]
  },
  {
   "cell_type": "markdown",
   "id": "f928068b-9e47-4462-8a7e-835261855cea",
   "metadata": {},
   "source": [
    "Nominal encoding and one-hot encoding are both techniques used to represent categorical data in a numerical format. Each has its own advantages and use cases. Nominal encoding is preferred over one-hot encoding in situations where the categorical variable has a large number of categories, and the resulting high-dimensional one-hot encoded representation could lead to issues like the curse of dimensionality.\n",
    "\n",
    "Example: Product Categories with Many Categories\n",
    "\n",
    "Suppose you're working on an e-commerce recommendation system, and one of your features is \"Product Category,\" which represents the category of products available on your platform. Let's say you have thousands of unique product categories. One-hot encoding this variable would create thousands of binary columns, each corresponding to a product category. This could lead to a very high-dimensional dataset, making it computationally expensive and potentially causing issues like overfitting, slow training times, and difficulties in interpretation.\n",
    "\n",
    "In such a scenario, nominal encoding can be a better choice. You would assign a unique numerical label to each product category. This reduces the dimensionality of the feature space while still providing a way for the model to capture patterns and relationships related to different categories."
   ]
  },
  {
   "cell_type": "code",
   "execution_count": 3,
   "id": "ccd56ad9-376b-4e8a-9080-c606c72c668c",
   "metadata": {
    "tags": []
   },
   "outputs": [
    {
     "name": "stdout",
     "output_type": "stream",
     "text": [
      "   ProductID Product Category  Product Category Encoded\n",
      "0          1      Electronics                         2\n",
      "1          2         Clothing                         1\n",
      "2          3       Home Goods                         3\n",
      "3          4            Books                         0\n",
      "4          5      Electronics                         2\n"
     ]
    }
   ],
   "source": [
    "import pandas as pd\n",
    "from sklearn.preprocessing import LabelEncoder\n",
    "\n",
    "# Sample product data with many categories\n",
    "data = {\n",
    "    'ProductID': [1, 2, 3, 4, 5],\n",
    "    'Product Category': ['Electronics', 'Clothing', 'Home Goods', 'Books', 'Electronics']\n",
    "}\n",
    "\n",
    "# Create a pandas DataFrame\n",
    "df = pd.DataFrame(data)\n",
    "\n",
    "# Initialize the LabelEncoder\n",
    "label_encoder = LabelEncoder()\n",
    "\n",
    "# Apply nominal encoding to the \"Product Category\" column\n",
    "df['Product Category Encoded'] = label_encoder.fit_transform(df['Product Category'])\n",
    "\n",
    "# Display the encoded DataFrame\n",
    "print(df)\n"
   ]
  },
  {
   "cell_type": "markdown",
   "id": "4ddac1c0-4e4b-49d6-8e8c-5aae9045d0e6",
   "metadata": {},
   "source": [
    "In this example, nominal encoding simplifies the representation of \"Product Category\" while still allowing the model to learn from the relationships among different categories. It's a more efficient approach when dealing with a large number of categories compared to one-hot encoding, which would create a high-dimensional matrix.\n",
    "\n",
    "In summary, nominal encoding is preferred over one-hot encoding when dealing with categorical variables with a large number of categories to avoid high dimensionality and associated computational challenges. It's a practical choice when the categorical variable doesn't have a meaningful ordinal relationship and you want to strike a balance between capturing information and avoiding dimensionality-related issues."
   ]
  },
  {
   "cell_type": "markdown",
   "id": "36b021c0-b6a7-4e3c-8d4e-c15b04bb2946",
   "metadata": {},
   "source": [
    "------"
   ]
  },
  {
   "cell_type": "markdown",
   "id": "244b1bbe-cd8e-406e-b2d1-c940dce48850",
   "metadata": {},
   "source": [
    "## Q4. Suppose you have a dataset containing categorical data with 5 unique values. Which encoding technique would you use to transform this data into a format suitable for machine learning algorithms? Explain why you made this choice.\n"
   ]
  },
  {
   "cell_type": "markdown",
   "id": "6edd511b-a1f2-4f90-a426-5819cf6b21cb",
   "metadata": {},
   "source": [
    "### Ans:- "
   ]
  },
  {
   "cell_type": "markdown",
   "id": "345df477-7291-4c90-9ebf-cd95a07a8b36",
   "metadata": {},
   "source": [
    "If you have a categorical variable with 5 unique values, you have several encoding techniques to choose from. The choice depends on the nature of the categorical variable, its relationship with the target variable (if applicable), and the characteristics of the machine learning algorithm you intend to use.\n",
    "\n",
    "Given that you have 5 unique values, here are the most suitable encoding techniques along with explanations for each:\n",
    "\n",
    "1. Label Encoding:\n",
    "\n",
    "* __Choice:__ You can use label encoding, especially when there is an inherent order or ranking among the categories. Label encoding assigns integer labels to each category, preserving the ordinal relationship if present.\n",
    "* __Advantages:__ Label encoding is simple and efficient, reducing the dimensionality of the data and making it suitable for algorithms that can handle numerical input.\n",
    "* __Considerations:__ Be cautious when using label encoding for algorithms that might misinterpret the numerical labels as having meaningful distances between them.\n",
    "2. One-Hot Encoding:\n",
    "\n",
    "* __Choice:__ You can also use one-hot encoding if there is no inherent order or ranking among the categories. One-hot encoding creates binary columns for each category, representing the presence or absence of a category for each data point.\n",
    "* __Advantages:__ One-hot encoding ensures that no ordinal relationship is implied between the categories. It can be suitable for algorithms that don't assume any particular relationships between the categories.\n",
    "* __Considerations:__ One-hot encoding may lead to a high-dimensional dataset, which could impact the computational efficiency of some algorithms.\n",
    "3. Binary Encoding:\n",
    "\n",
    "* __Choice:__ Binary encoding is another option if you're concerned about high dimensionality and want to represent categories using fewer dimensions.\n",
    "* __Advantages:__ Binary encoding is a compromise between label encoding and one-hot encoding. It converts categories into binary digits and uses fewer dimensions than one-hot encoding.\n",
    "* __Considerations:__ Binary encoding may not be suitable for algorithms that don't handle binary features well.\n",
    "### Choice Based on Considerations:\n",
    "\n",
    "* If there is a clear order or ranking among the categories, and you're using algorithms that can handle numerical input well, label encoding might be a good choice.\n",
    "* If the categories have no inherent order or ranking, or if you're concerned about introducing any assumptions about relationships between categories, one-hot encoding is a safe choice.\n",
    "* If you're looking to balance dimensionality reduction with retaining some of the ordinal relationships, binary encoding could be an appropriate choice.\n",
    "Ultimately, the choice of encoding technique should be guided by the characteristics of your data and the requirements of the machine learning algorithms you intend to use."
   ]
  },
  {
   "cell_type": "markdown",
   "id": "ae5c22b7-74a4-4c82-93b0-f11e82c955e6",
   "metadata": {},
   "source": [
    "------"
   ]
  },
  {
   "cell_type": "markdown",
   "id": "5f7a3a87-5f6f-4394-9cf5-3f8f147f878f",
   "metadata": {},
   "source": [
    "## Q5. In a machine learning project, you have a dataset with 1000 rows and 5 columns. Two of the columns are categorical, and the remaining three columns are numerical. If you were to use nominal encoding to transform the categorical data, how many new columns would be created? Show your calculations.\n"
   ]
  },
  {
   "cell_type": "markdown",
   "id": "bc28b7a5-0c3f-4706-b9d0-3301d2b30e04",
   "metadata": {},
   "source": [
    "### Ans:- "
   ]
  },
  {
   "cell_type": "markdown",
   "id": "77bb22e9-294d-4aad-8700-a306c87b9b0e",
   "metadata": {},
   "source": [
    "Nominal encoding, also known as label encoding, converts each category within a categorical variable into a unique numerical label. In the context of your dataset with 2 categorical columns and 1000 rows, nominal encoding would result in new numerical columns that replace the original categorical columns.\n",
    "\n",
    "For each categorical column, you would create a new numerical column to hold the encoded labels. Since each category is assigned a unique label, the number of new columns created would be equal to the number of categorical columns.\n",
    "\n",
    "Given that you have 2 categorical columns, you would create 2 new columns.\n",
    "\n",
    "Therefore, the number of new columns created by nominal encoding = Number of categorical columns = 2 new columns."
   ]
  },
  {
   "cell_type": "markdown",
   "id": "86851250-7dff-414b-bf1f-2e36ee36e991",
   "metadata": {},
   "source": [
    "------"
   ]
  },
  {
   "cell_type": "markdown",
   "id": "7cdf6a34-f08d-40f5-a043-1a1d7666070e",
   "metadata": {},
   "source": [
    "## Q6. You are working with a dataset containing information about different types of animals, including their species, habitat, and diet. Which encoding technique would you use to transform the categorical data into a format suitable for machine learning algorithms? Justify your answer.\n"
   ]
  },
  {
   "cell_type": "markdown",
   "id": "abc63e6e-93fa-422b-9794-d2041327f946",
   "metadata": {},
   "source": [
    "### Ans:- "
   ]
  },
  {
   "cell_type": "markdown",
   "id": "51439877-a4e4-4bbd-801f-066c3a4170c4",
   "metadata": {},
   "source": [
    "For a dataset containing categorical data about different types of animals, including their species, habitat, and diet, the choice of encoding technique depends on the nature of the categorical variables and their relationships. Let's consider each categorical variable separately and discuss the appropriate encoding technique for each:\n",
    "\n",
    "1. Species (Nominal Categorical Variable):\n",
    "Since \"Species\" represents different categories of animals without any inherent order or ranking, the most suitable encoding technique is One-Hot Encoding. One-hot encoding creates binary columns for each category, indicating the presence or absence of a category for each animal. This approach preserves the distinctiveness of each species and ensures that no ordinal relationship is implied.\n",
    "* Justification: One-hot encoding is appropriate for nominal categorical variables, such as animal species, where there's no meaningful order among the categories. It allows the machine learning algorithm to learn without assuming any particular relationships between species.\n",
    "\n",
    "2. abitat (Nominal Categorical Variable):\n",
    "Similar to the \"Species\" variable, \"Habitat\" is also a nominal categorical variable. Therefore, One-Hot Encoding is again the preferred choice for transforming this variable. By creating binary columns for each habitat category, you ensure that the algorithm treats each habitat separately.\n",
    "\n",
    "* Justification: Since habitats have no inherent order, one-hot encoding avoids introducing assumptions about relationships between different habitats.\n",
    "\n",
    "3. Diet (Nominal Categorical Variable):\n",
    "Given that \"Diet\" represents the type of diet (e.g., herbivore, carnivore, omnivore), it's another nominal categorical variable. Once again, One-Hot Encoding is suitable for this variable. Creating binary columns for each diet type ensures that no ordinal relationship is implied.\n",
    "\n",
    "* Justification: One-hot encoding maintains the independence of categories, which is crucial when dealing with categorical variables that don't have any inherent order.\n",
    "\n",
    "In summary, One-Hot Encoding is the preferred encoding technique for all three categorical variables in your animal dataset (\"Species,\" \"Habitat,\" and \"Diet\"). This technique allows you to represent each category separately, without implying any ordinal relationships, and makes the dataset suitable for various machine learning algorithms that require numerical input.\n"
   ]
  },
  {
   "cell_type": "markdown",
   "id": "3386b6cf-d479-4fee-8c8e-c8d9d13731cd",
   "metadata": {},
   "source": [
    "------"
   ]
  },
  {
   "cell_type": "markdown",
   "id": "730b3364-09da-4ef7-abf6-00903f8a8fcf",
   "metadata": {},
   "source": [
    "## Q7.You are working on a project that involves predicting customer churn for a telecommunications company. You have a dataset with 5 features, including the customer's gender, age, contract type, monthly charges, and tenure. Which encoding technique(s) would you use to transform the categorical data into numerical data? Provide a step-by-step explanation of how you would implement the encoding."
   ]
  },
  {
   "cell_type": "markdown",
   "id": "3f1768b4-a676-458d-8e63-12b894d7c3c0",
   "metadata": {},
   "source": [
    "### Ans:- "
   ]
  },
  {
   "cell_type": "markdown",
   "id": "dd923f8e-9b9e-4e6a-ae22-c2459fa00dc5",
   "metadata": {},
   "source": [
    "\n",
    "In the context of predicting customer churn for a telecommunications company, let's consider each of the categorical features in your dataset and discuss the appropriate encoding technique for each. You mentioned that the categorical features are \"gender\" and \"contract type.\" Here's a step-by-step explanation of how you might implement the encoding:\n",
    "\n",
    "### Categorical Feature 1: Gender (Binary Categorical Variable)\n",
    "\n",
    "Since \"gender\" is a binary categorical variable with two distinct categories (\"Male\" and \"Female\"), you have a couple of encoding options: Label Encoding or Binary Encoding. Let's go with Label Encoding in this example.\n",
    "\n",
    "Step-by-step explanation for Label Encoding:\n",
    "1. Import the necessary libraries:\n",
    "from sklearn.preprocessing import LabelEncoder\n",
    "\n",
    "2. Load your dataset and select the \"gender\" column:"
   ]
  },
  {
   "cell_type": "code",
   "execution_count": null,
   "id": "457fe300-3643-493b-9abf-992b84d72984",
   "metadata": {},
   "outputs": [],
   "source": [
    "import pandas as pd\n",
    "\n",
    "# Load the dataset\n",
    "dataset = pd.read_csv(\"your_dataset.csv\")\n",
    "\n",
    "# Select the \"gender\" column\n",
    "gender_column = dataset[\"gender\"]"
   ]
  },
  {
   "cell_type": "markdown",
   "id": "9796f54a-190e-422d-bd91-dc9be04a00a7",
   "metadata": {},
   "source": [
    "3. Initialize the LabelEncoder:"
   ]
  },
  {
   "cell_type": "code",
   "execution_count": null,
   "id": "cd792740-b372-4ce6-9643-6410efe54608",
   "metadata": {},
   "outputs": [],
   "source": [
    "label_encoder = LabelEncoder()"
   ]
  },
  {
   "cell_type": "markdown",
   "id": "0933f558-dcdb-4645-9e67-e900f2079b0e",
   "metadata": {},
   "source": [
    "4. Apply label encoding to the \"gender\" column:"
   ]
  },
  {
   "cell_type": "code",
   "execution_count": null,
   "id": "55d53963-be75-469c-950b-1403c2dc3946",
   "metadata": {},
   "outputs": [],
   "source": [
    "encoded_gender = label_encoder.fit_transform(gender_column)"
   ]
  },
  {
   "cell_type": "markdown",
   "id": "d1876975-ebf6-4d8d-8532-53d7adbc873d",
   "metadata": {},
   "source": [
    "5. Replace the original \"gender\" column with the encoded values:"
   ]
  },
  {
   "cell_type": "code",
   "execution_count": null,
   "id": "f13c060c-9d74-4bdd-b3fd-224810bee454",
   "metadata": {},
   "outputs": [],
   "source": [
    "dataset[\"gender_encoded\"] = encoded_gender"
   ]
  },
  {
   "cell_type": "markdown",
   "id": "0e539d00-6a57-4ea6-a903-f29412df195b",
   "metadata": {},
   "source": [
    "Now, you have a new column \"gender_encoded\" containing the encoded values for the \"gender\" feature.\n",
    "\n",
    "## Categorical Feature 2: Contract Type (Nominal Categorical Variable)\n",
    "\n",
    "For the \"contract type\" feature, which has more than two categories (\"Month-to-month,\" \"One year,\" \"Two year\"), One-Hot Encoding is a suitable choice.\n",
    "\n",
    "Step-by-step explanation for One-Hot Encoding:\n",
    "1. Import the necessary libraries:"
   ]
  },
  {
   "cell_type": "code",
   "execution_count": null,
   "id": "0ba6647f-b7fe-46cf-8161-66ca0a6e6142",
   "metadata": {},
   "outputs": [],
   "source": [
    "import pandas as pd"
   ]
  },
  {
   "cell_type": "markdown",
   "id": "4ed2d0c8-dc12-4d9c-9fa9-874960ccbc06",
   "metadata": {},
   "source": [
    "2. Load your dataset:"
   ]
  },
  {
   "cell_type": "code",
   "execution_count": null,
   "id": "4d89d545-336d-406d-b882-0a5630a004f4",
   "metadata": {},
   "outputs": [],
   "source": [
    "dataset = pd.read_csv(\"your_dataset.csv\")\n"
   ]
  },
  {
   "cell_type": "markdown",
   "id": "a4855d8c-8d27-4078-acdb-6e380996d5c0",
   "metadata": {},
   "source": [
    "3. Apply one-hot encoding using the pd.get_dummies() function:"
   ]
  },
  {
   "cell_type": "code",
   "execution_count": null,
   "id": "08c7d90d-9992-4a51-ac6c-155c71283747",
   "metadata": {},
   "outputs": [],
   "source": [
    "contract_type_encoded = pd.get_dummies(dataset[\"contract_type\"], prefix=\"contract_type\")\n"
   ]
  },
  {
   "cell_type": "markdown",
   "id": "339ae824-ec65-4a9d-9d7f-a89663dc0560",
   "metadata": {},
   "source": [
    "4. Concatenate the encoded columns with the original dataset:"
   ]
  },
  {
   "cell_type": "code",
   "execution_count": null,
   "id": "88e41955-cfa2-4bc5-aa0c-ac9ac4d7f90b",
   "metadata": {},
   "outputs": [],
   "source": [
    "dataset = pd.concat([dataset, contract_type_encoded], axis=1)\n"
   ]
  },
  {
   "cell_type": "markdown",
   "id": "2fcd3ba0-d017-416e-bdae-96a64bbcec24",
   "metadata": {},
   "source": [
    "Now, your dataset has additional columns \"contract_type_Month-to-month,\" \"contract_type_One year,\" and \"contract_type_Two year\" representing the encoded contract types.\n",
    "\n",
    "In this example, you've used Label Encoding for the binary categorical feature \"gender\" and One-Hot Encoding for the nominal categorical feature \"contract type.\" This transformation ensures that your categorical data is in a numerical format suitable for machine learning algorithms."
   ]
  },
  {
   "cell_type": "markdown",
   "id": "0448ac63-137d-488f-b094-41a693832887",
   "metadata": {},
   "source": [
    "------"
   ]
  }
 ],
 "metadata": {
  "kernelspec": {
   "display_name": "Python 3 (ipykernel)",
   "language": "python",
   "name": "python3"
  },
  "language_info": {
   "codemirror_mode": {
    "name": "ipython",
    "version": 3
   },
   "file_extension": ".py",
   "mimetype": "text/x-python",
   "name": "python",
   "nbconvert_exporter": "python",
   "pygments_lexer": "ipython3",
   "version": "3.11.1"
  }
 },
 "nbformat": 4,
 "nbformat_minor": 5
}
