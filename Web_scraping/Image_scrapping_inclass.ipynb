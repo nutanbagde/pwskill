{
 "cells": [
  {
   "cell_type": "code",
   "execution_count": 1,
   "id": "71bf7dda-2355-46ab-a1c0-a160232450eb",
   "metadata": {
    "tags": []
   },
   "outputs": [],
   "source": [
    "import requests \n",
    "from bs4 import BeautifulSoup\n",
    "from urllib.request import urlopen\n",
    "import logging\n",
    "import os"
   ]
  },
  {
   "cell_type": "code",
   "execution_count": 2,
   "id": "2d781f99-970c-4bbd-9936-99f3f90191cb",
   "metadata": {
    "tags": []
   },
   "outputs": [],
   "source": [
    "save_dir='images/'\n",
    "if not os.path.exists(save_dir):\n",
    "    os.makedirs(save_dir)"
   ]
  },
  {
   "cell_type": "code",
   "execution_count": 3,
   "id": "ca6353c6-a1aa-4bd9-b37d-4df92b5c54ba",
   "metadata": {
    "tags": []
   },
   "outputs": [],
   "source": [
    "headers = {\"User-Agent\": \"Mozilla/5.0 (Windows NT 10.0; Win64; x64) AppleWebKit/537.36 (KHTML, like Gecko) Chrome/58.0.3029.110 Safari/537.36\"}"
   ]
  },
  {
   "cell_type": "code",
   "execution_count": 6,
   "id": "a26fa239-3725-44e3-b7e3-37f099a09f63",
   "metadata": {
    "tags": []
   },
   "outputs": [],
   "source": [
    "query=\"elon musk\"\n",
    "reponce=requests.get(f\"https://www.google.com/search?q={query}&rlz=1C1CHBF_enIN1016IN1016&sxsrf=APwXEdfDrIbmTj7jsZAMgtVbt0ooRhW4gw:1685267428361&source=lnms&tbm=isch&sa=X&ved=2ahUKEwj-2Kyz3pf_AhWc8DgGHV2GBEcQ_AUoAnoECAIQBA&biw=1278&bih=927&dpr=1\")"
   ]
  },
  {
   "cell_type": "code",
   "execution_count": 7,
   "id": "2f66882c-6ea8-4047-a1ae-3208400c9d80",
   "metadata": {
    "tags": []
   },
   "outputs": [
    {
     "data": {
      "text/plain": [
       "<Response [200]>"
      ]
     },
     "execution_count": 7,
     "metadata": {},
     "output_type": "execute_result"
    }
   ],
   "source": [
    "reponce"
   ]
  },
  {
   "cell_type": "code",
   "execution_count": 10,
   "id": "3bfd1de7-8e69-4dc5-9e59-c3faf5ad6e05",
   "metadata": {
    "tags": []
   },
   "outputs": [],
   "source": [
    "soup=BeautifulSoup(reponce.content, \"html.parser\")\n",
    "image_tags=soup.find_all(\"img\")\n",
    "del image_tags[0]"
   ]
  },
  {
   "cell_type": "code",
   "execution_count": 11,
   "id": "ecb5201a-bec7-4224-8da3-e8506e6b47fc",
   "metadata": {
    "tags": []
   },
   "outputs": [
    {
     "data": {
      "text/plain": [
       "20"
      ]
     },
     "execution_count": 11,
     "metadata": {},
     "output_type": "execute_result"
    }
   ],
   "source": [
    "len(image_tags)"
   ]
  },
  {
   "cell_type": "code",
   "execution_count": 13,
   "id": "fd2444fb-aaba-4640-a7cd-ef553eaab19a",
   "metadata": {
    "tags": []
   },
   "outputs": [],
   "source": [
    "# store data in mongodb\n",
    "imge_data_mongo=[]\n",
    "for i in image_tags:\n",
    "    image_url=i['src']\n",
    "    image_data=requests.get(image_url).content\n",
    "    mydict={\"index\":image_url, \"image\":image_data}\n",
    "    imge_data_mongo.append(mydict)\n",
    "    # also i want to store data in locale folder\n",
    "    with open(os.path.join(save_dir,f'{query}_{image_tags.index(i)}.jpg'), \"wb\") as f:\n",
    "                           f.write(image_data)"
   ]
  },
  {
   "cell_type": "code",
   "execution_count": null,
   "id": "bccf1667-673f-4968-af94-c15909723bb2",
   "metadata": {},
   "outputs": [],
   "source": []
  }
 ],
 "metadata": {
  "kernelspec": {
   "display_name": "Python 3 (ipykernel)",
   "language": "python",
   "name": "python3"
  },
  "language_info": {
   "codemirror_mode": {
    "name": "ipython",
    "version": 3
   },
   "file_extension": ".py",
   "mimetype": "text/x-python",
   "name": "python",
   "nbconvert_exporter": "python",
   "pygments_lexer": "ipython3",
   "version": "3.11.1"
  }
 },
 "nbformat": 4,
 "nbformat_minor": 5
}
