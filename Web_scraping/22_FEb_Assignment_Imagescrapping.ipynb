{
 "cells": [
  {
   "cell_type": "markdown",
   "id": "aced61dd-4154-4ddf-a8bf-86b8db3ae1f5",
   "metadata": {},
   "source": [
    "## Go to this given URL and solve the following questions\n",
    "## URL: https://www.youtube.com/@PW-Foundation/videos\n",
    "## Note: Save all the data scraped in the Below questions in a CSV file."
   ]
  },
  {
   "cell_type": "markdown",
   "id": "3b54450c-a6fa-415b-a877-994f0281ab42",
   "metadata": {},
   "source": [
    "---"
   ]
  },
  {
   "cell_type": "markdown",
   "id": "190995d6-de47-446a-8e79-e76ccc0a5dc8",
   "metadata": {},
   "source": [
    "<a id=\"1\"></a>\n",
    "\n",
    "# <p style=\"padding:10px;background-color:#1ABC9C ;margin:10;color:#000000;font-family:newtimeroman;font-size:100%;text-align:center;border-radius: 10px 10px ;overflow:hidden;font-weight:50\">Question 1</p>"
   ]
  },
  {
   "cell_type": "markdown",
   "id": "7550d9be-f7c8-4679-b2c3-14c5f94e1ad1",
   "metadata": {
    "tags": []
   },
   "source": [
    "### Question 1: Write a python program to extract the video URL of the first five videos.\n"
   ]
  },
  {
   "cell_type": "markdown",
   "id": "6fe13d67-cc2c-4e79-8c0b-31b40274f2d0",
   "metadata": {},
   "source": [
    "---"
   ]
  },
  {
   "cell_type": "code",
   "execution_count": 111,
   "id": "cb48817d-df7f-4b89-a4ec-3dceea6c0cfc",
   "metadata": {
    "tags": []
   },
   "outputs": [],
   "source": [
    "from bs4 import BeautifulSoup as bs\n",
    "import requests\n",
    "from urllib.request import urlopen as uReq\n",
    "from webdriver_manager.chrome import ChromeDriverManager\n",
    "from selenium import webdriver\n",
    "from selenium.webdriver.chrome.service import Service as ChromeService\n",
    "import re\n",
    "import pandas as pd\n"
   ]
  },
  {
   "cell_type": "code",
   "execution_count": 112,
   "id": "b19d7deb-fb99-49b6-98a9-f6cce4893748",
   "metadata": {
    "tags": []
   },
   "outputs": [],
   "source": [
    "chrome_service = ChromeService(executable_path=ChromeDriverManager().install())\n",
    "chrome_options = webdriver.ChromeOptions()\n",
    "chrome_options.add_argument('--headless')\n",
    "driver = webdriver.Chrome(service=chrome_service, options=chrome_options)"
   ]
  },
  {
   "cell_type": "code",
   "execution_count": 113,
   "id": "2ec9da87-e3fb-4fdd-8821-2563b77a857a",
   "metadata": {
    "tags": []
   },
   "outputs": [],
   "source": [
    "youtube_url = \"https://www.youtube.com/@PW-Foundation/videos\"\n",
    "driver.get(youtube_url)\n",
    "driver.implicitly_wait(10)\n",
    "youtube_source = driver.page_source\n",
    "youtube_html = bs(youtube_source, \"html.parser\")\n",
    "#driver.close()"
   ]
  },
  {
   "cell_type": "code",
   "execution_count": 114,
   "id": "550d262e-8ef6-403a-b80a-c17805d63133",
   "metadata": {
    "tags": []
   },
   "outputs": [
    {
     "name": "stdout",
     "output_type": "stream",
     "text": [
      "https://www.youtube.com//watch?v=p9pqo970kjw\n",
      "https://www.youtube.com//watch?v=L5G-0FbyAsc\n",
      "https://www.youtube.com//watch?v=uqDX6hcRf2I\n",
      "https://www.youtube.com//watch?v=9ZVfDuqKIQM\n",
      "https://www.youtube.com//watch?v=1wMGzlQTyeM\n"
     ]
    }
   ],
   "source": [
    "## extract video urls\n",
    "youtube_a_tags = youtube_html.find_all('a',class_=\"ytd-thumbnail\")\n",
    "youtube_a_tags = youtube_a_tags[1:6]\n",
    "youtube_extract_urls = []\n",
    "for i in youtube_a_tags:\n",
    "    youtube_extract_urls.append(\"https://www.youtube.com/\"+i.get('href'))\n",
    "    print(\"https://www.youtube.com/\"+i.get('href'))"
   ]
  },
  {
   "cell_type": "markdown",
   "id": "dfeae842-ac24-405a-a94d-a5e0811447c9",
   "metadata": {
    "tags": []
   },
   "source": [
    "<a id=\"1\"></a>\n",
    "\n",
    "# <p style=\"padding:10px;background-color:#1ABC9C ;margin:10;color:#000000;font-family:newtimeroman;font-size:100%;text-align:center;border-radius: 10px 10px ;overflow:hidden;font-weight:50\">Question 2</p>"
   ]
  },
  {
   "cell_type": "markdown",
   "id": "f30b7d55-03b5-4639-9384-89f8489ac4a8",
   "metadata": {
    "tags": []
   },
   "source": [
    "### Question 2: Write a python program to extract the URL of the video thumbnails of the first five videos.\n"
   ]
  },
  {
   "cell_type": "markdown",
   "id": "22e69362-a3ec-4e31-8185-59aa972247d8",
   "metadata": {},
   "source": [
    "---"
   ]
  },
  {
   "cell_type": "code",
   "execution_count": 115,
   "id": "d8633942-6cc0-4be0-8cf1-d2b919fc7478",
   "metadata": {
    "tags": []
   },
   "outputs": [
    {
     "name": "stdout",
     "output_type": "stream",
     "text": [
      "https://i.ytimg.com/vi/p9pqo970kjw/maxresdefault.jpg\n",
      "https://i.ytimg.com/vi/L5G-0FbyAsc/maxresdefault.jpg\n",
      "https://i.ytimg.com/vi/uqDX6hcRf2I/maxresdefault.jpg\n",
      "https://i.ytimg.com/vi/9ZVfDuqKIQM/maxresdefault.jpg\n",
      "https://i.ytimg.com/vi/1wMGzlQTyeM/maxresdefault.jpg\n"
     ]
    }
   ],
   "source": [
    "youtube_extract_thumbnails = []\n",
    "for i in youtube_extract_urls:\n",
    "    driver.get(i)\n",
    "    video_page_source = bs(driver.page_source,\"html.parser\")\n",
    "    find = video_page_source.find('link',itemprop=\"thumbnailUrl\")\n",
    "    youtube_extract_thumbnails.append(find['href'])\n",
    "for thumbnail in youtube_extract_thumbnails:\n",
    "    print(thumbnail)"
   ]
  },
  {
   "cell_type": "markdown",
   "id": "0982d31d-769d-41d4-b0f9-23e5001a31f0",
   "metadata": {},
   "source": [
    "<a id=\"1\"></a>\n",
    "\n",
    "# <p style=\"padding:10px;background-color:#1ABC9C ;margin:10;color:#000000;font-family:newtimeroman;font-size:100%;text-align:center;border-radius: 10px 10px ;overflow:hidden;font-weight:50\">Question 3</p>"
   ]
  },
  {
   "cell_type": "markdown",
   "id": "6a87dec9-190a-46b4-8608-4e4789d5d7b0",
   "metadata": {
    "tags": []
   },
   "source": [
    "### Question 3: Write a python program to extract the title of the first five videos.\n"
   ]
  },
  {
   "cell_type": "markdown",
   "id": "fd304da6-41f8-40a3-8c79-ef1748f69a96",
   "metadata": {},
   "source": [
    "---"
   ]
  },
  {
   "cell_type": "code",
   "execution_count": 116,
   "id": "90c2f985-8f46-4710-b85c-79d66247c330",
   "metadata": {
    "tags": []
   },
   "outputs": [
    {
     "name": "stdout",
     "output_type": "stream",
     "text": [
      "Launching PW प्रयोगशाला 2.0 🔥 || The Unbeatable is Loading...\n",
      "UDAAN Hindi Batch 🔥| Class 10th वालों के बच्चें के लिए Surprises 🎉🎉 #3SaalLajawaab\n",
      "NEEV 2.0 Batch 🔥 | Class 9th वालों के बच्चें के लिए Surprises 🎉🎉 #3SaalLajawaab\n",
      "How to Study Botany in Class 11th? Ab Saare Doubts Solve Honge !! 🔥\n",
      "How To Prepare For National Science Olympiad? 🔥 || A Complete Guide For Class 9th & 10th Students\n"
     ]
    }
   ],
   "source": [
    "youtube_extract_titles=[]\n",
    "youtube_heading_tags = youtube_html.find_all('h3',class_=\"style-scope ytd-rich-grid-media\")\n",
    "youtube_heading_tags = youtube_heading_tags[:5]\n",
    "for i in youtube_heading_tags:\n",
    "    youtube_extract_titles.append(i.text)\n",
    "    print(i.text)"
   ]
  },
  {
   "cell_type": "markdown",
   "id": "64170f11-7d6a-4015-865a-4b23ec3cc15d",
   "metadata": {},
   "source": [
    "<a id=\"1\"></a>\n",
    "\n",
    "# <p style=\"padding:10px;background-color:#1ABC9C ;margin:10;color:#000000;font-family:newtimeroman;font-size:100%;text-align:center;border-radius: 10px 10px ;overflow:hidden;font-weight:50\">Question 4</p>"
   ]
  },
  {
   "cell_type": "markdown",
   "id": "4256f191-0ad0-496a-be29-dfb55d0148dd",
   "metadata": {},
   "source": [
    "### Question 4: Write a python program to extract the number of views of the first five videos.\n"
   ]
  },
  {
   "cell_type": "markdown",
   "id": "f0781c9f-2fb5-4bf9-baf9-076b33ac4f9e",
   "metadata": {},
   "source": [
    "---"
   ]
  },
  {
   "cell_type": "code",
   "execution_count": 117,
   "id": "00fdb0de-2097-4803-962e-555035b195d4",
   "metadata": {
    "tags": []
   },
   "outputs": [
    {
     "name": "stdout",
     "output_type": "stream",
     "text": [
      "4.5K views\n",
      "3.4K views\n",
      "11K views\n",
      "10K views\n",
      "31K views\n"
     ]
    }
   ],
   "source": [
    "youtube_extract_views=[]\n",
    "youtube_span_tags = youtube_html.find_all('span',class_=\"inline-metadata-item style-scope ytd-video-meta-block\")\n",
    "views_pattern = re.compile(\"\\d+.*views\")\n",
    "\n",
    "views_spans = []\n",
    "for span in youtube_span_tags:\n",
    "    if views_pattern.search(span.text):\n",
    "        views_spans.append(span)\n",
    "        \n",
    "views_spans = views_spans[:5]\n",
    "for span in views_spans:\n",
    "    youtube_extract_views.append(span.text)\n",
    "    print(span.text)"
   ]
  },
  {
   "cell_type": "markdown",
   "id": "3b6140aa-c264-471e-85b1-2140376c9d35",
   "metadata": {},
   "source": [
    "<a id=\"1\"></a>\n",
    "\n",
    "# <p style=\"padding:10px;background-color:#1ABC9C ;margin:10;color:#000000;font-family:newtimeroman;font-size:100%;text-align:center;border-radius: 10px 10px ;overflow:hidden;font-weight:50\">Question 5</p>"
   ]
  },
  {
   "cell_type": "markdown",
   "id": "8f16df56-1a36-4ddb-944c-760e47512fa8",
   "metadata": {},
   "source": [
    "### Question 5: Write a python program to extract the time of posting of video for the first five videos.\n"
   ]
  },
  {
   "cell_type": "markdown",
   "id": "8377af36-775c-44ec-9f01-76eab59ffb18",
   "metadata": {},
   "source": [
    "---"
   ]
  },
  {
   "cell_type": "code",
   "execution_count": 118,
   "id": "d6cad323-d711-4902-adb1-fc89ef0322e5",
   "metadata": {
    "tags": []
   },
   "outputs": [
    {
     "name": "stdout",
     "output_type": "stream",
     "text": [
      "53 minutes ago\n",
      "1 hour ago\n",
      "5 hours ago\n",
      "3 days ago\n",
      "5 days ago\n"
     ]
    }
   ],
   "source": [
    "views_pattern = re.compile(\"\\d+.*ago\")\n",
    "youtube_extract_upload_time=[]\n",
    "views_spans = []\n",
    "for span in youtube_span_tags:\n",
    "    if views_pattern.search(span.text):\n",
    "        views_spans.append(span)\n",
    "        \n",
    "        \n",
    "# views_spans = [span for span in youtube_span_tags if views_pattern.search(span.text)]\n",
    "views_spans = views_spans[:5]\n",
    "for span in views_spans:\n",
    "    youtube_extract_upload_time.append(span.text)\n",
    "    print(span.text)\n",
    "    \n",
    "driver.close()"
   ]
  },
  {
   "cell_type": "code",
   "execution_count": 119,
   "id": "fa37e619-33e6-45c9-9d24-243ca0f15a72",
   "metadata": {
    "tags": []
   },
   "outputs": [],
   "source": [
    "data = { 'Youtube Urls': youtube_extract_urls,\n",
    "                        'Thumbnails':youtube_extract_thumbnails,\n",
    "                        'Titles':youtube_extract_titles,\n",
    "                        'Views': youtube_extract_views,\n",
    "                        'Upload Time':youtube_extract_upload_time\n",
    "                    }\n",
    "df = pd.DataFrame(data)\n",
    "\n",
    "df.to_csv('YouTube_data.csv', index=False)"
   ]
  },
  {
   "cell_type": "code",
   "execution_count": 120,
   "id": "fad87b65-d980-484a-8b25-3b1f5cf6a83e",
   "metadata": {
    "tags": []
   },
   "outputs": [
    {
     "data": {
      "text/html": [
       "<div>\n",
       "<style scoped>\n",
       "    .dataframe tbody tr th:only-of-type {\n",
       "        vertical-align: middle;\n",
       "    }\n",
       "\n",
       "    .dataframe tbody tr th {\n",
       "        vertical-align: top;\n",
       "    }\n",
       "\n",
       "    .dataframe thead th {\n",
       "        text-align: right;\n",
       "    }\n",
       "</style>\n",
       "<table border=\"1\" class=\"dataframe\">\n",
       "  <thead>\n",
       "    <tr style=\"text-align: right;\">\n",
       "      <th></th>\n",
       "      <th>Youtube Urls</th>\n",
       "      <th>Thumbnails</th>\n",
       "      <th>Titles</th>\n",
       "      <th>Views</th>\n",
       "      <th>Upload Time</th>\n",
       "    </tr>\n",
       "  </thead>\n",
       "  <tbody>\n",
       "    <tr>\n",
       "      <th>0</th>\n",
       "      <td>https://www.youtube.com//watch?v=p9pqo970kjw</td>\n",
       "      <td>https://i.ytimg.com/vi/p9pqo970kjw/maxresdefau...</td>\n",
       "      <td>Launching PW प्रयोगशाला 2.0 🔥 || The Unbeatabl...</td>\n",
       "      <td>4.5K views</td>\n",
       "      <td>53 minutes ago</td>\n",
       "    </tr>\n",
       "    <tr>\n",
       "      <th>1</th>\n",
       "      <td>https://www.youtube.com//watch?v=L5G-0FbyAsc</td>\n",
       "      <td>https://i.ytimg.com/vi/L5G-0FbyAsc/maxresdefau...</td>\n",
       "      <td>UDAAN Hindi Batch 🔥| Class 10th वालों के बच्चे...</td>\n",
       "      <td>3.4K views</td>\n",
       "      <td>1 hour ago</td>\n",
       "    </tr>\n",
       "    <tr>\n",
       "      <th>2</th>\n",
       "      <td>https://www.youtube.com//watch?v=uqDX6hcRf2I</td>\n",
       "      <td>https://i.ytimg.com/vi/uqDX6hcRf2I/maxresdefau...</td>\n",
       "      <td>NEEV 2.0 Batch 🔥 | Class 9th वालों के बच्चें क...</td>\n",
       "      <td>11K views</td>\n",
       "      <td>5 hours ago</td>\n",
       "    </tr>\n",
       "    <tr>\n",
       "      <th>3</th>\n",
       "      <td>https://www.youtube.com//watch?v=9ZVfDuqKIQM</td>\n",
       "      <td>https://i.ytimg.com/vi/9ZVfDuqKIQM/maxresdefau...</td>\n",
       "      <td>How to Study Botany in Class 11th? Ab Saare Do...</td>\n",
       "      <td>10K views</td>\n",
       "      <td>3 days ago</td>\n",
       "    </tr>\n",
       "    <tr>\n",
       "      <th>4</th>\n",
       "      <td>https://www.youtube.com//watch?v=1wMGzlQTyeM</td>\n",
       "      <td>https://i.ytimg.com/vi/1wMGzlQTyeM/maxresdefau...</td>\n",
       "      <td>How To Prepare For National Science Olympiad? ...</td>\n",
       "      <td>31K views</td>\n",
       "      <td>5 days ago</td>\n",
       "    </tr>\n",
       "  </tbody>\n",
       "</table>\n",
       "</div>"
      ],
      "text/plain": [
       "                                   Youtube Urls   \n",
       "0  https://www.youtube.com//watch?v=p9pqo970kjw  \\\n",
       "1  https://www.youtube.com//watch?v=L5G-0FbyAsc   \n",
       "2  https://www.youtube.com//watch?v=uqDX6hcRf2I   \n",
       "3  https://www.youtube.com//watch?v=9ZVfDuqKIQM   \n",
       "4  https://www.youtube.com//watch?v=1wMGzlQTyeM   \n",
       "\n",
       "                                          Thumbnails   \n",
       "0  https://i.ytimg.com/vi/p9pqo970kjw/maxresdefau...  \\\n",
       "1  https://i.ytimg.com/vi/L5G-0FbyAsc/maxresdefau...   \n",
       "2  https://i.ytimg.com/vi/uqDX6hcRf2I/maxresdefau...   \n",
       "3  https://i.ytimg.com/vi/9ZVfDuqKIQM/maxresdefau...   \n",
       "4  https://i.ytimg.com/vi/1wMGzlQTyeM/maxresdefau...   \n",
       "\n",
       "                                              Titles       Views   \n",
       "0  Launching PW प्रयोगशाला 2.0 🔥 || The Unbeatabl...  4.5K views  \\\n",
       "1  UDAAN Hindi Batch 🔥| Class 10th वालों के बच्चे...  3.4K views   \n",
       "2  NEEV 2.0 Batch 🔥 | Class 9th वालों के बच्चें क...   11K views   \n",
       "3  How to Study Botany in Class 11th? Ab Saare Do...   10K views   \n",
       "4  How To Prepare For National Science Olympiad? ...   31K views   \n",
       "\n",
       "      Upload Time  \n",
       "0  53 minutes ago  \n",
       "1      1 hour ago  \n",
       "2     5 hours ago  \n",
       "3      3 days ago  \n",
       "4      5 days ago  "
      ]
     },
     "execution_count": 120,
     "metadata": {},
     "output_type": "execute_result"
    }
   ],
   "source": [
    "df"
   ]
  }
 ],
 "metadata": {
  "kernelspec": {
   "display_name": "Python 3 (ipykernel)",
   "language": "python",
   "name": "python3"
  },
  "language_info": {
   "codemirror_mode": {
    "name": "ipython",
    "version": 3
   },
   "file_extension": ".py",
   "mimetype": "text/x-python",
   "name": "python",
   "nbconvert_exporter": "python",
   "pygments_lexer": "ipython3",
   "version": "3.11.1"
  }
 },
 "nbformat": 4,
 "nbformat_minor": 5
}
