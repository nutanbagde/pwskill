{
 "cells": [
  {
   "cell_type": "markdown",
   "id": "ca7e9699-f58d-4f4d-9afc-73c0650d9ffc",
   "metadata": {},
   "source": [
    "<a id=\"1\"></a>\n",
    "\n",
    "# <p style=\"padding:10px;background-color:#1ABC9C ;margin:10;color:#000000;font-family:newtimeroman;font-size:100%;text-align:center;border-radius: 10px 10px ;overflow:hidden;font-weight:50\">Question 1</p>"
   ]
  },
  {
   "cell_type": "markdown",
   "id": "8b026405-adaf-404a-bcd9-b835731c1f3c",
   "metadata": {},
   "source": [
    "### Question 1: What is Web Scraping? Why is it Used? Give three areas where Web Scraping is used to get data."
   ]
  },
  {
   "cell_type": "markdown",
   "id": "07aaa575-d73e-466c-9b62-83307dbec74c",
   "metadata": {},
   "source": [
    "---"
   ]
  },
  {
   "cell_type": "markdown",
   "id": "25b12d4d-2203-4182-aea8-c083cc172281",
   "metadata": {},
   "source": [
    "### Ans:- "
   ]
  },
  {
   "cell_type": "markdown",
   "id": "7b8452b1-443f-4e3d-8bbc-2e4bf18fbe28",
   "metadata": {},
   "source": [
    "Web scraping is the process of extracting data from websites by using automated software or tools, which can access the website's HTML code, parse it, and extract the desired information. This technique can be used to collect data such as text, images, URLs, and other structured or unstructured data.\n",
    "### Web scraping is used for a variety of reasons, such as:\n",
    "1. Market research: Companies can use web scraping to gather pricing information on products from competitor websites, or to collect customer reviews to improve their own products.\n",
    "\n",
    "2. Content aggregation: Web scraping can be used to gather news articles or blog posts from various sources and aggregate them on a single platform.\n",
    "\n",
    "3. Data analysis: Researchers or data scientists can use web scraping to collect data for analysis, such as social media data or information on public opinion.\n",
    "\n",
    "### Here are three specific areas where web scraping is commonly used:\n",
    "1. E-commerce: Web scraping can be used to gather pricing information and product details from e-commerce websites to gain insights into the market and competitor pricing strategies.\n",
    "\n",
    "2. Social media monitoring: Web scraping can be used to monitor social media platforms for mentions of specific brands or products, which can help businesses to manage their online reputation or respond to customer inquiries.\n",
    "\n",
    "3. Academic research: Web scraping can be used to gather data for academic research, such as collecting data on public opinion or political sentiment from news websites or social media platforms."
   ]
  },
  {
   "cell_type": "markdown",
   "id": "b57d527d-49ff-431f-9327-c412cc02a7eb",
   "metadata": {},
   "source": [
    "<a id=\"1\"></a>\n",
    "\n",
    "# <p style=\"padding:10px;background-color:#1ABC9C ;margin:10;color:#000000;font-family:newtimeroman;font-size:100%;text-align:center;border-radius: 10px 10px ;overflow:hidden;font-weight:50\">Question 2</p>"
   ]
  },
  {
   "cell_type": "markdown",
   "id": "748c9274-b10b-46c5-b142-902db654fc1e",
   "metadata": {},
   "source": [
    "### Question 2: What are the different methods used for Web Scraping?"
   ]
  },
  {
   "cell_type": "markdown",
   "id": "00616222-b56b-4459-b08a-96a8ce825e05",
   "metadata": {
    "tags": []
   },
   "source": [
    "---"
   ]
  },
  {
   "cell_type": "markdown",
   "id": "f1e7530c-16d7-4127-9b1d-3c15d53579f5",
   "metadata": {},
   "source": [
    "### Ans:- "
   ]
  },
  {
   "cell_type": "markdown",
   "id": "c92f7c42-8c5d-4723-9e1d-d190b91fda17",
   "metadata": {},
   "source": [
    "1.  MANUAL SCRAPING\n",
    "\n",
    "COPY-PASTING - In manual scraping, what you do is copy and paste web content. This is time-consuming and repetitive and begs for a more effective means of web scraping. It is however very effective because a website’s defences are targeted at automated scraping and not manual scraping techniques. Even with this benefit, manual scraping is hardly being done because it is time-consuming while automated scraping is quicker and cheaper.\n",
    "\n",
    "2. AUTOMATED SCRAPING\n",
    "\n",
    "HTML PARSING - There are many web scraping tools and libraries available that can extract data from websites. Some popular examples include BeautifulSoup, Scrapy, and Selenium in Python.\n",
    "\n",
    "DOM PARSING - DOM is short for Document Object Model and it defines the style structure and content of XML files. Scrapers make use of DOM parsers to get an in-depth view of a web page’s structure. They can also use a DOM parser to get nodes containing information and then use a tool like XPath to scrape web pages. Internet Explorer or Firefox browsers can be embedded to extract the entire web page or just parts of it.\n",
    "\n",
    "VERTICAL AGGREGATION - Vertical aggregation platforms are created by companies with access to large scale computing power to target specific verticals. Some companies run the platforms on the cloud. Bots creation and monitoring for specific verticals are done by these platforms without any human intervention. The quality of the bots is measured based on the quality of data they extract since they are created based on the knowledge base for the specific vertical.\n",
    "\n",
    "XPATH - XML Path Language is a query language that is used with XML documents. XPath can be used to navigate XML documents because of their tree-like structure by selecting nodes based on different parameters. XPath can be used together with DOM parsing to scrape an entire web page.\n",
    "\n",
    "GOOGLE SHEETS - Google sheets are a web scraping tool that is quite popular among web scrapers. From within sheets, a scraper can make use of IMPORT XML (,) function to scrape as much data as is needed from websites. This method is only useful when specific data or patterns are required from a website. You can also use this command to check if your website is secure from scraping.\n",
    "\n",
    "TEXT PATTERN MATCHING - This is a matching technique that involves the use of the UNIX grep command and is used with popular programming languages like Perl or Python."
   ]
  },
  {
   "cell_type": "markdown",
   "id": "ea3fa0a3-3ffc-428f-8b8d-dfe96f23ae2b",
   "metadata": {},
   "source": [
    "<a id=\"1\"></a>\n",
    "\n",
    "# <p style=\"padding:10px;background-color:#1ABC9C ;margin:10;color:#000000;font-family:newtimeroman;font-size:100%;text-align:center;border-radius: 10px 10px ;overflow:hidden;font-weight:50\">Question 3</p>"
   ]
  },
  {
   "cell_type": "markdown",
   "id": "7daf14ee-4345-4c67-bd40-ee6d5c106350",
   "metadata": {},
   "source": [
    "### Question 3: What is Beautiful Soup? Why is it used?"
   ]
  },
  {
   "cell_type": "markdown",
   "id": "ca8a84aa-4fbd-4c30-889c-b870cbed40ac",
   "metadata": {},
   "source": [
    "---"
   ]
  },
  {
   "cell_type": "markdown",
   "id": "232a1cc9-6f53-4c22-b556-abdce273048d",
   "metadata": {},
   "source": [
    "### Ans:- "
   ]
  },
  {
   "cell_type": "markdown",
   "id": "d370e2ee-a85c-4387-82fb-4afbd9badd2e",
   "metadata": {},
   "source": [
    "Beautiful Soup is a Python library used for web scraping purposes. It is a popular parsing library that is used to extract data from HTML and XML documents. Beautiful Soup can parse the HTML code of a web page and extract the relevant data, such as links, images, and text, by providing a simple and intuitive interface.\n",
    "### Beautiful Soup is used for web scraping because:\n",
    "It is easy to learn and use: Beautiful Soup is a beginner-friendly library that is easy to install and use. Its intuitive and flexible interface makes it easy to navigate the HTML code and extract the desired data.\n",
    "\n",
    "It can handle imperfect HTML code: Many web pages have imperfect HTML code, which can cause errors when parsing. Beautiful Soup can handle such imperfect HTML code and still extract the relevant data.\n",
    "\n",
    "It supports multiple parsing methods: Beautiful Soup supports multiple parsing methods, including HTML and XML parsing, which makes it versatile and useful for a wide range of web scraping tasks.\n",
    "\n",
    "It has a large community: Beautiful Soup has a large community of developers who contribute to its development and provide support. This makes it a reliable and stable library for web scraping.\n",
    "\n",
    "In summary, Beautiful Soup is a powerful and versatile web scraping library that can extract data from HTML and XML documents. Its ease of use, support for imperfect HTML code, and support for multiple parsing methods make it a popular choice among web scrapers."
   ]
  },
  {
   "cell_type": "code",
   "execution_count": 1,
   "id": "51afc6d4-6a54-4ab9-b0d2-6eca640eee41",
   "metadata": {
    "tags": []
   },
   "outputs": [],
   "source": [
    "# impor labraries\n",
    "from  bs4 import BeautifulSoup as bs\n",
    "from urllib.request import urlopen\n",
    "import requests\n",
    "import pandas as pd"
   ]
  },
  {
   "cell_type": "code",
   "execution_count": 2,
   "id": "a300ffe7-58f9-4adf-9cb2-b6beca224aa7",
   "metadata": {
    "tags": []
   },
   "outputs": [
    {
     "name": "stdin",
     "output_type": "stream",
     "text": [
      "Eenter Product Name =  opp mobile\n"
     ]
    }
   ],
   "source": [
    "give_search=str(input(\"Eenter Product Name = \"))"
   ]
  },
  {
   "cell_type": "code",
   "execution_count": 3,
   "id": "26608625-f80c-4a2b-b00a-a5484e5769fe",
   "metadata": {
    "tags": []
   },
   "outputs": [
    {
     "name": "stdout",
     "output_type": "stream",
     "text": [
      "opp+mobile\n"
     ]
    }
   ],
   "source": [
    "search_query= give_search\n",
    "search_query=search_query.replace(\" \", \"+\")\n",
    "print(search_query)"
   ]
  },
  {
   "cell_type": "code",
   "execution_count": 4,
   "id": "32721fd9-0ad0-43cb-973c-c9e9d5337f7c",
   "metadata": {
    "tags": []
   },
   "outputs": [
    {
     "data": {
      "text/plain": [
       "'https://www.flipkart.com/search?q=opp+mobile'"
      ]
     },
     "execution_count": 4,
     "metadata": {},
     "output_type": "execute_result"
    }
   ],
   "source": [
    "flpkt_url=\"https://www.flipkart.com/search?q=\"+search_query\n",
    "flpkt_url"
   ]
  },
  {
   "cell_type": "code",
   "execution_count": 5,
   "id": "7fdc1256-9da5-4671-a72f-a2295d1dfe49",
   "metadata": {
    "tags": []
   },
   "outputs": [],
   "source": [
    "urlclient = urlopen(flpkt_url)\n",
    "flipkart_page = urlclient.read()\n",
    "flipkart_html = bs(flipkart_page,'html.parser')"
   ]
  },
  {
   "cell_type": "code",
   "execution_count": 6,
   "id": "2f347eae-3743-472a-9289-adbbe9625364",
   "metadata": {},
   "outputs": [],
   "source": [
    "product_titles = flipkart_html.find_all(\"div\", {\"class\":\"_4rR01T\"}) "
   ]
  },
  {
   "cell_type": "code",
   "execution_count": 12,
   "id": "e5daf46b-9717-40e9-ac4d-f86e321230bf",
   "metadata": {},
   "outputs": [
    {
     "name": "stdout",
     "output_type": "stream",
     "text": [
      "Result  1 : OPPO A17k (Blue, 64 GB)\n",
      "Result  2 : OPPO A17 (Sunlight Orange, 64 GB)\n",
      "Result  3 : OPPO A17 (Midnight Black, 64 GB)\n",
      "Result  4 : Cellecor X3\n",
      "Result  5 : OPPO Reno8T 5G (Sunrise Gold, 128 GB)\n",
      "Result  6 : OPPO A17 (Lake Blue, 64 GB)\n",
      "Result  7 : OPPO A78 5G (Glowing Black, 128 GB)\n",
      "Result  8 : Cellecor E3\n",
      "Result  9 : OPPO F21S PRO (Dawnlight Gold, 128 GB)\n",
      "Result  10 : OPPO A17k (Navy Blue, 64 GB)\n",
      "Result  11 : Cellecor E7\n",
      "Result  12 : Cellecor E10\n",
      "Result  13 : OPPO A17k (Gold, 64 GB)\n",
      "Result  14 : OPPO A17K (Navy Blue, 64 GB)\n",
      "Result  15 : OPPO A17 (Lake Blue, 64 GB)\n",
      "Result  16 : OPPO Reno8T 5G (Midnight Black, 128 GB)\n",
      "Result  17 : Cellecor C60+\n",
      "Result  18 : Cellecor E9\n",
      "Result  19 : OPPO F21s Pro 5G (Dawnlight Gold, 128 GB)\n",
      "Result  20 : OPPO F21 Pro (Sunset Orange, 128 GB)\n",
      "Result  21 : Cellecor R50\n",
      "Result  22 : OPPO A77s (Sunset Orange, 128 GB)\n",
      "Result  23 : OPPO A77 (Sky Blue, 64 GB)\n",
      "Result  24 : OPPO F21s Pro 5G (Starlight Black, 128 GB)\n"
     ]
    }
   ],
   "source": [
    "Name_of_product=[]\n",
    "\n",
    "counter_first_page=1\n",
    "for i in product_titles:\n",
    "    print(f'Result  {counter_first_page} : {i.text}')\n",
    "    counter_first_page+=1\n",
    "    \n",
    "#print(product_titles)\n",
    "#print(len(product_titles))"
   ]
  },
  {
   "cell_type": "code",
   "execution_count": 10,
   "id": "207ef0a8-f12c-4197-a066-c2fd2dca4e2b",
   "metadata": {},
   "outputs": [
    {
     "name": "stdout",
     "output_type": "stream",
     "text": [
      "['₹9,499', '₹12,499', '₹12,499', '₹1,105', '₹29,999', '₹12,265', '₹18,249', '₹1,061', '₹19,475', '₹9,499', '₹1,331', '₹1,353', '₹9,499', '₹9,589', '₹1,313', '₹1,007', '₹25,980', '₹20,999', '₹1,456', '₹17,999', '₹15,499', '₹25,999']\n",
      "22\n"
     ]
    }
   ],
   "source": [
    "product_Prices = flipkart_html.find_all(\"div\", {\"class\":\"_30jeq3 _1_WHN1\"}) \n",
    "price=[]\n",
    "for i in product_Prices:\n",
    "    name=i.text\n",
    "    price.append(name)\n",
    "    \n",
    "print(price)\n",
    "print(len(price))\n",
    "    "
   ]
  },
  {
   "cell_type": "markdown",
   "id": "fb38dd23-1f51-4ddc-8e24-677b1c20176e",
   "metadata": {},
   "source": [
    "<a id=\"1\"></a>\n",
    "\n",
    "# <p style=\"padding:10px;background-color:#1ABC9C ;margin:10;color:#000000;font-family:newtimeroman;font-size:100%;text-align:center;border-radius: 10px 10px ;overflow:hidden;font-weight:50\">Question 4</p>"
   ]
  },
  {
   "cell_type": "markdown",
   "id": "100ba95a-6f6c-4111-a736-77a701b3972a",
   "metadata": {},
   "source": [
    "### Question 4: Why is flask used in this Web Scraping project?"
   ]
  },
  {
   "cell_type": "markdown",
   "id": "ce0c8695-9747-47a0-a067-0b2a1b518a97",
   "metadata": {},
   "source": [
    "---"
   ]
  },
  {
   "cell_type": "markdown",
   "id": "c4e19780-1553-4837-bcbe-dd6f443ceb44",
   "metadata": {},
   "source": [
    "### Ans:- "
   ]
  },
  {
   "cell_type": "markdown",
   "id": "a88f2cec-e166-4b64-8b9f-2ff990ae2c04",
   "metadata": {},
   "source": [
    "Flask is a web framework that is commonly used to build web applications and APIs in Python. While it is not required for web scraping, it can be useful in certain scenarios.\n",
    "In the context of a web scraping project, Flask is used to create a simple web interface that allows users to input URLs or search queries and view the scraped data in a user-friendly format. For example, you could create a Flask app that takes a search query for a product on Flipkart, scrapes the results page, and displays the relevant information (such as product names, prices, and ratings) in a table on the app's homepage.\n",
    "Using Flask in this way can make it easier to share the results of your web scraping project with others, as they can access the scraped data through a web interface rather than needing to run the scraping code themselves."
   ]
  },
  {
   "cell_type": "markdown",
   "id": "48417ed9-a820-43a2-b1bd-c50ffa889025",
   "metadata": {},
   "source": [
    "<a id=\"1\"></a>\n",
    "\n",
    "# <p style=\"padding:10px;background-color:#1ABC9C ;margin:10;color:#000000;font-family:newtimeroman;font-size:100%;text-align:center;border-radius: 10px 10px ;overflow:hidden;font-weight:50\">Question 5</p>"
   ]
  },
  {
   "cell_type": "markdown",
   "id": "15d486e2-9c45-4411-be56-5a7dc5d2e9ce",
   "metadata": {},
   "source": [
    "### Question 5: Write the names of AWS services used in this project. Also, explain the use of each service."
   ]
  },
  {
   "cell_type": "markdown",
   "id": "8bd4b03b-05b4-4b20-b08d-395d35c65d48",
   "metadata": {},
   "source": [
    "---"
   ]
  },
  {
   "cell_type": "markdown",
   "id": "8fc00d48-ec4c-496b-8c48-45f145b9f4ba",
   "metadata": {},
   "source": [
    "### Ans:- "
   ]
  },
  {
   "cell_type": "markdown",
   "id": "aeb45328-82df-44ad-83ce-7333eed45934",
   "metadata": {},
   "source": [
    "## Two AWS Services used in this project are:\n",
    "1. Elastic Beanstalk\n",
    "2. Code Pipeline\n",
    "## 1. Elastic Beanstalk\n",
    "Elastic Beanstalk is a fully managed service provided by Amazon Web Services (AWS) that allows developers to easily deploy, manage, and scale web applications and services written in popular programming languages like Java, Python, Node.js, PHP, Ruby, Go, and .NET. With Elastic Beanstalk, developers can focus on writing code without worrying about the underlying infrastructure, as the service handles provisioning and configuration of the resources needed to run the application.\n",
    "\n",
    "Here are some key features of Elastic Beanstalk:\n",
    "\n",
    "1. Platform as a Service (PaaS): Elastic Beanstalk abstracts away the underlying infrastructure and provides a simple interface for developers to deploy their applications. Developers simply upload their application code, and Elastic Beanstalk handles the rest, including provisioning the necessary resources (such as compute instances, load balancers, and databases) and configuring the environment.\n",
    "\n",
    "2. Multi-language Support: Elastic Beanstalk supports a wide range of programming languages, frameworks, and platforms, including Java, Python, Node.js, PHP, Ruby, Go, and .NET. It also supports popular web servers like Apache, Nginx, and IIS.\n",
    "\n",
    "3. Easy Deployment: Developers can deploy their applications to Elastic Beanstalk using a variety of methods, including the Elastic Beanstalk console, the AWS CLI, or APIs. Elastic Beanstalk supports versioning of deployments, so developers can roll back to a previous version if needed.\n",
    "\n",
    "4. Auto Scaling: Elastic Beanstalk automatically scales the application up or down based on demand, ensuring that the application is always available and responsive to users. It can also automatically balance traffic across multiple instances of the application to optimize performance.\n",
    "\n",
    "5. Monitoring and Logging: Elastic Beanstalk provides monitoring and logging capabilities that allow developers to monitor the health and performance of their application, and troubleshoot issues if they arise. It also integrates with other AWS services like CloudWatch and Elastic Load Balancing to provide a complete solution for monitoring and managing applications.\n",
    "\n",
    "Overall, Elastic Beanstalk is a powerful and flexible service that can help developers quickly and easily deploy and manage web applications and services on AWS.\n",
    "\n",
    "## 2. Code Pipeline\n",
    "AWS CodePipeline is a fully managed continuous delivery service provided by Amazon Web Services (AWS). It automates the release process for applications, enabling developers to rapidly and reliably build, test, and deploy their code changes.\n",
    "\n",
    "Here are some key features of AWS CodePipeline:\n",
    "\n",
    "1. Pipeline Creation: Developers can create custom pipelines for their applications, specifying the source code repository, build tools, testing frameworks, deployment targets, and other settings. They can also define the stages of the pipeline and the actions that should be performed in each stage.\n",
    "\n",
    "2. Source Code Integration: CodePipeline integrates with a wide range of source code repositories, including AWS CodeCommit, GitHub, and Bitbucket. Developers can configure their pipelines to automatically detect code changes in the repository and trigger the build and deployment process.\n",
    "\n",
    "3. Build and Test Automation: CodePipeline supports a variety of build and test tools, including AWS CodeBuild, Jenkins, and Bamboo. Developers can configure their pipelines to run automated tests as part of the build process, ensuring that code changes meet quality standards before being deployed.\n",
    "\n",
    "4. Deployment Automation: CodePipeline can deploy applications to a wide range of targets, including Amazon EC2 instances, AWS Elastic Beanstalk environments, and AWS Lambda functions. It can also integrate with other AWS services like AWS CodeDeploy and AWS CloudFormation to support more complex deployment scenarios.\n",
    "\n",
    "6. Continuous Monitoring: CodePipeline provides continuous monitoring of the pipeline and its stages, giving developers visibility into the progress of each stage and the status of each action. It also integrates with AWS CloudWatch to provide monitoring and alerting capabilities for the pipeline and the application.\n",
    "\n",
    "7. Overall, AWS CodePipeline is a powerful tool for automating the release process for applications, enabling developers to deploy changes quickly and reliably while maintaining high quality standards. By eliminating the need for manual intervention and automating many of the tedious and error-prone tasks involved in software deployment, CodePipeline can help teams deliver software faster and with fewer errors."
   ]
  }
 ],
 "metadata": {
  "kernelspec": {
   "display_name": "Python 3 (ipykernel)",
   "language": "python",
   "name": "python3"
  },
  "language_info": {
   "codemirror_mode": {
    "name": "ipython",
    "version": 3
   },
   "file_extension": ".py",
   "mimetype": "text/x-python",
   "name": "python",
   "nbconvert_exporter": "python",
   "pygments_lexer": "ipython3",
   "version": "3.11.1"
  }
 },
 "nbformat": 4,
 "nbformat_minor": 5
}
