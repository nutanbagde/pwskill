{
 "cells": [
  {
   "cell_type": "markdown",
   "id": "29dbb090-8c3c-4665-8b32-68b75c929ce0",
   "metadata": {
    "tags": []
   },
   "source": [
    "#  object-oriented Programming (OOPs)"
   ]
  },
  {
   "cell_type": "markdown",
   "id": "3b4f6de3-78ce-40dc-a891-91671e47fcbc",
   "metadata": {
    "tags": []
   },
   "source": [
    "In Python, object-oriented Programming (OOPs) is a programming paradigm that uses objects and classes in programming. It aims to implement real-world entities like inheritance, polymorphisms, encapsulation, etc. in the programming. The main concept of OOPs is to bind the data and the functions that work on that together as a single unit so that no other part of the code can access this data.\n",
    "\n",
    "here we are talking about specific type of real-world entities.\n",
    "segrigate all code in diffrent diffrent model, and all madel interact with each other.\n",
    "advantage:\n",
    "1. reuse the code \n",
    "2. code will be maintanable\n",
    "3. any one can use any modul and give there contribution.\n",
    "4. code is in structure form\n"
   ]
  },
  {
   "cell_type": "code",
   "execution_count": 1,
   "id": "fd0398fa-9fb5-4c63-b5f6-9e34f70dfea2",
   "metadata": {},
   "outputs": [
    {
     "name": "stdout",
     "output_type": "stream",
     "text": [
      "<class '__main__.test'>\n"
     ]
    }
   ],
   "source": [
    "class test:\n",
    "    pass\n",
    "print(type(test()))"
   ]
  },
  {
   "cell_type": "markdown",
   "id": "9e0b452c-338c-466f-a139-2c6b4cb1d468",
   "metadata": {
    "tags": []
   },
   "source": [
    "# Class\n",
    "\n",
    "A class is a collection of objects."
   ]
  },
  {
   "cell_type": "code",
   "execution_count": 2,
   "id": "dde9d579-071a-4e9f-8d37-5dae260011e0",
   "metadata": {
    "tags": []
   },
   "outputs": [],
   "source": [
    "class my_home:\n",
    "    \n",
    "    def welcome_msg(self):\n",
    "        print('welcome to my home')\n",
    "    "
   ]
  },
  {
   "cell_type": "markdown",
   "id": "8f236e04-24a5-4e9d-aaa1-5af0e2f41144",
   "metadata": {},
   "source": [
    "# object"
   ]
  },
  {
   "cell_type": "code",
   "execution_count": 3,
   "id": "97dd118e-a56c-4593-8273-339453f28ba2",
   "metadata": {
    "tags": []
   },
   "outputs": [
    {
     "name": "stdout",
     "output_type": "stream",
     "text": [
      "welcome to my home\n",
      "None\n",
      "welcome to my home\n",
      "None\n"
     ]
    }
   ],
   "source": [
    "gargie = my_home()\n",
    "soham= my_home()\n",
    "\n",
    "print(gargie.welcome_msg())\n",
    "print(soham.welcome_msg())"
   ]
  },
  {
   "cell_type": "code",
   "execution_count": 4,
   "id": "6a7fc7be-8a61-4023-bac7-d8c76378bf79",
   "metadata": {
    "tags": []
   },
   "outputs": [],
   "source": [
    "class college:\n",
    "\n",
    "    def  __init__(self, phone_number, email_id, student_id):\n",
    "        self.phone_number = phone_number\n",
    "        self.email_id = email_id\n",
    "        self.student_id =student_id \n",
    "        \n",
    "    #def student_detail(self):\n",
    "        #return self.phone_number, self.email_id, self.student_id\n",
    "\n",
    "rohan=college(9346546713, 'nutanbagge77@gmail.com', 101)\n",
    "     \n",
    "        "
   ]
  },
  {
   "cell_type": "code",
   "execution_count": null,
   "id": "14b3e873-5b7a-47b6-8673-847c8e4e0396",
   "metadata": {},
   "outputs": [],
   "source": []
  },
  {
   "cell_type": "code",
   "execution_count": 5,
   "id": "f3f29954-c7bb-4dcd-a7a4-7a0e4a75c371",
   "metadata": {
    "tags": []
   },
   "outputs": [
    {
     "data": {
      "text/plain": [
       "'nutanbagge77@gmail.com'"
      ]
     },
     "execution_count": 5,
     "metadata": {},
     "output_type": "execute_result"
    }
   ],
   "source": [
    "rohan.email_id"
   ]
  },
  {
   "cell_type": "code",
   "execution_count": 6,
   "id": "75bd22ce-cafe-4ca0-b12b-70eb4c6b2936",
   "metadata": {
    "tags": []
   },
   "outputs": [
    {
     "data": {
      "text/plain": [
       "9346546713"
      ]
     },
     "execution_count": 6,
     "metadata": {},
     "output_type": "execute_result"
    }
   ],
   "source": [
    "rohan.phone_number"
   ]
  },
  {
   "cell_type": "code",
   "execution_count": 7,
   "id": "02df116f-549a-4b33-988e-24f3190c4baf",
   "metadata": {
    "tags": []
   },
   "outputs": [
    {
     "ename": "AttributeError",
     "evalue": "'college' object has no attribute 'student_detail'",
     "output_type": "error",
     "traceback": [
      "\u001b[1;31m---------------------------------------------------------------------------\u001b[0m",
      "\u001b[1;31mAttributeError\u001b[0m                            Traceback (most recent call last)",
      "Cell \u001b[1;32mIn[7], line 1\u001b[0m\n\u001b[1;32m----> 1\u001b[0m \u001b[43mrohan\u001b[49m\u001b[38;5;241;43m.\u001b[39;49m\u001b[43mstudent_detail\u001b[49m()  \n",
      "\u001b[1;31mAttributeError\u001b[0m: 'college' object has no attribute 'student_detail'"
     ]
    }
   ],
   "source": [
    "rohan.student_detail()  "
   ]
  },
  {
   "cell_type": "code",
   "execution_count": null,
   "id": "d89724a3-bdca-4a30-b181-ea31beb36555",
   "metadata": {
    "tags": []
   },
   "outputs": [],
   "source": [
    "class college1:\n",
    "\n",
    "    def __init__(ref, phone_number, email_id, student_id):\n",
    "        ref.phone_number = phone_number                     # call by refrence\n",
    "        ref.email_id = email_id\n",
    "        ref.student_id =student_id \n",
    "        \n",
    "    def student_detail(ref):\n",
    "        return ref.phone_number, ref.email_id, ref.student_id\n",
    "\n",
    "#rohan=college(9346546713, 'nutanbagge77@gmail.com', 101)   "
   ]
  },
  {
   "cell_type": "code",
   "execution_count": 8,
   "id": "9c10884a-1797-4b25-b1c5-498a84bfe316",
   "metadata": {
    "tags": []
   },
   "outputs": [
    {
     "ename": "NameError",
     "evalue": "name 'college1' is not defined",
     "output_type": "error",
     "traceback": [
      "\u001b[1;31m---------------------------------------------------------------------------\u001b[0m",
      "\u001b[1;31mNameError\u001b[0m                                 Traceback (most recent call last)",
      "Cell \u001b[1;32mIn[8], line 1\u001b[0m\n\u001b[1;32m----> 1\u001b[0m nutan\u001b[38;5;241m=\u001b[39m\u001b[43mcollege1\u001b[49m(\u001b[38;5;241m156464232235\u001b[39m, \u001b[38;5;124m'\u001b[39m\u001b[38;5;124mxhaxjh@gmail.com\u001b[39m\u001b[38;5;124m'\u001b[39m, \u001b[38;5;241m102\u001b[39m)\n",
      "\u001b[1;31mNameError\u001b[0m: name 'college1' is not defined"
     ]
    }
   ],
   "source": [
    "nutan=college1(156464232235, 'xhaxjh@gmail.com', 102)"
   ]
  },
  {
   "cell_type": "code",
   "execution_count": 9,
   "id": "e34e7fac-a065-42a0-9073-6846440a567a",
   "metadata": {
    "tags": []
   },
   "outputs": [
    {
     "ename": "NameError",
     "evalue": "name 'nutan' is not defined",
     "output_type": "error",
     "traceback": [
      "\u001b[1;31m---------------------------------------------------------------------------\u001b[0m",
      "\u001b[1;31mNameError\u001b[0m                                 Traceback (most recent call last)",
      "Cell \u001b[1;32mIn[9], line 1\u001b[0m\n\u001b[1;32m----> 1\u001b[0m \u001b[43mnutan\u001b[49m\u001b[38;5;241m.\u001b[39mphone_number    \u001b[38;5;66;03m# call by refrence variable\u001b[39;00m\n",
      "\u001b[1;31mNameError\u001b[0m: name 'nutan' is not defined"
     ]
    }
   ],
   "source": [
    "nutan.phone_number    # call by refrence variable"
   ]
  },
  {
   "cell_type": "code",
   "execution_count": 10,
   "id": "89bb172a-dbed-45a4-b861-1c5b3e6a171e",
   "metadata": {},
   "outputs": [
    {
     "ename": "NameError",
     "evalue": "name 'nutan' is not defined",
     "output_type": "error",
     "traceback": [
      "\u001b[1;31m---------------------------------------------------------------------------\u001b[0m",
      "\u001b[1;31mNameError\u001b[0m                                 Traceback (most recent call last)",
      "Cell \u001b[1;32mIn[10], line 1\u001b[0m\n\u001b[1;32m----> 1\u001b[0m \u001b[43mnutan\u001b[49m\u001b[38;5;241m.\u001b[39mstudent_detail()\n",
      "\u001b[1;31mNameError\u001b[0m: name 'nutan' is not defined"
     ]
    }
   ],
   "source": [
    "nutan.student_detail()"
   ]
  },
  {
   "cell_type": "code",
   "execution_count": null,
   "id": "cae21ee9-eb63-4493-9bc0-8ba0874161c5",
   "metadata": {},
   "outputs": [],
   "source": []
  },
  {
   "cell_type": "code",
   "execution_count": 11,
   "id": "a7f1eca1-c99e-40b6-85af-2eafb32477b2",
   "metadata": {},
   "outputs": [
    {
     "ename": "SyntaxError",
     "evalue": "incomplete input (3909232430.py, line 6)",
     "output_type": "error",
     "traceback": [
      "\u001b[1;36m  Cell \u001b[1;32mIn[11], line 6\u001b[1;36m\u001b[0m\n\u001b[1;33m    \u001b[0m\n\u001b[1;37m    ^\u001b[0m\n\u001b[1;31mSyntaxError\u001b[0m\u001b[1;31m:\u001b[0m incomplete input\n"
     ]
    }
   ],
   "source": [
    "class private:\n",
    "    def __init__(self, school_name):\n",
    "        self.school_name=school_name\n",
    "        \n",
    "    def sch_name(self):\n",
    "        "
   ]
  },
  {
   "cell_type": "markdown",
   "id": "ba2484eb-2b60-449c-889f-fc8d0f20d081",
   "metadata": {},
   "source": [
    "# polymorphism\n",
    "\n",
    "\n",
    "What is Polymorphism:\n",
    "\n",
    "The word polymorphism means having many forms. In programming, polymorphism means the same function name (but different signatures) being used for different types. The key difference is the data types and number of arguments used in function."
   ]
  },
  {
   "cell_type": "markdown",
   "id": "865bd884-f9a5-433e-9c64-dc0a29106ec1",
   "metadata": {},
   "source": [
    "same person but diffrent nature in diffrent situation"
   ]
  },
  {
   "cell_type": "code",
   "execution_count": 12,
   "id": "f575745a-3a11-411c-b620-a2890bb1fd1d",
   "metadata": {
    "tags": []
   },
   "outputs": [
    {
     "name": "stdout",
     "output_type": "stream",
     "text": [
      "9\n",
      "Nutan Bagde\n"
     ]
    }
   ],
   "source": [
    "def test(a,b):\n",
    "    return a+b\n",
    "\n",
    "print(test(4,5))               # here it is doing addition\n",
    "print(test('Nutan ','Bagde'))  # here it is doing concatination\n",
    "# mulipale charcteristic as we pass the data accordinglly "
   ]
  },
  {
   "cell_type": "code",
   "execution_count": 13,
   "id": "e0a63ded-7aa5-4c37-baf6-1a48908c63f1",
   "metadata": {
    "tags": []
   },
   "outputs": [
    {
     "data": {
      "text/plain": [
       "[1, 2, 3, 4, 5, 6]"
      ]
     },
     "execution_count": 13,
     "metadata": {},
     "output_type": "execute_result"
    }
   ],
   "source": [
    "test([1,2,3],[4,5,6])"
   ]
  },
  {
   "cell_type": "code",
   "execution_count": 14,
   "id": "b43d6b22-e429-4741-b8dd-67528592ef15",
   "metadata": {
    "tags": []
   },
   "outputs": [
    {
     "name": "stdout",
     "output_type": "stream",
     "text": [
      "this is my method for data science syllabus\n",
      "this is my method for data web dev\n"
     ]
    }
   ],
   "source": [
    "class data_science:\n",
    "    def syllabus(self):\n",
    "        print('this is my method for data science syllabus')\n",
    "                 \n",
    "                 \n",
    "class web_dev:\n",
    "    def syllabus(self):\n",
    "        print('this is my method for data web dev')\n",
    "\n",
    "def class_parcel(class_obj):\n",
    "    for i in class_obj:\n",
    "        i.syllabus()\n",
    "            \n",
    "            \n",
    "obj_data_science=data_science() # create an object\n",
    "obj_web_dev= web_dev()          # create an object\n",
    "\n",
    "class_obj=[obj_data_science,obj_web_dev] #try to keep both object in variable in list form\n",
    "class_parcel(class_obj) # pass the object for loop"
   ]
  },
  {
   "cell_type": "code",
   "execution_count": null,
   "id": "5a9b7202-2268-42a1-872f-0c2356659288",
   "metadata": {},
   "outputs": [],
   "source": []
  },
  {
   "cell_type": "markdown",
   "id": "d91a00c0-c493-480a-abcf-61a832b82fc2",
   "metadata": {
    "tags": []
   },
   "source": [
    "\n",
    "one single entity buts its behavier(of i) will change, as per of object i will going to pass inside my function in aboue example"
   ]
  },
  {
   "cell_type": "markdown",
   "id": "ea001941-16ab-49c9-9a6e-b17607aa31af",
   "metadata": {},
   "source": [
    "# Encapsulation :- \n",
    "\n",
    "an object variable should not always be directly accessible.\n",
    "\n",
    "\n",
    "\n",
    "\n",
    "it will provide or allow you to privent any kind of  direct acces or modification of data in oop's programming language.\n",
    "\n",
    "it will not allow you or any athors to make changes in class directly.\n",
    "\n",
    "\n",
    "\n"
   ]
  },
  {
   "cell_type": "code",
   "execution_count": 15,
   "id": "1fbf058e-e18d-40b5-ab47-6cbb97faaaa6",
   "metadata": {
    "tags": []
   },
   "outputs": [],
   "source": [
    "class test:\n",
    "    # create one method\n",
    "    def __init__(self, a, b): # init is a method which use to pass a data inside a class\n",
    "    # it s called as a cunstructor(an object or method)\n",
    "        self.a = a\n",
    "        self.b = b\n",
    "    \n",
    "t=test(45,55)"
   ]
  },
  {
   "cell_type": "code",
   "execution_count": 16,
   "id": "4125fb7a-7a31-4560-b211-960e427b086c",
   "metadata": {
    "tags": []
   },
   "outputs": [
    {
     "data": {
      "text/plain": [
       "45"
      ]
     },
     "execution_count": 16,
     "metadata": {},
     "output_type": "execute_result"
    }
   ],
   "source": [
    "t.a"
   ]
  },
  {
   "cell_type": "code",
   "execution_count": 17,
   "id": "6a10016f-512a-47a9-806e-32ac0ac0d6d7",
   "metadata": {
    "tags": []
   },
   "outputs": [
    {
     "data": {
      "text/plain": [
       "55"
      ]
     },
     "execution_count": 17,
     "metadata": {},
     "output_type": "execute_result"
    }
   ],
   "source": [
    "t.b"
   ]
  },
  {
   "cell_type": "code",
   "execution_count": 18,
   "id": "9486bf27-c2ac-4654-a8f4-6edb14675a7b",
   "metadata": {
    "tags": []
   },
   "outputs": [],
   "source": [
    "t.a=235 # assigne new value"
   ]
  },
  {
   "cell_type": "code",
   "execution_count": 19,
   "id": "e78146af-96d9-4983-859a-8d8fc5c08a5a",
   "metadata": {
    "tags": []
   },
   "outputs": [
    {
     "data": {
      "text/plain": [
       "235"
      ]
     },
     "execution_count": 19,
     "metadata": {},
     "output_type": "execute_result"
    }
   ],
   "source": [
    "t.a"
   ]
  },
  {
   "cell_type": "code",
   "execution_count": 20,
   "id": "430c7de9-3193-4f1f-8096-6406e8678936",
   "metadata": {
    "tags": []
   },
   "outputs": [
    {
     "data": {
      "text/plain": [
       "'TATA'"
      ]
     },
     "execution_count": 20,
     "metadata": {},
     "output_type": "execute_result"
    }
   ],
   "source": [
    "class car:\n",
    "    #a constructor\n",
    "    def __init__(self, year , make, model, speed):\n",
    "        # Private variable(for no one can make changes)\n",
    "        #(programer hiding entire variable from user)\n",
    "        \n",
    "        self.__year=year  #user not having acces of this vairiable(Private variable)\n",
    "        self.__make=make  #(Private variable)\n",
    "        self.__model=model #(Private variable)\n",
    "        self.__speed=speed #(Private variable)\n",
    "        \n",
    "        # aboue this is encapsulation method (of class variable) \n",
    "        # here programmer not giving acces to user.\n",
    "        \n",
    "    # method\n",
    "    def set_speed(self, speed): # programer giving acces to user (setter method)\n",
    "        self.__speed=0 if speed<0 else speed # here user can set the speed \n",
    "       \n",
    "    def get_speed(self): # here user can get the speed (getter method)\n",
    "        return self.__speed\n",
    "        \n",
    "obje_car=car(2021,'TATA','creata',100)\n",
    "\n",
    "# how to access the variable\n",
    "obje_car._car__make # befor class name only 1(_)and befor variable 2(__)"
   ]
  },
  {
   "cell_type": "code",
   "execution_count": 21,
   "id": "de6bd348-a3ae-4724-852d-0e84bc4a7ca8",
   "metadata": {
    "tags": []
   },
   "outputs": [
    {
     "data": {
      "text/plain": [
       "'creata'"
      ]
     },
     "execution_count": 21,
     "metadata": {},
     "output_type": "execute_result"
    }
   ],
   "source": [
    "obje_car._car__model"
   ]
  },
  {
   "cell_type": "code",
   "execution_count": 22,
   "id": "e5469904-a3a7-43a8-bff3-4776f153cdd5",
   "metadata": {},
   "outputs": [
    {
     "ename": "SyntaxError",
     "evalue": "invalid syntax (3197826780.py, line 1)",
     "output_type": "error",
     "traceback": [
      "\u001b[1;36m  Cell \u001b[1;32mIn[22], line 1\u001b[1;36m\u001b[0m\n\u001b[1;33m    obje_car.\u001b[0m\n\u001b[1;37m             ^\u001b[0m\n\u001b[1;31mSyntaxError\u001b[0m\u001b[1;31m:\u001b[0m invalid syntax\n"
     ]
    }
   ],
   "source": [
    "obje_car."
   ]
  },
  {
   "cell_type": "code",
   "execution_count": 23,
   "id": "7aa14694-9ba9-40af-9ee8-360d4e079392",
   "metadata": {
    "tags": []
   },
   "outputs": [
    {
     "data": {
      "text/plain": [
       "100"
      ]
     },
     "execution_count": 23,
     "metadata": {},
     "output_type": "execute_result"
    }
   ],
   "source": [
    "obje_car._car__speed"
   ]
  },
  {
   "cell_type": "code",
   "execution_count": 24,
   "id": "68ef80ec-ccfd-4e7f-be3e-76f1119f76be",
   "metadata": {
    "tags": []
   },
   "outputs": [
    {
     "data": {
      "text/plain": [
       "100"
      ]
     },
     "execution_count": 24,
     "metadata": {},
     "output_type": "execute_result"
    }
   ],
   "source": [
    "obje_car._car__speed"
   ]
  },
  {
   "cell_type": "code",
   "execution_count": 25,
   "id": "04ff8304-a1e9-4f36-bdb4-59f4962aca01",
   "metadata": {
    "tags": []
   },
   "outputs": [],
   "source": [
    "obje_car.set_speed(63589) # it can change by out sider"
   ]
  },
  {
   "cell_type": "code",
   "execution_count": 26,
   "id": "5e54566d-3bb3-49b3-b4b0-aa662743cee4",
   "metadata": {
    "tags": []
   },
   "outputs": [
    {
     "data": {
      "text/plain": [
       "63589"
      ]
     },
     "execution_count": 26,
     "metadata": {},
     "output_type": "execute_result"
    }
   ],
   "source": [
    "obje_car._car__speed"
   ]
  },
  {
   "cell_type": "code",
   "execution_count": 27,
   "id": "c81e0341-9261-43be-9ce9-22430d607113",
   "metadata": {
    "tags": []
   },
   "outputs": [],
   "source": [
    "obje_car.set_speed(-1235) # not update with negative value"
   ]
  },
  {
   "cell_type": "code",
   "execution_count": 28,
   "id": "bab188fe-adcf-43fc-8dbb-e5a40c59a212",
   "metadata": {
    "tags": []
   },
   "outputs": [
    {
     "data": {
      "text/plain": [
       "0"
      ]
     },
     "execution_count": 28,
     "metadata": {},
     "output_type": "execute_result"
    }
   ],
   "source": [
    "obje_car._car__speed"
   ]
  },
  {
   "cell_type": "code",
   "execution_count": 29,
   "id": "4c30027f-70d3-4fd1-8ebf-340f6ed0bca6",
   "metadata": {
    "tags": []
   },
   "outputs": [
    {
     "data": {
      "text/plain": [
       "0"
      ]
     },
     "execution_count": 29,
     "metadata": {},
     "output_type": "execute_result"
    }
   ],
   "source": [
    "obje_car.get_speed()"
   ]
  },
  {
   "cell_type": "code",
   "execution_count": 30,
   "id": "51f9dc4e-ac98-4aa6-ae42-318e646bcc48",
   "metadata": {
    "tags": []
   },
   "outputs": [
    {
     "data": {
      "text/plain": [
       "1000"
      ]
     },
     "execution_count": 30,
     "metadata": {},
     "output_type": "execute_result"
    }
   ],
   "source": [
    "# another example of encapsulation\n",
    "\n",
    "class Bank_account:\n",
    "    \n",
    "    def __init__(self, balance):\n",
    "        self.__balance= balance  # privet veriable(it will use within class but not outside the class)\n",
    "    def deposite(self, amount):\n",
    "        self.__balance=self.__balance+amount\n",
    "    def withdraw(self, amount):\n",
    "        if self.__balance>=amount:\n",
    "            self.__balance=self.__balance-amount\n",
    "            return True\n",
    "        else:\n",
    "            return False\n",
    "    def get_balance(self):\n",
    "        return self.__balance\n",
    "\n",
    "obje_bank_account=Bank_account(1000)\n",
    "obje_bank_account.get_balance()\n",
    "        \n",
    "        "
   ]
  },
  {
   "cell_type": "code",
   "execution_count": 31,
   "id": "3f78b18a-5290-44d1-b386-705e022a86b1",
   "metadata": {
    "tags": []
   },
   "outputs": [
    {
     "data": {
      "text/plain": [
       "7000"
      ]
     },
     "execution_count": 31,
     "metadata": {},
     "output_type": "execute_result"
    }
   ],
   "source": [
    "obje_bank_account.deposite(6000)\n",
    "obje_bank_account.get_balance()"
   ]
  },
  {
   "cell_type": "code",
   "execution_count": 32,
   "id": "98fbc6fb-610f-4af5-993f-c696c0f5c740",
   "metadata": {
    "tags": []
   },
   "outputs": [
    {
     "data": {
      "text/plain": [
       "False"
      ]
     },
     "execution_count": 32,
     "metadata": {},
     "output_type": "execute_result"
    }
   ],
   "source": [
    "obje_bank_account.withdraw(10000)"
   ]
  },
  {
   "cell_type": "code",
   "execution_count": 33,
   "id": "dded5287-e22f-4035-a232-757255ab773d",
   "metadata": {
    "tags": []
   },
   "outputs": [
    {
     "data": {
      "text/plain": [
       "5000"
      ]
     },
     "execution_count": 33,
     "metadata": {},
     "output_type": "execute_result"
    }
   ],
   "source": [
    "obje_bank_account.withdraw(2000)\n",
    "obje_bank_account.get_balance()"
   ]
  },
  {
   "cell_type": "code",
   "execution_count": 34,
   "id": "d2044460-d869-4c22-8a3d-fb0a319950d4",
   "metadata": {
    "tags": []
   },
   "outputs": [
    {
     "name": "stdout",
     "output_type": "stream",
     "text": [
      "nutan\n"
     ]
    }
   ],
   "source": [
    "class student:\n",
    "    name='nutan'\n",
    "    \n",
    "obj=student()\n",
    "print(obj.name)"
   ]
  },
  {
   "cell_type": "code",
   "execution_count": 35,
   "id": "774795e3-f571-4088-a0fe-0d9136044177",
   "metadata": {
    "tags": []
   },
   "outputs": [
    {
     "ename": "AttributeError",
     "evalue": "'student' object has no attribute '__name'",
     "output_type": "error",
     "traceback": [
      "\u001b[1;31m---------------------------------------------------------------------------\u001b[0m",
      "\u001b[1;31mAttributeError\u001b[0m                            Traceback (most recent call last)",
      "Cell \u001b[1;32mIn[35], line 5\u001b[0m\n\u001b[0;32m      2\u001b[0m     __name\u001b[38;5;241m=\u001b[39m\u001b[38;5;124m'\u001b[39m\u001b[38;5;124mnutan\u001b[39m\u001b[38;5;124m'\u001b[39m \u001b[38;5;66;03m#private variable\u001b[39;00m\n\u001b[0;32m      4\u001b[0m obj\u001b[38;5;241m=\u001b[39mstudent()\n\u001b[1;32m----> 5\u001b[0m \u001b[38;5;28mprint\u001b[39m(\u001b[43mobj\u001b[49m\u001b[38;5;241;43m.\u001b[39;49m\u001b[43m__name\u001b[49m)\n",
      "\u001b[1;31mAttributeError\u001b[0m: 'student' object has no attribute '__name'"
     ]
    }
   ],
   "source": [
    "class student:\n",
    "    __name='nutan' #private variable\n",
    "    \n",
    "obj=student()\n",
    "print(obj.__name)"
   ]
  },
  {
   "cell_type": "code",
   "execution_count": null,
   "id": "eb02d964-6443-4fee-8136-3933979d892e",
   "metadata": {},
   "outputs": [],
   "source": []
  },
  {
   "cell_type": "code",
   "execution_count": null,
   "id": "ef3ba1bb-e0fb-4838-b8e1-db99de39c9c9",
   "metadata": {},
   "outputs": [],
   "source": []
  },
  {
   "cell_type": "code",
   "execution_count": null,
   "id": "218c57e0-0ee0-4397-8fe4-00b95df02fba",
   "metadata": {},
   "outputs": [],
   "source": []
  },
  {
   "cell_type": "markdown",
   "id": "48e227f6-05ba-42ec-ae90-8dfd5e9782e2",
   "metadata": {
    "tags": []
   },
   "source": [
    "# Inheritance :- \n",
    "\n",
    "A class can inherit (having) a property of another classes is called Inheritance.(upper class in lower class)\n"
   ]
  },
  {
   "cell_type": "code",
   "execution_count": 36,
   "id": "be61db42-504f-4f61-a1f6-84391bbfcb5d",
   "metadata": {
    "tags": []
   },
   "outputs": [
    {
     "name": "stdout",
     "output_type": "stream",
     "text": [
      "this is my parent class\n"
     ]
    }
   ],
   "source": [
    "class parent:\n",
    "    # parent class method\n",
    "    def test_parent(self):\n",
    "        print('this is my parent class')\n",
    "class child(parent):\n",
    "    pass\n",
    "child_obj=child()\n",
    "child_obj.test_parent() # by using chid class object u can access parent class method"
   ]
  },
  {
   "cell_type": "markdown",
   "id": "0810678a-da1c-49cd-a2ac-63bb2f64620f",
   "metadata": {},
   "source": [
    "1. multileble Inheritance :   \n",
    "class1--->class2--->class3"
   ]
  },
  {
   "cell_type": "code",
   "execution_count": 37,
   "id": "550b0249-1a40-4b82-a0b8-925308bb6b44",
   "metadata": {
    "tags": []
   },
   "outputs": [
    {
     "name": "stdout",
     "output_type": "stream",
     "text": [
      "This is my class p1\n"
     ]
    }
   ],
   "source": [
    "class p1:\n",
    "    def test1(self):\n",
    "        print('This is my class p1')\n",
    "class p2(p1):\n",
    "    def test2(self):\n",
    "        print('This is my class  p2')\n",
    "class p3(p2):\n",
    "    def test3(self):\n",
    "        print('This is my class  p3')\n",
    "        \n",
    "obje_p3=p3()\n",
    "obje_p3.test1()"
   ]
  },
  {
   "cell_type": "markdown",
   "id": "6b7c00f5-b88b-40cc-8063-d436f53935e6",
   "metadata": {},
   "source": [
    "2. multiple Inheritance\n",
    "\n",
    "class1  class2\n",
    "\n",
    "    \\ /\n",
    "   \n",
    "    class3"
   ]
  },
  {
   "cell_type": "code",
   "execution_count": 38,
   "id": "77bbeac9-76f8-448a-9dc9-a65e4507bb49",
   "metadata": {
    "tags": []
   },
   "outputs": [
    {
     "name": "stdout",
     "output_type": "stream",
     "text": [
      "This is my class s1\n",
      "This is my class s2\n"
     ]
    }
   ],
   "source": [
    "class s1:\n",
    "    #method\n",
    "    def test_s1(self):\n",
    "        print('This is my class s1') # method body\n",
    "class s2:\n",
    "    \n",
    "    def test_s2(self):\n",
    "        print('This is my class s2')\n",
    "        \n",
    "class s3(s1,s2):\n",
    "    pass\n",
    "\n",
    "obj_s3=s3()\n",
    "obj_s3.test_s1()\n",
    "obj_s3.test_s2()"
   ]
  },
  {
   "cell_type": "markdown",
   "id": "0db680a7-8a8f-4eff-a83f-78f461b9ef75",
   "metadata": {},
   "source": [
    "# Abstraction :\n",
    "abstract class is outline or skeleton or blueprint\n",
    "\n",
    " ABC(abstract Base Classes)"
   ]
  },
  {
   "cell_type": "code",
   "execution_count": 39,
   "id": "10037eab-e170-40d5-b6ca-2f9450830508",
   "metadata": {
    "tags": []
   },
   "outputs": [],
   "source": [
    "import abc\n",
    "# abstract class always hase one abstract method\n",
    "# skeleton class\n",
    "class Pwskills:\n",
    "    @abc.abstractmethod\n",
    "    def student_details(self):\n",
    "        pass  # abstract class(in method body always wright==> pass)\n",
    "    @abc.abstractmethod\n",
    "    def student_assignment(self):\n",
    "        pass\n",
    "    @abc.abstractmethod\n",
    "    def student_marks(self):\n",
    "        pass\n",
    "\n",
    "    # own class== then class it according to need give own defination\n",
    "\n",
    "class data_science(Pwskills):\n",
    "    def student_details(self):\n",
    "        return 'I will try to return a details of data science'\n",
    "    def student_assignment(self):\n",
    "        return  'I will try to return a details of student assignment' \n",
    "class web_dev(Pwskills):\n",
    "    def student_details(self):\n",
    "        return 'I will try to return a details of web dev'\n",
    "    def student_marks(self):\n",
    "        return 'I will try to return a marks of web dev'\n",
    "        \n",
    "        "
   ]
  },
  {
   "cell_type": "code",
   "execution_count": 40,
   "id": "2edaf189-0aa8-493a-9e65-8b6cece1838e",
   "metadata": {
    "tags": []
   },
   "outputs": [
    {
     "data": {
      "text/plain": [
       "'I will try to return a details of student assignment'"
      ]
     },
     "execution_count": 40,
     "metadata": {},
     "output_type": "execute_result"
    }
   ],
   "source": [
    "ds=data_science()\n",
    "ds.student_assignment()"
   ]
  },
  {
   "cell_type": "code",
   "execution_count": 41,
   "id": "4ed026ec-01f7-4bef-bb93-6205e0f03d20",
   "metadata": {
    "tags": []
   },
   "outputs": [],
   "source": [
    "ds.student_marks() # defination is not present in class data_science"
   ]
  },
  {
   "cell_type": "code",
   "execution_count": 42,
   "id": "06d5ef58-47ce-4705-ad96-050eacca90ec",
   "metadata": {
    "tags": []
   },
   "outputs": [
    {
     "name": "stdout",
     "output_type": "stream",
     "text": [
      "None\n",
      "I will try to return a details of web dev\n",
      "I will try to return a marks of web dev\n"
     ]
    }
   ],
   "source": [
    "ds1=web_dev()\n",
    "print(ds1.student_assignment()) # # defination is not present in class data_science\n",
    "print(ds1.student_details())\n",
    "print(ds1.student_marks())"
   ]
  },
  {
   "cell_type": "markdown",
   "id": "c486a1e0-6605-4dac-97bc-25742dfd9374",
   "metadata": {},
   "source": [
    "# Decoretors:\n",
    "with the help of this we can remove the repeatativeness in the code.\n"
   ]
  },
  {
   "cell_type": "code",
   "execution_count": 43,
   "id": "bbcd1917-50db-412e-b106-74705fe5eddb",
   "metadata": {
    "tags": []
   },
   "outputs": [
    {
     "name": "stdout",
     "output_type": "stream",
     "text": [
      "9\n"
     ]
    }
   ],
   "source": [
    "def test():\n",
    "    print(4+5)\n",
    "    \n",
    "test()"
   ]
  },
  {
   "cell_type": "code",
   "execution_count": 44,
   "id": "ad085f28-5835-4f11-8ca1-7a4013364ba6",
   "metadata": {
    "tags": []
   },
   "outputs": [
    {
     "name": "stdout",
     "output_type": "stream",
     "text": [
      "start of this function\n",
      "9\n",
      "end of this function\n"
     ]
    }
   ],
   "source": [
    "def test():\n",
    "    print('start of this function') # if u want to call this 2 line in every function \n",
    "    print(4+5)\n",
    "    print('end of this function') # if u want to call this 2 line in every function \n",
    "test()"
   ]
  },
  {
   "cell_type": "code",
   "execution_count": 45,
   "id": "870de059-1d4f-4194-85c4-4a2416be9236",
   "metadata": {
    "tags": []
   },
   "outputs": [
    {
     "name": "stdout",
     "output_type": "stream",
     "text": [
      "start of this function\n",
      "12\n",
      "end of this function \n",
      "\n",
      "start of this function\n",
      "18\n",
      "end of this function \n",
      "\n"
     ]
    }
   ],
   "source": [
    "\n",
    "# this is decorative function which will use repitadelly in diffrent defination according to usage\n",
    "def deco(func):\n",
    "    def inner_deco():\n",
    "        print('start of this function')\n",
    "        func()\n",
    "        print('end of this function \\n')\n",
    "    return inner_deco\n",
    "    \n",
    "    \n",
    "@deco # how to use aboue def repitadaly without writting many times(syntax :- @name_of_defination)\n",
    "def addition():\n",
    "    print(4+8)\n",
    "@deco # how to use aboue function repitadaly without writting many times\n",
    "def multi():\n",
    "    print(2*9)\n",
    "\n",
    "addition()\n",
    "\n",
    "multi()\n"
   ]
  },
  {
   "cell_type": "code",
   "execution_count": 46,
   "id": "7a1def9a-c349-4f63-9e5c-44c95c54796d",
   "metadata": {
    "tags": []
   },
   "outputs": [
    {
     "name": "stdout",
     "output_type": "stream",
     "text": [
      "181855.66211551396\n",
      "0.0 \n",
      "\n",
      "[0, 100000, 200000, 300000, 400000]\n",
      "0.054962873458862305 \n",
      "\n",
      "2.4663314819335938 \n",
      "\n"
     ]
    }
   ],
   "source": [
    "import time\n",
    "\n",
    "# decorator function we created\n",
    "def timer_test(func):\n",
    "    def timer_test_inner():\n",
    "        start = time.time()\n",
    "        func()\n",
    "        end = time.time()\n",
    "        print(end-start,'\\n')\n",
    "    return timer_test_inner\n",
    "\n",
    "@timer_test\n",
    "def test2():\n",
    "    print(446372542456/2454543)\n",
    "    #print('how much time take to exicute this 2 no. addition ')\n",
    "    \n",
    "@timer_test\n",
    "def test3():\n",
    "    print([i for i in range(500000) if i%100000==0])\n",
    "    #print('how much time take to exicute this 2 no. addition ')\n",
    "    \n",
    "@timer_test\n",
    "def test4():\n",
    "    for i in range(100000000):\n",
    "        pass\n",
    "test2() \n",
    "test3()\n",
    "test4()"
   ]
  },
  {
   "cell_type": "markdown",
   "id": "08b496f1-cc7b-4803-9ed3-c84b037bd00e",
   "metadata": {},
   "source": [
    "# class method (Decorator)\n",
    "\n",
    "1. its help you overload init method\n",
    "2. it give access to a variable and with that you perform any kind of operation \n"
   ]
  },
  {
   "cell_type": "code",
   "execution_count": 47,
   "id": "1f742022-ce3d-4596-a9a7-41b73e84a279",
   "metadata": {
    "tags": []
   },
   "outputs": [
    {
     "name": "stdout",
     "output_type": "stream",
     "text": [
      "ram Amravati\n",
      "ram\n",
      "Amravati\n"
     ]
    }
   ],
   "source": [
    "# define a class\n",
    "class Pwskills:\n",
    "    # a cunstructor\n",
    "    def __init__(self, name, city):\n",
    "        # variables\n",
    "        self.name=name\n",
    "        self.city=city\n",
    "     #class methods   \n",
    "    def student_details(self):\n",
    "        print(self.name, self.city)\n",
    "        \n",
    "obj=Pwskills('ram','Amravati')\n",
    "obj.student_details()\n",
    "print(obj.name)\n",
    "print(obj.city)"
   ]
  },
  {
   "cell_type": "code",
   "execution_count": 48,
   "id": "31af9dce-e7ef-44b7-b3c2-ecb2b33f8beb",
   "metadata": {
    "tags": []
   },
   "outputs": [
    {
     "name": "stdout",
     "output_type": "stream",
     "text": [
      "nutan\n",
      "banglor\n"
     ]
    }
   ],
   "source": [
    "# define a class\n",
    "class Pwskills1:\n",
    "    # a cunstructor\n",
    "    def __init__(self, name, city):\n",
    "        # variables\n",
    "        self.name=name\n",
    "        self.city=city\n",
    "        \n",
    "    @classmethod   # decorator\n",
    "    def details(cls, name, city):  #function overloading possible using @classmethod\n",
    "        return cls(name,city)\n",
    "        \n",
    "     #class methods   \n",
    "    def student_details(self):\n",
    "        print(self.name, self.city)\n",
    "        \n",
    "pw1=Pwskills1.details('nutan','banglor')\n",
    "print(pw1.name)\n",
    "print(pw1.city)"
   ]
  },
  {
   "cell_type": "code",
   "execution_count": 49,
   "id": "80134605-0217-4026-8a08-481a4a61a8eb",
   "metadata": {},
   "outputs": [
    {
     "name": "stdout",
     "output_type": "stream",
     "text": [
      "nutan\n",
      "banglor\n"
     ]
    },
    {
     "data": {
      "text/plain": [
       "3698521470"
      ]
     },
     "execution_count": 49,
     "metadata": {},
     "output_type": "execute_result"
    }
   ],
   "source": [
    "# define a class\n",
    "class Pwskills2:\n",
    "    mobile_number=3698521470\n",
    "    # a cunstructor\n",
    "    def __init__(self, name, city):\n",
    "        # variables\n",
    "        self.name=name\n",
    "        self.city=city\n",
    "     #class methods \n",
    "    @classmethod\n",
    "    def chaing_number(cls,mobile):\n",
    "        Pwskills2.mobile_number=mobile\n",
    "    \n",
    "    @classmethod   # decorator\n",
    "    def details(cls, name, city):  #function overloading possible using @classmethod\n",
    "        return cls(name,city)\n",
    "        \n",
    "     # Instance method   \n",
    "    def student_details(self):\n",
    "        print(self.name, self.city, Pwskills2.mobile_number)\n",
    "        \n",
    "pw1=Pwskills2.details('nutan','banglor')\n",
    "print(pw1.name)\n",
    "print(pw1.city)\n",
    "Pwskills2.mobile_number"
   ]
  },
  {
   "cell_type": "code",
   "execution_count": 50,
   "id": "f98c0eb8-0a54-43f2-b7fb-a3a39f864cce",
   "metadata": {},
   "outputs": [],
   "source": [
    "pw2_obj=Pwskills2.details('gargie','amravati')"
   ]
  },
  {
   "cell_type": "code",
   "execution_count": 51,
   "id": "9cec5bbe-4a45-4352-830f-833ff59001d1",
   "metadata": {},
   "outputs": [
    {
     "name": "stdout",
     "output_type": "stream",
     "text": [
      "gargie amravati 3698521470\n"
     ]
    }
   ],
   "source": [
    "pw2_obj.student_details()"
   ]
  },
  {
   "cell_type": "code",
   "execution_count": 52,
   "id": "20b75d6d-7e67-402e-9fbf-bde38bafddda",
   "metadata": {},
   "outputs": [],
   "source": [
    "pw3_obj=Pwskills2.details('roshan','dilhi')"
   ]
  },
  {
   "cell_type": "code",
   "execution_count": 53,
   "id": "95e0798f-9db2-4c7d-af72-79ff4c30594a",
   "metadata": {},
   "outputs": [],
   "source": [
    "Pwskills2.chaing_number(147258369) # change mobile number by class method "
   ]
  },
  {
   "cell_type": "code",
   "execution_count": 54,
   "id": "85a9750b-a819-4cec-b3fd-9e7596332667",
   "metadata": {
    "tags": []
   },
   "outputs": [
    {
     "data": {
      "text/plain": [
       "147258369"
      ]
     },
     "execution_count": 54,
     "metadata": {},
     "output_type": "execute_result"
    }
   ],
   "source": [
    "Pwskills2.mobile_number"
   ]
  },
  {
   "cell_type": "code",
   "execution_count": 55,
   "id": "7032f374-6945-498f-8ed9-d04ee7c997a0",
   "metadata": {},
   "outputs": [],
   "source": [
    "# creat a external function and aad to the class using class method"
   ]
  },
  {
   "cell_type": "code",
   "execution_count": 56,
   "id": "063e0649-6141-40a9-bb23-666242a29dfa",
   "metadata": {
    "tags": []
   },
   "outputs": [],
   "source": [
    "# define a class\n",
    "class Pwskills3:\n",
    "    mobile_number=3698521470\n",
    "    # a cunstructor\n",
    "    def __init__(self, name, city):\n",
    "        # variables\n",
    "        self.name=name\n",
    "        self.city=city\n",
    "     #class methods \n",
    "    @classmethod\n",
    "    def chaing_number(cls,mobile):\n",
    "        Pwskills3.mobile_number=mobile\n",
    "    \n",
    "    @classmethod   # decorator\n",
    "    def details(cls, name, city):  #function overloading possible using @classmethod\n",
    "        return cls(name,city)\n",
    "        \n",
    "     # Instance method   \n",
    "    def student_details(self):\n",
    "        print(self.name, self.city, Pwskills3.mobile_number)"
   ]
  },
  {
   "cell_type": "code",
   "execution_count": 57,
   "id": "39cbc0f8-b485-4997-8539-94ee6035d402",
   "metadata": {
    "tags": []
   },
   "outputs": [],
   "source": [
    "def cours_details(cls, course_name):\n",
    "    print('course details',course_name)"
   ]
  },
  {
   "cell_type": "code",
   "execution_count": 58,
   "id": "12e0c481-c0a9-435c-80c4-f54ea1551146",
   "metadata": {
    "tags": []
   },
   "outputs": [
    {
     "name": "stdout",
     "output_type": "stream",
     "text": [
      "course details data scienc masters\n",
      "course details web dev\n"
     ]
    }
   ],
   "source": [
    "Pwskills3.cours_details=classmethod(cours_details)\n",
    "Pwskills3.cours_details('data scienc masters')\n",
    "pw4_obj=Pwskills3('priyanka','mumbai')\n",
    "pw4_obj.cours_details('web dev')"
   ]
  },
  {
   "cell_type": "code",
   "execution_count": 59,
   "id": "55372c52-8033-43c2-bff8-d671daefb449",
   "metadata": {},
   "outputs": [],
   "source": [
    "# delete "
   ]
  },
  {
   "cell_type": "code",
   "execution_count": 60,
   "id": "440d7ecd-ee54-4e6f-a38a-1120dcdf338a",
   "metadata": {
    "tags": []
   },
   "outputs": [],
   "source": [
    "# define a class\n",
    "class Pwskills4:\n",
    "    mobile_number=3698521470\n",
    "    # a cunstructor\n",
    "    def __init__(self, name, city):\n",
    "        # variables\n",
    "        self.name=name\n",
    "        self.city=city\n",
    "     #class methods \n",
    "    @classmethod\n",
    "    def chaing_number(cls,mobile):\n",
    "        Pwskills4.mobile_number=mobile\n",
    "    \n",
    "    @classmethod   # decorator\n",
    "    def details(cls, name, city):  #function overloading possible using @classmethod\n",
    "        return cls(name,city)\n",
    "        \n",
    "     # Instance method   \n",
    "    def student_details(self):\n",
    "        print(self.name, self.city, Pwskills4.mobile_number)"
   ]
  },
  {
   "cell_type": "code",
   "execution_count": 61,
   "id": "bdb93eec-3088-4596-a1e9-30db19c2e604",
   "metadata": {
    "tags": []
   },
   "outputs": [],
   "source": [
    "del Pwskills4.chaing_number   # delete chaing_number fun from class\n"
   ]
  },
  {
   "cell_type": "code",
   "execution_count": 62,
   "id": "a7145d7c-fcce-4e48-822b-ce517e6d64eb",
   "metadata": {
    "tags": []
   },
   "outputs": [
    {
     "ename": "AttributeError",
     "evalue": "type object 'Pwskills4' has no attribute 'chaing_number'",
     "output_type": "error",
     "traceback": [
      "\u001b[1;31m---------------------------------------------------------------------------\u001b[0m",
      "\u001b[1;31mAttributeError\u001b[0m                            Traceback (most recent call last)",
      "Cell \u001b[1;32mIn[62], line 1\u001b[0m\n\u001b[1;32m----> 1\u001b[0m \u001b[43mPwskills4\u001b[49m\u001b[38;5;241;43m.\u001b[39;49m\u001b[43mchaing_number\u001b[49m(\u001b[38;5;241m147258369\u001b[39m)\n",
      "\u001b[1;31mAttributeError\u001b[0m: type object 'Pwskills4' has no attribute 'chaing_number'"
     ]
    }
   ],
   "source": [
    "Pwskills4.chaing_number(147258369)"
   ]
  },
  {
   "cell_type": "code",
   "execution_count": 63,
   "id": "538d6d44-be2d-4cc6-bc7c-260b467eea73",
   "metadata": {
    "tags": []
   },
   "outputs": [],
   "source": [
    "delattr(Pwskills4, 'details') #  delete details fun from class"
   ]
  },
  {
   "cell_type": "code",
   "execution_count": 64,
   "id": "c27776e2-595c-4293-970e-5b5cd3dee9cb",
   "metadata": {
    "tags": []
   },
   "outputs": [
    {
     "data": {
      "text/plain": [
       "3698521470"
      ]
     },
     "execution_count": 64,
     "metadata": {},
     "output_type": "execute_result"
    }
   ],
   "source": [
    "Pwskills4.mobile_number"
   ]
  },
  {
   "cell_type": "code",
   "execution_count": 65,
   "id": "ffc1b4d4-91c6-495c-90ba-f8b3b952966b",
   "metadata": {
    "tags": []
   },
   "outputs": [],
   "source": [
    "delattr(Pwskills4,'mobile_number')  # delete variable name from class"
   ]
  },
  {
   "cell_type": "code",
   "execution_count": 66,
   "id": "89a6ef03-ea74-44be-afe9-b0c43a7545c7",
   "metadata": {},
   "outputs": [],
   "source": [
    "delattr(Pwskills4,'student_details')  # delete Instance method  from class"
   ]
  },
  {
   "cell_type": "code",
   "execution_count": null,
   "id": "6a2bd6ad-bbde-482c-9b87-b794513fd18f",
   "metadata": {},
   "outputs": [],
   "source": []
  },
  {
   "cell_type": "markdown",
   "id": "8aeb9043-b652-473e-abc9-1940957cadd5",
   "metadata": {},
   "source": [
    "# Static method\n",
    "\n",
    "1. Static method gives spacial power to the function. @staticmethod  always available For many no. of objects in simillar way means internanlly it will not creating as diffrent difrrent repleka of function with respect to objects. So that memory consuption will be less.\n",
    "\n",
    "\n",
    "2. statict method is directly access to the class so it will accesible through diff. diff. objects"
   ]
  },
  {
   "cell_type": "code",
   "execution_count": 67,
   "id": "9d6f33b4-a3b8-453c-9f18-c85e0c2512e3",
   "metadata": {},
   "outputs": [],
   "source": [
    "# for more no of object this below  code will consume much memory\n",
    "## the variables are always spacific to object"
   ]
  },
  {
   "cell_type": "code",
   "execution_count": 68,
   "id": "bb010880-e672-448a-acbb-d21e5f44ace7",
   "metadata": {
    "tags": []
   },
   "outputs": [
    {
     "name": "stdout",
     "output_type": "stream",
     "text": [
      "sudh varoda 8673234685\n",
      "['krish', 'sudhanshu']\n",
      "['sudhanshu', 'krish']\n",
      "['sudhanshu', 'krish']\n"
     ]
    }
   ],
   "source": [
    "class Pwskills5:\n",
    "    def student_details(self, name, city, number):   #class  Instance methods \n",
    "        print(name, city, number) # this variable spacific to object \n",
    "    @staticmethod\n",
    "    def mentro_class(list_mentor):\n",
    "        print(list_mentor)\n",
    "        \n",
    "    def mentor(self,mentor_list):  #@     Instance methods \n",
    "        print(mentor_list)\n",
    "\n",
    "# object\n",
    "pw1=Pwskills5()\n",
    "pw1.student_details('sudh','varoda',8673234685)\n",
    "\n",
    "# how to call static methods{ class_name.static_method_name(arguments)  }\n",
    "Pwskills5.mentro_class(['krish','sudhanshu'])\n",
    "\n",
    "#how to access #@ function\n",
    "pw2=Pwskills5()\n",
    "pw2.mentor(['sudhanshu','krish'])\n",
    "\n",
    "pw1.mentro_class(['sudhanshu','krish'])\n"
   ]
  },
  {
   "cell_type": "markdown",
   "id": "0d6b958b-3a33-4923-8666-46a9ed863d45",
   "metadata": {},
   "source": [
    "# how to access static method in to the instance methods and class method"
   ]
  },
  {
   "cell_type": "code",
   "execution_count": 69,
   "id": "d4afe8b7-b9e6-4640-bd12-21241e52ee24",
   "metadata": {
    "tags": []
   },
   "outputs": [
    {
     "name": "stdout",
     "output_type": "stream",
     "text": [
      "access/call with a objectn \n",
      "gargi gargi@gmail.com 9635821470\n",
      "\n",
      " access/call with static methode \n",
      "['Anita', 'Anita@gmail.com', 9635821470]\n",
      "\n",
      " access/ call with class methods\n",
      "['nutan', 'roshan']\n",
      "['nutan@gmail.com', 'roshan@gnail.com']\n",
      "\n",
      " Directlly access the static method\n",
      "['nutan@gamil.com', 'bagde@gmail.com']\n"
     ]
    }
   ],
   "source": [
    "\n",
    "class Pwskills6:\n",
    "    def student_details(self, name, mail, number):   #class  Instance methods \n",
    "        print(name, mail, number) # this variable spacific to object \n",
    "        \n",
    "    @staticmethod\n",
    "    def mentor_mail_id(mail_id):\n",
    "        print(mail_id)\n",
    "    \n",
    "    @staticmethod\n",
    "    def mentro_class(list_mentor):\n",
    "        print(list_mentor)\n",
    "        \n",
    "        # how to call 1 static method in another static method .\n",
    "        Pwskills6.mentor_mail_id(['nutan@gmail.com','roshan@gnail.com'])\n",
    "               \n",
    "    @classmethod\n",
    "    def class_name(cls,class_name):\n",
    "        cls.mentro_class(['nutan','roshan']) # how to call static method in class method.\n",
    "        \n",
    "   \n",
    "    def mentor(self,mentor_list):  #Instance methods \n",
    "        print(mentor_list)\n",
    "        self.mentro_class(['krish', 'sudhanshu']) # how to access static method in to the instance methods  \n",
    "\n",
    "#access/call with a object\n",
    "print('access/call with a objectn ')\n",
    "obj_name=Pwskills6()\n",
    "obj_name.student_details('gargi','gargi@gmail.com',9635821470)\n",
    "\n",
    "#access/call with static methode\n",
    "print('\\n access/call with static methode ')\n",
    "obj_name.mentor_mail_id(['Anita','Anita@gmail.com',9635821470])\n",
    "\n",
    "#access/ call with class methods\n",
    "print('\\n access/ call with class methods')\n",
    "obj_name.class_name('my data')\n",
    "\n",
    "#Directlly access the static method\n",
    "print('\\n Directlly access the static method')\n",
    "Pwskills6.mentor_mail_id(['nutan@gamil.com', 'bagde@gmail.com'])"
   ]
  },
  {
   "cell_type": "code",
   "execution_count": 70,
   "id": "7d8a7e2b-ce06-45e9-9100-ee784d6919f1",
   "metadata": {},
   "outputs": [
    {
     "ename": "SyntaxError",
     "evalue": "invalid syntax (2628888859.py, line 1)",
     "output_type": "error",
     "traceback": [
      "\u001b[1;36m  Cell \u001b[1;32mIn[70], line 1\u001b[1;36m\u001b[0m\n\u001b[1;33m    obj_name.\u001b[0m\n\u001b[1;37m             ^\u001b[0m\n\u001b[1;31mSyntaxError\u001b[0m\u001b[1;31m:\u001b[0m invalid syntax\n"
     ]
    }
   ],
   "source": [
    "obj_name."
   ]
  },
  {
   "cell_type": "code",
   "execution_count": null,
   "id": "e38933fd-d766-4ec0-b4bd-b45b7d81b2c9",
   "metadata": {},
   "outputs": [],
   "source": []
  },
  {
   "cell_type": "markdown",
   "id": "66f2060d-ecb8-494d-9d31-60429c3283a4",
   "metadata": {},
   "source": [
    "# Special (Magic Dunder) Methods"
   ]
  },
  {
   "cell_type": "code",
   "execution_count": 71,
   "id": "b9ee35a1-a7b4-40d0-8ebe-9b4b93d6a06f",
   "metadata": {
    "tags": []
   },
   "outputs": [
    {
     "data": {
      "text/plain": [
       "['__abs__',\n",
       " '__add__',\n",
       " '__and__',\n",
       " '__bool__',\n",
       " '__ceil__',\n",
       " '__class__',\n",
       " '__delattr__',\n",
       " '__dir__',\n",
       " '__divmod__',\n",
       " '__doc__',\n",
       " '__eq__',\n",
       " '__float__',\n",
       " '__floor__',\n",
       " '__floordiv__',\n",
       " '__format__',\n",
       " '__ge__',\n",
       " '__getattribute__',\n",
       " '__getnewargs__',\n",
       " '__getstate__',\n",
       " '__gt__',\n",
       " '__hash__',\n",
       " '__index__',\n",
       " '__init__',\n",
       " '__init_subclass__',\n",
       " '__int__',\n",
       " '__invert__',\n",
       " '__le__',\n",
       " '__lshift__',\n",
       " '__lt__',\n",
       " '__mod__',\n",
       " '__mul__',\n",
       " '__ne__',\n",
       " '__neg__',\n",
       " '__new__',\n",
       " '__or__',\n",
       " '__pos__',\n",
       " '__pow__',\n",
       " '__radd__',\n",
       " '__rand__',\n",
       " '__rdivmod__',\n",
       " '__reduce__',\n",
       " '__reduce_ex__',\n",
       " '__repr__',\n",
       " '__rfloordiv__',\n",
       " '__rlshift__',\n",
       " '__rmod__',\n",
       " '__rmul__',\n",
       " '__ror__',\n",
       " '__round__',\n",
       " '__rpow__',\n",
       " '__rrshift__',\n",
       " '__rshift__',\n",
       " '__rsub__',\n",
       " '__rtruediv__',\n",
       " '__rxor__',\n",
       " '__setattr__',\n",
       " '__sizeof__',\n",
       " '__str__',\n",
       " '__sub__',\n",
       " '__subclasshook__',\n",
       " '__truediv__',\n",
       " '__trunc__',\n",
       " '__xor__',\n",
       " 'as_integer_ratio',\n",
       " 'bit_count',\n",
       " 'bit_length',\n",
       " 'conjugate',\n",
       " 'denominator',\n",
       " 'from_bytes',\n",
       " 'imag',\n",
       " 'numerator',\n",
       " 'real',\n",
       " 'to_bytes']"
      ]
     },
     "execution_count": 71,
     "metadata": {},
     "output_type": "execute_result"
    }
   ],
   "source": [
    "# it will give all function which is associated with the integer internally. \n",
    "# this is called magic function or dunder methods or magic methods\n",
    "dir(int)"
   ]
  },
  {
   "cell_type": "code",
   "execution_count": 72,
   "id": "d6bc86e2-b5f7-4b4d-b8ec-8cdfbf8607ba",
   "metadata": {
    "tags": []
   },
   "outputs": [
    {
     "data": {
      "text/plain": [
       "16"
      ]
     },
     "execution_count": 72,
     "metadata": {},
     "output_type": "execute_result"
    }
   ],
   "source": [
    "a=10\n",
    "a+6"
   ]
  },
  {
   "cell_type": "code",
   "execution_count": 73,
   "id": "55b75b0f-ac0f-4643-a6c6-6e2ce56b33f5",
   "metadata": {
    "tags": []
   },
   "outputs": [
    {
     "data": {
      "text/plain": [
       "16"
      ]
     },
     "execution_count": 73,
     "metadata": {},
     "output_type": "execute_result"
    }
   ],
   "source": [
    "a.__add__(6) # this is dunder method always call by system"
   ]
  },
  {
   "cell_type": "code",
   "execution_count": 74,
   "id": "4f504305-adf9-4a09-a242-459bc0a2252c",
   "metadata": {
    "tags": []
   },
   "outputs": [
    {
     "data": {
      "text/plain": [
       "['__add__',\n",
       " '__class__',\n",
       " '__contains__',\n",
       " '__delattr__',\n",
       " '__dir__',\n",
       " '__doc__',\n",
       " '__eq__',\n",
       " '__format__',\n",
       " '__ge__',\n",
       " '__getattribute__',\n",
       " '__getitem__',\n",
       " '__getnewargs__',\n",
       " '__getstate__',\n",
       " '__gt__',\n",
       " '__hash__',\n",
       " '__init__',\n",
       " '__init_subclass__',\n",
       " '__iter__',\n",
       " '__le__',\n",
       " '__len__',\n",
       " '__lt__',\n",
       " '__mod__',\n",
       " '__mul__',\n",
       " '__ne__',\n",
       " '__new__',\n",
       " '__reduce__',\n",
       " '__reduce_ex__',\n",
       " '__repr__',\n",
       " '__rmod__',\n",
       " '__rmul__',\n",
       " '__setattr__',\n",
       " '__sizeof__',\n",
       " '__str__',\n",
       " '__subclasshook__',\n",
       " 'capitalize',\n",
       " 'casefold',\n",
       " 'center',\n",
       " 'count',\n",
       " 'encode',\n",
       " 'endswith',\n",
       " 'expandtabs',\n",
       " 'find',\n",
       " 'format',\n",
       " 'format_map',\n",
       " 'index',\n",
       " 'isalnum',\n",
       " 'isalpha',\n",
       " 'isascii',\n",
       " 'isdecimal',\n",
       " 'isdigit',\n",
       " 'isidentifier',\n",
       " 'islower',\n",
       " 'isnumeric',\n",
       " 'isprintable',\n",
       " 'isspace',\n",
       " 'istitle',\n",
       " 'isupper',\n",
       " 'join',\n",
       " 'ljust',\n",
       " 'lower',\n",
       " 'lstrip',\n",
       " 'maketrans',\n",
       " 'partition',\n",
       " 'removeprefix',\n",
       " 'removesuffix',\n",
       " 'replace',\n",
       " 'rfind',\n",
       " 'rindex',\n",
       " 'rjust',\n",
       " 'rpartition',\n",
       " 'rsplit',\n",
       " 'rstrip',\n",
       " 'split',\n",
       " 'splitlines',\n",
       " 'startswith',\n",
       " 'strip',\n",
       " 'swapcase',\n",
       " 'title',\n",
       " 'translate',\n",
       " 'upper',\n",
       " 'zfill']"
      ]
     },
     "execution_count": 74,
     "metadata": {},
     "output_type": "execute_result"
    }
   ],
   "source": [
    "dir(str)"
   ]
  },
  {
   "cell_type": "code",
   "execution_count": 75,
   "id": "a5c16411-dc65-436d-ac31-301011facc81",
   "metadata": {
    "tags": []
   },
   "outputs": [
    {
     "name": "stdout",
     "output_type": "stream",
     "text": [
      "this is my init\n"
     ]
    }
   ],
   "source": [
    "class pwskills:\n",
    "    \n",
    "    def __init__(self):\n",
    "        print('this is my init')\n",
    "        \n",
    "pw_obj=pwskills()"
   ]
  },
  {
   "cell_type": "code",
   "execution_count": 76,
   "id": "aeba37eb-59bc-4b0b-9920-f40be6f805cc",
   "metadata": {
    "tags": []
   },
   "outputs": [
    {
     "name": "stdout",
     "output_type": "stream",
     "text": [
      "this is my new\n"
     ]
    }
   ],
   "source": [
    "class pwskills:\n",
    "    \n",
    "    def __new__(cls):\n",
    "        print('this is my new')\n",
    "    \n",
    "    def __init__(self):\n",
    "        print('this is my init')\n",
    "        \n",
    "pw_obj=pwskills() # here befor __init__ , __new__ nethod will callewd by internally\n",
    "\n",
    "# becouse __init__ has been used to create an object and assign a data for a pericular object to a class and internaly \n",
    "# __init__ call __new__"
   ]
  },
  {
   "cell_type": "code",
   "execution_count": 77,
   "id": "59e60bfe-9497-45c7-b4f1-047c9c052ed3",
   "metadata": {
    "tags": []
   },
   "outputs": [
    {
     "data": {
      "text/plain": [
       "<__main__.pwskills1 at 0x1b381232450>"
      ]
     },
     "execution_count": 77,
     "metadata": {},
     "output_type": "execute_result"
    }
   ],
   "source": [
    "class pwskills1:\n",
    "    def __init__(self):\n",
    "        self.mobile_number=9966338855\n",
    "    def __str__(self):\n",
    "        return 'this magic method which will print something for object'\n",
    "        \n",
    "pw1=pwskills1()\n",
    "pw1 \n"
   ]
  },
  {
   "cell_type": "code",
   "execution_count": 78,
   "id": "13ba6ac6-84af-4615-a62b-bc40b8c44f8a",
   "metadata": {
    "tags": []
   },
   "outputs": [
    {
     "name": "stdout",
     "output_type": "stream",
     "text": [
      "this magic method which will print something for object\n"
     ]
    }
   ],
   "source": [
    "print(pw1)"
   ]
  },
  {
   "cell_type": "markdown",
   "id": "ea1bfea9-dd56-46b1-8665-96a2c192feb7",
   "metadata": {
    "tags": []
   },
   "source": [
    "#  Property Decorators Getters, Setters, And Deletes"
   ]
  },
  {
   "cell_type": "code",
   "execution_count": 79,
   "id": "eed9f180-fa40-49f4-863d-e2a0204645e3",
   "metadata": {
    "tags": []
   },
   "outputs": [
    {
     "data": {
      "text/plain": [
       "'data science masters'"
      ]
     },
     "execution_count": 79,
     "metadata": {},
     "output_type": "execute_result"
    }
   ],
   "source": [
    "class pwskills_1:\n",
    "    def __init__(self, course_price, course_name):\n",
    "        self.__course_price=course_price #private variable\n",
    "        self.course_name=course_name   #publice variable\n",
    "    \n",
    "    @property # decoretors To meke private variable accessible to outer world\n",
    "    def course_price_access(self):\n",
    "        return self.__course_price\n",
    "    \n",
    "    # how to give access to the user to modify/set the variable (only some)\n",
    "    @course_price_access.setter\n",
    "    def course_price_set(self, price):\n",
    "        if price<=3500:\n",
    "            pass\n",
    "        else:\n",
    "            self.__course_price = price\n",
    "            \n",
    "    # allowe user to delete private/ protected variable\n",
    "    @course_price_access.deleter\n",
    "    def course_price_del(self):\n",
    "        del self.__course_price\n",
    "        \n",
    "        \n",
    "pw1=pwskills_1(3500,'data science masters')\n",
    "pw1.course_name "
   ]
  },
  {
   "cell_type": "code",
   "execution_count": 80,
   "id": "5dd2f631-cedc-41c8-aff8-f460cc935aa4",
   "metadata": {
    "tags": []
   },
   "outputs": [
    {
     "data": {
      "text/plain": [
       "3500"
      ]
     },
     "execution_count": 80,
     "metadata": {},
     "output_type": "execute_result"
    }
   ],
   "source": [
    "pw1._pwskills_1__course_price"
   ]
  },
  {
   "cell_type": "code",
   "execution_count": 81,
   "id": "6566a62f-6ec2-435e-85e3-5426d9628566",
   "metadata": {
    "tags": []
   },
   "outputs": [
    {
     "data": {
      "text/plain": [
       "3500"
      ]
     },
     "execution_count": 81,
     "metadata": {},
     "output_type": "execute_result"
    }
   ],
   "source": [
    "pw1.course_price_access"
   ]
  },
  {
   "cell_type": "code",
   "execution_count": 82,
   "id": "fd66e9f5-3fee-44f7-94e7-f1bf5dcd4eeb",
   "metadata": {
    "tags": []
   },
   "outputs": [
    {
     "data": {
      "text/plain": [
       "3500"
      ]
     },
     "execution_count": 82,
     "metadata": {},
     "output_type": "execute_result"
    }
   ],
   "source": [
    "#how to give access to the user to modify the variable (only some)\n",
    "pw1.course_price_set=2365\n",
    "pw1._pwskills_1__course_price \n",
    "\n",
    "#  if price<=3500:"
   ]
  },
  {
   "cell_type": "code",
   "execution_count": 83,
   "id": "262a1b2f-a524-462f-a8fa-99c38eab2e45",
   "metadata": {
    "tags": []
   },
   "outputs": [
    {
     "data": {
      "text/plain": [
       "4000"
      ]
     },
     "execution_count": 83,
     "metadata": {},
     "output_type": "execute_result"
    }
   ],
   "source": [
    "#how to give access to the user to modify the variable (only some)\n",
    "pw1.course_price_set=4000\n",
    "pw1.course_price_access"
   ]
  },
  {
   "cell_type": "code",
   "execution_count": 84,
   "id": "8a3328b7-7596-497a-9efb-9039c0866c54",
   "metadata": {
    "tags": []
   },
   "outputs": [],
   "source": [
    "# allowe user to delete private/ protected variable\n",
    "del pw1.course_price_del"
   ]
  },
  {
   "cell_type": "code",
   "execution_count": 86,
   "id": "c72b6215-3d99-4282-a6c6-951b064f54f6",
   "metadata": {
    "tags": []
   },
   "outputs": [
    {
     "ename": "AttributeError",
     "evalue": "'pwskills_1' object has no attribute '_pwskills_1__course_price'",
     "output_type": "error",
     "traceback": [
      "\u001b[1;31m---------------------------------------------------------------------------\u001b[0m",
      "\u001b[1;31mAttributeError\u001b[0m                            Traceback (most recent call last)",
      "Cell \u001b[1;32mIn[86], line 1\u001b[0m\n\u001b[1;32m----> 1\u001b[0m \u001b[43mpw1\u001b[49m\u001b[38;5;241;43m.\u001b[39;49m\u001b[43mcourse_price_access\u001b[49m \u001b[38;5;66;03m# erroe due to deleted files\u001b[39;00m\n",
      "Cell \u001b[1;32mIn[79], line 8\u001b[0m, in \u001b[0;36mpwskills_1.course_price_access\u001b[1;34m(self)\u001b[0m\n\u001b[0;32m      6\u001b[0m \u001b[38;5;129m@property\u001b[39m \u001b[38;5;66;03m# decoretors To meke private variable accessible to outer world\u001b[39;00m\n\u001b[0;32m      7\u001b[0m \u001b[38;5;28;01mdef\u001b[39;00m \u001b[38;5;21mcourse_price_access\u001b[39m(\u001b[38;5;28mself\u001b[39m):\n\u001b[1;32m----> 8\u001b[0m     \u001b[38;5;28;01mreturn\u001b[39;00m \u001b[38;5;28;43mself\u001b[39;49m\u001b[38;5;241;43m.\u001b[39;49m\u001b[43m__course_price\u001b[49m\n",
      "\u001b[1;31mAttributeError\u001b[0m: 'pwskills_1' object has no attribute '_pwskills_1__course_price'"
     ]
    }
   ],
   "source": [
    "pw1.course_price_access # erroe due to deleted files"
   ]
  },
  {
   "cell_type": "code",
   "execution_count": null,
   "id": "e356007d-f335-48e9-89d0-5d0d76762879",
   "metadata": {},
   "outputs": [],
   "source": []
  }
 ],
 "metadata": {
  "kernelspec": {
   "display_name": "Python 3 (ipykernel)",
   "language": "python",
   "name": "python3"
  },
  "language_info": {
   "codemirror_mode": {
    "name": "ipython",
    "version": 3
   },
   "file_extension": ".py",
   "mimetype": "text/x-python",
   "name": "python",
   "nbconvert_exporter": "python",
   "pygments_lexer": "ipython3",
   "version": "3.11.1"
  }
 },
 "nbformat": 4,
 "nbformat_minor": 5
}
