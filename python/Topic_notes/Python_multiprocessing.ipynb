{
 "cells": [
  {
   "cell_type": "markdown",
   "id": "4ae96f71-9cc2-4c50-81a3-14e96c2df0c1",
   "metadata": {},
   "source": [
    "What is multiprocessing?\n",
    "\n",
    "Multiprocessing refers to the ability of a system to support more than one processor at the same time. Applications in a multiprocessing system are broken to smaller routines that run independently. The operating system allocates these threads to the processors improving performance of the system."
   ]
  },
  {
   "cell_type": "markdown",
   "id": "33f21934-fffe-43fd-8e1f-2ad73ac394e6",
   "metadata": {},
   "source": [
    "1. shared resourcess between two processer we can utilise it\n",
    "2. multi processing in parallel system\n",
    "3. latancy of programm will redusess\n",
    "4. multiplel instance can be run eziest possible way "
   ]
  },
  {
   "cell_type": "code",
   "execution_count": 8,
   "id": "b1abadf7-d00a-496b-a18a-4e72b393cb73",
   "metadata": {
    "tags": []
   },
   "outputs": [
    {
     "name": "stdout",
     "output_type": "stream",
     "text": [
      "this is my main programm\n"
     ]
    }
   ],
   "source": [
    "import multiprocessing\n",
    "import os\n",
    "\n",
    "def test9():\n",
    "    print('this is my multiprocessing programm')\n",
    "    \n",
    "if __name__  ==  '__main__':\n",
    "    m = multiprocessing.Process(target=test9)\n",
    "    print('this is my main programm')\n",
    "    m.start()\n",
    "    #m.join()\n",
    "\n",
    "    "
   ]
  },
  {
   "cell_type": "code",
   "execution_count": 3,
   "id": "33ad9c74-4132-46ae-8a90-51e790fc85ff",
   "metadata": {
    "tags": []
   },
   "outputs": [
    {
     "name": "stdout",
     "output_type": "stream",
     "text": [
      "this is my multiprocessing programm\n"
     ]
    }
   ],
   "source": [
    "test1()"
   ]
  },
  {
   "cell_type": "code",
   "execution_count": 4,
   "id": "deb7d142-1de5-4f3e-9926-56802ce4bf6a",
   "metadata": {},
   "outputs": [
    {
     "name": "stdout",
     "output_type": "stream",
     "text": [
      "[]\n"
     ]
    }
   ],
   "source": [
    "import multiprocessing\n",
    "import os\n",
    "\n",
    "def square(n):\n",
    "    return n**2\n",
    "    \n",
    "if __name__ == '__main__':\n",
    "    with multiprocessing.Pool(processes=5) as pool:\n",
    "        print(pool.map(square,[]))\n"
   ]
  },
  {
   "cell_type": "code",
   "execution_count": null,
   "id": "4300795f-f90d-4ea4-91bf-dc73cbb66d34",
   "metadata": {},
   "outputs": [
    {
     "name": "stdout",
     "output_type": "stream",
     "text": [
      "hi\n"
     ]
    }
   ],
   "source": [
    "from multiprocessing import Pool\n",
    "\n",
    "def f(x):\n",
    "    return x**2\n",
    "if __name__ == '__main__':\n",
    "    with Pool(5) as p:\n",
    "        print(p.map(f, [1, 2, 3]))"
   ]
  },
  {
   "cell_type": "code",
   "execution_count": null,
   "id": "78ddbc8c-aadf-40b3-9797-836c67e9b036",
   "metadata": {},
   "outputs": [],
   "source": [
    "print('hi')"
   ]
  },
  {
   "cell_type": "code",
   "execution_count": 2,
   "id": "4e4d2e87-131b-49a2-ad95-123fa0709ee4",
   "metadata": {},
   "outputs": [
    {
     "name": "stdout",
     "output_type": "stream",
     "text": [
      "[2, 3, 6, 7, 8, 8, 9, 3, 3, 3]\n"
     ]
    }
   ],
   "source": []
  },
  {
   "cell_type": "code",
   "execution_count": null,
   "id": "3621a3e9-6ba3-4714-99ae-826a105e93d5",
   "metadata": {},
   "outputs": [],
   "source": []
  }
 ],
 "metadata": {
  "kernelspec": {
   "display_name": "Python 3 (ipykernel)",
   "language": "python",
   "name": "python3"
  },
  "language_info": {
   "codemirror_mode": {
    "name": "ipython",
    "version": 3
   },
   "file_extension": ".py",
   "mimetype": "text/x-python",
   "name": "python",
   "nbconvert_exporter": "python",
   "pygments_lexer": "ipython3",
   "version": "3.11.1"
  }
 },
 "nbformat": 4,
 "nbformat_minor": 5
}
