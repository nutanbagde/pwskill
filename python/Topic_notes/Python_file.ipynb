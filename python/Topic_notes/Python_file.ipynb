{
 "cells": [
  {
   "cell_type": "markdown",
   "id": "b0d63876-3e08-4496-b48f-85e27ca82ad0",
   "metadata": {},
   "source": [
    "Signature:\n",
    "\n",
    "open(\n",
    "    file,\n",
    "    mode='r',\n",
    "    buffering=-1,\n",
    "    encoding=None,\n",
    "    errors=None,\n",
    "    newline=None,\n",
    "    closefd=True,\n",
    "    opener=None,\n",
    ")\n",
    "\n",
    "Docstring:\n",
    "Open file and return a stream.  Raise OSError upon failure.\n",
    "\n",
    "file is either a text or byte string giving the name (and the path\n",
    "if the file isn't in the current working directory) of the file to\n",
    "be opened or an integer file descriptor of the file to be\n",
    "wrapped. (If a file descriptor is given, it is closed when the\n",
    "returned I/O object is closed, unless closefd is set to False.)\n",
    "\n",
    "mode is an optional string that specifies the mode in which the file\n",
    "is opened. It defaults to 'r' which means open for reading in text\n",
    "mode.  Other common values are 'w' for writing (truncating the file if\n",
    "it already exists), 'x' for creating and writing to a new file, and\n",
    "'a' for appending (which on some Unix systems, means that all writes\n",
    "append to the end of the file regardless of the current seek position).\n",
    "In text mode, if encoding is not specified the encoding used is platform\n",
    "dependent: locale.getencoding() is called to get the current locale encoding.\n",
    "(For reading and writing raw bytes use binary mode and leave encoding\n",
    "unspecified.) The available modes are:\n",
    "\n",
    "==========================================================\n",
    "|Character| Meaning|\n",
    "|:-:|:-:|                                                     \n",
    "|'r'       |open for reading (default)|\n",
    "|'w'       |open for writing, truncating the file first(delet privious data first)|\n",
    "|'x'       |create a new file and open it for writing|\n",
    "|'a'       |open for writing, appending to the end of the file if it exists|\n",
    "|'b'       |binary mode|\n",
    "|'t'       |text mode (default)|\n",
    "|'+'       |open a disk file for updating (reading and writing)|\n",
    "\n",
    "===================================================================\n",
    "\n",
    "newline controls how universal newlines works (it only applies to text\n",
    "mode). It can be None, '', '\\n', '\\r', and '\\r\\n'.  It works as\n",
    "follows:\n",
    "\n",
    "\n"
   ]
  },
  {
   "cell_type": "code",
   "execution_count": null,
   "id": "2aa077f1-4b33-4747-89cc-d48c4f5848ac",
   "metadata": {
    "tags": []
   },
   "outputs": [],
   "source": []
  },
  {
   "cell_type": "code",
   "execution_count": null,
   "id": "ae379380-5537-474a-b57c-f5d193474f98",
   "metadata": {},
   "outputs": [],
   "source": []
  },
  {
   "cell_type": "markdown",
   "id": "7f4b40ac-c66d-4d83-893f-cd256fe2e8fd",
   "metadata": {
    "tags": []
   },
   "source": [
    "Python File Methods\n",
    "There are various methods available with the file object. Some of them have been used in the above examples.\n",
    "\n",
    "Here is the complete list of methods in text mode with a brief description:\n",
    "\n",
    "|Sr.No.|Method|\tDescription|\n",
    "|:-:|:-:|:-:|\n",
    "|1|close()|\tCloses an opened file. It has no effect if the file is already closed.|\n",
    "|2|detach()|\tSeparates the underlying binary buffer from the TextIOBase and returns it.|\n",
    "|3|fileno()|\tReturns an integer number (file descriptor) of the file.|\n",
    "|4|flush()|\tFlushes the write buffer of the file stream.|\n",
    "|5|isatty()|\tReturns True if the file stream is interactive.|\n",
    "|6|read(n)|\tReads at most n characters from the file. Reads till end of file if it is negative or None.|\n",
    "|7|readable()|\tReturns True if the file stream can be read from.|\n",
    "|8|readline(n=-1)|\tReads and returns one line from the file. Reads in at most n bytes if specified.|\n",
    "|9|readlines(n=-1)|\tReads and returns a list of lines from the file. Reads in at most n bytes/characters if specified.|\n",
    "|10|seek(offset,from=SEEK_SET)|\tChanges the file position to offset bytes, in reference to from (start, current, end).|\n",
    "|11|seekable()|\tReturns True if the file stream supports random access.|\n",
    "|12|tell()|\tReturns an integer that represents the current position of the file's object.|\n",
    "|13|truncate(size=None)|\tResizes the file stream to size bytes. If size is not specified, resizes to current location.|\n",
    "|14|writable()|\tReturns True if the file stream can be written to.|\n",
    "|15|write(s)|\tWrites the string s to the file and returns the number of characters written.|\n",
    "|16|writelines(lines)|\tWrites a list of lines to the file.|"
   ]
  },
  {
   "cell_type": "code",
   "execution_count": null,
   "id": "d919caa5-65f3-46f7-a4a2-7e9767860ded",
   "metadata": {},
   "outputs": [],
   "source": []
  },
  {
   "cell_type": "code",
   "execution_count": 1,
   "id": "4ec4b8e6-0c1a-4075-a70e-3a38cb9f0f14",
   "metadata": {
    "tags": []
   },
   "outputs": [
    {
     "data": {
      "text/plain": [
       "'C:\\\\Users\\\\meshr\\\\OneDrive\\\\Desktop\\\\Data_Science_Notes\\\\PW_skill\\\\Python\\\\Aashus_class_notes'"
      ]
     },
     "execution_count": 1,
     "metadata": {},
     "output_type": "execute_result"
    }
   ],
   "source": [
    "pwd"
   ]
  },
  {
   "cell_type": "code",
   "execution_count": 2,
   "id": "eccb8bbb-c313-4155-a2d5-90733375b731",
   "metadata": {
    "tags": []
   },
   "outputs": [
    {
     "name": "stdout",
     "output_type": "stream",
     "text": [
      " Volume in drive C has no label.\n",
      " Volume Serial Number is D63B-7631\n",
      "\n",
      " Directory of C:\\Users\\meshr\\OneDrive\\Desktop\\Data_Science_Notes\\PW_skill\\Python\\Aashus_class_notes\n",
      "\n",
      "13-03-2023  15:31    <DIR>          .\n",
      "13-03-2023  15:31    <DIR>          ..\n",
      "13-03-2023  14:36    <DIR>          .ipynb_checkpoints\n",
      "12-03-2023  16:25             6,845 4th_Feb_Doubt_Session.ipynb\n",
      "04-01-2023  19:57            10,289 How to Learn Data Science For Free.docx\n",
      "10-02-2023  18:53            18,787 Python_control_flow.ipynb\n",
      "17-02-2023  08:54            31,756 Python_Dictionary.ipynb\n",
      "13-03-2023  15:31            23,745 Python_file.ipynb\n",
      "18-02-2023  22:45            26,360 Python_function.ipynb\n",
      "26-02-2023  15:58            17,385 python_lambda_map_reduceFilter.ipynb\n",
      "15-02-2023  00:57            25,158 Python_list.ipynb\n",
      "12-03-2023  12:24            63,381 python_oops.ipynb\n",
      "11-02-2023  18:02            11,731 Python_set.ipynb\n",
      "18-02-2023  16:13            56,877 Python_Strings.ipynb\n",
      "11-02-2023  10:51            17,144 Python_Tuple.ipynb\n",
      "10-02-2023  18:54             4,420 Python_variable_assignment.ipynb\n",
      "13-03-2023  12:47               124 test.json\n",
      "13-03-2023  15:28               281 test.log\n",
      "13-03-2023  12:46               327 test.txt\n",
      "13-03-2023  13:36               129 test1.csv\n",
      "13-03-2023  13:37                 3 test2.bin\n",
      "13-03-2023  13:51               540 test4.txt\n",
      "13-03-2023  13:01             1,706 Untitled.ipynb\n",
      "              20 File(s)        316,988 bytes\n",
      "               3 Dir(s)  49,692,377,088 bytes free\n"
     ]
    }
   ],
   "source": [
    "ls"
   ]
  },
  {
   "cell_type": "code",
   "execution_count": 3,
   "id": "679bf6fb-9fde-42ed-9efd-8f1e76c41124",
   "metadata": {
    "tags": []
   },
   "outputs": [],
   "source": [
    "# here we open the file and truncating the data(by deleting priviouse data)\n",
    "\n",
    "f = open('test.txt', 'w' ) \n",
    "f.write('This is my first write operation in this file. ')\n",
    "f.close()"
   ]
  },
  {
   "cell_type": "code",
   "execution_count": 4,
   "id": "88462e02-898b-4a1f-99bf-7235e5ff267d",
   "metadata": {
    "tags": []
   },
   "outputs": [],
   "source": [
    "# here we open the file write in it with privious data\n",
    "\n",
    "f = open('test.txt', 'a' ) \n",
    "f.write('Data science is the study of data to extract meaningful insights for business. It is a multidisciplinary approach that combines principles and practices from the fields of mathematics, statistics, artificial intelligence, and computer engineering to analyze large amounts of data.')\n",
    "f.close()"
   ]
  },
  {
   "cell_type": "code",
   "execution_count": 5,
   "id": "45ac1f49-132e-4b69-9347-8ad0e4ed3fe8",
   "metadata": {
    "tags": []
   },
   "outputs": [
    {
     "data": {
      "text/plain": [
       "'This is my first write operation in this file. Data science is the study of data to extract meaningful insights for business. It is a multidisciplinary approach that combines principles and practices from the fields of mathematics, statistics, artificial intelligence, and computer engineering to analyze large amounts of data.'"
      ]
     },
     "execution_count": 5,
     "metadata": {},
     "output_type": "execute_result"
    }
   ],
   "source": [
    "# how to read data\n",
    "\n",
    "data= open('test.txt','r')\n",
    "data.read()"
   ]
  },
  {
   "cell_type": "code",
   "execution_count": 6,
   "id": "d8e2816d-5767-47ab-a8cb-fe78a623e375",
   "metadata": {
    "tags": []
   },
   "outputs": [
    {
     "data": {
      "text/plain": [
       "''"
      ]
     },
     "execution_count": 6,
     "metadata": {},
     "output_type": "execute_result"
    }
   ],
   "source": [
    "data.read()"
   ]
  },
  {
   "cell_type": "code",
   "execution_count": 7,
   "id": "46947c94-4449-4d61-b875-37c407a1b25b",
   "metadata": {
    "tags": []
   },
   "outputs": [
    {
     "data": {
      "text/plain": [
       "0"
      ]
     },
     "execution_count": 7,
     "metadata": {},
     "output_type": "execute_result"
    }
   ],
   "source": [
    "# how to reset cursal from starting position\n",
    "\n",
    "data.seek(0)"
   ]
  },
  {
   "cell_type": "code",
   "execution_count": 8,
   "id": "fdee6e0a-347a-4817-8fdc-9175131505af",
   "metadata": {
    "tags": []
   },
   "outputs": [
    {
     "data": {
      "text/plain": [
       "'This is my first write operation in this file. Data science is the study of data to extract meaningful insights for business. It is a multidisciplinary approach that combines principles and practices from the fields of mathematics, statistics, artificial intelligence, and computer engineering to analyze large amounts of data.'"
      ]
     },
     "execution_count": 8,
     "metadata": {},
     "output_type": "execute_result"
    }
   ],
   "source": [
    "#how to read a data\n",
    "\n",
    "data.read()"
   ]
  },
  {
   "cell_type": "code",
   "execution_count": 9,
   "id": "0e2a4e1a-b76f-49a0-99c5-3979f0d59365",
   "metadata": {
    "tags": []
   },
   "outputs": [
    {
     "data": {
      "text/plain": [
       "'te operation in this file. Data science is the study of data to extract meaningful insights for business. It is a multidisciplinary approach that combines principles and practices from the fields of mathematics, statistics, artificial intelligence, and computer engineering to analyze large amounts of data.'"
      ]
     },
     "execution_count": 9,
     "metadata": {},
     "output_type": "execute_result"
    }
   ],
   "source": [
    "# how to reset cursal/pointer from 20th position and read data from that position\n",
    "\n",
    "data.seek(20)\n",
    "data.read()"
   ]
  },
  {
   "cell_type": "code",
   "execution_count": 10,
   "id": "b5496779-0275-43b9-bffd-541ee6a7f0b8",
   "metadata": {
    "tags": []
   },
   "outputs": [
    {
     "name": "stdout",
     "output_type": "stream",
     "text": [
      "This is my first write operation in this file. Data science is the study of data to extract meaningful insights for business. It is a multidisciplinary approach that combines principles and practices from the fields of mathematics, statistics, artificial intelligence, and computer engineering to analyze large amounts of data.\n"
     ]
    }
   ],
   "source": [
    "#read data from another way\n",
    "\n",
    "data1=open('test.txt','r')\n",
    "for i in data1:\n",
    "    print(i)\n",
    "    \n",
    "data1.close()"
   ]
  },
  {
   "cell_type": "code",
   "execution_count": 11,
   "id": "25d49fbc-9709-4925-8567-2dc3bb53b5b8",
   "metadata": {
    "tags": []
   },
   "outputs": [
    {
     "data": {
      "text/plain": [
       "327"
      ]
     },
     "execution_count": 11,
     "metadata": {},
     "output_type": "execute_result"
    }
   ],
   "source": [
    "# file size how to get\n",
    "\n",
    "import os\n",
    "os.path.getsize('test.txt')\n",
    "\n"
   ]
  },
  {
   "cell_type": "code",
   "execution_count": 12,
   "id": "9f89c4b9-f527-4f54-854f-5f98b014c8b5",
   "metadata": {
    "tags": []
   },
   "outputs": [
    {
     "data": {
      "text/plain": [
       "'test_new.txt'"
      ]
     },
     "execution_count": 12,
     "metadata": {},
     "output_type": "execute_result"
    }
   ],
   "source": [
    "# how to create copy of the file\n",
    "\n",
    "import shutil\n",
    "shutil.copy('test.txt', 'test_new.txt')"
   ]
  },
  {
   "cell_type": "code",
   "execution_count": 13,
   "id": "7fec2e5b-3e62-4616-b030-0e403d6a95fc",
   "metadata": {
    "tags": []
   },
   "outputs": [],
   "source": [
    "# how to remove the file\n",
    "\n",
    "os.remove('test_new.txt')\n"
   ]
  },
  {
   "cell_type": "code",
   "execution_count": 14,
   "id": "2a9d6dfb-b3a6-4345-9074-8b2dca5cb394",
   "metadata": {
    "tags": []
   },
   "outputs": [
    {
     "name": "stdout",
     "output_type": "stream",
     "text": [
      "This is my first write operation in this file. Data science is the study of data to extract meaningful insights for business. It is a multidisciplinary approach that combines principles and practices from the fields of mathematics, statistics, artificial intelligence, and computer engineering to analyze large amounts of data.\n"
     ]
    }
   ],
   "source": [
    "#read data from another way\n",
    "\n",
    "with open('test.txt','r') as n:\n",
    "    print(n.read())\n",
    "    \n",
    "n.close()"
   ]
  },
  {
   "cell_type": "code",
   "execution_count": 15,
   "id": "d9aa1606-d4a8-4f0c-9b6a-fefa0ab5dca9",
   "metadata": {
    "tags": []
   },
   "outputs": [],
   "source": [
    "n.close()"
   ]
  },
  {
   "cell_type": "code",
   "execution_count": 16,
   "id": "4f7130af-8270-4859-91ef-fdea3d8e815c",
   "metadata": {
    "tags": []
   },
   "outputs": [
    {
     "ename": "PermissionError",
     "evalue": "[WinError 32] The process cannot access the file because it is being used by another process: 'test.txt' -> 'test_145646.txt'",
     "output_type": "error",
     "traceback": [
      "\u001b[1;31m---------------------------------------------------------------------------\u001b[0m",
      "\u001b[1;31mPermissionError\u001b[0m                           Traceback (most recent call last)",
      "Cell \u001b[1;32mIn[16], line 2\u001b[0m\n\u001b[0;32m      1\u001b[0m \u001b[38;5;66;03m# how to reaname the file\u001b[39;00m\n\u001b[1;32m----> 2\u001b[0m \u001b[43mos\u001b[49m\u001b[38;5;241;43m.\u001b[39;49m\u001b[43mrename\u001b[49m\u001b[43m(\u001b[49m\u001b[38;5;124;43m'\u001b[39;49m\u001b[38;5;124;43mtest.txt\u001b[39;49m\u001b[38;5;124;43m'\u001b[39;49m\u001b[43m,\u001b[49m\u001b[38;5;124;43m'\u001b[39;49m\u001b[38;5;124;43mtest_145646.txt\u001b[39;49m\u001b[38;5;124;43m'\u001b[39;49m\u001b[43m)\u001b[49m \u001b[38;5;66;03m# os.rename(old name, new name)\u001b[39;00m\n",
      "\u001b[1;31mPermissionError\u001b[0m: [WinError 32] The process cannot access the file because it is being used by another process: 'test.txt' -> 'test_145646.txt'"
     ]
    }
   ],
   "source": [
    "# how to reaname the file\n",
    "os.rename('test.txt','test_145646.txt') # os.rename(old name, new name)"
   ]
  },
  {
   "cell_type": "code",
   "execution_count": 2,
   "id": "70d1aeee-ee8b-4cb8-b527-7397edf1502d",
   "metadata": {
    "tags": []
   },
   "outputs": [
    {
     "name": "stdin",
     "output_type": "stream",
     "text": [
      "Enter the name of the employee:  nutan\n",
      "Enter the name of the employee:  roshan\n",
      "Enter the name of the employee:  gargie\n"
     ]
    },
    {
     "name": "stdout",
     "output_type": "stream",
     "text": [
      "Data is written into the file.\n"
     ]
    }
   ],
   "source": [
    "file = open(\"Employees.txt\", \"w\")\n",
    "  \n",
    "for i in range(3):\n",
    "    name = input(\"Enter the name of the employee: \")\n",
    "    file.write(name)\n",
    "    file.write(\"\\n\")\n",
    "     \n",
    "file.close()\n",
    "  \n",
    "print(\"Data is written into the file.\")"
   ]
  },
  {
   "cell_type": "code",
   "execution_count": 6,
   "id": "8147690f-6a0d-4abd-9b79-ba51727f13b6",
   "metadata": {
    "tags": []
   },
   "outputs": [
    {
     "name": "stdout",
     "output_type": "stream",
     "text": [
      "nutan\n",
      "\n",
      "roshan\n",
      "\n",
      "gargie\n",
      "\n"
     ]
    }
   ],
   "source": [
    "#open the file for read operation\n",
    "fl = open('Employees.txt')\n",
    "# reads line by line\n",
    "ln = fl.readline()\n",
    "while ln!= \"\":\n",
    "    print(ln)\n",
    "    ln = fl.readline()\n",
    "#close the file\n",
    "fl.close()"
   ]
  },
  {
   "cell_type": "code",
   "execution_count": 10,
   "id": "131204c7-0b8c-477c-84a5-f11031107719",
   "metadata": {
    "tags": []
   },
   "outputs": [
    {
     "name": "stdout",
     "output_type": "stream",
     "text": [
      "['nutan\\n', 'roshan\\n', 'gargie\\n']\n"
     ]
    }
   ],
   "source": [
    "#open the file for read operation\n",
    "fl = open('Employees.txt')\n",
    "# reads line by line and stores them in list\n",
    "print(fl.readlines())\n"
   ]
  },
  {
   "cell_type": "markdown",
   "id": "d3c92acf-a3bf-40ca-b2aa-48c20c62c97a",
   "metadata": {},
   "source": [
    "#  Reading And Writing Files"
   ]
  },
  {
   "cell_type": "code",
   "execution_count": 17,
   "id": "2571092b-8fdc-40a7-95b2-a400effa4d73",
   "metadata": {
    "tags": []
   },
   "outputs": [],
   "source": [
    "data={\n",
    "    'name':'nutan',\n",
    "    'mail_id':'nutan@gmail.com',\n",
    "    'phone_no':435467213267,\n",
    "    'subject':['python','math','statestics','AI']\n",
    "}"
   ]
  },
  {
   "cell_type": "code",
   "execution_count": null,
   "id": "e7efa0c4-14a1-4d94-81ab-b8512335910d",
   "metadata": {
    "tags": []
   },
   "outputs": [],
   "source": [
    "# how tho stor dictionary type of information in file system permanatlly\n",
    "\n",
    "import json # (java script object notation) or file format\n",
    "with open('test.json','w')as n:\n",
    "    json.dump(data,n)\n",
    "n.close()"
   ]
  },
  {
   "cell_type": "code",
   "execution_count": null,
   "id": "634dbd8b-be39-48b1-bb5a-761ddfbbaf67",
   "metadata": {
    "tags": []
   },
   "outputs": [],
   "source": [
    "with open('test.json','r')as n:\n",
    "    data3=json.load(n)"
   ]
  },
  {
   "cell_type": "code",
   "execution_count": null,
   "id": "deaf71d4-036f-4f23-9dd0-64f2fd57847c",
   "metadata": {
    "tags": []
   },
   "outputs": [],
   "source": [
    "data3"
   ]
  },
  {
   "cell_type": "code",
   "execution_count": null,
   "id": "3c510282-93ec-44fa-aaac-5c35adbce28c",
   "metadata": {
    "tags": []
   },
   "outputs": [],
   "source": [
    "data3['subject'][2]"
   ]
  },
  {
   "cell_type": "code",
   "execution_count": null,
   "id": "1021f08a-da9a-4529-a1e4-87282fd703a9",
   "metadata": {
    "tags": []
   },
   "outputs": [],
   "source": [
    "#(coma sepreted value) in file format use in pandas to read/write\n",
    "data=[['name','email_id','number'],\n",
    "      ['nutan','nutan@gmail.com', 9322710773],\n",
    "      ['ratan','ratan@gmail.com', 2271077393],\n",
    "      ['gargie','gargoe@gmail.com',456565445]\n",
    "     ]\n",
    "# usful in padans with csv"
   ]
  },
  {
   "cell_type": "code",
   "execution_count": null,
   "id": "80e8d63b-66da-49b7-9746-9bbb35ccf59a",
   "metadata": {
    "tags": []
   },
   "outputs": [],
   "source": [
    "import csv #(coma sepreted value) \n",
    "\n",
    "with open (\"test1.csv\", 'w') as file:\n",
    "    write_in=csv.writer(file)\n",
    "    for i in data:\n",
    "        write_in.writerow(i)"
   ]
  },
  {
   "cell_type": "code",
   "execution_count": null,
   "id": "eb4f34ab-e16c-4687-96c2-64f2d85ac3bc",
   "metadata": {
    "tags": []
   },
   "outputs": [],
   "source": [
    "f.close()"
   ]
  },
  {
   "cell_type": "code",
   "execution_count": null,
   "id": "7f56eb12-e327-4ad8-98e4-44935a3086e5",
   "metadata": {},
   "outputs": [],
   "source": [
    "\n",
    "with open('test1.csv', 'r') as file:\n",
    "    r=csv.reader(file)\n",
    "    for i in r:\n",
    "        print(i)\n",
    "        "
   ]
  },
  {
   "cell_type": "code",
   "execution_count": null,
   "id": "a4276ea6-a894-4d86-b512-2bd5379972e3",
   "metadata": {},
   "outputs": [],
   "source": [
    "# how to write and read binary file.\n",
    "#   file_name.bin  is binary file\n",
    "\n",
    "with open(\"test2.bin\", 'wb') as file:\n",
    "    file.write(b'\\x01\\x02\\x03')"
   ]
  },
  {
   "cell_type": "code",
   "execution_count": null,
   "id": "7148c533-239b-4ac5-a9c0-656c67b7164b",
   "metadata": {
    "tags": []
   },
   "outputs": [],
   "source": [
    "with open ('test2.bin', 'rb') as file:\n",
    "    print(file.read())"
   ]
  },
  {
   "cell_type": "markdown",
   "id": "662f5927-d10b-43f0-8ddf-e6129463811c",
   "metadata": {},
   "source": [
    "# Buffered Read And Write Other File Methods"
   ]
  },
  {
   "cell_type": "markdown",
   "id": "0db98cc0-c70a-4f18-bb9d-61e64ade68f7",
   "metadata": {},
   "source": [
    "1. from GB's and TB's data is present from that we use to take small chunk of data for calculation that time buffer read and write will come in picture"
   ]
  },
  {
   "cell_type": "code",
   "execution_count": 1,
   "id": "ea45e63f-5bb5-43ca-969f-b7e86a6f37bc",
   "metadata": {
    "tags": []
   },
   "outputs": [],
   "source": [
    "import io\n",
    "with open('test4.txt', 'wb') as f:\n",
    "    file=io.BufferedWriter(f)\n",
    "    file.write(b\"this is my buffer write \\n\")\n",
    "    file.write(b\"this is my second line in that i am trying to write \\n\")\n",
    "    file.write(b\"CSV (Comma Separated Values) format is the most common import and export format for spreadsheets and databases. It is one of the most common methods for exchanging data between applications and popular data format used in Data Science. It is supported by a wide range of applications. A CSV file stores tabular data in which each data field is separated by a delimiter(comma in most cases). To represent a CSV file, it must be saved with the .csv file extension.\")\n",
    "    file.flush()  # to refresh close the file simillary flush the file\n"
   ]
  },
  {
   "cell_type": "code",
   "execution_count": null,
   "id": "5ccec9bf-d616-46f9-a046-1c4c76b95671",
   "metadata": {
    "tags": []
   },
   "outputs": [],
   "source": [
    "with open (\"test4.txt\", 'rb') as f:\n",
    "    file=io.BufferedReader(f)\n",
    "    data=file.read(50)\n",
    "    data1=file.read(10)\n",
    "    print(data)\n",
    "    print(data1)"
   ]
  },
  {
   "cell_type": "markdown",
   "id": "38c8e541-cf66-4e82-b37d-0eec5f478a71",
   "metadata": {},
   "source": [
    "# Logging Debugger\n",
    "\n",
    "1. when we doing some kind of operation in program and in case ther is any eror. then i have to fix it using logging."
   ]
  },
  {
   "cell_type": "markdown",
   "id": "3c16cc26-074f-49a6-87ad-94d496bff6cb",
   "metadata": {},
   "source": [
    "2. print statment always print in console , but i want permant storage in file format where i storage all logg."
   ]
  },
  {
   "cell_type": "markdown",
   "id": "a582075a-57b4-428e-abe7-a5c0a0578cdf",
   "metadata": {
    "tags": []
   },
   "source": [
    "3. The logging functions are named after the level or severity of the events they are used to track. The standard levels and their applicability are described below (in increasing order of severity):\n",
    "\n"
   ]
  },
  {
   "cell_type": "markdown",
   "id": "05ac8a47-8edc-468a-813a-01a727a38f68",
   "metadata": {},
   "source": [
    "|Level |When it’s used|\n",
    "|:-:|:-:|\n",
    "|DEBUG |Detailed information, typically of interest only when diagnosing problems.|\n",
    "|INFO |Confirmation that things are working as expected.|\n",
    "|WARNING |An indication that something unexpected happened, or indicative of some problem in the near future (e.g. ‘disk space low’). The software is still working as expected.|\n",
    "|ERROR |Due to a more serious problem, the software has not been able to perform some function.|\n",
    "|CRITICAL |A serious error, indicating that the program itself may be unable to continue running.|"
   ]
  },
  {
   "cell_type": "code",
   "execution_count": null,
   "id": "3eec9bc1-8fb6-4651-8559-54d62098c9fb",
   "metadata": {},
   "outputs": [],
   "source": []
  },
  {
   "cell_type": "code",
   "execution_count": 50,
   "id": "c9c482ed-5d65-4acb-b0b0-c14aeb80747d",
   "metadata": {
    "tags": []
   },
   "outputs": [
    {
     "name": "stdout",
     "output_type": "stream",
     "text": [
      "this is my print statment\n"
     ]
    }
   ],
   "source": [
    "print('this is my print statment')"
   ]
  },
  {
   "cell_type": "code",
   "execution_count": 52,
   "id": "ca29e874-b0ef-47fa-b382-75a223388d3b",
   "metadata": {
    "tags": []
   },
   "outputs": [],
   "source": [
    "import logging\n",
    "\n",
    "logging.basicConfig(filename='test.log', level= logging.INFO, encoding='utf-8', format='%(asctime)s %(message)s')\n",
    "# here we use this only INFO -->WARNING--> ERROR--> CRITICAL\n"
   ]
  },
  {
   "cell_type": "code",
   "execution_count": 53,
   "id": "72462376-bebb-441e-a845-03e64d2d009f",
   "metadata": {
    "tags": []
   },
   "outputs": [],
   "source": [
    "logging.error('error occure')"
   ]
  },
  {
   "cell_type": "code",
   "execution_count": 54,
   "id": "79235d2c-d08f-4349-9cf9-f9103888fd27",
   "metadata": {
    "tags": []
   },
   "outputs": [],
   "source": [
    "logging.critical(\"this is my creatical\")"
   ]
  },
  {
   "cell_type": "code",
   "execution_count": 55,
   "id": "971d6f12-e9e6-48e1-bc9a-2807eeea0aa1",
   "metadata": {
    "tags": []
   },
   "outputs": [],
   "source": [
    "logging.info('This is my line execution ')"
   ]
  },
  {
   "cell_type": "code",
   "execution_count": 56,
   "id": "dfb2edcf-c485-4af2-9bc3-1d7203aed46d",
   "metadata": {},
   "outputs": [],
   "source": [
    "logging.warning('This is warning ')"
   ]
  },
  {
   "cell_type": "code",
   "execution_count": 57,
   "id": "65646a86-f826-450e-bf3e-334386df9d67",
   "metadata": {
    "tags": []
   },
   "outputs": [],
   "source": [
    "logging.debug('This is debug')"
   ]
  },
  {
   "cell_type": "code",
   "execution_count": 35,
   "id": "8a48595b-4af2-417e-8085-d3221ed7ed6e",
   "metadata": {
    "tags": []
   },
   "outputs": [],
   "source": [
    "logging.shutdown()"
   ]
  },
  {
   "cell_type": "markdown",
   "id": "da459a9a-277d-4350-af87-0d643df1f364",
   "metadata": {
    "tags": []
   },
   "source": [
    "# Haierarchy of any logging going to follow\n",
    "1. NOSET\n",
    "2. DEBUG\n",
    "3. INFO\n",
    "4. WARNING\n",
    "5. ERROR\n",
    "6. CRITICAL"
   ]
  },
  {
   "cell_type": "code",
   "execution_count": 58,
   "id": "22dafdab-bfe0-40d5-ab3d-7986e4607715",
   "metadata": {},
   "outputs": [],
   "source": [
    "#import logging\n",
    "#logging.basicConfig(format='%(levelname)s:%(message)s', level=logging.DEBUG)\n",
    "logging.debug('This message should appear on the console')\n",
    "logging.info('So should this')\n",
    "logging.warning('And this, too')"
   ]
  },
  {
   "cell_type": "code",
   "execution_count": 49,
   "id": "aaa7dab6-bc43-4bdc-9a02-b84fe2add878",
   "metadata": {},
   "outputs": [],
   "source": [
    "logging.shutdown()"
   ]
  },
  {
   "cell_type": "code",
   "execution_count": 63,
   "id": "b92ef3f4-8ec1-4505-b392-3f0667fa0f9e",
   "metadata": {
    "tags": []
   },
   "outputs": [
    {
     "name": "stdout",
     "output_type": "stream",
     "text": [
      "[1, 2, 3, 4, 5, 6, 9, 8]\n",
      "['nutan', 'roshan']\n"
     ]
    }
   ],
   "source": [
    "l=[1,2,3,4,[5,6,9,8],'nutan','roshan']\n",
    "l1_list=[]\n",
    "l2_list_str=[]\n",
    "for i in l:\n",
    "    logging.info('This is the start of my first for loop {}'.format(l))\n",
    "    logging.info('this is the value of i am logging {}'.format(i))\n",
    "    if type(i)==list:\n",
    "        for j in i:\n",
    "            logging.info('logging my j {j} and i is {i}'.format(i=i,j=j))\n",
    "            l1_list.append(j)\n",
    "    elif type(i)==int:\n",
    "        l1_list.append(i)\n",
    "        \n",
    "    else:\n",
    "        if type(i)==str:\n",
    "            l2_list_str.append(i)\n",
    "logging.info('this is my final result with all int {l1}, with all str {l2}'.format(l1=l1_list, l2=l2_list_str))\n",
    "print(l1_list)\n",
    "print(l2_list_str)"
   ]
  },
  {
   "cell_type": "code",
   "execution_count": null,
   "id": "b5a87052-8e69-4127-be8f-58db884351d9",
   "metadata": {},
   "outputs": [],
   "source": []
  }
 ],
 "metadata": {
  "kernelspec": {
   "display_name": "Python 3 (ipykernel)",
   "language": "python",
   "name": "python3"
  },
  "language_info": {
   "codemirror_mode": {
    "name": "ipython",
    "version": 3
   },
   "file_extension": ".py",
   "mimetype": "text/x-python",
   "name": "python",
   "nbconvert_exporter": "python",
   "pygments_lexer": "ipython3",
   "version": "3.11.1"
  }
 },
 "nbformat": 4,
 "nbformat_minor": 5
}
