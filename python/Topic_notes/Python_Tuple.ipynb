{
 "cells": [
  {
   "cell_type": "markdown",
   "id": "f8252d6d-e36b-4312-acdd-79807d8ab2bd",
   "metadata": {},
   "source": [
    "# Tuples \n",
    "\n",
    "Tuples are used to store multiple items in a single variable.\n",
    "\n",
    "Tuple is one data types in Python used to store collections of data.\n",
    "\n",
    "A tuple is a collection which is ordered ,unchangeable allow duplicate values.\n",
    "\n",
    "Tuples are written with round brackets ().\n",
    "\n",
    "1. Tuples are ordered --> it means that the items have a defined order, and that order will not change.\n",
    "2. Tuples are unchangeable, meaning that we cannot change, add or remove items after the tuple has been     \n",
    "        created.\n",
    "3. Tuple allow duplicate values --> Since tuples are indexed, they can have items with the same value"
   ]
  },
  {
   "cell_type": "code",
   "execution_count": 84,
   "id": "f4f41316-7ce7-4fb8-b5fb-6fb0e17943e4",
   "metadata": {},
   "outputs": [],
   "source": [
    "String=\"I am doing data science course from PW Skill\""
   ]
  },
  {
   "cell_type": "code",
   "execution_count": 85,
   "id": "3e8d9d0e-7b1e-48d5-bdbf-2051ca35dab0",
   "metadata": {},
   "outputs": [
    {
     "name": "stdout",
     "output_type": "stream",
     "text": [
      "['I', 'am', 'doing', 'data', 'science', 'course', 'from', 'PW', 'Skill']\n"
     ]
    }
   ],
   "source": [
    "Make_List=String.split()\n",
    "print(Make_List)"
   ]
  },
  {
   "cell_type": "code",
   "execution_count": 86,
   "id": "7a36bc2d-fd73-4887-a0e6-04cd2fde9875",
   "metadata": {},
   "outputs": [
    {
     "data": {
      "text/plain": [
       "list"
      ]
     },
     "execution_count": 86,
     "metadata": {},
     "output_type": "execute_result"
    }
   ],
   "source": [
    "type(Make_List)"
   ]
  },
  {
   "cell_type": "code",
   "execution_count": 87,
   "id": "42901da6-78fc-4f79-a1d7-53a068662df1",
   "metadata": {},
   "outputs": [
    {
     "name": "stdout",
     "output_type": "stream",
     "text": [
      "('I', 'am', 'doing', 'data', 'science', 'course', 'from', 'PW', 'Skill')\n",
      "<class 'tuple'>\n"
     ]
    }
   ],
   "source": [
    "make_tuple=tuple(Make_List)\n",
    "print(make_tuple)\n",
    "print(type(make_tuple))"
   ]
  },
  {
   "cell_type": "code",
   "execution_count": 88,
   "id": "d981a0a0-ed34-4184-866a-dbcdd5bf3a82",
   "metadata": {},
   "outputs": [
    {
     "name": "stdout",
     "output_type": "stream",
     "text": [
      "<class 'tuple'>\n"
     ]
    }
   ],
   "source": [
    "# syntax of tuple\n",
    "\n",
    "t=()\n",
    "print(type(t))"
   ]
  },
  {
   "cell_type": "code",
   "execution_count": 89,
   "id": "194ee11e-3834-44ca-a066-e822e29fcd03",
   "metadata": {},
   "outputs": [
    {
     "name": "stdout",
     "output_type": "stream",
     "text": [
      "<class 'tuple'>\n"
     ]
    }
   ],
   "source": [
    "t1=(1,2,3,4,45,45.45,45+7j, 'Nutan', True)\n",
    "print(type(t1))"
   ]
  },
  {
   "cell_type": "code",
   "execution_count": 90,
   "id": "8602fdf4-ddcf-4796-853d-9bb5b89091b1",
   "metadata": {},
   "outputs": [
    {
     "data": {
      "text/plain": [
       "1"
      ]
     },
     "execution_count": 90,
     "metadata": {},
     "output_type": "execute_result"
    }
   ],
   "source": [
    "t1[0] #indexing"
   ]
  },
  {
   "cell_type": "code",
   "execution_count": 91,
   "id": "93699ed7-9657-418b-b2c1-dbf85f7fefb3",
   "metadata": {},
   "outputs": [
    {
     "data": {
      "text/plain": [
       "(True, 'Nutan', (45+7j), 45.45, 45, 4, 3, 2, 1)"
      ]
     },
     "execution_count": 91,
     "metadata": {},
     "output_type": "execute_result"
    }
   ],
   "source": [
    "t1[::-1] # teprary reverse order but origan tuple will be same "
   ]
  },
  {
   "cell_type": "code",
   "execution_count": 92,
   "id": "17b26594-490b-4433-962c-e78cb4d7cb99",
   "metadata": {},
   "outputs": [
    {
     "name": "stdout",
     "output_type": "stream",
     "text": [
      "(True, 'Nutan', (45+7j), 45.45, 45, 4, 3, 2, 1)\n"
     ]
    }
   ],
   "source": [
    "# but if u asigne reverse order then\n",
    "t1=t1[::-1]\n",
    "print(t1)"
   ]
  },
  {
   "cell_type": "code",
   "execution_count": 93,
   "id": "9541485c-5081-4648-8591-7d7f2c7e6d5c",
   "metadata": {
    "tags": []
   },
   "outputs": [
    {
     "data": {
      "text/plain": [
       "(True, 'Nutan', (45+7j))"
      ]
     },
     "execution_count": 93,
     "metadata": {},
     "output_type": "execute_result"
    }
   ],
   "source": [
    "t1[0:3] # extract some information from tuple--slicing"
   ]
  },
  {
   "cell_type": "markdown",
   "id": "be86161c-3b60-46f8-966e-5207853b3240",
   "metadata": {
    "tags": []
   },
   "source": [
    "### Tuple Methods\n",
    "Python has two built-in methods that you can use on tuples.\n",
    "\n",
    "|Method|\tDescription|\n",
    "|:-:|:-:|\n",
    "|count()|\tReturns the number of times a specified value occurs in a tuple|\n",
    "|index()\t|Searches the tuple for a specified value and returns the position of where it was found|"
   ]
  },
  {
   "cell_type": "code",
   "execution_count": 94,
   "id": "d136b22c-f4c4-4230-add1-e6fbccaca166",
   "metadata": {},
   "outputs": [
    {
     "data": {
      "text/plain": [
       "1"
      ]
     },
     "execution_count": 94,
     "metadata": {},
     "output_type": "execute_result"
    }
   ],
   "source": [
    "t1.count(45)"
   ]
  },
  {
   "cell_type": "code",
   "execution_count": 95,
   "id": "e1487153-6685-418a-a40a-cd752eeea54f",
   "metadata": {},
   "outputs": [
    {
     "name": "stdout",
     "output_type": "stream",
     "text": [
      "(True, 'Nutan', (45+7j), 45.45, 45, 4, 3, 2, 1)\n",
      "0\n"
     ]
    }
   ],
   "source": [
    "print(t1)\n",
    "print(t1.index(1)) # here very  1 index should be =8 but =0\n",
    "#True's intarnal storage value is 1 therefor index=0"
   ]
  },
  {
   "cell_type": "code",
   "execution_count": 96,
   "id": "9e1f3838-a4c3-4255-bc71-01cea58cd5ac",
   "metadata": {},
   "outputs": [
    {
     "data": {
      "text/plain": [
       "1"
      ]
     },
     "execution_count": 96,
     "metadata": {},
     "output_type": "execute_result"
    }
   ],
   "source": [
    "t1.index('Nutan')"
   ]
  },
  {
   "cell_type": "code",
   "execution_count": 97,
   "id": "093def12-64f6-4a25-9b39-aae904ca480b",
   "metadata": {},
   "outputs": [
    {
     "data": {
      "text/plain": [
       "2"
      ]
     },
     "execution_count": 97,
     "metadata": {},
     "output_type": "execute_result"
    }
   ],
   "source": [
    "# internaly system store Ture=1 that means 1=True  and (false=0)\n",
    "#t1=(True,1)  (ans==2)\n",
    "t1.count(True)"
   ]
  },
  {
   "cell_type": "markdown",
   "id": "096a4645-f4cd-4586-a8ad-82dd1cd7f2bb",
   "metadata": {},
   "source": [
    "### Tuple immutable you can nat be update any information in exestin"
   ]
  },
  {
   "cell_type": "code",
   "execution_count": 98,
   "id": "7f76da91-c1ed-4810-82c4-b42d19f152b5",
   "metadata": {},
   "outputs": [
    {
     "name": "stdout",
     "output_type": "stream",
     "text": [
      "(True, 'Nutan', (45+7j), 45.45, 45, 4, 3, 2, 1)\n",
      "['I', 'am', 'doing', 'data', 'science', 'course', 'from', 'PW', 'Skill']\n"
     ]
    }
   ],
   "source": [
    "print(t1)\n",
    "print(Make_List)"
   ]
  },
  {
   "cell_type": "code",
   "execution_count": null,
   "id": "ae0016a9-97b2-4551-81f0-f5ff98975837",
   "metadata": {},
   "outputs": [],
   "source": []
  },
  {
   "cell_type": "markdown",
   "id": "5051f546-b9ba-4da4-88cc-0f6b163982ed",
   "metadata": {},
   "source": [
    "### Tuple object does not support item assignment\n",
    "1. Tuple are basically follows  Immutability concepts where it is not going to allow to change any element at a perticular index \"\n",
    "2. Tuples are unchangeable, meaning that you cannot change, add, or remove items once the tuple is created"
   ]
  },
  {
   "cell_type": "code",
   "execution_count": 99,
   "id": "e412bf6f-c84e-41a1-b59c-2f2928c5d2c2",
   "metadata": {},
   "outputs": [
    {
     "ename": "TypeError",
     "evalue": "'tuple' object does not support item assignment",
     "output_type": "error",
     "traceback": [
      "\u001b[0;31m---------------------------------------------------------------------------\u001b[0m",
      "\u001b[0;31mTypeError\u001b[0m                                 Traceback (most recent call last)",
      "Cell \u001b[0;32mIn[99], line 2\u001b[0m\n\u001b[1;32m      1\u001b[0m \u001b[38;5;66;03m#'tuple' object does not support item assignment\u001b[39;00m\n\u001b[0;32m----> 2\u001b[0m \u001b[43mt1\u001b[49m\u001b[43m[\u001b[49m\u001b[38;5;241;43m0\u001b[39;49m\u001b[43m]\u001b[49m\u001b[38;5;241m=\u001b[39m\u001b[38;5;28;01mFalse\u001b[39;00m\n",
      "\u001b[0;31mTypeError\u001b[0m: 'tuple' object does not support item assignment"
     ]
    }
   ],
   "source": [
    "#'tuple' object does not support item assignment\n",
    "t1[0]=False"
   ]
  },
  {
   "cell_type": "code",
   "execution_count": 100,
   "id": "080f2bfc-874f-43be-8029-a25da0fad8da",
   "metadata": {},
   "outputs": [
    {
     "name": "stdout",
     "output_type": "stream",
     "text": [
      "[100, 'am', 'doing', 'data', 'science', 'course', 'from', 'PW', 'Skill']\n"
     ]
    }
   ],
   "source": [
    "# list support support item assignment\n",
    "Make_List[0]=100\n",
    "print(Make_List)"
   ]
  },
  {
   "cell_type": "code",
   "execution_count": 101,
   "id": "03769192-9b9d-49ad-85b3-27a44dd7110d",
   "metadata": {},
   "outputs": [
    {
     "name": "stdout",
     "output_type": "stream",
     "text": [
      "True  =  <class 'bool'>\n",
      "Nutan  =  <class 'str'>\n",
      "(45+7j)  =  <class 'complex'>\n",
      "45.45  =  <class 'float'>\n",
      "45  =  <class 'int'>\n",
      "4  =  <class 'int'>\n",
      "3  =  <class 'int'>\n",
      "2  =  <class 'int'>\n",
      "1  =  <class 'int'>\n"
     ]
    }
   ],
   "source": [
    "for i in t1:\n",
    "    print(i,\" = \", type(i))"
   ]
  },
  {
   "cell_type": "code",
   "execution_count": 102,
   "id": "bd53dfca-8eaa-456e-8c96-f8908200814e",
   "metadata": {},
   "outputs": [
    {
     "name": "stdout",
     "output_type": "stream",
     "text": [
      "(1, 2, 3, 4, 1, 2, 3, 4, 1, 2, 3, 4)\n"
     ]
    }
   ],
   "source": [
    "t2=(1,2,3,4)\n",
    "print(t2*3) # replicate same tuple 3 trimes"
   ]
  },
  {
   "cell_type": "code",
   "execution_count": 103,
   "id": "2c1eb69b-69ae-4048-9710-3123a3377a5d",
   "metadata": {},
   "outputs": [
    {
     "name": "stdout",
     "output_type": "stream",
     "text": [
      "4\n",
      "1\n"
     ]
    }
   ],
   "source": [
    "print(max(t2))\n",
    "print(min(t2))"
   ]
  },
  {
   "cell_type": "code",
   "execution_count": 104,
   "id": "950d2f0e-b0aa-4390-b450-db89b50f8072",
   "metadata": {},
   "outputs": [
    {
     "name": "stdout",
     "output_type": "stream",
     "text": [
      "((1, 3, 4, 5), ('a', 'b', 'c', 'd'))\n"
     ]
    }
   ],
   "source": [
    "##  tuples inside tuple\n",
    "t3=(1,3,4,5)\n",
    "t4=('a','b','c','d')\n",
    "t5=(t3,t4)\n",
    "print(t5)"
   ]
  },
  {
   "cell_type": "code",
   "execution_count": 105,
   "id": "4aeef975-e6a7-4146-89da-78fa280dee84",
   "metadata": {},
   "outputs": [
    {
     "name": "stdout",
     "output_type": "stream",
     "text": [
      "((1, 3, 4, 5), [100, 'am', 'doing', 'data', 'science', 'course', 'from', 'PW', 'Skill'])\n"
     ]
    }
   ],
   "source": [
    "##  List and tuple inside tuple\n",
    "t6=(t3,Make_List)\n",
    "print(t6)"
   ]
  },
  {
   "cell_type": "code",
   "execution_count": 106,
   "id": "226ff40b-1baa-4eaa-a2a5-33308e6b2ef1",
   "metadata": {},
   "outputs": [],
   "source": [
    "# delete tuple\n",
    "del t6"
   ]
  },
  {
   "cell_type": "code",
   "execution_count": 107,
   "id": "ad43a0b1-3579-4675-84ab-482174ff51c2",
   "metadata": {},
   "outputs": [
    {
     "ename": "NameError",
     "evalue": "name 't6' is not defined",
     "output_type": "error",
     "traceback": [
      "\u001b[0;31m---------------------------------------------------------------------------\u001b[0m",
      "\u001b[0;31mNameError\u001b[0m                                 Traceback (most recent call last)",
      "Cell \u001b[0;32mIn[107], line 1\u001b[0m\n\u001b[0;32m----> 1\u001b[0m \u001b[43mt6\u001b[49m\n",
      "\u001b[0;31mNameError\u001b[0m: name 't6' is not defined"
     ]
    }
   ],
   "source": [
    "t6"
   ]
  },
  {
   "cell_type": "code",
   "execution_count": 108,
   "id": "a68dce44-efaa-420b-bed5-58f333477757",
   "metadata": {},
   "outputs": [
    {
     "data": {
      "text/plain": [
       "4"
      ]
     },
     "execution_count": 108,
     "metadata": {},
     "output_type": "execute_result"
    }
   ],
   "source": [
    "len(t3)"
   ]
  },
  {
   "cell_type": "markdown",
   "id": "fabf7498-376d-41e3-be09-40a69451edab",
   "metadata": {},
   "source": [
    "### Since tuples are immutable, they do not have a build-in append().\n",
    "    1.You cannot remove items in a tuple.\n",
    "    2. Convert the tuple into a list, make opration like add, remove and convert it back into a tuple:"
   ]
  },
  {
   "cell_type": "code",
   "execution_count": 109,
   "id": "6e4f026f-0b3c-4f1c-b46a-c2bc23d1dd81",
   "metadata": {},
   "outputs": [
    {
     "name": "stdout",
     "output_type": "stream",
     "text": [
      "old tuple   =  ('apple', 'banana', 'cherry')\n",
      "new tuple   =  ('apple', 'banana', 'cherry', 'orange')\n"
     ]
    }
   ],
   "source": [
    "#  Since tuples are immutable, they do not have a build-in append() method, \n",
    "#  but there are other ways to add items to a tuple.\n",
    "thistuple = (\"apple\", \"banana\", \"cherry\")\n",
    "print(\"old tuple \", \" = \", thistuple)\n",
    "y = list(thistuple)\n",
    "y.append(\"orange\")\n",
    "thistuple = tuple(y)\n",
    "print(\"new tuple \", \" = \", thistuple)"
   ]
  },
  {
   "cell_type": "markdown",
   "id": "8a9c3924-f1a6-48a6-bc86-6a9164383cdb",
   "metadata": {},
   "source": [
    "# \n",
    "\n"
   ]
  },
  {
   "cell_type": "markdown",
   "id": "2446efdf-92d4-45d7-9f5f-1478d39f6e3e",
   "metadata": {},
   "source": [
    "## Unpacking a Tuple\n",
    "    Python, we are also allowed to extract the values back into variables. This is called \"unpacking\":"
   ]
  },
  {
   "cell_type": "code",
   "execution_count": 113,
   "id": "5a56ee44-206a-4e92-a4b9-e14d811334fd",
   "metadata": {},
   "outputs": [
    {
     "name": "stdout",
     "output_type": "stream",
     "text": [
      "apple\n",
      "banana\n",
      "cherry\n"
     ]
    }
   ],
   "source": [
    "fruits = (\"apple\", \"banana\", \"cherry\")\n",
    "\n",
    "(green, yellow, red) = fruits\n",
    "\n",
    "print(green)\n",
    "print(yellow)\n",
    "print(red)"
   ]
  },
  {
   "cell_type": "markdown",
   "id": "1ebbddac-c6c1-4dd3-a2b2-c5a3bee9ed7c",
   "metadata": {},
   "source": [
    "### Using Asterisk*\n",
    "If the number of variables is less than the number of values, you can add an * to the variable name and the values will be assigned to the variable as a list:"
   ]
  },
  {
   "cell_type": "code",
   "execution_count": 111,
   "id": "29368c4b-4cf5-4a69-9fac-3bcd6e2f7230",
   "metadata": {},
   "outputs": [
    {
     "name": "stdout",
     "output_type": "stream",
     "text": [
      "apple\n",
      "banana\n",
      "['cherry', 'strawberry', 'raspberry']\n"
     ]
    }
   ],
   "source": [
    "fruits = (\"apple\", \"banana\", \"cherry\", \"strawberry\", \"raspberry\")\n",
    "\n",
    "(green, yellow, *red) = fruits\n",
    "\n",
    "print(green)\n",
    "print(yellow)\n",
    "print(red)"
   ]
  },
  {
   "cell_type": "code",
   "execution_count": 112,
   "id": "71f6f40e-9a76-43a9-a0e6-cfef0d7f8e28",
   "metadata": {},
   "outputs": [
    {
     "name": "stdout",
     "output_type": "stream",
     "text": [
      "apple\n",
      "['mango', 'papaya', 'pineapple']\n",
      "cherry\n"
     ]
    }
   ],
   "source": [
    "fruits = (\"apple\", \"mango\", \"papaya\", \"pineapple\", \"cherry\")\n",
    "\n",
    "(green, *tropic, red) = fruits\n",
    "\n",
    "print(green)\n",
    "print(tropic)\n",
    "print(red)"
   ]
  },
  {
   "cell_type": "code",
   "execution_count": null,
   "id": "1de8822f-cdd7-4873-aea5-7feda5ce0001",
   "metadata": {},
   "outputs": [],
   "source": []
  },
  {
   "cell_type": "code",
   "execution_count": null,
   "id": "444e721a-1ea4-4e22-97cc-676c7d03dc33",
   "metadata": {},
   "outputs": [],
   "source": []
  }
 ],
 "metadata": {
  "kernelspec": {
   "display_name": "Python 3 (ipykernel)",
   "language": "python",
   "name": "python3"
  },
  "language_info": {
   "codemirror_mode": {
    "name": "ipython",
    "version": 3
   },
   "file_extension": ".py",
   "mimetype": "text/x-python",
   "name": "python",
   "nbconvert_exporter": "python",
   "pygments_lexer": "ipython3",
   "version": "3.10.8"
  }
 },
 "nbformat": 4,
 "nbformat_minor": 5
}
