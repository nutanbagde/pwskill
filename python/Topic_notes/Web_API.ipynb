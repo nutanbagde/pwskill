{
 "cells": [
  {
   "cell_type": "markdown",
   "id": "f317786a-5773-4806-9e70-ec8dd6b227de",
   "metadata": {
    "tags": []
   },
   "source": [
    "What is Web API? \n",
    "\n",
    "API stands for Application Programming Interface. A Web API is an application programming interface for the Web. A Browser API can extend the functionality of a web browser. A Server API can extend the functionality of a web server."
   ]
  },
  {
   "cell_type": "code",
   "execution_count": 5,
   "id": "7a11034a-4c08-4cae-b520-4b1b282d8f97",
   "metadata": {
    "tags": []
   },
   "outputs": [
    {
     "name": "stdout",
     "output_type": "stream",
     "text": [
      "this is my main programm\n"
     ]
    }
   ],
   "source": []
  },
  {
   "cell_type": "code",
   "execution_count": null,
   "id": "1702d14c-008b-4122-859e-0696cfdbf35d",
   "metadata": {
    "tags": []
   },
   "outputs": [
    {
     "name": "stdout",
     "output_type": "stream",
     "text": [
      "hi\n"
     ]
    }
   ],
   "source": []
  },
  {
   "cell_type": "code",
   "execution_count": null,
   "id": "e1e19387-ed3c-4424-9814-38b35cbf40cd",
   "metadata": {},
   "outputs": [],
   "source": [
    "mu"
   ]
  }
 ],
 "metadata": {
  "kernelspec": {
   "display_name": "Python 3 (ipykernel)",
   "language": "python",
   "name": "python3"
  },
  "language_info": {
   "codemirror_mode": {
    "name": "ipython",
    "version": 3
   },
   "file_extension": ".py",
   "mimetype": "text/x-python",
   "name": "python",
   "nbconvert_exporter": "python",
   "pygments_lexer": "ipython3",
   "version": "3.11.1"
  }
 },
 "nbformat": 4,
 "nbformat_minor": 5
}
