{
 "cells": [
  {
   "cell_type": "markdown",
   "id": "741da885-be9e-4a79-9620-92ac29c716af",
   "metadata": {},
   "source": [
    "## 2. List"
   ]
  },
  {
   "cell_type": "code",
   "execution_count": 3,
   "id": "ad70de29-5ebc-480b-8b28-d6962fd86fc4",
   "metadata": {},
   "outputs": [
    {
     "data": {
      "text/plain": [
       "list"
      ]
     },
     "execution_count": 3,
     "metadata": {},
     "output_type": "execute_result"
    }
   ],
   "source": [
    "type([])"
   ]
  },
  {
   "cell_type": "code",
   "execution_count": 4,
   "id": "3ae22346-2c61-4b54-92d1-9b3e601dc110",
   "metadata": {},
   "outputs": [
    {
     "name": "stdout",
     "output_type": "stream",
     "text": [
      "['Pw', 'skills', 'Data', 'Science', 'Masters']\n"
     ]
    }
   ],
   "source": [
    "sentence=\"Pw skills Data Science Masters\"\n",
    "list2=list(sentence.split(\" \"))\n",
    "print(list2)"
   ]
  },
  {
   "cell_type": "code",
   "execution_count": 5,
   "id": "8fce801a-cbf3-46df-b89f-13211b287fec",
   "metadata": {},
   "outputs": [
    {
     "data": {
      "text/plain": [
       "'Data'"
      ]
     },
     "execution_count": 5,
     "metadata": {},
     "output_type": "execute_result"
    }
   ],
   "source": [
    "list2[2]"
   ]
  },
  {
   "cell_type": "code",
   "execution_count": 6,
   "id": "d073865e-418c-4fd7-8504-58c2f069df53",
   "metadata": {},
   "outputs": [
    {
     "data": {
      "text/plain": [
       "['Pw', 'skills']"
      ]
     },
     "execution_count": 6,
     "metadata": {},
     "output_type": "execute_result"
    }
   ],
   "source": [
    "list2[:2]"
   ]
  },
  {
   "cell_type": "code",
   "execution_count": 7,
   "id": "34fe7f24-ee96-4fa6-94a7-342819d9e029",
   "metadata": {},
   "outputs": [
    {
     "data": {
      "text/plain": [
       "'Science'"
      ]
     },
     "execution_count": 7,
     "metadata": {},
     "output_type": "execute_result"
    }
   ],
   "source": [
    "list2[-2]"
   ]
  },
  {
   "cell_type": "code",
   "execution_count": 8,
   "id": "2c511fd4-1d96-49fe-9f1d-b7eafc554c08",
   "metadata": {},
   "outputs": [
    {
     "data": {
      "text/plain": [
       "['Science', 'Masters']"
      ]
     },
     "execution_count": 8,
     "metadata": {},
     "output_type": "execute_result"
    }
   ],
   "source": [
    "list2[-2:]"
   ]
  },
  {
   "cell_type": "code",
   "execution_count": 9,
   "id": "eff07a49-9f8b-4b2e-9f8c-1f32a34e7bb3",
   "metadata": {},
   "outputs": [
    {
     "data": {
      "text/plain": [
       "['Masters', 'Science', 'Data', 'skills', 'Pw']"
      ]
     },
     "execution_count": 9,
     "metadata": {},
     "output_type": "execute_result"
    }
   ],
   "source": [
    "list2[::-1]"
   ]
  },
  {
   "cell_type": "code",
   "execution_count": 10,
   "id": "9e010faa-0ee8-4952-8f73-985471b34e91",
   "metadata": {},
   "outputs": [
    {
     "data": {
      "text/plain": [
       "['Masters', 'Data', 'Pw']"
      ]
     },
     "execution_count": 10,
     "metadata": {},
     "output_type": "execute_result"
    }
   ],
   "source": [
    "list2[::-2]"
   ]
  },
  {
   "cell_type": "code",
   "execution_count": 11,
   "id": "4dc4b319-6ea7-4325-bd15-0e8097d6e46e",
   "metadata": {},
   "outputs": [
    {
     "data": {
      "text/plain": [
       "['skills', 'Data', 'Science']"
      ]
     },
     "execution_count": 11,
     "metadata": {},
     "output_type": "execute_result"
    }
   ],
   "source": [
    "list2[1:4:1]"
   ]
  },
  {
   "cell_type": "code",
   "execution_count": 22,
   "id": "359f6c00-0e4f-45c6-baff-fe6b1937fbb0",
   "metadata": {},
   "outputs": [],
   "source": [
    "list1=[\"nutan\",'roshan', 'gargie',]"
   ]
  },
  {
   "cell_type": "code",
   "execution_count": 23,
   "id": "f81f2892-7211-48e0-9fd0-73f552cf25de",
   "metadata": {},
   "outputs": [
    {
     "name": "stdout",
     "output_type": "stream",
     "text": [
      "['nutan', 'roshan', 'gargie', 'Pw', 'skills', 'Data', 'Science', 'Masters']\n"
     ]
    }
   ],
   "source": [
    "#concatination\n",
    "list3=list1+list2\n",
    "print(list3)"
   ]
  },
  {
   "cell_type": "code",
   "execution_count": 13,
   "id": "6a606b30-5ee9-4df5-a0c9-8f9ba9431e00",
   "metadata": {},
   "outputs": [
    {
     "name": "stdout",
     "output_type": "stream",
     "text": [
      "['Pw', 'skills', 'Data', 'Science', 'Masters', ['Class', 'free']]\n"
     ]
    }
   ],
   "source": [
    "# multi concatinated list / multi nested list\n",
    "list2+= [[\"Class\",\"free\"]]\n",
    "print(list2)"
   ]
  },
  {
   "cell_type": "code",
   "execution_count": 14,
   "id": "5d6f654f-f48d-4676-9299-d44cb54a6b7b",
   "metadata": {},
   "outputs": [
    {
     "data": {
      "text/plain": [
       "'Class'"
      ]
     },
     "execution_count": 14,
     "metadata": {},
     "output_type": "execute_result"
    }
   ],
   "source": [
    "list2[-1][0]"
   ]
  },
  {
   "cell_type": "code",
   "execution_count": 15,
   "id": "4731dac8-e02e-49a8-8d6f-9366cec74dbf",
   "metadata": {},
   "outputs": [
    {
     "data": {
      "text/plain": [
       "['Pw', 'skills', 'Data', 'Science', 'Masters', ['Class', 'free']]"
      ]
     },
     "execution_count": 15,
     "metadata": {},
     "output_type": "execute_result"
    }
   ],
   "source": [
    "list2"
   ]
  },
  {
   "cell_type": "code",
   "execution_count": 16,
   "id": "3f47ab6a-7853-497d-8248-8e7461110a8a",
   "metadata": {},
   "outputs": [],
   "source": [
    "list1=[\"nutan\",\"gargie\",\"roshan\"]"
   ]
  },
  {
   "cell_type": "code",
   "execution_count": 17,
   "id": "74b5f9f0-9597-4d95-957f-22e560b409f3",
   "metadata": {},
   "outputs": [
    {
     "data": {
      "text/plain": [
       "['nutan', 'gargie', 'roshan', 'nutan', 'gargie', 'roshan']"
      ]
     },
     "execution_count": 17,
     "metadata": {},
     "output_type": "execute_result"
    }
   ],
   "source": [
    "list1*2"
   ]
  },
  {
   "cell_type": "code",
   "execution_count": 24,
   "id": "a155ad9f-023f-41f8-b140-c51c5cbc63fb",
   "metadata": {},
   "outputs": [
    {
     "name": "stdout",
     "output_type": "stream",
     "text": [
      "['Pw', 'skills', 'Data', 'Science', 'Masters']\n"
     ]
    }
   ],
   "source": [
    "\n",
    "sentence=\"Pw skills Data Science Masters\"\n",
    "list2=list(sentence.split(\" \"))\n",
    "print(list2)"
   ]
  },
  {
   "cell_type": "code",
   "execution_count": 25,
   "id": "45250f3f-6851-4ac7-8066-34d87b9ef605",
   "metadata": {},
   "outputs": [
    {
     "name": "stdout",
     "output_type": "stream",
     "text": [
      "Science is present in list2\n"
     ]
    }
   ],
   "source": [
    "#check eliment inside the list whether it present or not\n",
    "for i in list2:\n",
    "    if i ==\"Science\": \n",
    "        print(i, \"is present in list2\")\n",
    "        break"
   ]
  },
  {
   "cell_type": "code",
   "execution_count": 27,
   "id": "8d018f46-d916-4ac5-bb91-e5dc2a72b257",
   "metadata": {},
   "outputs": [
    {
     "name": "stdout",
     "output_type": "stream",
     "text": [
      "present in list2\n"
     ]
    }
   ],
   "source": [
    "#check eliment inside the list whether it present or not\n",
    "if \"Science\" in list2:\n",
    "    print(\"present in list2\")\n",
    "    "
   ]
  },
  {
   "cell_type": "code",
   "execution_count": 28,
   "id": "9c1b4268-a043-4045-bdbf-7ba75e0ff17e",
   "metadata": {},
   "outputs": [
    {
     "data": {
      "text/plain": [
       "['Pw', 'skills', 'Data', 'Science', 'Masters']"
      ]
     },
     "execution_count": 28,
     "metadata": {},
     "output_type": "execute_result"
    }
   ],
   "source": [
    "list2"
   ]
  },
  {
   "cell_type": "code",
   "execution_count": 29,
   "id": "96d0ab66-bbee-443b-9f4e-0d5c462f1dcd",
   "metadata": {},
   "outputs": [
    {
     "data": {
      "text/plain": [
       "True"
      ]
     },
     "execution_count": 29,
     "metadata": {},
     "output_type": "execute_result"
    }
   ],
   "source": [
    "#check eliment inside the list whether it present or not\n",
    "lst=[1,2,3,4,5]\n",
    "4 in lst"
   ]
  },
  {
   "cell_type": "code",
   "execution_count": 32,
   "id": "e8522b07-733e-4369-b0da-fbf3187dd56a",
   "metadata": {},
   "outputs": [],
   "source": [
    "list_one=['zebra','monkey','Donkey','loin']\n",
    "list_two=[5,6,2,9,5,8,6]"
   ]
  },
  {
   "cell_type": "code",
   "execution_count": 34,
   "id": "ad0081e5-ecb8-4d2b-b192-f09d48fd48a8",
   "metadata": {},
   "outputs": [
    {
     "name": "stdout",
     "output_type": "stream",
     "text": [
      "zebra\n",
      "9\n"
     ]
    }
   ],
   "source": [
    "print(max(list_one))\n",
    "print(max(list_two))"
   ]
  },
  {
   "cell_type": "code",
   "execution_count": 35,
   "id": "fc4223ab-6ee3-4de7-bc79-44c732506e31",
   "metadata": {},
   "outputs": [
    {
     "name": "stdout",
     "output_type": "stream",
     "text": [
      "Donkey\n",
      "2\n"
     ]
    }
   ],
   "source": [
    "print(min(list_one))\n",
    "print(min(list_two))"
   ]
  },
  {
   "cell_type": "code",
   "execution_count": 53,
   "id": "5aa7f2f5-9948-4d18-98c6-42b52cf10169",
   "metadata": {},
   "outputs": [],
   "source": [
    "#Append\n",
    "list_3=[1,2,3,4,5,6]"
   ]
  },
  {
   "cell_type": "code",
   "execution_count": 55,
   "id": "13c800d8-4085-4a78-87d8-7ecdfd2e5d66",
   "metadata": {},
   "outputs": [
    {
     "name": "stdout",
     "output_type": "stream",
     "text": [
      "[1, 2, 3, 4, 5, 6, 7]\n"
     ]
    }
   ],
   "source": [
    "list_3.append(7)\n",
    "print(list_3)"
   ]
  },
  {
   "cell_type": "code",
   "execution_count": 56,
   "id": "84a43361-2032-46da-b03a-599afd254b12",
   "metadata": {},
   "outputs": [
    {
     "name": "stdout",
     "output_type": "stream",
     "text": [
      "[1, 2, 3, 4, 5, 6, 7, 'Nutan']\n"
     ]
    }
   ],
   "source": [
    "list_3.append('Nutan')\n",
    "print(list_3)"
   ]
  },
  {
   "cell_type": "code",
   "execution_count": 57,
   "id": "ab9883a6-a9f7-4fa9-bb98-7036c789150f",
   "metadata": {},
   "outputs": [
    {
     "data": {
      "text/plain": [
       "[1, 2, 3, 4, 5, 6, 7, 'Nutan']"
      ]
     },
     "execution_count": 57,
     "metadata": {},
     "output_type": "execute_result"
    }
   ],
   "source": [
    "list_3"
   ]
  },
  {
   "cell_type": "code",
   "execution_count": 58,
   "id": "a8ddd833-6bd1-447b-a154-b1b2188acbf6",
   "metadata": {},
   "outputs": [
    {
     "name": "stdout",
     "output_type": "stream",
     "text": [
      "[1, 2, 3, 4, 5, 6, 7, 'Nutan', ['dog', 'cat', 'cow']]\n"
     ]
    }
   ],
   "source": [
    "#nested list\n",
    "list_3.append(['dog','cat','cow'])\n",
    "print(list_3)"
   ]
  },
  {
   "cell_type": "code",
   "execution_count": 59,
   "id": "d122d5c6-e8e6-4b83-8b97-b34fbb2168fc",
   "metadata": {},
   "outputs": [
    {
     "data": {
      "text/plain": [
       "['dog', 'cat', 'cow']"
      ]
     },
     "execution_count": 59,
     "metadata": {},
     "output_type": "execute_result"
    }
   ],
   "source": [
    "list_3.pop()"
   ]
  },
  {
   "cell_type": "code",
   "execution_count": 60,
   "id": "3282be16-318d-4f66-bba5-9f9d7d4dead6",
   "metadata": {},
   "outputs": [
    {
     "data": {
      "text/plain": [
       "[1, 2, 3, 4, 5, 6, 7, 'Nutan']"
      ]
     },
     "execution_count": 60,
     "metadata": {},
     "output_type": "execute_result"
    }
   ],
   "source": [
    "list_3"
   ]
  },
  {
   "cell_type": "code",
   "execution_count": 61,
   "id": "f9589a80-b8e2-480d-9a34-9053b0a01bdd",
   "metadata": {},
   "outputs": [
    {
     "data": {
      "text/plain": [
       "3"
      ]
     },
     "execution_count": 61,
     "metadata": {},
     "output_type": "execute_result"
    }
   ],
   "source": [
    "#if you want to specific index \n",
    "list_3.pop(2)\n"
   ]
  },
  {
   "cell_type": "code",
   "execution_count": 62,
   "id": "a80beadd-eea2-42e0-97c6-e07c1c8fce90",
   "metadata": {},
   "outputs": [
    {
     "data": {
      "text/plain": [
       "[1, 2, 4, 5, 6, 7, 'Nutan']"
      ]
     },
     "execution_count": 62,
     "metadata": {},
     "output_type": "execute_result"
    }
   ],
   "source": [
    "list_3"
   ]
  },
  {
   "cell_type": "code",
   "execution_count": 63,
   "id": "f669cc12-f7b9-4456-9762-89367e25ed75",
   "metadata": {},
   "outputs": [],
   "source": [
    "# stored element\n",
    "revoved_element=list_3.pop(0)"
   ]
  },
  {
   "cell_type": "code",
   "execution_count": 64,
   "id": "312665b3-88e0-4720-84a6-eb0edaab9778",
   "metadata": {},
   "outputs": [
    {
     "data": {
      "text/plain": [
       "[2, 4, 5, 6, 7, 'Nutan']"
      ]
     },
     "execution_count": 64,
     "metadata": {},
     "output_type": "execute_result"
    }
   ],
   "source": [
    "list_3"
   ]
  },
  {
   "cell_type": "code",
   "execution_count": 65,
   "id": "398b5ad1-67fc-49bc-a50d-b7790f4fed10",
   "metadata": {},
   "outputs": [
    {
     "data": {
      "text/plain": [
       "1"
      ]
     },
     "execution_count": 65,
     "metadata": {},
     "output_type": "execute_result"
    }
   ],
   "source": [
    "revoved_element"
   ]
  },
  {
   "cell_type": "code",
   "execution_count": 66,
   "id": "b95f1177-b53c-4ac3-95a2-9ea69398da44",
   "metadata": {},
   "outputs": [],
   "source": [
    "## Sorting and reverse method in list"
   ]
  },
  {
   "cell_type": "code",
   "execution_count": 69,
   "id": "918c4db4-d92c-43c7-a5d4-de65a17235be",
   "metadata": {},
   "outputs": [],
   "source": [
    "new_list=['q','e','f','s','t','u']"
   ]
  },
  {
   "cell_type": "code",
   "execution_count": 70,
   "id": "0938a9c0-fa98-418c-bbd4-ff9bef41a55d",
   "metadata": {},
   "outputs": [
    {
     "data": {
      "text/plain": [
       "['q', 'e', 'f', 's', 't', 'u']"
      ]
     },
     "execution_count": 70,
     "metadata": {},
     "output_type": "execute_result"
    }
   ],
   "source": [
    "new_list"
   ]
  },
  {
   "cell_type": "code",
   "execution_count": 68,
   "id": "e722b238-148c-4de5-8d45-60ab5fe79687",
   "metadata": {},
   "outputs": [
    {
     "data": {
      "text/plain": [
       "['u', 't', 's', 'f', 'e', 'q']"
      ]
     },
     "execution_count": 68,
     "metadata": {},
     "output_type": "execute_result"
    }
   ],
   "source": [
    "new_list[::-1]"
   ]
  },
  {
   "cell_type": "code",
   "execution_count": 77,
   "id": "c060f23c-604f-43b1-8fab-14b6ed9ede4d",
   "metadata": {},
   "outputs": [],
   "source": [
    "# inplace\n",
    "new_list.reverse()"
   ]
  },
  {
   "cell_type": "code",
   "execution_count": 78,
   "id": "8091da69-c5b2-4fe7-9c12-a0f721746cc2",
   "metadata": {},
   "outputs": [
    {
     "data": {
      "text/plain": [
       "['u', 't', 's', 'q', 'f', 'e']"
      ]
     },
     "execution_count": 78,
     "metadata": {},
     "output_type": "execute_result"
    }
   ],
   "source": [
    "new_list"
   ]
  },
  {
   "cell_type": "code",
   "execution_count": 75,
   "id": "5a798b7f-9a27-44f9-ba3f-a967d0537a65",
   "metadata": {},
   "outputs": [],
   "source": [
    "new_list.sort()"
   ]
  },
  {
   "cell_type": "code",
   "execution_count": 76,
   "id": "2dbd05fe-8b92-462e-a6cf-175c35b9b256",
   "metadata": {},
   "outputs": [
    {
     "data": {
      "text/plain": [
       "['e', 'f', 'q', 's', 't', 'u']"
      ]
     },
     "execution_count": 76,
     "metadata": {},
     "output_type": "execute_result"
    }
   ],
   "source": [
    "new_list"
   ]
  },
  {
   "cell_type": "code",
   "execution_count": 84,
   "id": "753bd72b-e74b-4cb6-99ba-ac7c820d6611",
   "metadata": {},
   "outputs": [],
   "source": [
    "animal=['monkey', 'donkey', 'cat', 'cow']"
   ]
  },
  {
   "cell_type": "code",
   "execution_count": 85,
   "id": "1fdd42e9-7660-4948-8bd4-ae944fe5e838",
   "metadata": {},
   "outputs": [
    {
     "data": {
      "text/plain": [
       "['monkey', 'donkey', 'cat', 'cow']"
      ]
     },
     "execution_count": 85,
     "metadata": {},
     "output_type": "execute_result"
    }
   ],
   "source": [
    "animal"
   ]
  },
  {
   "cell_type": "code",
   "execution_count": 86,
   "id": "1bdf6cf5-7cac-4ead-a710-f3eb90e71032",
   "metadata": {},
   "outputs": [],
   "source": [
    "# when u want to add more than one element in list without nested list\n",
    "animal.extend(['red', 'black', 'pink', 'white' ])"
   ]
  },
  {
   "cell_type": "code",
   "execution_count": 87,
   "id": "7a3ba73d-3d13-40c9-8d68-96e1b1f34390",
   "metadata": {},
   "outputs": [
    {
     "data": {
      "text/plain": [
       "['monkey', 'donkey', 'cat', 'cow', 'red', 'black', 'pink', 'white']"
      ]
     },
     "execution_count": 87,
     "metadata": {},
     "output_type": "execute_result"
    }
   ],
   "source": [
    "animal"
   ]
  },
  {
   "cell_type": "markdown",
   "id": "6b397e76-724d-488e-ba37-3de5b783f7a3",
   "metadata": {},
   "source": [
    "# Nested list"
   ]
  },
  {
   "cell_type": "code",
   "execution_count": 88,
   "id": "5d2f25eb-f449-49ec-b4c3-35447c27cf29",
   "metadata": {},
   "outputs": [],
   "source": [
    "#lest make three lists\n",
    "lst_1=[1,2,3]\n",
    "lst_2=[4,5,6]\n",
    "lst_3=[7,8,9]\n",
    "\n",
    "# Make a list of lists to form a matrix\n",
    "matrix=[lst_1, lst_2, lst_3]"
   ]
  },
  {
   "cell_type": "code",
   "execution_count": 89,
   "id": "16383d1b-d635-4e2c-9c5c-ccbc7317442e",
   "metadata": {},
   "outputs": [
    {
     "data": {
      "text/plain": [
       "[[1, 2, 3], [4, 5, 6], [7, 8, 9]]"
      ]
     },
     "execution_count": 89,
     "metadata": {},
     "output_type": "execute_result"
    }
   ],
   "source": [
    "matrix"
   ]
  },
  {
   "cell_type": "code",
   "execution_count": 90,
   "id": "dd3211c4-f23d-4724-b4f1-2aeee23a03d8",
   "metadata": {},
   "outputs": [
    {
     "data": {
      "text/plain": [
       "[4, 5, 6]"
      ]
     },
     "execution_count": 90,
     "metadata": {},
     "output_type": "execute_result"
    }
   ],
   "source": [
    "matrix[1]"
   ]
  },
  {
   "cell_type": "code",
   "execution_count": 91,
   "id": "3f77f7ce-7e52-4f04-8478-9719c80745bc",
   "metadata": {},
   "outputs": [
    {
     "data": {
      "text/plain": [
       "6"
      ]
     },
     "execution_count": 91,
     "metadata": {},
     "output_type": "execute_result"
    }
   ],
   "source": [
    "matrix[1][2]"
   ]
  },
  {
   "cell_type": "code",
   "execution_count": 92,
   "id": "7f314766-9ee4-4515-8de4-1b3fa13bad77",
   "metadata": {},
   "outputs": [
    {
     "data": {
      "text/plain": [
       "[8, 9]"
      ]
     },
     "execution_count": 92,
     "metadata": {},
     "output_type": "execute_result"
    }
   ],
   "source": [
    "matrix[2][1:]"
   ]
  },
  {
   "cell_type": "code",
   "execution_count": 97,
   "id": "de5d2b57-5d83-467d-8508-51cf3be64d0c",
   "metadata": {},
   "outputs": [
    {
     "data": {
      "text/plain": [
       "[0, 1, 2, 3, 4, 5, 6, 7, 8, 9, 10, 11, 12, 13, 14, 15, 16, 17, 18, 19]"
      ]
     },
     "execution_count": 97,
     "metadata": {},
     "output_type": "execute_result"
    }
   ],
   "source": [
    "# List comprehension \n",
    "[i for i in range(20)]"
   ]
  },
  {
   "cell_type": "code",
   "execution_count": 109,
   "id": "867acc90-318b-4266-a212-5866bd689e1d",
   "metadata": {},
   "outputs": [
    {
     "data": {
      "text/plain": [
       "[0,\n",
       " 'odd',\n",
       " 2,\n",
       " 'odd',\n",
       " 4,\n",
       " 'odd',\n",
       " 6,\n",
       " 'odd',\n",
       " 8,\n",
       " 'odd',\n",
       " 10,\n",
       " 'odd',\n",
       " 12,\n",
       " 'odd',\n",
       " 14,\n",
       " 'odd',\n",
       " 16,\n",
       " 'odd',\n",
       " 18,\n",
       " 'odd']"
      ]
     },
     "execution_count": 109,
     "metadata": {},
     "output_type": "execute_result"
    }
   ],
   "source": [
    "# For even No.\n",
    "[i if i%2==0 else \"odd\" for i in range (20)]"
   ]
  },
  {
   "cell_type": "code",
   "execution_count": 110,
   "id": "2e251f4e-068f-416b-8be6-36f2a1bc553f",
   "metadata": {},
   "outputs": [],
   "source": [
    "# Find the sumation of even no abd odd no. in two variable"
   ]
  },
  {
   "cell_type": "code",
   "execution_count": 119,
   "id": "7407f3cb-5247-4c05-9b96-83eccfed5e44",
   "metadata": {},
   "outputs": [
    {
     "name": "stdout",
     "output_type": "stream",
     "text": [
      "Even sum = 20\n",
      "odd sum = 16\n"
     ]
    }
   ],
   "source": [
    "lst_4=[1,2,3,4,5,6,7,8]\n",
    "even_sum=0\n",
    "odd_sum=0\n",
    "\n",
    "for i in lst_4:\n",
    "    if i%2==0:\n",
    "        even_sum+=i \n",
    "        \n",
    "    else: \n",
    "        odd_sum+=i\n",
    "        \n",
    "print(\"Even sum =\", even_sum)\n",
    "print(\"odd sum =\", odd_sum)"
   ]
  },
  {
   "cell_type": "code",
   "execution_count": 122,
   "id": "49ed694b-d374-4271-82e5-3faff68af765",
   "metadata": {},
   "outputs": [
    {
     "name": "stdout",
     "output_type": "stream",
     "text": [
      "20\n"
     ]
    }
   ],
   "source": [
    "even_sum1=sum([num for num in lst_4 if num%2==0])\n",
    "print(even_sum1)"
   ]
  },
  {
   "cell_type": "code",
   "execution_count": 123,
   "id": "7085f210-6b09-42f9-bd7f-ded568058f6c",
   "metadata": {},
   "outputs": [
    {
     "name": "stdout",
     "output_type": "stream",
     "text": [
      "16\n"
     ]
    }
   ],
   "source": [
    "odd_sum1=sum([num for num in lst_4 if num%2!=0])\n",
    "print(odd_sum1)"
   ]
  },
  {
   "cell_type": "code",
   "execution_count": 125,
   "id": "4d212183-1ace-40b1-a255-9a85ffe0c8cb",
   "metadata": {},
   "outputs": [
    {
     "data": {
      "text/plain": [
       "[1, 4, 9, 16, 25, 36, 49, 64]"
      ]
     },
     "execution_count": 125,
     "metadata": {},
     "output_type": "execute_result"
    }
   ],
   "source": [
    "# squqre of the no.\n",
    "[num**2 for num in lst_4]"
   ]
  },
  {
   "cell_type": "code",
   "execution_count": 128,
   "id": "accdc475-bc59-4ed8-bc7f-511af6ff5a72",
   "metadata": {},
   "outputs": [
    {
     "data": {
      "text/plain": [
       "[1, 2, 3, 4]"
      ]
     },
     "execution_count": 128,
     "metadata": {},
     "output_type": "execute_result"
    }
   ],
   "source": [
    "# Create a list of only the positive no.s from a given list\n",
    "number=[-2,-1, 0, 1, 2, 3, 4]\n",
    "[num for num in number if num>0]"
   ]
  },
  {
   "cell_type": "code",
   "execution_count": 129,
   "id": "e9866cb5-7469-4ab1-bf00-5b8e71ad3bb1",
   "metadata": {},
   "outputs": [
    {
     "data": {
      "text/plain": [
       "['a', 'b', 'c', 'd']"
      ]
     },
     "execution_count": 129,
     "metadata": {},
     "output_type": "execute_result"
    }
   ],
   "source": [
    "# Create a list of only the first letters of words in a list\n",
    "words=['apple', 'banana', 'cherry', 'date']\n",
    "[i[0] for i in words]"
   ]
  },
  {
   "cell_type": "code",
   "execution_count": 134,
   "id": "26bea024-01e3-40a2-9e5b-42070a1bed3a",
   "metadata": {},
   "outputs": [
    {
     "data": {
      "text/plain": [
       "[32.0, 50.0, 68.0, 86.0, 104.0, 122.0]"
      ]
     },
     "execution_count": 134,
     "metadata": {},
     "output_type": "execute_result"
    }
   ],
   "source": [
    "# how to convert temp c in f  (9/5)*temp+32\n",
    "celsius_temperatures=[0, 10, 20, 30, 40, 50]\n",
    "[(9/5)*temp+32 for temp in celsius_temperatures ]"
   ]
  },
  {
   "cell_type": "code",
   "execution_count": 137,
   "id": "ee7259c8-826d-4c4c-a773-6998c338270b",
   "metadata": {},
   "outputs": [
    {
     "data": {
      "text/plain": [
       "[1, 2, 3, 4, 5, 6, 7, 8, 9]"
      ]
     },
     "execution_count": 137,
     "metadata": {},
     "output_type": "execute_result"
    }
   ],
   "source": [
    "# Flatten a list of list in to a singal list\n",
    "list_4=[[1, 2, 3], [4, 5, 6], [7, 8, 9]]\n",
    "[num for sub_list in list_4 for num in sub_list]"
   ]
  },
  {
   "cell_type": "code",
   "execution_count": 138,
   "id": "bfca6508-b31d-4c0e-aa66-8b8b5fda9bee",
   "metadata": {},
   "outputs": [],
   "source": [
    "# Assignment:\n",
    "# you have to do using both code and list  comprehension  \n",
    "\n",
    "# Example1: creat a list of only the prime numbers from given list\n",
    "numbers=[1, 2, 3, 4, 5, 6, 7, 8, 9, 10]\n",
    "# Example2: creat a list of all the possible combinations of 2 elements from a list \n",
    "numbers=[1, 2, 3, 4, 5]\n",
    "#example=(1,2),(1,3),(2,1)"
   ]
  },
  {
   "cell_type": "code",
   "execution_count": null,
   "id": "c66c53f3-6cbe-471f-9374-6fa6e5274845",
   "metadata": {},
   "outputs": [],
   "source": []
  }
 ],
 "metadata": {
  "kernelspec": {
   "display_name": "Python 3 (ipykernel)",
   "language": "python",
   "name": "python3"
  },
  "language_info": {
   "codemirror_mode": {
    "name": "ipython",
    "version": 3
   },
   "file_extension": ".py",
   "mimetype": "text/x-python",
   "name": "python",
   "nbconvert_exporter": "python",
   "pygments_lexer": "ipython3",
   "version": "3.11.1"
  }
 },
 "nbformat": 4,
 "nbformat_minor": 5
}
