{
 "cells": [
  {
   "cell_type": "code",
   "execution_count": 1,
   "id": "81313224-a30d-436c-9bc8-2a4be1d7a575",
   "metadata": {},
   "outputs": [],
   "source": [
    "a=10"
   ]
  },
  {
   "cell_type": "code",
   "execution_count": 2,
   "id": "af296c5a-cab7-4e6c-971b-16db438fb23b",
   "metadata": {},
   "outputs": [
    {
     "data": {
      "text/plain": [
       "10"
      ]
     },
     "execution_count": 2,
     "metadata": {},
     "output_type": "execute_result"
    }
   ],
   "source": [
    "a"
   ]
  },
  {
   "cell_type": "code",
   "execution_count": 3,
   "id": "3e98db5d-2e0a-43b0-805d-64bcfca768b2",
   "metadata": {},
   "outputs": [
    {
     "name": "stdout",
     "output_type": "stream",
     "text": [
      "7\n"
     ]
    }
   ],
   "source": [
    "print(3+4)"
   ]
  },
  {
   "cell_type": "code",
   "execution_count": 4,
   "id": "9e20d088-d2c8-4f81-9fe4-9dc75fdb9282",
   "metadata": {},
   "outputs": [
    {
     "data": {
      "text/plain": [
       "13"
      ]
     },
     "execution_count": 4,
     "metadata": {},
     "output_type": "execute_result"
    }
   ],
   "source": [
    "3+10"
   ]
  },
  {
   "cell_type": "markdown",
   "id": "007ae192-a7e8-4a9e-be0a-ad0314202764",
   "metadata": {
    "tags": []
   },
   "source": [
    "# variable assignment"
   ]
  },
  {
   "cell_type": "code",
   "execution_count": 5,
   "id": "1f90bb5a-450a-4cc3-b684-36a1d64e530c",
   "metadata": {},
   "outputs": [
    {
     "data": {
      "text/plain": [
       "str"
      ]
     },
     "execution_count": 5,
     "metadata": {},
     "output_type": "execute_result"
    }
   ],
   "source": [
    "type('')"
   ]
  },
  {
   "cell_type": "code",
   "execution_count": 6,
   "id": "55672d30-5222-47c9-bb14-07f95af7459d",
   "metadata": {},
   "outputs": [
    {
     "data": {
      "text/plain": [
       "float"
      ]
     },
     "execution_count": 6,
     "metadata": {},
     "output_type": "execute_result"
    }
   ],
   "source": [
    "decimal=2.5\n",
    "type(decimal)"
   ]
  },
  {
   "cell_type": "code",
   "execution_count": 7,
   "id": "1f9e8301-1693-48f6-b5f1-6a2e565768f0",
   "metadata": {},
   "outputs": [
    {
     "data": {
      "text/plain": [
       "complex"
      ]
     },
     "execution_count": 7,
     "metadata": {},
     "output_type": "execute_result"
    }
   ],
   "source": [
    "type(1+2j)"
   ]
  },
  {
   "cell_type": "markdown",
   "id": "ac4ee665-da88-4945-a98a-00b30ca74650",
   "metadata": {
    "tags": []
   },
   "source": [
    "# concatanation"
   ]
  },
  {
   "cell_type": "code",
   "execution_count": 8,
   "id": "91599edd-d744-498f-bc64-9d20f273fda4",
   "metadata": {},
   "outputs": [
    {
     "data": {
      "text/plain": [
       "'11'"
      ]
     },
     "execution_count": 8,
     "metadata": {},
     "output_type": "execute_result"
    }
   ],
   "source": [
    "\"1\"+\"1\""
   ]
  },
  {
   "cell_type": "code",
   "execution_count": 9,
   "id": "98a231d8-b89b-4f43-acef-6e4755ce27d7",
   "metadata": {
    "tags": []
   },
   "outputs": [
    {
     "data": {
      "text/plain": [
       "'1111111111'"
      ]
     },
     "execution_count": 9,
     "metadata": {},
     "output_type": "execute_result"
    }
   ],
   "source": [
    "\"1\"*10"
   ]
  },
  {
   "cell_type": "code",
   "execution_count": 10,
   "id": "35e1ce45-4e43-4603-b129-7847f5cfff2e",
   "metadata": {},
   "outputs": [],
   "source": [
    "a=10"
   ]
  },
  {
   "cell_type": "code",
   "execution_count": 11,
   "id": "6d3a377c-8763-4010-a1ec-e3917c6b2b97",
   "metadata": {},
   "outputs": [],
   "source": [
    "b=15"
   ]
  },
  {
   "cell_type": "code",
   "execution_count": 12,
   "id": "3816d8e6-ae1c-415b-b630-4e1d4eff0955",
   "metadata": {},
   "outputs": [
    {
     "data": {
      "text/plain": [
       "25"
      ]
     },
     "execution_count": 12,
     "metadata": {},
     "output_type": "execute_result"
    }
   ],
   "source": [
    "a+b"
   ]
  }
 ],
 "metadata": {
  "kernelspec": {
   "display_name": "Python 3 (ipykernel)",
   "language": "python",
   "name": "python3"
  },
  "language_info": {
   "codemirror_mode": {
    "name": "ipython",
    "version": 3
   },
   "file_extension": ".py",
   "mimetype": "text/x-python",
   "name": "python",
   "nbconvert_exporter": "python",
   "pygments_lexer": "ipython3",
   "version": "3.10.8"
  }
 },
 "nbformat": 4,
 "nbformat_minor": 5
}
