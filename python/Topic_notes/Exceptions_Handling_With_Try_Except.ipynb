{
 "cells": [
  {
   "cell_type": "markdown",
   "id": "2e9366bf-4234-4bfe-9462-1c4ae6aeead0",
   "metadata": {},
   "source": [
    "# Exceptions Handling With Try Except"
   ]
  },
  {
   "cell_type": "code",
   "execution_count": 8,
   "id": "0c106185-1f85-451e-b14b-4f9c18fae100",
   "metadata": {
    "tags": []
   },
   "outputs": [
    {
     "ename": "ZeroDivisionError",
     "evalue": "division by zero",
     "output_type": "error",
     "traceback": [
      "\u001b[1;31m---------------------------------------------------------------------------\u001b[0m",
      "\u001b[1;31mZeroDivisionError\u001b[0m                         Traceback (most recent call last)",
      "Cell \u001b[1;32mIn[8], line 2\u001b[0m\n\u001b[0;32m      1\u001b[0m a\u001b[38;5;241m=\u001b[39m\u001b[38;5;241m16\u001b[39m\n\u001b[1;32m----> 2\u001b[0m \u001b[38;5;28mprint\u001b[39m(\u001b[43ma\u001b[49m\u001b[38;5;241;43m/\u001b[39;49m\u001b[38;5;241;43m0\u001b[39;49m)\n",
      "\u001b[1;31mZeroDivisionError\u001b[0m: division by zero"
     ]
    }
   ],
   "source": [
    "a=16\n",
    "print(a/0)"
   ]
  },
  {
   "cell_type": "code",
   "execution_count": 9,
   "id": "5bbd3020-4bf2-4b97-a6e6-c28f72879a7a",
   "metadata": {},
   "outputs": [
    {
     "name": "stdin",
     "output_type": "stream",
     "text": [
      "enter a value 45\n"
     ]
    },
    {
     "name": "stdout",
     "output_type": "stream",
     "text": [
      "0.3333333333333333\n"
     ]
    }
   ],
   "source": [
    "def division(a):\n",
    "    try:\n",
    "        x=15/a\n",
    "        print(x)\n",
    "    except ZeroDivisionError:\n",
    "        print('please give value of a graeter than 0')\n",
    "    \n",
    "    \n",
    "give_value=int(input ('enter a value'))\n",
    "\n",
    "division(give_value)\n",
    "    \n",
    "\n"
   ]
  },
  {
   "cell_type": "markdown",
   "id": "aaf1d8c8-b26e-4489-84df-8245b4b77083",
   "metadata": {},
   "source": [
    "Try Except in Python\n",
    "Try and Except statement is used to handle these errors within our code in Python. The try block is used to check some code for errors i.e the code inside the try block will execute when there is no error in the program. Whereas the code inside the except block will execute whenever the program encounters some error in the preceding try block."
   ]
  },
  {
   "cell_type": "markdown",
   "id": "fea87731-a2b1-401d-8cd7-ab7b93fe6765",
   "metadata": {
    "tags": []
   },
   "source": [
    "try:\n",
    "    # Some Code\n",
    "except:\n",
    "    # Executed if error in the\n",
    "    # try block"
   ]
  },
  {
   "cell_type": "code",
   "execution_count": 10,
   "id": "0b4f5192-2c9e-46ed-afc4-21e0179d9e36",
   "metadata": {
    "tags": []
   },
   "outputs": [
    {
     "name": "stdin",
     "output_type": "stream",
     "text": [
      "enter a value 5\n"
     ]
    },
    {
     "name": "stdout",
     "output_type": "stream",
     "text": [
      "3.0\n",
      "3.0\n"
     ]
    }
   ],
   "source": [
    "def division(a):\n",
    "    try:\n",
    "        x=15/a\n",
    "        print(x)\n",
    "    except ZeroDivisionError:\n",
    "        print('please give value of a graeter than 0')\n",
    "    else:\n",
    "        print(x)\n",
    "    \n",
    "    \n",
    "give_value=int(input ('enter a value'))\n",
    "division(give_value)"
   ]
  },
  {
   "cell_type": "code",
   "execution_count": null,
   "id": "7726536c-ef53-4f12-b8f4-40050881ae26",
   "metadata": {},
   "outputs": [],
   "source": [
    "f= open('test.txt', 'r')\n"
   ]
  },
  {
   "cell_type": "code",
   "execution_count": null,
   "id": "76e7b9ba-4997-442d-bc58-1670fc7d9666",
   "metadata": {},
   "outputs": [],
   "source": []
  },
  {
   "cell_type": "code",
   "execution_count": null,
   "id": "374c7ff5-07af-4cc5-a441-d8a8f080e00e",
   "metadata": {},
   "outputs": [],
   "source": []
  },
  {
   "cell_type": "code",
   "execution_count": null,
   "id": "f49c103f-4b6c-44f9-9e8b-c1ef3988fe54",
   "metadata": {},
   "outputs": [],
   "source": []
  },
  {
   "cell_type": "markdown",
   "id": "b849bfd3-bdeb-48f1-bed3-5a01b7fee6a4",
   "metadata": {
    "tags": []
   },
   "source": [
    "# Best Practice Exception Handling"
   ]
  },
  {
   "cell_type": "code",
   "execution_count": 13,
   "id": "6f45e98a-e3ef-4fab-9c0c-37e4407108f6",
   "metadata": {
    "tags": []
   },
   "outputs": [
    {
     "name": "stdout",
     "output_type": "stream",
     "text": [
      "division by zero\n"
     ]
    }
   ],
   "source": [
    "# not use a specific exception is bad practice\n",
    "\n",
    "try:\n",
    "    10/0\n",
    "except Exception as e:\n",
    "    print(e)"
   ]
  },
  {
   "cell_type": "code",
   "execution_count": 15,
   "id": "a7743be2-528f-487a-a413-5609087ee26e",
   "metadata": {
    "tags": []
   },
   "outputs": [
    {
     "name": "stdout",
     "output_type": "stream",
     "text": [
      "division by zero\n"
     ]
    }
   ],
   "source": [
    "# for good producton code use specific error handaling is good practice\n",
    "\n",
    "try:\n",
    "    10/0\n",
    "except ZeroDivisionError as e:\n",
    "    print(e)"
   ]
  },
  {
   "cell_type": "code",
   "execution_count": 16,
   "id": "e96e564d-83f1-4674-82b4-a18c33b65812",
   "metadata": {
    "tags": []
   },
   "outputs": [
    {
     "name": "stdout",
     "output_type": "stream",
     "text": [
      "This is my zero devision error i am handaling division by zero\n"
     ]
    }
   ],
   "source": [
    "# print always a valid msg\n",
    "\n",
    "try:\n",
    "    10/0\n",
    "except ZeroDivisionError as e:\n",
    "    print('This is my zero devision error i am handaling', e)"
   ]
  },
  {
   "cell_type": "code",
   "execution_count": 21,
   "id": "b79798e3-1207-4f8a-b6fd-7749f1ed6dc8",
   "metadata": {
    "tags": []
   },
   "outputs": [],
   "source": [
    "import logging"
   ]
  },
  {
   "cell_type": "code",
   "execution_count": 30,
   "id": "2191feb4-d3cd-4436-8b50-69fc90c585fc",
   "metadata": {
    "tags": []
   },
   "outputs": [],
   "source": [
    "# always try to log insted of print statemnet\n",
    "# print statment: keep msg in short time in comsole\n",
    "# log file :- keep msg in permannat way\n",
    "# log every time\n",
    "import logging\n",
    "logging.basicConfig(filename='error.log', level=logging.ERROR)\n",
    "try:\n",
    "    10/0\n",
    "except ZeroDivisionError as e:\n",
    "    logging.error('This is my zero devision error i am handaling {}'.format(e))\n",
    "    "
   ]
  },
  {
   "cell_type": "code",
   "execution_count": 31,
   "id": "34acf840-0392-4d5b-8420-e0b8bc3d9482",
   "metadata": {
    "tags": []
   },
   "outputs": [
    {
     "name": "stdout",
     "output_type": "stream",
     "text": [
      "This is my zero devision error i am handaling division by zero\n"
     ]
    }
   ],
   "source": [
    "# always avoide to write a multiple exeption handaling\n",
    "\n",
    "try:\n",
    "    10/0\n",
    "except FileNotFoundError as e:\n",
    "    logging.error('This is my file not found error i am handaling {}'.format(e))\n",
    "except AttributeError as e:\n",
    "    logging.error('This is my Attribute error i am handaling {}'.format(e))\n",
    "    \n",
    "except ZeroDivisionError as e:\n",
    "    logging.error('This is my zero devision error i am handaling {}'.format(e))\n",
    "    "
   ]
  },
  {
   "cell_type": "code",
   "execution_count": 32,
   "id": "0f9daa91-238c-4ec2-9aa7-3143a7947954",
   "metadata": {
    "tags": []
   },
   "outputs": [],
   "source": [
    "# always prepare a proper documentation of entire code"
   ]
  },
  {
   "cell_type": "code",
   "execution_count": 35,
   "id": "abf224b2-574a-450c-baf7-050b32ffbc30",
   "metadata": {
    "tags": []
   },
   "outputs": [],
   "source": [
    "# cleanup all the resources\n",
    "\n",
    "\n",
    "try:\n",
    "    with open ('test.txt', 'w') as f:\n",
    "        f.write('this is my msg to file')\n",
    "except FileNotFoundError as e:\n",
    "    logging.error('This is my file not found error i am handaling {}'.format(e))\n",
    "    \n",
    "finally:\n",
    "    f.close() \n",
    "# you must close the file or data base for to avoide over use of resourses\n",
    "    "
   ]
  },
  {
   "cell_type": "code",
   "execution_count": 37,
   "id": "4a3427c8-10d5-4247-9360-a3d010574da6",
   "metadata": {
    "tags": []
   },
   "outputs": [
    {
     "ename": "SyntaxError",
     "evalue": "invalid syntax (2787600729.py, line 3)",
     "output_type": "error",
     "traceback": [
      "\u001b[1;36m  Cell \u001b[1;32mIn[37], line 3\u001b[1;36m\u001b[0m\n\u001b[1;33m    R = X*X print (\"Square=\",R)\u001b[0m\n\u001b[1;37m            ^\u001b[0m\n\u001b[1;31mSyntaxError\u001b[0m\u001b[1;31m:\u001b[0m invalid syntax\n"
     ]
    }
   ],
   "source": [
    "X = int(input(\"Enter a Number\")) \n",
    "\n",
    "R = X*X print (\"Square=\",R)"
   ]
  },
  {
   "cell_type": "code",
   "execution_count": null,
   "id": "2e422f05-f87b-4a1e-8958-00586995794c",
   "metadata": {},
   "outputs": [],
   "source": []
  }
 ],
 "metadata": {
  "kernelspec": {
   "display_name": "Python 3 (ipykernel)",
   "language": "python",
   "name": "python3"
  },
  "language_info": {
   "codemirror_mode": {
    "name": "ipython",
    "version": 3
   },
   "file_extension": ".py",
   "mimetype": "text/x-python",
   "name": "python",
   "nbconvert_exporter": "python",
   "pygments_lexer": "ipython3",
   "version": "3.11.1"
  }
 },
 "nbformat": 4,
 "nbformat_minor": 5
}
