{
 "cells": [
  {
   "cell_type": "code",
   "execution_count": 12,
   "id": "f4f0292a-189f-4c2a-aebf-a75070769f3d",
   "metadata": {},
   "outputs": [],
   "source": [
    "age=50"
   ]
  },
  {
   "cell_type": "code",
   "execution_count": 13,
   "id": "e0d48acb-49fb-4411-b2cb-90403ec9dd9e",
   "metadata": {},
   "outputs": [
    {
     "name": "stdout",
     "output_type": "stream",
     "text": [
      "my age is:  50\n"
     ]
    }
   ],
   "source": [
    "print(\"my age is: \",age)"
   ]
  },
  {
   "cell_type": "code",
   "execution_count": 5,
   "id": "ec2ceb83-54ec-4e9c-a9d3-8c8255dae575",
   "metadata": {},
   "outputs": [
    {
     "name": "stdout",
     "output_type": "stream",
     "text": [
      "my age is :50\n"
     ]
    }
   ],
   "source": [
    "# f string \n",
    "print(f\"my age is :{age}\")"
   ]
  },
  {
   "cell_type": "code",
   "execution_count": 9,
   "id": "135d1d9f-69a7-45a8-8bde-c1e482a57804",
   "metadata": {},
   "outputs": [
    {
     "name": "stdout",
     "output_type": "stream",
     "text": [
      "my age is 30 and name is nutan\n"
     ]
    }
   ],
   "source": [
    "name=\"nutan\" \n",
    "age=30\n",
    "print(\"my age is {} and name is {}\".format(age,name))"
   ]
  },
  {
   "cell_type": "code",
   "execution_count": 10,
   "id": "f0108a42-1235-4077-97f3-a5e9e1af8f26",
   "metadata": {},
   "outputs": [
    {
     "name": "stdout",
     "output_type": "stream",
     "text": [
      "my age is 30 and name is 30\n"
     ]
    }
   ],
   "source": [
    "#placeholder\n",
    "print(\"my age is {firstname} and name is {firstage}\".format(firstname=age,firstage=age))"
   ]
  },
  {
   "cell_type": "markdown",
   "id": "337b312c-ae09-45d2-8216-71cc9f6787bd",
   "metadata": {},
   "source": [
    "# control flow\n",
    "## Dicission making statements"
   ]
  },
  {
   "cell_type": "code",
   "execution_count": 15,
   "id": "c5eed15a-bb41-42eb-9959-3e1f27f86c4d",
   "metadata": {},
   "outputs": [
    {
     "name": "stdout",
     "output_type": "stream",
     "text": [
      "you are eligible to vote\n"
     ]
    }
   ],
   "source": [
    "#if statment\n",
    "age=18\n",
    "if age>=18:\n",
    "    print(\"you are eligible to vote\")\n",
    "else:\n",
    "    print(\"You are no\n",
    "          t eligibale to vote\")"
   ]
  },
  {
   "cell_type": "code",
   "execution_count": 18,
   "id": "998c74bc-39d0-479e-9900-34915cf12238",
   "metadata": {},
   "outputs": [
    {
     "name": "stdout",
     "output_type": "stream",
     "text": [
      "You are nat eligibale to vote\n"
     ]
    }
   ],
   "source": [
    "age=18\n",
    "if age<18:\n",
    "    print(\"you are eligible to vote\")\n",
    "else:\n",
    "    print(\"You are nat eligibale to vote\")"
   ]
  },
  {
   "cell_type": "code",
   "execution_count": 21,
   "id": "649090ba-3725-4bc3-afe8-cdb2054a04e7",
   "metadata": {},
   "outputs": [
    {
     "name": "stdin",
     "output_type": "stream",
     "text": [
      " nutan bagde\n"
     ]
    },
    {
     "data": {
      "text/plain": [
       "'nutan bagde'"
      ]
     },
     "execution_count": 21,
     "metadata": {},
     "output_type": "execute_result"
    }
   ],
   "source": [
    "input()"
   ]
  },
  {
   "cell_type": "code",
   "execution_count": 23,
   "id": "10b70ab3-b29e-4fa9-bfb9-b7b2a3e1accc",
   "metadata": {},
   "outputs": [
    {
     "name": "stdin",
     "output_type": "stream",
     "text": [
      "Enter the name Krish naik\n"
     ]
    }
   ],
   "source": [
    "#default data type of input function is string \n",
    "name=input(\"Enter the name\")"
   ]
  },
  {
   "cell_type": "code",
   "execution_count": 26,
   "id": "571f9c31-8f50-446d-9108-f2d943764b90",
   "metadata": {},
   "outputs": [
    {
     "name": "stdin",
     "output_type": "stream",
     "text": [
      "Enter your age 36\n"
     ]
    }
   ],
   "source": [
    "#typecasting(str ---> int)\n",
    "age=int(input(\"Enter your age\"))"
   ]
  },
  {
   "cell_type": "code",
   "execution_count": 30,
   "id": "c626b80f-bfe6-4aec-94e3-4bd658d37b3b",
   "metadata": {},
   "outputs": [
    {
     "name": "stdin",
     "output_type": "stream",
     "text": [
      "Enter your age 26\n"
     ]
    },
    {
     "name": "stdout",
     "output_type": "stream",
     "text": [
      "You are young blood\n"
     ]
    }
   ],
   "source": [
    "age=int(input(\"Enter your age\"))\n",
    "if age>=18 and age<=45:\n",
    "    print(\"You are young blood\")\n",
    "else:\n",
    "    print(\"Thank You we will late you know.\")"
   ]
  },
  {
   "cell_type": "code",
   "execution_count": 34,
   "id": "66c339c7-b40e-4877-bc5a-3b250415a7c4",
   "metadata": {},
   "outputs": [],
   "source": [
    "## input the procuct price\n",
    "## procuct>1000 rs 20% off\n",
    "## print the product price\n",
    "## procuct<=1000 rs 30% off\n",
    "## print the product price    "
   ]
  },
  {
   "cell_type": "code",
   "execution_count": 37,
   "id": "40c239cc-fa8d-4f0e-9cad-03c30372e8c1",
   "metadata": {},
   "outputs": [
    {
     "name": "stdin",
     "output_type": "stream",
     "text": [
      "Enter the price =  5000\n"
     ]
    },
    {
     "name": "stdout",
     "output_type": "stream",
     "text": [
      "The price of the product is 4000.0\n"
     ]
    }
   ],
   "source": [
    "product_price=int(input(\"Enter the price = \"))\n",
    "if product_price>1000:\n",
    "    print(\"The price of the product is {}\".format(product_price*0.8))\n",
    "else:\n",
    "    print(\"The price of the product is {}\".format(product_price*0.7))"
   ]
  },
  {
   "cell_type": "code",
   "execution_count": null,
   "id": "94bbcb14-9647-4111-afe5-16067c86d968",
   "metadata": {},
   "outputs": [],
   "source": [
    "## mall input the procuct price\n",
    "## procuct>3000 rs 20% off\n",
    "## print the product price after removing the discount\n",
    "## procuct>=2000 and procuct<=3000 rs 30% off\n",
    "## print the product price after removing the discount\n",
    "## price ==2999 u will get aditional gift\n",
    "## procuct>=1000 and procuct<=2000 rs 40% off\n",
    "## print the product price after removing the discount"
   ]
  },
  {
   "cell_type": "code",
   "execution_count": null,
   "id": "c7392007-9ece-42b0-b693-8aaf3fee4ef6",
   "metadata": {},
   "outputs": [],
   "source": [
    "product_price=int(input(\"Enter the price = \"))\n",
    "if product_price>3000:\n",
    "    print(\"The price of the product is {}\".format(product_price*0.8))\n",
    "elif product_price>=2000 and product_price<=3000:\n",
    "    if product_price==2999:\n",
    "        print(\"congratulation u will get aditional gift\")\n",
    "    print(\"The price of the product is {}\".format(product_price*0.7))\n",
    "else:\n",
    "    print(\"The price of the product is {}\".format(product_price*0.6))"
   ]
  },
  {
   "cell_type": "code",
   "execution_count": 42,
   "id": "432d6e75-b11c-4ea0-a902-828a0d21f35f",
   "metadata": {},
   "outputs": [
    {
     "name": "stdin",
     "output_type": "stream",
     "text": [
      "Enter the number 524\n"
     ]
    },
    {
     "name": "stdout",
     "output_type": "stream",
     "text": [
      "value  is less than equal to 999\n"
     ]
    }
   ],
   "source": [
    "# singal statment\n",
    "val=int(input(\"Enter the number\"))\n",
    "if(val<=999):print(\"value  is less than equal to 999\")"
   ]
  },
  {
   "cell_type": "markdown",
   "id": "a7cf1369-418c-436a-be75-fd15ca9e52e2",
   "metadata": {},
   "source": [
    "# loop statements\n",
    "    1.while loop\n",
    "    2. for loop\n",
    "    3.nested loops\n",
    "    4.Loop control(break, continue, pass)"
   ]
  },
  {
   "cell_type": "code",
   "execution_count": 43,
   "id": "a64f6a18-72a0-4416-b920-4743aedba617",
   "metadata": {},
   "outputs": [
    {
     "name": "stdout",
     "output_type": "stream",
     "text": [
      "25\n",
      "26\n",
      "27\n",
      "28\n",
      "29\n",
      "30\n",
      "31\n",
      "32\n",
      "33\n",
      "34\n",
      "35\n",
      "36\n",
      "37\n",
      "38\n",
      "39\n",
      "40\n",
      "41\n",
      "42\n",
      "43\n",
      "44\n",
      "45\n",
      "46\n",
      "47\n",
      "48\n",
      "49\n",
      "50\n",
      "51\n",
      "52\n",
      "53\n",
      "54\n",
      "55\n",
      "56\n",
      "57\n",
      "58\n",
      "59\n",
      "60\n",
      "you can retaired\n"
     ]
    }
   ],
   "source": [
    "# while loop and while-else\n",
    "joining_age=25\n",
    "while joining_age<=60:\n",
    "    print(joining_age)\n",
    "    joining_age=joining_age+1\n",
    "else:\n",
    "    print(\"you can retaired\")"
   ]
  },
  {
   "cell_type": "code",
   "execution_count": 66,
   "id": "25fcef68-e39d-4f18-985c-904fca8bbd5c",
   "metadata": {},
   "outputs": [
    {
     "name": "stdout",
     "output_type": "stream",
     "text": [
      "Pute more money bank people\n"
     ]
    }
   ],
   "source": [
    "# ATM MACHINE with 1000rs\n",
    "total_amount=1000\n",
    "while total_amount==0:\n",
    "    print(total_amount)\n",
    "    total_amount=total_amount-100\n",
    "else:\n",
    "    print(\"Pute more money bank people\")\n",
    "    "
   ]
  },
  {
   "cell_type": "markdown",
   "id": "e9cd3074-411f-4939-b95e-079868109981",
   "metadata": {},
   "source": [
    "# for loop"
   ]
  },
  {
   "cell_type": "code",
   "execution_count": 47,
   "id": "cab7fb47-8091-4550-a995-1d1d27653c38",
   "metadata": {},
   "outputs": [
    {
     "name": "stdout",
     "output_type": "stream",
     "text": [
      "<class 'list'>\n",
      "apple\n",
      "nutan\n",
      "1\n",
      "2\n",
      "3\n",
      "4\n",
      "apple\n",
      "banana\n"
     ]
    }
   ],
   "source": [
    "lst1=['nutan',1,2,3,4,\"apple\",\"banana\"]\n",
    "print(type(lst1))\n",
    "print(lst1[5])\n",
    "for x in lst1:\n",
    "    print(x)"
   ]
  },
  {
   "cell_type": "code",
   "execution_count": 48,
   "id": "b936361c-a8e3-4fd3-9896-81f3453a657f",
   "metadata": {},
   "outputs": [
    {
     "name": "stdout",
     "output_type": "stream",
     "text": [
      "apple\n",
      "banana\n",
      "fruit is banana\n",
      "mango\n",
      "papaya\n"
     ]
    }
   ],
   "source": [
    "lst2=[\"apple\",\"banana\",\"mango\",\"papaya\"]\n",
    "for a in lst2:\n",
    "    print(a)\n",
    "    if a==\"banana\":\n",
    "        print(\"fruit is banana\")"
   ]
  },
  {
   "cell_type": "code",
   "execution_count": 65,
   "id": "ddfeced9-022d-4589-97c1-a2894709a5c9",
   "metadata": {},
   "outputs": [
    {
     "name": "stdout",
     "output_type": "stream",
     "text": [
      "N\n",
      "u\n",
      "t\n",
      "a\n",
      "n\n"
     ]
    }
   ],
   "source": [
    "# string is collection of eliment i.e. here we can do indexing\n",
    "name=\"Nutan\"\n",
    "for x in name:\n",
    "    print(x)"
   ]
  },
  {
   "cell_type": "code",
   "execution_count": 50,
   "id": "176f8c6d-8a5d-4309-ab5b-91c578ac6104",
   "metadata": {},
   "outputs": [
    {
     "name": "stdout",
     "output_type": "stream",
     "text": [
      "N\n"
     ]
    }
   ],
   "source": [
    "print(name[0])"
   ]
  },
  {
   "cell_type": "markdown",
   "id": "dde0699c-e755-4742-9efe-3d0c7eb210a0",
   "metadata": {},
   "source": [
    "## Nested loops"
   ]
  },
  {
   "cell_type": "code",
   "execution_count": 79,
   "id": "9dbc4c8b-3c24-438d-a01c-5284e1f44a68",
   "metadata": {},
   "outputs": [
    {
     "name": "stdout",
     "output_type": "stream",
     "text": [
      "0\n",
      "1\n",
      "2\n",
      "3\n",
      "4\n",
      "5\n",
      "6\n"
     ]
    }
   ],
   "source": [
    "for i in range(0,7):\n",
    "    print(i)"
   ]
  },
  {
   "cell_type": "code",
   "execution_count": 51,
   "id": "df548403-e09d-449d-864f-a4db34415c09",
   "metadata": {},
   "outputs": [
    {
     "name": "stdout",
     "output_type": "stream",
     "text": [
      "1\n",
      "2\n",
      "3\n",
      "4\n",
      "5\n"
     ]
    }
   ],
   "source": [
    "# step size is 1 by default\n",
    "for i in range(1,6):\n",
    "    print(i)"
   ]
  },
  {
   "cell_type": "code",
   "execution_count": 63,
   "id": "ab3113f5-7072-4c73-8dd9-3437e15e16ea",
   "metadata": {},
   "outputs": [
    {
     "name": "stdout",
     "output_type": "stream",
     "text": [
      "1\n",
      "3\n",
      "5\n"
     ]
    }
   ],
   "source": [
    "# step size is 2 given\n",
    "for i in range(1,6,2):\n",
    "    print(i)"
   ]
  },
  {
   "cell_type": "code",
   "execution_count": 64,
   "id": "3e812b8a-d042-4777-ba1c-2c7ee9535009",
   "metadata": {},
   "outputs": [
    {
     "name": "stdout",
     "output_type": "stream",
     "text": [
      "****************************"
     ]
    }
   ],
   "source": [
    "## nested loop\n",
    "n=7\n",
    "for i in range(0,n):\n",
    "    for j in range (0,i+1):\n",
    "        print(\"*\", end=\"\")\n",
    "               "
   ]
  },
  {
   "cell_type": "code",
   "execution_count": 62,
   "id": "fe552a39-e964-4e30-bd84-4c27f9bb0a1e",
   "metadata": {},
   "outputs": [
    {
     "name": "stdout",
     "output_type": "stream",
     "text": [
      "*\n",
      "*\n",
      "*\n",
      "*\n",
      "*\n",
      "*\n",
      "*\n",
      "*\n",
      "*\n",
      "*\n",
      "*\n",
      "*\n",
      "*\n",
      "*\n",
      "*\n",
      "*\n",
      "*\n",
      "*\n",
      "*\n",
      "*\n",
      "*\n",
      "*\n",
      "*\n",
      "*\n",
      "*\n",
      "*\n",
      "*\n",
      "*\n"
     ]
    }
   ],
   "source": [
    "## nested loop\n",
    "n=7\n",
    "for i in range(0,n):\n",
    "    for j in range (0,i+1):\n",
    "        print(\"*\", end=\"\\n\")"
   ]
  },
  {
   "cell_type": "code",
   "execution_count": 61,
   "id": "8735efad-30e3-4225-9c33-ca2f6c06fe19",
   "metadata": {},
   "outputs": [
    {
     "name": "stdout",
     "output_type": "stream",
     "text": [
      "*\n",
      "**\n",
      "***\n",
      "****\n",
      "*****\n",
      "******\n",
      "*******\n"
     ]
    }
   ],
   "source": [
    "## nested loop\n",
    "n=7\n",
    "for i in range(0,n):\n",
    "    for j in range (0,i+1):\n",
    "        print(\"*\", end=\"\")\n",
    "    print(\"\\r\")"
   ]
  },
  {
   "cell_type": "code",
   "execution_count": 60,
   "id": "037de12b-b60c-468c-9376-f4348f33d46e",
   "metadata": {},
   "outputs": [
    {
     "name": "stdout",
     "output_type": "stream",
     "text": [
      "*\n",
      "\n",
      "**\n",
      "\n",
      "***\n",
      "\n",
      "****\n",
      "\n",
      "*****\n",
      "\n",
      "******\n",
      "\n",
      "*******\n",
      "\n"
     ]
    }
   ],
   "source": [
    "## nested loop\n",
    "n=7\n",
    "for i in range(0,n):\n",
    "    for j in range (0,i+1):\n",
    "        print(\"*\", end=\"\")\n",
    "    print(\"\\n\")"
   ]
  },
  {
   "cell_type": "code",
   "execution_count": 71,
   "id": "dd897efa-2d40-494d-a468-806b12c04184",
   "metadata": {},
   "outputs": [
    {
     "name": "stdout",
     "output_type": "stream",
     "text": [
      "* \n",
      "** \n",
      "*** \n",
      "**** \n",
      "***** \n",
      "****** \n",
      "******* \n"
     ]
    }
   ],
   "source": [
    "## nested loop\n",
    "n=7\n",
    "for i in range(0,n):\n",
    "    for j in range (0,i+1):\n",
    "        print(\"*\", end=\"\")\n",
    "    print(\" \")\n"
   ]
  },
  {
   "cell_type": "code",
   "execution_count": 86,
   "id": "b1d751c9-bace-4ed6-9b9f-3792cdc701b0",
   "metadata": {},
   "outputs": [
    {
     "name": "stdout",
     "output_type": "stream",
     "text": [
      "*\n",
      "\n",
      "*\n",
      "*\n",
      "\n",
      "*\n",
      "*\n",
      "*\n",
      "\n",
      "*\n",
      "*\n",
      "*\n",
      "*\n",
      "\n",
      "*\n",
      "*\n",
      "*\n",
      "*\n",
      "*\n",
      "\n",
      "*\n",
      "*\n",
      "*\n",
      "*\n",
      "*\n",
      "*\n",
      "\n",
      "*\n",
      "*\n",
      "*\n",
      "*\n",
      "*\n",
      "*\n",
      "*\n",
      "\n"
     ]
    }
   ],
   "source": [
    "## nested loop\n",
    "n=7\n",
    "for i in range(0,n):\n",
    "    for j in range (0,i+1):\n",
    "        print(\"*\",sep='2')\n",
    "    print(\"\")"
   ]
  },
  {
   "cell_type": "markdown",
   "id": "f413c7fb-9655-4dbb-a574-c94a43839598",
   "metadata": {},
   "source": [
    "# loop control\n",
    "## Break and continue"
   ]
  },
  {
   "cell_type": "code",
   "execution_count": 77,
   "id": "0ff96fbb-ce79-4537-8b90-fdf276022738",
   "metadata": {},
   "outputs": [
    {
     "name": "stdout",
     "output_type": "stream",
     "text": [
      "apple\n",
      "the fruit is banana\n"
     ]
    }
   ],
   "source": [
    "# break is stop the loop\n",
    "lst2=[\"apple\",\"banana\",\"mango\",\"papaya\"]\n",
    "for i in lst2:\n",
    "    if i==\"banana\":\n",
    "        print(\"the fruit is banana\")\n",
    "        break\n",
    "    print(i)\n",
    "        "
   ]
  },
  {
   "cell_type": "code",
   "execution_count": 78,
   "id": "b23412f0-4e61-4a92-b0e5-0a65c77e67d4",
   "metadata": {},
   "outputs": [
    {
     "name": "stdout",
     "output_type": "stream",
     "text": [
      "apple\n",
      "the fruit is banana\n",
      "banana\n",
      "mango\n",
      "papaya\n"
     ]
    }
   ],
   "source": [
    "#\n",
    "lst2=[\"apple\",\"banana\",\"mango\",\"papaya\"]\n",
    "for i in lst2:\n",
    "    if i==\"banana\":\n",
    "        print(\"the fruit is banana\")\n",
    "        pass\n",
    "    print(i)"
   ]
  },
  {
   "cell_type": "code",
   "execution_count": 76,
   "id": "37031ebb-0aac-45b4-be30-e68ba321b0b0",
   "metadata": {},
   "outputs": [
    {
     "name": "stdout",
     "output_type": "stream",
     "text": [
      "apple\n",
      "the fruit is banana\n",
      "mango\n",
      "papaya\n"
     ]
    }
   ],
   "source": [
    "lst2=[\"apple\",\"banana\",\"mango\",\"papaya\"]\n",
    "for i in lst2:\n",
    "    if i==\"banana\":\n",
    "        print(\"the fruit is banana\")\n",
    "        continue\n",
    "    print(i)"
   ]
  },
  {
   "cell_type": "code",
   "execution_count": null,
   "id": "482d404b-4584-4aba-ab4a-2551e11dc309",
   "metadata": {},
   "outputs": [],
   "source": []
  }
 ],
 "metadata": {
  "kernelspec": {
   "display_name": "Python 3 (ipykernel)",
   "language": "python",
   "name": "python3"
  },
  "language_info": {
   "codemirror_mode": {
    "name": "ipython",
    "version": 3
   },
   "file_extension": ".py",
   "mimetype": "text/x-python",
   "name": "python",
   "nbconvert_exporter": "python",
   "pygments_lexer": "ipython3",
   "version": "3.10.8"
  }
 },
 "nbformat": 4,
 "nbformat_minor": 5
}
