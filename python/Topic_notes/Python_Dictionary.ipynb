{
 "cells": [
  {
   "cell_type": "markdown",
   "id": "b3ca04b4-9600-4b2c-8f58-5790fdeadacc",
   "metadata": {},
   "source": [
    "Python Dictionary\n",
    "\n",
    "Dictionaries are used to store data values in key:value pairs.\n",
    "\n",
    "A dictionary is a collection which is ordered*, changeable and do not allow duplicates.\n",
    "\n",
    "The dictionary is an unordered collection that contains key:value pairs separated by commas inside curly brackets. Dictionaries are optimized to retrieve values when the key is known.\n",
    "\n",
    "The following declares a dictionary object."
   ]
  },
  {
   "cell_type": "code",
   "execution_count": 2,
   "id": "70963e52-124e-4cd9-957a-e0156aae0cab",
   "metadata": {
    "tags": []
   },
   "outputs": [
    {
     "name": "stdout",
     "output_type": "stream",
     "text": [
      "<class 'dict'>\n"
     ]
    }
   ],
   "source": [
    "d={}\n",
    "print(type((d)))"
   ]
  },
  {
   "cell_type": "code",
   "execution_count": 3,
   "id": "dd47c5f6-726f-4672-bf0e-ece7353a9c58",
   "metadata": {
    "tags": []
   },
   "outputs": [
    {
     "name": "stdout",
     "output_type": "stream",
     "text": [
      "{'name': 'nuatan', 'email_id': 'nb93@gmail.com', 'numbar': 9632587410}\n",
      "<class 'dict'>\n"
     ]
    }
   ],
   "source": [
    "d1={'name':'nuatan', 'email_id':'nb93@gmail.com', 'numbar':9632587410}\n",
    "print(d1)\n",
    "print(type(d1))"
   ]
  },
  {
   "cell_type": "markdown",
   "id": "829c0c52-304e-4a34-8c9b-3b4a9fba8220",
   "metadata": {},
   "source": [
    "# In dictionary key should be unique."
   ]
  },
  {
   "cell_type": "code",
   "execution_count": 4,
   "id": "2cc75b7c-9b87-452f-bbc5-d0272fb88b9e",
   "metadata": {
    "tags": []
   },
   "outputs": [
    {
     "name": "stdout",
     "output_type": "stream",
     "text": [
      "{'name': 'Gargi'}\n"
     ]
    }
   ],
   "source": [
    "d2={'name':'nutan','name':'Gargi'}\n",
    "print(d2)"
   ]
  },
  {
   "cell_type": "markdown",
   "id": "522b0d6f-dca2-4fac-bf9f-41cd88cef194",
   "metadata": {},
   "source": [
    "# key can be numeric, boolean , floating value, tuple"
   ]
  },
  {
   "cell_type": "code",
   "execution_count": 5,
   "id": "6712abff-504a-4872-9002-91e952f82ae6",
   "metadata": {
    "tags": []
   },
   "outputs": [
    {
     "name": "stdout",
     "output_type": "stream",
     "text": [
      "{1234: 'abc', 12.112: 'abc', True: 'nutan'}\n"
     ]
    }
   ],
   "source": [
    "d3 = {1234: 'abc', 12.112:'abc', True:'nutan'}\n",
    "print(d3)"
   ]
  },
  {
   "cell_type": "code",
   "execution_count": 6,
   "id": "3e4c847b-434e-4f92-ad2b-e7ff66bd6b5e",
   "metadata": {
    "tags": []
   },
   "outputs": [
    {
     "name": "stdout",
     "output_type": "stream",
     "text": [
      "{(1, 2, 3, 4): 'nutan'}\n"
     ]
    }
   ],
   "source": [
    "d5={(1,2,3,4):'nutan'}\n",
    "print(d5)"
   ]
  },
  {
   "cell_type": "markdown",
   "id": "17b85e72-a330-445e-aeda-d74c13d977b6",
   "metadata": {
    "tags": []
   },
   "source": [
    "# but key can not be spacial case character(#,@..etc), list, dic"
   ]
  },
  {
   "cell_type": "code",
   "execution_count": 7,
   "id": "8ad00d15-12a9-4762-be32-4d2d1eefb5fb",
   "metadata": {
    "tags": []
   },
   "outputs": [
    {
     "ename": "SyntaxError",
     "evalue": "invalid syntax (292945042.py, line 1)",
     "output_type": "error",
     "traceback": [
      "\u001b[1;36m  Cell \u001b[1;32mIn[7], line 1\u001b[1;36m\u001b[0m\n\u001b[1;33m    d4={@:'nutan'}\u001b[0m\n\u001b[1;37m        ^\u001b[0m\n\u001b[1;31mSyntaxError\u001b[0m\u001b[1;31m:\u001b[0m invalid syntax\n"
     ]
    }
   ],
   "source": [
    "d4={@:'nutan'}"
   ]
  },
  {
   "cell_type": "code",
   "execution_count": 8,
   "id": "c3287f54-fa1a-4561-8992-f7bd57b5527c",
   "metadata": {
    "tags": []
   },
   "outputs": [
    {
     "ename": "TypeError",
     "evalue": "unhashable type: 'list'",
     "output_type": "error",
     "traceback": [
      "\u001b[1;31m---------------------------------------------------------------------------\u001b[0m",
      "\u001b[1;31mTypeError\u001b[0m                                 Traceback (most recent call last)",
      "Cell \u001b[1;32mIn[8], line 1\u001b[0m\n\u001b[1;32m----> 1\u001b[0m d5\u001b[38;5;241m=\u001b[39m{[\u001b[38;5;241m1\u001b[39m,\u001b[38;5;241m2\u001b[39m,\u001b[38;5;241m3\u001b[39m]:\u001b[38;5;124m'\u001b[39m\u001b[38;5;124mnutan\u001b[39m\u001b[38;5;124m'\u001b[39m}\n",
      "\u001b[1;31mTypeError\u001b[0m: unhashable type: 'list'"
     ]
    }
   ],
   "source": [
    "d5={[1,2,3]:'nutan'}"
   ]
  },
  {
   "cell_type": "code",
   "execution_count": 9,
   "id": "aeff8104-d163-478f-95bd-32d1d36976d1",
   "metadata": {
    "tags": []
   },
   "outputs": [
    {
     "ename": "TypeError",
     "evalue": "unhashable type: 'set'",
     "output_type": "error",
     "traceback": [
      "\u001b[1;31m---------------------------------------------------------------------------\u001b[0m",
      "\u001b[1;31mTypeError\u001b[0m                                 Traceback (most recent call last)",
      "Cell \u001b[1;32mIn[9], line 1\u001b[0m\n\u001b[1;32m----> 1\u001b[0m d6\u001b[38;5;241m=\u001b[39m{{\u001b[38;5;241m1\u001b[39m,\u001b[38;5;241m2\u001b[39m,\u001b[38;5;241m3\u001b[39m,\u001b[38;5;241m4\u001b[39m}:\u001b[38;5;124m'\u001b[39m\u001b[38;5;124mnutan\u001b[39m\u001b[38;5;124m'\u001b[39m}\n\u001b[0;32m      2\u001b[0m \u001b[38;5;28mprint\u001b[39m(d6)\n",
      "\u001b[1;31mTypeError\u001b[0m: unhashable type: 'set'"
     ]
    }
   ],
   "source": [
    "d6={{1,2,3,4}:'nutan'}\n",
    "print(d6)"
   ]
  },
  {
   "cell_type": "markdown",
   "id": "255f57d5-3d5e-442c-8f0b-a95130dba33e",
   "metadata": {},
   "source": [
    "# value can be list, Tuple, set ,nested dictionary "
   ]
  },
  {
   "cell_type": "code",
   "execution_count": 10,
   "id": "197834cb-391d-4d25-b21a-5343c801b7ef",
   "metadata": {
    "tags": []
   },
   "outputs": [
    {
     "name": "stdout",
     "output_type": "stream",
     "text": [
      "{'course_name': ['data_science', 'web dev', 'java with dsa and system Design']}\n"
     ]
    }
   ],
   "source": [
    "d7={'course_name':['data_science','web dev', 'java with dsa and system Design']}\n",
    "print(d7)"
   ]
  },
  {
   "cell_type": "code",
   "execution_count": 11,
   "id": "7267b248-5874-4a52-972c-3c31201a49f4",
   "metadata": {
    "tags": []
   },
   "outputs": [
    {
     "name": "stdout",
     "output_type": "stream",
     "text": [
      "{'course_name': ('data_science', 'web dev', 'java with dsa and system Design')}\n"
     ]
    }
   ],
   "source": [
    "d8={'course_name':('data_science','web dev', 'java with dsa and system Design')}\n",
    "print(d8)"
   ]
  },
  {
   "cell_type": "code",
   "execution_count": 12,
   "id": "b184379a-5605-4dce-a2cf-9f07173e5ed3",
   "metadata": {
    "tags": []
   },
   "outputs": [
    {
     "name": "stdout",
     "output_type": "stream",
     "text": [
      "{'course_name': {'java with dsa and system Design', 'data_science', 'web dev'}}\n"
     ]
    }
   ],
   "source": [
    "d9={'course_name':{'data_science','web dev', 'java with dsa and system Design'}}\n",
    "print(d9)"
   ]
  },
  {
   "cell_type": "code",
   "execution_count": 13,
   "id": "7e80b7df-624c-4956-9be9-8036165aa8d5",
   "metadata": {
    "tags": []
   },
   "outputs": [
    {
     "name": "stdout",
     "output_type": "stream",
     "text": [
      "{'key': {'name': 'nutan', 'city': 'bangalore'}}\n"
     ]
    }
   ],
   "source": [
    "d10={'key':{'name':'nutan','city':'bangalore'}}\n",
    "print(d10)"
   ]
  },
  {
   "cell_type": "code",
   "execution_count": 14,
   "id": "3a6fa69d-ea4a-4278-a7b8-3238c6cac43a",
   "metadata": {
    "tags": []
   },
   "outputs": [
    {
     "data": {
      "text/plain": [
       "'bangalore'"
      ]
     },
     "execution_count": 14,
     "metadata": {},
     "output_type": "execute_result"
    }
   ],
   "source": [
    "d10['key']['city']  # nested dictionary keys and value(items)"
   ]
  },
  {
   "cell_type": "markdown",
   "id": "8ead6780-992e-4e78-a39d-cb8aca89412f",
   "metadata": {
    "tags": []
   },
   "source": [
    "# dic={key:[list], (Tuple), {set} }"
   ]
  },
  {
   "cell_type": "code",
   "execution_count": 15,
   "id": "b2ee3f6c-8e03-4a81-a07c-6936fafd6210",
   "metadata": {
    "tags": []
   },
   "outputs": [
    {
     "name": "stdout",
     "output_type": "stream",
     "text": [
      "{'batch_name': ['data science master', 'web dev', 'JDS'], 'staet_date': (28, 14, 21), 'mentor': {'anurag', 'krish naik', 'navin', 'hitesh'}}\n"
     ]
    }
   ],
   "source": [
    "d11={'batch_name':['data science master', 'web dev', 'JDS'],'staet_date':(28,14,21), 'mentor':{'krish naik', 'anurag', 'navin', 'hitesh'}}\n",
    "print(d11)"
   ]
  },
  {
   "cell_type": "markdown",
   "id": "a91416b1-8c4d-4bfb-bf0d-2815ff63d345",
   "metadata": {
    "tags": []
   },
   "source": [
    "# add items(key and value) in dictionary"
   ]
  },
  {
   "cell_type": "code",
   "execution_count": 16,
   "id": "48ab3462-adb1-4737-9804-f5b9d6261211",
   "metadata": {
    "tags": []
   },
   "outputs": [
    {
     "name": "stdout",
     "output_type": "stream",
     "text": [
      "MIX DICTIONARY D11 WITH ADDED KEY TIMING =  {'batch_name': ['data science master', 'web dev', 'JDS'], 'staet_date': (28, 14, 21), 'mentor': {'anurag', 'krish naik', 'navin', 'hitesh'}, 'Timing': (8, 8, 8)} \n",
      "\n",
      "VALUES OF MENTOR(KEY) =  {'anurag', 'krish naik', 'navin', 'hitesh'}\n",
      "<class 'set'>\n"
     ]
    }
   ],
   "source": [
    "d11['Timing']=(8,8,8) #add items(key and value)\n",
    "print(('Mix Dictionary d11 with added key Timing = ').upper(), d11, '\\n')\n",
    "print('Values of mentor(key) = '.upper(),d11['mentor']) # how to get values of key\n",
    "print(type(d11['mentor']))"
   ]
  },
  {
   "cell_type": "code",
   "execution_count": 17,
   "id": "eac9876c-3c79-4076-b535-dc6f68dbf280",
   "metadata": {
    "tags": []
   },
   "outputs": [
    {
     "name": "stdout",
     "output_type": "stream",
     "text": [
      "ADDING KEY1 IN D11 =  {'batch_name': ['data science master', 'web dev', 'JDS'], 'staet_date': (28, 14, 21), 'mentor': {'anurag', 'krish naik', 'navin', 'hitesh'}, 'Timing': (8, 8, 8), 'key1': 'abc'} \n",
      "\n",
      "Length of d11 5 \n",
      "\n",
      "DELETED KEY1 FROM D11 =  {'batch_name': ['data science master', 'web dev', 'JDS'], 'staet_date': (28, 14, 21), 'mentor': {'anurag', 'krish naik', 'navin', 'hitesh'}, 'Timing': (8, 8, 8)} \n",
      "\n",
      "Length of d11 4\n"
     ]
    }
   ],
   "source": [
    "d11['key1']='abc' #add items(key and value)\n",
    "print(('adding key1 in d11 = ').upper(), d11, '\\n')\n",
    "print('Length of d11', len(d11),'\\n')\n",
    "\n",
    "del d11['key1']  # delet key from d11\n",
    "print(('deleted key1 from d11 = ').upper(), d11, '\\n')\n",
    "print('Length of d11', len(d11))"
   ]
  },
  {
   "cell_type": "markdown",
   "id": "99759a85-bbd3-4f2b-9b7b-b420c9a6f5d8",
   "metadata": {},
   "source": [
    "# How get direct only keys and value from in-buield function"
   ]
  },
  {
   "cell_type": "code",
   "execution_count": 18,
   "id": "6a624d8d-55ae-4546-8a39-bfbf56db8d12",
   "metadata": {
    "tags": []
   },
   "outputs": [
    {
     "name": "stdout",
     "output_type": "stream",
     "text": [
      "{'batch_name': ['data science master', 'web dev', 'JDS'], 'staet_date': (28, 14, 21), 'mentor': {'krish naik', 'navin', 'hitesh', 'anurag'}} \n",
      "\n",
      "Length of d11 3 \n",
      "\n"
     ]
    },
    {
     "data": {
      "text/plain": [
       "dict_keys(['batch_name', 'staet_date', 'mentor'])"
      ]
     },
     "execution_count": 18,
     "metadata": {},
     "output_type": "execute_result"
    }
   ],
   "source": [
    "d11={'batch_name':['data science master', 'web dev', 'JDS'],'staet_date':(28,14,21), 'mentor':{'krish naik', 'anurag', 'navin', 'hitesh'}}\n",
    "print(d11, '\\n')\n",
    "print('Length of d11', len(d11),'\\n')\n",
    "d11.keys()"
   ]
  },
  {
   "cell_type": "code",
   "execution_count": 19,
   "id": "be99d649-67c5-4f1d-9a97-3b0f4e7820d0",
   "metadata": {
    "tags": []
   },
   "outputs": [
    {
     "data": {
      "text/plain": [
       "dict_values([['data science master', 'web dev', 'JDS'], (28, 14, 21), {'krish naik', 'navin', 'hitesh', 'anurag'}])"
      ]
     },
     "execution_count": 19,
     "metadata": {},
     "output_type": "execute_result"
    }
   ],
   "source": [
    "d11.values()"
   ]
  },
  {
   "cell_type": "code",
   "execution_count": 20,
   "id": "c3c75122-0c2d-4b47-8482-49f35751ced8",
   "metadata": {
    "tags": []
   },
   "outputs": [
    {
     "data": {
      "text/plain": [
       "[['data science master', 'web dev', 'JDS'],\n",
       " (28, 14, 21),\n",
       " {'anurag', 'hitesh', 'krish naik', 'navin'}]"
      ]
     },
     "execution_count": 20,
     "metadata": {},
     "output_type": "execute_result"
    }
   ],
   "source": [
    "list(d11.values())"
   ]
  },
  {
   "cell_type": "code",
   "execution_count": 21,
   "id": "7097aa75-7850-4084-bffc-9d8fabf2986a",
   "metadata": {
    "tags": []
   },
   "outputs": [
    {
     "data": {
      "text/plain": [
       "dict_items([('batch_name', ['data science master', 'web dev', 'JDS']), ('staet_date', (28, 14, 21)), ('mentor', {'krish naik', 'navin', 'hitesh', 'anurag'})])"
      ]
     },
     "execution_count": 21,
     "metadata": {},
     "output_type": "execute_result"
    }
   ],
   "source": [
    "d11.items()"
   ]
  },
  {
   "cell_type": "code",
   "execution_count": 22,
   "id": "11becbae-4b9f-41c7-9834-1105164eb12a",
   "metadata": {
    "tags": []
   },
   "outputs": [
    {
     "name": "stdout",
     "output_type": "stream",
     "text": [
      "batch_name  =  ['data science master', 'web dev', 'JDS']\n",
      "staet_date  =  (28, 14, 21)\n",
      "mentor  =  {'krish naik', 'navin', 'hitesh', 'anurag'}\n"
     ]
    }
   ],
   "source": [
    "for key, val in d11.items():\n",
    "    print(key,' = ', val)"
   ]
  },
  {
   "cell_type": "code",
   "execution_count": 23,
   "id": "f6b6ee7b-565c-4bdb-9e12-af8d1f2e9fa1",
   "metadata": {
    "tags": []
   },
   "outputs": [
    {
     "data": {
      "text/plain": [
       "[('batch_name', ['data science master', 'web dev', 'JDS']),\n",
       " ('staet_date', (28, 14, 21)),\n",
       " ('mentor', {'anurag', 'hitesh', 'krish naik', 'navin'})]"
      ]
     },
     "execution_count": 23,
     "metadata": {},
     "output_type": "execute_result"
    }
   ],
   "source": [
    "list(d11.items())"
   ]
  },
  {
   "cell_type": "markdown",
   "id": "ae6a4fcd-2da1-4225-9f07-2d975f6cf43c",
   "metadata": {
    "tags": []
   },
   "source": [
    "### Ex.  d12 = d11.copy()\n",
    "deeply copy = replicate the hole thing in new memory\n",
    "1. if i make any changes in d11, then only d11 will change d12 will not affected"
   ]
  },
  {
   "cell_type": "markdown",
   "id": "3cf86758-8232-46d6-8441-32f15a0f333b",
   "metadata": {},
   "source": [
    "### allowcate the same data in diffrent memory location. \n",
    "1. d11 memory location => 2117117578560 \n",
    "2. d12 memory location => 2117113337344\n"
   ]
  },
  {
   "cell_type": "code",
   "execution_count": 24,
   "id": "85444228-886c-4b35-a6a5-503352c4a8d2",
   "metadata": {
    "tags": []
   },
   "outputs": [
    {
     "name": "stdout",
     "output_type": "stream",
     "text": [
      "original d11 =  \n",
      " {'batch_name': ['data science master', 'web dev', 'JDS'], 'staet_date': (28, 14, 21), 'mentor': {'krish naik', 'navin', 'hitesh', 'anurag'}, 'Timing': (8, 8, 8)} \n",
      "\n",
      "d11 memory location => 2801504865664 \n",
      "\n",
      "original d12 =  {'batch_name': ['data science master', 'web dev', 'JDS'], 'staet_date': (28, 14, 21), 'mentor': {'krish naik', 'navin', 'hitesh', 'anurag'}, 'Timing': (8, 8, 8)} \n",
      "\n",
      "d12 memory location => 2801504676416 \n",
      "\n",
      "New d11 =  \n",
      " {'batch_name': ['data science master', 'web dev', 'JDS'], 'staet_date': (28, 14, 21), 'mentor': {'krish naik', 'navin', 'hitesh', 'anurag'}} \n",
      "\n",
      "d11 memory location => 2801504865664 \n",
      "\n",
      "No changes in d12 =  {'batch_name': ['data science master', 'web dev', 'JDS'], 'staet_date': (28, 14, 21), 'mentor': {'krish naik', 'navin', 'hitesh', 'anurag'}, 'Timing': (8, 8, 8)}\n",
      "d12 memory location => 2801504676416 \n",
      "\n"
     ]
    }
   ],
   "source": [
    "d11={'batch_name':['data science master', 'web dev', 'JDS'],'staet_date':(28,14,21), 'mentor':{'krish naik', 'anurag', 'navin', 'hitesh'}, 'Timing':(8, 8, 8)}\n",
    "print('original d11 = ', '\\n', d11, '\\n')\n",
    "print('d11 memory location =>',id(d11),'\\n')\n",
    "\n",
    "d12=d11.copy()\n",
    "print('original d12 = ',d12, '\\n' )\n",
    "print('d12 memory location =>',id(d12),'\\n')\n",
    "\n",
    "del d11['Timing']\n",
    "print('New d11 = ', '\\n', d11, '\\n') # only changes occure in d11\n",
    "print('d11 memory location =>',id(d11),'\\n')\n",
    "\n",
    "print('No changes in d12 = ',d12)\n",
    "print('d12 memory location =>',id(d12),'\\n')\n",
    "#not make any changase in dic if we change in d11 \n",
    "#d12 not affected due to it saved in diffrent memory location"
   ]
  },
  {
   "cell_type": "markdown",
   "id": "bf9b7b2b-ce0a-4947-8688-de68d2464356",
   "metadata": {
    "tags": []
   },
   "source": [
    "### Ex. d13 = d11 \n",
    "1. d11 and d13 memory location is same => 2117114793728\n",
    "2. d13=d11 here we are doing refrencing the old memery location data\n",
    "3. here no new memory location is allowcated\n",
    "4. changes ocuure in both d13 and d11 if we male any changes in 1."
   ]
  },
  {
   "cell_type": "code",
   "execution_count": 25,
   "id": "032034c7-0a6e-4431-8549-448f4dfef308",
   "metadata": {
    "tags": []
   },
   "outputs": [
    {
     "name": "stdout",
     "output_type": "stream",
     "text": [
      "original d11 => \n",
      " {'batch_name': ['data science master', 'web dev', 'JDS'], 'staet_date': (28, 14, 21), 'mentor': {'krish naik', 'navin', 'hitesh', 'anurag'}, 'Timing': (8, 8, 8)} \n",
      "\n",
      "Length of d11 =>  4\n",
      "d11 memory location => 2801504863808 \n",
      "\n",
      "d13 =>  \n",
      " {'batch_name': ['data science master', 'web dev', 'JDS'], 'staet_date': (28, 14, 21), 'mentor': {'krish naik', 'navin', 'hitesh', 'anurag'}, 'Timing': (8, 8, 8), 'new_year': 2023} \n",
      "\n",
      "Length of d13 =>  5\n",
      "d13 memory location => 2801504863808 \n",
      "\n",
      "new d11 =>  \n",
      " {'batch_name': ['data science master', 'web dev', 'JDS'], 'staet_date': (28, 14, 21), 'mentor': {'krish naik', 'navin', 'hitesh', 'anurag'}, 'Timing': (8, 8, 8), 'new_year': 2023} \n",
      "\n"
     ]
    }
   ],
   "source": [
    "d11={'batch_name':['data science master', 'web dev', 'JDS'],'staet_date':(28,14,21), 'mentor':{'krish naik', 'anurag', 'navin', 'hitesh'}, 'Timing':(8, 8, 8)}\n",
    "print('original d11 => ' '\\n',d11, '\\n')\n",
    "print('Length of d11 => ', len(d11))\n",
    "print('d11 memory location =>',id(d11),'\\n')\n",
    "\n",
    "d13=d11\n",
    "\n",
    "d13['new_year']=2023\n",
    "print('d13 => ', '\\n', d13, '\\n')\n",
    "print('Length of d13 => ', len(d13))\n",
    "print('d13 memory location =>',id(d13),'\\n')\n",
    "print('new d11 => ', '\\n', d11, '\\n')"
   ]
  },
  {
   "cell_type": "code",
   "execution_count": 26,
   "id": "4fc7976e-478a-44e1-918c-1f5de46c4e12",
   "metadata": {},
   "outputs": [
    {
     "name": "stdout",
     "output_type": "stream",
     "text": [
      "{'eye': 'eyeliner', 'face': 'foundation'}\n"
     ]
    }
   ],
   "source": [
    "dict_makeup = {'eye':'eyeliner', 'face':'foundation', 'hair':'counditionar'}\n",
    "dict_makeup.pop('hair')\n",
    "print(dict_makeup)"
   ]
  },
  {
   "cell_type": "code",
   "execution_count": 27,
   "id": "451b1637-3766-4e9b-95e2-02718f529bc5",
   "metadata": {
    "tags": []
   },
   "outputs": [
    {
     "name": "stdout",
     "output_type": "stream",
     "text": [
      "{1: ('nagpur', 'pune', 'goa'), 2: ('nagpur', 'pune', 'goa'), 3: ('nagpur', 'pune', 'goa')}\n"
     ]
    }
   ],
   "source": [
    "#cosider value as respective keys\n",
    "d={}\n",
    "print(d.fromkeys((1,2,3),('nagpur', 'pune', 'goa')))"
   ]
  },
  {
   "cell_type": "code",
   "execution_count": 28,
   "id": "da128527-a9f8-4ab8-82c7-371da292e69e",
   "metadata": {
    "tags": []
   },
   "outputs": [],
   "source": [
    "d14={'key1':'value1', 'key2':'value2',}\n",
    "d15={'key3':'value3', 'key4':'value4'}"
   ]
  },
  {
   "cell_type": "code",
   "execution_count": 29,
   "id": "01ed3c71-e222-4c9c-a95f-52087ca8ea26",
   "metadata": {
    "tags": []
   },
   "outputs": [
    {
     "data": {
      "text/plain": [
       "({'key1': 'value1', 'key2': 'value2'}, {'key3': 'value3', 'key4': 'value4'})"
      ]
     },
     "execution_count": 29,
     "metadata": {},
     "output_type": "execute_result"
    }
   ],
   "source": [
    "(d14,d15)"
   ]
  },
  {
   "cell_type": "code",
   "execution_count": 30,
   "id": "bfa30eb1-57eb-4aaa-aace-4a87ae5ada0f",
   "metadata": {
    "tags": []
   },
   "outputs": [],
   "source": [
    "d14.update(d15) #update old dict with its existing and new value"
   ]
  },
  {
   "cell_type": "code",
   "execution_count": 31,
   "id": "6d2cdabb-4390-496c-acb2-db0061322d55",
   "metadata": {
    "tags": []
   },
   "outputs": [
    {
     "data": {
      "text/plain": [
       "{'key1': 'value1', 'key2': 'value2', 'key3': 'value3', 'key4': 'value4'}"
      ]
     },
     "execution_count": 31,
     "metadata": {},
     "output_type": "execute_result"
    }
   ],
   "source": [
    "d14"
   ]
  },
  {
   "cell_type": "code",
   "execution_count": 32,
   "id": "86dbeb99-a6db-4a33-b077-87550c687aef",
   "metadata": {
    "tags": []
   },
   "outputs": [
    {
     "data": {
      "text/plain": [
       "{'key3': 'value3', 'key4': 'value4'}"
      ]
     },
     "execution_count": 32,
     "metadata": {},
     "output_type": "execute_result"
    }
   ],
   "source": [
    "d15"
   ]
  },
  {
   "cell_type": "code",
   "execution_count": 33,
   "id": "2a08df8a-27ee-470a-854b-3df34f2ea35b",
   "metadata": {
    "tags": []
   },
   "outputs": [],
   "source": [
    "d15.update(d14)"
   ]
  },
  {
   "cell_type": "code",
   "execution_count": 34,
   "id": "5e766687-b366-40a3-bf43-a8ea7ae85cf1",
   "metadata": {
    "tags": []
   },
   "outputs": [
    {
     "data": {
      "text/plain": [
       "{'key3': 'value3', 'key4': 'value4', 'key1': 'value1', 'key2': 'value2'}"
      ]
     },
     "execution_count": 34,
     "metadata": {},
     "output_type": "execute_result"
    }
   ],
   "source": [
    "d15"
   ]
  },
  {
   "cell_type": "code",
   "execution_count": 35,
   "id": "0a9f5599-38f7-4cd5-8cb7-196bc7881caf",
   "metadata": {},
   "outputs": [
    {
     "data": {
      "text/plain": [
       "'value4'"
      ]
     },
     "execution_count": 35,
     "metadata": {},
     "output_type": "execute_result"
    }
   ],
   "source": [
    "d15.get('key4')"
   ]
  },
  {
   "cell_type": "code",
   "execution_count": 36,
   "id": "c1a7fab0-9dfb-4f84-9833-770c04143d36",
   "metadata": {
    "jp-MarkdownHeadingCollapsed": true,
    "tags": []
   },
   "outputs": [
    {
     "data": {
      "text/plain": [
       "'value4'"
      ]
     },
     "execution_count": 36,
     "metadata": {},
     "output_type": "execute_result"
    }
   ],
   "source": [
    "d15['key4']"
   ]
  },
  {
   "cell_type": "code",
   "execution_count": 37,
   "id": "4f97951d-d937-4ca6-84d9-899117cf7f38",
   "metadata": {
    "tags": []
   },
   "outputs": [],
   "source": [
    "d15.get('nutan') # it not giving error"
   ]
  },
  {
   "cell_type": "code",
   "execution_count": 38,
   "id": "f87026d2-a7b2-4cd2-b719-f5a73186fff7",
   "metadata": {
    "tags": []
   },
   "outputs": [
    {
     "ename": "KeyError",
     "evalue": "'nutan'",
     "output_type": "error",
     "traceback": [
      "\u001b[1;31m---------------------------------------------------------------------------\u001b[0m",
      "\u001b[1;31mKeyError\u001b[0m                                  Traceback (most recent call last)",
      "Cell \u001b[1;32mIn[38], line 1\u001b[0m\n\u001b[1;32m----> 1\u001b[0m \u001b[43md15\u001b[49m\u001b[43m[\u001b[49m\u001b[38;5;124;43m'\u001b[39;49m\u001b[38;5;124;43mnutan\u001b[39;49m\u001b[38;5;124;43m'\u001b[39;49m\u001b[43m]\u001b[49m\n",
      "\u001b[1;31mKeyError\u001b[0m: 'nutan'"
     ]
    }
   ],
   "source": [
    "d15['nutan']"
   ]
  },
  {
   "cell_type": "markdown",
   "id": "aad05148-8210-4f72-9d4c-3252fb67da31",
   "metadata": {},
   "source": [
    "# dictinary comprihention"
   ]
  },
  {
   "cell_type": "code",
   "execution_count": 40,
   "id": "db546553-78a8-4bb1-92d1-86c6c87a0d71",
   "metadata": {
    "tags": []
   },
   "outputs": [
    {
     "data": {
      "text/plain": [
       "{1: 1, 2: 4, 3: 9, 4: 16, 5: 25, 6: 36, 7: 49, 8: 64, 9: 81, 10: 100}"
      ]
     },
     "execution_count": 40,
     "metadata": {},
     "output_type": "execute_result"
    }
   ],
   "source": [
    "{i:i**2 for i in range(1,11)}"
   ]
  },
  {
   "cell_type": "code",
   "execution_count": 41,
   "id": "b9b0a0b0-21d7-4214-9651-2585e5a9fb10",
   "metadata": {
    "tags": []
   },
   "outputs": [
    {
     "data": {
      "text/plain": [
       "dict"
      ]
     },
     "execution_count": 41,
     "metadata": {},
     "output_type": "execute_result"
    }
   ],
   "source": [
    "type({i:i**2 for i in range(1,11)})"
   ]
  },
  {
   "cell_type": "code",
   "execution_count": 42,
   "id": "07d7a276-9763-4d4a-a33a-36b028f45c4f",
   "metadata": {
    "tags": []
   },
   "outputs": [
    {
     "data": {
      "text/plain": [
       "{1: 0.0,\n",
       " 2: 0.3010299956639812,\n",
       " 3: 0.47712125471966244,\n",
       " 4: 0.6020599913279624,\n",
       " 5: 0.6989700043360189,\n",
       " 6: 0.7781512503836436,\n",
       " 7: 0.8450980400142568,\n",
       " 8: 0.9030899869919435,\n",
       " 9: 0.9542425094393249,\n",
       " 10: 1.0}"
      ]
     },
     "execution_count": 42,
     "metadata": {},
     "output_type": "execute_result"
    }
   ],
   "source": [
    "import math\n",
    "{i:math.log10(i) for i in range(1,11)}"
   ]
  },
  {
   "cell_type": "code",
   "execution_count": 43,
   "id": "4d5c1e81-c317-491c-8ea8-150a3aaa6d5d",
   "metadata": {
    "tags": []
   },
   "outputs": [
    {
     "data": {
      "text/plain": [
       "{'key3': 'value3', 'key4': 'value4', 'key1': 'value1', 'key2': 'value2'}"
      ]
     },
     "execution_count": 43,
     "metadata": {},
     "output_type": "execute_result"
    }
   ],
   "source": [
    "d15"
   ]
  },
  {
   "cell_type": "code",
   "execution_count": 44,
   "id": "0ca41724-1984-476d-ae21-aafefddd61fd",
   "metadata": {
    "tags": []
   },
   "outputs": [
    {
     "data": {
      "text/plain": [
       "True"
      ]
     },
     "execution_count": 44,
     "metadata": {},
     "output_type": "execute_result"
    }
   ],
   "source": [
    "'key4' in d15"
   ]
  },
  {
   "cell_type": "code",
   "execution_count": 47,
   "id": "7f7ab8be-0336-4b50-8e5d-7f927209fb5d",
   "metadata": {
    "tags": []
   },
   "outputs": [
    {
     "data": {
      "text/plain": [
       "dict_keys([1, 2, 3, 4, 5, 6, 7, 8, 9, 10])"
      ]
     },
     "execution_count": 47,
     "metadata": {},
     "output_type": "execute_result"
    }
   ],
   "source": [
    "d16.keys()"
   ]
  },
  {
   "cell_type": "code",
   "execution_count": 49,
   "id": "a58e49e5-26c8-4c9f-9331-5545c7be2f27",
   "metadata": {
    "tags": []
   },
   "outputs": [
    {
     "name": "stdout",
     "output_type": "stream",
     "text": [
      "2 = 0.3010299956639812\n",
      "4 = 0.6020599913279624\n",
      "6 = 0.7781512503836436\n",
      "8 = 0.9030899869919435\n",
      "10 = 1.0\n"
     ]
    }
   ],
   "source": [
    "# filter out keys are even number\n",
    "d16={i:math.log10(i) for i in range(1,11)}\n",
    "for i in d16.keys():\n",
    "    if i %2==0:\n",
    "        print(i, '=', d16[i])"
   ]
  },
  {
   "cell_type": "code",
   "execution_count": 50,
   "id": "556b4158-e287-4712-8e56-8fe674c80ae7",
   "metadata": {
    "tags": []
   },
   "outputs": [
    {
     "name": "stdout",
     "output_type": "stream",
     "text": [
      "{'course_name': ['data_science', 'web dev', 'java with dsa and system Design']}\n",
      "{'course_name': ['data_science', 'web dev', 'java with dsa and system Design', 'python']}\n"
     ]
    }
   ],
   "source": [
    "a=['data_science','web dev', 'java with dsa and system Design']\n",
    "d7={'course_name': a}\n",
    "print(d7)\n",
    "a.append('python')\n",
    "print(d7)"
   ]
  },
  {
   "cell_type": "code",
   "execution_count": null,
   "id": "a99057e2-f565-43d5-b665-cd0f3de011a8",
   "metadata": {},
   "outputs": [],
   "source": []
  },
  {
   "cell_type": "code",
   "execution_count": null,
   "id": "9a3a211a-3439-493a-8348-660902f90faa",
   "metadata": {},
   "outputs": [],
   "source": []
  },
  {
   "cell_type": "markdown",
   "id": "7268060a-9b40-4a1a-b028-5dbb481e98fa",
   "metadata": {
    "tags": []
   },
   "source": [
    "# Built-in Dictionary Methods\n",
    "|Method|\tDescription|\n",
    "|:-:|:-:|\n",
    "|dict.clear()\t|Removes all the key-value pairs from the dictionary.|\n",
    "|dict.copy()\t|Returns a shallow copy of the dictionary.|\n",
    "|dict.fromkeys()\t|Creates a new dictionary from the given iterable (string, list, set, tuple) as keys and with the specified value.|\n",
    "|dict.get()\t|Returns the value of the specified key.|\n",
    "|dict.items()\t|Returns a dictionary view object that provides a dynamic view of dictionary elements as a list of key-value pairs. This view object changes when the dictionary changes.|\n",
    "|dict.keys()\t|Returns a dictionary view object that contains the list of keys of the dictionary.|\n",
    "|dict.pop()\t|Removes the key and return its value. If a key does not exist in the dictionary, then returns the default value if specified, else throws a KeyError.|\n",
    "|dict.popitem()\t|Removes and return a tuple of (key, value) pair from the dictionary. Pairs are returned in Last In First Out (LIFO) order.|\n",
    "|dict.setdefault()\t|Returns the value of the specified key in the dictionary. If the key not found, then it adds the key with the specified defaultvalue. If the defaultvalue is not specified then it set None value.|\n",
    "|dict.update()\t|Updates the dictionary with the key-value pairs from another dictionary or another iterable such as tuple having key-value pairs.|\n",
    "|dict.values()\t|Returns the dictionary view object that provides a dynamic view of all the values in the dictionary. This view object changes when the dictionary changes.|"
   ]
  },
  {
   "cell_type": "code",
   "execution_count": null,
   "id": "817b6160-129a-4d91-b01f-8d03d9d2a98f",
   "metadata": {},
   "outputs": [],
   "source": []
  }
 ],
 "metadata": {
  "kernelspec": {
   "display_name": "Python 3 (ipykernel)",
   "language": "python",
   "name": "python3"
  },
  "language_info": {
   "codemirror_mode": {
    "name": "ipython",
    "version": 3
   },
   "file_extension": ".py",
   "mimetype": "text/x-python",
   "name": "python",
   "nbconvert_exporter": "python",
   "pygments_lexer": "ipython3",
   "version": "3.11.1"
  }
 },
 "nbformat": 4,
 "nbformat_minor": 5
}
