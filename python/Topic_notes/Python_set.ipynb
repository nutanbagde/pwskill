{
 "cells": [
  {
   "cell_type": "markdown",
   "id": "fe7e585d-c434-43f7-907e-751086623c01",
   "metadata": {
    "tags": []
   },
   "source": [
    "### Python Set\n",
    " 1. Set items are unordered, unchangeable, and do not allow duplicate values."
   ]
  },
  {
   "cell_type": "code",
   "execution_count": 2,
   "id": "8694def7-5fa2-4160-bfef-0a22731831ca",
   "metadata": {
    "tags": []
   },
   "outputs": [],
   "source": [
    "s={}"
   ]
  },
  {
   "cell_type": "code",
   "execution_count": 3,
   "id": "d2f4f815-11d9-4a9f-b499-340b4dc3dea4",
   "metadata": {
    "tags": []
   },
   "outputs": [
    {
     "data": {
      "text/plain": [
       "dict"
      ]
     },
     "execution_count": 3,
     "metadata": {},
     "output_type": "execute_result"
    }
   ],
   "source": [
    "type(s)"
   ]
  },
  {
   "cell_type": "code",
   "execution_count": 4,
   "id": "a4128b40-606f-411c-aeac-d2fd0e048ed2",
   "metadata": {
    "tags": []
   },
   "outputs": [
    {
     "name": "stdout",
     "output_type": "stream",
     "text": [
      "<class 'set'>\n",
      "{1, 2, 3, 4, 5, 6}\n"
     ]
    }
   ],
   "source": [
    "s1={1,2,3,4,5,6}\n",
    "print(type(s1))\n",
    "print(s1)"
   ]
  },
  {
   "cell_type": "markdown",
   "id": "c048ede5-4d01-4735-8079-05d09763f1b4",
   "metadata": {},
   "source": [
    "### set allwayes store unique information (remove duplicates from ur data)"
   ]
  },
  {
   "cell_type": "code",
   "execution_count": 5,
   "id": "45c74ef7-8cd2-4709-b2e8-4d1b78a8a2e2",
   "metadata": {
    "tags": []
   },
   "outputs": [
    {
     "name": "stdout",
     "output_type": "stream",
     "text": [
      "{1, 34, 3, 4, 5, 6, 67, 523, 12, 45, 55}\n"
     ]
    }
   ],
   "source": [
    "s2={1,1,12,3,3,3,4,5,5,5,55,523,34,3,45,6,67}\n",
    "print(s2)"
   ]
  },
  {
   "cell_type": "code",
   "execution_count": 6,
   "id": "199b7398-6761-4737-8c08-f61f15af55be",
   "metadata": {
    "tags": []
   },
   "outputs": [
    {
     "name": "stdout",
     "output_type": "stream",
     "text": [
      "[1, 34, 3, 4, 5, 6, 67, 523, 12, 45, 55]\n"
     ]
    }
   ],
   "source": [
    "# convert set in list / tuple is possible\n",
    "l=list(s2)\n",
    "print(l)"
   ]
  },
  {
   "cell_type": "code",
   "execution_count": 7,
   "id": "387295d5-997b-41e5-8b02-de008ac9bbf2",
   "metadata": {
    "tags": []
   },
   "outputs": [
    {
     "data": {
      "text/plain": [
       "{1, 3, 4, 5, 6, 12, 34, 45, 55, 67, 523}"
      ]
     },
     "execution_count": 7,
     "metadata": {},
     "output_type": "execute_result"
    }
   ],
   "source": [
    "set(l)"
   ]
  },
  {
   "cell_type": "code",
   "execution_count": 8,
   "id": "36915e7a-7e31-407e-b134-d43da5875d53",
   "metadata": {
    "tags": []
   },
   "outputs": [
    {
     "ename": "TypeError",
     "evalue": "unhashable type: 'list'",
     "output_type": "error",
     "traceback": [
      "\u001b[1;31m---------------------------------------------------------------------------\u001b[0m",
      "\u001b[1;31mTypeError\u001b[0m                                 Traceback (most recent call last)",
      "Cell \u001b[1;32mIn[8], line 3\u001b[0m\n\u001b[0;32m      1\u001b[0m \u001b[38;5;66;03m# List can not add in set\u001b[39;00m\n\u001b[0;32m      2\u001b[0m animal\u001b[38;5;241m=\u001b[39m[\u001b[38;5;124m'\u001b[39m\u001b[38;5;124mcat\u001b[39m\u001b[38;5;124m'\u001b[39m, \u001b[38;5;124m'\u001b[39m\u001b[38;5;124mdog\u001b[39m\u001b[38;5;124m'\u001b[39m, \u001b[38;5;124m'\u001b[39m\u001b[38;5;124mcow\u001b[39m\u001b[38;5;124m'\u001b[39m]\n\u001b[1;32m----> 3\u001b[0m no\u001b[38;5;241m=\u001b[39m{\u001b[38;5;241m1\u001b[39m,\u001b[38;5;241m4\u001b[39m,\u001b[38;5;241m15\u001b[39m,\u001b[38;5;241m5\u001b[39m,\u001b[38;5;241m1\u001b[39m,\u001b[38;5;241m66\u001b[39m,\u001b[38;5;241m17\u001b[39m,\u001b[38;5;241m13\u001b[39m,\u001b[38;5;241m18\u001b[39m,\u001b[38;5;241m19\u001b[39m,\u001b[38;5;241m15\u001b[39m,\u001b[38;5;241m8\u001b[39m,\u001b[38;5;241m14\u001b[39m,\u001b[38;5;241m14\u001b[39m, animal}\n\u001b[0;32m      4\u001b[0m \u001b[38;5;28mprint\u001b[39m(no)\n",
      "\u001b[1;31mTypeError\u001b[0m: unhashable type: 'list'"
     ]
    }
   ],
   "source": [
    "# List can not add in set\n",
    "animal=['cat', 'dog', 'cow']\n",
    "no={1,4,15,5,1,66,17,13,18,19,15,8,14,14, animal}\n",
    "print(no)"
   ]
  },
  {
   "cell_type": "code",
   "execution_count": 9,
   "id": "8f9503ce-9b22-4d0c-aa36-f8214432edb0",
   "metadata": {
    "tags": []
   },
   "outputs": [
    {
     "name": "stdout",
     "output_type": "stream",
     "text": [
      "{1, 66, 4, 5, 8, ('cat', 'dog', 'cow'), 13, 14, 15, 17, 18, 19}\n"
     ]
    }
   ],
   "source": [
    "# Tuple can add in set\n",
    "animal=('cat', 'dog', 'cow')\n",
    "no={1,4,15,5,1,66,17,13,18,19,15,8,14,14, animal}\n",
    "print(no)"
   ]
  },
  {
   "cell_type": "code",
   "execution_count": 10,
   "id": "6e56509f-110d-44c3-be68-dff78b72a91f",
   "metadata": {
    "tags": []
   },
   "outputs": [
    {
     "name": "stdout",
     "output_type": "stream",
     "text": [
      "{1, 2, 3, 'nutan', 5, 'Nutan'}\n"
     ]
    }
   ],
   "source": [
    "# Capital and small letters both keep (Python in case sensitive language)\n",
    "s3={'Nutan', 'nutan',1,1,3,5,2,2}\n",
    "print(s3)"
   ]
  },
  {
   "cell_type": "code",
   "execution_count": 11,
   "id": "77db722d-17f3-41b3-a420-23507fd44071",
   "metadata": {
    "tags": []
   },
   "outputs": [
    {
     "name": "stdout",
     "output_type": "stream",
     "text": [
      "{1, 2, 3, 'nutan', 5}\n"
     ]
    }
   ],
   "source": [
    "s4={'nutan', 'nutan',1,1,3,5,2,2}\n",
    "print(s4)"
   ]
  },
  {
   "cell_type": "markdown",
   "id": "b540c0aa-57b8-4f5c-ab37-12458f041285",
   "metadata": {},
   "source": [
    "# set not supporet indexing and slicing\n",
    " 1. Set items can appear in a different order every time you use them, and cannot be referred to by index or key."
   ]
  },
  {
   "cell_type": "code",
   "execution_count": 12,
   "id": "5efc6339-a1a4-4ba6-a951-b1667beda496",
   "metadata": {},
   "outputs": [
    {
     "ename": "TypeError",
     "evalue": "'set' object is not subscriptable",
     "output_type": "error",
     "traceback": [
      "\u001b[1;31m---------------------------------------------------------------------------\u001b[0m",
      "\u001b[1;31mTypeError\u001b[0m                                 Traceback (most recent call last)",
      "Cell \u001b[1;32mIn[12], line 1\u001b[0m\n\u001b[1;32m----> 1\u001b[0m \u001b[43ms4\u001b[49m\u001b[43m[\u001b[49m\u001b[38;5;241;43m0\u001b[39;49m\u001b[43m]\u001b[49m\n",
      "\u001b[1;31mTypeError\u001b[0m: 'set' object is not subscriptable"
     ]
    }
   ],
   "source": [
    "s4[0]"
   ]
  },
  {
   "cell_type": "code",
   "execution_count": 13,
   "id": "0c2a1bd3-840c-4565-ae75-f52b8e16d444",
   "metadata": {
    "tags": []
   },
   "outputs": [
    {
     "ename": "TypeError",
     "evalue": "'set' object is not subscriptable",
     "output_type": "error",
     "traceback": [
      "\u001b[1;31m---------------------------------------------------------------------------\u001b[0m",
      "\u001b[1;31mTypeError\u001b[0m                                 Traceback (most recent call last)",
      "Cell \u001b[1;32mIn[13], line 1\u001b[0m\n\u001b[1;32m----> 1\u001b[0m \u001b[43ms4\u001b[49m\u001b[43m[\u001b[49m\u001b[38;5;241;43m0\u001b[39;49m\u001b[43m:\u001b[49m\u001b[38;5;241;43m3\u001b[39;49m\u001b[43m]\u001b[49m\n",
      "\u001b[1;31mTypeError\u001b[0m: 'set' object is not subscriptable"
     ]
    }
   ],
   "source": [
    "s4[0:3]"
   ]
  },
  {
   "cell_type": "code",
   "execution_count": 14,
   "id": "c7b81ff2-fc76-49d5-9015-409e17f4a9eb",
   "metadata": {
    "tags": []
   },
   "outputs": [
    {
     "ename": "TypeError",
     "evalue": "'set' object is not subscriptable",
     "output_type": "error",
     "traceback": [
      "\u001b[1;31m---------------------------------------------------------------------------\u001b[0m",
      "\u001b[1;31mTypeError\u001b[0m                                 Traceback (most recent call last)",
      "Cell \u001b[1;32mIn[14], line 1\u001b[0m\n\u001b[1;32m----> 1\u001b[0m \u001b[43ms4\u001b[49m\u001b[43m[\u001b[49m\u001b[43m:\u001b[49m\u001b[43m:\u001b[49m\u001b[38;5;241;43m-\u001b[39;49m\u001b[38;5;241;43m1\u001b[39;49m\u001b[43m]\u001b[49m\n",
      "\u001b[1;31mTypeError\u001b[0m: 'set' object is not subscriptable"
     ]
    }
   ],
   "source": [
    "s4[::-1]"
   ]
  },
  {
   "cell_type": "code",
   "execution_count": 15,
   "id": "e45ff9e4-17e5-4944-a57a-673b78663967",
   "metadata": {
    "tags": []
   },
   "outputs": [
    {
     "data": {
      "text/plain": [
       "[1, 2, 3, 'nutan', 5]"
      ]
     },
     "execution_count": 15,
     "metadata": {},
     "output_type": "execute_result"
    }
   ],
   "source": [
    "# convert set in to list\"\n",
    "[i for i in s4]"
   ]
  },
  {
   "cell_type": "code",
   "execution_count": 16,
   "id": "c4b42e24-c23d-4065-9d0d-5d4447cf80f7",
   "metadata": {
    "tags": []
   },
   "outputs": [
    {
     "data": {
      "text/plain": [
       "{1, 2, 3, 5, 'nutan'}"
      ]
     },
     "execution_count": 16,
     "metadata": {},
     "output_type": "execute_result"
    }
   ],
   "source": [
    "s4"
   ]
  },
  {
   "cell_type": "code",
   "execution_count": 17,
   "id": "eb6edd69-63b3-46f8-803c-549f3e534868",
   "metadata": {
    "tags": []
   },
   "outputs": [
    {
     "name": "stdout",
     "output_type": "stream",
     "text": [
      "{1, 2, 3, 'nutan', 5, 34}\n"
     ]
    }
   ],
   "source": [
    "s4.add(34)\n",
    "print(s4)"
   ]
  },
  {
   "cell_type": "code",
   "execution_count": 18,
   "id": "b2712ba8-5f1d-4bbc-8316-adadab6567c0",
   "metadata": {
    "tags": []
   },
   "outputs": [
    {
     "name": "stdout",
     "output_type": "stream",
     "text": [
      "{1, 2, 3, 'nutan', 5, 34}\n"
     ]
    }
   ],
   "source": [
    "s4.add(5)\n",
    "print(s4)"
   ]
  },
  {
   "cell_type": "code",
   "execution_count": 19,
   "id": "d22dfc23-80b5-4145-b694-a9930333ecf9",
   "metadata": {
    "tags": []
   },
   "outputs": [
    {
     "data": {
      "text/plain": [
       "6"
      ]
     },
     "execution_count": 19,
     "metadata": {},
     "output_type": "execute_result"
    }
   ],
   "source": [
    "len(s4)"
   ]
  },
  {
   "cell_type": "code",
   "execution_count": 20,
   "id": "6441dac7-0496-4e97-9a01-aa9f509a5791",
   "metadata": {},
   "outputs": [
    {
     "data": {
      "text/plain": [
       "1"
      ]
     },
     "execution_count": 20,
     "metadata": {},
     "output_type": "execute_result"
    }
   ],
   "source": [
    "s4.pop()"
   ]
  },
  {
   "cell_type": "code",
   "execution_count": 21,
   "id": "9def0c53-4026-4385-bc20-bc4b8ea049e4",
   "metadata": {
    "tags": []
   },
   "outputs": [
    {
     "data": {
      "text/plain": [
       "{2, 3, 34, 5, 'nutan'}"
      ]
     },
     "execution_count": 21,
     "metadata": {},
     "output_type": "execute_result"
    }
   ],
   "source": [
    "s4"
   ]
  },
  {
   "cell_type": "code",
   "execution_count": null,
   "id": "ce3245e0-efa2-4a43-a9e8-5c804e96b95b",
   "metadata": {},
   "outputs": [],
   "source": []
  }
 ],
 "metadata": {
  "kernelspec": {
   "display_name": "Python 3 (ipykernel)",
   "language": "python",
   "name": "python3"
  },
  "language_info": {
   "codemirror_mode": {
    "name": "ipython",
    "version": 3
   },
   "file_extension": ".py",
   "mimetype": "text/x-python",
   "name": "python",
   "nbconvert_exporter": "python",
   "pygments_lexer": "ipython3",
   "version": "3.11.1"
  }
 },
 "nbformat": 4,
 "nbformat_minor": 5
}
