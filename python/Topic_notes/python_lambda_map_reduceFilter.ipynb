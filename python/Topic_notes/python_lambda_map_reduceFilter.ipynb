{
 "cells": [
  {
   "cell_type": "markdown",
   "id": "6941fb53-2c55-45bf-a516-0e9dde87f9c3",
   "metadata": {
    "tags": []
   },
   "source": [
    "# Lambda Functions"
   ]
  },
  {
   "cell_type": "markdown",
   "id": "66a35a49-4afb-422d-a083-f1b23dedad01",
   "metadata": {},
   "source": [
    "lambda keyword is used to define an anonymous function(a function without name) in Python.\n",
    "\n",
    "we can write singale line code withoute using def function"
   ]
  },
  {
   "cell_type": "markdown",
   "id": "3f6b7870-ab01-42a4-8ad2-d23f59e930d0",
   "metadata": {},
   "source": [
    "|With lambda function|\tWithout lambda function|\n",
    "|:-:|:-:|\n",
    "|Supports single line statements that returns some value.|\tSupports any number of lines inside a function block|\n",
    "|Good for performing short operations/data manipulations.|\tGood for any cases that require multiple lines of code.|\n",
    "|Using lambda function can sometime reduce the readability of code.\t|We can use comments and function descriptions for easy readability.|"
   ]
  },
  {
   "cell_type": "code",
   "execution_count": 8,
   "id": "51b8a0a2-5fcc-4456-8f73-047eed95eb5b",
   "metadata": {
    "tags": []
   },
   "outputs": [
    {
     "name": "stdout",
     "output_type": "stream",
     "text": [
      "8\n"
     ]
    }
   ],
   "source": [
    "##  Without lambda function\n",
    "def cube(base, power):\n",
    "    return base**power\n",
    "print(cube(2,3))"
   ]
  },
  {
   "cell_type": "code",
   "execution_count": 9,
   "id": "b47af10e-f28e-40c2-a979-c4bc4bf8cc39",
   "metadata": {
    "tags": []
   },
   "outputs": [
    {
     "data": {
      "text/plain": [
       "<function __main__.<lambda>(base, power)>"
      ]
     },
     "execution_count": 9,
     "metadata": {},
     "output_type": "execute_result"
    }
   ],
   "source": [
    "# With lambda function\n",
    "lambda base, power: base**power #a function without name"
   ]
  },
  {
   "cell_type": "code",
   "execution_count": 10,
   "id": "af627201-2a21-4869-811b-a615954ba424",
   "metadata": {
    "tags": []
   },
   "outputs": [
    {
     "name": "stdout",
     "output_type": "stream",
     "text": [
      "8\n"
     ]
    }
   ],
   "source": [
    "# now we gave adhocname/ ananomaus function \n",
    "cube = lambda base, power: base**power\n",
    "print(cube(2,3))\n"
   ]
  },
  {
   "cell_type": "code",
   "execution_count": 11,
   "id": "178616f1-f3ee-4f6a-801d-5719cf9b0e7b",
   "metadata": {
    "tags": []
   },
   "outputs": [
    {
     "name": "stdout",
     "output_type": "stream",
     "text": [
      "5\n"
     ]
    }
   ],
   "source": [
    "add= lambda x,y: x+y\n",
    "print(add(2,3))  # short hand function"
   ]
  },
  {
   "cell_type": "code",
   "execution_count": 12,
   "id": "6445b9f3-57e1-462b-8e25-10722804c69f",
   "metadata": {
    "tags": []
   },
   "outputs": [
    {
     "name": "stdout",
     "output_type": "stream",
     "text": [
      "89.6\n",
      "93.2\n"
     ]
    }
   ],
   "source": [
    "c_to_t= lambda c: (9/5)*c+32\n",
    "print(c_to_t(32))\n",
    "print(c_to_t(34))"
   ]
  },
  {
   "cell_type": "code",
   "execution_count": 13,
   "id": "ea9ff655-8439-4a66-8d26-23fa7d7d38d3",
   "metadata": {
    "tags": []
   },
   "outputs": [
    {
     "name": "stdout",
     "output_type": "stream",
     "text": [
      "56\n"
     ]
    }
   ],
   "source": [
    "max_tow= lambda x,y: x if x>y else y\n",
    "print(max_tow(4,56))"
   ]
  },
  {
   "cell_type": "code",
   "execution_count": 14,
   "id": "d607765b-dbbc-4f9c-8d5c-6f29a95db3dc",
   "metadata": {},
   "outputs": [
    {
     "data": {
      "text/plain": [
       "10"
      ]
     },
     "execution_count": 14,
     "metadata": {},
     "output_type": "execute_result"
    }
   ],
   "source": [
    "max_number=lambda x,y: max(x,y)\n",
    "fact(9,10)"
   ]
  },
  {
   "cell_type": "code",
   "execution_count": 16,
   "id": "24ce00df-4535-4056-89d5-4d96c12e491a",
   "metadata": {
    "tags": []
   },
   "outputs": [
    {
     "data": {
      "text/plain": [
       "11"
      ]
     },
     "execution_count": 16,
     "metadata": {},
     "output_type": "execute_result"
    }
   ],
   "source": [
    "lenth_string='nutan bagde'\n",
    "find_len=lambda lenth_string: len (lenth_string)\n",
    "find_len(lenth_string)"
   ]
  },
  {
   "cell_type": "code",
   "execution_count": 1,
   "id": "9111a243-df5b-4058-ba59-076911f28b8a",
   "metadata": {},
   "outputs": [
    {
     "name": "stdout",
     "output_type": "stream",
     "text": [
      "33\n"
     ]
    }
   ],
   "source": [
    "\n",
    "def myfunc(n):\n",
    "  return lambda a : a * n\n",
    "\n",
    "mytripler = myfunc(3)\n",
    "\n",
    "print(mytripler(11))"
   ]
  },
  {
   "cell_type": "markdown",
   "id": "ad7b61fd-62f6-413a-af9d-5b685bca6542",
   "metadata": {},
   "source": [
    "# map"
   ]
  },
  {
   "cell_type": "markdown",
   "id": "3018af5e-cf7b-44f6-883b-cee15b04ac87",
   "metadata": {},
   "source": [
    "The map() function in Python takes in a function and a list as an argument. The function is called with a lambda function and a list and a new list is returned which contains all the lambda modified items returned by that function for each item"
   ]
  },
  {
   "cell_type": "code",
   "execution_count": 21,
   "id": "078aeeac-00db-4ab4-a7ca-5c72f4d6b7a6",
   "metadata": {
    "tags": []
   },
   "outputs": [],
   "source": [
    "l=[1,2,3,4,5,6,7]"
   ]
  },
  {
   "cell_type": "code",
   "execution_count": 24,
   "id": "594e9cf5-d46a-40bd-8cb0-5b39f83ad9a6",
   "metadata": {
    "tags": []
   },
   "outputs": [],
   "source": [
    "def test(l):\n",
    "    l1=[]\n",
    "    for i in (l):\n",
    "        l1.append(i**2)\n",
    "    return l1"
   ]
  },
  {
   "cell_type": "code",
   "execution_count": 25,
   "id": "66e3f46f-7940-4181-b5ae-685e641552bf",
   "metadata": {
    "tags": []
   },
   "outputs": [
    {
     "data": {
      "text/plain": [
       "[1, 4, 9, 16, 25, 36, 49]"
      ]
     },
     "execution_count": 25,
     "metadata": {},
     "output_type": "execute_result"
    }
   ],
   "source": [
    "test(l)"
   ]
  },
  {
   "cell_type": "code",
   "execution_count": 27,
   "id": "e7b29b4e-6b0f-4077-a839-277f1a587a7a",
   "metadata": {
    "tags": []
   },
   "outputs": [
    {
     "data": {
      "text/plain": [
       "[1, 4, 9, 16, 25, 36, 49]"
      ]
     },
     "execution_count": 27,
     "metadata": {},
     "output_type": "execute_result"
    }
   ],
   "source": [
    "list(map(lambda x: x**2 , l)) # map take full list"
   ]
  },
  {
   "cell_type": "code",
   "execution_count": 30,
   "id": "1d651314-191a-40f2-818f-352256f9658b",
   "metadata": {
    "tags": []
   },
   "outputs": [
    {
     "name": "stdout",
     "output_type": "stream",
     "text": [
      "[7, 9, 11, 13, 15]\n"
     ]
    }
   ],
   "source": [
    "# addition of 2 list with respective its index\n",
    "l2=[1,2,3,4,5]\n",
    "l3=[6,7,8,9,10]\n",
    "print(list(map(lambda x,y: x+y, l2,l3)))"
   ]
  },
  {
   "cell_type": "code",
   "execution_count": 33,
   "id": "4068354f-8cda-4f2c-abf0-6e3a8a8bac6c",
   "metadata": {
    "tags": []
   },
   "outputs": [
    {
     "name": "stdout",
     "output_type": "stream",
     "text": [
      "['N', 'U', 'T', 'A', 'N', 'B', 'A', 'G', 'D', 'E']\n"
     ]
    }
   ],
   "source": [
    "s= \"nutanbagde\"\n",
    "print(list(map(lambda x : str(x).upper(), s)))"
   ]
  },
  {
   "cell_type": "markdown",
   "id": "3b4fef10-32fc-4112-9a70-491e70537b63",
   "metadata": {
    "tags": []
   },
   "source": [
    "# reduce() "
   ]
  },
  {
   "cell_type": "markdown",
   "id": "af24bf14-bc5b-4bbe-a7c3-76498982ab36",
   "metadata": {},
   "source": [
    "1. The reduce() function in Python takes in a function and a list as an argument. \n",
    "2. The function is called with a lambda function and an iterable and a new reduced result is returned. \n",
    "3. This performs a repetitive operation over the pairs of the iterable. The reduce() function belongs to the  functools module.\n",
    "#### from functools import reduce\n",
    "4. It alwyas take only 2 argument not more than that.\n",
    "5. empty iterable or list not allowed to pass frm reduce fun.\n",
    "\n",
    "\n"
   ]
  },
  {
   "cell_type": "code",
   "execution_count": 39,
   "id": "219f9fd9-b7e8-41ec-9cb6-7765faaf9e44",
   "metadata": {
    "tags": []
   },
   "outputs": [
    {
     "name": "stdout",
     "output_type": "stream",
     "text": [
      "19\n"
     ]
    }
   ],
   "source": [
    "from functools import reduce\n",
    "l4=[1,2,3,4,5,4]\n",
    "print(reduce(lambda x,y: x+y, l4))"
   ]
  },
  {
   "cell_type": "markdown",
   "id": "c83aaeec-01e5-4e81-8e15-a30146b58388",
   "metadata": {},
   "source": [
    "how the reeduce function internaly work in aboue example\n",
    "| |x|+|y|=|add|\n",
    "|:-:|:-:|:-:|:-:|:-:|:-:|\n",
    "| |1|+|2|=|3|\n",
    "|add=>|3|+|3|=|6|\n",
    "|add=>|6|+|4|=|10|\n",
    "|add=>|10|+|5|=|15|\n",
    "|add=>|15|+|4|=|19|"
   ]
  },
  {
   "cell_type": "code",
   "execution_count": 40,
   "id": "bbbe7e3b-53bf-41cd-b260-dd9d7a43b62f",
   "metadata": {
    "tags": []
   },
   "outputs": [
    {
     "name": "stdout",
     "output_type": "stream",
     "text": [
      "19\n"
     ]
    }
   ],
   "source": [
    "def add(x,y):\n",
    "    return x+y\n",
    "print(reduce(add,l4))"
   ]
  },
  {
   "cell_type": "code",
   "execution_count": 44,
   "id": "616afa2a-9d2e-49d1-9ecd-5d2de37176ff",
   "metadata": {
    "tags": []
   },
   "outputs": [
    {
     "ename": "TypeError",
     "evalue": "reduce() of empty iterable with no initial value",
     "output_type": "error",
     "traceback": [
      "\u001b[1;31m---------------------------------------------------------------------------\u001b[0m",
      "\u001b[1;31mTypeError\u001b[0m                                 Traceback (most recent call last)",
      "Cell \u001b[1;32mIn[44], line 2\u001b[0m\n\u001b[0;32m      1\u001b[0m \u001b[38;5;66;03m# empty iterable or list not allowed\u001b[39;00m\n\u001b[1;32m----> 2\u001b[0m \u001b[43mreduce\u001b[49m\u001b[43m(\u001b[49m\u001b[38;5;28;43;01mlambda\u001b[39;49;00m\u001b[43m \u001b[49m\u001b[43mx\u001b[49m\u001b[43m,\u001b[49m\u001b[43my\u001b[49m\u001b[43m:\u001b[49m\u001b[43m \u001b[49m\u001b[43mx\u001b[49m\u001b[38;5;241;43m+\u001b[39;49m\u001b[43my\u001b[49m\u001b[43m,\u001b[49m\u001b[43m \u001b[49m\u001b[43m[\u001b[49m\u001b[43m]\u001b[49m\u001b[43m)\u001b[49m\n",
      "\u001b[1;31mTypeError\u001b[0m: reduce() of empty iterable with no initial value"
     ]
    }
   ],
   "source": [
    "# empty iterable or list not allowed\n",
    "reduce(lambda x,y: x+y, [])"
   ]
  },
  {
   "cell_type": "code",
   "execution_count": 45,
   "id": "9fae0cf2-59b8-4ef1-b57f-03d51f6cab3a",
   "metadata": {
    "tags": []
   },
   "outputs": [
    {
     "data": {
      "text/plain": [
       "1"
      ]
     },
     "execution_count": 45,
     "metadata": {},
     "output_type": "execute_result"
    }
   ],
   "source": [
    "# where is a y but here it is a exceptinal case\n",
    "reduce(lambda x,y: x+y, [1]) "
   ]
  },
  {
   "cell_type": "code",
   "execution_count": 46,
   "id": "c2e16eb8-c4c0-454e-b330-76067997bb11",
   "metadata": {
    "tags": []
   },
   "outputs": [
    {
     "data": {
      "text/plain": [
       "1"
      ]
     },
     "execution_count": 46,
     "metadata": {},
     "output_type": "execute_result"
    }
   ],
   "source": [
    "reduce(lambda x,y: x*y, [1]) "
   ]
  },
  {
   "cell_type": "code",
   "execution_count": 50,
   "id": "ac24445c-825c-484b-8b47-a8f4a025458b",
   "metadata": {
    "tags": []
   },
   "outputs": [
    {
     "data": {
      "text/plain": [
       "5"
      ]
     },
     "execution_count": 50,
     "metadata": {},
     "output_type": "execute_result"
    }
   ],
   "source": [
    "reduce(lambda x,y: x if x>y else y , l4) "
   ]
  },
  {
   "cell_type": "code",
   "execution_count": 54,
   "id": "a750bb28-8d53-4a90-9bad-d5d5989bbcd2",
   "metadata": {
    "tags": []
   },
   "outputs": [
    {
     "data": {
      "text/plain": [
       "5"
      ]
     },
     "execution_count": 54,
     "metadata": {},
     "output_type": "execute_result"
    }
   ],
   "source": [
    "reduce(lambda x,y :max(x,y), l4) "
   ]
  },
  {
   "cell_type": "code",
   "execution_count": 55,
   "id": "51b4892d-3d03-473d-ad12-1a3a20a01541",
   "metadata": {
    "tags": []
   },
   "outputs": [
    {
     "data": {
      "text/plain": [
       "1"
      ]
     },
     "execution_count": 55,
     "metadata": {},
     "output_type": "execute_result"
    }
   ],
   "source": [
    "reduce(lambda x,y: x if x<y else y , l4) "
   ]
  },
  {
   "cell_type": "code",
   "execution_count": 56,
   "id": "3e14ef50-34d4-4c4e-b120-f78cd1e4e337",
   "metadata": {
    "tags": []
   },
   "outputs": [
    {
     "data": {
      "text/plain": [
       "1"
      ]
     },
     "execution_count": 56,
     "metadata": {},
     "output_type": "execute_result"
    }
   ],
   "source": [
    "reduce(lambda x,y :min(x,y), l4) "
   ]
  },
  {
   "cell_type": "markdown",
   "id": "48249bde-a5d4-419a-bee1-3811b43a969a",
   "metadata": {
    "tags": []
   },
   "source": [
    "# filter"
   ]
  },
  {
   "cell_type": "markdown",
   "id": "7d7c5cf4-c753-4ec7-ad6c-558c774a51b6",
   "metadata": {},
   "source": [
    "The filter() method filters the given sequence with the help of a function that tests each element in the sequence to be true or not. "
   ]
  },
  {
   "cell_type": "markdown",
   "id": "35436c2a-862d-403a-ad6f-02459eea213a",
   "metadata": {
    "tags": []
   },
   "source": [
    "syntax:\n",
    "    \n",
    "filter(function or None, iterable)\n",
    "\n",
    "Parameters:\n",
    "    \n",
    "iterable: function that tests if each element of a sequence true or not.\n",
    "\n",
    "sequence: sequence which needs to be filtered, it can be sets, lists, tuples, or containers of any iterators.\n",
    "\n",
    "Returns:\n",
    "\n",
    "returns an iterator that is already filtered."
   ]
  },
  {
   "cell_type": "code",
   "execution_count": 64,
   "id": "248e1c57-10fa-474a-8a68-a1fabf22f39d",
   "metadata": {
    "tags": []
   },
   "outputs": [
    {
     "data": {
      "text/plain": [
       "[1, 2, 3, 4, 5, 4]"
      ]
     },
     "execution_count": 64,
     "metadata": {},
     "output_type": "execute_result"
    }
   ],
   "source": [
    "l4"
   ]
  },
  {
   "cell_type": "code",
   "execution_count": 65,
   "id": "9b074733-4f6b-405e-b2fa-62b97bfc0366",
   "metadata": {
    "tags": []
   },
   "outputs": [
    {
     "data": {
      "text/plain": [
       "[2, 4, 4]"
      ]
     },
     "execution_count": 65,
     "metadata": {},
     "output_type": "execute_result"
    }
   ],
   "source": [
    "list(filter(lambda x: x%2==0, l4)) # for even element"
   ]
  },
  {
   "cell_type": "code",
   "execution_count": 66,
   "id": "04732abf-2837-44e7-91f8-4cefec06438a",
   "metadata": {
    "tags": []
   },
   "outputs": [
    {
     "data": {
      "text/plain": [
       "[1, 3, 5]"
      ]
     },
     "execution_count": 66,
     "metadata": {},
     "output_type": "execute_result"
    }
   ],
   "source": [
    "list(filter(lambda x: x%2!=0, l4)) # for odd element"
   ]
  },
  {
   "cell_type": "code",
   "execution_count": 72,
   "id": "4bd89029-8a97-4090-935f-8cba4d635fc8",
   "metadata": {
    "tags": []
   },
   "outputs": [
    {
     "name": "stdout",
     "output_type": "stream",
     "text": [
      "[-2, -4, -5]\n"
     ]
    }
   ],
   "source": [
    "# find all -ve no\n",
    "\n",
    "l5=[1, -2, 3, -4, -5, 4]\n",
    "print(list(filter(lambda x:x<0,l5)))"
   ]
  },
  {
   "cell_type": "code",
   "execution_count": 73,
   "id": "6c4f5623-67df-4f38-ab9c-022ac8d6dfbb",
   "metadata": {
    "tags": []
   },
   "outputs": [
    {
     "name": "stdout",
     "output_type": "stream",
     "text": [
      "[1, 3, 4]\n"
     ]
    }
   ],
   "source": [
    "# find all +ve no\n",
    "\n",
    "l5=[1, -2, 3, -4, -5, 4]\n",
    "print(list(filter(lambda x:x>0,l5)))"
   ]
  },
  {
   "cell_type": "code",
   "execution_count": 74,
   "id": "04531d4d-731f-4cbc-a4ae-f294dc5bd9f1",
   "metadata": {
    "tags": []
   },
   "outputs": [],
   "source": [
    "l6=['nut','banglor', 'kumar', 'gargie']"
   ]
  },
  {
   "cell_type": "code",
   "execution_count": 76,
   "id": "64961850-1994-42cc-930e-84e6b129d341",
   "metadata": {
    "tags": []
   },
   "outputs": [
    {
     "name": "stdout",
     "output_type": "stream",
     "text": [
      "['nut', 'kumar']\n"
     ]
    }
   ],
   "source": [
    "print(list(filter(lambda x: len(x)<6, l6)))"
   ]
  },
  {
   "cell_type": "code",
   "execution_count": null,
   "id": "6f71a58c-c2c4-4eca-aeea-129bc2e95f6e",
   "metadata": {},
   "outputs": [],
   "source": []
  }
 ],
 "metadata": {
  "kernelspec": {
   "display_name": "Python 3 (ipykernel)",
   "language": "python",
   "name": "python3"
  },
  "language_info": {
   "codemirror_mode": {
    "name": "ipython",
    "version": 3
   },
   "file_extension": ".py",
   "mimetype": "text/x-python",
   "name": "python",
   "nbconvert_exporter": "python",
   "pygments_lexer": "ipython3",
   "version": "3.11.1"
  }
 },
 "nbformat": 4,
 "nbformat_minor": 5
}
