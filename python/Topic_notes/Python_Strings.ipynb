{
 "cells": [
  {
   "cell_type": "markdown",
   "id": "05c7c751-378f-4957-a00f-89ecffb85344",
   "metadata": {},
   "source": [
    "## lagical operators\n",
    "1. And \n",
    "2. Or\n",
    "3. Not"
   ]
  },
  {
   "cell_type": "code",
   "execution_count": 2,
   "id": "0fb637f8-870d-4ff8-a8aa-853f159ff249",
   "metadata": {},
   "outputs": [
    {
     "data": {
      "text/plain": [
       "True"
      ]
     },
     "execution_count": 2,
     "metadata": {},
     "output_type": "execute_result"
    }
   ],
   "source": [
    "True and True"
   ]
  },
  {
   "cell_type": "code",
   "execution_count": 3,
   "id": "153bc3c5-dec9-4f46-80ab-9084414bd8ab",
   "metadata": {},
   "outputs": [
    {
     "data": {
      "text/plain": [
       "False"
      ]
     },
     "execution_count": 3,
     "metadata": {},
     "output_type": "execute_result"
    }
   ],
   "source": [
    "not True"
   ]
  },
  {
   "cell_type": "code",
   "execution_count": 4,
   "id": "ed692edf-2065-43c1-930a-61bff9b022ac",
   "metadata": {},
   "outputs": [
    {
     "data": {
      "text/plain": [
       "True"
      ]
     },
     "execution_count": 4,
     "metadata": {},
     "output_type": "execute_result"
    }
   ],
   "source": [
    "not int(bool(0))"
   ]
  },
  {
   "cell_type": "code",
   "execution_count": 5,
   "id": "ec5156ba-86d4-4734-9613-11617a69bb96",
   "metadata": {},
   "outputs": [
    {
     "data": {
      "text/plain": [
       "True"
      ]
     },
     "execution_count": 5,
     "metadata": {},
     "output_type": "execute_result"
    }
   ],
   "source": [
    "bool(1)"
   ]
  },
  {
   "cell_type": "code",
   "execution_count": 6,
   "id": "c3eea326-414d-40c7-bb6c-5b07aba5dda8",
   "metadata": {},
   "outputs": [
    {
     "data": {
      "text/plain": [
       "False"
      ]
     },
     "execution_count": 6,
     "metadata": {},
     "output_type": "execute_result"
    }
   ],
   "source": [
    "bool(0)"
   ]
  },
  {
   "cell_type": "code",
   "execution_count": 7,
   "id": "b9f6e6a0-2332-4149-9b52-57306f7c88ee",
   "metadata": {},
   "outputs": [
    {
     "data": {
      "text/plain": [
       "0"
      ]
     },
     "execution_count": 7,
     "metadata": {},
     "output_type": "execute_result"
    }
   ],
   "source": [
    "int(bool(0))"
   ]
  },
  {
   "cell_type": "code",
   "execution_count": 8,
   "id": "d100c13a-c494-4989-a8a4-d2add3d98e2e",
   "metadata": {},
   "outputs": [
    {
     "data": {
      "text/plain": [
       "1"
      ]
     },
     "execution_count": 8,
     "metadata": {},
     "output_type": "execute_result"
    }
   ],
   "source": [
    "int(bool(1))"
   ]
  },
  {
   "cell_type": "code",
   "execution_count": 9,
   "id": "72d2acf6-aefb-4dba-8c97-055708e69738",
   "metadata": {},
   "outputs": [
    {
     "data": {
      "text/plain": [
       "True"
      ]
     },
     "execution_count": 9,
     "metadata": {},
     "output_type": "execute_result"
    }
   ],
   "source": [
    "not 0"
   ]
  },
  {
   "cell_type": "code",
   "execution_count": 10,
   "id": "8566fee3-e895-4228-9667-f23ed145df58",
   "metadata": {},
   "outputs": [
    {
     "data": {
      "text/plain": [
       "1"
      ]
     },
     "execution_count": 10,
     "metadata": {},
     "output_type": "execute_result"
    }
   ],
   "source": [
    "int(not 0)"
   ]
  },
  {
   "cell_type": "code",
   "execution_count": 11,
   "id": "6b608de4-387c-4c67-b4fc-61ef8e5da53d",
   "metadata": {},
   "outputs": [
    {
     "data": {
      "text/plain": [
       "False"
      ]
     },
     "execution_count": 11,
     "metadata": {},
     "output_type": "execute_result"
    }
   ],
   "source": [
    "not 1"
   ]
  },
  {
   "cell_type": "code",
   "execution_count": 12,
   "id": "7aef4c35-904c-494d-91fc-e236212873de",
   "metadata": {},
   "outputs": [
    {
     "data": {
      "text/plain": [
       "False"
      ]
     },
     "execution_count": 12,
     "metadata": {},
     "output_type": "execute_result"
    }
   ],
   "source": [
    "not 2000"
   ]
  },
  {
   "cell_type": "code",
   "execution_count": 13,
   "id": "545a7e9a-e077-4155-8004-207248b74d4f",
   "metadata": {},
   "outputs": [
    {
     "data": {
      "text/plain": [
       "False"
      ]
     },
     "execution_count": 13,
     "metadata": {},
     "output_type": "execute_result"
    }
   ],
   "source": [
    "not -1"
   ]
  },
  {
   "cell_type": "code",
   "execution_count": 14,
   "id": "527c5ea6-2928-440c-9dbd-aeadd18b4ed8",
   "metadata": {},
   "outputs": [
    {
     "name": "stdout",
     "output_type": "stream",
     "text": [
      "boolean value of no.-5 is True\n",
      "boolean value of no.5 is True\n",
      "Nagation of -5 is False        Nagation of5 is False\n",
      "\n",
      "#.............#\n",
      "\n"
     ]
    }
   ],
   "source": [
    "some_negative_integer=-5\n",
    "some_positive_integer=5\n",
    "print(f\"boolean value of no.{some_negative_integer} is {bool(some_negative_integer)}\")\n",
    "print(f\"boolean value of no.{some_positive_integer} is {bool(some_positive_integer)}\")\n",
    "print(f\"Nagation of {some_negative_integer} is {not some_negative_integer} \\\n",
    "       Nagation of{some_positive_integer} is {not some_positive_integer}\")\n",
    "print(\"\\n#.............#\\n\")"
   ]
  },
  {
   "cell_type": "code",
   "execution_count": 15,
   "id": "22214240-b0e9-462f-bf86-573a4023538c",
   "metadata": {},
   "outputs": [
    {
     "data": {
      "text/plain": [
       "True"
      ]
     },
     "execution_count": 15,
     "metadata": {},
     "output_type": "execute_result"
    }
   ],
   "source": [
    "bool (-5)"
   ]
  },
  {
   "cell_type": "code",
   "execution_count": 16,
   "id": "98b9883b-becc-4567-afb8-8c3037c41cb7",
   "metadata": {},
   "outputs": [
    {
     "data": {
      "text/plain": [
       "True"
      ]
     },
     "execution_count": 16,
     "metadata": {},
     "output_type": "execute_result"
    }
   ],
   "source": [
    "bool(5)"
   ]
  },
  {
   "cell_type": "markdown",
   "id": "5b0c0c89-bd25-4234-82b2-4aa5f607b276",
   "metadata": {},
   "source": [
    "## Logical And"
   ]
  },
  {
   "cell_type": "code",
   "execution_count": 17,
   "id": "96930d70-a642-42a9-8dad-d5254b9f481c",
   "metadata": {},
   "outputs": [
    {
     "name": "stdout",
     "output_type": "stream",
     "text": [
      "Dish contains VAGITAVBLES:True\n",
      "Dish contains SALT:False\n",
      "Hence dish prepared was good: False\n",
      "\n"
     ]
    }
   ],
   "source": [
    "VAGITABLES=True\n",
    "SALT=False\n",
    "DISH=VAGITABLES and SALT\n",
    "print(f\"Dish contains VAGITAVBLES:{VAGITABLES}\")\n",
    "print(f\"Dish contains SALT:{SALT}\")\n",
    "print(f\"Hence dish prepared was good: {DISH}\\n\")"
   ]
  },
  {
   "cell_type": "code",
   "execution_count": 18,
   "id": "490705ab-a4f2-4b48-a64b-c0ebb48e9b35",
   "metadata": {},
   "outputs": [
    {
     "data": {
      "text/plain": [
       "0"
      ]
     },
     "execution_count": 18,
     "metadata": {},
     "output_type": "execute_result"
    }
   ],
   "source": [
    "True * False"
   ]
  },
  {
   "cell_type": "code",
   "execution_count": 19,
   "id": "5f9ae2d3-a24d-478b-b38c-74abec0c8424",
   "metadata": {},
   "outputs": [
    {
     "data": {
      "text/plain": [
       "0"
      ]
     },
     "execution_count": 19,
     "metadata": {},
     "output_type": "execute_result"
    }
   ],
   "source": [
    "False * False "
   ]
  },
  {
   "cell_type": "code",
   "execution_count": 20,
   "id": "6d039fc7-d487-4d4c-ace7-444f1dae4604",
   "metadata": {},
   "outputs": [
    {
     "data": {
      "text/plain": [
       "True"
      ]
     },
     "execution_count": 20,
     "metadata": {},
     "output_type": "execute_result"
    }
   ],
   "source": [
    "not(True * False)"
   ]
  },
  {
   "cell_type": "markdown",
   "id": "d7a06d0c-c09c-455f-a0ac-c6841dacc9a0",
   "metadata": {},
   "source": [
    "#BODMOS rule (Pricidence rule)"
   ]
  },
  {
   "cell_type": "code",
   "execution_count": 21,
   "id": "4cf99f94-bd60-45e0-b267-036b30f1719b",
   "metadata": {},
   "outputs": [
    {
     "data": {
      "text/plain": [
       "True"
      ]
     },
     "execution_count": 21,
     "metadata": {},
     "output_type": "execute_result"
    }
   ],
   "source": [
    "# not False * True\n",
    "#= not 0\n",
    "#=True\n",
    "not(False) * True"
   ]
  },
  {
   "cell_type": "code",
   "execution_count": 22,
   "id": "f3f82258-e64e-4a89-800b-aff304e42fe8",
   "metadata": {},
   "outputs": [
    {
     "data": {
      "text/plain": [
       "1"
      ]
     },
     "execution_count": 22,
     "metadata": {},
     "output_type": "execute_result"
    }
   ],
   "source": [
    "(not(False)) * True\n",
    "#=(True) * True\n",
    "#=1"
   ]
  },
  {
   "cell_type": "code",
   "execution_count": 23,
   "id": "10949efc-d1f7-4ce5-92f8-513c94d05d70",
   "metadata": {},
   "outputs": [
    {
     "data": {
      "text/plain": [
       "0"
      ]
     },
     "execution_count": 23,
     "metadata": {},
     "output_type": "execute_result"
    }
   ],
   "source": [
    "False * (not(True))\n",
    "#=False * (False)\n",
    "#= 0"
   ]
  },
  {
   "cell_type": "code",
   "execution_count": 24,
   "id": "a9c13439-e91d-451e-bab9-0e96cfb0a8da",
   "metadata": {},
   "outputs": [
    {
     "data": {
      "text/plain": [
       "True"
      ]
     },
     "execution_count": 24,
     "metadata": {},
     "output_type": "execute_result"
    }
   ],
   "source": [
    "not(False)"
   ]
  },
  {
   "cell_type": "code",
   "execution_count": 25,
   "id": "5c43798c-dbf8-456c-a182-0889916f7544",
   "metadata": {},
   "outputs": [
    {
     "data": {
      "text/plain": [
       "True"
      ]
     },
     "execution_count": 25,
     "metadata": {},
     "output_type": "execute_result"
    }
   ],
   "source": [
    "(not(False))"
   ]
  },
  {
   "cell_type": "code",
   "execution_count": 26,
   "id": "127373d5-fff5-4d10-b9c4-f0aabba47cd3",
   "metadata": {},
   "outputs": [
    {
     "data": {
      "text/plain": [
       "False"
      ]
     },
     "execution_count": 26,
     "metadata": {},
     "output_type": "execute_result"
    }
   ],
   "source": [
    "not 1"
   ]
  },
  {
   "cell_type": "code",
   "execution_count": 27,
   "id": "89854519-b7cf-472f-a1fe-28f1e041e262",
   "metadata": {},
   "outputs": [
    {
     "data": {
      "text/plain": [
       "True"
      ]
     },
     "execution_count": 27,
     "metadata": {},
     "output_type": "execute_result"
    }
   ],
   "source": [
    "not(False) * False\n",
    "# = not False * False\n",
    "# = not (0)\n",
    "# = True"
   ]
  },
  {
   "cell_type": "code",
   "execution_count": 28,
   "id": "4e839168-2a0a-4dbc-b8c2-0aefb9fb5d0f",
   "metadata": {},
   "outputs": [
    {
     "data": {
      "text/plain": [
       "0"
      ]
     },
     "execution_count": 28,
     "metadata": {},
     "output_type": "execute_result"
    }
   ],
   "source": [
    "False * False"
   ]
  },
  {
   "cell_type": "code",
   "execution_count": 29,
   "id": "68ff6f4b-b232-416a-b4cd-0f6a12b1be48",
   "metadata": {},
   "outputs": [
    {
     "data": {
      "text/plain": [
       "True"
      ]
     },
     "execution_count": 29,
     "metadata": {},
     "output_type": "execute_result"
    }
   ],
   "source": [
    "not (0)"
   ]
  },
  {
   "cell_type": "code",
   "execution_count": 30,
   "id": "f0b6c998-2382-439a-a195-7b410965a601",
   "metadata": {},
   "outputs": [
    {
     "data": {
      "text/plain": [
       "0"
      ]
     },
     "execution_count": 30,
     "metadata": {},
     "output_type": "execute_result"
    }
   ],
   "source": [
    "(not(False)) * False\n",
    "# = True * False\n",
    "# ="
   ]
  },
  {
   "cell_type": "markdown",
   "id": "94772ab2-6e8c-44c0-b6e7-c94be66e2682",
   "metadata": {
    "tags": []
   },
   "source": [
    "## Equality Operators"
   ]
  },
  {
   "cell_type": "markdown",
   "id": "a350e7d1-1d4a-40b9-b638-269b35b18181",
   "metadata": {},
   "source": [
    "|Operator|\tName|\tExample|\n",
    "|:-:|:-:|:-:|\n",
    "|==\t|Equal\t|x == y|\n",
    "|!=\t|Not equal\t|x != y|\n",
    "|>\t|Greater than\t|x > |y\n",
    "|<\t|Less than\t|x < y|"
   ]
  },
  {
   "cell_type": "code",
   "execution_count": 31,
   "id": "146fd11e-9746-4580-8874-f90af64f3f78",
   "metadata": {},
   "outputs": [],
   "source": [
    "List_a=[1,2,3,4,5]\n",
    "List_b=[1,2,3,4,5]"
   ]
  },
  {
   "cell_type": "code",
   "execution_count": 32,
   "id": "995049b3-0817-4643-b9ce-e3c6721b65e7",
   "metadata": {},
   "outputs": [
    {
     "name": "stdout",
     "output_type": "stream",
     "text": [
      "139939543264704\n",
      "139939543113600\n"
     ]
    }
   ],
   "source": [
    "print(id(List_a))\n",
    "print(id(List_b))"
   ]
  },
  {
   "cell_type": "code",
   "execution_count": 33,
   "id": "33d83433-800d-47ec-a8ec-c202b86956df",
   "metadata": {},
   "outputs": [
    {
     "data": {
      "text/plain": [
       "False"
      ]
     },
     "execution_count": 33,
     "metadata": {},
     "output_type": "execute_result"
    }
   ],
   "source": [
    "List_a is List_b"
   ]
  },
  {
   "cell_type": "code",
   "execution_count": 34,
   "id": "61a4ec96-8e5f-4e4e-9362-685a81571657",
   "metadata": {},
   "outputs": [],
   "source": [
    "List_a=[1,2,3,4,5,6,7]\n",
    "List_b= List_a"
   ]
  },
  {
   "cell_type": "code",
   "execution_count": 35,
   "id": "5165e66a-4b5d-4417-acfa-821fd93d081a",
   "metadata": {},
   "outputs": [
    {
     "name": "stdout",
     "output_type": "stream",
     "text": [
      "139940034626880\n",
      "139940034626880\n"
     ]
    }
   ],
   "source": [
    "print(id(List_a))\n",
    "print(id(List_b))"
   ]
  },
  {
   "cell_type": "code",
   "execution_count": 36,
   "id": "2586cd94-4a69-43c1-93d5-1bb4476cd253",
   "metadata": {},
   "outputs": [
    {
     "data": {
      "text/plain": [
       "True"
      ]
     },
     "execution_count": 36,
     "metadata": {},
     "output_type": "execute_result"
    }
   ],
   "source": [
    "List_a=[1,2,3,4,5]\n",
    "List_b=[1,2,3,4,5]\n",
    "List_a is not List_b"
   ]
  },
  {
   "cell_type": "code",
   "execution_count": 37,
   "id": "0768dfe9-0807-43ba-b0a4-e10a2742bdfc",
   "metadata": {},
   "outputs": [
    {
     "data": {
      "text/plain": [
       "True"
      ]
     },
     "execution_count": 37,
     "metadata": {},
     "output_type": "execute_result"
    }
   ],
   "source": [
    "List_a == List_b"
   ]
  },
  {
   "cell_type": "code",
   "execution_count": 38,
   "id": "8a2e0e42-dcfe-4579-9deb-7fe0cb09e195",
   "metadata": {},
   "outputs": [
    {
     "name": "stdout",
     "output_type": "stream",
     "text": [
      "139940160700688\n",
      "139940160700688\n"
     ]
    }
   ],
   "source": [
    "# address is comming same when value is diffrent\n",
    "a=2\n",
    "b=2\n",
    "print(id(a))\n",
    "print(id(b))"
   ]
  },
  {
   "cell_type": "code",
   "execution_count": 39,
   "id": "954ba577-96c5-4fcb-bb43-4bf0de3cce0c",
   "metadata": {},
   "outputs": [
    {
     "name": "stdout",
     "output_type": "stream",
     "text": [
      "139939543203376\n",
      "139939543203376\n"
     ]
    }
   ],
   "source": [
    "# address is comming same when value is diffrent\n",
    "str1=\"Nutan\"\n",
    "str2=\"Nutan\"\n",
    "print(id(str1))\n",
    "print(id(str2))"
   ]
  },
  {
   "cell_type": "code",
   "execution_count": 40,
   "id": "25cbb628-a614-4329-9e1d-2c8404a8c923",
   "metadata": {},
   "outputs": [
    {
     "name": "stdout",
     "output_type": "stream",
     "text": [
      "139939543203376\n",
      "139939543191792\n"
     ]
    }
   ],
   "source": [
    "# address is not comming same becoz when value is diffrent\n",
    "str1=\"Nutan\"\n",
    "str2=\"Nutan2\"\n",
    "print(id(str1))\n",
    "print(id(str2))"
   ]
  },
  {
   "cell_type": "code",
   "execution_count": 41,
   "id": "4552dd2b-3acc-43f0-a90c-22002daa24d8",
   "metadata": {},
   "outputs": [],
   "source": [
    "# list is collection of element and mutable\n",
    "# string is a value and immutable"
   ]
  },
  {
   "cell_type": "code",
   "execution_count": 42,
   "id": "a7baf312-30fc-4fa1-ada1-16bd9a1dd351",
   "metadata": {},
   "outputs": [
    {
     "name": "stdout",
     "output_type": "stream",
     "text": [
      "[99, 2, 3, 4, 5]\n"
     ]
    }
   ],
   "source": [
    "List_a=[1,2,3,4,5]\n",
    "List_a[0]=99\n",
    "print(List_a)\n"
   ]
  },
  {
   "cell_type": "code",
   "execution_count": 43,
   "id": "20503258-604c-4539-a79e-da21e1bd70ce",
   "metadata": {},
   "outputs": [
    {
     "data": {
      "text/plain": [
       "'Nutan'"
      ]
     },
     "execution_count": 43,
     "metadata": {},
     "output_type": "execute_result"
    }
   ],
   "source": [
    "str1"
   ]
  },
  {
   "cell_type": "code",
   "execution_count": 44,
   "id": "f3db60d2-1cfe-4c60-a2b3-eee8efe8708c",
   "metadata": {},
   "outputs": [
    {
     "ename": "TypeError",
     "evalue": "'str' object does not support item assignment",
     "output_type": "error",
     "traceback": [
      "\u001b[0;31m---------------------------------------------------------------------------\u001b[0m",
      "\u001b[0;31mTypeError\u001b[0m                                 Traceback (most recent call last)",
      "Cell \u001b[0;32mIn[44], line 1\u001b[0m\n\u001b[0;32m----> 1\u001b[0m \u001b[43mstr1\u001b[49m\u001b[43m[\u001b[49m\u001b[38;5;241;43m0\u001b[39;49m\u001b[43m]\u001b[49m\u001b[38;5;241m=\u001b[39m\u001b[38;5;124m\"\u001b[39m\u001b[38;5;124mK\u001b[39m\u001b[38;5;124m\"\u001b[39m \u001b[38;5;66;03m## string is immutable \u001b[39;00m\n\u001b[1;32m      2\u001b[0m \u001b[38;5;66;03m# u can not replace the element of string\u001b[39;00m\n\u001b[1;32m      3\u001b[0m \u001b[38;5;66;03m# but u can change/replace the full string\u001b[39;00m\n",
      "\u001b[0;31mTypeError\u001b[0m: 'str' object does not support item assignment"
     ]
    }
   ],
   "source": [
    "str1[0]=\"K\" ## string is immutable \n",
    "# u can not replace the element of string\n",
    "# but u can change/replace the full string"
   ]
  },
  {
   "cell_type": "markdown",
   "id": "cad45332-dfd8-4783-a540-3a9918567f40",
   "metadata": {},
   "source": [
    "## Comparision Operation"
   ]
  },
  {
   "cell_type": "markdown",
   "id": "1fb75d85-e73c-4ad2-9614-04f4a8aafbbd",
   "metadata": {},
   "source": [
    "\n",
    "|Operator|\tName|\tExample|\n",
    "|:-:|:-:|:-:|\n",
    "|==|\tEqual|\tx == y\t|\n",
    "|!=|\tNot equal|\tx != y|\t\n",
    "|>|\tGreater than|\tx > y|\t\n",
    "|<|\tLess than\t|x < y\t|\n",
    "|>=|\tGreater than or equal to|\tx >= y|\t\n",
    "|<=|\tLess than or equal to|\tx <= y|"
   ]
  },
  {
   "cell_type": "code",
   "execution_count": 45,
   "id": "09e9f7b2-18d9-4ad6-ad5a-fd7fc5c173e6",
   "metadata": {},
   "outputs": [
    {
     "name": "stdout",
     "output_type": "stream",
     "text": [
      "bike is faster than car: False\n",
      "bike is slower than car: False\n"
     ]
    }
   ],
   "source": [
    "cmax_speed_of_bike=150\n",
    "cmax_speed_of_car=200\n",
    "print(f\"bike is faster than car: {cmax_speed_of_bike >= cmax_speed_of_car}\")\n",
    "print(f\"bike is slower than car: {cmax_speed_of_bike >= cmax_speed_of_car}\")"
   ]
  },
  {
   "cell_type": "code",
   "execution_count": 46,
   "id": "d0a2a31e-89e0-4365-bdd9-40248947a998",
   "metadata": {},
   "outputs": [
    {
     "name": "stdout",
     "output_type": "stream",
     "text": [
      "bike is faster than car: False\n",
      "bike is slower than car: False\n",
      "bike and car has equal speed: True\n"
     ]
    }
   ],
   "source": [
    "cmax_speed_of_bike=200\n",
    "cmax_speed_of_car=200\n",
    "print(f\"bike is faster than car: {cmax_speed_of_bike > cmax_speed_of_car}\")\n",
    "print(f\"bike is slower than car: {cmax_speed_of_bike < cmax_speed_of_car}\")\n",
    "print(f\"bike and car has equal speed: {cmax_speed_of_bike==cmax_speed_of_car}\")"
   ]
  },
  {
   "cell_type": "markdown",
   "id": "db7ad480-1f80-487a-ac9d-b09d3ef07f8f",
   "metadata": {},
   "source": [
    "## Arithmatic Operation\n"
   ]
  },
  {
   "cell_type": "markdown",
   "id": "f58e3e68-052b-4a5f-ba76-38c2d5830d69",
   "metadata": {},
   "source": [
    "|Operaton|Name|Example\n",
    "|:-:|:-:|:-:|\n",
    "|+|Addition|x + y|\n",
    "|-|Subtraction\t|x - y\t|\n",
    "|*|Multiplication\t  |x * y|\n",
    "|/|Division\t          |x / y|\n",
    "| %|Modulus\t          |x % y|\n",
    "|**| Exponentiation\t  |x ** y|\t\n",
    "|//|  Floor division| x // y|"
   ]
  },
  {
   "cell_type": "code",
   "execution_count": 47,
   "id": "710618a6-2c0a-4b3c-a792-6e610384cbf0",
   "metadata": {},
   "outputs": [],
   "source": [
    "a=25\n",
    "b=101"
   ]
  },
  {
   "cell_type": "code",
   "execution_count": 48,
   "id": "13231e0e-649f-4b7c-a5e9-0a3a04171ffb",
   "metadata": {},
   "outputs": [
    {
     "data": {
      "text/plain": [
       "2525"
      ]
     },
     "execution_count": 48,
     "metadata": {},
     "output_type": "execute_result"
    }
   ],
   "source": [
    "b*a"
   ]
  },
  {
   "cell_type": "code",
   "execution_count": 49,
   "id": "b56b2e89-9d61-46e6-8c16-ed20dc20e0fd",
   "metadata": {},
   "outputs": [
    {
     "data": {
      "text/plain": [
       "126"
      ]
     },
     "execution_count": 49,
     "metadata": {},
     "output_type": "execute_result"
    }
   ],
   "source": [
    "b+a"
   ]
  },
  {
   "cell_type": "code",
   "execution_count": 50,
   "id": "52349434-b934-49fc-98d4-eee05aefdc63",
   "metadata": {},
   "outputs": [
    {
     "data": {
      "text/plain": [
       "76"
      ]
     },
     "execution_count": 50,
     "metadata": {},
     "output_type": "execute_result"
    }
   ],
   "source": [
    "b-a"
   ]
  },
  {
   "cell_type": "code",
   "execution_count": 51,
   "id": "54ea3ffa-d5b4-4b11-94b5-6593d600e122",
   "metadata": {},
   "outputs": [
    {
     "data": {
      "text/plain": [
       "4.04"
      ]
     },
     "execution_count": 51,
     "metadata": {},
     "output_type": "execute_result"
    }
   ],
   "source": [
    "b/a"
   ]
  },
  {
   "cell_type": "code",
   "execution_count": 52,
   "id": "3bcfe47a-da65-4fac-b79f-deedee79bde6",
   "metadata": {},
   "outputs": [
    {
     "data": {
      "text/plain": [
       "0.24752475247524752"
      ]
     },
     "execution_count": 52,
     "metadata": {},
     "output_type": "execute_result"
    }
   ],
   "source": [
    "a/b"
   ]
  },
  {
   "cell_type": "code",
   "execution_count": 53,
   "id": "1e8d5c16-0130-4320-9679-bd0201e34c23",
   "metadata": {},
   "outputs": [
    {
     "data": {
      "text/plain": [
       "0"
      ]
     },
     "execution_count": 53,
     "metadata": {},
     "output_type": "execute_result"
    }
   ],
   "source": [
    "a//b"
   ]
  },
  {
   "cell_type": "code",
   "execution_count": 54,
   "id": "6627fcbe-f05f-47ab-a2ee-051d5c14c854",
   "metadata": {},
   "outputs": [
    {
     "data": {
      "text/plain": [
       "1"
      ]
     },
     "execution_count": 54,
     "metadata": {},
     "output_type": "execute_result"
    }
   ],
   "source": [
    "b%a  #remainder"
   ]
  },
  {
   "cell_type": "code",
   "execution_count": 55,
   "id": "beb2005b-a316-4e09-95fe-d7087dcc783b",
   "metadata": {},
   "outputs": [
    {
     "data": {
      "text/plain": [
       "25"
      ]
     },
     "execution_count": 55,
     "metadata": {},
     "output_type": "execute_result"
    }
   ],
   "source": [
    "a%b  #remainder"
   ]
  },
  {
   "cell_type": "markdown",
   "id": "67bb6c6f-739c-4769-972f-f8e0430d511f",
   "metadata": {},
   "source": [
    "# Bitwise Operators\n",
    "|OPERATOR\t|DESCRIPTION|\t\n",
    "|:-:|:-:|\n",
    "| &\t|Bitwise AND|\t\n",
    "| **\\|**\t| Bitwise OR |\n",
    "| ~\t|Bitwise NOT|\t\n",
    "| ^\t|Bitwise XOR|\t\n",
    "|>>|\tBitwise right shift|\t\n",
    "|<<|\tBitwise left shift\t|"
   ]
  },
  {
   "cell_type": "code",
   "execution_count": 56,
   "id": "2f98acc9-ee84-42c8-b5cb-b55e37341686",
   "metadata": {},
   "outputs": [
    {
     "name": "stdout",
     "output_type": "stream",
     "text": [
      "0b1010\n",
      "0o12\n",
      "0xa\n"
     ]
    }
   ],
   "source": [
    "var=10\n",
    "print(bin(var))\n",
    "print(oct(var))\n",
    "print(hex(var))"
   ]
  },
  {
   "cell_type": "code",
   "execution_count": 57,
   "id": "494d38b7-0650-4268-8928-267ef8440d78",
   "metadata": {},
   "outputs": [
    {
     "data": {
      "text/plain": [
       "-11"
      ]
     },
     "execution_count": 57,
     "metadata": {},
     "output_type": "execute_result"
    }
   ],
   "source": [
    "~var"
   ]
  },
  {
   "cell_type": "code",
   "execution_count": 58,
   "id": "78609cd6-4955-4ae8-81db-82f01dc50d7f",
   "metadata": {},
   "outputs": [
    {
     "data": {
      "text/plain": [
       "False"
      ]
     },
     "execution_count": 58,
     "metadata": {},
     "output_type": "execute_result"
    }
   ],
   "source": [
    "False | False"
   ]
  },
  {
   "cell_type": "code",
   "execution_count": 59,
   "id": "0fb85063-0cde-457d-b849-66572a2233a6",
   "metadata": {},
   "outputs": [
    {
     "data": {
      "text/plain": [
       "5"
      ]
     },
     "execution_count": 59,
     "metadata": {},
     "output_type": "execute_result"
    }
   ],
   "source": [
    "#10=1010\n",
    "var >>1\n",
    "#5=0101"
   ]
  },
  {
   "cell_type": "markdown",
   "id": "7247298f-bbc1-4fdf-853c-62d767a35bcc",
   "metadata": {
    "tags": []
   },
   "source": [
    "# Data structure"
   ]
  },
  {
   "cell_type": "markdown",
   "id": "e33476df-a982-44b5-a0dc-ce85bd45a85e",
   "metadata": {},
   "source": [
    "# String"
   ]
  },
  {
   "cell_type": "code",
   "execution_count": 60,
   "id": "e1dbce36-4c8c-4e31-a5b5-4144a0cbf994",
   "metadata": {},
   "outputs": [
    {
     "data": {
      "text/plain": [
       "'Krish'"
      ]
     },
     "execution_count": 60,
     "metadata": {},
     "output_type": "execute_result"
    }
   ],
   "source": [
    "'Krish'"
   ]
  },
  {
   "cell_type": "code",
   "execution_count": 61,
   "id": "7c2b0899-11a5-4c14-a898-6df078cec32e",
   "metadata": {},
   "outputs": [],
   "source": [
    "str_1=\"Welcom to data science masters\" # "
   ]
  },
  {
   "cell_type": "code",
   "execution_count": 62,
   "id": "ca903639-a195-48a4-82ad-0636142f15c1",
   "metadata": {},
   "outputs": [
    {
     "data": {
      "text/plain": [
       "str"
      ]
     },
     "execution_count": 62,
     "metadata": {},
     "output_type": "execute_result"
    }
   ],
   "source": [
    "type(str_1)"
   ]
  },
  {
   "cell_type": "code",
   "execution_count": 63,
   "id": "13eca83f-3b68-4a68-bb0f-09b8e8fa90b3",
   "metadata": {},
   "outputs": [
    {
     "ename": "TypeError",
     "evalue": "'str' object does not support item assignment",
     "output_type": "error",
     "traceback": [
      "\u001b[0;31m---------------------------------------------------------------------------\u001b[0m",
      "\u001b[0;31mTypeError\u001b[0m                                 Traceback (most recent call last)",
      "Cell \u001b[0;32mIn[63], line 2\u001b[0m\n\u001b[1;32m      1\u001b[0m \u001b[38;5;66;03m# immutable\u001b[39;00m\n\u001b[0;32m----> 2\u001b[0m \u001b[43mstr_1\u001b[49m\u001b[43m[\u001b[49m\u001b[38;5;241;43m0\u001b[39;49m\u001b[43m]\u001b[49m\u001b[38;5;241m=\u001b[39m\u001b[38;5;241m15\u001b[39m\n",
      "\u001b[0;31mTypeError\u001b[0m: 'str' object does not support item assignment"
     ]
    }
   ],
   "source": [
    "# immutable\n",
    "str_1[0]=15"
   ]
  },
  {
   "cell_type": "code",
   "execution_count": 64,
   "id": "f7423166-1bc1-4f0f-a94f-8d16c523ef3f",
   "metadata": {},
   "outputs": [],
   "source": [
    "#we can replace entire string\n",
    "str_1=\"nutan bagde\""
   ]
  },
  {
   "cell_type": "code",
   "execution_count": 65,
   "id": "cb05a20e-9f69-4c61-90f2-55caa1778c84",
   "metadata": {},
   "outputs": [
    {
     "data": {
      "text/plain": [
       "'nutan bagde'"
      ]
     },
     "execution_count": 65,
     "metadata": {},
     "output_type": "execute_result"
    }
   ],
   "source": [
    "str_1"
   ]
  },
  {
   "cell_type": "code",
   "execution_count": 66,
   "id": "facb643c-d02f-4ea5-9ad0-1c144d5b8799",
   "metadata": {},
   "outputs": [
    {
     "data": {
      "text/plain": [
       "'art'"
      ]
     },
     "execution_count": 66,
     "metadata": {},
     "output_type": "execute_result"
    }
   ],
   "source": [
    "# 1  2  3  4  5  6  \n",
    "# K  a  r  t  i  k\n",
    "#-6 -5 -4 -3 -2 -1\n",
    "\n",
    "name=\"Kartik\"\n",
    "name[-5:4]\n",
    "\n"
   ]
  },
  {
   "cell_type": "code",
   "execution_count": 67,
   "id": "6bcd9529-3149-4273-8934-8fb4e9e9dcde",
   "metadata": {},
   "outputs": [],
   "source": [
    "string=\"Pw skills data science\""
   ]
  },
  {
   "cell_type": "code",
   "execution_count": 68,
   "id": "87fc2616-b7f4-4320-809d-a8adad2f17fc",
   "metadata": {},
   "outputs": [
    {
     "data": {
      "text/plain": [
       "'i'"
      ]
     },
     "execution_count": 68,
     "metadata": {},
     "output_type": "execute_result"
    }
   ],
   "source": [
    "string[5]"
   ]
  },
  {
   "cell_type": "code",
   "execution_count": 69,
   "id": "9f1d4eb8-7660-4a96-b509-ab0fca6f32e8",
   "metadata": {},
   "outputs": [
    {
     "data": {
      "text/plain": [
       "'ills d'"
      ]
     },
     "execution_count": 69,
     "metadata": {},
     "output_type": "execute_result"
    }
   ],
   "source": [
    "string[5:11]"
   ]
  },
  {
   "cell_type": "code",
   "execution_count": 70,
   "id": "c26c98d6-d8b6-4099-8625-451a059861ec",
   "metadata": {},
   "outputs": [
    {
     "data": {
      "text/plain": [
       "'i'"
      ]
     },
     "execution_count": 70,
     "metadata": {},
     "output_type": "execute_result"
    }
   ],
   "source": [
    "string[-5]"
   ]
  },
  {
   "cell_type": "code",
   "execution_count": 71,
   "id": "3bf13bb3-ce08-4e5c-a5ba-e90b6a1227b4",
   "metadata": {},
   "outputs": [
    {
     "data": {
      "text/plain": [
       "'ience'"
      ]
     },
     "execution_count": 71,
     "metadata": {},
     "output_type": "execute_result"
    }
   ],
   "source": [
    "string[-5:]"
   ]
  },
  {
   "cell_type": "code",
   "execution_count": 72,
   "id": "e4ae8912-3bdf-4d1d-b35b-6ea44c71ca04",
   "metadata": {},
   "outputs": [],
   "source": [
    "# TO SEE ALL INBUILD FUNCTION (NAME_OF_STRING.[PRESS TAB BUTTON])\n"
   ]
  },
  {
   "cell_type": "code",
   "execution_count": 73,
   "id": "e95cea9c-9163-4279-b1fa-cfab8429bb68",
   "metadata": {},
   "outputs": [
    {
     "data": {
      "text/plain": [
       "'Pw skills data scienc'"
      ]
     },
     "execution_count": 73,
     "metadata": {},
     "output_type": "execute_result"
    }
   ],
   "source": [
    "string[:-1]"
   ]
  },
  {
   "cell_type": "code",
   "execution_count": 74,
   "id": "7ee9f6bf-f997-451e-a21e-39fb62c60f89",
   "metadata": {},
   "outputs": [
    {
     "data": {
      "text/plain": [
       "'e'"
      ]
     },
     "execution_count": 74,
     "metadata": {},
     "output_type": "execute_result"
    }
   ],
   "source": [
    "string[-1:]"
   ]
  },
  {
   "cell_type": "code",
   "execution_count": 75,
   "id": "06f3351b-2de3-499b-aec5-9038d6c0fe87",
   "metadata": {},
   "outputs": [
    {
     "data": {
      "text/plain": [
       "'Pw skills data science'"
      ]
     },
     "execution_count": 75,
     "metadata": {},
     "output_type": "execute_result"
    }
   ],
   "source": [
    "string[:] #displying everthing"
   ]
  },
  {
   "cell_type": "code",
   "execution_count": 76,
   "id": "1ca4cf36-03e4-4c64-97d5-edee9e577a0d",
   "metadata": {},
   "outputs": [
    {
     "data": {
      "text/plain": [
       "'Pw skills data science'"
      ]
     },
     "execution_count": 76,
     "metadata": {},
     "output_type": "execute_result"
    }
   ],
   "source": [
    "string[::]   #displying everthing"
   ]
  },
  {
   "cell_type": "code",
   "execution_count": 77,
   "id": "ed70a472-5f61-4b8a-83f0-c689ec741ba6",
   "metadata": {},
   "outputs": [
    {
     "data": {
      "text/plain": [
       "'ecneics atad slliks wP'"
      ]
     },
     "execution_count": 77,
     "metadata": {},
     "output_type": "execute_result"
    }
   ],
   "source": [
    "string[::-1] # step size(revercing everything with step size 1)"
   ]
  },
  {
   "cell_type": "code",
   "execution_count": 78,
   "id": "60072e76-db96-4eff-bf6b-e5c0670181f7",
   "metadata": {},
   "outputs": [
    {
     "data": {
      "text/plain": [
       "'enisaa lisw'"
      ]
     },
     "execution_count": 78,
     "metadata": {},
     "output_type": "execute_result"
    }
   ],
   "source": [
    "string[::-2]"
   ]
  },
  {
   "cell_type": "code",
   "execution_count": 79,
   "id": "656c1dc8-a681-404b-9c0d-971960c1a0c7",
   "metadata": {},
   "outputs": [
    {
     "data": {
      "text/plain": [
       "'ecneics ata'"
      ]
     },
     "execution_count": 79,
     "metadata": {},
     "output_type": "execute_result"
    }
   ],
   "source": [
    "string[:10:-1]"
   ]
  },
  {
   "cell_type": "code",
   "execution_count": 80,
   "id": "4bb5da96-81cf-4da0-a60b-9157906a5eca",
   "metadata": {},
   "outputs": [
    {
     "data": {
      "text/plain": [
       "''"
      ]
     },
     "execution_count": 80,
     "metadata": {},
     "output_type": "execute_result"
    }
   ],
   "source": [
    "string[1:10:-1]  #  its not working bcoz 1:10: meaning is Pw skills d \n",
    "#but for :-1 this string is 'ecneics atad slliks wP' so \"wP\" index is  1,0 at end"
   ]
  },
  {
   "cell_type": "code",
   "execution_count": 81,
   "id": "51e6b34d-7477-4f23-a7af-abbe75f0be52",
   "metadata": {},
   "outputs": [
    {
     "data": {
      "text/plain": [
       "'d slliks w'"
      ]
     },
     "execution_count": 81,
     "metadata": {},
     "output_type": "execute_result"
    }
   ],
   "source": [
    "string[10:0:-1]"
   ]
  },
  {
   "cell_type": "code",
   "execution_count": 82,
   "id": "56b98bd9-50e7-4265-986d-2be9d5f96603",
   "metadata": {},
   "outputs": [],
   "source": [
    "course=\"data science Masters\""
   ]
  },
  {
   "cell_type": "code",
   "execution_count": 83,
   "id": "408bc6ca-3178-4cb5-8644-ffb9885ed7bd",
   "metadata": {},
   "outputs": [
    {
     "data": {
      "text/plain": [
       "'science'"
      ]
     },
     "execution_count": 83,
     "metadata": {},
     "output_type": "execute_result"
    }
   ],
   "source": [
    "course[5:12]"
   ]
  },
  {
   "cell_type": "code",
   "execution_count": 84,
   "id": "fe8d2270-f652-4764-b339-5bd1135d248b",
   "metadata": {},
   "outputs": [
    {
     "data": {
      "text/plain": [
       "'ecneics'"
      ]
     },
     "execution_count": 84,
     "metadata": {},
     "output_type": "execute_result"
    }
   ],
   "source": [
    "course[11:4:-1]"
   ]
  },
  {
   "cell_type": "code",
   "execution_count": 85,
   "id": "5167b09c-aede-4a75-976d-674ffffd7327",
   "metadata": {},
   "outputs": [
    {
     "data": {
      "text/plain": [
       "'data science Masters classes is on time on this weekend'"
      ]
     },
     "execution_count": 85,
     "metadata": {},
     "output_type": "execute_result"
    }
   ],
   "source": [
    "# Operation of concatination\n",
    "course +\" classes is on time on this weekend\""
   ]
  },
  {
   "cell_type": "code",
   "execution_count": 86,
   "id": "9a46400a-8da3-4f5c-8b4e-db6085d488d0",
   "metadata": {},
   "outputs": [
    {
     "data": {
      "text/plain": [
       "'data science Mastersdata science Masters'"
      ]
     },
     "execution_count": 86,
     "metadata": {},
     "output_type": "execute_result"
    }
   ],
   "source": [
    "course * 2"
   ]
  },
  {
   "cell_type": "code",
   "execution_count": 87,
   "id": "8cf5c3d5-308b-4eb3-8d37-600a79abcbc9",
   "metadata": {},
   "outputs": [
    {
     "data": {
      "text/plain": [
       "20"
      ]
     },
     "execution_count": 87,
     "metadata": {},
     "output_type": "execute_result"
    }
   ],
   "source": [
    "len(course)"
   ]
  },
  {
   "cell_type": "code",
   "execution_count": 88,
   "id": "3c9f6d84-e141-4067-81b0-e0b5f5a3221c",
   "metadata": {},
   "outputs": [
    {
     "data": {
      "text/plain": [
       "1"
      ]
     },
     "execution_count": 88,
     "metadata": {},
     "output_type": "execute_result"
    }
   ],
   "source": [
    "#giving lowest index\n",
    "course.find(\"a\")"
   ]
  },
  {
   "cell_type": "code",
   "execution_count": 89,
   "id": "eb7d2596-ea8d-43c5-bb3d-ff06cac08109",
   "metadata": {},
   "outputs": [
    {
     "data": {
      "text/plain": [
       "3"
      ]
     },
     "execution_count": 89,
     "metadata": {},
     "output_type": "execute_result"
    }
   ],
   "source": [
    "course.find(\"a\",2,10)"
   ]
  },
  {
   "cell_type": "code",
   "execution_count": 90,
   "id": "a45c141f-3be8-4f46-8e77-1cd8507a728f",
   "metadata": {},
   "outputs": [
    {
     "data": {
      "text/plain": [
       "3"
      ]
     },
     "execution_count": 90,
     "metadata": {},
     "output_type": "execute_result"
    }
   ],
   "source": [
    "course.count(\"a\")"
   ]
  },
  {
   "cell_type": "code",
   "execution_count": 91,
   "id": "172035a2-6a81-4d0b-8368-8b7ba8df05b6",
   "metadata": {},
   "outputs": [
    {
     "data": {
      "text/plain": [
       "21"
      ]
     },
     "execution_count": 91,
     "metadata": {},
     "output_type": "execute_result"
    }
   ],
   "source": [
    "course.count(\"\")"
   ]
  },
  {
   "cell_type": "code",
   "execution_count": 92,
   "id": "3325c50c-af5d-4ffd-8319-f2f9b3c49b10",
   "metadata": {},
   "outputs": [
    {
     "data": {
      "text/plain": [
       "['d', 't', ' science M', 'sters']"
      ]
     },
     "execution_count": 92,
     "metadata": {},
     "output_type": "execute_result"
    }
   ],
   "source": [
    "course.split(\"a\")"
   ]
  },
  {
   "cell_type": "code",
   "execution_count": 93,
   "id": "7112f173-45dd-4932-9446-bc70bb6b72c7",
   "metadata": {},
   "outputs": [
    {
     "data": {
      "text/plain": [
       "('data ', 's', 'cience Masters')"
      ]
     },
     "execution_count": 93,
     "metadata": {},
     "output_type": "execute_result"
    }
   ],
   "source": [
    "course.partition(\"s\")"
   ]
  },
  {
   "cell_type": "code",
   "execution_count": 94,
   "id": "0c0058db-781e-49a3-9a15-e28d7b0de322",
   "metadata": {},
   "outputs": [
    {
     "data": {
      "text/plain": [
       "'Data science masters'"
      ]
     },
     "execution_count": 94,
     "metadata": {},
     "output_type": "execute_result"
    }
   ],
   "source": [
    "course.capitalize()"
   ]
  },
  {
   "cell_type": "code",
   "execution_count": 95,
   "id": "a1d5fc6c-77e1-4efd-a6a5-8dab2694ef7c",
   "metadata": {},
   "outputs": [
    {
     "data": {
      "text/plain": [
       "'data science masters'"
      ]
     },
     "execution_count": 95,
     "metadata": {},
     "output_type": "execute_result"
    }
   ],
   "source": [
    "course.lower()"
   ]
  },
  {
   "cell_type": "code",
   "execution_count": 96,
   "id": "bf943f29-7a5d-44cf-8a6a-c0112e04cc3b",
   "metadata": {},
   "outputs": [
    {
     "data": {
      "text/plain": [
       "'DATA SCIENCE MASTERS'"
      ]
     },
     "execution_count": 96,
     "metadata": {},
     "output_type": "execute_result"
    }
   ],
   "source": [
    "course.upper()"
   ]
  },
  {
   "cell_type": "code",
   "execution_count": 97,
   "id": "06d8b84a-7878-490e-8bd8-0d3370c5c812",
   "metadata": {},
   "outputs": [
    {
     "data": {
      "text/plain": [
       "'DATA SCIENCE mASTERS'"
      ]
     },
     "execution_count": 97,
     "metadata": {},
     "output_type": "execute_result"
    }
   ],
   "source": [
    "course.swapcase()"
   ]
  },
  {
   "cell_type": "code",
   "execution_count": 98,
   "id": "1c953601-9a9a-44c3-901b-f454e96f50f4",
   "metadata": {},
   "outputs": [
    {
     "data": {
      "text/plain": [
       "'Data Science Masters'"
      ]
     },
     "execution_count": 98,
     "metadata": {},
     "output_type": "execute_result"
    }
   ],
   "source": [
    "course.title()"
   ]
  },
  {
   "cell_type": "code",
   "execution_count": 99,
   "id": "4eaadd87-ab47-4cdd-af18-ea0e0d7888f5",
   "metadata": {},
   "outputs": [
    {
     "data": {
      "text/plain": [
       "'data science Masters'"
      ]
     },
     "execution_count": 99,
     "metadata": {},
     "output_type": "execute_result"
    }
   ],
   "source": [
    "course"
   ]
  },
  {
   "cell_type": "code",
   "execution_count": 100,
   "id": "5933f006-ffff-4c96-90e6-737382bb2336",
   "metadata": {},
   "outputs": [],
   "source": [
    "# iterator is in join fuction"
   ]
  },
  {
   "cell_type": "code",
   "execution_count": 101,
   "id": "7d1903eb-2521-4a26-8a49-9535f5339a4c",
   "metadata": {},
   "outputs": [
    {
     "data": {
      "text/plain": [
       "'sretsaM ecneics atad'"
      ]
     },
     "execution_count": 101,
     "metadata": {},
     "output_type": "execute_result"
    }
   ],
   "source": [
    "\"\".join(reversed(course))"
   ]
  },
  {
   "cell_type": "code",
   "execution_count": 102,
   "id": "232780c8-2524-4fe3-8d20-6746735d58ec",
   "metadata": {},
   "outputs": [
    {
     "data": {
      "text/plain": [
       "'s r e t s a M   e c n e i c s   a t a d'"
      ]
     },
     "execution_count": 102,
     "metadata": {},
     "output_type": "execute_result"
    }
   ],
   "source": [
    "\" \".join(reversed(course))"
   ]
  },
  {
   "cell_type": "code",
   "execution_count": 103,
   "id": "57d8b07a-b001-49b9-b3b6-1b9acd96d3f7",
   "metadata": {},
   "outputs": [
    {
     "data": {
      "text/plain": [
       "'dNaNtNaN NsNcNiNeNnNcNeN NMNaNsNtNeNrNs'"
      ]
     },
     "execution_count": 103,
     "metadata": {},
     "output_type": "execute_result"
    }
   ],
   "source": [
    "\"N\".join(course)"
   ]
  },
  {
   "cell_type": "code",
   "execution_count": 104,
   "id": "0bb93cd1-6998-4fa7-bc2c-1e40f9e8285e",
   "metadata": {},
   "outputs": [
    {
     "data": {
      "text/plain": [
       "'a1b1c1d'"
      ]
     },
     "execution_count": 104,
     "metadata": {},
     "output_type": "execute_result"
    }
   ],
   "source": [
    "\"1\".join(\"abcd\")"
   ]
  },
  {
   "cell_type": "code",
   "execution_count": 105,
   "id": "b43d9541-928c-4197-9abd-b2e123e27505",
   "metadata": {},
   "outputs": [
    {
     "data": {
      "text/plain": [
       "'a 1 b 1 c 1 d'"
      ]
     },
     "execution_count": 105,
     "metadata": {},
     "output_type": "execute_result"
    }
   ],
   "source": [
    "\" 1 \".join(\"abcd\")"
   ]
  },
  {
   "cell_type": "code",
   "execution_count": 106,
   "id": "0a9701ec-c514-428a-a7d3-d125211c4486",
   "metadata": {},
   "outputs": [
    {
     "data": {
      "text/plain": [
       "'a1 b1 c1 d'"
      ]
     },
     "execution_count": 106,
     "metadata": {},
     "output_type": "execute_result"
    }
   ],
   "source": [
    "\"1 \".join(\"abcd\")"
   ]
  },
  {
   "cell_type": "code",
   "execution_count": 107,
   "id": "c1484749-9e55-4246-9ff9-12c3ac878783",
   "metadata": {},
   "outputs": [
    {
     "data": {
      "text/plain": [
       "'a 1b 1c 1d'"
      ]
     },
     "execution_count": 107,
     "metadata": {},
     "output_type": "execute_result"
    }
   ],
   "source": [
    "\" 1\".join(\"abcd\")"
   ]
  },
  {
   "cell_type": "code",
   "execution_count": 108,
   "id": "d5553534-b987-4905-8fb0-3d0ed4ed21aa",
   "metadata": {},
   "outputs": [
    {
     "data": {
      "text/plain": [
       "<reversed at 0x7f4636ef9ff0>"
      ]
     },
     "execution_count": 108,
     "metadata": {},
     "output_type": "execute_result"
    }
   ],
   "source": [
    "reversed(\"ant\")"
   ]
  },
  {
   "cell_type": "code",
   "execution_count": 109,
   "id": "9614640c-5d2a-4cc1-b194-c4bc19292106",
   "metadata": {},
   "outputs": [
    {
     "data": {
      "text/plain": [
       "['t', 'n', 'a']"
      ]
     },
     "execution_count": 109,
     "metadata": {},
     "output_type": "execute_result"
    }
   ],
   "source": [
    "list(reversed(\"ant\"))"
   ]
  },
  {
   "cell_type": "code",
   "execution_count": 110,
   "id": "ebbceaff-376e-48f5-a0df-95093e182b37",
   "metadata": {},
   "outputs": [],
   "source": [
    "#removing carrector from the string\n",
    "string_a=\" I am at home \"\n",
    "    "
   ]
  },
  {
   "cell_type": "code",
   "execution_count": 111,
   "id": "8f8b340b-6f59-4f29-8a29-6abf42c5efab",
   "metadata": {},
   "outputs": [
    {
     "data": {
      "text/plain": [
       "'I am at home'"
      ]
     },
     "execution_count": 111,
     "metadata": {},
     "output_type": "execute_result"
    }
   ],
   "source": [
    "string_a.strip(\" \")"
   ]
  },
  {
   "cell_type": "code",
   "execution_count": 112,
   "id": "a6f91890-c83c-47f1-808b-b7a21d325c02",
   "metadata": {},
   "outputs": [
    {
     "data": {
      "text/plain": [
       "'I am at home '"
      ]
     },
     "execution_count": 112,
     "metadata": {},
     "output_type": "execute_result"
    }
   ],
   "source": [
    "string_a.lstrip(\" \")"
   ]
  },
  {
   "cell_type": "code",
   "execution_count": 113,
   "id": "99b2bcb1-d5ec-43ac-98fe-78bf81e7c765",
   "metadata": {},
   "outputs": [
    {
     "data": {
      "text/plain": [
       "' I am at home'"
      ]
     },
     "execution_count": 113,
     "metadata": {},
     "output_type": "execute_result"
    }
   ],
   "source": [
    "string_a.rstrip(\" \")"
   ]
  },
  {
   "cell_type": "code",
   "execution_count": 114,
   "id": "f836cd00-4ce9-4552-ae4b-ac15f5e03f6b",
   "metadata": {},
   "outputs": [
    {
     "data": {
      "text/plain": [
       "' you am at home '"
      ]
     },
     "execution_count": 114,
     "metadata": {},
     "output_type": "execute_result"
    }
   ],
   "source": [
    "string_a.replace(\"I\",\"you\")"
   ]
  },
  {
   "cell_type": "code",
   "execution_count": 115,
   "id": "e8fd4b9c-6da1-4bb1-b2f9-ab9fa0b0114e",
   "metadata": {},
   "outputs": [
    {
     "data": {
      "text/plain": [
       "'                      I am at home                     '"
      ]
     },
     "execution_count": 115,
     "metadata": {},
     "output_type": "execute_result"
    }
   ],
   "source": [
    "string_a.center(55)"
   ]
  },
  {
   "cell_type": "code",
   "execution_count": 116,
   "id": "9100eb55-e1ab-4c3b-864f-c45c31cd49af",
   "metadata": {},
   "outputs": [
    {
     "data": {
      "text/plain": [
       "'hello   world'"
      ]
     },
     "execution_count": 116,
     "metadata": {},
     "output_type": "execute_result"
    }
   ],
   "source": [
    "\"hello \\tworld\".expandtabs()"
   ]
  },
  {
   "cell_type": "code",
   "execution_count": 117,
   "id": "4324d686-8478-4d56-af2a-4d490b33c0e3",
   "metadata": {},
   "outputs": [],
   "source": [
    "str1=\"Welcom to pwskills. Welcomtp dat cience Masters\""
   ]
  },
  {
   "cell_type": "code",
   "execution_count": 118,
   "id": "c2183e1f-3684-4435-a947-d18165d57bfc",
   "metadata": {},
   "outputs": [
    {
     "data": {
      "text/plain": [
       "'Welcom to pwskills. Welcomtp date science Masters'"
      ]
     },
     "execution_count": 118,
     "metadata": {},
     "output_type": "execute_result"
    }
   ],
   "source": [
    "str1.replace(\"dat\",\"date\").replace(\"cience\",\"science\")"
   ]
  },
  {
   "cell_type": "code",
   "execution_count": 119,
   "id": "2a2926aa-1390-4f70-8056-c00511552174",
   "metadata": {},
   "outputs": [
    {
     "data": {
      "text/plain": [
       "False"
      ]
     },
     "execution_count": 119,
     "metadata": {},
     "output_type": "execute_result"
    }
   ],
   "source": [
    "str1.isupper()"
   ]
  },
  {
   "cell_type": "code",
   "execution_count": 120,
   "id": "9bcc0da4-875c-4cf1-9e04-59b47da9a3d8",
   "metadata": {},
   "outputs": [
    {
     "data": {
      "text/plain": [
       "False"
      ]
     },
     "execution_count": 120,
     "metadata": {},
     "output_type": "execute_result"
    }
   ],
   "source": [
    "str1.islower()"
   ]
  },
  {
   "cell_type": "code",
   "execution_count": 121,
   "id": "53ff6d7d-fffa-4283-85ae-20a86e537b89",
   "metadata": {},
   "outputs": [
    {
     "data": {
      "text/plain": [
       "False"
      ]
     },
     "execution_count": 121,
     "metadata": {},
     "output_type": "execute_result"
    }
   ],
   "source": [
    "str1.isspace()"
   ]
  },
  {
   "cell_type": "code",
   "execution_count": 122,
   "id": "053b9378-473a-4eae-8f09-f08be21fd62f",
   "metadata": {},
   "outputs": [
    {
     "data": {
      "text/plain": [
       "True"
      ]
     },
     "execution_count": 122,
     "metadata": {},
     "output_type": "execute_result"
    }
   ],
   "source": [
    "\" \".isspace()"
   ]
  },
  {
   "cell_type": "code",
   "execution_count": 123,
   "id": "0e1e6497-f028-4135-b284-3e3682e37ebb",
   "metadata": {},
   "outputs": [
    {
     "data": {
      "text/plain": [
       "True"
      ]
     },
     "execution_count": 123,
     "metadata": {},
     "output_type": "execute_result"
    }
   ],
   "source": [
    "str1.endswith(\"s\")"
   ]
  },
  {
   "cell_type": "code",
   "execution_count": 124,
   "id": "fb3d61bd-51bf-426a-9ee5-30c4c88d6c9b",
   "metadata": {},
   "outputs": [
    {
     "data": {
      "text/plain": [
       "False"
      ]
     },
     "execution_count": 124,
     "metadata": {},
     "output_type": "execute_result"
    }
   ],
   "source": [
    "str1.endswith(\"g\")"
   ]
  },
  {
   "cell_type": "code",
   "execution_count": 125,
   "id": "660258b6-9272-45be-8ae9-e4b9fd60836c",
   "metadata": {},
   "outputs": [
    {
     "data": {
      "text/plain": [
       "False"
      ]
     },
     "execution_count": 125,
     "metadata": {},
     "output_type": "execute_result"
    }
   ],
   "source": [
    "str1.startswith(\"g\")"
   ]
  },
  {
   "cell_type": "code",
   "execution_count": 126,
   "id": "f4b22e95-4814-4366-9f25-429070636b91",
   "metadata": {},
   "outputs": [
    {
     "data": {
      "text/plain": [
       "False"
      ]
     },
     "execution_count": 126,
     "metadata": {},
     "output_type": "execute_result"
    }
   ],
   "source": [
    "str1.isalnum()"
   ]
  },
  {
   "cell_type": "code",
   "execution_count": 127,
   "id": "b81f9984-ea5f-4dc3-834d-444c9a84f3f4",
   "metadata": {},
   "outputs": [
    {
     "data": {
      "text/plain": [
       "False"
      ]
     },
     "execution_count": 127,
     "metadata": {},
     "output_type": "execute_result"
    }
   ],
   "source": [
    "str1.isalpha()"
   ]
  },
  {
   "cell_type": "code",
   "execution_count": 128,
   "id": "0bd25485-83c3-464f-be20-3e7c8a99e594",
   "metadata": {},
   "outputs": [
    {
     "name": "stdout",
     "output_type": "stream",
     "text": [
      "5\n"
     ]
    }
   ],
   "source": [
    "## to count the no. of charachter in the string\n",
    "str2=\"Nutan\"\n",
    "count=0\n",
    "for i in str2:\n",
    "    count+=1\n",
    "print(count)"
   ]
  },
  {
   "cell_type": "code",
   "execution_count": 129,
   "id": "24365eb2-57af-42cf-9796-8bfb03f828df",
   "metadata": {},
   "outputs": [
    {
     "data": {
      "text/plain": [
       "5"
      ]
     },
     "execution_count": 129,
     "metadata": {},
     "output_type": "execute_result"
    }
   ],
   "source": [
    "len(str2)"
   ]
  },
  {
   "cell_type": "code",
   "execution_count": 130,
   "id": "9304d5a4-e576-4f38-a03c-d6bd3d48dd38",
   "metadata": {},
   "outputs": [
    {
     "name": "stdout",
     "output_type": "stream",
     "text": [
      "N\n",
      "u\n",
      "t\n",
      "a\n",
      "n\n"
     ]
    }
   ],
   "source": [
    "for i in str2:\n",
    "    print(i)"
   ]
  },
  {
   "cell_type": "code",
   "execution_count": 131,
   "id": "55f959a3-c24f-4045-93f1-aa031f64b0e0",
   "metadata": {},
   "outputs": [
    {
     "name": "stdout",
     "output_type": "stream",
     "text": [
      "N\n",
      "u\n",
      "t\n",
      "a\n",
      "n\n"
     ]
    }
   ],
   "source": [
    "for i in range (len(str2)):\n",
    "    print(str2[i])"
   ]
  },
  {
   "cell_type": "code",
   "execution_count": 132,
   "id": "584ad11a-aec6-47d3-97a0-4e9789748383",
   "metadata": {},
   "outputs": [
    {
     "name": "stdout",
     "output_type": "stream",
     "text": [
      "index  element\n",
      "0    =    N\n",
      "1    =    u\n",
      "2    =    t\n",
      "3    =    a\n",
      "4    =    n\n"
     ]
    }
   ],
   "source": [
    "print(\"index\",\"\",\"element\")\n",
    "for i in range (len(str2)):\n",
    "    print(i,\"   =   \",str2[i])"
   ]
  },
  {
   "cell_type": "code",
   "execution_count": 141,
   "id": "d21b6c2b-02f5-4f62-a21d-a3250247aff0",
   "metadata": {},
   "outputs": [
    {
     "name": "stdout",
     "output_type": "stream",
     "text": [
      "4    =    n\n",
      "3    =    a\n",
      "2    =    t\n",
      "1    =    u\n",
      "0    =    N\n"
     ]
    }
   ],
   "source": [
    "# 1. we can use index to iterate string reverse direction\n",
    "inc=len(str2)-1\n",
    "for i in range (len(str2)):  \n",
    "    print((inc-i),\"   =   \",str2[-(i+1)])"
   ]
  },
  {
   "cell_type": "code",
   "execution_count": 146,
   "id": "d84b808a-765b-4feb-98d4-7aeb6da239f7",
   "metadata": {},
   "outputs": [
    {
     "name": "stdout",
     "output_type": "stream",
     "text": [
      "4    =    n\n",
      "3    =    a\n",
      "2    =    t\n",
      "1    =    u\n",
      "0    =    N\n"
     ]
    }
   ],
   "source": [
    "# 3. we can use index to iterate string reverse direction\n",
    "for i in range (len(str2)):  \n",
    "    print((len(str2)-i-1),\"   =   \",str2[len(str2)-(i+1)])"
   ]
  },
  {
   "cell_type": "code",
   "execution_count": 147,
   "id": "ed4872f6-ce8c-48b8-83a5-a13401a46261",
   "metadata": {},
   "outputs": [
    {
     "name": "stdout",
     "output_type": "stream",
     "text": [
      "4    =    n\n",
      "3    =    a\n",
      "2    =    t\n",
      "1    =    u\n",
      "0    =    N\n"
     ]
    }
   ],
   "source": [
    "# 3. we can use index to iterate string reverse direction\n",
    "for i in range (len(str2)-1,-1,-1):\n",
    "    print(i,\"   =   \",str2[i])"
   ]
  },
  {
   "cell_type": "code",
   "execution_count": 148,
   "id": "00045635-7ec6-4117-a6ce-7e50c74b974b",
   "metadata": {},
   "outputs": [
    {
     "name": "stdout",
     "output_type": "stream",
     "text": [
      "4  =  n\n",
      "3  =  a\n",
      "2  =  t\n",
      "1  =  u\n",
      "0  =  N\n"
     ]
    }
   ],
   "source": [
    "# 4. we can use index to iterate string reverse direction\n",
    "str2=\"Nutan\"\n",
    "inc=len(str2)-1\n",
    "while inc>=0:\n",
    "    print(inc,\" = \",str2[inc])\n",
    "    inc-=1"
   ]
  },
  {
   "cell_type": "code",
   "execution_count": 159,
   "id": "75b263c1-e242-424a-91aa-8f16cef67087",
   "metadata": {},
   "outputs": [
    {
     "name": "stdout",
     "output_type": "stream",
     "text": [
      "N is a not vowels\n",
      "u is a vowels\n",
      "t is a not vowels\n",
      "a is a vowels\n",
      "n is a not vowels\n"
     ]
    }
   ],
   "source": [
    "# i want to chake whether the world is wovels or not\n",
    "name=\"Nutan\"\n",
    "vowels=\"AaEeIiOoUu\"\n",
    "for ch in name:\n",
    "    if ch in vowels:\n",
    "        print(\"{} is a vowels\".format(ch))\n",
    "    else:\n",
    "         print(\"{} is a not vowels\".format(ch))\n",
    "\n"
   ]
  },
  {
   "cell_type": "code",
   "execution_count": 154,
   "id": "d36e7960-7aa3-42de-9b32-0dd8eed3f957",
   "metadata": {},
   "outputs": [
    {
     "data": {
      "text/plain": [
       "['A', 'a', 'E', 'e', 'I', 'i', 'O', 'o', 'U', 'u']"
      ]
     },
     "execution_count": 154,
     "metadata": {},
     "output_type": "execute_result"
    }
   ],
   "source": []
  },
  {
   "cell_type": "code",
   "execution_count": null,
   "id": "4a7691ff-aa05-43ed-87c6-1aed399bbba8",
   "metadata": {},
   "outputs": [],
   "source": []
  }
 ],
 "metadata": {
  "kernelspec": {
   "display_name": "Python 3 (ipykernel)",
   "language": "python",
   "name": "python3"
  },
  "language_info": {
   "codemirror_mode": {
    "name": "ipython",
    "version": 3
   },
   "file_extension": ".py",
   "mimetype": "text/x-python",
   "name": "python",
   "nbconvert_exporter": "python",
   "pygments_lexer": "ipython3",
   "version": "3.11.1"
  }
 },
 "nbformat": 4,
 "nbformat_minor": 5
}
