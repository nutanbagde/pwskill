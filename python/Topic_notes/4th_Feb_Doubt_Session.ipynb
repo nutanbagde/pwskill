{
 "cells": [
  {
   "cell_type": "code",
   "execution_count": 1,
   "id": "9addef6d-58a4-4ca4-bd7a-f43c52ccef82",
   "metadata": {
    "tags": []
   },
   "outputs": [
    {
     "name": "stdin",
     "output_type": "stream",
     "text": [
      "no.of element you want to enter =  6\n",
      " 7\n",
      " 8\n",
      " 9\n",
      " 3\n",
      " 55\n",
      " 4\n"
     ]
    },
    {
     "name": "stdout",
     "output_type": "stream",
     "text": [
      "[7, 8, 9, 3, 55, 4]\n"
     ]
    }
   ],
   "source": [
    "# how to append user input to list\n",
    "\n",
    "l=[]\n",
    "n=int(input('no.of element you want to enter = '))\n",
    "for i in range(0,n):\n",
    "    ele=int(input())  # imp methods u take user input\n",
    "    l.append(ele)\n",
    "print(l)"
   ]
  },
  {
   "cell_type": "code",
   "execution_count": 6,
   "id": "a057d0b2-1de2-4603-9e30-7b181371479d",
   "metadata": {
    "tags": []
   },
   "outputs": [
    {
     "name": "stdout",
     "output_type": "stream",
     "text": [
      "I want to became a data science\n",
      "No. of vowels in given scentence is =  12\n",
      "No. of space in given scentence is =  6\n"
     ]
    }
   ],
   "source": [
    "# count vowels and space in string\n",
    "s1='I want to became a data science'\n",
    "s2=s1.lower()\n",
    "count=0\n",
    "space_count=0\n",
    "print(s1)\n",
    "s3=['a','e','i','o','u']\n",
    "for i in s2:\n",
    "    if i ==' ':\n",
    "        space_count+=1       \n",
    "    else:\n",
    "        if i in s3:\n",
    "            count+=1           \n",
    "print('No. of vowels in given scentence is = ', count)\n",
    "print('No. of space in given scentence is = ', space_count)"
   ]
  },
  {
   "cell_type": "code",
   "execution_count": 17,
   "id": "e4b095f4-a0c5-4edd-821c-b373066f254d",
   "metadata": {
    "tags": []
   },
   "outputs": [
    {
     "name": "stdout",
     "output_type": "stream",
     "text": [
      "2\n",
      "3\n",
      "5\n",
      "7\n",
      "11\n",
      "13\n",
      "17\n",
      "19\n"
     ]
    }
   ],
   "source": [
    "# find the list of prime no.\n",
    "\n",
    "list1=[i for i in range(1,20)]\n",
    "for i in list1:\n",
    "    c=0\n",
    "    #print('i= ',i)\n",
    "    for j in range(1,i+1):\n",
    "        #print('j= ',j,'\\n')\n",
    "        if (i%j==0):\n",
    "            #print('i,j = ',i,j)\n",
    "            c+=1\n",
    "    if(c==2):\n",
    "        print(i)\n",
    "            \n"
   ]
  },
  {
   "cell_type": "code",
   "execution_count": 20,
   "id": "62bd7c4d-0f4a-4730-acd0-80a7ab01ff7a",
   "metadata": {
    "tags": []
   },
   "outputs": [
    {
     "data": {
      "text/plain": [
       "[1, 2, 34, 5, 1, 2, 3, 4]"
      ]
     },
     "execution_count": 20,
     "metadata": {},
     "output_type": "execute_result"
    }
   ],
   "source": [
    "# make a list of integers\n",
    "l=[1,2,34,5,'sudh','pwskills',[1,2,3,4]]\n",
    "def test(a):\n",
    "    n=[]\n",
    "    for i in a:\n",
    "        if type(i)==list:\n",
    "            for j in i:\n",
    "                n.append(j)\n",
    "        else:\n",
    "            if type(i)==int or type(i)==float:\n",
    "                n.append(i)\n",
    "    return n\n",
    "\n",
    "test(l)"
   ]
  },
  {
   "cell_type": "code",
   "execution_count": 59,
   "id": "4aefd0cd-3e10-46a3-b7d4-fc713a5c62bd",
   "metadata": {
    "tags": []
   },
   "outputs": [
    {
     "name": "stdout",
     "output_type": "stream",
     "text": [
      "[1, 4, 9, 16, 25, 36, 49, 64, 81]\n",
      "[1, 4, 9, 16, 25, 36, 49, 64, 81]\n"
     ]
    }
   ],
   "source": [
    "from functools import reduce\n",
    "\n",
    "l=[1,2,3,4,5,6,7,8,9]\n",
    "print(reduce(lambda x,y: x+[y**2], l, [])) # \n",
    "a=list(map(lambda s : s**2, l))\n",
    "print(a)"
   ]
  },
  {
   "cell_type": "code",
   "execution_count": null,
   "id": "a0c11728-690c-42a5-8a34-debdbd4b8ad9",
   "metadata": {},
   "outputs": [],
   "source": []
  },
  {
   "cell_type": "code",
   "execution_count": 64,
   "id": "8f99b49c-3844-46e7-8f53-51f32d3f8a58",
   "metadata": {
    "tags": []
   },
   "outputs": [
    {
     "name": "stdout",
     "output_type": "stream",
     "text": [
      "[2, 6, 10, 14, 18, 22, 26, 30, 34, 38]\n"
     ]
    }
   ],
   "source": [
    "print([i+(i+2) for i in range (20) if i%2==0])\n"
   ]
  },
  {
   "cell_type": "code",
   "execution_count": 73,
   "id": "857271ce-8775-4452-9fd7-e8e14fc02fbf",
   "metadata": {
    "tags": []
   },
   "outputs": [
    {
     "name": "stdout",
     "output_type": "stream",
     "text": [
      " * \n",
      " *  * \n",
      " *  *  * \n",
      " *  *  *  * \n",
      " *  *  *  *  * \n",
      " *  *  *  *  *  * \n",
      " *  *  *  *  *  *  * \n",
      " *  *  *  *  *  *  *  * \n",
      " *  *  *  *  *  *  *  *  * \n"
     ]
    }
   ],
   "source": [
    "for i in range(1,11):\n",
    "   print(i*' * ',end='\\n')"
   ]
  },
  {
   "cell_type": "code",
   "execution_count": 83,
   "id": "875ec13a-4a7a-4bc0-822f-8c3aea29996b",
   "metadata": {
    "tags": []
   },
   "outputs": [
    {
     "name": "stdout",
     "output_type": "stream",
     "text": [
      " *  *  *  *  *  *  *  *  *  * \n",
      " *  *  *  *  *  *  *  *  * \n",
      " *  *  *  *  *  *  *  * \n",
      " *  *  *  *  *  *  * \n",
      " *  *  *  *  *  * \n",
      " *  *  *  *  * \n",
      " *  *  *  * \n",
      " *  *  * \n",
      " *  * \n",
      " * \n"
     ]
    }
   ],
   "source": [
    "for i in range(10,0,-1):\n",
    "    print(i*' * ',end='\\n')"
   ]
  },
  {
   "cell_type": "code",
   "execution_count": 91,
   "id": "a6cddc69-c5c7-4882-a6c0-be07dd2cee47",
   "metadata": {
    "tags": []
   },
   "outputs": [
    {
     "name": "stdin",
     "output_type": "stream",
     "text": [
      "Enter a number= 180\n"
     ]
    },
    {
     "name": "stdout",
     "output_type": "stream",
     "text": [
      "Total iteration required 3\n"
     ]
    }
   ],
   "source": [
    "Given_num=int(input(\"Enter a number=\"))\n",
    "count=0\n",
    "while Given_num>10:\n",
    "    Given_num=Given_num/3\n",
    "    count+=1\n",
    "print('Total iteration required', count)"
   ]
  },
  {
   "cell_type": "code",
   "execution_count": null,
   "id": "857f69ce-1320-4a95-9df5-ba032919b412",
   "metadata": {},
   "outputs": [],
   "source": []
  }
 ],
 "metadata": {
  "kernelspec": {
   "display_name": "Python 3 (ipykernel)",
   "language": "python",
   "name": "python3"
  },
  "language_info": {
   "codemirror_mode": {
    "name": "ipython",
    "version": 3
   },
   "file_extension": ".py",
   "mimetype": "text/x-python",
   "name": "python",
   "nbconvert_exporter": "python",
   "pygments_lexer": "ipython3",
   "version": "3.11.1"
  }
 },
 "nbformat": 4,
 "nbformat_minor": 5
}
