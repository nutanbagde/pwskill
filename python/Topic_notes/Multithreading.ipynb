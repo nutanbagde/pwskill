{
 "cells": [
  {
   "cell_type": "code",
   "execution_count": 2,
   "id": "9e4ba40d-d0bc-4946-92a1-f73dfb5d38d8",
   "metadata": {
    "tags": []
   },
   "outputs": [],
   "source": [
    "import threading"
   ]
  },
  {
   "cell_type": "code",
   "execution_count": 4,
   "id": "98ff3453-8f87-44a8-8770-da1ea3a83653",
   "metadata": {
    "tags": []
   },
   "outputs": [
    {
     "name": "stdout",
     "output_type": "stream",
     "text": [
      "this is my test id 10\n"
     ]
    }
   ],
   "source": [
    "def test (id):\n",
    "    print(\"this is my test id %d\" %id)\n",
    "    \n",
    "test(10)"
   ]
  },
  {
   "cell_type": "code",
   "execution_count": 11,
   "id": "b53e3e02-6119-4fdf-9b39-1fcdb0f0947e",
   "metadata": {
    "tags": []
   },
   "outputs": [
    {
     "name": "stdout",
     "output_type": "stream",
     "text": [
      "this is my test id 1\n"
     ]
    }
   ],
   "source": [
    "test(1)"
   ]
  },
  {
   "cell_type": "code",
   "execution_count": 10,
   "id": "876a8437-dabb-4d55-b45f-b56a97e7b82a",
   "metadata": {
    "tags": []
   },
   "outputs": [
    {
     "name": "stdout",
     "output_type": "stream",
     "text": [
      "this is my test id 3\n"
     ]
    }
   ],
   "source": [
    "test(3)"
   ]
  },
  {
   "cell_type": "code",
   "execution_count": 7,
   "id": "799bf6f7-9fc3-40d0-9ab7-73549a5feeef",
   "metadata": {
    "tags": []
   },
   "outputs": [],
   "source": [
    "thred=[threading.Thread(target=test, args=(i,)) for i in [10, 1, 3]  ]"
   ]
  },
  {
   "cell_type": "code",
   "execution_count": 8,
   "id": "5f08c4db-720c-4190-9682-c2cb28eafe97",
   "metadata": {
    "tags": []
   },
   "outputs": [
    {
     "data": {
      "text/plain": [
       "[<Thread(Thread-5 (test), initial)>,\n",
       " <Thread(Thread-6 (test), initial)>,\n",
       " <Thread(Thread-7 (test), initial)>]"
      ]
     },
     "execution_count": 8,
     "metadata": {},
     "output_type": "execute_result"
    }
   ],
   "source": [
    "thred"
   ]
  },
  {
   "cell_type": "code",
   "execution_count": 9,
   "id": "a8945bbc-a0d5-4c9f-9d13-20b647cd236d",
   "metadata": {
    "tags": []
   },
   "outputs": [
    {
     "name": "stdout",
     "output_type": "stream",
     "text": [
      "this is my test id 10\n",
      "this is my test id 1\n",
      "this is my test id 3\n"
     ]
    }
   ],
   "source": [
    "for i in thred:\n",
    "    i.start()"
   ]
  },
  {
   "cell_type": "code",
   "execution_count": 24,
   "id": "6f1c7c51-73fd-4c06-8d0a-3bbde724126d",
   "metadata": {
    "tags": []
   },
   "outputs": [],
   "source": [
    "import time"
   ]
  },
  {
   "cell_type": "code",
   "execution_count": 25,
   "id": "8fa5d186-9b6a-4a10-805d-c76d70a2589c",
   "metadata": {
    "tags": []
   },
   "outputs": [],
   "source": [
    "def test2(x):\n",
    "    for i in range (5):\n",
    "        print(\"%d, %d\" %(x, i))\n",
    "        time.sleep(1)"
   ]
  },
  {
   "cell_type": "code",
   "execution_count": 26,
   "id": "3d20311c-7334-4f4d-b5b7-7164619d9e5e",
   "metadata": {
    "tags": []
   },
   "outputs": [
    {
     "name": "stdout",
     "output_type": "stream",
     "text": [
      "5, 0\n",
      "5, 1\n",
      "5, 2\n",
      "5, 3\n",
      "5, 4\n"
     ]
    }
   ],
   "source": [
    "test2(5)"
   ]
  },
  {
   "cell_type": "code",
   "execution_count": 27,
   "id": "506c8080-a821-4bfd-a9ef-9ff66b12e634",
   "metadata": {
    "tags": []
   },
   "outputs": [],
   "source": [
    "thread2=[threading.Thread(target=test2, args=(i,))for i in [100, 10, 20, 5]]"
   ]
  },
  {
   "cell_type": "code",
   "execution_count": 28,
   "id": "1be6aa06-304b-4e98-904e-eb30becf4e9c",
   "metadata": {},
   "outputs": [
    {
     "name": "stdout",
     "output_type": "stream",
     "text": [
      "100, 0\n",
      "10, 0\n",
      "20, 0\n",
      "5, 0\n",
      "100, 1\n",
      "10, 1\n",
      "5, 1\n",
      "20, 1\n",
      "100, 2\n",
      "10, 2\n",
      "5, 2\n",
      "20, 2\n",
      "100, 3\n",
      "10, 3\n",
      "20, 3\n",
      "5, 3\n",
      "100, 4\n",
      "10, 4\n",
      "20, 4\n",
      "5, 4\n"
     ]
    }
   ],
   "source": [
    "for t in thread2:\n",
    "    t.start()"
   ]
  },
  {
   "cell_type": "code",
   "execution_count": 29,
   "id": "c56d0e75-64ee-4c36-a36c-bfce978d14ee",
   "metadata": {
    "tags": []
   },
   "outputs": [],
   "source": [
    "def test3(x):\n",
    "    for i in range (10):\n",
    "        print(\"%d, %d\" %(x, i))\n",
    "    "
   ]
  },
  {
   "cell_type": "code",
   "execution_count": 30,
   "id": "d8886976-7058-437c-9fac-51ce28a20000",
   "metadata": {
    "tags": []
   },
   "outputs": [],
   "source": [
    "thread3=[threading.Thread(target=test3, args=(i,))for i in [100, 10, 20, 5]]"
   ]
  },
  {
   "cell_type": "code",
   "execution_count": 31,
   "id": "597fb69e-cf78-4985-be3e-d6dcda3c63e5",
   "metadata": {
    "tags": []
   },
   "outputs": [
    {
     "name": "stdout",
     "output_type": "stream",
     "text": [
      "100, 0\n",
      "100, 1\n",
      "100, 2\n",
      "100, 3\n",
      "100, 4\n",
      "100, 5\n",
      "100, 6\n",
      "100, 7\n",
      "100, 8\n",
      "100, 9\n",
      "10, 0\n",
      "10, 1\n",
      "10, 2\n",
      "10, 3\n",
      "10, 4\n",
      "10, 5\n",
      "10, 6\n",
      "10, 7\n",
      "10, 8\n",
      "10, 9\n",
      "20, 0\n",
      "20, 1\n",
      "20, 2\n",
      "20, 3\n",
      "20, 4\n",
      "20, 5\n",
      "20, 6\n",
      "20, 7\n",
      "20, 8\n",
      "20, 9\n",
      "5, 0\n",
      "5, 1\n",
      "5, 2\n",
      "5, 3\n",
      "5, 4\n",
      "5, 5\n",
      "5, 6\n",
      "5, 7\n",
      "5, 8\n",
      "5, 9\n"
     ]
    }
   ],
   "source": [
    "for t in thread3:\n",
    "    t.start()"
   ]
  },
  {
   "cell_type": "code",
   "execution_count": 44,
   "id": "8b740a58-fc6e-40fb-9096-07a2c53c40df",
   "metadata": {
    "tags": []
   },
   "outputs": [],
   "source": [
    "shared_var=0\n",
    "lock_var= threading.Lock()\n",
    "def test4(x):\n",
    "    global shared_var\n",
    "    with lock_var:\n",
    "        shared_var=shared_var+1\n",
    "        print('value of x %d and vaue of shared_var %d' %(x, shared_var))\n",
    "        time.sleep(1)"
   ]
  },
  {
   "cell_type": "code",
   "execution_count": 34,
   "id": "a09aefd3-746d-427a-95de-5ebf2c8d7276",
   "metadata": {
    "tags": []
   },
   "outputs": [
    {
     "name": "stdout",
     "output_type": "stream",
     "text": [
      "value of x 1 and vaue of shared_var 1\n"
     ]
    }
   ],
   "source": [
    "test4(1)"
   ]
  },
  {
   "cell_type": "code",
   "execution_count": 35,
   "id": "72f1e652-ceed-4534-9c82-e88b3fcc5391",
   "metadata": {
    "tags": []
   },
   "outputs": [
    {
     "name": "stdout",
     "output_type": "stream",
     "text": [
      "value of x 5 and vaue of shared_var 2\n"
     ]
    }
   ],
   "source": [
    "test4(5)"
   ]
  },
  {
   "cell_type": "code",
   "execution_count": 45,
   "id": "9d076f2e-2214-4747-a900-b3f76f1f842b",
   "metadata": {
    "tags": []
   },
   "outputs": [],
   "source": [
    "thread5=[threading.Thread(target=test4, args=(i,)) for i in [1,2,3,4,5,6]]\n"
   ]
  },
  {
   "cell_type": "code",
   "execution_count": 46,
   "id": "05da7c88-a932-4ac0-9d8c-cd00b41904f4",
   "metadata": {
    "tags": []
   },
   "outputs": [
    {
     "name": "stdout",
     "output_type": "stream",
     "text": [
      "value of x 1 and vaue of shared_var 1\n",
      "value of x 2 and vaue of shared_var 2\n",
      "value of x 3 and vaue of shared_var 3\n",
      "value of x 4 and vaue of shared_var 4\n",
      "value of x 5 and vaue of shared_var 5\n",
      "value of x 6 and vaue of shared_var 6\n"
     ]
    }
   ],
   "source": [
    "for t in thread5:\n",
    "    t.start()"
   ]
  },
  {
   "cell_type": "code",
   "execution_count": null,
   "id": "20422ddd-049f-4a86-b881-c841e51e16ff",
   "metadata": {},
   "outputs": [],
   "source": []
  },
  {
   "cell_type": "code",
   "execution_count": 47,
   "id": "13de9c83-0e8b-48ad-8b2a-7718f1e354b6",
   "metadata": {
    "tags": []
   },
   "outputs": [
    {
     "name": "stdout",
     "output_type": "stream",
     "text": [
      "counter=10counter=20\n",
      "\n",
      "The final counter is 20\n"
     ]
    }
   ],
   "source": [
    "from threading import Thread\n",
    "from time import sleep\n",
    "\n",
    "\n",
    "counter = 0\n",
    "\n",
    "def increase(by):\n",
    "    global counter\n",
    "\n",
    "    local_counter = counter\n",
    "    local_counter += by\n",
    "\n",
    "    sleep(0.1)\n",
    "\n",
    "    counter = local_counter\n",
    "    print(f'counter={counter}')\n",
    "\n",
    "\n",
    "# create threads\n",
    "t1 = Thread(target=increase, args=(10,))\n",
    "t2 = Thread(target=increase, args=(20,))\n",
    "\n",
    "# start the threads\n",
    "t1.start()\n",
    "t2.start()\n",
    "\n",
    "\n",
    "# wait for the threads to complete\n",
    "t1.join()\n",
    "t2.join()\n",
    "\n",
    "\n",
    "print(f'The final counter is {counter}')"
   ]
  },
  {
   "cell_type": "code",
   "execution_count": null,
   "id": "33bf2a5e-ddce-4701-9f00-aa364d16c8e4",
   "metadata": {},
   "outputs": [],
   "source": []
  }
 ],
 "metadata": {
  "kernelspec": {
   "display_name": "Python 3 (ipykernel)",
   "language": "python",
   "name": "python3"
  },
  "language_info": {
   "codemirror_mode": {
    "name": "ipython",
    "version": 3
   },
   "file_extension": ".py",
   "mimetype": "text/x-python",
   "name": "python",
   "nbconvert_exporter": "python",
   "pygments_lexer": "ipython3",
   "version": "3.11.1"
  }
 },
 "nbformat": 4,
 "nbformat_minor": 5
}
