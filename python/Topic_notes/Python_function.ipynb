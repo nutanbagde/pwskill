{
 "cells": [
  {
   "cell_type": "markdown",
   "id": "e457e09b-c9b3-44e3-a55e-a8afe422ca88",
   "metadata": {
    "tags": []
   },
   "source": [
    "# Function"
   ]
  },
  {
   "cell_type": "markdown",
   "id": "2832a036-372e-4678-81b4-90e08dd7ce59",
   "metadata": {},
   "source": [
    "Python Functions is a block of statements that return the specific task.\n",
    "\n",
    "The idea is to put some commonly or repeatedly done tasks together and make a function so that instead of writing the same code again and again for different inputs, we can do the function calls to reuse code contained in it over and over again. \n",
    "\n",
    "A function is a block of organized, reusable code that is used to perform a single, related action. Functions provide better modularity for your application and a high degree of code reusing.\n",
    "\n",
    "As you already know, Python gives you many built-in functions like print(), etc. but you can also create your own functions. These functions are called user-defined functions."
   ]
  },
  {
   "cell_type": "code",
   "execution_count": 2,
   "id": "b38ee309-c8a0-4fdc-aca4-faccb63f0df7",
   "metadata": {
    "tags": []
   },
   "outputs": [],
   "source": [
    "def test():\n",
    "    pass     # "
   ]
  },
  {
   "cell_type": "code",
   "execution_count": 3,
   "id": "88e38460-a983-4635-9e1f-d9709c3445e4",
   "metadata": {
    "tags": []
   },
   "outputs": [],
   "source": [
    "def test1(): # Creating a Python Function\n",
    "    print('This is my very  first function')"
   ]
  },
  {
   "cell_type": "code",
   "execution_count": 4,
   "id": "061204d4-742a-495a-9810-53ed0996fdc3",
   "metadata": {
    "tags": []
   },
   "outputs": [
    {
     "name": "stdout",
     "output_type": "stream",
     "text": [
      "This is my very  first function\n"
     ]
    }
   ],
   "source": [
    "test1() # Calling a  Python Function"
   ]
  },
  {
   "cell_type": "code",
   "execution_count": 5,
   "id": "09f566b7-6064-47de-8d01-68c87d1f38e4",
   "metadata": {},
   "outputs": [
    {
     "name": "stdout",
     "output_type": "stream",
     "text": [
      "This is my very  first function\n"
     ]
    },
    {
     "ename": "TypeError",
     "evalue": "unsupported operand type(s) for +: 'NoneType' and 'str'",
     "output_type": "error",
     "traceback": [
      "\u001b[1;31m---------------------------------------------------------------------------\u001b[0m",
      "\u001b[1;31mTypeError\u001b[0m                                 Traceback (most recent call last)",
      "Cell \u001b[1;32mIn[5], line 1\u001b[0m\n\u001b[1;32m----> 1\u001b[0m \u001b[43mtest1\u001b[49m\u001b[43m(\u001b[49m\u001b[43m)\u001b[49m\u001b[43m \u001b[49m\u001b[38;5;241;43m+\u001b[39;49m\u001b[43m \u001b[49m\u001b[38;5;124;43m'\u001b[39;49m\u001b[38;5;124;43mnutan\u001b[39;49m\u001b[38;5;124;43m'\u001b[39;49m \u001b[38;5;66;03m#unsupported operand type(s) for +: 'NoneType' and 'str' \u001b[39;00m\n\u001b[0;32m      2\u001b[0m \u001b[38;5;66;03m# becouse of print() function by default None type.\u001b[39;00m\n",
      "\u001b[1;31mTypeError\u001b[0m: unsupported operand type(s) for +: 'NoneType' and 'str'"
     ]
    }
   ],
   "source": [
    "test1() + 'nutan' #unsupported operand type(s) for +: 'NoneType' and 'str' \n",
    "# becouse of print() function by default None type."
   ]
  },
  {
   "cell_type": "code",
   "execution_count": 6,
   "id": "c44d2d41-1c2a-498d-8194-d8b5d9d53831",
   "metadata": {
    "tags": []
   },
   "outputs": [],
   "source": [
    "def test2():\n",
    "    return 'this is my fun with return '"
   ]
  },
  {
   "cell_type": "code",
   "execution_count": 7,
   "id": "5935c7bc-2192-4fad-b8b0-a8e602b3d4b5",
   "metadata": {
    "tags": []
   },
   "outputs": [
    {
     "data": {
      "text/plain": [
       "'this is my fun with return '"
      ]
     },
     "execution_count": 7,
     "metadata": {},
     "output_type": "execute_result"
    }
   ],
   "source": [
    "test2()"
   ]
  },
  {
   "cell_type": "code",
   "execution_count": 8,
   "id": "c0555b85-9cbb-4608-960f-d37ca16c40cc",
   "metadata": {
    "tags": []
   },
   "outputs": [
    {
     "data": {
      "text/plain": [
       "'this is my fun with return nutan'"
      ]
     },
     "execution_count": 8,
     "metadata": {},
     "output_type": "execute_result"
    }
   ],
   "source": [
    "test2() + 'nutan'  # retuen function support data type\n",
    "# alwayse use Return function"
   ]
  },
  {
   "cell_type": "code",
   "execution_count": 9,
   "id": "d467ea94-2c9b-407a-82a2-82ca818f2c68",
   "metadata": {
    "tags": []
   },
   "outputs": [],
   "source": [
    "def test3():\n",
    "    return 1,4, 'pwskill', 34.56"
   ]
  },
  {
   "cell_type": "code",
   "execution_count": 10,
   "id": "c3710e3a-768b-4fe3-8ebe-accef8466179",
   "metadata": {
    "tags": []
   },
   "outputs": [
    {
     "data": {
      "text/plain": [
       "(1, 4, 'pwskill', 34.56)"
      ]
     },
     "execution_count": 10,
     "metadata": {},
     "output_type": "execute_result"
    }
   ],
   "source": [
    "test3()"
   ]
  },
  {
   "cell_type": "code",
   "execution_count": 11,
   "id": "07b57c0d-64ca-41d7-a5d4-a1a481c8d9c8",
   "metadata": {
    "tags": []
   },
   "outputs": [],
   "source": [
    "a=1, 2, 3, 4, 5, 6"
   ]
  },
  {
   "cell_type": "code",
   "execution_count": 12,
   "id": "5d065cc0-1293-49fa-9e86-442c0e77bb76",
   "metadata": {
    "tags": []
   },
   "outputs": [
    {
     "data": {
      "text/plain": [
       "(1, 2, 3, 4, 5, 6)"
      ]
     },
     "execution_count": 12,
     "metadata": {},
     "output_type": "execute_result"
    }
   ],
   "source": [
    "a"
   ]
  },
  {
   "cell_type": "code",
   "execution_count": 13,
   "id": "feb06ce8-660b-4f29-b280-de6d345afd97",
   "metadata": {
    "tags": []
   },
   "outputs": [],
   "source": [
    "a, b, c, d, e=1,2,3,4,True # multipale data type storing at a time"
   ]
  },
  {
   "cell_type": "code",
   "execution_count": 14,
   "id": "bdc6dbe0-a204-450e-aaa8-ba7ee4a09a35",
   "metadata": {
    "tags": []
   },
   "outputs": [
    {
     "data": {
      "text/plain": [
       "1"
      ]
     },
     "execution_count": 14,
     "metadata": {},
     "output_type": "execute_result"
    }
   ],
   "source": [
    "a"
   ]
  },
  {
   "cell_type": "code",
   "execution_count": 15,
   "id": "430326b2-2d18-4f4b-9782-755e900db055",
   "metadata": {
    "tags": []
   },
   "outputs": [
    {
     "data": {
      "text/plain": [
       "2"
      ]
     },
     "execution_count": 15,
     "metadata": {},
     "output_type": "execute_result"
    }
   ],
   "source": [
    "b"
   ]
  },
  {
   "cell_type": "code",
   "execution_count": 16,
   "id": "43de3bf9-a332-43ae-b850-3015dc83a0e3",
   "metadata": {
    "tags": []
   },
   "outputs": [
    {
     "data": {
      "text/plain": [
       "3"
      ]
     },
     "execution_count": 16,
     "metadata": {},
     "output_type": "execute_result"
    }
   ],
   "source": [
    "c"
   ]
  },
  {
   "cell_type": "code",
   "execution_count": 17,
   "id": "f6db2946-0ba6-4e79-ba93-41c03f0a86c4",
   "metadata": {
    "tags": []
   },
   "outputs": [
    {
     "data": {
      "text/plain": [
       "4"
      ]
     },
     "execution_count": 17,
     "metadata": {},
     "output_type": "execute_result"
    }
   ],
   "source": [
    "d"
   ]
  },
  {
   "cell_type": "code",
   "execution_count": 18,
   "id": "d21b08d2-be58-4cb1-898e-948672d2f2d5",
   "metadata": {
    "tags": []
   },
   "outputs": [
    {
     "data": {
      "text/plain": [
       "True"
      ]
     },
     "execution_count": 18,
     "metadata": {},
     "output_type": "execute_result"
    }
   ],
   "source": [
    "e"
   ]
  },
  {
   "cell_type": "code",
   "execution_count": 19,
   "id": "1464d8ea-ea98-4df4-b161-a143c080e973",
   "metadata": {
    "tags": []
   },
   "outputs": [
    {
     "data": {
      "text/plain": [
       "tuple"
      ]
     },
     "execution_count": 19,
     "metadata": {},
     "output_type": "execute_result"
    }
   ],
   "source": [
    "type(test3()) # always a tuple return in function "
   ]
  },
  {
   "cell_type": "code",
   "execution_count": 20,
   "id": "ffeb0cb2-bb2b-4e1b-8aed-9e96281cfe46",
   "metadata": {
    "tags": []
   },
   "outputs": [
    {
     "data": {
      "text/plain": [
       "1"
      ]
     },
     "execution_count": 20,
     "metadata": {},
     "output_type": "execute_result"
    }
   ],
   "source": [
    "test3()[0]"
   ]
  },
  {
   "cell_type": "code",
   "execution_count": 21,
   "id": "5878bc8d-fd50-4093-a568-e8dc20b9d806",
   "metadata": {
    "tags": []
   },
   "outputs": [
    {
     "data": {
      "text/plain": [
       "34.56"
      ]
     },
     "execution_count": 21,
     "metadata": {},
     "output_type": "execute_result"
    }
   ],
   "source": [
    "test3()[3]"
   ]
  },
  {
   "cell_type": "code",
   "execution_count": 22,
   "id": "32c04e1d-fee1-43d4-abc4-d9d7554c6231",
   "metadata": {
    "tags": []
   },
   "outputs": [],
   "source": [
    "a1,b1,c1,d1=test3()\n"
   ]
  },
  {
   "cell_type": "code",
   "execution_count": 23,
   "id": "5f386a40-d51d-4731-8277-7b9ce7c5870a",
   "metadata": {
    "tags": []
   },
   "outputs": [
    {
     "data": {
      "text/plain": [
       "1"
      ]
     },
     "execution_count": 23,
     "metadata": {},
     "output_type": "execute_result"
    }
   ],
   "source": [
    "a1"
   ]
  },
  {
   "cell_type": "code",
   "execution_count": 24,
   "id": "0ab7839b-cb06-4488-b572-cc6263ffd899",
   "metadata": {
    "tags": []
   },
   "outputs": [],
   "source": [
    "def test4():\n",
    "    a=3*4+5\n",
    "    return a"
   ]
  },
  {
   "cell_type": "code",
   "execution_count": 25,
   "id": "e31abcb4-85d4-4ce2-ab5f-4b3655cdcd99",
   "metadata": {
    "tags": []
   },
   "outputs": [
    {
     "data": {
      "text/plain": [
       "17"
      ]
     },
     "execution_count": 25,
     "metadata": {},
     "output_type": "execute_result"
    }
   ],
   "source": [
    "test4()"
   ]
  },
  {
   "cell_type": "code",
   "execution_count": 26,
   "id": "b9d0bf74-2344-48d5-9f5b-b3ee5051b075",
   "metadata": {
    "tags": []
   },
   "outputs": [
    {
     "data": {
      "text/plain": [
       "int"
      ]
     },
     "execution_count": 26,
     "metadata": {},
     "output_type": "execute_result"
    }
   ],
   "source": [
    "type(test4())"
   ]
  },
  {
   "cell_type": "code",
   "execution_count": 27,
   "id": "f40958f1-cad4-4a96-8379-a1e8e8420825",
   "metadata": {
    "tags": []
   },
   "outputs": [],
   "source": [
    "def test5(a,b): # pass the data\n",
    "    c=a+b\n",
    "    return c"
   ]
  },
  {
   "cell_type": "code",
   "execution_count": 28,
   "id": "b5518b93-7438-418b-b714-665c458ebe49",
   "metadata": {
    "tags": []
   },
   "outputs": [
    {
     "data": {
      "text/plain": [
       "5"
      ]
     },
     "execution_count": 28,
     "metadata": {},
     "output_type": "execute_result"
    }
   ],
   "source": [
    "test5(3,2)"
   ]
  },
  {
   "cell_type": "code",
   "execution_count": 29,
   "id": "9a6748c5-0e27-44bf-af59-8bc7f645f418",
   "metadata": {
    "tags": []
   },
   "outputs": [
    {
     "data": {
      "text/plain": [
       "'nutanbagde'"
      ]
     },
     "execution_count": 29,
     "metadata": {},
     "output_type": "execute_result"
    }
   ],
   "source": [
    "test5('nutan','bagde')"
   ]
  },
  {
   "cell_type": "code",
   "execution_count": 30,
   "id": "207461f2-4b6d-4870-ba8b-35a91f24e9d2",
   "metadata": {
    "tags": []
   },
   "outputs": [
    {
     "data": {
      "text/plain": [
       "[1, 2, 4, 3]"
      ]
     },
     "execution_count": 30,
     "metadata": {},
     "output_type": "execute_result"
    }
   ],
   "source": [
    "test5([1,2],[4,3])"
   ]
  },
  {
   "cell_type": "code",
   "execution_count": 31,
   "id": "14acc488-6ae1-4be5-80ad-1af89cb9ffa8",
   "metadata": {
    "tags": []
   },
   "outputs": [
    {
     "data": {
      "text/plain": [
       "'nutanbagde'"
      ]
     },
     "execution_count": 31,
     "metadata": {},
     "output_type": "execute_result"
    }
   ],
   "source": [
    "test5(a='nutan',b='bagde')"
   ]
  },
  {
   "cell_type": "code",
   "execution_count": 32,
   "id": "9b4c8e61-71c9-407b-8ffd-7520faa2ec47",
   "metadata": {
    "tags": []
   },
   "outputs": [
    {
     "data": {
      "text/plain": [
       "'bagdenutan'"
      ]
     },
     "execution_count": 32,
     "metadata": {},
     "output_type": "execute_result"
    }
   ],
   "source": [
    "test5(b='nutan',a='bagde')"
   ]
  },
  {
   "cell_type": "code",
   "execution_count": 33,
   "id": "7304e9f3-9824-457d-aacd-b0143e96d288",
   "metadata": {
    "tags": []
   },
   "outputs": [],
   "source": [
    "l=[1,2,3,4,5,'nutan','gargie',[1,2,3,34,45]]"
   ]
  },
  {
   "cell_type": "code",
   "execution_count": 34,
   "id": "331c0e9a-d745-4aa8-98a7-eb09ddc26021",
   "metadata": {
    "tags": []
   },
   "outputs": [
    {
     "name": "stdout",
     "output_type": "stream",
     "text": [
      "[1, 2, 3, 4, 5]\n"
     ]
    }
   ],
   "source": [
    "# craet a function which will take list as a input and give me a fina list with all the numeric value,\n",
    "def test6(l):\n",
    "    n=[]\n",
    "    for i in l:\n",
    "        if type(i)==int:\n",
    "            n.append(i)\n",
    "    return n\n",
    "            \n",
    "a=[1,2,3,4,5,'nutan','gargie',[1,2,3,34,45]]\n",
    "print(test6(a))\n"
   ]
  },
  {
   "cell_type": "code",
   "execution_count": 35,
   "id": "ecc47e02-4208-4bb6-8f8d-75da3ff774e2",
   "metadata": {
    "tags": []
   },
   "outputs": [],
   "source": [
    "l=[1,2,3,4,5,'nutan','gargie',[1,2,3,34,45]]"
   ]
  },
  {
   "cell_type": "code",
   "execution_count": null,
   "id": "f3699b51-6e70-4592-8de5-edc18d1117fc",
   "metadata": {},
   "outputs": [],
   "source": []
  },
  {
   "cell_type": "code",
   "execution_count": 36,
   "id": "938d5d9f-a49e-427e-bc9f-d2bd5b241a6d",
   "metadata": {
    "tags": []
   },
   "outputs": [
    {
     "name": "stdout",
     "output_type": "stream",
     "text": [
      "[1, 2, 3, 4, 5, 1, 2, 3, 34, 45]\n"
     ]
    }
   ],
   "source": [
    "# nested list \n",
    "def test7(a):\n",
    "    n=[]\n",
    "    for i in a:\n",
    "        if type(i)==list:\n",
    "            for j in i:\n",
    "                if type(j)==int or type (j)== float:\n",
    "                    n.append(j)\n",
    "        else:\n",
    "            if type(i)==int or type (i)== float:\n",
    "                    n.append(i)\n",
    "                    \n",
    "    return n\n",
    "print(test7(l))"
   ]
  },
  {
   "cell_type": "code",
   "execution_count": 25,
   "id": "52e23edf-017e-4514-be4d-971b579d7434",
   "metadata": {
    "tags": []
   },
   "outputs": [
    {
     "name": "stdout",
     "output_type": "stream",
     "text": [
      "55\n"
     ]
    }
   ],
   "source": [
    "# addition of first n no. without for loop\n",
    "def add(a):\n",
    "    if a==1:\n",
    "        return a \n",
    "    else:\n",
    "        return a+add(a-1)     \n",
    "print(add(10)) "
   ]
  },
  {
   "cell_type": "code",
   "execution_count": 29,
   "id": "1a36139c-55dd-4ab7-a343-fd24b13076f5",
   "metadata": {
    "tags": []
   },
   "outputs": [
    {
     "name": "stdout",
     "output_type": "stream",
     "text": [
      "120\n"
     ]
    }
   ],
   "source": [
    "# factorial of n no. without for loop\n",
    "def fact(a):\n",
    "    if a==1:\n",
    "        return a \n",
    "    else:\n",
    "        return a*fact(a-1)     \n",
    "print(fact(5))"
   ]
  },
  {
   "cell_type": "markdown",
   "id": "2dba38f6-de13-46ac-b6d1-08020fdcdc0a",
   "metadata": {},
   "source": [
    "# Variable-length arguments"
   ]
  },
  {
   "cell_type": "markdown",
   "id": "83c12c25-f25e-4ff5-88b2-a14c64b3df45",
   "metadata": {},
   "source": [
    "The special syntax *args in function definitions in python is used to pass a variable number of arguments to a function. It is used to pass a non-key worded, variable-length argument list. "
   ]
  },
  {
   "cell_type": "code",
   "execution_count": 37,
   "id": "e4d6abbb-e7b8-427c-a7c8-b2c796e1677e",
   "metadata": {
    "tags": []
   },
   "outputs": [],
   "source": [
    "def test8(a,b,c,d,e):\n",
    "    pass"
   ]
  },
  {
   "cell_type": "code",
   "execution_count": 38,
   "id": "ba865104-94e2-4242-8422-b0c251332e12",
   "metadata": {
    "tags": []
   },
   "outputs": [],
   "source": [
    "def test9(*args): # for any no.of arguments arg\n",
    "    return args"
   ]
  },
  {
   "cell_type": "code",
   "execution_count": 39,
   "id": "8810e96b-cc91-4b5c-bd79-8a7b1226af7a",
   "metadata": {
    "tags": []
   },
   "outputs": [
    {
     "data": {
      "text/plain": [
       "(1, 2, 3, 4.4, 45, 5, 6, 6)"
      ]
     },
     "execution_count": 39,
     "metadata": {},
     "output_type": "execute_result"
    }
   ],
   "source": [
    "test9(1,2,3,4.4,45,5,6,6)"
   ]
  },
  {
   "cell_type": "code",
   "execution_count": 40,
   "id": "95b8f9f1-cf7e-4feb-aa73-734d2ddd6f8b",
   "metadata": {},
   "outputs": [
    {
     "data": {
      "text/plain": [
       "('nutan', [1, 2, 3, 4, 5], ('a', 10, 'b', 20))"
      ]
     },
     "execution_count": 40,
     "metadata": {},
     "output_type": "execute_result"
    }
   ],
   "source": [
    "test9('nutan', [1,2,3,4,5], ('a',10,'b',20))"
   ]
  },
  {
   "cell_type": "code",
   "execution_count": 106,
   "id": "144c9b94-935e-46e2-bf1e-c638e0f36676",
   "metadata": {
    "tags": []
   },
   "outputs": [],
   "source": [
    "# extract all list from given diffren data set in list(from multipal input)\n",
    "def test10(*args):\n",
    "    l1=[]\n",
    "    for i in args:\n",
    "         if type(i)==list:\n",
    "                l1.append(i)\n",
    "    return l1"
   ]
  },
  {
   "cell_type": "code",
   "execution_count": 107,
   "id": "e37e9781-adc0-43b5-907e-baf3b5a3043e",
   "metadata": {
    "tags": []
   },
   "outputs": [
    {
     "data": {
      "text/plain": [
       "[[1, 2, 3, 4, 5], [10, 20, 30, 40], [6, 5, 4]]"
      ]
     },
     "execution_count": 107,
     "metadata": {},
     "output_type": "execute_result"
    }
   ],
   "source": [
    "test10('nutan', [1,2,3,4,5],('a', 'b', 'c'),[10,20,30,40],[6,5,4],{'h',9}) # only list in list should append"
   ]
  },
  {
   "cell_type": "code",
   "execution_count": 108,
   "id": "55b77b64-14d5-4a79-a057-d96a1ca7a61f",
   "metadata": {
    "tags": []
   },
   "outputs": [
    {
     "data": {
      "text/plain": [
       "(('a', 'b', 'c'), ('h', 9))"
      ]
     },
     "execution_count": 108,
     "metadata": {},
     "output_type": "execute_result"
    }
   ],
   "source": [
    "\n",
    "# extract all from given diffren data set in tuple(from multipal input)\n",
    "def test11(*args):\n",
    "    l1=[]\n",
    "    for i in args:\n",
    "         if type(i)==tuple:\n",
    "                l1.append(i)            \n",
    "    return tuple(l1) \n",
    "test11('nutan', [1,2,3,4,5],('a', 'b', 'c'),[10,20,30,40],[6,5,4],('h',9)) # # only tuple should append"
   ]
  },
  {
   "cell_type": "markdown",
   "id": "13eafce8-3ad9-45d9-a704-d8f624b030f8",
   "metadata": {
    "tags": []
   },
   "source": [
    "**kwargs (Keyword Arguments)"
   ]
  },
  {
   "cell_type": "code",
   "execution_count": 109,
   "id": "d75be551-1019-4597-abe1-3855536e1219",
   "metadata": {
    "tags": []
   },
   "outputs": [
    {
     "name": "stdout",
     "output_type": "stream",
     "text": [
      "{'a': 12, 'b': 25, 'c': [1, 2, 3, 4], 'd': ('nutan', 'gargie')}\n"
     ]
    }
   ],
   "source": [
    "def test12(**kwargs): # it will take any no. of input in form of key and value pair\n",
    "    return kwargs\n",
    "print(test12(a = 12, b = 25, c = [1,2,3,4], d = ('nutan', 'gargie')))"
   ]
  },
  {
   "cell_type": "code",
   "execution_count": 110,
   "id": "c7eb56d2-311f-4c2d-9e7e-557443e988eb",
   "metadata": {
    "tags": []
   },
   "outputs": [
    {
     "name": "stdout",
     "output_type": "stream",
     "text": [
      "{}\n",
      "<class 'dict'>\n"
     ]
    }
   ],
   "source": [
    "print(test12())\n",
    "print(type(test12()))"
   ]
  },
  {
   "cell_type": "code",
   "execution_count": 111,
   "id": "5f0a3116-21cf-4199-8ed7-2f1e67ccea4c",
   "metadata": {
    "tags": []
   },
   "outputs": [
    {
     "name": "stdout",
     "output_type": "stream",
     "text": [
      "('c', [1, 2, 3, 4])\n"
     ]
    }
   ],
   "source": [
    "def test13(**kwargs): # it will take any no. of input in form of key and value pair\n",
    "    for i in kwargs.keys():\n",
    "        if type(kwargs[i])==list:\n",
    "            return i, kwargs[i]\n",
    "print(test13(a = 12, b = 25, c = [1,2,3,4], d = ('nutan', 'gargie')))"
   ]
  },
  {
   "cell_type": "code",
   "execution_count": 112,
   "id": "79b18dff-1bf9-4fa4-9191-36944f7a7845",
   "metadata": {
    "tags": []
   },
   "outputs": [
    {
     "name": "stdout",
     "output_type": "stream",
     "text": [
      "((1, 2, 3, 4), {'a': 'nutan', 'b': 'gargie'})\n",
      "<class 'tuple'>\n",
      "<class 'tuple'>\n"
     ]
    }
   ],
   "source": [
    "def test14(*args, **kwargs):\n",
    "    return args, kwargs\n",
    "print(test14(1,2,3,4, a = 'nutan', b ='gargie'))\n",
    "print(type(test14(1,2,3,4, a = 'nutan', b ='gargie')))\n",
    "print(type(test14()))"
   ]
  },
  {
   "cell_type": "markdown",
   "id": "0ff02249-85fc-4744-981a-2f0bab6e5565",
   "metadata": {},
   "source": [
    "# Generator Functions:-yield\n",
    "The yield statement suspends a function’s execution and sends a value back to the caller,\n"
   ]
  },
  {
   "cell_type": "markdown",
   "id": "9bdd2ad1-a0c7-40e0-a206-6ce384a79292",
   "metadata": {},
   "source": [
    "A generator-function is defined like a normal function, but whenever it needs to generate a value, it does so with the yield keyword rather than return. If the body of a def contains yield, the function automatically becomes a generator function. "
   ]
  },
  {
   "cell_type": "code",
   "execution_count": 113,
   "id": "fff796ff-a760-426c-b840-b8a557c56ec0",
   "metadata": {
    "tags": []
   },
   "outputs": [
    {
     "data": {
      "text/plain": [
       "range(1, 10)"
      ]
     },
     "execution_count": 113,
     "metadata": {},
     "output_type": "execute_result"
    }
   ],
   "source": [
    "range(1,10)"
   ]
  },
  {
   "cell_type": "code",
   "execution_count": 114,
   "id": "0cb88e65-8351-4f9b-9a9e-4e4476330b47",
   "metadata": {
    "tags": []
   },
   "outputs": [
    {
     "name": "stdout",
     "output_type": "stream",
     "text": [
      "1\n",
      "2\n",
      "3\n",
      "4\n",
      "5\n",
      "6\n",
      "7\n",
      "8\n",
      "9\n"
     ]
    }
   ],
   "source": [
    "for i in range(1,10):\n",
    "    print(i)"
   ]
  },
  {
   "cell_type": "code",
   "execution_count": 119,
   "id": "a26fc19b-8975-4585-8468-1276e0fddcd6",
   "metadata": {
    "tags": []
   },
   "outputs": [
    {
     "name": "stdout",
     "output_type": "stream",
     "text": [
      "[1, 2, 3, 4, 5, 6, 7, 8, 9]\n"
     ]
    }
   ],
   "source": [
    "def test15(a): # here if we will give larg amount of data the this methods take time(botal nake)\n",
    "    n=[]\n",
    "    for i in a:\n",
    "        if type(i) == int:\n",
    "            n.append(i)\n",
    "        return n\n",
    "\n",
    "l=[1,2,3,4,5,6,7,8,9]\n",
    "print(l)"
   ]
  },
  {
   "cell_type": "code",
   "execution_count": 121,
   "id": "5d7f758e-8b7d-4634-a9ea-db1f9eb962f8",
   "metadata": {
    "tags": []
   },
   "outputs": [
    {
     "name": "stdout",
     "output_type": "stream",
     "text": [
      "<generator object test15 at 0x0000013BE73B3700>\n"
     ]
    }
   ],
   "source": [
    "def test15(b):\n",
    "    yield b\n",
    "a=test15(10)\n",
    "print(a)"
   ]
  },
  {
   "cell_type": "code",
   "execution_count": 122,
   "id": "4ba9a729-4cc0-49ef-9752-7ca08b414bc1",
   "metadata": {
    "tags": []
   },
   "outputs": [
    {
     "name": "stdout",
     "output_type": "stream",
     "text": [
      "1\n"
     ]
    }
   ],
   "source": []
  },
  {
   "cell_type": "code",
   "execution_count": 171,
   "id": "24dd34c4-abac-4e26-bad8-37a909291d8a",
   "metadata": {
    "tags": []
   },
   "outputs": [
    {
     "name": "stdout",
     "output_type": "stream",
     "text": [
      "[0, 1, 1, 2, 3, 5, 8, 13, 21, 34]\n"
     ]
    }
   ],
   "source": [
    "# programm 1\n",
    "def febonacy_series(a):\n",
    "    count=0\n",
    "    list_of_febo=[]\n",
    "    for i in range(a):\n",
    "        if i<2:\n",
    "            list_of_febo.append(i)\n",
    "        else:\n",
    "            count+=1\n",
    "            b=int((list_of_febo[count])+(list_of_febo[count-1]))\n",
    "            list_of_febo.append(b)\n",
    "    return list_of_febo\n",
    "    \n",
    "print(febonacy_series(10))"
   ]
  },
  {
   "cell_type": "code",
   "execution_count": 35,
   "id": "4443c4dc-3e73-4529-bcd2-8b0980bd1e74",
   "metadata": {},
   "outputs": [
    {
     "name": "stdout",
     "output_type": "stream",
     "text": [
      "<generator object febonacii at 0x0000025D023D4130>\n",
      "0\n",
      "1\n",
      "1\n",
      "2\n",
      "3\n",
      "5\n",
      "8\n",
      "13\n",
      "21\n",
      "34\n"
     ]
    }
   ],
   "source": [
    "def febonacii(n):\n",
    "    a,b=0,1\n",
    "    for i in range(n):\n",
    "        yield a\n",
    "        a,b=b,a+b  \n",
    "print(febonacii(10))\n",
    "for i in febonacii(10):\n",
    "    print(i)"
   ]
  },
  {
   "cell_type": "code",
   "execution_count": null,
   "id": "99a98618-f18b-4fbb-813b-006202c5e1e0",
   "metadata": {},
   "outputs": [],
   "source": []
  }
 ],
 "metadata": {
  "kernelspec": {
   "display_name": "Python 3 (ipykernel)",
   "language": "python",
   "name": "python3"
  },
  "language_info": {
   "codemirror_mode": {
    "name": "ipython",
    "version": 3
   },
   "file_extension": ".py",
   "mimetype": "text/x-python",
   "name": "python",
   "nbconvert_exporter": "python",
   "pygments_lexer": "ipython3",
   "version": "3.11.1"
  }
 },
 "nbformat": 4,
 "nbformat_minor": 5
}
