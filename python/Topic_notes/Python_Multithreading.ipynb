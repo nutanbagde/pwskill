{
 "cells": [
  {
   "cell_type": "code",
   "execution_count": 10,
   "id": "f17cf0df-762c-4569-bd1f-1caa9e9ac735",
   "metadata": {
    "tags": []
   },
   "outputs": [
    {
     "name": "stdout",
     "output_type": "stream",
     "text": [
      "this is my test id 10\n",
      "this is my test id 20\n",
      "this is my test id 20\n"
     ]
    }
   ],
   "source": [
    "import threading\n",
    "def test(id):\n",
    "    print(\"this is my test id %d\" %id)\n",
    "test(10) # pass the argument\n",
    "test(20)\n",
    "test(20)"
   ]
  },
  {
   "cell_type": "code",
   "execution_count": 13,
   "id": "f1d4c822-1d27-4fad-a624-7dd0b0183f7a",
   "metadata": {
    "tags": []
   },
   "outputs": [],
   "source": [
    "thred=[threading.Thread(target=test, args=(i,)) for i in [10,1,3]]"
   ]
  },
  {
   "cell_type": "code",
   "execution_count": 14,
   "id": "55e42e35-e098-450f-9d29-f03988c72d0f",
   "metadata": {
    "tags": []
   },
   "outputs": [
    {
     "name": "stdout",
     "output_type": "stream",
     "text": [
      "this is my test id 10\n",
      "this is my test id 1\n",
      "this is my test id 3\n"
     ]
    }
   ],
   "source": [
    "for t in thred:\n",
    "    t.start()"
   ]
  },
  {
   "cell_type": "code",
   "execution_count": 19,
   "id": "79e2f4f1-7c52-4aef-8861-1c2339e25576",
   "metadata": {
    "tags": []
   },
   "outputs": [
    {
     "ename": "AttributeError",
     "evalue": "'tuple' object has no attribute 'decode'",
     "output_type": "error",
     "traceback": [
      "\u001b[1;31m---------------------------------------------------------------------------\u001b[0m",
      "\u001b[1;31mAttributeError\u001b[0m                            Traceback (most recent call last)",
      "Cell \u001b[1;32mIn[19], line 1\u001b[0m\n\u001b[1;32m----> 1\u001b[0m \u001b[43mfile_download\u001b[49m\u001b[43m(\u001b[49m\u001b[38;5;124;43m'\u001b[39;49m\u001b[38;5;124;43mhttps://berkshirehathaway.com/letters/1978.html\u001b[39;49m\u001b[38;5;124;43m'\u001b[39;49m\u001b[43m,\u001b[49m\u001b[38;5;124;43m'\u001b[39;49m\u001b[38;5;124;43mtest2.txt\u001b[39;49m\u001b[38;5;124;43m'\u001b[39;49m\u001b[43m)\u001b[49m\n",
      "Cell \u001b[1;32mIn[18], line 4\u001b[0m, in \u001b[0;36mfile_download\u001b[1;34m(url, filename)\u001b[0m\n\u001b[0;32m      3\u001b[0m \u001b[38;5;28;01mdef\u001b[39;00m \u001b[38;5;21mfile_download\u001b[39m(url, filename):\n\u001b[1;32m----> 4\u001b[0m     \u001b[43murllib\u001b[49m\u001b[38;5;241;43m.\u001b[39;49m\u001b[43mrequest\u001b[49m\u001b[38;5;241;43m.\u001b[39;49m\u001b[43murlretrieve\u001b[49m\u001b[43m(\u001b[49m\u001b[43murl\u001b[49m\u001b[43m,\u001b[49m\u001b[43mfilename\u001b[49m\u001b[43m)\u001b[49m\u001b[38;5;241;43m.\u001b[39;49m\u001b[43mdecode\u001b[49m(\u001b[38;5;124m'\u001b[39m\u001b[38;5;124mutf8\u001b[39m\u001b[38;5;124m'\u001b[39m)\n",
      "\u001b[1;31mAttributeError\u001b[0m: 'tuple' object has no attribute 'decode'"
     ]
    }
   ],
   "source": [
    "file_download('https://berkshirehathaway.com/letters/1978.html','test2.txt')"
   ]
  },
  {
   "cell_type": "markdown",
   "id": "31628c25-3e5a-4a33-8f8a-277d0c0c17ad",
   "metadata": {},
   "source": [
    "# urllib.request \n",
    "\n",
    "is a Python Module to open and fetch the HTML content of any URL.\n",
    "\n",
    "Syntax:\n",
    "    \n",
    "urllib.request.urlretrieve(url, filename=None, reporthook=None, data=None)\n",
    "\n",
    "Parameters:\n",
    "\n",
    "url: Pass in the URL whose content needs to be fetched\n",
    "\n",
    "filename: If a filename is passed, it is used as the temporary file location. If a filename is passed and the URL points to a local resource, the result is a copy from a local file to a new file.\n",
    "\n",
    "reporthook: The reporthook argument should be a callable that accepts a block number, a read size, and the total file size of the URL target.\n",
    "\n",
    "data: The data argument should be valid URL encoded data.\n",
    "\n"
   ]
  },
  {
   "cell_type": "code",
   "execution_count": 18,
   "id": "84053f42-5fd9-40db-9cd6-7a6c28462c28",
   "metadata": {
    "tags": []
   },
   "outputs": [],
   "source": [
    "import urllib.request\n",
    "\n",
    "def file_download(url, filename):\n",
    "    urllib.request.urlretrieve(url,filename)"
   ]
  },
  {
   "cell_type": "code",
   "execution_count": 18,
   "id": "7856e164-91aa-4d4c-a6f5-34e1c911b6d2",
   "metadata": {
    "tags": []
   },
   "outputs": [],
   "source": [
    "from urllib.request import urlretrieve\n",
    "\n",
    "def file_download(url, filename):\n",
    "    uurlretrieve(url,filename)"
   ]
  },
  {
   "cell_type": "code",
   "execution_count": null,
   "id": "948361b5-3696-4f2b-b37a-7bc53c0f7e74",
   "metadata": {},
   "outputs": [],
   "source": []
  }
 ],
 "metadata": {
  "kernelspec": {
   "display_name": "Python 3 (ipykernel)",
   "language": "python",
   "name": "python3"
  },
  "language_info": {
   "codemirror_mode": {
    "name": "ipython",
    "version": 3
   },
   "file_extension": ".py",
   "mimetype": "text/x-python",
   "name": "python",
   "nbconvert_exporter": "python",
   "pygments_lexer": "ipython3",
   "version": "3.8.4"
  }
 },
 "nbformat": 4,
 "nbformat_minor": 5
}
