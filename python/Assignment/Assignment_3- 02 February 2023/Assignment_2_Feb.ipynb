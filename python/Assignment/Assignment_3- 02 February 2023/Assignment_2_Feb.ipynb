{
 "cells": [
  {
   "cell_type": "markdown",
   "id": "08ddb4ae-1ff0-408c-aec9-68d7a77cbbf3",
   "metadata": {
    "tags": []
   },
   "source": [
    "Q1. What are the characteristics of the tuples? Is tuple immutable?\n"
   ]
  },
  {
   "cell_type": "markdown",
   "id": "856992ea-4d80-464c-8256-5c72591f6276",
   "metadata": {},
   "source": [
    "Ans:-\n",
    "\n",
    "Yes tuple immutable.\n",
    "The important characteristics of Python Tuple are as follows:\n",
    "1. Tuples are ordered.\n",
    "2. Tuples are unchangeable.\n",
    "3. Tuples allow duplicate values.\n",
    "4. Tuples are indexed.\n",
    "5. Tuples are immutable.\n",
    "6. Tuples are used to store heterogeneous and homogeneous data.\n",
    "7. As tuples are immutable, they are faster than the list because they are static.\n"
   ]
  },
  {
   "cell_type": "markdown",
   "id": "1d86565c-b644-4b60-b424-079037acf8a8",
   "metadata": {
    "tags": []
   },
   "source": [
    "Q2. What are the two tuple methods in python? Give an example of each method. Give a reason why\n",
    "tuples have only two in-built methods as compared to Lists.\n"
   ]
  },
  {
   "cell_type": "markdown",
   "id": "4e8501c4-e68e-4735-94f6-10ef27ab2ce2",
   "metadata": {},
   "source": [
    "Ans:-\n",
    "\n",
    "There are only two tuple methods count() and index() that a tuple object can call.\n",
    "1. Python Tuple count() :- returns count of the element in the tuple\n",
    "2. Python Tuple index() :- returns the index of the element in the tuple"
   ]
  },
  {
   "cell_type": "code",
   "execution_count": 2,
   "id": "78ef84f5-cc92-4246-9190-e88d2339ae9a",
   "metadata": {
    "tags": []
   },
   "outputs": [
    {
     "name": "stdout",
     "output_type": "stream",
     "text": [
      "('nutan', 'gargie', 1, 2, 3, 4, 1, 5, 2, 1, 3)\n",
      "<class 'tuple'>\n"
     ]
    },
    {
     "data": {
      "text/plain": [
       "3"
      ]
     },
     "execution_count": 2,
     "metadata": {},
     "output_type": "execute_result"
    }
   ],
   "source": [
    "new_tuple=('nutan','gargie', 1,2,3,4,1,5,2,1,3)\n",
    "print(new_tuple)\n",
    "print(type(new_tuple))\n",
    "new_tuple.count(1)"
   ]
  },
  {
   "cell_type": "code",
   "execution_count": 1,
   "id": "ed087342-3925-4c49-87a9-42c56c180918",
   "metadata": {
    "tags": []
   },
   "outputs": [
    {
     "name": "stdout",
     "output_type": "stream",
     "text": [
      "('nutan', 'gargie', 1, 2, 3, 4, 1, 5, 2, 1, 3)\n",
      "<class 'tuple'>\n"
     ]
    },
    {
     "data": {
      "text/plain": [
       "7"
      ]
     },
     "execution_count": 1,
     "metadata": {},
     "output_type": "execute_result"
    }
   ],
   "source": [
    "new_tuple=('nutan','gargie', 1,2,3,4,1,5,2,1,3)\n",
    "print(new_tuple)\n",
    "print(type(new_tuple))\n",
    "new_tuple.count(1)\n",
    "new_tuple.index(5)"
   ]
  },
  {
   "cell_type": "markdown",
   "id": "4fee49ce-252e-47ab-a546-092cd9b210ef",
   "metadata": {},
   "source": [
    "A tuple does not have many built-in methods because of immutability. tuples are immutable, meaning we cannot change their contents after they are created. The length of tuples is also fixed. They remain the same length throughout the lifecycle of the program."
   ]
  },
  {
   "cell_type": "markdown",
   "id": "3748cf60-f02b-49bb-80ad-1047f93faca5",
   "metadata": {},
   "source": [
    "#\n",
    "\n",
    "\n",
    "\n",
    "\n",
    "\n"
   ]
  },
  {
   "cell_type": "markdown",
   "id": "d9330d57-a9bc-401b-a9ef-4a33e25d46da",
   "metadata": {
    "tags": []
   },
   "source": [
    "Q3. Which collection datatypes in python do not allow duplicate items? Write a code using a set to remove duplicates from the given list.\n",
    "\n",
    "List = [1,1, 1, 2, 1, 3, 1, 4, 2, 1, 2, 2, 2, 3, 2, 4, 3, 1, 3, 2, 3, 3, 3, 4, 4, 1, 4, 2, 4, 3, 4, 4]\n"
   ]
  },
  {
   "cell_type": "markdown",
   "id": "fabba3d5-6a65-4e06-bd77-3f5b17716fd0",
   "metadata": {},
   "source": [
    "Ans:-\n",
    "\n",
    "Sets are a collection that is unordered and unindexed. They are mutable (changeable) but do not allow duplicate values to be held."
   ]
  },
  {
   "cell_type": "code",
   "execution_count": 1,
   "id": "6a40b1ec-8f77-4f6e-9345-47a2d7d43d20",
   "metadata": {
    "tags": []
   },
   "outputs": [
    {
     "name": "stdout",
     "output_type": "stream",
     "text": [
      "duplicate values are removed so new List is =  {1, 2, 3, 4}\n",
      "<class 'set'>\n"
     ]
    }
   ],
   "source": [
    "List = [1,1, 1, 2, 1, 3, 1, 4, 2, 1, 2, 2, 2, 3, 2, 4, 3, 1, 3, 2, 3, 3, 3, 4, 4, 1, 4, 2, 4, 3, 4, 4]\n",
    "print('duplicate values are removed so new List is = ',  set(List))\n",
    "print(type(set(List)))"
   ]
  },
  {
   "cell_type": "code",
   "execution_count": 23,
   "id": "0570f72f-0523-4a6f-85be-9f4c2944786d",
   "metadata": {
    "tags": []
   },
   "outputs": [
    {
     "name": "stdout",
     "output_type": "stream",
     "text": [
      "{1, 2, 3, 4}\n",
      "<class 'set'>\n"
     ]
    }
   ],
   "source": [
    "List = [1,1, 1, 2, 1, 3, 1, 4, 2, 1, 2, 2, 2, 3, 2, 4, 3, 1, 3, 2, 3, 3, 3, 4, 4, 1, 4, 2, 4, 3, 4, 4]\n",
    "new_list=set()\n",
    "for i in List:\n",
    "    if i in new_list:\n",
    "        continue\n",
    "    else:\n",
    "        new_list.add(i)    \n",
    "print(new_list)\n",
    "print(type(new_list))"
   ]
  },
  {
   "cell_type": "markdown",
   "id": "6d373133-7a07-498c-8c5c-7756790ce753",
   "metadata": {},
   "source": [
    "Q4. Explain the difference between the union() and update() methods for a set. Give an example of\n",
    "each method.\n"
   ]
  },
  {
   "cell_type": "markdown",
   "id": "65df9981-2838-4519-8279-529101188f15",
   "metadata": {},
   "source": [
    "Ans:-\n",
    "\n",
    "1. Python set Union() Method returns a new set which contains all the items from the original set. If an item is present in more than one set, the resulting set will list the item only once.\n",
    "2. The Python set update methods modify the set in-place and return None. The methods without update return a new object.\n"
   ]
  },
  {
   "cell_type": "markdown",
   "id": "18333d94-6e7e-4178-a597-13ade3b80c80",
   "metadata": {},
   "source": [
    " A.union(B)      A | B     new set with elements from both A and B\n",
    "\n",
    " A.update(B)     A |= B   return set A with elements added from B"
   ]
  },
  {
   "cell_type": "code",
   "execution_count": 13,
   "id": "03dc5b03-22fd-4577-a16c-572fa0c1c189",
   "metadata": {},
   "outputs": [
    {
     "name": "stdout",
     "output_type": "stream",
     "text": [
      "A U B : {'Python', 'Julia', 'Go', 'R', 'JavaScript'}\n",
      "A U B : {'Python', 'Julia', 'Go', 'R', 'JavaScript'}\n"
     ]
    }
   ],
   "source": [
    "A = {'Python', 'R', 'Julia'}\n",
    "B = {'Python', 'JavaScript', 'Go'}\n",
    "print(f'A U B : {A.union(B)}')     #  new set with elements from both A and B\n",
    "print(f'A U B : {A | B }')         #  new set with elements from both A and B"
   ]
  },
  {
   "cell_type": "code",
   "execution_count": 14,
   "id": "1d564b5a-8171-4c78-9236-b9afc5c08ed1",
   "metadata": {
    "tags": []
   },
   "outputs": [
    {
     "name": "stdout",
     "output_type": "stream",
     "text": [
      "None\n",
      "{'Python', 'Julia', 'Go', 'R', 'JavaScript'}\n"
     ]
    }
   ],
   "source": [
    "print(A.update(B))    # return None\n",
    "print(A)              # return set A with elements added from B"
   ]
  },
  {
   "cell_type": "markdown",
   "id": "dcd650bf-d054-42e0-aaa4-a3689e42f99d",
   "metadata": {
    "tags": []
   },
   "source": [
    "#  \n",
    "\n",
    "\n"
   ]
  },
  {
   "cell_type": "markdown",
   "id": "b5e80d5b-945f-4d12-bb7d-27716e4fc003",
   "metadata": {},
   "source": [
    "Q5. What is a dictionary? Give an example. Also, state whether a dictionary is ordered or unordered.\n"
   ]
  },
  {
   "cell_type": "markdown",
   "id": "5147f39c-173a-42e5-b724-bbb1b39465e4",
   "metadata": {},
   "source": [
    "Ans:-\n",
    "\n",
    "The dictionary is an unordered collection that is collection of key:value pairs separated by commas inside curly brackets. Dictionaries are optimized to retrieve values when the key is known.Values in a dictionary can be of any data type and can be duplicated, whereas keys can’t be repeated and must be immutable. \n",
    "Dictionary can also be created by the built-in function dict(). An empty dictionary can be created by just placing to curly braces{}. "
   ]
  },
  {
   "cell_type": "code",
   "execution_count": 15,
   "id": "5e3a06be-dec8-4adf-8ae4-4cb2e0491bb8",
   "metadata": {
    "tags": []
   },
   "outputs": [
    {
     "name": "stdout",
     "output_type": "stream",
     "text": [
      "{'name': 'nuatan', 'email_id': 'nb93@gmail.com', 'numbar': 9632587410}\n",
      "<class 'dict'>\n"
     ]
    }
   ],
   "source": [
    "details_of_student={'name':'nuatan', 'email_id':'nb93@gmail.com', 'numbar':9632587410}\n",
    "print(details_of_student)\n",
    "print(type(details_of_student))"
   ]
  },
  {
   "cell_type": "markdown",
   "id": "019851d0-b2f7-4775-a499-6923818baef5",
   "metadata": {},
   "source": [
    "Q6. Can we create a nested dictionary? If so, please give an example by creating a simple one-level\n",
    "nested dictionary."
   ]
  },
  {
   "cell_type": "markdown",
   "id": "be802372-2caf-4c03-a54c-9f99db7c217d",
   "metadata": {},
   "source": [
    "Ans:-\n",
    "\n",
    "Yes we can create a nested dictionar. In order to access the value of any key in the nested dictionary, use indexing [] syntax."
   ]
  },
  {
   "cell_type": "code",
   "execution_count": 18,
   "id": "1926774e-fc27-425d-a8f7-534c77aeaa1f",
   "metadata": {},
   "outputs": [
    {
     "name": "stdout",
     "output_type": "stream",
     "text": [
      "My nested dictionary => {'key': {'name': 'nutan', 'city': 'bangalore'}}\n",
      "{'name': 'nutan', 'city': 'bangalore'}\n",
      "bangalore\n"
     ]
    }
   ],
   "source": [
    "nested_dictionary={'key':{'name':'nutan','city':'bangalore'}}\n",
    "print('My nested dictionary =>',nested_dictionary)\n",
    "print(nested_dictionary['key'])\n",
    "print(nested_dictionary['key']['city'])\n"
   ]
  },
  {
   "cell_type": "markdown",
   "id": "5d55104a-2c42-4461-8388-f56e34c441c6",
   "metadata": {},
   "source": [
    "Q7. Using setdefault() method, create key named topics in the given dictionary and also add the value of the key as this list \n",
    "['Python', 'Machine Learning’, 'Deep Learning']\n",
    "\n",
    "dict1 = {'language' : 'Python', 'course': 'Data Science Masters'}\n"
   ]
  },
  {
   "cell_type": "markdown",
   "id": "3fc6c875-b7e4-4952-aebd-0fa21ec0ebd0",
   "metadata": {},
   "source": [
    "Ans:-\n",
    "\n",
    "The dict1.setdefault() method returns the value of the specified key in the dictionary. If the key is not found, then it adds the key with the specified defaultvalue. If the defaultvalue parameter is not specified, then it set None."
   ]
  },
  {
   "cell_type": "code",
   "execution_count": 23,
   "id": "5bd4490b-1359-4f3a-9823-d0138ecf2926",
   "metadata": {},
   "outputs": [
    {
     "name": "stdout",
     "output_type": "stream",
     "text": [
      "{'language': 'Python', 'course': 'Data Science Masters', 'topics': ['Python', 'Machine Learning', 'Deep Learning']}\n"
     ]
    }
   ],
   "source": [
    "dict1 = {'language' : 'Python', 'course': 'Data Science Masters'}\n",
    "dict1.setdefault('topics', ['Python', 'Machine Learning', 'Deep Learning'])\n",
    "print(dict1)"
   ]
  },
  {
   "cell_type": "markdown",
   "id": "e36df714-c55b-446e-9cc8-edbf53ac96f0",
   "metadata": {},
   "source": [
    "Q8. What are the three view objects in dictionaries? Use the three in-built methods in python to display\n",
    "these three view objects for the given dictionary.\n",
    "\n",
    "\n",
    "dict1 = {'Sport': 'Cricket' , 'Teams': ['India', 'Australia', 'England', 'South Africa', 'Sri Lanka', 'New Zealand']}\n"
   ]
  },
  {
   "cell_type": "markdown",
   "id": "86433b52-d678-4ab1-a188-2b76593a6866",
   "metadata": {},
   "source": [
    "Ans:-\n",
    "\n",
    "The main view objects of dictionary in python are keys, values and items. They provide a non-constant view of the dictionary’s entries.\n",
    "Keys holds all the keys of the dictionary, the values objects holds all the values, whereas the items holds the key-value pairs."
   ]
  },
  {
   "cell_type": "code",
   "execution_count": 26,
   "id": "f08b6c03-1ac1-4b82-9cb4-7c0b38404ab6",
   "metadata": {
    "tags": []
   },
   "outputs": [
    {
     "name": "stdout",
     "output_type": "stream",
     "text": [
      "dict_keys(['Sport', 'Teams']) \n",
      "\n",
      "dict_values(['Cricket', ['India', 'Australia', 'England', 'South Africa', 'Sri Lanka', 'New Zealand']]) \n",
      "\n",
      "dict_items([('Sport', 'Cricket'), ('Teams', ['India', 'Australia', 'England', 'South Africa', 'Sri Lanka', 'New Zealand'])])\n"
     ]
    }
   ],
   "source": [
    "dict1 = {'Sport': 'Cricket' , 'Teams': ['India', 'Australia', 'England', 'South Africa', 'Sri Lanka', 'New Zealand']}\n",
    "print(dict1.keys(), '\\n')\n",
    "print(dict1.values(), '\\n')\n",
    "print(dict1.items())"
   ]
  },
  {
   "cell_type": "code",
   "execution_count": null,
   "id": "dadbc2b0-28f0-4d17-ab0d-2e81343f16fb",
   "metadata": {},
   "outputs": [],
   "source": []
  }
 ],
 "metadata": {
  "kernelspec": {
   "display_name": "Python 3 (ipykernel)",
   "language": "python",
   "name": "python3"
  },
  "language_info": {
   "codemirror_mode": {
    "name": "ipython",
    "version": 3
   },
   "file_extension": ".py",
   "mimetype": "text/x-python",
   "name": "python",
   "nbconvert_exporter": "python",
   "pygments_lexer": "ipython3",
   "version": "3.11.1"
  }
 },
 "nbformat": 4,
 "nbformat_minor": 5
}
