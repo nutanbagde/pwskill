{
 "cells": [
  {
   "cell_type": "markdown",
   "id": "ae6a1f34-6bca-497a-9517-6556fbc45468",
   "metadata": {},
   "source": [
    "Q1. Which function is used to open a file? What are the different modes of opening a file? Explain each mode\n",
    "of file opening.\n"
   ]
  },
  {
   "cell_type": "markdown",
   "id": "3c5935fc-e720-4660-84bc-89f3c9a4bf14",
   "metadata": {},
   "source": [
    "'open' function is used to open a file\n",
    "\n",
    "f = open(filename, mode)\n",
    "\n",
    "Where the following mode is supported:\n",
    "    \n",
    "r :- open an existing file for a read operation.\n",
    "\n",
    "w :- open an existing file for a write operation. If the file already contains some data then it will be overridden but if the file is not present then it creates the file as well.\n",
    "\n",
    "a :-  open an existing file for append operation. It won’t override existing data.\n",
    "\n",
    "r+ :-  To read and write data into the file. The previous data in the file will be overridden.\n",
    "\n",
    "w+ :- To write and read data. It will override existing data.\n",
    "\n",
    "a+ :- To append and read data from the file. It won’t override existing data."
   ]
  },
  {
   "cell_type": "markdown",
   "id": "119715d9-0a28-4026-9dfa-bd0e382a38bd",
   "metadata": {},
   "source": [
    "Q2. Why close() function is used? Why is it important to close a file?\n"
   ]
  },
  {
   "cell_type": "markdown",
   "id": "3efd581b-75f1-4fe1-8d02-c41d4d1fb07c",
   "metadata": {},
   "source": [
    "Python file method close() closes the opened file. A closed file cannot be read or written any more. Any operation, which requires that the file be opened will raise a ValueError after the file has been closed. Calling close() more than once is allowed.\n",
    "\n",
    "Python automatically closes a file when the reference object of a file is reassigned to another file. It is a good practice to use the close() method to close a file.\n",
    "\n",
    "\n",
    "Syntax\n",
    "\n",
    "Following is the syntax for close() method −\n",
    "\n",
    "\n",
    "fileObject.close()"
   ]
  },
  {
   "cell_type": "markdown",
   "id": "8cba0189-b804-4291-a430-2e9863583246",
   "metadata": {},
   "source": [
    "Q3. Write a python program to create a text file. Write ‘I want to become a Data Scientist’ in that file. Then\n",
    "close the file. Open this file and read the content of the file.\n"
   ]
  },
  {
   "cell_type": "code",
   "execution_count": 30,
   "id": "27484749-a605-4328-8f07-7d4772a6c781",
   "metadata": {},
   "outputs": [],
   "source": [
    "file = open('data_file.txt','w') # or   file = open('data_file.txt','a') \n",
    "file.write(\"I want to become a Data Scientist in 2023.\")\n",
    "file.close()\n",
    "    "
   ]
  },
  {
   "cell_type": "code",
   "execution_count": 31,
   "id": "5b987d07-2f5f-4b67-97c6-1c54329db02b",
   "metadata": {
    "tags": []
   },
   "outputs": [
    {
     "data": {
      "text/plain": [
       "'I want to become a Data Scientist in 2023.'"
      ]
     },
     "execution_count": 31,
     "metadata": {},
     "output_type": "execute_result"
    }
   ],
   "source": [
    "read_file=open('data_file.txt','r')\n",
    "read_file.read()"
   ]
  },
  {
   "cell_type": "markdown",
   "id": "6cb26a43-c592-4a09-a7c0-5bc673108919",
   "metadata": {},
   "source": [
    "Q4. Explain the following with python code: read(), readline() and readlines().\n"
   ]
  },
  {
   "cell_type": "markdown",
   "id": "a9056a8e-a9bd-474d-8d15-3f733e9830d0",
   "metadata": {},
   "source": [
    "Here is the list of methods in text mode with a brief description:\n",
    "|Method|\tDescription|\n",
    "|:-:|:-:|\n",
    "|read(n)|Reads at most n characters from the file. Reads till end of file if it is negative or None.\n",
    "|readline(n=-1)|\tReads and returns one line from the file. Reads in at most n bytes if specified.|\n",
    "|readlines(n=-1)\t|Reads and returns a list of lines from the file. Reads in at most n bytes/characters if specified.|\n"
   ]
  },
  {
   "cell_type": "code",
   "execution_count": 101,
   "id": "a57f95e9-f6d9-463b-ab68-00832df751ee",
   "metadata": {},
   "outputs": [],
   "source": [
    "with open('new_file.txt','w') as file:\n",
    "    file.write(\"I want to become a Data Scientist. \\n\")\n",
    "    file.write('\\n nutan bagde.')"
   ]
  },
  {
   "cell_type": "code",
   "execution_count": 102,
   "id": "9747b14b-c7a2-42a7-b36b-553a9d683fee",
   "metadata": {
    "tags": []
   },
   "outputs": [
    {
     "name": "stdout",
     "output_type": "stream",
     "text": [
      "I want to become a Data Scientist. \n",
      "\n",
      " nutan bagde.\n"
     ]
    }
   ],
   "source": [
    "with open('new_file.txt' ,'r') as n:\n",
    "    print(n.read())\n"
   ]
  },
  {
   "cell_type": "code",
   "execution_count": 103,
   "id": "3dd29308-c061-4d34-bafb-e73ad3c9c506",
   "metadata": {
    "tags": []
   },
   "outputs": [
    {
     "name": "stdout",
     "output_type": "stream",
     "text": [
      "I wan\n"
     ]
    }
   ],
   "source": [
    "with open('new_file.txt') as n:\n",
    "    print(n.read(5))"
   ]
  },
  {
   "cell_type": "code",
   "execution_count": 104,
   "id": "0f892574-0b81-4cb8-b13d-b5cf1a047b00",
   "metadata": {
    "tags": []
   },
   "outputs": [
    {
     "name": "stdout",
     "output_type": "stream",
     "text": [
      "I want to \n"
     ]
    }
   ],
   "source": [
    "with open('new_file.txt') as n:\n",
    "    print(n.readline(10))"
   ]
  },
  {
   "cell_type": "code",
   "execution_count": 105,
   "id": "929a8507-0432-43c0-bc3a-ad7442961054",
   "metadata": {
    "tags": []
   },
   "outputs": [
    {
     "name": "stdout",
     "output_type": "stream",
     "text": [
      "['I want to become a Data Scientist. \\n']\n"
     ]
    }
   ],
   "source": [
    "with open('new_file.txt') as n:\n",
    "    print(n.readlines(10))"
   ]
  },
  {
   "cell_type": "markdown",
   "id": "41feebb9-4412-4fa9-89bb-9f0a8ce75ffa",
   "metadata": {},
   "source": [
    "Q5. Explain why with statement is used with open(). What is the advantage of using with statement and\n",
    "open() together?\n"
   ]
  },
  {
   "cell_type": "markdown",
   "id": "79643eff-dc62-4288-87b8-4ba342a205c8",
   "metadata": {},
   "source": [
    "Use of with...open Syntax:\n",
    "    \n",
    "In Python, we can use the with...open syntax to automatically close the file. For example,\n",
    "\n"
   ]
  },
  {
   "cell_type": "code",
   "execution_count": 44,
   "id": "27b2111a-b84e-4a8c-9dfa-c3f7ccdc4cc7",
   "metadata": {},
   "outputs": [
    {
     "name": "stdout",
     "output_type": "stream",
     "text": [
      "A file is a container in computer storage devices used for storing data.\n"
     ]
    }
   ],
   "source": [
    "with open(\"test.txt\", \"w\") as file1:\n",
    "    file1.write(\"A file is a container in computer storage devices used for storing data.\")\n",
    "\n",
    "\n",
    "with open(\"test.txt\", \"r\") as file1:\n",
    "    read_content = file1.read()\n",
    "    print(read_content)"
   ]
  },
  {
   "cell_type": "markdown",
   "id": "b59ee531-ffa3-4f7d-b82f-5135ea66661c",
   "metadata": {},
   "source": [
    "1. Advantage of using with statement and open() together: \n",
    "\n",
    "Since we don't have to worry about closing the file."
   ]
  },
  {
   "cell_type": "markdown",
   "id": "36729efa-4101-42f8-b3d4-2ca52d99685a",
   "metadata": {},
   "source": [
    "Q6. Explain the write() and writelines() functions. Give a suitable example."
   ]
  },
  {
   "cell_type": "markdown",
   "id": "fc9037bb-d119-45e0-a4bd-27e678989142",
   "metadata": {},
   "source": [
    "\n",
    "|Method|\tDescription|\n",
    "|:-:|:-:|\n",
    "|write(s)|\tWrites the string s to the file and returns the number of characters written.|\n",
    "|writelines(lines)|\tWrites a list of lines to the file.|"
   ]
  },
  {
   "cell_type": "markdown",
   "id": "cd8283de-df39-4bb8-8744-398a39784b36",
   "metadata": {},
   "source": [
    "1. write() function:-\n",
    "\n",
    "The write() function will write the content in the file without adding any extra characters."
   ]
  },
  {
   "cell_type": "code",
   "execution_count": 48,
   "id": "2920a2e4-8716-4b21-86f8-ae20b8d76954",
   "metadata": {},
   "outputs": [
    {
     "name": "stdin",
     "output_type": "stream",
     "text": [
      "Enter the name of the employee:  nutan\n",
      "Enter the name of the employee:  roshan\n",
      "Enter the name of the employee:  gargie\n"
     ]
    },
    {
     "name": "stdout",
     "output_type": "stream",
     "text": [
      "Data is written into the file.\n"
     ]
    }
   ],
   "source": [
    "file = open(\"Employees.txt\", \"w\")\n",
    "  \n",
    "for i in range(3):\n",
    "    name = input(\"Enter the name of the employee: \")\n",
    "    file.write(name)\n",
    "    file.write(\"\\n\")\n",
    "     \n",
    "file.close()\n",
    "  \n",
    "print(\"Data is written into the file.\")"
   ]
  },
  {
   "cell_type": "markdown",
   "id": "9560b9b5-5469-4192-b75f-a3e7d5b56d4d",
   "metadata": {},
   "source": [
    "2. writelines() function:-\n",
    "\n",
    "This function writes the content of a list to a file.\n",
    "\n",
    "Syntax:   \n",
    "\n",
    "##### write all the strings present in the list \n",
    "\n",
    "\"list_of_lines\" \n",
    "\n",
    "##### referenced by file object.\n",
    "file_name.writelines(list_of_lines)\n",
    "\n",
    "As per the syntax, the list of strings that is passed to the writelines() function is written into the opened file. Similar to the write() function, the writelines() function does not add a newline character(\\n) to the end of the string."
   ]
  },
  {
   "cell_type": "code",
   "execution_count": 45,
   "id": "337b80a8-ef73-46a2-a8f8-07e48e21b4b5",
   "metadata": {
    "tags": []
   },
   "outputs": [
    {
     "name": "stdin",
     "output_type": "stream",
     "text": [
      "Enter the name of the employee:  nutan\n",
      "Enter the name of the employee:  gargie\n",
      "Enter the name of the employee:  roshan\n"
     ]
    },
    {
     "name": "stdout",
     "output_type": "stream",
     "text": [
      "Data is written into the file.\n"
     ]
    }
   ],
   "source": [
    "\n",
    "file1 = open(\"Employees.txt\", \"w\")\n",
    "lst = []\n",
    "for i in range(3):\n",
    "    name = input(\"Enter the name of the employee: \")\n",
    "    lst.append(name + '\\n')\n",
    "      \n",
    "file1.writelines(lst)\n",
    "file1.close()\n",
    "print(\"Data is written into the file.\") "
   ]
  },
  {
   "cell_type": "code",
   "execution_count": null,
   "id": "2c6dce68-3c5d-4a7a-bc70-ca1835b4fee0",
   "metadata": {},
   "outputs": [],
   "source": []
  }
 ],
 "metadata": {
  "kernelspec": {
   "display_name": "Python 3 (ipykernel)",
   "language": "python",
   "name": "python3"
  },
  "language_info": {
   "codemirror_mode": {
    "name": "ipython",
    "version": 3
   },
   "file_extension": ".py",
   "mimetype": "text/x-python",
   "name": "python",
   "nbconvert_exporter": "python",
   "pygments_lexer": "ipython3",
   "version": "3.11.1"
  }
 },
 "nbformat": 4,
 "nbformat_minor": 5
}
