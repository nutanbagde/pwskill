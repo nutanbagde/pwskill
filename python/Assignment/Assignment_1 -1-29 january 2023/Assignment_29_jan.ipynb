{
 "cells": [
  {
   "cell_type": "markdown",
   "id": "7d4b5727-b7be-4236-994e-9e67c7bc69af",
   "metadata": {},
   "source": [
    "1. Who developed python programming language?\n",
    "\n",
    "   Ans:--> Guido van Rossum"
   ]
  },
  {
   "cell_type": "markdown",
   "id": "3c392c4b-2b9f-4182-bffe-5565f2047606",
   "metadata": {},
   "source": [
    "2. Which type of programming does python support?\n",
    "\n",
    "    Ans:--> Python is an interpreted programming language, which supports object-oriented, structured, and \n",
    "    functional programming."
   ]
  },
  {
   "cell_type": "markdown",
   "id": "bb3cdc61-23d1-42f3-bc18-03d43d0ebe18",
   "metadata": {},
   "source": [
    "3. Is python case sensitive when dealing with identifiers?\n",
    "\n",
    "    Ans:--> Yes\n",
    "    \n",
    "    "
   ]
  },
  {
   "cell_type": "markdown",
   "id": "76391d21-6edc-43c8-9515-e3fdb2b2df0c",
   "metadata": {},
   "source": [
    "4. What is correct extension of the python file?\n",
    "\n",
    "    Ans:--> .py’ is the correct extension of the Python file."
   ]
  },
  {
   "cell_type": "markdown",
   "id": "a6a556c7-5a6b-4536-9551-ca500dab4e4d",
   "metadata": {
    "tags": []
   },
   "source": [
    "5. Is python code compile or interpreted?\n",
    "\n",
    "    Ans:-->  Python code is both compiled and interpreted"
   ]
  },
  {
   "cell_type": "markdown",
   "id": "c9422a5d-d636-4fa3-b05d-5c8330e36ada",
   "metadata": {},
   "source": [
    "6. Name a few blocks of code used to define in python language?\n",
    "\n",
    "    Ans:--> 1. In Python, to define a block of code we use indentation.\n",
    "    \n",
    "        Indentation refers to whitespaces at the beginning of the line."
   ]
  },
  {
   "cell_type": "markdown",
   "id": "f0469c30-4a0b-4e3d-9c2a-d69815f5dd25",
   "metadata": {},
   "source": [
    "7. Sate a charecter used to give singal line comments in python language?\n",
    "\n",
    "    Ans:--> To write single-line comments in Python use the Hash character which called pound sign or number sign (#) at the beginning of the line.\n",
    "    "
   ]
  },
  {
   "cell_type": "markdown",
   "id": "fb1e8c86-30f8-4dba-98d0-8098bb9a1cb6",
   "metadata": {},
   "source": [
    "8. mention functions which can help us to find the version of python that we are currently working on?\n",
    "\n",
    "    Ans:--> sys.version"
   ]
  },
  {
   "cell_type": "markdown",
   "id": "787a2a37-33b6-4cc1-a894-3636f14779f3",
   "metadata": {},
   "source": [
    "9. Python supports the creation of anonymous functions at runtime, using a construct called ___________\n",
    "\n",
    "    Ans:-->   lambda"
   ]
  },
  {
   "cell_type": "markdown",
   "id": "b8da423d-284c-4798-8f34-c46458904767",
   "metadata": {},
   "source": [
    "10. What dose pip stand for python?\n",
    "\n",
    "    Ans:-->  Preferred Installer Program"
   ]
  },
  {
   "cell_type": "markdown",
   "id": "643ef6fe-27df-42d4-9c63-15d11db23d4b",
   "metadata": {},
   "source": [
    "11. Mention a few built in functions in python?\n",
    "\n",
    "Ans:--> \n"
   ]
  },
  {
   "cell_type": "markdown",
   "id": "86b515e2-b9b4-48b0-bc6f-e46bb2d4fc01",
   "metadata": {
    "tags": []
   },
   "source": [
    "|built in Function|\tDescription|\n",
    "|:-:|:-:|\n",
    "|print( ) | Prints to the standard output device |\n",
    "|type( ) |  Returns the type of an object |\n",
    "|input( ) |\tAllowing user input | \n",
    "|abs( ) |Returns the absolute value of a number  |\n",
    "|pow( ) |  Returns the value of x to the power of y |\n",
    "|dir( )| Returns a list of the specified objects properties and methods  |\n",
    "|sorted( ) | Returns a sorted list |  \n",
    "|max( ) | Returns the largest item in an iterable |\n",
    "|round( ) |Rounds a numbers  |\n",
    "|bool()|  Returns the boolean value of the specified object |\n",
    "|id( ) | Returns the id of an object |\n",
    "|float() | Returns a floating point number |\n",
    "|len( ) |Returns the length of an object  |\n",
    "|sum( ) | Sums the items of an iterator |\n",
    "|help( )| Executes the built-in help system |"
   ]
  },
  {
   "cell_type": "markdown",
   "id": "fc767fec-b46b-410e-a765-11c085efe53e",
   "metadata": {},
   "source": [
    "12. what is the maximum possible length of an identifier in python?\n",
    "\n",
    "    Ans:-->  Identifiers can be of any length"
   ]
  },
  {
   "cell_type": "markdown",
   "id": "93f8fe33-ed7c-4640-8859-0200a02d4f8b",
   "metadata": {},
   "source": [
    "13. What are the the benifits of using python?\n",
    "\n",
    "    Ans:-->\n",
    "    \n",
    "         1. Easy-to-learn and Easy-to-use\n",
    "         2. Improves Productivity\n",
    "         3. Interpreted Language\n",
    "         4. Easily Portable\n",
    "         5. Massive Libraries (NumPy for numerical calculations, Pandas for data analytics, etc.) \n",
    "         6. Easy-to-integrate with Other Programming Languages\n",
    "         7. Open-source\n",
    "         8. Portable across Operating systems\n",
    "         9. Object-Oriented and Procedural  Programming language\n",
    "         \n",
    "    "
   ]
  },
  {
   "cell_type": "markdown",
   "id": "2186427e-6685-4036-bbf7-1efab7281e67",
   "metadata": {},
   "source": [
    "14. How is memory managed in python?\n",
    "    \n",
    "    Ans:-->\n",
    "Memory management is the process by which applications read and write data.\n",
    "\n",
    "There are two parts of memory allocation in Python:\n",
    "\n",
    "    1. stack memory: The methods/method calls and the references are stored in stack memory \n",
    "    2. heap memory: all the values objects are stored in a private heap."
   ]
  },
  {
   "cell_type": "markdown",
   "id": "c29bc4b5-5a2a-40f9-91d1-0edb510d844a",
   "metadata": {},
   "source": [
    "15. How to install  python on Windows and set path variables?\n",
    "\n",
    "    Ans:-->\n",
    "    1. Install python from this link https://www.python.org/downloads/\n",
    "    \n",
    "    2. After this, install it on your PC. Look for the location where PYTHON has been installed on your PC using tge following command on your command prompt: cmd python.\n",
    "    \n",
    "    3. Then go to advanced system settings and add new variable and name it as PYTHON_NAME and paste the copied path.\n",
    "    \n",
    "    4. Then look for the path variable, select it's value and select edit\n",
    "    \n",
    "    5. Add a semicolon towards the end of the value if it's not present and then type %PYTHON_HOME%"
   ]
  },
  {
   "cell_type": "markdown",
   "id": "414045be-70e7-47f3-ab9f-3df824058d1b",
   "metadata": {},
   "source": [
    "16. Is indentation required in python?\n",
    "\n",
    "    Ans:-->  Yes is very important."
   ]
  }
 ],
 "metadata": {
  "kernelspec": {
   "display_name": "Python 3 (ipykernel)",
   "language": "python",
   "name": "python3"
  },
  "language_info": {
   "codemirror_mode": {
    "name": "ipython",
    "version": 3
   },
   "file_extension": ".py",
   "mimetype": "text/x-python",
   "name": "python",
   "nbconvert_exporter": "python",
   "pygments_lexer": "ipython3",
   "version": "3.11.1"
  }
 },
 "nbformat": 4,
 "nbformat_minor": 5
}
