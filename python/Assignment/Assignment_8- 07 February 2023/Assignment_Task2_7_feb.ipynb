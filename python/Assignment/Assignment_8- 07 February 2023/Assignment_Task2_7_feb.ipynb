{
 "cells": [
  {
   "cell_type": "markdown",
   "id": "13ed8147-8f7e-403e-b3ff-c24534b9a867",
   "metadata": {},
   "source": [
    "Q1. You are writing code for a company. The requirement of the company is that you create a python\n",
    "function that will check whether the password entered by the user is correct or not. The function should\n",
    "take the password as input and return the string “Valid Password” if the entered password follows the\n",
    "below-given password guidelines else it should return “Invalid Password”.\n",
    "Note: \n",
    "1. The Password should contain at least two uppercase letters and at least two lowercase letters.\n",
    "2. The Password should contain at least a number and three special characters.\n",
    "3. The length of the password should be 10 characters long.\n"
   ]
  },
  {
   "cell_type": "code",
   "execution_count": 10,
   "id": "9ef62d8f-4330-492b-962f-42cb00f5d62a",
   "metadata": {
    "tags": []
   },
   "outputs": [
    {
     "name": "stdin",
     "output_type": "stream",
     "text": [
      "enter password dfgf4354$$7AKH\n",
      "Invalid Password. Please enter right password DFRasd1@#$\n"
     ]
    },
    {
     "name": "stdout",
     "output_type": "stream",
     "text": [
      "valid Password\n"
     ]
    }
   ],
   "source": [
    "def user_password(ps):\n",
    "    #print(ps.isupper(), '\\t', ps.islower(), '\\t', len(ps)) \n",
    "    if len(ps)!=10 or ps.isalnum()==True or ps.isupper()==True or ps.islower()==True:\n",
    "        return user_password(input('Invalid Password. Please enter right password')) # it will check up to correct password \n",
    "        #return 'Invalid Password'\n",
    "    else:\n",
    "        spc=len(list(filter(lambda x : not x.isalnum(),ps)))\n",
    "        up=len(list(filter(lambda x : x.isupper(),ps)))\n",
    "        lc=len(list(filter(lambda x : x.islower(),ps)))\n",
    "        num=len(list(filter(lambda x : x.isnumeric(),ps)))\n",
    "        if up>=2 and lc>=2 and num>=1 and spc>=3:\n",
    "             return 'valid Password'  \n",
    "        else:\n",
    "            return 'Invalid Password'\n",
    "        \n",
    "Enter_pass=(input('enter password'))\n",
    "print(user_password(Enter_pass))"
   ]
  },
  {
   "cell_type": "code",
   "execution_count": 9,
   "id": "444e9fdb-cbd6-49be-8ad9-398333b58e1e",
   "metadata": {},
   "outputs": [
    {
     "name": "stdin",
     "output_type": "stream",
     "text": [
      "enter password hvfhgvuzshgvoihsgi\n",
      "Invalid Password. Please enter right password ASDghd2#$*\n"
     ]
    },
    {
     "name": "stdout",
     "output_type": "stream",
     "text": [
      "valid Password\n"
     ]
    }
   ],
   "source": [
    "def user_password(ps):\n",
    "    #print(ps.isupper(), '\\t', ps.islower(), '\\t', len(ps)) \n",
    "    if len(ps)!=10 or ps.isalnum()==True or ps.isupper()==True or ps.islower()==True:\n",
    "        return user_password(input('Invalid Password. Please enter right password'))\n",
    "        #return 'Invalid Password'\n",
    "    else:\n",
    "        spacial_case='[@_!#$%^&*()<>?/\\|}{~:] '\n",
    "        spc=0\n",
    "        up=0\n",
    "        lc=0\n",
    "        num=0\n",
    "        for i in ps:\n",
    "            if i in spacial_case:\n",
    "                spc+=1\n",
    "            elif i.isupper():\n",
    "                up+=1 \n",
    "            elif i.islower():\n",
    "                lc+=1\n",
    "            elif i.isnumeric():\n",
    "                num+=1\n",
    "        if up>=2 and lc>=2 and num>=1 and spc>=3:\n",
    "             return 'valid Password'  \n",
    "        else:\n",
    "            return 'Invalid Password'\n",
    "        \n",
    "Enter_pass=(input('enter password'))\n",
    "print(user_password(Enter_pass))"
   ]
  },
  {
   "cell_type": "markdown",
   "id": "97be8439-e553-49de-a685-41d57d9506f3",
   "metadata": {},
   "source": [
    "Q2. Solve the below-given questions using at least one of the following:\n",
    "\n",
    "Lambda function / Filter function/ map function / List Comprehension\n",
    "\n",
    "1. Check if the string starts with a particular letter.\n",
    "2. Check if the string is numeric.\n",
    "3. Sort a list of tuples having fruit names and their quantity. \n",
    "[(\"mango\",99),(\"orange\",80), (\"grapes\", 1000)]\n",
    "4. Find the squares of numbers from 1 to 10.\n",
    "5. Find the cube root of numbers from 1 to 10.\n",
    "6. Check if a given number is even.\n",
    "7. Filter odd numbers from the given list.\n",
    "[1,2,3,4,5,6,7,8,9,10]\n",
    "8. B Sort a list of integers into positive and negative integers lists.\n",
    "[1,2,3,4,5,6,-1,-2,-3,-4,-5,0]"
   ]
  },
  {
   "cell_type": "markdown",
   "id": "489cf4fd-05a1-4a83-891a-6e20caeb7e8f",
   "metadata": {},
   "source": [
    "# 1. Check if the string starts with a particular letter."
   ]
  },
  {
   "cell_type": "code",
   "execution_count": 12,
   "id": "8372c1a7-dc2f-4311-a274-7d1aa5060f54",
   "metadata": {},
   "outputs": [
    {
     "name": "stdin",
     "output_type": "stream",
     "text": [
      "given string =  I am good\n",
      "a perticular latter =  i\n"
     ]
    },
    {
     "data": {
      "text/plain": [
       "('yes the string starts with a particular letter', 'i')"
      ]
     },
     "execution_count": 12,
     "metadata": {},
     "output_type": "execute_result"
    }
   ],
   "source": [
    "# programm with defination\n",
    "\n",
    "def Is_particular_letter(given_string, enter_latter ):\n",
    "    if given_string.startswith(enter_latter.upper()) or given_string.startswith(enter_latter.lower()):\n",
    "        return 'yes the string starts with a particular letter', enter_latter\n",
    "    else:\n",
    "        return 'The string not starts with a particular letter', enter_latter \n",
    "\n",
    "given_str=str(input('given string = '))\n",
    "enter_lat=str(input('a perticular latter = '))\n",
    "Is_particular_letter(given_str, enter_lat)"
   ]
  },
  {
   "cell_type": "code",
   "execution_count": 13,
   "id": "ae6c0a9c-240a-41e9-9846-3945bd32669e",
   "metadata": {
    "tags": []
   },
   "outputs": [
    {
     "name": "stdin",
     "output_type": "stream",
     "text": [
      "given string =  I am good\n",
      "a perticular latter =  s\n"
     ]
    },
    {
     "name": "stdout",
     "output_type": "stream",
     "text": [
      "The string not starts with a particular letter s\n"
     ]
    }
   ],
   "source": [
    "# programm with if else condition\n",
    "\n",
    "given_string=str(input('given string = '))\n",
    "enter_latter=str(input('a perticular latter = '))\n",
    "\n",
    "if given_string.startswith(enter_latter.upper()) or given_string.startswith(enter_latter.lower()):\n",
    "    print('yes the string starts with a particular letter', enter_latter)\n",
    "else:\n",
    "    print('The string not starts with a particular letter', enter_latter )"
   ]
  },
  {
   "cell_type": "code",
   "execution_count": 14,
   "id": "bb5a5373-a1c5-4941-84d1-be128372c54e",
   "metadata": {
    "tags": []
   },
   "outputs": [
    {
     "name": "stdin",
     "output_type": "stream",
     "text": [
      "given stringv =  I am good\n",
      " a perticular latter =  i\n"
     ]
    },
    {
     "name": "stdout",
     "output_type": "stream",
     "text": [
      "The given string starts with a particular letter =  True\n"
     ]
    }
   ],
   "source": [
    "# programm with Lambda function\n",
    "\n",
    "condition=lambda x,y: x.startswith(y.upper()) or  x.startswith(y.lower())\n",
    "string=str(input('given stringv = '))\n",
    "latter=str(input(' a perticular latter = '))\n",
    "print('The given string starts with a particular letter = ',condition(string, latter))"
   ]
  },
  {
   "cell_type": "markdown",
   "id": "49b62235-749b-4199-a767-72e7a8bd3c96",
   "metadata": {
    "tags": []
   },
   "source": [
    "# 2. Check if the string is numeric. "
   ]
  },
  {
   "cell_type": "code",
   "execution_count": 5,
   "id": "5023bfa0-9331-4bbe-b98a-662508bdcbab",
   "metadata": {
    "tags": []
   },
   "outputs": [
    {
     "name": "stdin",
     "output_type": "stream",
     "text": [
      "enter string =  +11225\n"
     ]
    },
    {
     "name": "stdout",
     "output_type": "stream",
     "text": [
      "string is not numeric\n"
     ]
    }
   ],
   "source": [
    "def Is_numeric(given_string):\n",
    "    if not given_string.isnumeric():\n",
    "        return 'string is not numeric'\n",
    "    else:\n",
    "        return 'string is numeric'\n",
    "\n",
    "print(Is_numeric(input('enter string = ')))"
   ]
  },
  {
   "cell_type": "markdown",
   "id": "1466f141-02ac-4eb4-ab3f-12582c5186d3",
   "metadata": {},
   "source": [
    "The question \"check if the input string is numeric\" in Python refers to checking if a given input string contains only numeric characters or not. A string is considered numeric if it contains only digits (0-9), optionally preceded by a plus (+) or minus (-) sign, and optionally including a decimal point (.) and/or exponent notation (e or E).\n",
    "\n",
    "For example, the strings \"123\", \"+45.67\", \"-0.123\" ,and \"6.022e23\" are numeric,\n",
    "\n",
    "while the strings \"abc\", \"12.3.4\", \"+-23\", and \"3e2.3\" are not.\n",
    "\n",
    "[\"123\", \"+45.67\", \"-0.123\", \"6.022e23\", \"abc\", \"12.3.4\", \"+-23\"]"
   ]
  },
  {
   "cell_type": "code",
   "execution_count": 18,
   "id": "da4ea77b-5c81-4a4d-b9a1-a86bd5c9f1be",
   "metadata": {
    "tags": []
   },
   "outputs": [
    {
     "name": "stdout",
     "output_type": "stream",
     "text": [
      "['123', '+45.67', '-0.123', '3e-2.3', '6.022e23', '+45']\n"
     ]
    }
   ],
   "source": [
    "# programm with Lambda function\n",
    "\n",
    "Is_string_or_numeric=[\"123\", \"+45.67\", \"-0.123\",  \"3e-2.3\", \"6.022e23\", \"abc\", \"12.3.4\", \"+-23\", \"-+99\" ,\"4-5\",\"4+6\",\"4ee4\",\"4e4e5\",  \"+45\"]\n",
    "\n",
    "is_number=list(filter(lambda x: x.isdigit() or (x[0]=='+' and x[1:].isdigit()) or (x[0]=='-' and x[1:].isdigit()or x.count('.')==1), Is_string_or_numeric))\n",
    "\n",
    "print(is_number)\n"
   ]
  },
  {
   "cell_type": "markdown",
   "id": "adeed72d-d603-4929-acf5-a3ea587022ed",
   "metadata": {
    "tags": []
   },
   "source": [
    "# 3. Sort a list of tuples having fruit names and their quantity. [(\"mango\",99),(\"orange\",80), (\"grapes\", 1000)]"
   ]
  },
  {
   "cell_type": "code",
   "execution_count": 19,
   "id": "b2e4cfb6-5a90-491e-8459-caa736587ad6",
   "metadata": {
    "tags": []
   },
   "outputs": [
    {
     "name": "stdout",
     "output_type": "stream",
     "text": [
      "[('grapes', 1000), ('mango', 99), ('orange', 80)]\n"
     ]
    }
   ],
   "source": [
    "def Sort_a_list(given_list):\n",
    "    given_list.sort()\n",
    "    return given_list\n",
    "          \n",
    "print(Sort_a_list([(\"mango\",99),(\"orange\",80), (\"grapes\", 1000)]))"
   ]
  },
  {
   "cell_type": "code",
   "execution_count": 20,
   "id": "021c7679-e439-4fa8-bb4e-bd74a666d7d8",
   "metadata": {
    "tags": []
   },
   "outputs": [
    {
     "name": "stdout",
     "output_type": "stream",
     "text": [
      "sort tuples by the 1st Item. = \n",
      " [('grapes', 1000), ('mango', 99), ('orange', 80)]\n"
     ]
    }
   ],
   "source": [
    "# programm with Lambda function\n",
    "\n",
    "s1=[(\"mango\",99),(\"orange\",80), (\"grapes\", 1000)]\n",
    "s1.sort(key= lambda x:x[0])\n",
    "print('sort tuples by the 1st Item. = \\n',s1)"
   ]
  },
  {
   "cell_type": "code",
   "execution_count": 21,
   "id": "c4b99711-adeb-4fa9-a35e-f2c59c59092a",
   "metadata": {
    "tags": []
   },
   "outputs": [
    {
     "name": "stdout",
     "output_type": "stream",
     "text": [
      " sort tuples by the second Item. = \n",
      " [('orange', 80), ('mango', 99), ('grapes', 1000)]\n"
     ]
    }
   ],
   "source": [
    "# programm with Lambda function\n",
    "\n",
    "s2=[(\"mango\",99),(\"orange\",80), (\"grapes\", 1000)]\n",
    "s2.sort(key= lambda x:x[1])\n",
    "print(' sort tuples by the second Item. = \\n',  s2)"
   ]
  },
  {
   "cell_type": "markdown",
   "id": "970a1f2b-8f90-43dd-9775-0f87ab861aed",
   "metadata": {},
   "source": [
    "# 4. Find the squares of numbers from 1 to 10."
   ]
  },
  {
   "cell_type": "code",
   "execution_count": 22,
   "id": "52c19a59-2857-4a52-9893-44b0f6977122",
   "metadata": {
    "tags": []
   },
   "outputs": [
    {
     "name": "stdout",
     "output_type": "stream",
     "text": [
      "\n",
      "The squares of numbers from 1 to 10===>\n",
      "\n",
      "Using List Comprehension =  [1, 4, 9, 16, 25, 36, 49, 64, 81, 100] \n",
      "\n",
      "Using map and lambada function =  [1, 4, 9, 16, 25, 36, 49, 64, 81, 100] \n",
      "\n",
      "Using defination =  [1, 4, 9, 16, 25, 36, 49, 64, 81, 100]\n"
     ]
    }
   ],
   "source": [
    "print('\\nThe squares of numbers from 1 to 10===>\\n')\n",
    "\n",
    "print('Using List Comprehension = ',[i**2 for i in range (1, 10+1)],'\\n')  # List Comprehension best method\n",
    "\n",
    "print('Using map and lambada function = ', list(map(lambda x: x**2, [i for i in range (1,11)])),'\\n') # map and lambda function\n",
    "\n",
    "def squares_of_numbers(ginen_no):\n",
    "    sq_no=[]\n",
    "    for i in range(1,11):\n",
    "        sq_no.append(i**2)\n",
    "    return sq_no\n",
    "print('Using defination = ', squares_of_numbers(11))  "
   ]
  },
  {
   "cell_type": "markdown",
   "id": "13e235cc-689b-49bb-81fe-1be47b4e8e84",
   "metadata": {
    "tags": []
   },
   "source": [
    "# 5. Find the cube root of numbers from 1 to 10."
   ]
  },
  {
   "cell_type": "code",
   "execution_count": 23,
   "id": "041e66fb-4948-4aa8-98d2-0dd53160d8a6",
   "metadata": {
    "tags": []
   },
   "outputs": [
    {
     "name": "stdout",
     "output_type": "stream",
     "text": [
      "cube root of numbers from 1 to 10 Using List Comprehension = \n",
      " \n"
     ]
    },
    {
     "data": {
      "text/plain": [
       "[1.0,\n",
       " 1.2599210498948732,\n",
       " 1.4422495703074083,\n",
       " 1.5874010519681994,\n",
       " 1.7099759466766968,\n",
       " 1.8171205928321397,\n",
       " 1.912931182772389,\n",
       " 2.0,\n",
       " 2.080083823051904,\n",
       " 2.154434690031884]"
      ]
     },
     "execution_count": 23,
     "metadata": {},
     "output_type": "execute_result"
    }
   ],
   "source": [
    "# using List Comprehensio\n",
    "\n",
    "print('cube root of numbers from 1 to 10 Using List Comprehension = \\n ')\n",
    "\n",
    "[(i**(1/3)) for i in range (1, 10+1)]"
   ]
  },
  {
   "cell_type": "code",
   "execution_count": 24,
   "id": "e41bd82d-0e01-4d0f-bc4d-57723f924d1a",
   "metadata": {
    "tags": []
   },
   "outputs": [
    {
     "name": "stdout",
     "output_type": "stream",
     "text": [
      "cube root of numbers from 1 to 10 Using  map and lambada function =\n",
      " \n"
     ]
    },
    {
     "data": {
      "text/plain": [
       "[1.0,\n",
       " 1.2599210498948732,\n",
       " 1.4422495703074083,\n",
       " 1.5874010519681994,\n",
       " 1.7099759466766968,\n",
       " 1.8171205928321397,\n",
       " 1.912931182772389,\n",
       " 2.0,\n",
       " 2.080083823051904,\n",
       " 2.154434690031884]"
      ]
     },
     "execution_count": 24,
     "metadata": {},
     "output_type": "execute_result"
    }
   ],
   "source": [
    "# programm with Lambda function\n",
    "\n",
    "print('cube root of numbers from 1 to 10 Using  map and lambada function =\\n ')\n",
    "\n",
    "list(map(lambda x: (x**(1/3)), [i for i in range (1, 10+1)]))"
   ]
  },
  {
   "cell_type": "markdown",
   "id": "96b767d8-e3f7-4517-bf93-fb896a71849f",
   "metadata": {},
   "source": [
    "# 6. Check if a given number is even."
   ]
  },
  {
   "cell_type": "code",
   "execution_count": 25,
   "id": "bd4e06d8-c160-4cbd-ac16-dc928af342c0",
   "metadata": {},
   "outputs": [
    {
     "name": "stdout",
     "output_type": "stream",
     "text": [
      "Filter even numbers\n"
     ]
    },
    {
     "data": {
      "text/plain": [
       "[2, 4, 6, 8, 10]"
      ]
     },
     "execution_count": 25,
     "metadata": {},
     "output_type": "execute_result"
    }
   ],
   "source": [
    "# programm with Lambda function\n",
    "print('Filter even numbers')\n",
    "list(filter(lambda x : x%2==0, [1,2,3,4,5,6,7,8,9,10]))"
   ]
  },
  {
   "cell_type": "code",
   "execution_count": 26,
   "id": "b46dc65a-faef-4fdd-bd2f-2f2ea2ced87d",
   "metadata": {},
   "outputs": [
    {
     "name": "stdout",
     "output_type": "stream",
     "text": [
      "even no =  [2, 4, 6, 8, 10]\n"
     ]
    }
   ],
   "source": [
    "# using List Comprehensio\n",
    "\n",
    "print('even no = ', [i for i in range(1,10+1) if i%2==0])"
   ]
  },
  {
   "cell_type": "markdown",
   "id": "6c4c37e7-4635-4edc-99c5-ca7d3bff5729",
   "metadata": {},
   "source": [
    "# 7. Filter odd numbers from the given list. [1,2,3,4,5,6,7,8,9,10]"
   ]
  },
  {
   "cell_type": "code",
   "execution_count": 27,
   "id": "c42ddd03-d58e-4f19-b711-fa015d9b5c35",
   "metadata": {
    "tags": []
   },
   "outputs": [
    {
     "name": "stdout",
     "output_type": "stream",
     "text": [
      "Filter odd numbers\n"
     ]
    },
    {
     "data": {
      "text/plain": [
       "[1, 3, 5, 7, 9]"
      ]
     },
     "execution_count": 27,
     "metadata": {},
     "output_type": "execute_result"
    }
   ],
   "source": [
    "# using lambda and filter function\n",
    "print('Filter odd numbers')\n",
    "list(filter(lambda x : x%2!=0, [1,2,3,4,5,6,7,8,9,10]))"
   ]
  },
  {
   "cell_type": "code",
   "execution_count": 28,
   "id": "8af579f0-29f3-4fc7-abf5-bba548fb2e05",
   "metadata": {
    "tags": []
   },
   "outputs": [
    {
     "name": "stdout",
     "output_type": "stream",
     "text": [
      "odd numbers\n"
     ]
    },
    {
     "data": {
      "text/plain": [
       "[1, 3, 5, 7, 9]"
      ]
     },
     "execution_count": 28,
     "metadata": {},
     "output_type": "execute_result"
    }
   ],
   "source": [
    "# using List Comprehensio\n",
    "print('odd numbers')\n",
    "[i for i in range(1,11) if i%2!=0]"
   ]
  },
  {
   "cell_type": "markdown",
   "id": "ae766fea-edca-4294-bbda-eacf17739097",
   "metadata": {},
   "source": [
    "# 8. Sort a list of integers into positive and negative integers lists. [1,2,3,4,5,6,-1,-2,-3,-4,-5,0]"
   ]
  },
  {
   "cell_type": "code",
   "execution_count": 29,
   "id": "fe1a924b-7ae1-4c7e-9f98-c83073021969",
   "metadata": {},
   "outputs": [
    {
     "name": "stdout",
     "output_type": "stream",
     "text": [
      "list of positive integers \n",
      " [1, 2, 3, 4, 5, 6]\n",
      "list of negative integers \n",
      " [-1, -2, -3, -4, -5]\n"
     ]
    }
   ],
   "source": [
    "# programm with Lambda function\n",
    "\n",
    "given_list1=[1,2,3,4,5,6,-1,-2,-3,-4,-5,0]\n",
    "print('list of positive integers \\n',list(filter(lambda x : x>0, given_list1)))\n",
    "print('list of negative integers \\n',list(filter(lambda x : x<0, given_list1)))"
   ]
  },
  {
   "cell_type": "code",
   "execution_count": 30,
   "id": "a6f4facc-3d36-4da3-8f84-54646d6085a4",
   "metadata": {},
   "outputs": [
    {
     "data": {
      "text/plain": [
       "'positive integers= [1, 2, 3, 4, 5, 6, 0], negative integers [-1, -2, -3, -4, -5]'"
      ]
     },
     "execution_count": 30,
     "metadata": {},
     "output_type": "execute_result"
    }
   ],
   "source": [
    "def positive_and_negative_integers_lists(given_list):\n",
    "    positive_integers=[]\n",
    "    negative_integers=[]\n",
    "    for i in given_list:\n",
    "        if i>=0:\n",
    "            positive_integers.append(i)\n",
    "        else:\n",
    "            negative_integers.append(i)\n",
    "    return f'positive integers= {positive_integers}, negative integers {negative_integers}'\n",
    "            \n",
    "            \n",
    "    \n",
    "given_list1=[1,2,3,4,5,6,-1,-2,-3,-4,-5, 0]\n",
    "positive_and_negative_integers_lists(given_list1)"
   ]
  },
  {
   "cell_type": "code",
   "execution_count": null,
   "id": "224a4dea-eebb-44df-b4f9-165d0cc3efe1",
   "metadata": {},
   "outputs": [],
   "source": []
  }
 ],
 "metadata": {
  "kernelspec": {
   "display_name": "Python 3 (ipykernel)",
   "language": "python",
   "name": "python3"
  },
  "language_info": {
   "codemirror_mode": {
    "name": "ipython",
    "version": 3
   },
   "file_extension": ".py",
   "mimetype": "text/x-python",
   "name": "python",
   "nbconvert_exporter": "python",
   "pygments_lexer": "ipython3",
   "version": "3.11.1"
  }
 },
 "nbformat": 4,
 "nbformat_minor": 5
}
