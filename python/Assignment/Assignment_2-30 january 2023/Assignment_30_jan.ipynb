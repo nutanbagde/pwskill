{
 "cells": [
  {
   "cell_type": "markdown",
   "id": "9d36a533-aedc-4be0-b479-70c7e661581f",
   "metadata": {},
   "source": [
    "1. Write a program to accept percentage from the user and display the grade according to the following criteria:"
   ]
  },
  {
   "cell_type": "markdown",
   "id": "3e2429fb-0e1e-45e3-ae73-de39a5e19c7f",
   "metadata": {},
   "source": [
    "|Marks|Grade|\n",
    "|:-:|:-:|\n",
    "|>90|A|\n",
    "|>80 and <=90|B|\n",
    "|>=60 and <=80|C|\n",
    "|below 60|D|"
   ]
  },
  {
   "cell_type": "code",
   "execution_count": 44,
   "id": "5f1a487b-9e8f-4e05-88e3-f6824c67c6d2",
   "metadata": {
    "tags": []
   },
   "outputs": [
    {
     "name": "stdin",
     "output_type": "stream",
     "text": [
      "Enter the marks of student=  85\n"
     ]
    },
    {
     "name": "stdout",
     "output_type": "stream",
     "text": [
      "Student pass with B Grade \n"
     ]
    }
   ],
   "source": [
    "marks=int(input(\"Enter the marks of student= \"))\n",
    "if marks>90:\n",
    "    print(\"Student pass with A Grade \")\n",
    "elif marks >80 and marks<=90:\n",
    "    print(\"Student pass with B Grade \")\n",
    "elif marks>=60 and marks<=80:\n",
    "    print(\"Student pass with C Grade \")\n",
    "else:\n",
    "    print(\"Student pass with D Grade \")"
   ]
  },
  {
   "cell_type": "markdown",
   "id": "1a904d17-c5d2-45dc-98c9-cf7ae7c74304",
   "metadata": {
    "tags": []
   },
   "source": [
    "2. White a program to accept the cost price of a bike and display the road tax to be paid \n",
    "   according to the following criteria:\n",
    "|Tax|Cost Price(in Rs)|\n",
    "|:-:|:-:|\n",
    "|15%|>100000|\n",
    "|10%|>50000 and <=100000|\n",
    "|5%|<=50000|"
   ]
  },
  {
   "cell_type": "code",
   "execution_count": 61,
   "id": "d981647f-79cf-4053-9bf8-632e8fb73f1e",
   "metadata": {
    "tags": []
   },
   "outputs": [
    {
     "name": "stdin",
     "output_type": "stream",
     "text": [
      "Enter the cost of Bike =  50000\n"
     ]
    },
    {
     "name": "stdout",
     "output_type": "stream",
     "text": [
      "Road tax will be = 2500.0\n"
     ]
    }
   ],
   "source": [
    "cost_prise=int(input(\"Enter the cost of Bike = \"))\n",
    "if cost_prise>100000:\n",
    "    tax= cost_prise*(15/100)\n",
    "    print(f\"Road tax will be = {tax}\")\n",
    "elif cost_prise>50000 and cost_prise<=100000:\n",
    "    tax= cost_prise*(10/100)\n",
    "    print(f\"Road tax will be = {tax}\")\n",
    "elif cost_prise<=50000:\n",
    "    tax= cost_prise*(5/100)\n",
    "    print(f\"Road tax will be = {tax}\") \n"
   ]
  },
  {
   "cell_type": "markdown",
   "id": "5b196523-f377-448c-84e6-eefdaa2e0bf6",
   "metadata": {},
   "source": [
    "3. Accept any city from the user and disply monuments of that city\n",
    "|city|  monuments |\n",
    "|:-:|:-:|\n",
    "|Delhi|Red Fort|\n",
    "|Agra|Taj Mahal|\n",
    "|Jaipur|Jal Mahal|\n"
   ]
  },
  {
   "cell_type": "code",
   "execution_count": 45,
   "id": "ff4529b0-6ada-46f8-a731-88b0a2466652",
   "metadata": {
    "tags": []
   },
   "outputs": [
    {
     "name": "stdout",
     "output_type": "stream",
     "text": [
      "Choose the City from following \n",
      "\tDelhi \n",
      "\tAgra \n",
      "\tJaipur\n"
     ]
    },
    {
     "name": "stdin",
     "output_type": "stream",
     "text": [
      "Enter the City =  agra\n"
     ]
    },
    {
     "name": "stdout",
     "output_type": "stream",
     "text": [
      "Monuments of that city is Taj Mahal\n"
     ]
    }
   ],
   "source": [
    "while True:   \n",
    "    print(\"Choose the City from following \\n\\tDelhi \\n\\tAgra \\n\\tJaipur\")\n",
    "    city_name=input(\"Enter the City = \")\n",
    "\n",
    "    if city_name==\"Delhi\" or city_name==\"delhi\":\n",
    "        print(\"Monuments of that city is Red Fort\")\n",
    "        break\n",
    "    elif city_name==\"Agra\" or city_name==\"agra\":\n",
    "        print(\"Monuments of that city is Taj Mahal\")\n",
    "        break\n",
    "    elif city_name==\"Jaipur\" or city_name==\"jaipur\":\n",
    "        print(\"Monuments of that city is Jal Mahal\")\n",
    "        break\n",
    "    else:\n",
    "        print(\" \\n please enter correct city\",)"
   ]
  },
  {
   "cell_type": "markdown",
   "id": "84bd4651-6fb9-40f3-b8f6-e95297478e10",
   "metadata": {},
   "source": [
    "4. Check how many times a given number can be divided by 3 before it is less than or equal to 10."
   ]
  },
  {
   "cell_type": "code",
   "execution_count": 59,
   "id": "53f60b91-45ec-4cbf-90b1-1af931d1f8b9",
   "metadata": {
    "tags": []
   },
   "outputs": [
    {
     "name": "stdin",
     "output_type": "stream",
     "text": [
      "Enter a number= 3000\n"
     ]
    },
    {
     "name": "stdout",
     "output_type": "stream",
     "text": [
      "Total iteration required 6\n"
     ]
    }
   ],
   "source": [
    "Given_num=int(input(\"Enter a number=\"))\n",
    "count=0\n",
    "while Given_num>10:\n",
    "    Given_num=Given_num/3\n",
    "    count+=1\n",
    "print('Total iteration required', count)"
   ]
  },
  {
   "cell_type": "markdown",
   "id": "135dd4f9-91e5-4df5-9401-90adb59dcda4",
   "metadata": {},
   "source": [
    "5. Why and when to use while loop in python give a detailed description with example.\n",
    "\n",
    "    In Python, The while loop statement repeatedly executes a code block while a particular condition is true. When the condition becomes false, execution comes out of the loop immediately, and the first statement after the while loop is executed.\n",
    "    "
   ]
  },
  {
   "cell_type": "code",
   "execution_count": 62,
   "id": "a950c7d1-407f-4664-9bd2-d9c743d23438",
   "metadata": {
    "tags": []
   },
   "outputs": [
    {
     "name": "stdout",
     "output_type": "stream",
     "text": [
      "1\n",
      "2\n",
      "3\n",
      "4\n"
     ]
    }
   ],
   "source": [
    "# Print numbers less than 5\n",
    "count=1\n",
    "while count<5:\n",
    "    print(count)\n",
    "    count+=1"
   ]
  },
  {
   "cell_type": "markdown",
   "id": "54c479ad-c020-4627-a3da-c6b12cf2375c",
   "metadata": {},
   "source": [
    "6. Use nested while loop to print 3 diffrent pattern"
   ]
  },
  {
   "cell_type": "code",
   "execution_count": 43,
   "id": "964765e6-c750-46a4-9198-74af3093d0b2",
   "metadata": {
    "tags": []
   },
   "outputs": [
    {
     "name": "stdout",
     "output_type": "stream",
     "text": [
      "        * \n",
      "       * * \n",
      "      * * * \n",
      "     * * * * \n",
      "    * * * * * \n",
      "   * * * * * * \n",
      "  * * * * * * * \n"
     ]
    }
   ],
   "source": [
    "i=1\n",
    "while i<8:\n",
    "    j=0\n",
    "    print((8-i)*' ', end=' ')\n",
    "    while j<i:\n",
    "        print('*', end=' ')\n",
    "        j+=1\n",
    "    print('')\n",
    "    i+=1"
   ]
  },
  {
   "cell_type": "code",
   "execution_count": 19,
   "id": "d0fbbf52-7ffe-409e-ae04-08414d6aec45",
   "metadata": {
    "tags": []
   },
   "outputs": [
    {
     "name": "stdout",
     "output_type": "stream",
     "text": [
      "* \n",
      "* * \n",
      "* * * \n",
      "* * * * \n",
      "* * * * * \n",
      "* * * * * * \n",
      "* * * * * * * \n"
     ]
    }
   ],
   "source": [
    "i=1\n",
    "while i<8:\n",
    "    j=0\n",
    "    while j<i:\n",
    "        print('*', end=' ')\n",
    "        j+=1\n",
    "    print('')\n",
    "    i+=1"
   ]
  },
  {
   "cell_type": "code",
   "execution_count": 5,
   "id": "c6613faa-f5d6-47d1-8ce4-72082092f054",
   "metadata": {
    "tags": []
   },
   "outputs": [
    {
     "name": "stdout",
     "output_type": "stream",
     "text": [
      "* * * * * * * *  \n",
      "* * * * * * *  \n",
      "* * * * * *  \n",
      "* * * * *  \n",
      "* * * *  \n",
      "* * *  \n",
      "* *  \n",
      "*  \n"
     ]
    }
   ],
   "source": [
    "i=8\n",
    "while i>0:\n",
    "    j=0\n",
    "    while j<i:\n",
    "        print('*', end=' ')\n",
    "        j+=1\n",
    "    print(' ')\n",
    "    i-=1"
   ]
  },
  {
   "cell_type": "code",
   "execution_count": 7,
   "id": "a634e379-e913-45ae-a39f-3ccb9179df54",
   "metadata": {
    "tags": []
   },
   "outputs": [
    {
     "name": "stdout",
     "output_type": "stream",
     "text": [
      "* * * * * * * *  \n",
      "* * * * * * * *  \n",
      "* * * * * * * *  \n",
      "* * * * * * * *  \n",
      "* * * * * * * *  \n",
      "* * * * * * * *  \n",
      "* * * * * * * *  \n",
      "* * * * * * * *  \n"
     ]
    }
   ],
   "source": [
    "i=0\n",
    "\n",
    "while i<8:\n",
    "    j=0\n",
    "    while j<8:\n",
    "        print('*', end=' ')\n",
    "        j+=1\n",
    "    print(' ')\n",
    "    i+=1"
   ]
  },
  {
   "cell_type": "markdown",
   "id": "bfd84483-7df0-4176-b8fe-fbe4aa106d28",
   "metadata": {
    "tags": []
   },
   "source": [
    "7. Reverse a while loop to display numbers from 10 to 1."
   ]
  },
  {
   "cell_type": "code",
   "execution_count": 6,
   "id": "497c9e09-b267-4741-93d7-56ef949b1f74",
   "metadata": {},
   "outputs": [
    {
     "name": "stdout",
     "output_type": "stream",
     "text": [
      "10 9 8 7 6 5 4 3 2 1 "
     ]
    }
   ],
   "source": [
    "i=10\n",
    "while i>=1:\n",
    "    print(i, end=' ')\n",
    "    i-=1"
   ]
  },
  {
   "cell_type": "markdown",
   "id": "7588a681-2f02-472a-86b2-8c19f78196a7",
   "metadata": {},
   "source": [
    "8. Reverse a while loop to display numbers from 10 to 1."
   ]
  },
  {
   "cell_type": "code",
   "execution_count": 8,
   "id": "988e0c0f-0e66-4d4e-8607-35392227294b",
   "metadata": {},
   "outputs": [
    {
     "name": "stdout",
     "output_type": "stream",
     "text": [
      "10\n",
      "9\n",
      "8\n",
      "7\n",
      "6\n",
      "5\n",
      "4\n",
      "3\n",
      "2\n",
      "1\n"
     ]
    }
   ],
   "source": [
    "i=10\n",
    "while i>=1:\n",
    "    print(i)\n",
    "    i-=1"
   ]
  },
  {
   "cell_type": "code",
   "execution_count": null,
   "id": "93aba1d9-79c1-4c56-aad5-3672cf9c46c4",
   "metadata": {},
   "outputs": [],
   "source": []
  },
  {
   "cell_type": "code",
   "execution_count": null,
   "id": "106e78fd-dbda-4de7-a47f-836ffbded1d5",
   "metadata": {},
   "outputs": [],
   "source": []
  },
  {
   "cell_type": "code",
   "execution_count": null,
   "id": "bc70f60a-9158-4a7a-a8a8-b90230f331e9",
   "metadata": {},
   "outputs": [],
   "source": []
  }
 ],
 "metadata": {
  "kernelspec": {
   "display_name": "Python 3 (ipykernel)",
   "language": "python",
   "name": "python3"
  },
  "language_info": {
   "codemirror_mode": {
    "name": "ipython",
    "version": 3
   },
   "file_extension": ".py",
   "mimetype": "text/x-python",
   "name": "python",
   "nbconvert_exporter": "python",
   "pygments_lexer": "ipython3",
   "version": "3.11.1"
  }
 },
 "nbformat": 4,
 "nbformat_minor": 5
}
