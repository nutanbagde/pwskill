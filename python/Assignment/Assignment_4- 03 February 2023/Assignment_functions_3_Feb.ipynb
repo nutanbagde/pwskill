{
 "cells": [
  {
   "cell_type": "markdown",
   "id": "065270d8-9b98-4df2-aa57-6eee63ccdbb7",
   "metadata": {
    "tags": []
   },
   "source": [
    "Q 1. Which keyword is used to create a function? Create a function to return a list of odd numbers in the\n",
    "range of 1 to 25.\n"
   ]
  },
  {
   "cell_type": "markdown",
   "id": "861127f6-1975-4f59-85ff-d2d330215f80",
   "metadata": {},
   "source": [
    "Ans:--\n",
    "\n",
    "Function blocks begin with the keyword def followed by the function name and parentheses ( ( ) ).\n",
    "\n",
    "Syntax:-->>\n",
    "\n",
    "def functionname( parameters ):\n",
    "\n",
    "       \"function_docstring\"\n",
    "   \n",
    "       function_suite\n",
    "   \n",
    "       return [expression]"
   ]
  },
  {
   "cell_type": "code",
   "execution_count": 34,
   "id": "347cb155-c296-4a9f-a014-c5a27eb03019",
   "metadata": {},
   "outputs": [
    {
     "name": "stdout",
     "output_type": "stream",
     "text": [
      "odd numbers=  [1, 3, 5, 7, 9, 11, 13, 15, 17, 19, 21, 23]\n",
      "<class 'list'>\n"
     ]
    }
   ],
   "source": [
    "def odd_number(input_no):\n",
    "    return [i for i in range(1, input_no) if i%2!=0]\n",
    "print('odd numbers= ', odd_number(25))\n",
    "print(type(odd_number(25)))"
   ]
  },
  {
   "cell_type": "code",
   "execution_count": null,
   "id": "03fb59b1-4d55-4dd0-9de5-cc229fe2c8f7",
   "metadata": {},
   "outputs": [],
   "source": []
  },
  {
   "cell_type": "markdown",
   "id": "81727af0-4eef-4243-b0f8-3b97b3e155b7",
   "metadata": {},
   "source": [
    "Q 2. Why *args and **kwargs is used in some functions? Create a function each for *args and **kwargs to\n",
    "demonstrate their use.\n"
   ]
  },
  {
   "cell_type": "markdown",
   "id": "d7d31eef-96ea-4d1a-859e-747cd3771d08",
   "metadata": {},
   "source": [
    "When we need to process a function for more arguments than we specified while defining the function. These arguments are called variable-length arguments and are not named in the function definition, unlike required and default arguments.\n",
    "\n",
    "1. *args (Non-Keyword Arguments)"
   ]
  },
  {
   "cell_type": "code",
   "execution_count": 35,
   "id": "156a08ba-9b05-4803-8b91-7efa118a3c65",
   "metadata": {},
   "outputs": [
    {
     "name": "stdout",
     "output_type": "stream",
     "text": [
      "Hello\n",
      "Welcome\n",
      "to\n",
      "Banglore\n"
     ]
    }
   ],
   "source": [
    "def myFun(*argv):\n",
    "    for arg in argv:\n",
    "        print(arg)\n",
    "  \n",
    "  \n",
    "myFun('Hello', 'Welcome', 'to', 'Banglore')"
   ]
  },
  {
   "cell_type": "markdown",
   "id": "72ee6b2d-0ab0-4d81-9d06-ead3cb813064",
   "metadata": {
    "tags": []
   },
   "source": [
    "2. **kwargs (Keyword Arguments)\n",
    "\n",
    "**kwargs will take any no. of input in form of key and value pair."
   ]
  },
  {
   "cell_type": "code",
   "execution_count": 36,
   "id": "115956d9-9b93-4304-b584-e91acd53dcd7",
   "metadata": {
    "tags": []
   },
   "outputs": [
    {
     "name": "stdout",
     "output_type": "stream",
     "text": [
      "a = Hello\n",
      "b = Welcome\n",
      "c = to\n",
      "d = Banglore\n"
     ]
    }
   ],
   "source": [
    "def myFun1(**kwargv):\n",
    "    for key, value in kwargv.items() :\n",
    "        print(key, '=', value)\n",
    "        \n",
    "myFun1(a='Hello', b='Welcome', c='to', d='Banglore')"
   ]
  },
  {
   "cell_type": "markdown",
   "id": "b85e118a-8f73-4f2f-887c-ade2c4f21fa1",
   "metadata": {},
   "source": [
    "Q 3. What is an iterator in python? Name the method used to initialise the iterator object and the method\n",
    "used for iteration. Use these methods to print the first five elements of the given list [2, 4, 6, 8, 10, 12, 14, 16,\n",
    "18, 20].\n"
   ]
  },
  {
   "cell_type": "markdown",
   "id": "408ead4f-705a-44f2-9c65-f5ba25b06b00",
   "metadata": {},
   "source": [
    "Iterator in Python is an object that is used to iterate over iterable objects like lists, tuples, dicts, and sets. The iterator object is initialized using the iter() method. It uses the next() method for iteration."
   ]
  },
  {
   "cell_type": "code",
   "execution_count": 37,
   "id": "1d96ce6e-3935-497d-88a2-03a02000b08d",
   "metadata": {},
   "outputs": [
    {
     "name": "stdout",
     "output_type": "stream",
     "text": [
      "2\n",
      "4\n",
      "6\n",
      "8\n",
      "10\n"
     ]
    }
   ],
   "source": [
    "list_number=[2, 4, 6, 8, 10, 12, 14, 16, 18, 20]\n",
    "to_iterate=iter(list_number)\n",
    "\n",
    "for i in range(5):\n",
    "    print(next(to_iterate))"
   ]
  },
  {
   "cell_type": "markdown",
   "id": "bd71ea3d-5035-4108-a811-12445d4d5b0e",
   "metadata": {},
   "source": [
    "Q 4. What is a generator function in python? Why yield keyword is used? Give an example of a generator\n",
    "function.\n"
   ]
  },
  {
   "cell_type": "markdown",
   "id": "7fc24c7a-cd9e-4300-8572-71931dc30167",
   "metadata": {},
   "source": [
    "Generator function :-->\n",
    "\n",
    "In Python, generator functions are those functions that, instead of returning a single value, return an iterable generator object. You can access or read the values returned from the generator function stored inside a generator object one-by-one using a simple loop or using next() or list() methods.\n",
    "\n",
    "yield :-->\n",
    "\n",
    "The Yield keyword in Python is similar to a return statement used for returning values or objects in Python. However, there is a slight difference. The yield statement returns a generator object to the one who calls the function which contains yield, instead of simply returning a value. "
   ]
  },
  {
   "cell_type": "code",
   "execution_count": 38,
   "id": "68f623bb-1d98-41a8-bd3c-6ceed14decfd",
   "metadata": {
    "tags": []
   },
   "outputs": [
    {
     "name": "stdout",
     "output_type": "stream",
     "text": [
      "<class 'generator'>\n",
      "Welcome\n",
      "to\n",
      "Bangalore\n"
     ]
    }
   ],
   "source": [
    "## Example of a generator function\n",
    "def generator():\n",
    "    yield \"Welcome\"\n",
    "    yield \"to\"\n",
    "    yield \"Bangalore\"\n",
    "\n",
    "gen_object = generator()\n",
    "\n",
    "print(type(gen_object))\n",
    "\n",
    "for i in gen_object:\n",
    "    print(i)"
   ]
  },
  {
   "cell_type": "markdown",
   "id": "16915755-ba86-4e7f-9068-168691d5c674",
   "metadata": {},
   "source": [
    "Q 5. Create a generator function for prime numbers less than 1000. Use the next() method to print the\n",
    "first 20 prime numbers.\n"
   ]
  },
  {
   "cell_type": "code",
   "execution_count": 39,
   "id": "fcd335a6-f5b2-473f-87ef-d3210fed5a58",
   "metadata": {},
   "outputs": [],
   "source": [
    "def primes(num):\n",
    "    if 2 <= num:\n",
    "        yield 2\n",
    "    for i in range(3, num + 1, 2):\n",
    "        if all(i % x != 0 for x in range(3, int((i**0.5) + 1))):\n",
    "            yield i"
   ]
  },
  {
   "cell_type": "code",
   "execution_count": 40,
   "id": "e5fc72d6-29ee-43e6-aee0-f4f950e754dd",
   "metadata": {
    "tags": []
   },
   "outputs": [
    {
     "name": "stdout",
     "output_type": "stream",
     "text": [
      "<generator object primes at 0x000001FA0E1E9580>\n"
     ]
    }
   ],
   "source": [
    "print(primes(10))"
   ]
  },
  {
   "cell_type": "code",
   "execution_count": 41,
   "id": "5b22a32d-3b74-47b3-b34a-b1a7e2cfa6bd",
   "metadata": {},
   "outputs": [
    {
     "name": "stdout",
     "output_type": "stream",
     "text": [
      "2\n",
      "3\n",
      "5\n",
      "7\n",
      "11\n",
      "13\n",
      "17\n",
      "19\n",
      "23\n",
      "29\n",
      "31\n",
      "37\n",
      "41\n",
      "43\n",
      "47\n",
      "53\n",
      "59\n",
      "61\n",
      "67\n",
      "71\n"
     ]
    }
   ],
   "source": [
    "b=primes(1000)\n",
    "for i in range(20):   \n",
    "  \n",
    "        print(next(b))\n",
    "     "
   ]
  },
  {
   "cell_type": "code",
   "execution_count": null,
   "id": "4efff040-e00f-4d74-87c3-abb9383ee539",
   "metadata": {},
   "outputs": [],
   "source": []
  }
 ],
 "metadata": {
  "kernelspec": {
   "display_name": "Python 3 (ipykernel)",
   "language": "python",
   "name": "python3"
  },
  "language_info": {
   "codemirror_mode": {
    "name": "ipython",
    "version": 3
   },
   "file_extension": ".py",
   "mimetype": "text/x-python",
   "name": "python",
   "nbconvert_exporter": "python",
   "pygments_lexer": "ipython3",
   "version": "3.11.1"
  }
 },
 "nbformat": 4,
 "nbformat_minor": 5
}
