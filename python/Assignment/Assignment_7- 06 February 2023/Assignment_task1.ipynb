{
 "cells": [
  {
   "cell_type": "markdown",
   "id": "5ed1125c-6d14-4df4-8ee2-6dd33643c683",
   "metadata": {
    "tags": []
   },
   "source": [
    "Q1. Create a function which will take a list as an argument and return the product of all the numbers\n",
    "after creating a flat list.\n",
    "Use the below-given list as an argument for your function.\n",
    "\n",
    "list1 = [1,2,3,4, [44,55,66, True], False, (34,56,78,89,34), {1,2,3,3,2,1}, {1:34, \"key2\": [55, 67, 78, 89], 4: (45,\n",
    "22, 61, 34)}, [56, 'data science'], 'Machine Learning']\n",
    "\n",
    "Note: you must extract numeric keys and values of the dictionary also.\n"
   ]
  },
  {
   "cell_type": "code",
   "execution_count": 2,
   "id": "f19a8e20-294b-4ed3-8d54-eef6def6ca44",
   "metadata": {},
   "outputs": [
    {
     "name": "stdout",
     "output_type": "stream",
     "text": [
      "original list = [1, 2, 3, 4, [44, 55, 66, True], False, (34, 56, 78, 89, 34), {1, 2, 3}, {1: 34, 'key2': [55, 67, 78, 89], 4: (45, 22, 61, 34)}, [56, 'data science'], 'Machine Learning'] \n",
      "\n",
      "flat list =  [1, 2, 3, 4, 44, 55, 66, 34, 56, 78, 89, 34, 1, 2, 3, 56, 1, 4, 34, 55, 67, 78, 89, 45, 22, 61, 34] \n",
      "\n",
      "product of all the num =  4134711838987085478833841242112000\n"
     ]
    }
   ],
   "source": [
    "# with def function\n",
    "\n",
    "from functools import reduce\n",
    "\n",
    "def product_of_all_the_numbers(mixed_list):\n",
    "    flat_list= [i for i in list1 if type(i)==int]+[x for i in list1 if type(i)==list or type(i)==tuple or type(i)==set for x in i if type(x)==int]+[key for i in list1 if type(i)==dict for key in i.keys() if type(key)==int ]+[val for i in list1 if type(i)==dict for val in i.values() if type(val)==int]+[v for i in list1 if type(i)==dict for val in i.values() if type(val)==list or type(val)==tuple for v in val]\n",
    "    print('flat list = ', flat_list, '\\n')\n",
    "    return reduce(lambda start,nexts: start*nexts, flat_list)\n",
    "\n",
    "list1 = [1,2,3,4, [44,55,66, True], False, (34,56,78,89,34), {1,2,3,3,2,1}, {1:34, \"key2\": [55, 67, 78, 89], 4: (45, 22, 61, 34)}, [56, 'data science'], 'Machine Learning']\n",
    "print('original list =',list1 , '\\n')\n",
    "print('product of all the num = ', product_of_all_the_numbers(list1))"
   ]
  },
  {
   "cell_type": "code",
   "execution_count": 3,
   "id": "be8c5270-0e4d-472f-9621-62ed193ea58f",
   "metadata": {},
   "outputs": [
    {
     "name": "stdout",
     "output_type": "stream",
     "text": [
      "original list =  [1, 2, 3, 4, [44, 55, 66, True], False, (34, 56, 78, 89, 34), {1, 2, 3}, {1: 34, 'key2': [55, 67, 78, 89], 4: (45, 22, 61, 34)}, [56, 'data science'], 'Machine Learning']\n",
      "\n",
      " flat list = [1, 2, 3, 4, 44, 55, 66, 34, 56, 78, 89, 34, 1, 2, 3, 1, 4, 34, 55, 67, 78, 89, 45, 22, 61, 34, 56]\n",
      "\n",
      " product of all integers = >  4134711838987085478833841242112000\n"
     ]
    }
   ],
   "source": [
    "# with for loop and if else\n",
    "\n",
    "list1 = [1,2,3,4, [44,55,66, True], False, (34,56,78,89,34), {1,2,3,3,2,1}, {1:34, \"key2\": [55, 67, 78, 89], 4: (45, 22, 61, 34)}, [56, 'data science'], 'Machine Learning']\n",
    "print('original list = ', list1)\n",
    "a=[]\n",
    "for i in list1:\n",
    "    if type(i)==int:\n",
    "        a.append(i)\n",
    "    elif type(i)==dict:\n",
    "        for key in i.keys():\n",
    "            if type(key)==int:\n",
    "                a.append(key)\n",
    "        for val in i.values():\n",
    "            if type(val)!=int:\n",
    "                for y in val:\n",
    "                    a.append(y)\n",
    "            else:\n",
    "                a.append(val)\n",
    "    elif type(i)==list or type(i)==tuple or type(i)==set:\n",
    "        for y in i:\n",
    "            if type(y)==int:\n",
    "                a.append(y)\n",
    "                             \n",
    "print('\\n flat list =' , a)  \n",
    "\n",
    "from functools import reduce\n",
    "print('\\n product of all integers = > ', reduce(lambda x,y:x*y,a))"
   ]
  },
  {
   "cell_type": "code",
   "execution_count": 4,
   "id": "4d91f677-e9c5-444f-b2a3-1c529b794553",
   "metadata": {},
   "outputs": [
    {
     "name": "stdout",
     "output_type": "stream",
     "text": [
      "original list =  [1, 2, 3, 4, [44, 55, 66, True], False, (34, 56, 78, 89, 34), {1, 2, 3}, {1: 34, 'key2': [55, 67, 78, 89], 4: (45, 22, 61, 34)}, [56, 'data science'], 'Machine Learning']\n",
      "\n",
      " flat list = [1, 2, 3, 4, 44, 55, 66, 34, 56, 78, 89, 34, 1, 2, 3, 56, 1, 4, 34, 55, 67, 78, 89, 45, 22, 61, 34]\n",
      "\n",
      " product of all integers = >  4134711838987085478833841242112000\n"
     ]
    }
   ],
   "source": [
    "# with list comprihension\n",
    "\n",
    "from functools import reduce\n",
    "\n",
    "list1 = [1,2,3,4, [44,55,66, True], False, (34,56,78,89,34), {1,2,3,3,2,1}, {1:34, \"key2\": [55, 67, 78, 89], 4: (45, 22, 61, 34)}, [56, 'data science'], 'Machine Learning']\n",
    "print('original list = ', list1)\n",
    "s=[i for i in list1 if type(i)==int]+[x for i in list1 if type(i)==list or type(i)==tuple or type(i)==set for x in i if type(x)==int]+[key for i in list1 if type(i)==dict for key in i.keys() if type(key)==int ]+[val for i in list1 if type(i)==dict for val in i.values() if type(val)==int]+[v for i in list1 if type(i)==dict for val in i.values() if type(val)==list or type(val)==tuple for v in val]\n",
    "print('\\n flat list =', s)\n",
    "print('\\n product of all integers = > ', reduce(lambda first, nexts: first*nexts, s))"
   ]
  },
  {
   "cell_type": "code",
   "execution_count": null,
   "id": "82961386-e2b5-4f86-b3ad-4b706824ff47",
   "metadata": {},
   "outputs": [],
   "source": []
  },
  {
   "cell_type": "markdown",
   "id": "570f7f51-1ed3-4eab-b13e-ec5e47bee803",
   "metadata": {},
   "source": [
    "Q2. Write a python program for encrypting a message sent to you by your friend. The logic of encryption should be such that, for a the output should be z. For b, the output should be y. For c, the output should be x respectively. Also, the whitespace should be replaced with a dollar sign. Keep the punctuation marks unchanged.\n",
    "\n",
    "Input Sentence: I want to become a Data Scientist.\n",
    "\n",
    "Encrypt the above input sentence using the program you just created.\n",
    "\n",
    "Note: Convert the given input sentence into lowercase before encrypting. The final output should be lowercase."
   ]
  },
  {
   "cell_type": "markdown",
   "id": "3bcb444e-330c-4712-93b3-70247264e7ca",
   "metadata": {},
   "source": [
    "# “a” has the ASCII value of 97, “b” has the value of 98 and so on till “z” having value as 122.  As there are 26 alphabets.\n",
    "# “A” starts with the value 65, “B” has the value of 66 and so on till “Z” having value as 90."
   ]
  },
  {
   "cell_type": "code",
   "execution_count": 6,
   "id": "b56a47e5-f123-4313-85a3-27a63e9f0712",
   "metadata": {},
   "outputs": [
    {
     "name": "stdout",
     "output_type": "stream",
     "text": [
      "Input sentence = I want to become a Data Scientist\n",
      "Encrypt the above input sentence =  r dzmg gl yvxlnv z wzgz hxrvmgrhg.\n",
      "Encrypt the above input sentence type =  <class 'str'>\n"
     ]
    }
   ],
   "source": [
    "def coded_string(ip):\n",
    "    alphabets='abcdefghigklmnopqrstuvwxyz'\n",
    "    revers_alphabets='abcdefghigklmnopqrstuvwxyz'[::-1] \n",
    "    coded=[]\n",
    "    for i in ip:\n",
    "        if i==' ' or i=='.':\n",
    "            coded.append(i)\n",
    "        else:\n",
    "            find_location_of_word=alphabets.find(i)                   #length==to find location of word\n",
    "            coded.append(revers_alphabets[find_location_of_word])\n",
    "    return coded\n",
    "Input_Sentence='I want to become a Data Scientist.'.lower()      # Convert the given input sentence into lowercase before encrypting.\n",
    "print('Input sentence = I want to become a Data Scientist'  )\n",
    "#print(coded_string(Input_Sentence))\n",
    "tomake=''   # empty string\n",
    "print('Encrypt the above input sentence = ',tomake.join(coded_string(Input_Sentence)))\n",
    "print('Encrypt the above input sentence type = ',type(tomake.join(coded_string(Input_Sentence))))"
   ]
  },
  {
   "cell_type": "code",
   "execution_count": null,
   "id": "b968dc04-f774-4cc2-880c-e6dffa43db7d",
   "metadata": {},
   "outputs": [],
   "source": []
  }
 ],
 "metadata": {
  "kernelspec": {
   "display_name": "Python 3 (ipykernel)",
   "language": "python",
   "name": "python3"
  },
  "language_info": {
   "codemirror_mode": {
    "name": "ipython",
    "version": 3
   },
   "file_extension": ".py",
   "mimetype": "text/x-python",
   "name": "python",
   "nbconvert_exporter": "python",
   "pygments_lexer": "ipython3",
   "version": "3.11.1"
  }
 },
 "nbformat": 4,
 "nbformat_minor": 5
}
