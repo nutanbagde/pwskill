{
 "cells": [
  {
   "cell_type": "markdown",
   "id": "be3047a3-2397-4d98-a875-6871c2a054cf",
   "metadata": {},
   "source": [
    "Q1. Create a vehicle class with an init method having instance variables as name_of_vehicle, max_speed\n",
    "and average_of_vehicle.\n"
   ]
  },
  {
   "cell_type": "code",
   "execution_count": 4,
   "id": "583c3349-87f9-48b7-8550-eab848c76fe2",
   "metadata": {
    "tags": []
   },
   "outputs": [],
   "source": [
    "class vehicle:\n",
    "    def __init__(self, name_of_vehicle, max_speed, average_of_vehicle):\n",
    "        self.name_of_vehicle=name_of_vehicle\n",
    "        self.max_speed=max_speed\n",
    "        self.average_of_vehicle=average_of_vehicle\n"
   ]
  },
  {
   "cell_type": "markdown",
   "id": "c934f2df-4b46-4696-b802-4900494d7f47",
   "metadata": {},
   "source": [
    "Q2. Create a child class car from the vehicle class created in Que 1, which will inherit the vehicle class.\n",
    "Create a method named seating_capacity which takes capacity as an argument and returns the name of\n",
    "the vehicle and its seating capacity.\n"
   ]
  },
  {
   "cell_type": "code",
   "execution_count": 5,
   "id": "4bc6e8ae-a8a0-40d3-84a5-b5a627bd23c9",
   "metadata": {
    "tags": []
   },
   "outputs": [
    {
     "name": "stdout",
     "output_type": "stream",
     "text": [
      "('nexon', 6)\n"
     ]
    }
   ],
   "source": [
    "class car(vehicle):\n",
    "    def seating_capacity(self, capacity):\n",
    "        #self.capacity=capacity\n",
    "        #return self.name_of_vehicle, self.capacity\n",
    "        return self.name_of_vehicle, capacity\n",
    "obje_car=car('nexon',120,80)\n",
    "print(obje_car.seating_capacity(6))\n",
    "    "
   ]
  },
  {
   "cell_type": "markdown",
   "id": "1f1c6117-ce4b-43da-9205-394026c267d0",
   "metadata": {},
   "source": [
    "Q3. What is multiple inheritance? Write a python code to demonstrate multiple inheritance.\n",
    "\n",
    "\n",
    "Multiple Inheritance :\n",
    "\n",
    "When a class is derived from more than one base class it is called multiple Inheritance. The derived class inherits all the features of the base case."
   ]
  },
  {
   "cell_type": "code",
   "execution_count": 6,
   "id": "d64f5f3a-3532-459a-b93e-c0195098ec1b",
   "metadata": {},
   "outputs": [
    {
     "name": "stdout",
     "output_type": "stream",
     "text": [
      "In Class2\n"
     ]
    }
   ],
   "source": [
    "class Class1:\n",
    "    def m(self):\n",
    "        print(\"In Class1\")\n",
    "       \n",
    "class Class2(Class1):\n",
    "    def m(self):\n",
    "        print(\"In Class2\")\n",
    " \n",
    "class Class3(Class1):\n",
    "    def m(self):\n",
    "        print(\"In Class3\") \n",
    "        \n",
    "class Class4(Class2, Class3):\n",
    "    pass  \n",
    "     \n",
    "obj = Class4()\n",
    "obj.m()"
   ]
  },
  {
   "cell_type": "markdown",
   "id": "48674101-04e5-461d-9ad5-2c874b68d485",
   "metadata": {},
   "source": [
    "Q4. What are getter and setter in python? Create a class and create a getter and a setter method in this\n",
    "class.\n"
   ]
  },
  {
   "cell_type": "markdown",
   "id": "97826681-38d6-41fd-bd04-7afd960c6887",
   "metadata": {},
   "source": [
    "Getter: A method that allows you to access an attribute in a given class. \n",
    "\n",
    "Setter: A method that allows you to set or mutate the value of an attribute in a class\n",
    "\n",
    "Main purpose of using getters and setters in object-oriented programs is to ensure data encapsulation."
   ]
  },
  {
   "cell_type": "code",
   "execution_count": 17,
   "id": "14607b48-94d4-4812-9584-47cc87eaa9fa",
   "metadata": {
    "tags": []
   },
   "outputs": [
    {
     "name": "stdout",
     "output_type": "stream",
     "text": [
      "Before using setter =  0\n",
      "After using setter = 230\n"
     ]
    }
   ],
   "source": [
    "class car:\n",
    "    # a constructor\n",
    "    def __init__(self, year , make, model, speed=0):\n",
    "        # Private variable\n",
    "        #(programer hiding entire variable from user)\n",
    "        \n",
    "        self.__year=year  \n",
    "        self.__make=make  \n",
    "        self.__model=model \n",
    "        self.__speed=speed\n",
    "        \n",
    "        # this is encapsulation method (of class variable) \n",
    "        # here programmer not giving acces to user.\n",
    "        \n",
    "    # setter method\n",
    "    def set_speed(self, speed): # programer giving acces to user (setter method)\n",
    "        self.__speed=0 if speed<0 else speed # here user can set the speed \n",
    "     # getter method   \n",
    "    def get_speed(self): # here user can get the speed \n",
    "        return self.__speed\n",
    "        \n",
    "obje_car=car(2021,'TATA','creata')\n",
    "print('Before using setter = ',obje_car._car__speed)\n",
    "\n",
    "obje_car.set_speed(230)\n",
    "print('After using setter =',obje_car.get_speed())"
   ]
  },
  {
   "cell_type": "markdown",
   "id": "d0e70179-3191-4db7-a721-8783be6c31b6",
   "metadata": {},
   "source": [
    "Q5.What is method overriding in python? Write a python code to demonstrate method overriding."
   ]
  },
  {
   "cell_type": "markdown",
   "id": "bca5a1e4-64e3-44cf-9a38-b000a20fdb19",
   "metadata": {},
   "source": [
    "Method Overriding in Python is an OOPs concept closely related to inheritance. When a child class method overrides(or, provides it's own implementation) the parent class method of the same name, parameters and return type, it is known as method overriding. In this case, the child class's method is called the overriding method and the parent class's method is called the overriden method.\n",
    "\n",
    "\n",
    "There are two prerequisite conditions for Method overriding:\n",
    "\n",
    "1. Inheritance should be present in the code, method overriding cannot be performed in the same class, and overriding can only be executed when a child class is derived through inheritance.\n",
    "\n",
    "2. The child class should have the same name and the same number of parameters as the parent class.\n",
    "\n"
   ]
  },
  {
   "cell_type": "code",
   "execution_count": 7,
   "id": "0db9d3cc-3876-4684-9561-71c7bbbbd236",
   "metadata": {},
   "outputs": [
    {
     "name": "stdout",
     "output_type": "stream",
     "text": [
      "I have to do my school work\n",
      "I have to do my office work\n"
     ]
    }
   ],
   "source": [
    "class parents:\n",
    "    def work(self):\n",
    "        print('I have to do my office work')\n",
    "class child(parents):\n",
    "    def work(self):\n",
    "        print('I have to do my school work')\n",
    "        \n",
    "r=child()\n",
    "r.work()\n",
    "\n",
    "r=parents()\n",
    "r.work()\n"
   ]
  },
  {
   "cell_type": "code",
   "execution_count": null,
   "id": "8aeeb88f-307b-4b78-ab77-f50cfa65d061",
   "metadata": {},
   "outputs": [],
   "source": []
  }
 ],
 "metadata": {
  "kernelspec": {
   "display_name": "Python 3 (ipykernel)",
   "language": "python",
   "name": "python3"
  },
  "language_info": {
   "codemirror_mode": {
    "name": "ipython",
    "version": 3
   },
   "file_extension": ".py",
   "mimetype": "text/x-python",
   "name": "python",
   "nbconvert_exporter": "python",
   "pygments_lexer": "ipython3",
   "version": "3.11.1"
  }
 },
 "nbformat": 4,
 "nbformat_minor": 5
}
