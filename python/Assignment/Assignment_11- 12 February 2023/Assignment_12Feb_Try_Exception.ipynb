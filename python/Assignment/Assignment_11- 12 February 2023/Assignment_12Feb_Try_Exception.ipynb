{
 "cells": [
  {
   "cell_type": "markdown",
   "id": "cb4b56fe-2449-4088-bf4c-5e9a6afaabb8",
   "metadata": {},
   "source": [
    "Q1. What is an Exception in python? Write the difference between Exceptions and syntax errors."
   ]
  },
  {
   "cell_type": "markdown",
   "id": "3ec86f3a-69d5-4381-9882-0ce63999bed7",
   "metadata": {},
   "source": [
    "Error in Python can be of two types i.e. Syntax errors and Exceptions.\n",
    "\n",
    "1. Syntax errors:- \n",
    "\n",
    "Errors are the problems in a program due to which the program will stop the execution.\n",
    "\n",
    "2.  Exceptions:- \n",
    "\n",
    "exceptions are raised when some internal events occur which changes the normal flow of the program.Exceptions are raised when the program is syntactically correct, but the code results in an error. This error does not stop the execution of the program, however, it changes the normal flow of the program"
   ]
  },
  {
   "cell_type": "markdown",
   "id": "a4a1c5b7-3b26-401b-90d3-c33c17c6b1ff",
   "metadata": {},
   "source": [
    "Q2. What happens when an exception is not handled? Explain with an example\n",
    "\n",
    "\n"
   ]
  },
  {
   "cell_type": "markdown",
   "id": "723170a4-6af2-4574-b1ba-37974cbebb9d",
   "metadata": {},
   "source": [
    "It’s important to handle exceptions properly in the code using try-except blocks or other error-handling techniques, in order to gracefully handle errors and prevent the program from crashing."
   ]
  },
  {
   "cell_type": "code",
   "execution_count": 2,
   "id": "4bad4926-c264-409d-9701-2eeaaa43a282",
   "metadata": {
    "tags": []
   },
   "outputs": [
    {
     "name": "stdout",
     "output_type": "stream",
     "text": [
      "TOTAL NO. of word in your name nutan =  \n",
      "5\n"
     ]
    }
   ],
   "source": [
    "# for example \n",
    "\n",
    "class User_name():\n",
    "    def __init__(self, user_name):\n",
    "        self.user_name=user_name\n",
    "        \n",
    "    def details(self):\n",
    "        print(f'TOTAL NO. of word in your name {self.user_name} =  ')\n",
    "        return len(self.user_name)\n",
    "    \n",
    "a=User_name('nutan')\n",
    "print(a.details())"
   ]
  },
  {
   "cell_type": "markdown",
   "id": "1655b117-0aed-4da2-9b09-aa187f4a7c2b",
   "metadata": {},
   "source": [
    "Q3. Which Python statements are used to catch and handle exceptions? Explain with example\n"
   ]
  },
  {
   "cell_type": "markdown",
   "id": "23fdfb91-4bfe-40fa-9a30-4644e74cbfd5",
   "metadata": {},
   "source": [
    "Try and except statements are used to catch and handle exceptions in Python. Statements that can raise exceptions are kept inside the try clause and the statements that handle the exception are written inside except clause."
   ]
  },
  {
   "cell_type": "code",
   "execution_count": 3,
   "id": "096cba5f-d707-458e-80f4-8fa4e4e7a66e",
   "metadata": {
    "tags": []
   },
   "outputs": [
    {
     "name": "stdout",
     "output_type": "stream",
     "text": [
      "Second element = 2\n",
      "An error occurred\n"
     ]
    }
   ],
   "source": [
    "\n",
    "# Python program to handle simple runtime error\n",
    "#Python 3\n",
    " \n",
    "a = [1, 2, 3]\n",
    "try:\n",
    "    print (\"Second element = %d\" %(a[1]))\n",
    " \n",
    "    # Throws error since there are only 3 elements in array\n",
    "    print (\"Fourth element = %d\" %(a[3]))\n",
    "except:\n",
    "    print (\"An error occurred\")"
   ]
  },
  {
   "cell_type": "markdown",
   "id": "e887bcde-98d1-459d-b3d0-816704cd790f",
   "metadata": {},
   "source": [
    "Q4. Explain with an example:\n",
    "1. try and else \n",
    "2. finally\n",
    "3. raise"
   ]
  },
  {
   "cell_type": "markdown",
   "id": "d671e482-2ab3-476d-95f2-4184994e293c",
   "metadata": {},
   "source": [
    "1. Try with Else Clause:-\n",
    "In Python, you can also use the else clause on the try-except block which must be present after all the except clauses. The code enters the else block only if the try clause does not raise an exception.\n",
    "\n",
    "Example: Try with else clause\n",
    "\n"
   ]
  },
  {
   "cell_type": "code",
   "execution_count": 4,
   "id": "9eabfa6f-38ed-43a4-a788-21f2e9402476",
   "metadata": {
    "tags": []
   },
   "outputs": [
    {
     "name": "stdout",
     "output_type": "stream",
     "text": [
      "(A+B)\\(A-B)=  -5.0\n",
      "a/b result in 0 \n",
      " error is float division by zero\n"
     ]
    }
   ],
   "source": [
    "# Function which returns a/b\n",
    "def AbyB(a , b):\n",
    "    try:\n",
    "        c = ((a+b) / (a-b))\n",
    "    #except ZeroDivisionError:\n",
    "        #print (\"a/b result in 0\")\n",
    "    except Exception as e:\n",
    "        print (\"a/b result in 0 \\n error is\", e)\n",
    "    else:\n",
    "        print ('(A+B)\\(A-B)= ',c)\n",
    "        \n",
    "# Driver program to test above function\n",
    "AbyB(2.0, 3.0)\n",
    "AbyB(3.0, 3.0)"
   ]
  },
  {
   "cell_type": "markdown",
   "id": "489d4c5d-0114-440c-914b-f685431854c5",
   "metadata": {},
   "source": [
    "2. Finally Keyword in Python\n",
    "Python provides a keyword finally, which is always executed after the try and except blocks. The final block always executes after the normal termination of the try block or after the try block terminates due to some exception.\n",
    "\n",
    "Syntax:\n",
    "\n",
    "try:\n",
    "\n",
    "    # Some Code.... \n",
    "\n",
    "except:\n",
    "\n",
    "\n",
    "    # optional block\n",
    "    # Handling of exception (if required)\n",
    "\n",
    "else:\n",
    "\n",
    "    # execute if no exception\n",
    "\n",
    "finally:\n",
    "\n",
    "    # Some code .....(always executed)"
   ]
  },
  {
   "cell_type": "code",
   "execution_count": 5,
   "id": "32befb3e-9c2e-448a-ab05-b8d6bf6f6e44",
   "metadata": {
    "tags": []
   },
   "outputs": [
    {
     "name": "stdout",
     "output_type": "stream",
     "text": [
      "Can't divide by zero\n",
      "This is always executed\n"
     ]
    }
   ],
   "source": [
    "\n",
    "# No exception Exception raised in try block\n",
    "try:\n",
    "    k = 5//0  # raises divide by zero exception.\n",
    "    print(k)\n",
    " # handles zerodivision exception\n",
    "except ZeroDivisionError:\n",
    "    print(\"Can't divide by zero\")\n",
    "finally:\n",
    "    # this block is always executed\n",
    "    # regardless of exception generation.\n",
    "    print('This is always executed')"
   ]
  },
  {
   "cell_type": "markdown",
   "id": "469415cd-4ec8-4c07-aecb-495db3c0dac1",
   "metadata": {},
   "source": [
    "3. Raising Exception:- \n",
    "\n",
    "The raise statement allows the programmer to force a specific exception to occur. The sole argument in raise indicates the exception to be raised. This must be either an exception instance or an exception class (a class that derives from Exception)."
   ]
  },
  {
   "cell_type": "code",
   "execution_count": 6,
   "id": "db2b8e28-1a76-4807-beb7-ecb14361f9c7",
   "metadata": {
    "tags": []
   },
   "outputs": [
    {
     "name": "stdout",
     "output_type": "stream",
     "text": [
      "An exception\n"
     ]
    },
    {
     "ename": "NameError",
     "evalue": "Hi there",
     "output_type": "error",
     "traceback": [
      "\u001b[1;31m---------------------------------------------------------------------------\u001b[0m",
      "\u001b[1;31mNameError\u001b[0m                                 Traceback (most recent call last)",
      "Cell \u001b[1;32mIn[6], line 2\u001b[0m\n\u001b[0;32m      1\u001b[0m \u001b[38;5;28;01mtry\u001b[39;00m:\n\u001b[1;32m----> 2\u001b[0m     \u001b[38;5;28;01mraise\u001b[39;00m \u001b[38;5;167;01mNameError\u001b[39;00m(\u001b[38;5;124m\"\u001b[39m\u001b[38;5;124mHi there\u001b[39m\u001b[38;5;124m\"\u001b[39m)   \u001b[38;5;66;03m# Raise Error\u001b[39;00m\n\u001b[0;32m      3\u001b[0m \u001b[38;5;28;01mexcept\u001b[39;00m \u001b[38;5;167;01mNameError\u001b[39;00m:\n\u001b[0;32m      4\u001b[0m     \u001b[38;5;28mprint\u001b[39m (\u001b[38;5;124m\"\u001b[39m\u001b[38;5;124mAn exception\u001b[39m\u001b[38;5;124m\"\u001b[39m)\n",
      "\u001b[1;31mNameError\u001b[0m: Hi there"
     ]
    }
   ],
   "source": [
    "\n",
    "try:\n",
    "    raise NameError(\"Hi there\")   # Raise Error\n",
    "except NameError:\n",
    "    print (\"An exception\")\n",
    "    raise  # To determine whether the exception was raised or not"
   ]
  },
  {
   "cell_type": "markdown",
   "id": "44cda280-90f5-40ec-a66c-c7515e44e116",
   "metadata": {},
   "source": [
    "Q5. What are custum Exeption in python ? what do we need Custom Exceptions? Explain with an example"
   ]
  },
  {
   "cell_type": "markdown",
   "id": "6db7d6f9-9678-4276-badc-a1c4d883d13d",
   "metadata": {},
   "source": [
    "Like standard exception classes, custom exceptions are also classes. Hence, you can add functionality to the custom exception classes like: Adding attributes and properties. Adding methods e.g., log the exception, format the output, etc.\n",
    "\n",
    "Having custom exceptions - tailored to your specific use cases and that you can raise and catch in specific circumstances - can make your code much more readable and robust, and reduce the amount of code you write later to try and figure out what exactly went wrong."
   ]
  },
  {
   "cell_type": "markdown",
   "id": "b23a9d04-854d-4f71-a721-0ea6a427500a",
   "metadata": {},
   "source": [
    "Q6. Create custom exception class. Use this class to handele an exceptin."
   ]
  },
  {
   "cell_type": "code",
   "execution_count": 8,
   "id": "541efae3-29dd-4e10-9d09-12c47824f260",
   "metadata": {},
   "outputs": [
    {
     "name": "stdin",
     "output_type": "stream",
     "text": [
      "Enter a temperature in Fahrenheit: 45\n"
     ]
    },
    {
     "name": "stdout",
     "output_type": "stream",
     "text": [
      "45.0 Fahrenheit = 7.2222 Celsius\n"
     ]
    }
   ],
   "source": [
    "class FahrenheitError(Exception):\n",
    "    min_f = 32\n",
    "    max_f = 212\n",
    "\n",
    "    def __init__(self, f, *args):\n",
    "        super().__init__(args)\n",
    "        self.f = f\n",
    "\n",
    "    def __str__(self):\n",
    "        return f'The {self.f} is not in a valid range {self.min_f, self.max_f}'\n",
    "\n",
    "\n",
    "def fahrenheit_to_celsius(f: float) -> float:\n",
    "    if f < FahrenheitError.min_f or f > FahrenheitError.max_f:\n",
    "        raise FahrenheitError(f)\n",
    "\n",
    "    return (f - 32) * 5 / 9\n",
    "\n",
    "\n",
    "if __name__ == '__main__':\n",
    "    f = input('Enter a temperature in Fahrenheit:')\n",
    "    try:\n",
    "        f = float(f)\n",
    "    except ValueError as ex:\n",
    "        print(ex)\n",
    "    else:\n",
    "        try:\n",
    "            c = fahrenheit_to_celsius(float(f))\n",
    "        except FahrenheitError as ex:\n",
    "            print(ex)\n",
    "        else:\n",
    "            print(f'{f} Fahrenheit = {c:.4f} Celsius')"
   ]
  }
 ],
 "metadata": {
  "kernelspec": {
   "display_name": "Python 3 (ipykernel)",
   "language": "python",
   "name": "python3"
  },
  "language_info": {
   "codemirror_mode": {
    "name": "ipython",
    "version": 3
   },
   "file_extension": ".py",
   "mimetype": "text/x-python",
   "name": "python",
   "nbconvert_exporter": "python",
   "pygments_lexer": "ipython3",
   "version": "3.11.1"
  }
 },
 "nbformat": 4,
 "nbformat_minor": 5
}
