{
 "cells": [
  {
   "cell_type": "markdown",
   "id": "c360cdba-343d-4f76-aed9-31c127b4291f",
   "metadata": {},
   "source": [
    "Q 1. Create a python program to sort the given list of tuples based on integer value using a\n",
    "lambda function.\n",
    "[('Sachin Tendulkar', 34357), ('Ricky Ponting', 27483), ('Jack Kallis', 25534), ('Virat Kohli', 24936)]\n"
   ]
  },
  {
   "cell_type": "code",
   "execution_count": 79,
   "id": "54e20665-c0b3-4be4-8379-ed848d3b49dc",
   "metadata": {
    "tags": []
   },
   "outputs": [
    {
     "name": "stdout",
     "output_type": "stream",
     "text": [
      "[('Virat Kohli', 24936), ('Jack Kallis', 25534), ('Ricky Ponting', 27483), ('Sachin Tendulkar', 34357)]\n"
     ]
    }
   ],
   "source": [
    "Given_list= [('Sachin Tendulkar', 34357), ('Ricky Ponting', 27483), ('Jack Kallis', 25534), ('Virat Kohli', 24936)]\n",
    "Given_list.sort(key=lambda x:x[1])\n",
    "print(Given_list)"
   ]
  },
  {
   "cell_type": "code",
   "execution_count": null,
   "id": "bf1db425-56e0-44a0-a9bb-0d6cbcdc105b",
   "metadata": {},
   "outputs": [],
   "source": []
  },
  {
   "cell_type": "markdown",
   "id": "6b6db4a9-791e-4687-8cbf-b17f6a849cd3",
   "metadata": {},
   "source": [
    "Q 2. Write a Python Program to find the squares of all the numbers in the given list of integers using\n",
    "lambda and map functions.\n",
    "[1, 2, 3, 4, 5, 6, 7, 8, 9, 10]\n"
   ]
  },
  {
   "cell_type": "code",
   "execution_count": 80,
   "id": "266ce804-c19b-4a9a-a9f9-fc4dfdc88282",
   "metadata": {
    "tags": []
   },
   "outputs": [
    {
     "name": "stdout",
     "output_type": "stream",
     "text": [
      "[1, 4, 9, 16, 25, 36, 49, 64, 81, 100]\n"
     ]
    }
   ],
   "source": [
    "Given_list= [1, 2, 3, 4, 5, 6, 7, 8, 9, 10]\n",
    "print(list(map(lambda x : x**2, Given_list)))"
   ]
  },
  {
   "cell_type": "code",
   "execution_count": null,
   "id": "40960ae9-e3c3-44f3-a195-ad6cb8f30d00",
   "metadata": {},
   "outputs": [],
   "source": []
  },
  {
   "cell_type": "markdown",
   "id": "558f0db2-af83-4261-8800-1ab5b5442963",
   "metadata": {},
   "source": [
    "Q 3. Write a python program to convert the given list of integers into a tuple of strings. Use map and\n",
    "lambda functions\n",
    "Given String: [1, 2, 3, 4, 5, 6, 7, 8, 9, 10]\n",
    "Expected output: ('1', '2', '3', '4', '5', '6', '7', '8', '9', '10')\n"
   ]
  },
  {
   "cell_type": "code",
   "execution_count": 81,
   "id": "72d54d42-0559-4dbe-8b9a-1306306dac06",
   "metadata": {},
   "outputs": [
    {
     "name": "stdout",
     "output_type": "stream",
     "text": [
      "['1', '2', '3', '4', '5', '6', '7', '8', '9', '10']\n"
     ]
    }
   ],
   "source": [
    "Given_list= [1, 2, 3, 4, 5, 6, 7, 8, 9, 10]\n",
    "print(list(map(lambda x : str(x), Given_list)))"
   ]
  },
  {
   "cell_type": "code",
   "execution_count": null,
   "id": "3e0acc59-21b9-4055-b6ec-0b5fa89af8af",
   "metadata": {},
   "outputs": [],
   "source": []
  },
  {
   "cell_type": "markdown",
   "id": "1cfc584e-95eb-4da4-a15c-bfa135c9bca1",
   "metadata": {},
   "source": [
    "Q 4. Write a python program using reduce function to compute the product of a list containing numbers\n",
    "from 1 to 25.\n"
   ]
  },
  {
   "cell_type": "code",
   "execution_count": 82,
   "id": "42f10a4f-4531-4646-a5bc-7f3c80226883",
   "metadata": {},
   "outputs": [
    {
     "name": "stdout",
     "output_type": "stream",
     "text": [
      "<class 'list'> \n",
      " [1, 2, 3, 4, 5, 6, 7, 8, 9, 10, 11, 12, 13, 14, 15, 16, 17, 18, 19, 20, 21, 22, 23, 24, 25]\n",
      "product of list =  15511210043330985984000000\n"
     ]
    }
   ],
   "source": [
    "from functools import reduce\n",
    "A_list=[i for i in range(1,26)]\n",
    "print(type(A_list),'\\n',  A_list)\n",
    "print('product of list = ', reduce(lambda x,y:x*y, A_list))\n"
   ]
  },
  {
   "cell_type": "code",
   "execution_count": null,
   "id": "f9e41332-3e6c-4a25-8e43-ab473205a34f",
   "metadata": {},
   "outputs": [],
   "source": []
  },
  {
   "cell_type": "markdown",
   "id": "e26ae85a-4b15-4e8e-90ff-4570fbde21d2",
   "metadata": {},
   "source": [
    "Q 5. Write a python program to filter the numbers in a given list that are divisible by 2 and 3 using the\n",
    "filter function.\n",
    "[2, 3, 6, 9, 27, 60, 90, 120, 55, 46]\n"
   ]
  },
  {
   "cell_type": "code",
   "execution_count": 83,
   "id": "5a601ef9-db49-4936-ad55-50bdfe60aefc",
   "metadata": {},
   "outputs": [
    {
     "name": "stdout",
     "output_type": "stream",
     "text": [
      "[6, 60, 90, 120]\n"
     ]
    }
   ],
   "source": [
    "numbers=[2, 3, 6, 9, 27, 60, 90, 120, 55, 46]\n",
    "print(list(filter(lambda x: x%2==0 and x%3==0, numbers)))"
   ]
  },
  {
   "cell_type": "code",
   "execution_count": null,
   "id": "4483e025-0367-4071-9eff-3527b148fc05",
   "metadata": {},
   "outputs": [],
   "source": []
  },
  {
   "cell_type": "markdown",
   "id": "07c6bcfd-908a-440e-b0a5-4af9f7f52efe",
   "metadata": {},
   "source": [
    "Q 6. Write a python program to find palindromes in the given list of strings using lambda and filter\n",
    "function.\n",
    "['python', 'php', 'aba', 'radar', 'level']"
   ]
  },
  {
   "cell_type": "code",
   "execution_count": 84,
   "id": "e16aae4d-4a10-41ee-9a2f-1875f00a72d1",
   "metadata": {},
   "outputs": [
    {
     "name": "stdout",
     "output_type": "stream",
     "text": [
      "['php', 'aba', 'radar', 'level']\n"
     ]
    }
   ],
   "source": [
    "find_palindromes=['python', 'php', 'aba', 'radar', 'level']\n",
    "print(list(filter(lambda x : x == ''.join(reversed(x)), find_palindromes)))"
   ]
  },
  {
   "cell_type": "code",
   "execution_count": null,
   "id": "4a00c299-225a-4c68-a8b9-a8968bf92992",
   "metadata": {},
   "outputs": [],
   "source": []
  }
 ],
 "metadata": {
  "kernelspec": {
   "display_name": "Python 3 (ipykernel)",
   "language": "python",
   "name": "python3"
  },
  "language_info": {
   "codemirror_mode": {
    "name": "ipython",
    "version": 3
   },
   "file_extension": ".py",
   "mimetype": "text/x-python",
   "name": "python",
   "nbconvert_exporter": "python",
   "pygments_lexer": "ipython3",
   "version": "3.11.1"
  }
 },
 "nbformat": 4,
 "nbformat_minor": 5
}
