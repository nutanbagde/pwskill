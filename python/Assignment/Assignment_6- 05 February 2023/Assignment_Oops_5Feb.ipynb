{
 "cells": [
  {
   "cell_type": "markdown",
   "id": "fc50a587-a9e4-435d-9700-868a059f52b9",
   "metadata": {},
   "source": [
    "Q 1. Explain Class and Object with respect to Object-Oriented Programming. Give a suitable example.\n"
   ]
  },
  {
   "cell_type": "markdown",
   "id": "fec270d2-64eb-456e-8b20-93f26ef7d52a",
   "metadata": {},
   "source": [
    "Class \n",
    "\n",
    "A class is a collection of objects. A class is a user-defined blueprint or prototype from which objects are created. Classes provide a means of bundling data and functionality together. Creating a new class creates a new type of object, allowing new instances of that type to be made. Each class instance can have attributes attached to it for maintaining its state. Class instances can also have methods (defined by their class) for modifying their state.\n",
    "\n",
    "\n",
    "1. Classes are created by keyword class.\n",
    "2. Attributes are the variables that belong to a class.\n",
    "3. Attributes are always public and can be accessed using the dot (.) operator. \n",
    "Eg.: Myclass.Myattribute\n",
    "\n",
    "Syntax: Class Definition \n",
    "\n",
    "class ClassName:\n",
    "    # Statement"
   ]
  },
  {
   "cell_type": "code",
   "execution_count": 2,
   "id": "a0f4969b-d96e-48e6-922f-5db55f167766",
   "metadata": {},
   "outputs": [],
   "source": [
    "# defining class\n",
    "class Define_a_class:\n",
    "    pass"
   ]
  },
  {
   "cell_type": "markdown",
   "id": "65d5d45f-dafc-4c85-87e5-fda10356b106",
   "metadata": {},
   "source": [
    "Objects\n",
    "\n",
    "An Object is an instance of a Class. A class is like a blueprint while an instance is a copy of the class with actual values. It’s not an idea anymore, it’s an actual dog, like a dog of breed pug who’s seven years old. You can have many dogs to create many different instances, but without the class as a guide, you would be lost, not knowing what information is required.\n",
    "\n",
    "An object consists of : \n",
    "1. State: It is represented by the attributes of an object. It also reflects the properties of an object.\n",
    "2. Behaviour: It is represented by the methods of an object. It also reflects the response of an object to other objects.\n",
    "3. Identity: It gives a unique name to an object and enables one object to interact with other objects.\n",
    "\n",
    "\n",
    "Syntax: object \n",
    "\n",
    "obj = ClassName()\n",
    "\n",
    "print(obj.atrr)\n",
    "\n",
    "\n",
    "\n",
    "An object is any entity that has attributes and behaviors.\n",
    "For example, a parrot is an object. It has\n",
    "\n",
    "1. attributes - breed, age, color, etc.\n",
    "2. behavior - dancing, singing, etc.\n",
    "3. identity - name of dog\n"
   ]
  },
  {
   "cell_type": "code",
   "execution_count": 11,
   "id": "af020d14-3451-4678-8a61-5e40711e6b16",
   "metadata": {
    "tags": []
   },
   "outputs": [],
   "source": [
    "# defining object\n",
    "obj=Define_a_class()"
   ]
  },
  {
   "cell_type": "code",
   "execution_count": 3,
   "id": "10d1dbdf-ae6c-43e2-990f-dded5459f973",
   "metadata": {
    "tags": []
   },
   "outputs": [
    {
     "name": "stdout",
     "output_type": "stream",
     "text": [
      "('green', 10, 'indian')\n"
     ]
    }
   ],
   "source": [
    "class parrot:\n",
    "\n",
    "    def __init__(self,color, age, spacies):\n",
    "        self.color = color                     # call by refrence\n",
    "        self.age = age\n",
    "        self.spacies =spacies \n",
    "        \n",
    "    def parrot_detail(self):\n",
    "        return self.color, self.age, self.spacies\n",
    "parrot1=parrot('green',10,'indian')\n",
    "print(parrot1.parrot_detail())"
   ]
  },
  {
   "cell_type": "markdown",
   "id": "56907af8-e9b8-4c50-9806-da1f20cb9d6e",
   "metadata": {},
   "source": [
    "Q 2. Name the four pillars of OOPs.\n"
   ]
  },
  {
   "cell_type": "markdown",
   "id": "ed82da3e-2f30-4203-9194-eec12c68a794",
   "metadata": {},
   "source": [
    "The four pillars of OOPs (object-oriented programming) are data abstraction, encapsulation, inheritance, and polymorphism."
   ]
  },
  {
   "cell_type": "markdown",
   "id": "bd602b3a-eaa9-4474-b798-253fa9be5c89",
   "metadata": {},
   "source": [
    "Q 3. Explain why the __init__() function is used. Give a suitable example.\n"
   ]
  },
  {
   "cell_type": "markdown",
   "id": "91bfa3fc-50db-433c-9c57-11edafe5204e",
   "metadata": {},
   "source": [
    "All classes have a function called __init__(), which is always executed when the class is being initiated. Use the __init__() function to assign values to object properties, or other operations that are necessary to do when the object is being created. The __init__() function is called automatically every time the class is being used to create a new object."
   ]
  },
  {
   "cell_type": "code",
   "execution_count": 4,
   "id": "30f220b7-1612-41b0-b898-69dba8d1ea03",
   "metadata": {
    "tags": []
   },
   "outputs": [
    {
     "name": "stdout",
     "output_type": "stream",
     "text": [
      "(101, 'swati jain', 'math', 45, 12, 57)\n",
      "swati jain\n"
     ]
    }
   ],
   "source": [
    "class class_10th_result:\n",
    "    def __init__(self, roll_no, name_of_student, subject_name, theory_marks, practical_marks):\n",
    "        self.theory_marks=theory_marks\n",
    "        self.practical_marks=practical_marks\n",
    "        self.name_of_student=name_of_student\n",
    "        #self.total_marks=total_marks\n",
    "        self.roll_no=roll_no\n",
    "        self.subject_name=subject_name\n",
    "        \n",
    "    def details_of_10th_class(self):\n",
    "        total=self.theory_marks + self.practical_marks\n",
    "        return self.roll_no, self.name_of_student, self.subject_name, self.theory_marks, self.practical_marks, total\n",
    "\n",
    "sdt1=class_10th_result(101,'swati jain','math',45,12)\n",
    "print(sdt1.details_of_10th_class())\n",
    "print(sdt1.name_of_student)"
   ]
  },
  {
   "cell_type": "markdown",
   "id": "7e53e401-e5e9-4ca9-a168-4f135a7e90a1",
   "metadata": {},
   "source": [
    "Q 4. Why self is used in OOPs?"
   ]
  },
  {
   "cell_type": "markdown",
   "id": "5e0b18e7-f6b7-469e-ae55-057b7c0e0d4a",
   "metadata": {},
   "source": [
    "1. The self parameter is a reference to the current instance of the class, and is used to access variables that belongs to the class.\n",
    "2. It does not have to be named self , you can call it whatever you like, but it has to be the first parameter of any function in the class.\n",
    "3. Class methods must have an extra first parameter in the method definition. We do not give a value for this parameter when we call the method, Python provides it.\n",
    "4. If we have a method that takes no arguments, we still have one argument.\n",
    "5. This is similar to this pointer in C++ and this reference in Java."
   ]
  },
  {
   "cell_type": "markdown",
   "id": "074309b7-e919-4f1c-a4f9-12480e1e83c2",
   "metadata": {},
   "source": [
    "Q 5. What is inheritance? Give an example for each type of inheritance."
   ]
  },
  {
   "cell_type": "markdown",
   "id": "5df26fa2-821c-4ede-b34e-d464ef04ac18",
   "metadata": {},
   "source": [
    "Inheritance is defined as the mechanism of inheriting the properties of the base class to the child class. Here we a going to see the types of inheritance in Python.\n",
    "1. Single Inheritance\n",
    "2. Multiple Inheritance\n",
    "3. Multilevel Inheritance\n",
    "4. Hierarchical Inheritance\n",
    "5. Hybrid Inheritance\n"
   ]
  },
  {
   "cell_type": "markdown",
   "id": "8b510010-1e9f-4ccc-96a2-9353779b10a6",
   "metadata": {},
   "source": [
    "1. Single Inheritance:\n",
    "\n",
    "Single inheritance enables a derived class to inherit properties from a single parent class, thus enabling code reusability and the addition of new features to existing code."
   ]
  },
  {
   "cell_type": "code",
   "execution_count": 5,
   "id": "a4785503-adef-4477-bfa0-7eb09e8cb854",
   "metadata": {
    "tags": []
   },
   "outputs": [
    {
     "name": "stdout",
     "output_type": "stream",
     "text": [
      "son name is =  vikky\n",
      "sons mother name is =  anita\n",
      "sons father name is =  kailash\n",
      "vikky anita kailash\n",
      "father name is =  kailash\n",
      "mother name is =  anita\n"
     ]
    }
   ],
   "source": [
    "\n",
    "# Python program to demonstrate single inheritance\n",
    "class parents:\n",
    "    def __init__(self,mother_name,father_name):\n",
    "        self.mother_name=mother_name\n",
    "        self.father_name=father_name\n",
    "    def mother(self):\n",
    "        print('mother name is = ', self.mother_name)\n",
    "    def father(self):\n",
    "        print('father name is = ', self.father_name)\n",
    "        \n",
    "class son(parents):\n",
    "    def __init__(self, son_name, mother_name, father_father):\n",
    "        self.son_name=son_name\n",
    "        parents.__init__(self,mother_name,father_father)\n",
    "        \n",
    "    def details_of_son(self):\n",
    "        print('son name is = ', self.son_name)\n",
    "        print('sons mother name is = ', self.mother_name)\n",
    "        print('sons father name is = ', self.father_name)\n",
    "        print(self.son_name,self.mother_name, self.father_name)\n",
    "        \n",
    "call_class=son('vikky','anita','kailash')\n",
    "\n",
    "call_class.details_of_son()\n",
    "call_class.father()\n",
    "call_class.mother()\n",
    "        "
   ]
  },
  {
   "cell_type": "markdown",
   "id": "7e242371-cc76-4b97-a928-f8f04ee385d1",
   "metadata": {},
   "source": [
    "2. Multiple Inheritanc: \n",
    "\n",
    "When a class can be derived from more than one base class this type of inheritance is called multiple inheritances. In multiple inheritances, all the features of the base classes are inherited into the derived class. \n"
   ]
  },
  {
   "cell_type": "code",
   "execution_count": 6,
   "id": "a07cc428-06a6-4063-b11e-8715f44effec",
   "metadata": {
    "tags": []
   },
   "outputs": [
    {
     "name": "stdout",
     "output_type": "stream",
     "text": [
      "son name is =  Vikky\n",
      "Vikky  mother name is =  Anita\n",
      "Vikky  father name is =  Kailash\n",
      "Vikky Anita Kailash\n",
      "Kailash\n",
      "Anita\n"
     ]
    }
   ],
   "source": [
    "\n",
    "# Python program to demonstrate multiple inheritance \n",
    "\n",
    "class mothers:\n",
    "    def __init__(self,mother_name):\n",
    "        self.mother_name=mother_name\n",
    "        \n",
    "    def mother(self):\n",
    "        print( self.mother_name)\n",
    "        \n",
    "class fathers:\n",
    "    def __init__(self, father_name):\n",
    "        self.father_name=father_name\n",
    "    \n",
    "    def father(self):\n",
    "        print( self.father_name)\n",
    "        \n",
    "class son(mothers, fathers):\n",
    "    def __init__(self, son_name, mother_name, father_father):\n",
    "        self.son_name=son_name\n",
    "        mothers.__init__(self,mother_name)\n",
    "        fathers.__init__(self,father_father)\n",
    "        \n",
    "        \n",
    "    def details_of_son(self):\n",
    "        print('son name is = ', self.son_name)\n",
    "        print(self.son_name, ' mother name is = ', self.mother_name)\n",
    "        print(self.son_name, ' father name is = ', self.father_name)\n",
    "        print(self.son_name,self.mother_name, self.father_name)\n",
    "        \n",
    "call_class=son('Vikky','Anita','Kailash')\n",
    "\n",
    "call_class.details_of_son()\n",
    "call_class.father()\n",
    "call_class.mother()\n",
    "        "
   ]
  },
  {
   "cell_type": "markdown",
   "id": "3608cc01-1a29-4b09-aa7c-4b341a54f0c8",
   "metadata": {},
   "source": [
    "3. Multilevel Inheritance:\n",
    "\n",
    "In multilevel inheritance, features of the base class and the derived class are further inherited into the new derived class. This is similar to a relationship representing a child and a grandfather. "
   ]
  },
  {
   "cell_type": "code",
   "execution_count": 7,
   "id": "02175afa-ffda-49cf-96fa-a70cc24b53a6",
   "metadata": {
    "tags": []
   },
   "outputs": [
    {
     "name": "stdout",
     "output_type": "stream",
     "text": [
      "vikky kailash shivramji\n",
      "NAME IS = kailash\n",
      "vikky kailash shivramji\n"
     ]
    }
   ],
   "source": [
    "# Python program to demonstrate multilevel inheritance\n",
    "\n",
    "class grandfather:\n",
    "    def __init__(self, grandfather_name):\n",
    "        self.grandfather_name=grandfather_name\n",
    "        \n",
    "class father(grandfather):\n",
    "    def __init__(self, father_name, grandfather_name):\n",
    "        self.father_name=father_name\n",
    "        grandfather.__init__(self, grandfather_name)\n",
    "        \n",
    "    def name1(self):\n",
    "        print('NAME IS =', self.father_name)\n",
    "        \n",
    "class son(father):\n",
    "    def __init__(self, son_name, father_name ,grandfather_name):\n",
    "        self.son_name=son_name\n",
    "        father.__init__(self, father_name, grandfather_name)\n",
    "    \n",
    "    def Names_family(self):\n",
    "        print(self.son_name,self.father_name, self.grandfather_name,)\n",
    "        \n",
    "a=son('vikky','kailash','shivramji')\n",
    "a.Names_family()\n",
    "a.name1()\n",
    "a.grandfather='ramesh'\n",
    "a.Names_family()"
   ]
  },
  {
   "cell_type": "markdown",
   "id": "4ee55849-cc70-425d-b245-ff5f83c699e5",
   "metadata": {},
   "source": [
    "4. Hierarchical Inheritance:\n",
    "\n",
    "When more than one derived class are created from a single base this type of inheritance is called hierarchical inheritance. In this program, we have a parent (base) class and two child (derived) classes.\n",
    "    "
   ]
  },
  {
   "cell_type": "code",
   "execution_count": 8,
   "id": "656a6af5-64c0-4312-90e9-2294e119d58f",
   "metadata": {
    "tags": []
   },
   "outputs": [
    {
     "name": "stdout",
     "output_type": "stream",
     "text": [
      "this parent class\n",
      "this is child_1st class\n",
      "this parent class\n",
      "this is child_2nd class\n"
     ]
    }
   ],
   "source": [
    "# base class\n",
    "\n",
    "class parent:\n",
    "    def func1(self):\n",
    "        print('this parent class')\n",
    "        \n",
    "class child_1st(parent):\n",
    "    def func2(self):\n",
    "        print('this is child_1st class')\n",
    "        \n",
    "    \n",
    "\n",
    "class child_2nd(parent):\n",
    "    def func3(self):\n",
    "        print('this is child_2nd class')\n",
    "\n",
    "a1=child_1st()\n",
    "a2=child_2nd()\n",
    "a1.func1()\n",
    "a1.func2()\n",
    "a2.func1()\n",
    "a2.func3()\n",
    "    "
   ]
  },
  {
   "cell_type": "markdown",
   "id": "982ce58a-e04f-4395-b81f-4f096a60e2c5",
   "metadata": {},
   "source": [
    "5. Hybrid Inheritance:\n",
    "\n",
    "Inheritance consisting of multiple types of inheritance is called hybrid inheritance."
   ]
  },
  {
   "cell_type": "code",
   "execution_count": 9,
   "id": "3b4ee55c-7557-46b0-98b9-88761f0aa0d8",
   "metadata": {
    "tags": []
   },
   "outputs": [
    {
     "name": "stdout",
     "output_type": "stream",
     "text": [
      "This is A\n"
     ]
    }
   ],
   "source": [
    "class A_cls:\n",
    "    def fun_1(self):\n",
    "        print('This is A')\n",
    "        \n",
    "class B_cls(A_cls):\n",
    "    def fun_2(self):\n",
    "        print('This is B')\n",
    "        \n",
    "class c_cls(A_cls):\n",
    "    def fun_3(self):\n",
    "        print('This is c')\n",
    "        \n",
    "class d_cls(B_cls, A_cls):\n",
    "    def fun_4(self):\n",
    "        print('This is d')\n",
    "        \n",
    "a=d_cls()\n",
    "a.fun_1()\n",
    "    "
   ]
  },
  {
   "cell_type": "code",
   "execution_count": null,
   "id": "5556a826-1945-432e-96ba-a37172c1a15d",
   "metadata": {},
   "outputs": [],
   "source": []
  }
 ],
 "metadata": {
  "kernelspec": {
   "display_name": "Python 3 (ipykernel)",
   "language": "python",
   "name": "python3"
  },
  "language_info": {
   "codemirror_mode": {
    "name": "ipython",
    "version": 3
   },
   "file_extension": ".py",
   "mimetype": "text/x-python",
   "name": "python",
   "nbconvert_exporter": "python",
   "pygments_lexer": "ipython3",
   "version": "3.11.1"
  }
 },
 "nbformat": 4,
 "nbformat_minor": 5
}
