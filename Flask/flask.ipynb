{
 "cells": [
  {
   "cell_type": "code",
   "execution_count": 1,
   "id": "c1797160-8b45-4376-9005-00091e138687",
   "metadata": {
    "tags": []
   },
   "outputs": [
    {
     "name": "stdout",
     "output_type": "stream",
     "text": [
      " * Serving Flask app 'flask'\n",
      " * Debug mode: off\n"
     ]
    },
    {
     "name": "stderr",
     "output_type": "stream",
     "text": [
      "WARNING: This is a development server. Do not use it in a production deployment. Use a production WSGI server instead.\n",
      " * Running on all addresses (0.0.0.0)\n",
      " * Running on http://127.0.0.1:5000\n",
      " * Running on http://192.168.1.10:5000\n",
      "Press CTRL+C to quit\n",
      "192.168.1.10 - - [11/May/2023 15:56:20] \"GET / HTTP/1.1\" 200 -\n"
     ]
    }
   ],
   "source": [
    "from flask import Flask\n",
    "#Create app, that hosts the application\n",
    "app = Flask(__name__)\n",
    "#Then you need a route that calls a Python function. A route maps what you type in the browser (the url) to a Python function.\n",
    "@app.route(\"/\")\n",
    "def hello_world():\n",
    "#The function should return something to the web browser,\n",
    "    return \"Hello, World!\"\n",
    "\n",
    "if __name__==\"__main__\":\n",
    "#Almost done, the server needs to be started. This starts the web app at port 81.\n",
    "    app.run(host=\"0.0.0.0\")"
   ]
  },
  {
   "cell_type": "code",
   "execution_count": 2,
   "id": "160db1d7-11e0-4efe-9dc4-4a027c0e5e65",
   "metadata": {
    "tags": []
   },
   "outputs": [
    {
     "name": "stdout",
     "output_type": "stream",
     "text": [
      " * Serving Flask app 'flask'\n",
      " * Debug mode: off\n"
     ]
    },
    {
     "name": "stderr",
     "output_type": "stream",
     "text": [
      "WARNING: This is a development server. Do not use it in a production deployment. Use a production WSGI server instead.\n",
      " * Running on all addresses (0.0.0.0)\n",
      " * Running on http://127.0.0.1:5000\n",
      " * Running on http://192.168.1.10:5000\n",
      "Press CTRL+C to quit\n",
      "127.0.0.1 - - [11/May/2023 15:58:04] \"GET / HTTP/1.1\" 200 -\n",
      "127.0.0.1 - - [11/May/2023 15:59:48] \"GET / HTTP/1.1\" 200 -\n",
      "127.0.0.1 - - [11/May/2023 15:59:48] \"GET /favicon.ico HTTP/1.1\" 404 -\n",
      "127.0.0.1 - - [11/May/2023 16:00:19] \"GET /hello2 HTTP/1.1\" 200 -\n",
      "127.0.0.1 - - [11/May/2023 16:02:16] \"GET /hello1 HTTP/1.1\" 200 -\n",
      "127.0.0.1 - - [11/May/2023 16:12:07] \"GET / HTTP/1.1\" 200 -\n",
      "192.168.1.10 - - [11/May/2023 16:12:20] \"GET / HTTP/1.1\" 200 -\n",
      "127.0.0.1 - - [11/May/2023 16:12:34] \"GET / HTTP/1.1\" 200 -\n"
     ]
    }
   ],
   "source": [
    "from flask import Flask\n",
    "\n",
    "app = Flask(__name__)\n",
    "\n",
    "@app.route(\"/\")\n",
    "def hello_world():\n",
    "    return \"Hello, World!\"\n",
    "@app.route(\"/hello1\")\n",
    "def hello_world1():\n",
    "    return \"Hello, World!1\"\n",
    "@app.route(\"/hello2\")\n",
    "def hello_world2():\n",
    "    return \"Hello, World!2\"\n",
    "\n",
    "if __name__==\"__main__\":\n",
    "    app.run(host=\"0.0.0.0\")"
   ]
  },
  {
   "cell_type": "markdown",
   "id": "4ca3d825-5f25-4aed-90ea-9a43c8e16a13",
   "metadata": {},
   "source": [
    "exicute command / url in web page:\n",
    "\n",
    "    http://localhost:5000/hello2\n",
    "    \n",
    "    or \n",
    "    \n",
    "    http://127.0.0.1:5000/hello2\n",
    "    "
   ]
  },
  {
   "cell_type": "markdown",
   "id": "3096d820-0f4f-42f0-8a3d-b622bd0b0a30",
   "metadata": {},
   "source": [
    "i am able to exicute pythonic function in server\n"
   ]
  },
  {
   "cell_type": "code",
   "execution_count": null,
   "id": "9c07b6ec-2a65-4768-8c5c-e1d9649fe196",
   "metadata": {},
   "outputs": [],
   "source": []
  },
  {
   "cell_type": "code",
   "execution_count": 3,
   "id": "55c6da19-2301-4d08-baad-2f42997a524c",
   "metadata": {
    "tags": []
   },
   "outputs": [
    {
     "name": "stdout",
     "output_type": "stream",
     "text": [
      " * Serving Flask app 'flask'\n",
      " * Debug mode: off\n"
     ]
    },
    {
     "name": "stderr",
     "output_type": "stream",
     "text": [
      "WARNING: This is a development server. Do not use it in a production deployment. Use a production WSGI server instead.\n",
      " * Running on all addresses (0.0.0.0)\n",
      " * Running on http://127.0.0.1:5000\n",
      " * Running on http://192.168.1.10:5000\n",
      "Press CTRL+C to quit\n"
     ]
    }
   ],
   "source": [
    "from flask import Flask\n",
    "\n",
    "app = Flask(__name__)\n",
    "\n",
    "@app.route(\"/\")\n",
    "def hello_world():\n",
    "    return \"Hello, World!\"\n",
    "\n",
    "@app.route(\"/test_fun\")\n",
    "def test():\n",
    "    a=5+6\n",
    "    return \"addition of 2 no. {}\".format(a)\n",
    "\n",
    "# working just like goggle search\n",
    "@app.route(\"/input_url\")\n",
    "def request_url():\n",
    "    data=request.args.get('x')\n",
    "    return \"This is my input from url {}\".format(data)\n",
    "\n",
    "if __name__==\"__main__\":\n",
    "    app.run(host=\"0.0.0.0\")"
   ]
  },
  {
   "cell_type": "code",
   "execution_count": null,
   "id": "644f18da-5899-4cdb-b608-daeda1ff6bd5",
   "metadata": {},
   "outputs": [],
   "source": []
  },
  {
   "cell_type": "code",
   "execution_count": null,
   "id": "c9773243-9732-42ca-9365-827d25081ab4",
   "metadata": {},
   "outputs": [],
   "source": []
  },
  {
   "cell_type": "code",
   "execution_count": null,
   "id": "eb5a615f-e849-4b20-8182-8e6007c0056f",
   "metadata": {},
   "outputs": [],
   "source": []
  },
  {
   "cell_type": "code",
   "execution_count": null,
   "id": "46bd7358-589e-4826-8a83-3f88b159692f",
   "metadata": {},
   "outputs": [],
   "source": []
  },
  {
   "cell_type": "code",
   "execution_count": null,
   "id": "aad2974c-aa64-4b51-94bd-82308d3395d6",
   "metadata": {},
   "outputs": [],
   "source": []
  }
 ],
 "metadata": {
  "kernelspec": {
   "display_name": "Python 3 (ipykernel)",
   "language": "python",
   "name": "python3"
  },
  "language_info": {
   "codemirror_mode": {
    "name": "ipython",
    "version": 3
   },
   "file_extension": ".py",
   "mimetype": "text/x-python",
   "name": "python",
   "nbconvert_exporter": "python",
   "pygments_lexer": "ipython3",
   "version": "3.11.1"
  }
 },
 "nbformat": 4,
 "nbformat_minor": 5
}
