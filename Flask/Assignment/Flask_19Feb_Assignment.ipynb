{
 "cells": [
  {
   "cell_type": "markdown",
   "id": "c29b750e-d07f-44b4-badf-9e3180dc810e",
   "metadata": {},
   "source": [
    "<a id=\"1\"></a>\n",
    "\n",
    "# <p style=\"padding:10px;background-color:#1ABC9C ;margin:10;color:#000000;font-family:newtimeroman;font-size:100%;text-align:center;border-radius: 10px 10px ;overflow:hidden;font-weight:50\">Question 1</p>"
   ]
  },
  {
   "cell_type": "markdown",
   "id": "b9fdb768-ec66-4241-823b-f1ecda70eaaa",
   "metadata": {},
   "source": [
    "### Question 1: What is Flask Framework? What are the advantages of Flask Framework?\n",
    "## Answer:\n"
   ]
  },
  {
   "cell_type": "markdown",
   "id": "205ee084-1d9c-4f5a-b583-71da4bb519a4",
   "metadata": {},
   "source": [
    "Flask is a micro web framework written in Python. It is classified as a microframework because it does not require particular tools or libraries. It has no database abstraction layer, form validation, or any other components where pre-existing third-party libraries provide common functions.\n",
    "\n",
    "### Advantages of Flask Framework:-\n",
    "Flask allows you to build a web application by providing tools, libraries, and technologies. This web application will be a web page, a wiki, or a big web-based calendar application or commercial website. Flask is classified into a micro-framework that means it has little to no dependencies on external libraries.\n",
    "There are impressive features to use the flask in your web application framework. Like-\n",
    "\n",
    "1. Integrated support for unit testing\n",
    "2. Built-in development server and fast debugger\n",
    "3. Restful request dispatching\n",
    "4. Unicode base\n",
    "5. Support for cookies\n",
    "6. Templating jinja2\n",
    "7. WSGI 1.0 compliant\n",
    "8. Plus flask gives you some premier control to develop your project.\n",
    "9. HTTP request handling function\n",
    "10. Flask has a modular design and lightweight so that it can easy to transit into web framework with some extension\n",
    "11. You can plug your favorite ORM\n",
    "12. Basic fundamental API is nicely shaped and coherent\n",
    "13. Highly flexible\n",
    "14. It is easy to deploy the flask in production"
   ]
  },
  {
   "cell_type": "markdown",
   "id": "76454332-fcb1-4cb0-871d-62440614d5c4",
   "metadata": {},
   "source": [
    "<a id=\"1\"></a>\n",
    "\n",
    "# <p style=\"padding:10px;background-color:#1ABC9C ;margin:10;color:#000000;font-family:newtimeroman;font-size:100%;text-align:center;border-radius: 10px 10px ;overflow:hidden;font-weight:50\">Question 2</p>"
   ]
  },
  {
   "cell_type": "markdown",
   "id": "c2fc646b-83e7-4b0f-9a5b-4ba83922ae54",
   "metadata": {},
   "source": [
    "### Question 2: Create a simple Flask application to display ‘Hello World!’. Attach the screenshot of the output in Jupyter Notebook.\n",
    "## Answer:\n"
   ]
  },
  {
   "cell_type": "code",
   "execution_count": 3,
   "id": "dbe96e37-8ec4-4293-a16a-b65beabcfdee",
   "metadata": {},
   "outputs": [
    {
     "name": "stdout",
     "output_type": "stream",
     "text": [
      " * Serving Flask app 'Flask_19Feb_Assignment'\n",
      " * Debug mode: off\n"
     ]
    },
    {
     "name": "stderr",
     "output_type": "stream",
     "text": [
      "WARNING: This is a development server. Do not use it in a production deployment. Use a production WSGI server instead.\n",
      " * Running on all addresses (0.0.0.0)\n",
      " * Running on http://127.0.0.1:5000\n",
      " * Running on http://192.168.1.10:5000\n",
      "Press CTRL+C to quit\n",
      "127.0.0.1 - - [19/May/2023 22:56:21] \"GET / HTTP/1.1\" 200 -\n"
     ]
    }
   ],
   "source": [
    "from flask import Flask\n",
    "#Create app, that hosts the application\n",
    "app = Flask(__name__)\n",
    "#Then you need a route that calls a Python function. A route maps what you type in the browser (the url) to a Python function.\n",
    "@app.route(\"/\")\n",
    "def hello_world():\n",
    "#The function should return something to the web browser,\n",
    "    return \"Hello, World!\"\n",
    "\n",
    "if __name__==\"__main__\":\n",
    "#Almost done, the server needs to be started. This starts the web app at port 81.\n",
    "    app.run(host=\"0.0.0.0\")"
   ]
  },
  {
   "cell_type": "markdown",
   "id": "187b22a5-d6f5-4bef-b279-25b2286d9ae6",
   "metadata": {
    "tags": []
   },
   "source": [
    "\n",
    "<img src=\"./Flask_19Feb_Assignment_Q2.png\">\n",
    "\n"
   ]
  },
  {
   "cell_type": "markdown",
   "id": "af6572a8-d6b8-4724-8e72-21b6934b309f",
   "metadata": {},
   "source": [
    "<a id=\"1\"></a>\n",
    "\n",
    "# <p style=\"padding:10px;background-color:#1ABC9C ;margin:10;color:#000000;font-family:newtimeroman;font-size:100%;text-align:center;border-radius: 10px 10px ;overflow:hidden;font-weight:50\">Question 3</p>"
   ]
  },
  {
   "cell_type": "markdown",
   "id": "947c30b7-c589-4cd5-a6b1-bf84ae88e710",
   "metadata": {},
   "source": [
    "### Question 3: What is App routing in Flask? Why do we use app routes?\n"
   ]
  },
  {
   "cell_type": "markdown",
   "id": "3dbdc143-d5c4-48bd-baad-00649bbc850b",
   "metadata": {},
   "source": [
    "## Answer:\n",
    "\n",
    "App Routing means mapping the URLs to a specific function that will handle the logic for that URL. Modern web frameworks use more meaningful URLs to help users remember the URLs and make navigation simpler. \n",
    "\n",
    "App routing is the technique used to map the specific URL with the associated function intended to perform some task. The Latest Web frameworks use the routing technique to help users remember application URLs. It is helpful to access the desired page directly without navigating from the home page."
   ]
  },
  {
   "cell_type": "markdown",
   "id": "49a778b7-943e-4fe5-9dc5-cba548a53f4b",
   "metadata": {},
   "source": [
    "<a id=\"1\"></a>\n",
    "\n",
    "# <p style=\"padding:10px;background-color:#1ABC9C ;margin:10;color:#000000;font-family:newtimeroman;font-size:100%;text-align:center;border-radius: 10px 10px ;overflow:hidden;font-weight:50\">Question 4</p>"
   ]
  },
  {
   "cell_type": "markdown",
   "id": "d9e81d0e-ff35-4ae6-a154-7a8b4d6465d3",
   "metadata": {},
   "source": [
    "### Question 4: Create a “/welcome” route to display the welcome message “Welcome to ABC Corporation” and a “/” route to show the following details:\n",
    "### Company Name: ABC Corporation\n",
    "### Location: India\n",
    "### Contact Detail: 999-999-9999\n",
    "### Attach the screenshot of the output in Jupyter Notebook.\n"
   ]
  },
  {
   "cell_type": "markdown",
   "id": "737b287f-d5c6-4219-ad60-aa7055b2d9a3",
   "metadata": {
    "tags": []
   },
   "source": [
    "## Answer:"
   ]
  },
  {
   "cell_type": "code",
   "execution_count": 12,
   "id": "dcddd582-22cf-42a6-8ad9-bd99dbcd5a19",
   "metadata": {},
   "outputs": [
    {
     "name": "stdout",
     "output_type": "stream",
     "text": [
      " * Serving Flask app 'Flask_19Feb_Assignment'\n",
      " * Debug mode: off\n"
     ]
    },
    {
     "name": "stderr",
     "output_type": "stream",
     "text": [
      "WARNING: This is a development server. Do not use it in a production deployment. Use a production WSGI server instead.\n",
      " * Running on all addresses (0.0.0.0)\n",
      " * Running on http://127.0.0.1:5000\n",
      " * Running on http://192.168.1.10:5000\n",
      "Press CTRL+C to quit\n",
      "127.0.0.1 - - [19/May/2023 23:09:21] \"GET / HTTP/1.1\" 200 -\n",
      "127.0.0.1 - - [19/May/2023 23:12:17] \"GET /welcome HTTP/1.1\" 200 -\n"
     ]
    }
   ],
   "source": [
    "from flask import Flask\n",
    "\n",
    "app=Flask(__name__)\n",
    "\n",
    "@app.route(\"/welcome\")\n",
    "def welcom_msg():\n",
    "    return \"Welcome to ABC Corporation\"\n",
    "\n",
    "@app.route(\"/\")\n",
    "def company():\n",
    "    return  \"details:MNC company Company Name:ABC Corporation Corporation Location:Banglore  India Contact Detail: 999-999-9999\"\n",
    "if __name__ == \"__main__\":\n",
    "    app.run(host=\"0.0.0.0\")\n",
    "    "
   ]
  },
  {
   "cell_type": "markdown",
   "id": "fc35d4d8-c91f-4741-bc7c-ff02e19f4098",
   "metadata": {},
   "source": [
    "<img src=\"./Flask_19Feb_Assignment_Q4_1.png\">\n"
   ]
  },
  {
   "cell_type": "markdown",
   "id": "4a8cc5f4-d5b9-4e1e-bade-93e1526a8f68",
   "metadata": {},
   "source": [
    "<img src=\"./Flask_19Feb_Assignment_Q4_2.png\">\n"
   ]
  },
  {
   "cell_type": "markdown",
   "id": "83c2e46f-6c98-43a1-875a-e94f46639f69",
   "metadata": {},
   "source": [
    "<a id=\"1\"></a>\n",
    "\n",
    "# <p style=\"padding:10px;background-color:#1ABC9C ;margin:10;color:#000000;font-family:newtimeroman;font-size:100%;text-align:center;border-radius: 10px 10px ;overflow:hidden;font-weight:50\">Question 5</p>"
   ]
  },
  {
   "cell_type": "markdown",
   "id": "a163f31d-b7be-4cda-8b2d-9fc6e20e75d3",
   "metadata": {},
   "source": [
    "### Question 5: What function is used in Flask for URL Building? Write a Python code to demonstrate the working of the url_for() function.\n",
    "## Answer:"
   ]
  },
  {
   "cell_type": "markdown",
   "id": "f14e4f7f-c99b-4781-8a7f-58ab4d6df6f6",
   "metadata": {},
   "source": [
    "In Flask, the url_for() function is used for URL building. This function generates a URL to the specified endpoint with the given method. It takes the endpoint name as the first argument and any number of keyword arguments, each corresponding to a variable part of the URL rule.\n",
    "\n",
    "Here's an example of how to use url_for() function in Flask:"
   ]
  },
  {
   "cell_type": "code",
   "execution_count": null,
   "id": "1b8f99f1-9104-404f-bcdc-b3fea319fdc4",
   "metadata": {},
   "outputs": [
    {
     "name": "stdout",
     "output_type": "stream",
     "text": [
      "/\n",
      "/user/john\n",
      "/article/123\n",
      " * Serving Flask app 'Flask_19Feb_Assignment'\n",
      " * Debug mode: off\n"
     ]
    },
    {
     "name": "stderr",
     "output_type": "stream",
     "text": [
      "WARNING: This is a development server. Do not use it in a production deployment. Use a production WSGI server instead.\n",
      " * Running on all addresses (0.0.0.0)\n",
      " * Running on http://127.0.0.1:5000\n",
      " * Running on http://192.168.1.10:5000\n",
      "Press CTRL+C to quit\n"
     ]
    }
   ],
   "source": [
    "from flask import Flask, url_for\n",
    "\n",
    "app = Flask(__name__)\n",
    "\n",
    "@app.route('/')\n",
    "def home():\n",
    "    return 'Welcome to my Flask app!'\n",
    "\n",
    "@app.route('/user/<username>')\n",
    "def user_profile(username):\n",
    "    return f'Profile page of {username}'\n",
    "\n",
    "@app.route('/article/<int:article_id>')\n",
    "def show_article(article_id):\n",
    "    return f'Article {article_id}'\n",
    "\n",
    "with app.test_request_context():\n",
    "    print(url_for('home'))             \n",
    "    print(url_for('user_profile', username='john'))  \n",
    "    print(url_for('show_article', article_id=123))   \n",
    "    \n",
    "if __name__ == \"__main__\":\n",
    "    app.run(host=\"0.0.0.0\")"
   ]
  },
  {
   "cell_type": "markdown",
   "id": "a7331a3a-92bd-4368-8708-70ef01d73196",
   "metadata": {},
   "source": [
    "<img src=\"./Flask_19Feb_Assignment_Q5_1.png\">\n",
    "\n"
   ]
  },
  {
   "cell_type": "markdown",
   "id": "e1fcbdee-c441-473c-9ea1-9490afbc8b5e",
   "metadata": {},
   "source": [
    "<img src=\"./Flask_19Feb_Assignment_Q5_2.png\">"
   ]
  },
  {
   "cell_type": "markdown",
   "id": "980e7741-5d89-4f97-b0a1-70707316c9c1",
   "metadata": {},
   "source": [
    "<img src=\"./Flask_19Feb_Assignment_Q5_3.png\">"
   ]
  },
  {
   "cell_type": "markdown",
   "id": "e71e5a5e-fdb2-4762-8380-7abf104cab37",
   "metadata": {},
   "source": [
    " #### Output: /user/john\n",
    "#### Output: /article/123"
   ]
  },
  {
   "cell_type": "markdown",
   "id": "c0a5caa6-d68a-480a-9140-98d3ed989573",
   "metadata": {},
   "source": [
    "In this example, the url_for() function is used to generate URLs for three different endpoints. The first argument is the name of the endpoint, followed by any variable parts of the URL rule. The keyword arguments correspond to the variable parts of the URL rule.\n",
    "\n",
    "When url_for() is called outside of a request context, it generates a URL for the application's root path, which is '/' by default. Inside a request context, url_for() generates a URL that is relative to the current request.\n",
    "\n",
    "In the example code above, we create three different endpoints using the @app.route() decorator. The first endpoint is the home page, the second endpoint is a user profile page with a dynamic username, and the third endpoint is an article page with a dynamic article ID.\n",
    "\n",
    "Finally, we use url_for() to generate URLs for each of these endpoints and print them to the console. The output shows the generated URLs for each endpoint."
   ]
  }
 ],
 "metadata": {
  "kernelspec": {
   "display_name": "Python 3 (ipykernel)",
   "language": "python",
   "name": "python3"
  },
  "language_info": {
   "codemirror_mode": {
    "name": "ipython",
    "version": 3
   },
   "file_extension": ".py",
   "mimetype": "text/x-python",
   "name": "python",
   "nbconvert_exporter": "python",
   "pygments_lexer": "ipython3",
   "version": "3.11.1"
  }
 },
 "nbformat": 4,
 "nbformat_minor": 5
}
