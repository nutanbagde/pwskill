{
 "cells": [
  {
   "cell_type": "markdown",
   "id": "9afa2add-9c61-435c-90a8-3bef2d918549",
   "metadata": {
    "tags": []
   },
   "source": [
    "<a id=\"1\"></a>\n",
    "\n",
    "# <p style=\"padding:10px;background-color:#1ABC9C ;margin:10;color:#000000;font-family:newtimeroman;font-size:100%;text-align:center;border-radius: 10px 10px ;overflow:hidden;font-weight:50\">Question 1</p>"
   ]
  },
  {
   "cell_type": "markdown",
   "id": "b5db9350-7310-45bf-9fe8-deff148c298b",
   "metadata": {},
   "source": [
    "### Question 1: Explain GET and POST methods.\n"
   ]
  },
  {
   "cell_type": "markdown",
   "id": "6458c816-251b-47a7-9b0a-947b96820568",
   "metadata": {},
   "source": [
    "## Answer:\n",
    "\n",
    "### GET and POST are two HTTP methods used to communicate with a web server to retrieve or send data. Here's how they work:\n",
    "\n",
    "### 1. GET method:\n",
    "GET is a request method used to retrieve data from the server. When you use a web browser to visit a web page, you are sending a GET request to the server, which then responds by sending back the requested data. The data can be in the form of HTML, XML, JSON, or other formats.\n",
    "\n",
    "Some characteristics of the GET method are:\n",
    "\n",
    "* It is a safe and idempotent method, meaning that it does not modify the server's state and can be repeated multiple times without causing side effects.\n",
    "* The data is sent in the URL query string, which is visible in the browser's address bar and can be bookmarked or shared.\n",
    "* The amount of data that can be sent is limited by the maximum length of the URL, typically around 2048 characters.\n",
    "\n",
    "Some common use cases for the GET method are:\n",
    "\n",
    "* Retrieving a web page or a specific resource (such as an image or a file) from a server.\n",
    "* Searching for data in a database or an API by providing query parameters in the URL.\n",
    "* Providing navigation links or pagination controls in a web application.\n",
    "\n",
    "### 2. Post Method\n",
    "POST is a request method used to send data to the server. When you submit a web form or upload a file, you are sending a POST request to the server, which then processes the data and responds with a status code and possibly a message or a redirection.\n",
    "\n",
    "Some characteristics of the POST method are:\n",
    "\n",
    "* It is not a safe or idempotent method, meaning that it can modify the server's state and may have side effects.\n",
    "* The data is sent in the body of the request, which is not visible in the browser's address bar and cannot be bookmarked or shared.\n",
    "* The amount of data that can be sent is not limited by the URL length, but it may be limited by the server's configuration or the client's network.\n",
    "\n",
    "Some common use cases for the POST method are:\n",
    "\n",
    "* Creating a new resource on the server, such as a new user account, a new blog post, or a new order.\n",
    "* Updating an existing resource on the server, such as changing the password of a user account or editing a blog post.\n",
    "* Submitting a large amount of data that cannot be sent via the URL, such as a file upload or a form with many fields."
   ]
  },
  {
   "cell_type": "markdown",
   "id": "23f1d8d3-5c5d-41d2-88a2-f290e5eaf6a1",
   "metadata": {},
   "source": [
    "<a id=\"1\"></a>\n",
    "\n",
    "# <p style=\"padding:10px;background-color:#1ABC9C ;margin:10;color:#000000;font-family:newtimeroman;font-size:100%;text-align:center;border-radius: 10px 10px ;overflow:hidden;font-weight:50\">Question 2</p>"
   ]
  },
  {
   "cell_type": "markdown",
   "id": "990fb768-5813-43c9-841b-88abcc7ca65e",
   "metadata": {},
   "source": [
    "### Question 2:Why is request used in Flask?\n"
   ]
  },
  {
   "cell_type": "markdown",
   "id": "5a27d87e-bde8-4d62-a48c-cab1deae721d",
   "metadata": {},
   "source": [
    "### Answer :\n",
    "## Request is used in Flask to handle incoming HTTP requests from clients such as web browsers or mobile applications.\n",
    "When a client sends an HTTP request to a Flask application, the request data is sent to the server as part of the HTTP message. The request can contain various data such as parameters, headers, cookies, and form data, depending on the type of request.\n",
    "\n",
    "The Flask request object provides a way to access and manipulate the data of an incoming request. It is a global object that can be imported from the flask module and used in Flask view functions to extract information from the request.\n",
    "\n",
    "Here are some of the functionalities provided by the Flask request object:\n",
    "\n",
    "1. Accessing the request method (GET, POST, etc.), URL, headers, and cookies.\n",
    "2. Retrieving the values of query parameters and form data submitted by the client.\n",
    "3. Uploading files sent by the client and saving them on the server.\n",
    "4. Handling sessions and user authentication.\n",
    "In summary, the Flask request object is an essential part of Flask web development, as it allows developers to interact with incoming client requests and extract the necessary data to provide an appropriate response."
   ]
  },
  {
   "cell_type": "markdown",
   "id": "e0c3870e-e46b-4c4f-8380-d78ad567ef6c",
   "metadata": {},
   "source": [
    "Below is simple example of using get request in flask"
   ]
  },
  {
   "cell_type": "code",
   "execution_count": 17,
   "id": "3929faa9-f1f0-4604-85f5-9afd8832571b",
   "metadata": {
    "tags": []
   },
   "outputs": [
    {
     "name": "stdout",
     "output_type": "stream",
     "text": [
      "Please use URL as follows : http://127.0.0.1:5000/hello?name=Nutan\n",
      "\n",
      " * Serving Flask app 'Flask_2_assignment_20Feb'\n",
      " * Debug mode: off\n"
     ]
    },
    {
     "name": "stderr",
     "output_type": "stream",
     "text": [
      "WARNING: This is a development server. Do not use it in a production deployment. Use a production WSGI server instead.\n",
      " * Running on http://127.0.0.1:5000\n",
      "Press CTRL+C to quit\n",
      "127.0.0.1 - - [19/May/2023 16:50:16] \"GET /hello?name=Nutan HTTP/1.1\" 200 -\n"
     ]
    }
   ],
   "source": [
    "from flask import Flask, request\n",
    "\n",
    "app = Flask(__name__)\n",
    "\n",
    "# Creating a get request for route\n",
    "# write the url as follows https://127.0.0.1:5000/hello?name=Utkarsh\n",
    "@app.route('/hello', methods=['GET'])\n",
    "def hello():\n",
    "    name = request.args.get('name', 'World')\n",
    "    return f\"<h1 align='center'>Hello, {name}</h1>!\"\n",
    "\n",
    "if __name__ == '__main__':\n",
    "    print('Please use URL as follows : http://127.0.0.1:5000/hello?name=Nutan\\n')\n",
    "    app.run()"
   ]
  },
  {
   "cell_type": "markdown",
   "id": "e4fe71ac-caa4-4af5-8f33-40b13a32bd75",
   "metadata": {
    "tags": []
   },
   "source": [
    "<img src=\"./ASSGNMT_20feb_Q2.png\">"
   ]
  },
  {
   "cell_type": "markdown",
   "id": "534ba3b6-fa0a-4fdc-b801-964bd3e6e38f",
   "metadata": {},
   "source": [
    "<a id=\"1\"></a>\n",
    "\n",
    "# <p style=\"padding:10px;background-color:#1ABC9C ;margin:10;color:#000000;font-family:newtimeroman;font-size:100%;text-align:center;border-radius: 10px 10px ;overflow:hidden;font-weight:50\">Question 3</p>"
   ]
  },
  {
   "cell_type": "markdown",
   "id": "a12ced1c-d1f3-42ed-8e27-8745f4c43410",
   "metadata": {},
   "source": [
    "### Question 3: Why is redirect() used in Flask?\n"
   ]
  },
  {
   "cell_type": "markdown",
   "id": "eed62d04-d1a1-4478-ac11-3e62b1b3cd1d",
   "metadata": {},
   "source": [
    "### Answer:\n",
    "### The redirect() function in Flask is used to redirect the user's request to a different URL. It is a common practice to use a redirect when a user submits a form or when a user tries to access a restricted page without being logged in.\n",
    "Here are a few use cases where redirect() can be useful in Flask:\n",
    "\n",
    "1. After a successful login: When a user logs in successfully, it's common to redirect them to a dashboard or a landing page. This can be achieved using the redirect() function.\n",
    "\n",
    "2. After submitting a form: If a user submits a form and the data needs to be processed before displaying the result, a redirect can be used to display the result on a different page.\n",
    "\n",
    "3. Redirecting unauthorized access: If a user tries to access a restricted page without being logged in, they can be redirected to a login page using the redirect() function.\n",
    "\n",
    "4. Redirecting after a post request: When a user makes a POST request to a URL, it's common to redirect them to a different page using the redirect() function, so that they don't accidentally make the same request again by refreshing the page.\n",
    "\n",
    "In summary, redirect() is a useful function in Flask for redirecting users to different pages, and it's commonly used in many web applications to control the flow of user requests."
   ]
  },
  {
   "cell_type": "code",
   "execution_count": 10,
   "id": "a1f26716-08fa-43d3-8e6e-9166c8d42f4a",
   "metadata": {
    "tags": []
   },
   "outputs": [
    {
     "name": "stdout",
     "output_type": "stream",
     "text": [
      " * Serving Flask app 'Flask_2_assignment_20Feb'\n",
      " * Debug mode: off\n"
     ]
    },
    {
     "name": "stderr",
     "output_type": "stream",
     "text": [
      "WARNING: This is a development server. Do not use it in a production deployment. Use a production WSGI server instead.\n",
      " * Running on http://127.0.0.1:5000\n",
      "Press CTRL+C to quit\n",
      "127.0.0.1 - - [19/May/2023 16:21:52] \"GET / HTTP/1.1\" 302 -\n",
      "127.0.0.1 - - [19/May/2023 16:21:52] \"GET /about HTTP/1.1\" 200 -\n"
     ]
    }
   ],
   "source": [
    "from flask import Flask, redirect, url_for\n",
    "\n",
    "app = Flask(__name__)\n",
    "\n",
    "# Example route for the home page\n",
    "@app.route('/')\n",
    "def home():\n",
    "    # Redirect to the about page\n",
    "    return redirect(url_for('about'))\n",
    "\n",
    "# Example route for the about page\n",
    "@app.route('/about')\n",
    "def about():\n",
    "    return 'This is the about page'\n",
    "\n",
    "if __name__ == '__main__':\n",
    "    app.run()"
   ]
  },
  {
   "cell_type": "markdown",
   "id": "922930d2-485d-44a3-8322-9bfa445368b7",
   "metadata": {
    "tags": []
   },
   "source": [
    "<img src=\"./ASSGNMT_20feb_Q3.png\">"
   ]
  },
  {
   "cell_type": "markdown",
   "id": "4b013bc8-63d9-4542-96d7-e572f6c217d4",
   "metadata": {},
   "source": [
    "<a id=\"1\"></a>\n",
    "\n",
    "# <p style=\"padding:10px;background-color:#1ABC9C ;margin:10;color:#000000;font-family:newtimeroman;font-size:100%;text-align:center;border-radius: 10px 10px ;overflow:hidden;font-weight:50\">Question 4</p>"
   ]
  },
  {
   "cell_type": "markdown",
   "id": "26baa534-9e5b-40d4-a6b1-2b26530ab037",
   "metadata": {},
   "source": [
    "### Question 4: What are templates in Flask? Why is the render_template() function used?\n"
   ]
  },
  {
   "cell_type": "markdown",
   "id": "07b0210a-6ab3-4acc-a53b-508e33dbc309",
   "metadata": {},
   "source": [
    "### Answer:\n",
    "### In Flask, templates are used to create dynamic HTML pages. Templates are essentially HTML files that include placeholders for dynamic content. When a user requests a page, Flask populates the placeholders with the appropriate content and sends the complete HTML page to the user's browser.\n",
    "### The render_template() function is used to render templates in Flask. This function takes the name of the template file (e.g., index.html) as an argument, and any additional data that needs to be passed to the template. It then returns the rendered HTML content as a string, which can be sent back to the user's browser as a response."
   ]
  },
  {
   "cell_type": "code",
   "execution_count": 8,
   "id": "bd909d70-a18f-4cd9-940b-427485e2d92c",
   "metadata": {
    "tags": []
   },
   "outputs": [
    {
     "name": "stdout",
     "output_type": "stream",
     "text": [
      " * Serving Flask app 'Flask_2_assignment_20Feb'\n",
      " * Debug mode: off\n"
     ]
    },
    {
     "name": "stderr",
     "output_type": "stream",
     "text": [
      "WARNING: This is a development server. Do not use it in a production deployment. Use a production WSGI server instead.\n",
      " * Running on http://127.0.0.1:5000\n",
      "Press CTRL+C to quit\n",
      "127.0.0.1 - - [19/May/2023 17:44:43] \"GET / HTTP/1.1\" 200 -\n"
     ]
    }
   ],
   "source": [
    "from flask import Flask, render_template\n",
    "\n",
    "app = Flask(__name__)\n",
    "\n",
    "# Example route for the home page\n",
    "@app.route('/')\n",
    "def home():\n",
    "    # Define some data to pass to the template\n",
    "    title = 'Flask Template Example'\n",
    "    content = 'This is an example of using templates in Flask'\n",
    "\n",
    "    # Render the template and pass the data to it\n",
    "    return render_template('index.html', title=title, content=content)\n",
    "\n",
    "if __name__ == '__main__':\n",
    "    app.run()"
   ]
  },
  {
   "cell_type": "markdown",
   "id": "6b2e4c87-abea-42d3-9a4e-c11bee726d36",
   "metadata": {
    "tags": []
   },
   "source": [
    "### In the above example, we define a simple home() route that renders an index.html template. We define two variables (title and content) and pass them to the render_template() function as keyword arguments.\n",
    "\n",
    "### In the index.html template file, we can use placeholders (called Jinja2 templates) to insert the dynamic content. Here's an example of what the index.html file might look like:\n",
    "\n",
    "~~~html\n",
    "<!DOCTYPE html>\n",
    "<html>\n",
    "<head>\n",
    "\t<title>{{ title }}</title>\n",
    "</head>\n",
    "<body>\n",
    "\t<h1>{{ content }}</h1>\n",
    "</body>\n",
    "</html>\n",
    "~~~"
   ]
  },
  {
   "cell_type": "markdown",
   "id": "a85e1fd7-2f63-4af7-b33c-6b826d82bc07",
   "metadata": {},
   "source": [
    "<img src=\"./ASSGNMT_20feb_Q4.png\">"
   ]
  },
  {
   "cell_type": "markdown",
   "id": "78ebc12f-bb3a-48c8-8b24-d96da32e92a0",
   "metadata": {},
   "source": [
    "<a id=\"1\"></a>\n",
    "# <p style=\"padding:10px;background-color:#1ABC9C ;margin:10;color:#000000;font-family:newtimeroman;font-size:100%;text-align:center;border-radius: 10px 10px ;overflow:hidden;font-weight:50\">Question 5</p>"
   ]
  },
  {
   "cell_type": "markdown",
   "id": "6dd47661-1cb7-4bb9-9a1b-1dd56c211a95",
   "metadata": {},
   "source": [
    "### Question 5: Create a simple API. Use Postman to test it. Attach the screenshot of the output in the Jupyter Notebook."
   ]
  },
  {
   "cell_type": "code",
   "execution_count": 5,
   "id": "33897e4f-1b64-462e-a2c4-bd56afe85f3b",
   "metadata": {},
   "outputs": [
    {
     "name": "stdout",
     "output_type": "stream",
     "text": [
      " * Serving Flask app 'Flask_2_assignment_20Feb'\n",
      " * Debug mode: off\n"
     ]
    },
    {
     "name": "stderr",
     "output_type": "stream",
     "text": [
      "WARNING: This is a development server. Do not use it in a production deployment. Use a production WSGI server instead.\n",
      " * Running on http://127.0.0.1:5000\n",
      "Press CTRL+C to quit\n",
      "127.0.0.1 - - [19/May/2023 18:31:34] \"GET / HTTP/1.1\" 200 -\n",
      "127.0.0.1 - - [19/May/2023 18:31:45] \"POST / HTTP/1.1\" 200 -\n",
      "127.0.0.1 - - [19/May/2023 19:02:30] \"GET / HTTP/1.1\" 200 -\n",
      "127.0.0.1 - - [19/May/2023 19:09:40] \"POST / HTTP/1.1\" 400 -\n",
      "127.0.0.1 - - [19/May/2023 19:12:16] \"POST / HTTP/1.1\" 400 -\n",
      "127.0.0.1 - - [19/May/2023 19:14:24] \"GET /quadratic_postman HTTP/1.1\" 405 -\n",
      "127.0.0.1 - - [19/May/2023 19:14:25] \"GET /quadratic_postman HTTP/1.1\" 405 -\n",
      "127.0.0.1 - - [19/May/2023 19:14:39] \"POST /quadratic_postman HTTP/1.1\" 400 -\n",
      "127.0.0.1 - - [19/May/2023 19:14:58] \"POST /quadratic_postman HTTP/1.1\" 200 -\n",
      "127.0.0.1 - - [19/May/2023 19:22:30] \"POST /quadratic_postman HTTP/1.1\" 200 -\n"
     ]
    }
   ],
   "source": [
    "from flask import Flask, render_template, request, jsonify\n",
    "\n",
    "app = Flask(__name__)\n",
    "\n",
    "@app.route('/', methods=['GET', 'POST'])\n",
    "def quadratic_solver():\n",
    "    if request.method == 'POST':\n",
    "        a = float(request.form['a'])\n",
    "        b = float(request.form['b'])\n",
    "        c = float(request.form['c'])\n",
    "        delta = (b**2) - 4*a*c\n",
    "        if delta < 0:\n",
    "            result = f\"The quadratic equation : {a}*x^2 + {b}*x + {c} has no real roots.\"\n",
    "        elif delta == 0:\n",
    "            x = (-b) / (2*a)\n",
    "            result = f\"The quadratic equation : {a}*x^2 + {b}*x + {c} has one real root: {str(x)}\"\n",
    "        else:\n",
    "            x1 = (-b + delta**(1/2)) / (2*a)\n",
    "            x2 = (-b - delta**(1/2)) / (2*a)\n",
    "            result = f\"The quadratic equation {a}*x^2 + {b}*x + {c} has two real roots: {str(x1)} and {str(x2)}\"\n",
    "        return render_template('quadratic.html', result=result)\n",
    "    else:\n",
    "        return render_template('quadratic.html')\n",
    "    \n",
    "@app.route('/quadratic_postman',methods=['POST'])\n",
    "def quadratic_solver_postman():\n",
    "    if request.method == 'POST':\n",
    "        a = float(request.json['a'])\n",
    "        b = float(request.json['b'])\n",
    "        c = float(request.json['c'])\n",
    "        delta = (b**2) - 4*a*c\n",
    "        if delta < 0:\n",
    "            result = f\"The quadratic equation : {a}*x^2 + {b}*x + {c} has no real roots.\"\n",
    "        elif delta == 0:\n",
    "            x = (-b) / (2*a)\n",
    "            result = f\"The quadratic equation : {a}*x^2 + {b}*x + {c} has one real root: {str(x)}\"\n",
    "        else:\n",
    "            x1 = (-b + delta**(1/2)) / (2*a)\n",
    "            x2 = (-b - delta**(1/2)) / (2*a)\n",
    "            result = f\"The quadratic equation {a}*x^2 + {b}*x + {c} has two real roots: {str(x1)} and {str(x2)}\"\n",
    "        \n",
    "    return jsonify(result)\n",
    "\n",
    "\n",
    "if __name__ == '__main__':\n",
    "    app.run()"
   ]
  },
  {
   "cell_type": "markdown",
   "id": "b7af6aa3-9e5a-495a-9300-73f2543facd0",
   "metadata": {},
   "source": [
    "#### Below is screenshot of my Flask App Homepage"
   ]
  },
  {
   "cell_type": "markdown",
   "id": "7b3c8084-1097-4329-bd76-e420d4a14e23",
   "metadata": {},
   "source": [
    "<img src=\"./ASSGNMT_20feb_Q5_1.png\">"
   ]
  },
  {
   "cell_type": "markdown",
   "id": "4fef5463-87f7-41e6-99d0-cd8a8538b3c0",
   "metadata": {
    "tags": []
   },
   "source": [
    "#### Below is result for solving x^2 - 5*x + 6"
   ]
  },
  {
   "cell_type": "markdown",
   "id": "75ef6b69-b3a0-415b-b7fb-2021b0c430cd",
   "metadata": {
    "tags": []
   },
   "source": [
    "<img src=\"./ASSGNMT_20feb_Q5_2.png\">"
   ]
  },
  {
   "cell_type": "markdown",
   "id": "6aa3318a-97f8-4536-a8d0-b9cd9df595fc",
   "metadata": {
    "tags": []
   },
   "source": [
    "#### Testing the API with postman\n",
    "1. Equation 6.x^2 + 5.x - 6 = 0"
   ]
  },
  {
   "cell_type": "markdown",
   "id": "76c686d6-a238-4be5-9ac7-eabab1c5465d",
   "metadata": {},
   "source": [
    "<img src=\"./ASSGNMT_20feb_Q5_3.png\">"
   ]
  },
  {
   "cell_type": "markdown",
   "id": "7a8b4959-0f6a-44ad-a820-887ebc7c5bef",
   "metadata": {},
   "source": [
    "#### 2: Equation : x^2 + 6.x + 9 = 0"
   ]
  },
  {
   "cell_type": "markdown",
   "id": "25fd2fe8-f348-46d8-bb45-54b242613547",
   "metadata": {},
   "source": [
    "<img src=\"./ASSGNMT_20feb_Q5_4.png\">"
   ]
  },
  {
   "cell_type": "code",
   "execution_count": null,
   "id": "f258bbc1-580a-4811-b9cc-5fcb3e5570d5",
   "metadata": {},
   "outputs": [],
   "source": []
  }
 ],
 "metadata": {
  "kernelspec": {
   "display_name": "Python 3 (ipykernel)",
   "language": "python",
   "name": "python3"
  },
  "language_info": {
   "codemirror_mode": {
    "name": "ipython",
    "version": 3
   },
   "file_extension": ".py",
   "mimetype": "text/x-python",
   "name": "python",
   "nbconvert_exporter": "python",
   "pygments_lexer": "ipython3",
   "version": "3.11.1"
  }
 },
 "nbformat": 4,
 "nbformat_minor": 5
}
